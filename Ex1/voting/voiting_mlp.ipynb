{
 "metadata": {
  "language_info": {
   "codemirror_mode": {
    "name": "ipython",
    "version": 3
   },
   "file_extension": ".py",
   "mimetype": "text/x-python",
   "name": "python",
   "nbconvert_exporter": "python",
   "pygments_lexer": "ipython3",
   "version": "3.7.5-final"
  },
  "orig_nbformat": 2,
  "kernelspec": {
   "name": "python37564bitb5f188b5fd4549769c9ea1e1a366fa0d",
   "display_name": "Python 3.7.5 64-bit"
  }
 },
 "nbformat": 4,
 "nbformat_minor": 2,
 "cells": [
  {
   "cell_type": "code",
   "execution_count": 3,
   "metadata": {},
   "outputs": [],
   "source": [
    "import pandas as pd\n",
    "import seaborn as sns\n",
    "import matplotlib.pyplot as plt\n",
    "import numpy as np\n",
    "from math import sqrt\n",
    "%matplotlib inline\n",
    "\n",
    "from sklearn.neural_network import MLPClassifier\n",
    "from sklearn.datasets import make_classification\n",
    "from sklearn.model_selection import train_test_split\n",
    "from sklearn.metrics import accuracy_score\n",
    "from sklearn.metrics import confusion_matrix\n",
    "import matplotlib.pyplot as plt\n",
    "from matplotlib.colors import ListedColormap\n",
    "from sklearn.pipeline import make_pipeline\n",
    "\n",
    "\n",
    "from sklearn.preprocessing import StandardScaler,PowerTransformer,MinMaxScaler,QuantileTransformer,normalize\n",
    "from sklearn.feature_selection import VarianceThreshold, SelectKBest\n",
    "\n",
    "import functions"
   ]
  },
  {
   "cell_type": "code",
   "execution_count": 4,
   "metadata": {},
   "outputs": [],
   "source": [
    "df_train = pd.read_csv('Datasets/Congressional_Voting/CongressionalVotingID.shuf.train.csv').drop(\"ID\",axis = 1)\n",
    "df_test = pd.read_csv('Datasets/Congressional_Voting/CongressionalVotingID.shuf.test.csv').drop(\"ID\",axis = 1)"
   ]
  },
  {
   "source": [
    "# Data exploration\n",
    "Data consinst out of of class for the classification and the instances are mostly \"y,n,unknown\"."
   ],
   "cell_type": "markdown",
   "metadata": {}
  },
  {
   "source": [
    "# Data preparation"
   ],
   "cell_type": "markdown",
   "metadata": {}
  },
  {
   "cell_type": "code",
   "execution_count": 5,
   "metadata": {},
   "outputs": [],
   "source": [
    "df_train = df_train.replace(\"n\",1)\n",
    "df_train = df_train.replace(\"y\",2)\n",
    "df_train = df_train.replace(\"unknown\",0)\n",
    "\n",
    "df_test = df_test.replace(\"n\",1)\n",
    "df_test = df_test.replace(\"y\",2)\n",
    "df_test = df_test.replace(\"unknown\",0)"
   ]
  },
  {
   "cell_type": "code",
   "execution_count": 6,
   "metadata": {},
   "outputs": [
    {
     "output_type": "execute_result",
     "data": {
      "text/plain": [
       "        class  handicapped-infants  water-project-cost-sharing  \\\n",
       "0  republican                    1                           1   \n",
       "1  republican                    1                           1   \n",
       "2    democrat                    2                           2   \n",
       "3    democrat                    2                           1   \n",
       "4    democrat                    2                           1   \n",
       "\n",
       "   adoption-of-the-budget-resolution  physician-fee-freeze  el-salvador-aid  \\\n",
       "0                                  1                     2                2   \n",
       "1                                  1                     2                2   \n",
       "2                                  2                     1                1   \n",
       "3                                  2                     1                1   \n",
       "4                                  2                     1                1   \n",
       "\n",
       "   religious-groups-in-schools  anti-satellite-test-ban  \\\n",
       "0                            2                        1   \n",
       "1                            1                        1   \n",
       "2                            1                        2   \n",
       "3                            1                        0   \n",
       "4                            1                        2   \n",
       "\n",
       "   aid-to-nicaraguan-contras  mx-missile  immigration  \\\n",
       "0                          1           1            2   \n",
       "1                          1           1            1   \n",
       "2                          2           2            1   \n",
       "3                          2           2            0   \n",
       "4                          2           2            1   \n",
       "\n",
       "   synfuels-crporation-cutback  education-spending  superfund-right-to-sue  \\\n",
       "0                            1                   2                       2   \n",
       "1                            1                   2                       2   \n",
       "2                            2                   1                       1   \n",
       "3                            1                   1                       1   \n",
       "4                            2                   1                       1   \n",
       "\n",
       "   crime  duty-free-exports  export-administration-act-south-africa  \n",
       "0      2                  1                                       2  \n",
       "1      2                  1                                       2  \n",
       "2      1                  2                                       0  \n",
       "3      1                  2                                       0  \n",
       "4      1                  2                                       0  "
      ],
      "text/html": "<div>\n<style scoped>\n    .dataframe tbody tr th:only-of-type {\n        vertical-align: middle;\n    }\n\n    .dataframe tbody tr th {\n        vertical-align: top;\n    }\n\n    .dataframe thead th {\n        text-align: right;\n    }\n</style>\n<table border=\"1\" class=\"dataframe\">\n  <thead>\n    <tr style=\"text-align: right;\">\n      <th></th>\n      <th>class</th>\n      <th>handicapped-infants</th>\n      <th>water-project-cost-sharing</th>\n      <th>adoption-of-the-budget-resolution</th>\n      <th>physician-fee-freeze</th>\n      <th>el-salvador-aid</th>\n      <th>religious-groups-in-schools</th>\n      <th>anti-satellite-test-ban</th>\n      <th>aid-to-nicaraguan-contras</th>\n      <th>mx-missile</th>\n      <th>immigration</th>\n      <th>synfuels-crporation-cutback</th>\n      <th>education-spending</th>\n      <th>superfund-right-to-sue</th>\n      <th>crime</th>\n      <th>duty-free-exports</th>\n      <th>export-administration-act-south-africa</th>\n    </tr>\n  </thead>\n  <tbody>\n    <tr>\n      <th>0</th>\n      <td>republican</td>\n      <td>1</td>\n      <td>1</td>\n      <td>1</td>\n      <td>2</td>\n      <td>2</td>\n      <td>2</td>\n      <td>1</td>\n      <td>1</td>\n      <td>1</td>\n      <td>2</td>\n      <td>1</td>\n      <td>2</td>\n      <td>2</td>\n      <td>2</td>\n      <td>1</td>\n      <td>2</td>\n    </tr>\n    <tr>\n      <th>1</th>\n      <td>republican</td>\n      <td>1</td>\n      <td>1</td>\n      <td>1</td>\n      <td>2</td>\n      <td>2</td>\n      <td>1</td>\n      <td>1</td>\n      <td>1</td>\n      <td>1</td>\n      <td>1</td>\n      <td>1</td>\n      <td>2</td>\n      <td>2</td>\n      <td>2</td>\n      <td>1</td>\n      <td>2</td>\n    </tr>\n    <tr>\n      <th>2</th>\n      <td>democrat</td>\n      <td>2</td>\n      <td>2</td>\n      <td>2</td>\n      <td>1</td>\n      <td>1</td>\n      <td>1</td>\n      <td>2</td>\n      <td>2</td>\n      <td>2</td>\n      <td>1</td>\n      <td>2</td>\n      <td>1</td>\n      <td>1</td>\n      <td>1</td>\n      <td>2</td>\n      <td>0</td>\n    </tr>\n    <tr>\n      <th>3</th>\n      <td>democrat</td>\n      <td>2</td>\n      <td>1</td>\n      <td>2</td>\n      <td>1</td>\n      <td>1</td>\n      <td>1</td>\n      <td>0</td>\n      <td>2</td>\n      <td>2</td>\n      <td>0</td>\n      <td>1</td>\n      <td>1</td>\n      <td>1</td>\n      <td>1</td>\n      <td>2</td>\n      <td>0</td>\n    </tr>\n    <tr>\n      <th>4</th>\n      <td>democrat</td>\n      <td>2</td>\n      <td>1</td>\n      <td>2</td>\n      <td>1</td>\n      <td>1</td>\n      <td>1</td>\n      <td>2</td>\n      <td>2</td>\n      <td>2</td>\n      <td>1</td>\n      <td>2</td>\n      <td>1</td>\n      <td>1</td>\n      <td>1</td>\n      <td>2</td>\n      <td>0</td>\n    </tr>\n  </tbody>\n</table>\n</div>"
     },
     "metadata": {},
     "execution_count": 6
    }
   ],
   "source": [
    "df_train.head()"
   ]
  },
  {
   "cell_type": "code",
   "execution_count": 7,
   "metadata": {},
   "outputs": [],
   "source": [
    "X_lrn = df_train.loc[:,\"handicapped-infants\":\"export-administration-act-south-africa\"]\n",
    "Y_lrn = df_train.loc[:,\"class\":\"class\"]"
   ]
  },
  {
   "cell_type": "code",
   "execution_count": 8,
   "metadata": {},
   "outputs": [],
   "source": [
    "#X_lrn = KBest(X_lrn, Y_lrn)"
   ]
  },
  {
   "cell_type": "code",
   "execution_count": 9,
   "metadata": {},
   "outputs": [],
   "source": [
    "X_train, X_valid, Y_train, Y_valid = train_test_split(X_lrn, Y_lrn, test_size=0.1)"
   ]
  },
  {
   "cell_type": "code",
   "execution_count": 10,
   "metadata": {},
   "outputs": [],
   "source": [
    "#scaler = StandardScaler()  \n",
    "#scaler.fit(X_train) \n",
    "#X_train = scaler.transform(X_train) \n",
    "#X_valid = scaler.transform(X_valid)  "
   ]
  },
  {
   "source": [
    "# Training"
   ],
   "cell_type": "markdown",
   "metadata": {}
  },
  {
   "cell_type": "code",
   "execution_count": 11,
   "metadata": {},
   "outputs": [],
   "source": [
    "alphas = [1e-3,1e-2,1e-1,1,10,100] \n",
    "activation = [\"relu\",\"identity\",\"logistic\",\"tanh\"]\n",
    "solver = [\"sgd\",\"adam\"]\n",
    "learning_rate = [\"constant\"]\n",
    "h = [100,300,500]\n",
    "maxiter = 1000\n",
    "scaler = [\"standart\", \"norm\", \"minmax\", \"quantile\"]"
   ]
  },
  {
   "cell_type": "code",
   "execution_count": 12,
   "metadata": {},
   "outputs": [],
   "source": [
    "alphas = [1e-3] \n",
    "activation = [\"relu\",\"tanh\"]\n",
    "solver = [\"adam\"]\n",
    "learning_rate = [\"constant\"]\n",
    "h = [100]\n",
    "maxiter = 1000\n",
    "scaler = [\"standart\", \"norm\", \"minmax\", \"quantile\"]"
   ]
  },
  {
   "cell_type": "code",
   "execution_count": 13,
   "metadata": {},
   "outputs": [],
   "source": [
    "#clf = MLPClassifier(hidden_layer_sizes=(1000),alpha=1,activation=\"relu\",solver=\"adam\",max_iter=2000)"
   ]
  },
  {
   "cell_type": "code",
   "execution_count": 14,
   "metadata": {},
   "outputs": [],
   "source": [
    "#clf.fit(X_train, Y_train)\n",
    "#Y_pred = clf.predict(X_valid)\n",
    "#print(accuracy_score(Y_valid, Y_pred))"
   ]
  },
  {
   "cell_type": "code",
   "execution_count": 15,
   "metadata": {},
   "outputs": [],
   "source": [
    "Y_lrn = Y_lrn.drop([217])"
   ]
  },
  {
   "cell_type": "code",
   "execution_count": 18,
   "metadata": {},
   "outputs": [
    {
     "output_type": "stream",
     "name": "stdout",
     "text": [
      "Hidden layers:  100 |\talpha:  0.001 |\tmode:  relu |\tsolver:  adam |\tscore:  0.5668202764976958 |\tscaler:  standart\n",
      "Hidden layers:  100 |\talpha:  0.001 |\tmode:  relu |\tsolver:  adam |\tscore:  0.576036866359447 |\tscaler:  norm\n",
      "Hidden layers:  100 |\talpha:  0.001 |\tmode:  relu |\tsolver:  adam |\tscore:  0.5576036866359447 |\tscaler:  minmax\n",
      "Hidden layers:  100 |\talpha:  0.001 |\tmode:  relu |\tsolver:  adam |\tscore:  0.5714285714285714 |\tscaler:  quantile\n",
      "Hidden layers:  100 |\talpha:  0.001 |\tmode:  tanh |\tsolver:  adam |\tscore:  0.5529953917050692 |\tscaler:  standart\n",
      "Hidden layers:  100 |\talpha:  0.001 |\tmode:  tanh |\tsolver:  adam |\tscore:  0.5714285714285714 |\tscaler:  norm\n",
      "Hidden layers:  100 |\talpha:  0.001 |\tmode:  tanh |\tsolver:  adam |\tscore:  0.5714285714285714 |\tscaler:  minmax\n",
      "Hidden layers:  100 |\talpha:  0.001 |\tmode:  tanh |\tsolver:  adam |\tscore:  0.5806451612903226 |\tscaler:  quantile\n",
      "\n",
      "best_score: 0.5806451612903226\n",
      "best_params: {'h': 100, 'alpha': 0.001, 'mode': 'tanh', 'solver': 'adam', 'score': 0.5806451612903226, 'scaler': 'quantile'}\n"
     ]
    }
   ],
   "source": [
    "results = functions.MLP_Search(alphas,activation,solver,h,maxiter,X_train, df_test, Y_train, Y_lrn, scaler)\n",
    "best_params_SC = functions.FindBestScore(results)"
   ]
  },
  {
   "cell_type": "code",
   "execution_count": 20,
   "metadata": {},
   "outputs": [
    {
     "output_type": "stream",
     "name": "stdout",
     "text": [
      "0.5668202764976958\n"
     ]
    }
   ],
   "source": [
    "X_train, df_test = functions.DefinScaler(best_params_SC[\"scaler\"], X_train, df_test)\n",
    "clf = MLPClassifier(hidden_layer_sizes=(best_params_SC[\"h\"]),alpha=best_params_SC[\"alpha\"],activation=best_params_SC[\"mode\"],solver=best_params_SC[\"solver\"],max_iter=2000)\n",
    "clf.fit(X_train, Y_train)\n",
    "Y_pred = clf.predict(df_test)\n",
    "print(accuracy_score(Y_lrn, Y_pred))"
   ]
  },
  {
   "source": [
    "# Validation"
   ],
   "cell_type": "markdown",
   "metadata": {}
  },
  {
   "cell_type": "code",
   "execution_count": null,
   "metadata": {},
   "outputs": [],
   "source": [
    "df_test = df_test.replace(\"n\",1)\n",
    "df_test = df_test.replace(\"y\",2)\n",
    "df_test = df_test.replace(\"unknown\",0)\n",
    "df_test\n",
    "#df_test = scaler.transform(df_test) "
   ]
  },
  {
   "cell_type": "code",
   "execution_count": null,
   "metadata": {},
   "outputs": [],
   "source": [
    "#X_train = scaler.transform(X_train) \n",
    "Y_pred = clf.predict(df_test)"
   ]
  },
  {
   "cell_type": "code",
   "execution_count": null,
   "metadata": {},
   "outputs": [],
   "source": [
    "Y_lrn = Y_lrn.drop([217])\n",
    "print(accuracy_score(Y_lrn, Y_pred))"
   ]
  },
  {
   "source": [
    "# Filepreparation for the Kagglecompetition"
   ],
   "cell_type": "markdown",
   "metadata": {}
  },
  {
   "cell_type": "code",
   "execution_count": null,
   "metadata": {},
   "outputs": [],
   "source": [
    "#Y_pred = Y_pred.drop(\"ID\",axis = 1)\n",
    "solution_data = list(zip(list(range(0,217)), Y_pred))"
   ]
  },
  {
   "cell_type": "code",
   "execution_count": null,
   "metadata": {},
   "outputs": [],
   "source": [
    "solution_table = pd.DataFrame(solution_data, columns=['ID', 'Class'])\n",
    "solution_table.head()"
   ]
  },
  {
   "cell_type": "code",
   "execution_count": null,
   "metadata": {},
   "outputs": [],
   "source": [
    "solution_table.to_csv(f\"results/voting/SC_MLP.csv\", index=False)"
   ]
  },
  {
   "cell_type": "code",
   "execution_count": null,
   "metadata": {},
   "outputs": [],
   "source": [
    "Y_lrn"
   ]
  },
  {
   "cell_type": "code",
   "execution_count": null,
   "metadata": {},
   "outputs": [],
   "source": []
  }
 ]
}