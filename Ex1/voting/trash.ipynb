{
 "metadata": {
  "language_info": {
   "codemirror_mode": {
    "name": "ipython",
    "version": 3
   },
   "file_extension": ".py",
   "mimetype": "text/x-python",
   "name": "python",
   "nbconvert_exporter": "python",
   "pygments_lexer": "ipython3",
   "version": 3
  },
  "orig_nbformat": 2
 },
 "nbformat": 4,
 "nbformat_minor": 2,
 "cells": [
  {
   "cell_type": "code",
   "execution_count": null,
   "metadata": {},
   "outputs": [],
   "source": [
    "alphas = [1e-3,1e-2,1e-1,1,10,100] \n",
    "activation = [\"relu\",\"identity\",\"logistic\",\"tanh\"]\n",
    "solver = [\"sgd\",\"adam\"]\n",
    "learning_rate = [\"constant\"]\n",
    "h = [100,300,500]\n",
    "maxiter = 1000\n",
    "scaler = [\"standart\", \"norm\", \"minmax\", \"quantile\"]"
   ]
  },
  {
   "cell_type": "code",
   "execution_count": null,
   "metadata": {},
   "outputs": [],
   "source": [
    "#clf = MLPClassifier(hidden_layer_sizes=(1000),alpha=1,activation=\"relu\",solver=\"adam\",max_iter=2000)"
   ]
  },
  {
   "cell_type": "code",
   "execution_count": null,
   "metadata": {},
   "outputs": [],
   "source": [
    "#clf.fit(X_train, Y_train)\n",
    "#Y_pred = clf.predict(X_valid)\n",
    "#print(accuracy_score(Y_valid, Y_pred))"
   ]
  },
  {
   "cell_type": "code",
   "execution_count": null,
   "metadata": {},
   "outputs": [],
   "source": [
    "Y_lrn = Y_lrn.drop([217])"
   ]
  },
  {
   "cell_type": "code",
   "execution_count": null,
   "metadata": {},
   "outputs": [],
   "source": [
    "results = functions.MLP_Search(alphas,activation,solver,h,maxiter,X_train, X_valid, Y_train, Y_valid, scaler)\n",
    "best_params_SC = functions.FindBestScore(results)"
   ]
  },
  {
   "cell_type": "code",
   "execution_count": null,
   "metadata": {},
   "outputs": [],
   "source": [
    "#results = functions.MLP_Search(alphas,activation,solver,h,maxiter,X_train, df_test, Y_train, Y_lrn, scaler)\n",
    "#best_params_SC = functions.FindBestScore(results)"
   ]
  },
  {
   "cell_type": "code",
   "execution_count": null,
   "metadata": {},
   "outputs": [],
   "source": [
    "start = time.time()\n",
    "X_train, df_test = functions.DefinScaler(best_params_SC[\"scaler\"], X_train, df_test)\n",
    "clf = MLPClassifier(hidden_layer_sizes=(best_params_SC[\"h\"]),alpha=best_params_SC[\"alpha\"],activation=best_params_SC[\"mode\"],solver=best_params_SC[\"solver\"],max_iter=2000)\n",
    "clf.fit(X_train, Y_train)\n",
    "Y_pred = clf.predict(df_test)\n",
    "ende = time.time()\n",
    "print(accuracy_score(Y_lrn, Y_pred))\n",
    "print('{:5.3f}s'.format(ende-start))"
   ]
  },
  {
   "cell_type": "code",
   "execution_count": null,
   "metadata": {},
   "outputs": [],
   "source": [
    "start = time.time()\n",
    "#X_train, df_test = functions.DefinScaler(best_params_SC[\"scaler\"], X_train, df_test)\n",
    "clf = MLPClassifier(hidden_layer_sizes=(3000,3000),alpha=0.1,activation=\"relu\",solver=\"adam\",max_iter=2000)\n",
    "clf.fit(X_train, Y_train)\n",
    "Y_pred = clf.predict(X_valid)\n",
    "ende = time.time()\n",
    "print(accuracy_score(Y_valid, Y_pred),'{:5.3f}s'.format(ende-start))\n",
    "\n",
    "#clf = MLPClassifier(hidden_layer_sizes=(2000),alpha=0.1,activation=\"relu\",solver=\"adam\",max_iter=2000)       kaggle 0.9901\n",
    "#clf = MLPClassifier(hidden_layer_sizes=(3000),alpha=0.1,activation=\"relu\",solver=\"adam\",max_iter=2000)       kaggle 0.9901\n",
    "#clf = MLPClassifier(hidden_layer_sizes=(3000,3000),alpha=0.1,activation=\"relu\",solver=\"adam\",max_iter=2000)       kaggle 0.9801"
   ]
  },
  {
   "cell_type": "code",
   "execution_count": null,
   "metadata": {},
   "outputs": [],
   "source": [
    "print(\"Heat map: \")\n",
    "plt.figure()\n",
    "cm = confusion_matrix(Y_lrn.Class, Y_pred)\n",
    "sns.heatmap(cm, center=True)"
   ]
  },
  {
   "cell_type": "code",
   "execution_count": null,
   "metadata": {},
   "outputs": [],
   "source": [
    "def Statistic(Y_valid,Y_pred,name):\n",
    "    print(\"Heat map: \")\n",
    "    plt.figure()\n",
    "    cm = confusion_matrix(Y_valid.Class, Y_pred)\n",
    "    sns.heatmap(cm, center=True)\n",
    "    plt.savefig(\"Heatmap {}\".format(name))\n",
    "    plt.figure()\n",
    "    sns.distplot(Y_valid.Class)\n",
    "    sns.distplot(Y_pred, color=\"red\")\n",
    "    plt.savefig(\"difference between prediction and validation {}\".format(name))\n",
    "\n",
    "    plt.figure()\n",
    "    sns.distplot(Y_valid.Class-Y_pred)\n",
    "    plt.savefig(\"total difference between prediction and validation {}\".format(name))\n",
    "    print(sqrt(mean_squared_error(Y_valid.Class, Y_pred)))\n",
    "\n",
    "    Y_pred_Norm = Y_pred / np.linalg.norm(Y_pred)\n",
    "    Y_valid_Norm = Y_valid / np.linalg.norm(Y_valid.Class)\n",
    "\n",
    "    print(sqrt(mean_squared_error(Y_pred_Norm, Y_valid_Norm)))"
   ]
  },
  {
   "cell_type": "code",
   "execution_count": null,
   "metadata": {},
   "outputs": [],
   "source": [
    "functions.Statistic(Y_lrn,Y_pred,\"MLP GB_SC\")"
   ]
  },
  {
   "cell_type": "code",
   "execution_count": null,
   "metadata": {},
   "outputs": [],
   "source": [
    "df_examp = pd.read_csv(datapath_examp)\n",
    "ID_df = df_examp[\"ID\"]\n",
    "ID_df"
   ]
  },
  {
   "cell_type": "code",
   "execution_count": null,
   "metadata": {},
   "outputs": [],
   "source": [
    "import pandas as pd\n",
    "import seaborn as sns\n",
    "import matplotlib.pyplot as plt\n",
    "import numpy as np\n",
    "from math import sqrt\n",
    "from math import log2\n",
    "%matplotlib inline\n",
    "\n",
    "from sklearn.neural_network import MLPClassifier as MLP\n",
    "from sklearn.ensemble import RandomForestClassifier as RFC\n",
    "from sklearn.neighbors import KNeighborsClassifier as KNN\n",
    "from sklearn.datasets import make_classification\n",
    "from sklearn.model_selection import train_test_split\n",
    "from sklearn.metrics import accuracy_score\n",
    "from sklearn.metrics import confusion_matrix\n",
    "import matplotlib.pyplot as plt\n",
    "from matplotlib.colors import ListedColormap\n",
    "from sklearn.pipeline import make_pipeline\n",
    "import time\n",
    "import matplotlib as mpl\n",
    "\n",
    "\n",
    "from sklearn.preprocessing import StandardScaler,PowerTransformer,MinMaxScaler,QuantileTransformer,normalize\n",
    "from sklearn.feature_selection import VarianceThreshold, SelectKBest\n",
    "\n",
    "import functions\n",
    "import pathlib\n",
    "\n",
    "\n",
    "import os,sys,inspect\n",
    "currentdir = os.path.dirname(os.path.abspath(inspect.getfile(inspect.currentframe())))\n",
    "parentdir = os.path.dirname(currentdir)\n",
    "sys.path.insert(0,parentdir)\n",
    "from common import misc\n",
    "from common.data_parser import *\n",
    "from common.model_trainer_alex import *\n",
    "from common.misc import *\n",
    "from config import *"
   ]
  }
 ]
}