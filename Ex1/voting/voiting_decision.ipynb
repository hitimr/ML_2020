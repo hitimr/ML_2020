{
 "metadata": {
  "language_info": {
   "codemirror_mode": {
    "name": "ipython",
    "version": 3
   },
   "file_extension": ".py",
   "mimetype": "text/x-python",
   "name": "python",
   "nbconvert_exporter": "python",
   "pygments_lexer": "ipython3",
   "version": "3.7.5-final"
  },
  "orig_nbformat": 2,
  "kernelspec": {
   "name": "python37564bitb5f188b5fd4549769c9ea1e1a366fa0d",
   "display_name": "Python 3.7.5 64-bit"
  }
 },
 "nbformat": 4,
 "nbformat_minor": 2,
 "cells": [
  {
   "cell_type": "code",
   "execution_count": 1,
   "metadata": {},
   "outputs": [],
   "source": [
    "import pandas as pd\n",
    "import seaborn as sns\n",
    "import matplotlib.pyplot as plt\n",
    "import numpy as np\n",
    "%matplotlib inline\n",
    "\n",
    "from sklearn.neural_network import MLPClassifier\n",
    "from sklearn.datasets import make_classification\n",
    "from sklearn.model_selection import train_test_split\n",
    "from sklearn.metrics import accuracy_score\n",
    "from sklearn.metrics import confusion_matrix\n",
    "import matplotlib.pyplot as plt\n",
    "from matplotlib.colors import ListedColormap\n",
    "from sklearn.pipeline import make_pipeline\n",
    "\n",
    "from sklearn.preprocessing import StandardScaler,PowerTransformer,MinMaxScaler,QuantileTransformer\n",
    "\n",
    "from sklearn.feature_selection import VarianceThreshold, SelectKBest\n",
    "\n",
    "from sklearn.metrics import mean_squared_error\n",
    "from math import sqrt\n",
    "from sklearn.preprocessing import normalize"
   ]
  },
  {
   "cell_type": "code",
   "execution_count": 2,
   "metadata": {},
   "outputs": [
    {
     "output_type": "execute_result",
     "data": {
      "text/plain": [
       "  handicapped-infants water-project-cost-sharing  \\\n",
       "0                   y                          y   \n",
       "1                   n                          y   \n",
       "2                   y                          n   \n",
       "3                   n                          y   \n",
       "4                   n                          n   \n",
       "\n",
       "  adoption-of-the-budget-resolution physician-fee-freeze el-salvador-aid  \\\n",
       "0                                 y                    n               y   \n",
       "1                                 n                    y               y   \n",
       "2                                 y                    n               n   \n",
       "3                                 n                    y               y   \n",
       "4                                 y                    n               n   \n",
       "\n",
       "  religious-groups-in-schools anti-satellite-test-ban  \\\n",
       "0                           y                       y   \n",
       "1                           y                       n   \n",
       "2                           n                       y   \n",
       "3                           y                       n   \n",
       "4                           y                       y   \n",
       "\n",
       "  aid-to-nicaraguan-contras mx-missile immigration  \\\n",
       "0                         y          n           y   \n",
       "1                         n          n           n   \n",
       "2                         n          y           y   \n",
       "3                         n          n           n   \n",
       "4                         y          y           y   \n",
       "\n",
       "  synfuels-crporation-cutback education-spending superfund-right-to-sue  \\\n",
       "0                           y                  n                      n   \n",
       "1                           n                  y                unknown   \n",
       "2                           y                  n                      n   \n",
       "3                           n                  y                      y   \n",
       "4                           y                  n                      n   \n",
       "\n",
       "     crime duty-free-exports export-administration-act-south-africa  \n",
       "0        n                 y                                unknown  \n",
       "1  unknown                 n                                unknown  \n",
       "2        n                 y                                      y  \n",
       "3        y                 n                                      y  \n",
       "4        n           unknown                                      y  "
      ],
      "text/html": "<div>\n<style scoped>\n    .dataframe tbody tr th:only-of-type {\n        vertical-align: middle;\n    }\n\n    .dataframe tbody tr th {\n        vertical-align: top;\n    }\n\n    .dataframe thead th {\n        text-align: right;\n    }\n</style>\n<table border=\"1\" class=\"dataframe\">\n  <thead>\n    <tr style=\"text-align: right;\">\n      <th></th>\n      <th>handicapped-infants</th>\n      <th>water-project-cost-sharing</th>\n      <th>adoption-of-the-budget-resolution</th>\n      <th>physician-fee-freeze</th>\n      <th>el-salvador-aid</th>\n      <th>religious-groups-in-schools</th>\n      <th>anti-satellite-test-ban</th>\n      <th>aid-to-nicaraguan-contras</th>\n      <th>mx-missile</th>\n      <th>immigration</th>\n      <th>synfuels-crporation-cutback</th>\n      <th>education-spending</th>\n      <th>superfund-right-to-sue</th>\n      <th>crime</th>\n      <th>duty-free-exports</th>\n      <th>export-administration-act-south-africa</th>\n    </tr>\n  </thead>\n  <tbody>\n    <tr>\n      <th>0</th>\n      <td>y</td>\n      <td>y</td>\n      <td>y</td>\n      <td>n</td>\n      <td>y</td>\n      <td>y</td>\n      <td>y</td>\n      <td>y</td>\n      <td>n</td>\n      <td>y</td>\n      <td>y</td>\n      <td>n</td>\n      <td>n</td>\n      <td>n</td>\n      <td>y</td>\n      <td>unknown</td>\n    </tr>\n    <tr>\n      <th>1</th>\n      <td>n</td>\n      <td>y</td>\n      <td>n</td>\n      <td>y</td>\n      <td>y</td>\n      <td>y</td>\n      <td>n</td>\n      <td>n</td>\n      <td>n</td>\n      <td>n</td>\n      <td>n</td>\n      <td>y</td>\n      <td>unknown</td>\n      <td>unknown</td>\n      <td>n</td>\n      <td>unknown</td>\n    </tr>\n    <tr>\n      <th>2</th>\n      <td>y</td>\n      <td>n</td>\n      <td>y</td>\n      <td>n</td>\n      <td>n</td>\n      <td>n</td>\n      <td>y</td>\n      <td>n</td>\n      <td>y</td>\n      <td>y</td>\n      <td>y</td>\n      <td>n</td>\n      <td>n</td>\n      <td>n</td>\n      <td>y</td>\n      <td>y</td>\n    </tr>\n    <tr>\n      <th>3</th>\n      <td>n</td>\n      <td>y</td>\n      <td>n</td>\n      <td>y</td>\n      <td>y</td>\n      <td>y</td>\n      <td>n</td>\n      <td>n</td>\n      <td>n</td>\n      <td>n</td>\n      <td>n</td>\n      <td>y</td>\n      <td>y</td>\n      <td>y</td>\n      <td>n</td>\n      <td>y</td>\n    </tr>\n    <tr>\n      <th>4</th>\n      <td>n</td>\n      <td>n</td>\n      <td>y</td>\n      <td>n</td>\n      <td>n</td>\n      <td>y</td>\n      <td>y</td>\n      <td>y</td>\n      <td>y</td>\n      <td>y</td>\n      <td>y</td>\n      <td>n</td>\n      <td>n</td>\n      <td>n</td>\n      <td>unknown</td>\n      <td>y</td>\n    </tr>\n  </tbody>\n</table>\n</div>"
     },
     "metadata": {},
     "execution_count": 2
    }
   ],
   "source": [
    "df = pd.read_csv('Datasets/Congressional_Voting/CongressionalVotingID.shuf.train.csv')\n",
    "df = df.replace('n',1)\n",
    "df = df.replace('y', 2)\n",
    "df = df.replace('unknown', 0)\n",
    "df.head()\n",
    "\n",
    "X_test = pd.read_csv('Datasets/Congressional_Voting/CongressionalVotingID.shuf.test.csv').drop('ID', axis=1)\n",
    "X_test.head()\n"
   ]
  },
  {
   "cell_type": "code",
   "execution_count": null,
   "metadata": {},
   "outputs": [],
   "source": [
    "df.head()\n"
   ]
  },
  {
   "cell_type": "code",
   "execution_count": null,
   "metadata": {},
   "outputs": [],
   "source": [
    "df"
   ]
  },
  {
   "cell_type": "code",
   "execution_count": 5,
   "metadata": {},
   "outputs": [
    {
     "output_type": "execute_result",
     "data": {
      "text/plain": [
       "     handicapped-infants  water-project-cost-sharing  \\\n",
       "0                      1                           1   \n",
       "1                      1                           1   \n",
       "2                      2                           2   \n",
       "3                      2                           1   \n",
       "4                      2                           1   \n",
       "..                   ...                         ...   \n",
       "213                    2                           2   \n",
       "214                    2                           2   \n",
       "215                    1                           1   \n",
       "216                    1                           2   \n",
       "217                    1                           2   \n",
       "\n",
       "     adoption-of-the-budget-resolution  physician-fee-freeze  el-salvador-aid  \\\n",
       "0                                    1                     2                2   \n",
       "1                                    1                     2                2   \n",
       "2                                    2                     1                1   \n",
       "3                                    2                     1                1   \n",
       "4                                    2                     1                1   \n",
       "..                                 ...                   ...              ...   \n",
       "213                                  2                     1                2   \n",
       "214                                  2                     2                2   \n",
       "215                                  1                     2                2   \n",
       "216                                  1                     2                2   \n",
       "217                                  2                     2                2   \n",
       "\n",
       "     religious-groups-in-schools  anti-satellite-test-ban  \\\n",
       "0                              2                        1   \n",
       "1                              1                        1   \n",
       "2                              1                        2   \n",
       "3                              1                        0   \n",
       "4                              1                        2   \n",
       "..                           ...                      ...   \n",
       "213                            2                        1   \n",
       "214                            2                        2   \n",
       "215                            2                        1   \n",
       "216                            2                        2   \n",
       "217                            2                        2   \n",
       "\n",
       "     aid-to-nicaraguan-contras  mx-missile  immigration  \\\n",
       "0                            1           1            2   \n",
       "1                            1           1            1   \n",
       "2                            2           2            1   \n",
       "3                            2           2            0   \n",
       "4                            2           2            1   \n",
       "..                         ...         ...          ...   \n",
       "213                          2           1            1   \n",
       "214                          2           1            2   \n",
       "215                          1           1            1   \n",
       "216                          1           1            1   \n",
       "217                          1           2            2   \n",
       "\n",
       "     synfuels-crporation-cutback  education-spending  superfund-right-to-sue  \\\n",
       "0                              1                   2                       2   \n",
       "1                              1                   2                       2   \n",
       "2                              2                   1                       1   \n",
       "3                              1                   1                       1   \n",
       "4                              2                   1                       1   \n",
       "..                           ...                 ...                     ...   \n",
       "213                            2                   1                       2   \n",
       "214                            1                   1                       2   \n",
       "215                            1                   2                       2   \n",
       "216                            1                   2                       2   \n",
       "217                            1                   2                       2   \n",
       "\n",
       "     crime  duty-free-exports  export-administration-act-south-africa  \n",
       "0        2                  1                                       2  \n",
       "1        2                  1                                       2  \n",
       "2        1                  2                                       0  \n",
       "3        1                  2                                       0  \n",
       "4        1                  2                                       0  \n",
       "..     ...                ...                                     ...  \n",
       "213      1                  2                                       2  \n",
       "214      2                  1                                       2  \n",
       "215      2                  1                                       1  \n",
       "216      2                  1                                       2  \n",
       "217      2                  1                                       2  \n",
       "\n",
       "[218 rows x 16 columns]"
      ],
      "text/html": "<div>\n<style scoped>\n    .dataframe tbody tr th:only-of-type {\n        vertical-align: middle;\n    }\n\n    .dataframe tbody tr th {\n        vertical-align: top;\n    }\n\n    .dataframe thead th {\n        text-align: right;\n    }\n</style>\n<table border=\"1\" class=\"dataframe\">\n  <thead>\n    <tr style=\"text-align: right;\">\n      <th></th>\n      <th>handicapped-infants</th>\n      <th>water-project-cost-sharing</th>\n      <th>adoption-of-the-budget-resolution</th>\n      <th>physician-fee-freeze</th>\n      <th>el-salvador-aid</th>\n      <th>religious-groups-in-schools</th>\n      <th>anti-satellite-test-ban</th>\n      <th>aid-to-nicaraguan-contras</th>\n      <th>mx-missile</th>\n      <th>immigration</th>\n      <th>synfuels-crporation-cutback</th>\n      <th>education-spending</th>\n      <th>superfund-right-to-sue</th>\n      <th>crime</th>\n      <th>duty-free-exports</th>\n      <th>export-administration-act-south-africa</th>\n    </tr>\n  </thead>\n  <tbody>\n    <tr>\n      <th>0</th>\n      <td>1</td>\n      <td>1</td>\n      <td>1</td>\n      <td>2</td>\n      <td>2</td>\n      <td>2</td>\n      <td>1</td>\n      <td>1</td>\n      <td>1</td>\n      <td>2</td>\n      <td>1</td>\n      <td>2</td>\n      <td>2</td>\n      <td>2</td>\n      <td>1</td>\n      <td>2</td>\n    </tr>\n    <tr>\n      <th>1</th>\n      <td>1</td>\n      <td>1</td>\n      <td>1</td>\n      <td>2</td>\n      <td>2</td>\n      <td>1</td>\n      <td>1</td>\n      <td>1</td>\n      <td>1</td>\n      <td>1</td>\n      <td>1</td>\n      <td>2</td>\n      <td>2</td>\n      <td>2</td>\n      <td>1</td>\n      <td>2</td>\n    </tr>\n    <tr>\n      <th>2</th>\n      <td>2</td>\n      <td>2</td>\n      <td>2</td>\n      <td>1</td>\n      <td>1</td>\n      <td>1</td>\n      <td>2</td>\n      <td>2</td>\n      <td>2</td>\n      <td>1</td>\n      <td>2</td>\n      <td>1</td>\n      <td>1</td>\n      <td>1</td>\n      <td>2</td>\n      <td>0</td>\n    </tr>\n    <tr>\n      <th>3</th>\n      <td>2</td>\n      <td>1</td>\n      <td>2</td>\n      <td>1</td>\n      <td>1</td>\n      <td>1</td>\n      <td>0</td>\n      <td>2</td>\n      <td>2</td>\n      <td>0</td>\n      <td>1</td>\n      <td>1</td>\n      <td>1</td>\n      <td>1</td>\n      <td>2</td>\n      <td>0</td>\n    </tr>\n    <tr>\n      <th>4</th>\n      <td>2</td>\n      <td>1</td>\n      <td>2</td>\n      <td>1</td>\n      <td>1</td>\n      <td>1</td>\n      <td>2</td>\n      <td>2</td>\n      <td>2</td>\n      <td>1</td>\n      <td>2</td>\n      <td>1</td>\n      <td>1</td>\n      <td>1</td>\n      <td>2</td>\n      <td>0</td>\n    </tr>\n    <tr>\n      <th>...</th>\n      <td>...</td>\n      <td>...</td>\n      <td>...</td>\n      <td>...</td>\n      <td>...</td>\n      <td>...</td>\n      <td>...</td>\n      <td>...</td>\n      <td>...</td>\n      <td>...</td>\n      <td>...</td>\n      <td>...</td>\n      <td>...</td>\n      <td>...</td>\n      <td>...</td>\n      <td>...</td>\n    </tr>\n    <tr>\n      <th>213</th>\n      <td>2</td>\n      <td>2</td>\n      <td>2</td>\n      <td>1</td>\n      <td>2</td>\n      <td>2</td>\n      <td>1</td>\n      <td>2</td>\n      <td>1</td>\n      <td>1</td>\n      <td>2</td>\n      <td>1</td>\n      <td>2</td>\n      <td>1</td>\n      <td>2</td>\n      <td>2</td>\n    </tr>\n    <tr>\n      <th>214</th>\n      <td>2</td>\n      <td>2</td>\n      <td>2</td>\n      <td>2</td>\n      <td>2</td>\n      <td>2</td>\n      <td>2</td>\n      <td>2</td>\n      <td>1</td>\n      <td>2</td>\n      <td>1</td>\n      <td>1</td>\n      <td>2</td>\n      <td>2</td>\n      <td>1</td>\n      <td>2</td>\n    </tr>\n    <tr>\n      <th>215</th>\n      <td>1</td>\n      <td>1</td>\n      <td>1</td>\n      <td>2</td>\n      <td>2</td>\n      <td>2</td>\n      <td>1</td>\n      <td>1</td>\n      <td>1</td>\n      <td>1</td>\n      <td>1</td>\n      <td>2</td>\n      <td>2</td>\n      <td>2</td>\n      <td>1</td>\n      <td>1</td>\n    </tr>\n    <tr>\n      <th>216</th>\n      <td>1</td>\n      <td>2</td>\n      <td>1</td>\n      <td>2</td>\n      <td>2</td>\n      <td>2</td>\n      <td>2</td>\n      <td>1</td>\n      <td>1</td>\n      <td>1</td>\n      <td>1</td>\n      <td>2</td>\n      <td>2</td>\n      <td>2</td>\n      <td>1</td>\n      <td>2</td>\n    </tr>\n    <tr>\n      <th>217</th>\n      <td>1</td>\n      <td>2</td>\n      <td>2</td>\n      <td>2</td>\n      <td>2</td>\n      <td>2</td>\n      <td>2</td>\n      <td>1</td>\n      <td>2</td>\n      <td>2</td>\n      <td>1</td>\n      <td>2</td>\n      <td>2</td>\n      <td>2</td>\n      <td>1</td>\n      <td>2</td>\n    </tr>\n  </tbody>\n</table>\n<p>218 rows × 16 columns</p>\n</div>"
     },
     "metadata": {},
     "execution_count": 5
    }
   ],
   "source": [
    "X_lrn = df.loc[:,'handicapped-infants':'export-administration-act-south-africa']\n",
    "Y_lrn = df.loc[:,'class':'class']#.astype(float)\n",
    "X_lrn"
   ]
  },
  {
   "cell_type": "code",
   "execution_count": 6,
   "metadata": {},
   "outputs": [],
   "source": [
    "X_train, X_valid, Y_train, Y_valid = train_test_split(X_lrn, Y_lrn, test_size=0.3)\n"
   ]
  },
  {
   "cell_type": "code",
   "execution_count": null,
   "metadata": {},
   "outputs": [],
   "source": [
    "g_list = [10,20,30,40,100,200,300,400,500,600,1000]\n",
    "for i in g_list:\n",
    "    g = int(i)\n",
    "    print(i)\n",
    "    #clf = MLPClassifier(hidden_layer_sizes=(g,g,g,g,g,g,g,g,g,g,g,g,g,g),alpha=1,activation=\"relu\",solver=\"adam\")\n",
    "    clf = MLPClassifier(hidden_layer_sizes=(g),alpha=1,activation=\"relu\",solver=\"adam\")\n",
    "    #clf = MLPClassifier(hidden_layer_sizes=(g,g),alpha=1,activation=\"relu\",solver=\"adam\")\n",
    "    #clf = MLPClassifier(hidden_layer_sizes=(500,500,500), max_iter=300, alpha=i,solver='sgd', verbose=10,  random_state=21,tol=0.000000001,activation=j)\n",
    "    clf.fit(X_train, Y_train)\n",
    "    Y_pred = clf.predict(X_valid)\n",
    "    print(accuracy_score(Y_valid, Y_pred))"
   ]
  },
  {
   "cell_type": "code",
   "execution_count": 7,
   "metadata": {},
   "outputs": [
    {
     "output_type": "stream",
     "name": "stdout",
     "text": [
      "0.9696969696969697\n"
     ]
    }
   ],
   "source": [
    "g = 200\n",
    "clf = MLPClassifier(hidden_layer_sizes=(g),alpha=1,activation=\"relu\",solver=\"adam\")\n",
    "clf.fit(X_train, Y_train)\n",
    "Y_pred = clf.predict(X_valid)\n",
    "print(accuracy_score(Y_valid, Y_pred))"
   ]
  },
  {
   "cell_type": "code",
   "execution_count": null,
   "metadata": {},
   "outputs": [],
   "source": [
    "Y_pred"
   ]
  },
  {
   "cell_type": "code",
   "execution_count": null,
   "metadata": {},
   "outputs": [],
   "source": [
    "X_p"
   ]
  },
  {
   "cell_type": "code",
   "execution_count": 22,
   "metadata": {},
   "outputs": [
    {
     "output_type": "stream",
     "name": "stdout",
     "text": [
      "    ID  handicapped-infants  water-project-cost-sharing  \\\n0  134                    1                           1   \n1  224                    1                           1   \n2   32                    2                           2   \n3  171                    2                           1   \n4  333                    2                           1   \n\n   adoption-of-the-budget-resolution  physician-fee-freeze  el-salvador-aid  \\\n0                                  1                     2                2   \n1                                  1                     2                2   \n2                                  2                     1                1   \n3                                  2                     1                1   \n4                                  2                     1                1   \n\n   religious-groups-in-schools  anti-satellite-test-ban  \\\n0                            2                        1   \n1                            1                        1   \n2                            1                        2   \n3                            1                        0   \n4                            1                        2   \n\n   aid-to-nicaraguan-contras  mx-missile  immigration  \\\n0                          1           1            2   \n1                          1           1            1   \n2                          2           2            1   \n3                          2           2            0   \n4                          2           2            1   \n\n   synfuels-crporation-cutback  education-spending  superfund-right-to-sue  \\\n0                            1                   2                       2   \n1                            1                   2                       2   \n2                            2                   1                       1   \n3                            1                   1                       1   \n4                            2                   1                       1   \n\n   crime  duty-free-exports  export-administration-act-south-africa  \n0      2                  1                                       2  \n1      2                  1                                       2  \n2      1                  2                                       0  \n3      1                  2                                       0  \n4      1                  2                                       0  \n"
     ]
    }
   ],
   "source": [
    "df_train = pd.read_csv('Datasets/Congressional_Voting/CongressionalVotingID.shuf.train.csv')\n",
    "df_train = df_train.drop([\"ID\"], axis=1)\n",
    "df_train = df.replace('n',1)\n",
    "df_train = df.replace('y', 2)\n",
    "df_train = df.replace('unknown', 0)\n",
    "y = df_train[\"class\"]\n",
    "print(X.head())\n",
    "X = df_train.drop(['class'], axis=1)"
   ]
  },
  {
   "cell_type": "code",
   "execution_count": 21,
   "metadata": {},
   "outputs": [
    {
     "output_type": "execute_result",
     "data": {
      "text/plain": [
       "      ID  handicapped-infants  water-project-cost-sharing  \\\n",
       "0    134                    1                           1   \n",
       "1    224                    1                           1   \n",
       "2     32                    2                           2   \n",
       "3    171                    2                           1   \n",
       "4    333                    2                           1   \n",
       "..   ...                  ...                         ...   \n",
       "213  397                    2                           2   \n",
       "214  421                    2                           2   \n",
       "215  120                    1                           1   \n",
       "216  164                    1                           2   \n",
       "217  230                    1                           2   \n",
       "\n",
       "     adoption-of-the-budget-resolution  physician-fee-freeze  el-salvador-aid  \\\n",
       "0                                    1                     2                2   \n",
       "1                                    1                     2                2   \n",
       "2                                    2                     1                1   \n",
       "3                                    2                     1                1   \n",
       "4                                    2                     1                1   \n",
       "..                                 ...                   ...              ...   \n",
       "213                                  2                     1                2   \n",
       "214                                  2                     2                2   \n",
       "215                                  1                     2                2   \n",
       "216                                  1                     2                2   \n",
       "217                                  2                     2                2   \n",
       "\n",
       "     religious-groups-in-schools  anti-satellite-test-ban  \\\n",
       "0                              2                        1   \n",
       "1                              1                        1   \n",
       "2                              1                        2   \n",
       "3                              1                        0   \n",
       "4                              1                        2   \n",
       "..                           ...                      ...   \n",
       "213                            2                        1   \n",
       "214                            2                        2   \n",
       "215                            2                        1   \n",
       "216                            2                        2   \n",
       "217                            2                        2   \n",
       "\n",
       "     aid-to-nicaraguan-contras  mx-missile  immigration  \\\n",
       "0                            1           1            2   \n",
       "1                            1           1            1   \n",
       "2                            2           2            1   \n",
       "3                            2           2            0   \n",
       "4                            2           2            1   \n",
       "..                         ...         ...          ...   \n",
       "213                          2           1            1   \n",
       "214                          2           1            2   \n",
       "215                          1           1            1   \n",
       "216                          1           1            1   \n",
       "217                          1           2            2   \n",
       "\n",
       "     synfuels-crporation-cutback  education-spending  superfund-right-to-sue  \\\n",
       "0                              1                   2                       2   \n",
       "1                              1                   2                       2   \n",
       "2                              2                   1                       1   \n",
       "3                              1                   1                       1   \n",
       "4                              2                   1                       1   \n",
       "..                           ...                 ...                     ...   \n",
       "213                            2                   1                       2   \n",
       "214                            1                   1                       2   \n",
       "215                            1                   2                       2   \n",
       "216                            1                   2                       2   \n",
       "217                            1                   2                       2   \n",
       "\n",
       "     crime  duty-free-exports  export-administration-act-south-africa  \n",
       "0        2                  1                                       2  \n",
       "1        2                  1                                       2  \n",
       "2        1                  2                                       0  \n",
       "3        1                  2                                       0  \n",
       "4        1                  2                                       0  \n",
       "..     ...                ...                                     ...  \n",
       "213      1                  2                                       2  \n",
       "214      2                  1                                       2  \n",
       "215      2                  1                                       1  \n",
       "216      2                  1                                       2  \n",
       "217      2                  1                                       2  \n",
       "\n",
       "[218 rows x 17 columns]"
      ],
      "text/html": "<div>\n<style scoped>\n    .dataframe tbody tr th:only-of-type {\n        vertical-align: middle;\n    }\n\n    .dataframe tbody tr th {\n        vertical-align: top;\n    }\n\n    .dataframe thead th {\n        text-align: right;\n    }\n</style>\n<table border=\"1\" class=\"dataframe\">\n  <thead>\n    <tr style=\"text-align: right;\">\n      <th></th>\n      <th>ID</th>\n      <th>handicapped-infants</th>\n      <th>water-project-cost-sharing</th>\n      <th>adoption-of-the-budget-resolution</th>\n      <th>physician-fee-freeze</th>\n      <th>el-salvador-aid</th>\n      <th>religious-groups-in-schools</th>\n      <th>anti-satellite-test-ban</th>\n      <th>aid-to-nicaraguan-contras</th>\n      <th>mx-missile</th>\n      <th>immigration</th>\n      <th>synfuels-crporation-cutback</th>\n      <th>education-spending</th>\n      <th>superfund-right-to-sue</th>\n      <th>crime</th>\n      <th>duty-free-exports</th>\n      <th>export-administration-act-south-africa</th>\n    </tr>\n  </thead>\n  <tbody>\n    <tr>\n      <th>0</th>\n      <td>134</td>\n      <td>1</td>\n      <td>1</td>\n      <td>1</td>\n      <td>2</td>\n      <td>2</td>\n      <td>2</td>\n      <td>1</td>\n      <td>1</td>\n      <td>1</td>\n      <td>2</td>\n      <td>1</td>\n      <td>2</td>\n      <td>2</td>\n      <td>2</td>\n      <td>1</td>\n      <td>2</td>\n    </tr>\n    <tr>\n      <th>1</th>\n      <td>224</td>\n      <td>1</td>\n      <td>1</td>\n      <td>1</td>\n      <td>2</td>\n      <td>2</td>\n      <td>1</td>\n      <td>1</td>\n      <td>1</td>\n      <td>1</td>\n      <td>1</td>\n      <td>1</td>\n      <td>2</td>\n      <td>2</td>\n      <td>2</td>\n      <td>1</td>\n      <td>2</td>\n    </tr>\n    <tr>\n      <th>2</th>\n      <td>32</td>\n      <td>2</td>\n      <td>2</td>\n      <td>2</td>\n      <td>1</td>\n      <td>1</td>\n      <td>1</td>\n      <td>2</td>\n      <td>2</td>\n      <td>2</td>\n      <td>1</td>\n      <td>2</td>\n      <td>1</td>\n      <td>1</td>\n      <td>1</td>\n      <td>2</td>\n      <td>0</td>\n    </tr>\n    <tr>\n      <th>3</th>\n      <td>171</td>\n      <td>2</td>\n      <td>1</td>\n      <td>2</td>\n      <td>1</td>\n      <td>1</td>\n      <td>1</td>\n      <td>0</td>\n      <td>2</td>\n      <td>2</td>\n      <td>0</td>\n      <td>1</td>\n      <td>1</td>\n      <td>1</td>\n      <td>1</td>\n      <td>2</td>\n      <td>0</td>\n    </tr>\n    <tr>\n      <th>4</th>\n      <td>333</td>\n      <td>2</td>\n      <td>1</td>\n      <td>2</td>\n      <td>1</td>\n      <td>1</td>\n      <td>1</td>\n      <td>2</td>\n      <td>2</td>\n      <td>2</td>\n      <td>1</td>\n      <td>2</td>\n      <td>1</td>\n      <td>1</td>\n      <td>1</td>\n      <td>2</td>\n      <td>0</td>\n    </tr>\n    <tr>\n      <th>...</th>\n      <td>...</td>\n      <td>...</td>\n      <td>...</td>\n      <td>...</td>\n      <td>...</td>\n      <td>...</td>\n      <td>...</td>\n      <td>...</td>\n      <td>...</td>\n      <td>...</td>\n      <td>...</td>\n      <td>...</td>\n      <td>...</td>\n      <td>...</td>\n      <td>...</td>\n      <td>...</td>\n      <td>...</td>\n    </tr>\n    <tr>\n      <th>213</th>\n      <td>397</td>\n      <td>2</td>\n      <td>2</td>\n      <td>2</td>\n      <td>1</td>\n      <td>2</td>\n      <td>2</td>\n      <td>1</td>\n      <td>2</td>\n      <td>1</td>\n      <td>1</td>\n      <td>2</td>\n      <td>1</td>\n      <td>2</td>\n      <td>1</td>\n      <td>2</td>\n      <td>2</td>\n    </tr>\n    <tr>\n      <th>214</th>\n      <td>421</td>\n      <td>2</td>\n      <td>2</td>\n      <td>2</td>\n      <td>2</td>\n      <td>2</td>\n      <td>2</td>\n      <td>2</td>\n      <td>2</td>\n      <td>1</td>\n      <td>2</td>\n      <td>1</td>\n      <td>1</td>\n      <td>2</td>\n      <td>2</td>\n      <td>1</td>\n      <td>2</td>\n    </tr>\n    <tr>\n      <th>215</th>\n      <td>120</td>\n      <td>1</td>\n      <td>1</td>\n      <td>1</td>\n      <td>2</td>\n      <td>2</td>\n      <td>2</td>\n      <td>1</td>\n      <td>1</td>\n      <td>1</td>\n      <td>1</td>\n      <td>1</td>\n      <td>2</td>\n      <td>2</td>\n      <td>2</td>\n      <td>1</td>\n      <td>1</td>\n    </tr>\n    <tr>\n      <th>216</th>\n      <td>164</td>\n      <td>1</td>\n      <td>2</td>\n      <td>1</td>\n      <td>2</td>\n      <td>2</td>\n      <td>2</td>\n      <td>2</td>\n      <td>1</td>\n      <td>1</td>\n      <td>1</td>\n      <td>1</td>\n      <td>2</td>\n      <td>2</td>\n      <td>2</td>\n      <td>1</td>\n      <td>2</td>\n    </tr>\n    <tr>\n      <th>217</th>\n      <td>230</td>\n      <td>1</td>\n      <td>2</td>\n      <td>2</td>\n      <td>2</td>\n      <td>2</td>\n      <td>2</td>\n      <td>2</td>\n      <td>1</td>\n      <td>2</td>\n      <td>2</td>\n      <td>1</td>\n      <td>2</td>\n      <td>2</td>\n      <td>2</td>\n      <td>1</td>\n      <td>2</td>\n    </tr>\n  </tbody>\n</table>\n<p>218 rows × 17 columns</p>\n</div>"
     },
     "metadata": {},
     "execution_count": 21
    }
   ],
   "source": [
    "X"
   ]
  },
  {
   "cell_type": "code",
   "execution_count": 13,
   "metadata": {},
   "outputs": [],
   "source": [
    "df_test = pd.read_csv('Datasets/Congressional_Voting/CongressionalVotingID.shuf.test.csv')\n",
    "df_test = df_test.drop([\"handicapped-infants\"], axis=1)\n",
    "df_test = df.replace('n',1)\n",
    "df_test = df.replace('y', 2)\n",
    "df_test = df.replace('unknown', 0)"
   ]
  },
  {
   "cell_type": "code",
   "execution_count": 14,
   "metadata": {},
   "outputs": [
    {
     "output_type": "execute_result",
     "data": {
      "text/plain": [
       "      ID       class  handicapped-infants  water-project-cost-sharing  \\\n",
       "0    134  republican                    1                           1   \n",
       "1    224  republican                    1                           1   \n",
       "2     32    democrat                    2                           2   \n",
       "3    171    democrat                    2                           1   \n",
       "4    333    democrat                    2                           1   \n",
       "..   ...         ...                  ...                         ...   \n",
       "213  397    democrat                    2                           2   \n",
       "214  421  republican                    2                           2   \n",
       "215  120  republican                    1                           1   \n",
       "216  164  republican                    1                           2   \n",
       "217  230  republican                    1                           2   \n",
       "\n",
       "     adoption-of-the-budget-resolution  physician-fee-freeze  el-salvador-aid  \\\n",
       "0                                    1                     2                2   \n",
       "1                                    1                     2                2   \n",
       "2                                    2                     1                1   \n",
       "3                                    2                     1                1   \n",
       "4                                    2                     1                1   \n",
       "..                                 ...                   ...              ...   \n",
       "213                                  2                     1                2   \n",
       "214                                  2                     2                2   \n",
       "215                                  1                     2                2   \n",
       "216                                  1                     2                2   \n",
       "217                                  2                     2                2   \n",
       "\n",
       "     religious-groups-in-schools  anti-satellite-test-ban  \\\n",
       "0                              2                        1   \n",
       "1                              1                        1   \n",
       "2                              1                        2   \n",
       "3                              1                        0   \n",
       "4                              1                        2   \n",
       "..                           ...                      ...   \n",
       "213                            2                        1   \n",
       "214                            2                        2   \n",
       "215                            2                        1   \n",
       "216                            2                        2   \n",
       "217                            2                        2   \n",
       "\n",
       "     aid-to-nicaraguan-contras  mx-missile  immigration  \\\n",
       "0                            1           1            2   \n",
       "1                            1           1            1   \n",
       "2                            2           2            1   \n",
       "3                            2           2            0   \n",
       "4                            2           2            1   \n",
       "..                         ...         ...          ...   \n",
       "213                          2           1            1   \n",
       "214                          2           1            2   \n",
       "215                          1           1            1   \n",
       "216                          1           1            1   \n",
       "217                          1           2            2   \n",
       "\n",
       "     synfuels-crporation-cutback  education-spending  superfund-right-to-sue  \\\n",
       "0                              1                   2                       2   \n",
       "1                              1                   2                       2   \n",
       "2                              2                   1                       1   \n",
       "3                              1                   1                       1   \n",
       "4                              2                   1                       1   \n",
       "..                           ...                 ...                     ...   \n",
       "213                            2                   1                       2   \n",
       "214                            1                   1                       2   \n",
       "215                            1                   2                       2   \n",
       "216                            1                   2                       2   \n",
       "217                            1                   2                       2   \n",
       "\n",
       "     crime  duty-free-exports  export-administration-act-south-africa  \n",
       "0        2                  1                                       2  \n",
       "1        2                  1                                       2  \n",
       "2        1                  2                                       0  \n",
       "3        1                  2                                       0  \n",
       "4        1                  2                                       0  \n",
       "..     ...                ...                                     ...  \n",
       "213      1                  2                                       2  \n",
       "214      2                  1                                       2  \n",
       "215      2                  1                                       1  \n",
       "216      2                  1                                       2  \n",
       "217      2                  1                                       2  \n",
       "\n",
       "[218 rows x 18 columns]"
      ],
      "text/html": "<div>\n<style scoped>\n    .dataframe tbody tr th:only-of-type {\n        vertical-align: middle;\n    }\n\n    .dataframe tbody tr th {\n        vertical-align: top;\n    }\n\n    .dataframe thead th {\n        text-align: right;\n    }\n</style>\n<table border=\"1\" class=\"dataframe\">\n  <thead>\n    <tr style=\"text-align: right;\">\n      <th></th>\n      <th>ID</th>\n      <th>class</th>\n      <th>handicapped-infants</th>\n      <th>water-project-cost-sharing</th>\n      <th>adoption-of-the-budget-resolution</th>\n      <th>physician-fee-freeze</th>\n      <th>el-salvador-aid</th>\n      <th>religious-groups-in-schools</th>\n      <th>anti-satellite-test-ban</th>\n      <th>aid-to-nicaraguan-contras</th>\n      <th>mx-missile</th>\n      <th>immigration</th>\n      <th>synfuels-crporation-cutback</th>\n      <th>education-spending</th>\n      <th>superfund-right-to-sue</th>\n      <th>crime</th>\n      <th>duty-free-exports</th>\n      <th>export-administration-act-south-africa</th>\n    </tr>\n  </thead>\n  <tbody>\n    <tr>\n      <th>0</th>\n      <td>134</td>\n      <td>republican</td>\n      <td>1</td>\n      <td>1</td>\n      <td>1</td>\n      <td>2</td>\n      <td>2</td>\n      <td>2</td>\n      <td>1</td>\n      <td>1</td>\n      <td>1</td>\n      <td>2</td>\n      <td>1</td>\n      <td>2</td>\n      <td>2</td>\n      <td>2</td>\n      <td>1</td>\n      <td>2</td>\n    </tr>\n    <tr>\n      <th>1</th>\n      <td>224</td>\n      <td>republican</td>\n      <td>1</td>\n      <td>1</td>\n      <td>1</td>\n      <td>2</td>\n      <td>2</td>\n      <td>1</td>\n      <td>1</td>\n      <td>1</td>\n      <td>1</td>\n      <td>1</td>\n      <td>1</td>\n      <td>2</td>\n      <td>2</td>\n      <td>2</td>\n      <td>1</td>\n      <td>2</td>\n    </tr>\n    <tr>\n      <th>2</th>\n      <td>32</td>\n      <td>democrat</td>\n      <td>2</td>\n      <td>2</td>\n      <td>2</td>\n      <td>1</td>\n      <td>1</td>\n      <td>1</td>\n      <td>2</td>\n      <td>2</td>\n      <td>2</td>\n      <td>1</td>\n      <td>2</td>\n      <td>1</td>\n      <td>1</td>\n      <td>1</td>\n      <td>2</td>\n      <td>0</td>\n    </tr>\n    <tr>\n      <th>3</th>\n      <td>171</td>\n      <td>democrat</td>\n      <td>2</td>\n      <td>1</td>\n      <td>2</td>\n      <td>1</td>\n      <td>1</td>\n      <td>1</td>\n      <td>0</td>\n      <td>2</td>\n      <td>2</td>\n      <td>0</td>\n      <td>1</td>\n      <td>1</td>\n      <td>1</td>\n      <td>1</td>\n      <td>2</td>\n      <td>0</td>\n    </tr>\n    <tr>\n      <th>4</th>\n      <td>333</td>\n      <td>democrat</td>\n      <td>2</td>\n      <td>1</td>\n      <td>2</td>\n      <td>1</td>\n      <td>1</td>\n      <td>1</td>\n      <td>2</td>\n      <td>2</td>\n      <td>2</td>\n      <td>1</td>\n      <td>2</td>\n      <td>1</td>\n      <td>1</td>\n      <td>1</td>\n      <td>2</td>\n      <td>0</td>\n    </tr>\n    <tr>\n      <th>...</th>\n      <td>...</td>\n      <td>...</td>\n      <td>...</td>\n      <td>...</td>\n      <td>...</td>\n      <td>...</td>\n      <td>...</td>\n      <td>...</td>\n      <td>...</td>\n      <td>...</td>\n      <td>...</td>\n      <td>...</td>\n      <td>...</td>\n      <td>...</td>\n      <td>...</td>\n      <td>...</td>\n      <td>...</td>\n      <td>...</td>\n    </tr>\n    <tr>\n      <th>213</th>\n      <td>397</td>\n      <td>democrat</td>\n      <td>2</td>\n      <td>2</td>\n      <td>2</td>\n      <td>1</td>\n      <td>2</td>\n      <td>2</td>\n      <td>1</td>\n      <td>2</td>\n      <td>1</td>\n      <td>1</td>\n      <td>2</td>\n      <td>1</td>\n      <td>2</td>\n      <td>1</td>\n      <td>2</td>\n      <td>2</td>\n    </tr>\n    <tr>\n      <th>214</th>\n      <td>421</td>\n      <td>republican</td>\n      <td>2</td>\n      <td>2</td>\n      <td>2</td>\n      <td>2</td>\n      <td>2</td>\n      <td>2</td>\n      <td>2</td>\n      <td>2</td>\n      <td>1</td>\n      <td>2</td>\n      <td>1</td>\n      <td>1</td>\n      <td>2</td>\n      <td>2</td>\n      <td>1</td>\n      <td>2</td>\n    </tr>\n    <tr>\n      <th>215</th>\n      <td>120</td>\n      <td>republican</td>\n      <td>1</td>\n      <td>1</td>\n      <td>1</td>\n      <td>2</td>\n      <td>2</td>\n      <td>2</td>\n      <td>1</td>\n      <td>1</td>\n      <td>1</td>\n      <td>1</td>\n      <td>1</td>\n      <td>2</td>\n      <td>2</td>\n      <td>2</td>\n      <td>1</td>\n      <td>1</td>\n    </tr>\n    <tr>\n      <th>216</th>\n      <td>164</td>\n      <td>republican</td>\n      <td>1</td>\n      <td>2</td>\n      <td>1</td>\n      <td>2</td>\n      <td>2</td>\n      <td>2</td>\n      <td>2</td>\n      <td>1</td>\n      <td>1</td>\n      <td>1</td>\n      <td>1</td>\n      <td>2</td>\n      <td>2</td>\n      <td>2</td>\n      <td>1</td>\n      <td>2</td>\n    </tr>\n    <tr>\n      <th>217</th>\n      <td>230</td>\n      <td>republican</td>\n      <td>1</td>\n      <td>2</td>\n      <td>2</td>\n      <td>2</td>\n      <td>2</td>\n      <td>2</td>\n      <td>2</td>\n      <td>1</td>\n      <td>2</td>\n      <td>2</td>\n      <td>1</td>\n      <td>2</td>\n      <td>2</td>\n      <td>2</td>\n      <td>1</td>\n      <td>2</td>\n    </tr>\n  </tbody>\n</table>\n<p>218 rows × 18 columns</p>\n</div>"
     },
     "metadata": {},
     "execution_count": 14
    }
   ],
   "source": [
    "df_test"
   ]
  },
  {
   "cell_type": "code",
   "execution_count": null,
   "metadata": {},
   "outputs": [],
   "source": [
    "clf.fit(X,y)"
   ]
  },
  {
   "cell_type": "code",
   "execution_count": null,
   "metadata": {},
   "outputs": [],
   "source": [
    "predicted = clf.predict(df_test)"
   ]
  },
  {
   "cell_type": "code",
   "execution_count": null,
   "metadata": {},
   "outputs": [],
   "source": [
    "solution_data = list(zip(list(range(750,1500)), predicted))\n",
    "solution_table = pd.DataFrame(solution_data, columns=['ID', 'Class'])\n",
    "solution_table.head()\n",
    "solution_table.to_csv(f\"results/Amazon/SC_am_sol_2500.csv\", index=False)"
   ]
  }
 ]
}