{
 "metadata": {
  "language_info": {
   "codemirror_mode": {
    "name": "ipython",
    "version": 3
   },
   "file_extension": ".py",
   "mimetype": "text/x-python",
   "name": "python",
   "nbconvert_exporter": "python",
   "pygments_lexer": "ipython3",
   "version": "3.8.6-final"
  },
  "orig_nbformat": 2,
  "kernelspec": {
   "name": "Python 3.8.6 64-bit ('ML_2020': pipenv)",
   "display_name": "Python 3.8.6 64-bit ('ML_2020': pipenv)",
   "metadata": {
    "interpreter": {
     "hash": "d6f8d2b41179c5e5fc034bbc40427a4395636c4d26988e51920bd3cc303b8725"
    }
   }
  }
 },
 "nbformat": 4,
 "nbformat_minor": 2,
 "cells": [
  {
   "source": [
    "# Congressional voting data\n",
    "\n",
    "Identify party allegiance of members of the US national congress based on their voting behaviour."
   ],
   "cell_type": "markdown",
   "metadata": {}
  },
  {
   "cell_type": "code",
   "execution_count": null,
   "metadata": {},
   "outputs": [],
   "source": [
    "import pandas as pd\n",
    "import seaborn as sns\n",
    "import matplotlib.pyplot as plt\n",
    "import numpy as np\n",
    "import time\n",
    "from math import sqrt\n",
    "from math import log2\n",
    "%matplotlib inline\n",
    "\n",
    "# General sklearn stuff\n",
    "from sklearn.model_selection import train_test_split\n",
    "from sklearn.metrics import accuracy_score\n",
    "from sklearn.metrics import confusion_matrix\n",
    "from sklearn.preprocessing import StandardScaler,PowerTransformer,MinMaxScaler,QuantileTransformer,normalize\n",
    "from sklearn.feature_selection import VarianceThreshold, SelectKBest\n",
    "from sklearn.model_selection import cross_val_score\n",
    "\n",
    "# Models\n",
    "from sklearn.ensemble import RandomForestClassifier as RFC\n",
    "\n",
    "from IPython.display import display"
   ]
  },
  {
   "cell_type": "code",
   "execution_count": null,
   "metadata": {},
   "outputs": [],
   "source": [
    "# Custom functions\n",
    "import pathlib\n",
    "import os\n",
    "import sys\n",
    "\n",
    "module_path = pathlib.Path(os.getcwd()).parent\n",
    "if str(module_path) not in sys.path:\n",
    "    sys.path.append(str(module_path))\n",
    "print(sys.path)\n",
    "\n",
    "from common.dataset_grabber import get_data_path\n",
    "import functions"
   ]
  },
  {
   "cell_type": "code",
   "execution_count": null,
   "metadata": {},
   "outputs": [],
   "source": [
    "datapath = get_data_path(\"Congressional_Voting\", \"CongressionalVotingID.shuf.train.csv\")\n",
    "display(datapath)"
   ]
  },
  {
   "source": [
    "def preprocess_voting_rf(df:pd.DataFrame):\n",
    "    try: \n",
    "        df.rename(columns={\"class\": \"Class\"})\n",
    "    except:\n",
    "        print(\"Did not find col \\\"class\\\"!\")\n",
    "\n",
    "    num_samples, num_cols = df.shape\n",
    "    num_feats = num_cols -2\n",
    "    num_samples, num_cols, num_feats\n",
    "\n",
    "    target = \"Class\"\n",
    "    feats = [x for x in df.columns if x not in [target, \"ID\"]]\n",
    "\n",
    "    df.replace({\"y\": 1, \"n\": -1, \"unknown\": 0}, inplace=True)\n",
    "\n",
    "    return df, (num_samples, num_cols, num_feats), (target, feats)"
   ],
   "cell_type": "code",
   "metadata": {},
   "execution_count": null,
   "outputs": []
  },
  {
   "cell_type": "code",
   "execution_count": null,
   "metadata": {},
   "outputs": [],
   "source": [
    "print(\"Before preprocess:\")\n",
    "df = pd.read_csv(datapath).rename(columns={\"class\": \"Class\"})\n",
    "display(df.head())\n",
    "print(\"-\"*50)\n",
    "print(\"After preprocess:\")\n",
    "df, (num_samples, num_cols, num_feats), (target, feats) = preprocess_voting_rf(df)\n",
    "df.head()"
   ]
  },
  {
   "cell_type": "code",
   "execution_count": null,
   "metadata": {},
   "outputs": [],
   "source": [
    "df.info()"
   ]
  },
  {
   "source": [
    "Pretty sure I got all entries properly configured now :)"
   ],
   "cell_type": "markdown",
   "metadata": {}
  },
  {
   "cell_type": "code",
   "execution_count": null,
   "metadata": {},
   "outputs": [],
   "source": [
    "corr_to_feat = functions.plot_corr_heatmap(df[[target]+feats].replace({\"republican\":0, \"democrat\":1}), feat_to_ret=\"Class\",ticksfont=16)"
   ]
  },
  {
   "cell_type": "code",
   "execution_count": null,
   "metadata": {},
   "outputs": [],
   "source": [
    "corr_to_feat"
   ]
  },
  {
   "cell_type": "code",
   "execution_count": null,
   "metadata": {},
   "outputs": [],
   "source": [
    "keep = list( filter(lambda x: x[0] > 0.3, list(zip(corr_to_feat, corr_to_feat.index))))\n",
    "keep"
   ]
  },
  {
   "cell_type": "code",
   "execution_count": null,
   "metadata": {},
   "outputs": [],
   "source": [
    "feats_keep = [x[1] for x in keep if x[1] != \"Class\"]\n",
    "feats_keep"
   ]
  },
  {
   "source": [
    "# Model"
   ],
   "cell_type": "markdown",
   "metadata": {}
  },
  {
   "cell_type": "code",
   "execution_count": null,
   "metadata": {},
   "outputs": [],
   "source": [
    "train, valid = train_test_split(df, test_size=0.3)\n",
    "x, y = train[feats], train[target]\n",
    "train.head()"
   ]
  },
  {
   "cell_type": "code",
   "execution_count": null,
   "metadata": {},
   "outputs": [],
   "source": [
    "train, valid = train_test_split(df[[target]+feats_keep], test_size=0.3)\n",
    "x, y = train[feats_keep], train[target]\n",
    "train.head()"
   ]
  },
  {
   "cell_type": "code",
   "execution_count": null,
   "metadata": {},
   "outputs": [],
   "source": [
    "display(x)\n",
    "display(y)"
   ]
  },
  {
   "cell_type": "code",
   "execution_count": null,
   "metadata": {},
   "outputs": [],
   "source": [
    "scores={}"
   ]
  },
  {
   "cell_type": "code",
   "execution_count": null,
   "metadata": {},
   "outputs": [],
   "source": [
    "rf_paramgrid = {\n",
    "    \"n_estimators\": [1, 5, 10, 20, 100, 200, 500, 1000],\n",
    "    \"criterion\": [\"gini\", \"entropy\"],\n",
    "    \"max_features\": [\"sqrt\", \"log2\"]\n",
    "}"
   ]
  },
  {
   "cell_type": "code",
   "execution_count": null,
   "metadata": {},
   "outputs": [],
   "source": [
    "for n in [1, 5, 10, 20, 100, 200, 500, 1000]:\n",
    "    start = time.time()\n",
    "    rf = RFC(n_jobs=-1, bootstrap=True, oob_score=True, n_estimators=n, verbose=0)\n",
    "    scores[str(n)] = cross_val_score(rf, df[feats], df[target], cv=5, n_jobs=-1)\n",
    "    print(f\"Runtime(n={n}): {time.time()-start:.3f}s\")\n",
    "print()\n",
    "print(f\"scores: {scores}\")"
   ]
  },
  {
   "cell_type": "code",
   "execution_count": null,
   "metadata": {},
   "outputs": [],
   "source": [
    "scores_mean = {}\n",
    "for k, v in scores.items():\n",
    "    scores_mean[k] = v.mean()\n",
    "scores_mean"
   ]
  },
  {
   "cell_type": "code",
   "execution_count": null,
   "metadata": {},
   "outputs": [],
   "source": [
    "plt.figure(figsize=(10,8))\n",
    "keys = scores_mean.keys()\n",
    "values = scores_mean.values()\n",
    "plt.plot(keys, values)\n",
    "plt.suptitle(\"With dropping\");"
   ]
  },
  {
   "cell_type": "code",
   "execution_count": null,
   "metadata": {},
   "outputs": [],
   "source": [
    "plt.figure(figsize=(10,8))\n",
    "keys = scores_mean.keys()\n",
    "values= scores_mean.values()\n",
    "plt.plot(keys, values)\n",
    "plt.suptitle(\"Without dropping\");"
   ]
  },
  {
   "cell_type": "code",
   "execution_count": null,
   "metadata": {},
   "outputs": [],
   "source": [
    "plt.figure(figsize=(10,8))\n",
    "for key in scores:\n",
    "    plt.plot(range(1,5+1),scores[key], label=key)\n",
    "plt.legend();"
   ]
  },
  {
   "cell_type": "code",
   "execution_count": null,
   "metadata": {},
   "outputs": [],
   "source": []
  }
 ]
}