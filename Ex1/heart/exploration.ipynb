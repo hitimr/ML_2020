{
 "metadata": {
  "language_info": {
   "codemirror_mode": {
    "name": "ipython",
    "version": 3
   },
   "file_extension": ".py",
   "mimetype": "text/x-python",
   "name": "python",
   "nbconvert_exporter": "python",
   "pygments_lexer": "ipython3",
   "version": "3.8.6-final"
  },
  "orig_nbformat": 2,
  "kernelspec": {
   "name": "python3",
   "display_name": "Python 3.8.6 64-bit ('ML_2020': pipenv)",
   "metadata": {
    "interpreter": {
     "hash": "d6f8d2b41179c5e5fc034bbc40427a4395636c4d26988e51920bd3cc303b8725"
    }
   }
  }
 },
 "nbformat": 4,
 "nbformat_minor": 2,
 "cells": [
  {
   "source": [
    "# Heart disease\n",
    "\n",
    "https://archive.ics.uci.edu/ml/datasets/heart+Disease"
   ],
   "cell_type": "markdown",
   "metadata": {}
  },
  {
   "cell_type": "code",
   "execution_count": null,
   "metadata": {},
   "outputs": [],
   "source": [
    "import seaborn as sns\n",
    "import matplotlib.pyplot as plt\n",
    "import matplotlib as mpl\n",
    "import numpy as np\n",
    "from IPython.display import display\n",
    "%matplotlib inline\n",
    "\n",
    "\n",
    "# required for importin modules from other directories\n",
    "import os,sys,inspect\n",
    "currentdir = os.path.dirname(os.path.abspath(inspect.getfile(inspect.currentframe())))\n",
    "parentdir = os.path.dirname(currentdir)\n",
    "sys.path.insert(0,parentdir) \n",
    "from common import misc\n",
    "from common.data_parser import *\n",
    "from config import *\n",
    "from heart_helpers import *\n",
    "\n",
    "plt.style.use(\"seaborn\")\n",
    "\n",
    "OUT_DIR = \"out/\"\n",
    "SET = \"binary\" #\"binary\" or \"multi\""
   ]
  },
  {
   "cell_type": "code",
   "execution_count": null,
   "metadata": {},
   "outputs": [],
   "source": [
    "def print_styling():\n",
    "    SMALL_SIZE = 14\n",
    "    MEDIUM_SIZE = 14\n",
    "    BIGGER_SIZE = 26\n",
    "\n",
    "    plt.rc('font', size=SMALL_SIZE)          # controls default text sizes\n",
    "    plt.rc('axes', titlesize=MEDIUM_SIZE)     # fontsize of the axes title\n",
    "    plt.rc('axes', labelsize=MEDIUM_SIZE)    # fontsize of the x and y labels\n",
    "    plt.rc('xtick', labelsize=SMALL_SIZE)    # fontsize of the tick labels\n",
    "    plt.rc('ytick', labelsize=SMALL_SIZE)    # fontsize of the tick labels\n",
    "    plt.rc('legend', fontsize=SMALL_SIZE)    # legend fontsize\n",
    "    plt.rc('figure', titlesize=BIGGER_SIZE)  # fontsize of the figure title"
   ]
  },
  {
   "cell_type": "code",
   "execution_count": null,
   "metadata": {},
   "outputs": [],
   "source": [
    "from scipy.stats import entropy\n",
    "\n",
    "def entropy_of_df(labels, base=None):\n",
    "  value,counts = np.unique(labels, return_counts=True)\n",
    "  return entropy(counts, base=base)"
   ]
  },
  {
   "cell_type": "code",
   "execution_count": null,
   "metadata": {},
   "outputs": [],
   "source": [
    "df = parse_heart_disease(SET)\n",
    "df.head()"
   ]
  },
  {
   "cell_type": "code",
   "execution_count": null,
   "metadata": {},
   "outputs": [],
   "source": [
    "df.describe()"
   ]
  },
  {
   "cell_type": "code",
   "execution_count": null,
   "metadata": {},
   "outputs": [],
   "source": [
    "num_samples, num_cols = df.shape\n",
    "num_samples, num_cols\n",
    "cols = df.columns\n",
    "feats = cols.drop(\"target\")\n",
    "feats"
   ]
  },
  {
   "source": [
    "# Histograms"
   ],
   "cell_type": "markdown",
   "metadata": {}
  },
  {
   "cell_type": "code",
   "execution_count": null,
   "metadata": {},
   "outputs": [],
   "source": [
    "entr = entropy_of_df(df[\"target\"], base=2)\n",
    "\n",
    "print_styling()\n",
    "bins = [-0.4,0.4, 0.6, 1.4, 1.6, 2.4, 2.6, 3.4, 3.6, 4.4] if SET==\"multi\" else [-0.4, 0.4, 0.6, 1.4]\n",
    "df[\"target\"].hist(bins=bins)\n",
    "fig = plt.gcf()\n",
    "ax = plt.gca()\n",
    "ax.set_xticks((0,1,2,3,4)) if SET==\"multi\" else ax.set_xticks((0,1))\n",
    "ax.set_xlabel(\"target\")\n",
    "fig.suptitle(f\"Target histogramm ({SET} class)\");\n",
    "plt.title(f\"Entropy {entr:.5}\")\n",
    "plt.savefig(OUT_DIR+f\"{SET}_target_hist.pdf\")\n",
    "plt.show();"
   ]
  },
  {
   "cell_type": "code",
   "execution_count": null,
   "metadata": {},
   "outputs": [],
   "source": [
    "df.hist(figsize=(14,12));"
   ]
  },
  {
   "cell_type": "code",
   "execution_count": null,
   "metadata": {},
   "outputs": [],
   "source": [
    "#mpl.rcParams['legend.facecolor'] = 'white'\n",
    "var = \"probability\"\n",
    "\n",
    "fig, ax = plt.subplots(figsize=(10,8))\n",
    "for i in [4,3,2,1,0]:\n",
    "    sns.histplot(data=df[df[\"target\"]==i], x=\"target\", hue=\"cp\", multiple=\"stack\", stat=var, ax=ax, shrink=0.5);\n",
    "ax.set_xlim(-0.5,5)\n",
    "plt.show()\n",
    "plt.clf()\n"
   ]
  },
  {
   "cell_type": "code",
   "execution_count": null,
   "metadata": {},
   "outputs": [],
   "source": [
    "fig, ax = plt.subplots(figsize=(10,8))\n",
    "for feat in feats:\n",
    "    sns.histplot(data=df, x=feat, hue=\"target\", multiple=\"stack\");\n",
    "    plt.show()"
   ]
  },
  {
   "cell_type": "code",
   "execution_count": null,
   "metadata": {},
   "outputs": [],
   "source": [
    "df_nozero = df[df[\"target\"]!=0]\n",
    "df_nozero.info()"
   ]
  },
  {
   "cell_type": "code",
   "execution_count": null,
   "metadata": {},
   "outputs": [],
   "source": [
    "fig, ax = plt.subplots(figsize=(10,8))\n",
    "for feat in feats:\n",
    "    sns.histplot(data=df_nozero, x=feat, hue=\"target\", multiple=\"stack\");\n",
    "    plt.show()"
   ]
  },
  {
   "cell_type": "code",
   "execution_count": null,
   "metadata": {},
   "outputs": [],
   "source": [
    "#mpl.rcParams['legend.facecolor'] = 'white'\n",
    "var = \"probability\"\n",
    "\n",
    "fig, ax = plt.subplots(figsize=(10,8))\n",
    "for i in [4,3,2,1,0]:\n",
    "    sns.histplot(data=df_nozero[df_nozero[\"target\"]==i], x=\"target\", hue=\"cp\", multiple=\"stack\", stat=var, ax=ax, shrink=0.5);\n",
    "ax.set_xlim(-0.5,5)\n",
    "plt.show()\n",
    "plt.clf()"
   ]
  },
  {
   "source": [
    "# Missing values\n",
    "\n",
    "At this point, I noticed there actually were some missing values...there are a couple \"?\"s in the data, but only in 2 different columns"
   ],
   "cell_type": "markdown",
   "metadata": {}
  },
  {
   "cell_type": "code",
   "execution_count": null,
   "metadata": {},
   "outputs": [],
   "source": [
    "hc = heart_columns()\n",
    "df_nans = df.replace(to_replace=\"?\", value=np.nan)\n",
    "df_nans.info()"
   ]
  },
  {
   "cell_type": "code",
   "execution_count": null,
   "metadata": {},
   "outputs": [],
   "source": [
    "count_values(df, [\"ca\"], mode=True,norm=False);\n",
    "display(hc[\"ca\"])\n",
    "df[df[\"ca\"] == \"?\"]"
   ]
  },
  {
   "cell_type": "code",
   "execution_count": null,
   "metadata": {},
   "outputs": [],
   "source": [
    "count_values(df, [\"thal\"], mode=True,norm=False);\n",
    "display(hc[\"thal\"])\n",
    "df[df[\"thal\"] == \"?\"]"
   ]
  },
  {
   "cell_type": "code",
   "execution_count": null,
   "metadata": {},
   "outputs": [],
   "source": [
    "fig, ax = plt.subplots(figsize=(10,8))\n",
    "for feat in feats:\n",
    "    sns.histplot(data=df, x=feat, hue=\"thal\", multiple=\"stack\");\n",
    "    plt.show()"
   ]
  },
  {
   "cell_type": "code",
   "execution_count": null,
   "metadata": {},
   "outputs": [],
   "source": [
    "fig, ax = plt.subplots(figsize=(10,8))\n",
    "for feat in feats:\n",
    "    sns.histplot(data=df, x=feat, hue=\"ca\", multiple=\"stack\");\n",
    "    plt.show()"
   ]
  }
 ]
}