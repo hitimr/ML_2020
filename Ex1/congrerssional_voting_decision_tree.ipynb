{
 "metadata": {
  "language_info": {
   "codemirror_mode": {
    "name": "ipython",
    "version": 3
   },
   "file_extension": ".py",
   "mimetype": "text/x-python",
   "name": "python",
   "nbconvert_exporter": "python",
   "pygments_lexer": "ipython3",
   "version": "3.7.0-final"
  },
  "orig_nbformat": 2,
  "kernelspec": {
   "name": "Python 3.7.0 64-bit",
   "display_name": "Python 3.7.0 64-bit",
   "metadata": {
    "interpreter": {
     "hash": "9a83436940b59065249e0ac591e9ccdbda7a53659a5b7e612c47492e8a127fdd"
    }
   }
  }
 },
 "nbformat": 4,
 "nbformat_minor": 2,
 "cells": [
  {
   "cell_type": "code",
   "execution_count": 105,
   "metadata": {},
   "outputs": [],
   "source": [
    "from sklearn import tree\n",
    "import random, time\n",
    "\n",
    "# required for importin modules from other directories\n",
    "import os,sys,inspect\n",
    "currentdir = os.path.dirname(os.path.abspath(inspect.getfile(inspect.currentframe())))\n",
    "parentdir = os.path.dirname(currentdir)\n",
    "sys.path.insert(0,parentdir) \n",
    "\n",
    "from common.data_parser import *\n",
    "from common.misc import *\n",
    "from config import *"
   ]
  },
  {
   "cell_type": "code",
   "execution_count": 106,
   "metadata": {},
   "outputs": [],
   "source": [
    "def preprocess_df(df):\n",
    "    random.seed(time.time())\n",
    "\n",
    "    df = df.replace(\"n\", 0)\n",
    "    #df = df.replace(\"unknown\", random.randint(0, 1))   # random values for unknown/undecided voters\n",
    "    df = df.replace(\"unknown\", 0.5)\n",
    "    df = df.replace(\"y\", 1)\n",
    "    return df\n"
   ]
  },
  {
   "cell_type": "code",
   "execution_count": 107,
   "metadata": {},
   "outputs": [],
   "source": [
    "df = parse_congressional_voting(\"train\")\n",
    "df = preprocess_df(df)\n",
    "\n",
    "X = df.drop(df.columns[[0, 1]], axis=1) # remove ID and class for X df\n",
    "Y = df.drop(df.columns[[i for i in range(2, df.shape[1])]], axis=1) # only keet classification for Y df\n",
    "Y = Y.drop(\"ID\", axis=1)\n",
    "\n",
    "clf = tree.DecisionTreeClassifier(criterion=\"gini\")\n",
    "clf = clf.fit(X, Y)\n",
    "\n",
    "#tree.plot_tree(clf) \n"
   ]
  },
  {
   "cell_type": "code",
   "execution_count": 108,
   "metadata": {},
   "outputs": [
    {
     "output_type": "stream",
     "name": "stdout",
     "text": [
      "True     0.626728\nFalse    0.373272\nName: different, dtype: float64\n"
     ]
    }
   ],
   "source": [
    "test_df = parse_congressional_voting(\"test\")\n",
    "ID_df = test_df[\"ID\"]\n",
    "test_df = test_df.drop(\"ID\", axis=1)\n",
    "test_df = preprocess_df(test_df)\n",
    "result = clf.predict(test_df)\n",
    "\n",
    "result_df = pd.DataFrame(data=ID_df)\n",
    "result_df[\"class\"] = result\n",
    "\n",
    "sol_df = parse_congressional_voting(\"sampleSubmission\")\n",
    "print(compare_df(sol_df, result_df, \"class\"))"
   ]
  },
  {
   "cell_type": "code",
   "execution_count": null,
   "metadata": {},
   "outputs": [],
   "source": []
  }
 ]
}