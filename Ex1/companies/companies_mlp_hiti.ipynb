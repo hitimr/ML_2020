{
 "metadata": {
  "language_info": {
   "codemirror_mode": {
    "name": "ipython",
    "version": 3
   },
   "file_extension": ".py",
   "mimetype": "text/x-python",
   "name": "python",
   "nbconvert_exporter": "python",
   "pygments_lexer": "ipython3",
   "version": "3.7.9-final"
  },
  "orig_nbformat": 2,
  "kernelspec": {
   "name": "Python 3.7.9 64-bit",
   "display_name": "Python 3.7.9 64-bit",
   "metadata": {
    "interpreter": {
     "hash": "0600588c3b5f4418cbe7b5ebc6825b479f3bc010269d8b60d75058cdd010adfe"
    }
   }
  }
 },
 "nbformat": 4,
 "nbformat_minor": 2,
 "cells": [
  {
   "cell_type": "code",
   "execution_count": 4,
   "metadata": {},
   "outputs": [],
   "source": [
    "# General imports\n",
    "import numpy as np\n",
    "\n",
    "# Data Analysis\n",
    "import pandas as pd\n",
    "from sklearn.model_selection import train_test_split\n",
    "from sklearn.metrics import confusion_matrix\n",
    "from sklearn.neural_network import MLPClassifier\n",
    "from sklearn.impute import SimpleImputer, KNNImputer\n",
    "from sklearn.preprocessing import MinMaxScaler, Normalizer\n",
    "\n",
    "\n",
    "# Custom Stuff\n",
    "# required for importin modules from other directories\n",
    "import os,sys,inspect\n",
    "currentdir = os.path.dirname(os.path.abspath(inspect.getfile(inspect.currentframe())))\n",
    "parentdir = os.path.dirname(currentdir)\n",
    "sys.path.insert(0,parentdir)\n",
    "\n",
    "from common import data_parser, misc\n",
    "from common.model_trainer import ModelTrainer\n",
    "import companies_data_preprocessor"
   ]
  },
  {
   "source": [
    "# Data Preparation"
   ],
   "cell_type": "markdown",
   "metadata": {}
  },
  {
   "cell_type": "code",
   "execution_count": 5,
   "metadata": {},
   "outputs": [],
   "source": [
    "df = data_parser.parse_companies(5)\n",
    "raw_data, labels = companies_data_preprocessor.preprocess(df, MinMaxScaling=True, imputation=0)\n",
    "\n",
    "\n"
   ]
  },
  {
   "source": [
    "# Model Training"
   ],
   "cell_type": "markdown",
   "metadata": {}
  },
  {
   "cell_type": "code",
   "execution_count": 6,
   "metadata": {},
   "outputs": [
    {
     "output_type": "stream",
     "name": "stdout",
     "text": [
      "[(5, 5), (5, 6), (5, 7), (5, 8), (5, 9), (6, 5), (6, 6), (6, 7), (6, 8), (6, 9), (7, 5), (7, 6), (7, 7), (7, 8), (7, 9), (8, 5), (8, 6), (8, 7), (8, 8), (8, 9), (9, 5), (9, 6), (9, 7), (9, 8), (9, 9)]\n",
      "Finished evaluation\n",
      "Best parameteters found with: {'hidden_layer_sizes': (5, 5), 'alpha': 0.0001}\n",
      "score= 1.2492949802594473\n",
      "Total evaluation time = 13.00s\n",
      "   hidden_layer_sizes   alpha     score\n",
      "0              (5, 5)  0.0010  1.192329\n",
      "1              (5, 5)  0.0001  1.249295\n",
      "2              (5, 6)  0.0010  1.192329\n",
      "3              (5, 6)  0.0001  1.249295\n",
      "4              (5, 7)  0.0010  1.249295\n",
      "5              (5, 7)  0.0001  1.249295\n",
      "6              (5, 8)  0.0010  1.249295\n",
      "7              (5, 8)  0.0001  1.192329\n",
      "8              (5, 9)  0.0010  1.249295\n",
      "9              (5, 9)  0.0001  1.197970\n",
      "10             (6, 5)  0.0010  1.249295\n",
      "11             (6, 5)  0.0001  1.249295\n",
      "12             (6, 6)  0.0010  1.055274\n",
      "13             (6, 6)  0.0001  1.249295\n",
      "14             (6, 7)  0.0010  1.249295\n",
      "15             (6, 7)  0.0001  1.249295\n",
      "16             (6, 8)  0.0010  1.084038\n",
      "17             (6, 8)  0.0001  0.787366\n",
      "18             (6, 9)  0.0010  1.089679\n",
      "19             (6, 9)  0.0001  1.249295\n",
      "20             (7, 5)  0.0010  1.197970\n",
      "21             (7, 5)  0.0001  1.157924\n",
      "22             (7, 6)  0.0010  1.095319\n",
      "23             (7, 6)  0.0001  1.249295\n",
      "24             (7, 7)  0.0010  1.197970\n",
      "25             (7, 7)  0.0001  1.249295\n",
      "26             (7, 8)  0.0010  1.100959\n",
      "27             (7, 8)  0.0001  1.249295\n",
      "28             (7, 9)  0.0010  1.249295\n",
      "29             (7, 9)  0.0001  1.249295\n",
      "30             (8, 5)  0.0010  1.192329\n",
      "31             (8, 5)  0.0001  1.197970\n",
      "32             (8, 6)  0.0010  1.192329\n",
      "33             (8, 6)  0.0001  1.146644\n",
      "34             (8, 7)  0.0010  1.084038\n",
      "35             (8, 7)  0.0001  1.249295\n",
      "36             (8, 8)  0.0010  1.141004\n",
      "37             (8, 8)  0.0001  1.197970\n",
      "38             (8, 9)  0.0010  1.043993\n",
      "39             (8, 9)  0.0001  1.038353\n",
      "40             (9, 5)  0.0010  0.941342\n",
      "41             (9, 5)  0.0001  1.197970\n",
      "42             (9, 6)  0.0010  1.112239\n",
      "43             (9, 6)  0.0001  1.192329\n",
      "44             (9, 7)  0.0010  1.249295\n",
      "45             (9, 7)  0.0001  1.197970\n",
      "46             (9, 8)  0.0010  1.249295\n",
      "47             (9, 8)  0.0001  1.112239\n",
      "48             (9, 9)  0.0010  0.946983\n",
      "49             (9, 9)  0.0001  0.998308\n"
     ]
    }
   ],
   "source": [
    "# Simple Imputation with 0\n",
    "preprocessed_data = pd.DataFrame(SimpleImputer(missing_values=np.NaN, strategy=\"constant\", fill_value=0).fit_transform(raw_data))\n",
    "\n",
    "# Normalization with l1 norm\n",
    "preprocessed_data = pd.DataFrame(Normalizer(norm=\"l1\").fit_transform(preprocessed_data))\n",
    "\n",
    "\n",
    "\n",
    "#plot_params(preprocessed_data, labels, fileName=\"companies_knn_Imputation_0_l1Norm\", title=\"Imputation with 0, normalization with l1\")\n",
    "\n",
    "\n",
    "x_train, x_test, y_train, y_test = train_test_split(preprocessed_data, labels, test_size=0.3, random_state=1 )\n",
    "\n",
    "hidden_layers = []\n",
    "for i in range(5,10):\n",
    "    for j in range(5,10):\n",
    "        hidden_layers.append((i,j))\n",
    "print(hidden_layers)\n",
    "params = {\n",
    "    \"hidden_layer_sizes\" : hidden_layers, \n",
    "    \"alpha\" : [0.001, 0.0001],\n",
    "    #solver\" : [\"lbfgs\", \"sgd\", \"adam\"]\n",
    "    }\n",
    "\n",
    "modeltrainer = ModelTrainer(MLPClassifier, params, x_train, y_train, x_test, y_test, companies_data_preprocessor.calculate_score, thread_cnt=8)\n",
    "modeltrainer.train()\n",
    "print(modeltrainer.result)\n"
   ]
  },
  {
   "cell_type": "code",
   "execution_count": null,
   "metadata": {},
   "outputs": [],
   "source": []
  }
 ]
}