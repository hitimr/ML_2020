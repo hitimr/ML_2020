{
 "metadata": {
  "language_info": {
   "codemirror_mode": {
    "name": "ipython",
    "version": 3
   },
   "file_extension": ".py",
   "mimetype": "text/x-python",
   "name": "python",
   "nbconvert_exporter": "python",
   "pygments_lexer": "ipython3",
   "version": "3.7.0-final"
  },
  "orig_nbformat": 2,
  "kernelspec": {
   "name": "python37064bit36355687efce4617ad2222da0100285c",
   "display_name": "Python 3.7.0 64-bit"
  }
 },
 "nbformat": 4,
 "nbformat_minor": 2,
 "cells": [
  {
   "cell_type": "code",
   "execution_count": 141,
   "metadata": {},
   "outputs": [],
   "source": [
    "import scipy, time, random, time\n",
    "import pandas as pd\n",
    "import numpy as np\n",
    "\n",
    "from sklearn.neighbors import KNeighborsClassifier\n",
    "from sklearn.model_selection import train_test_split\n",
    "\n",
    "# required for importin modules from other directories\n",
    "import os,sys,inspect\n",
    "currentdir = os.path.dirname(os.path.abspath(inspect.getfile(inspect.currentframe())))\n",
    "parentdir = os.path.dirname(currentdir)\n",
    "sys.path.insert(0,parentdir) \n",
    "from common.data_parser import *\n",
    "from common.misc import *"
   ]
  },
  {
   "cell_type": "code",
   "execution_count": 142,
   "metadata": {},
   "outputs": [],
   "source": [
    "def preprocess(df):\n",
    "    \n",
    "    df = drop_cols(df, 0.5)\n",
    "\n",
    "    df = df.replace(np.NaN, 0)\n",
    "    df = df.astype('int')\n",
    "    print(\"Number of missing values:\", count_missing_vals(df))\n",
    "    return df\n",
    "\n",
    "\n",
    "def drop_cols(df, cutoff):\n",
    "    row_cnt = df.shape[0]\n",
    "    dropped_cols = []\n",
    "\n",
    "    # Iterate over columns and calculate relative amount of missing data\n",
    "    for col in df:\n",
    "        missing_cnt = df[col].isna().sum()\n",
    "\n",
    "        # drop col if above cutoff\n",
    "        if missing_cnt / row_cnt > cutoff:\n",
    "\n",
    "            dropped_cols.append(col)\n",
    "\n",
    "    df = df.drop(dropped_cols, axis=1)\n",
    "    print(\"Dropped\", dropped_cols)\n",
    "    return df\n",
    "\n",
    "\n",
    "def replace_missing_vals(df):\n",
    "    for col in df:\n",
    "        for entry in df[col]:\n",
    "            if entry != True:\n",
    "                df[col][entry] = 0\n",
    "    return df\n",
    "    \n",
    "def count_missing_vals(df):   \n",
    "    # Helopful ressource: https://towardsdatascience.com/how-to-check-for-missing-values-in-pandas-d2749e45a345\n",
    "    return df.isna().sum().sum()"
   ]
  },
  {
   "cell_type": "code",
   "execution_count": 142,
   "metadata": {},
   "outputs": [],
   "source": [
    "\n",
    "\n"
   ]
  },
  {
   "cell_type": "code",
   "execution_count": 143,
   "metadata": {},
   "outputs": [
    {
     "output_type": "stream",
     "name": "stdout",
     "text": [
      "Dropped []\nNumber of missing values: 0\n"
     ]
    }
   ],
   "source": [
    "df = parse_companies(5)\n",
    "df = preprocess(df)\n"
   ]
  },
  {
   "cell_type": "code",
   "execution_count": 144,
   "metadata": {},
   "outputs": [],
   "source": [
    "#data = df.iloc[:,[2,3,4,5]]\n",
    "data = df.iloc[:,2:-1]\n",
    "labels = df.iloc[:,[-1]]\n",
    "x_train, x_test, y_train, y_test = train_test_split(data, labels, test_size=0.1, random_state=1 )\n",
    "\n",
    "#_train = y_train.astype('int')\n"
   ]
  },
  {
   "cell_type": "code",
   "execution_count": 145,
   "metadata": {},
   "outputs": [
    {
     "output_type": "stream",
     "name": "stdout",
     "text": [
      "k = 2 Accuracy = 0.922165820642978\n",
      "k = 3 Accuracy = 0.9204737732656514\n",
      "k = 4 Accuracy = 0.922165820642978\n",
      "k = 5 Accuracy = 0.9238578680203046\n",
      "k = 6 Accuracy = 0.922165820642978\n",
      "k = 7 Accuracy = 0.922165820642978\n",
      "k = 8 Accuracy = 0.922165820642978\n",
      "k = 9 Accuracy = 0.922165820642978\n",
      "k = 10 Accuracy = 0.9238578680203046\n",
      "k = 11 Accuracy = 0.922165820642978\n",
      "k = 12 Accuracy = 0.922165820642978\n",
      "k = 13 Accuracy = 0.9238578680203046\n",
      "k = 14 Accuracy = 0.9255499153976311\n",
      "k = 15 Accuracy = 0.9204737732656514\n",
      "k = 16 Accuracy = 0.9204737732656514\n",
      "k = 17 Accuracy = 0.922165820642978\n",
      "k = 18 Accuracy = 0.922165820642978\n",
      "k = 19 Accuracy = 0.922165820642978\n"
     ]
    }
   ],
   "source": [
    "max_k = 20\n",
    "for k in range(2, max_k):\n",
    "    model = KNeighborsClassifier(n_neighbors=k).fit(x_train, y_train)\n",
    "    result = pd.DataFrame()\n",
    "    result[\"class\"] = model.predict(x_test)\n",
    "    print(\"k = %s Accuracy = %s\" % (k, compare_df(result, y_test, \"class\")[0]))\n"
   ]
  },
  {
   "cell_type": "code",
   "execution_count": null,
   "metadata": {},
   "outputs": [],
   "source": []
  }
 ]
}