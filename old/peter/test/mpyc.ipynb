{
 "metadata": {
  "language_info": {
   "codemirror_mode": {
    "name": "ipython",
    "version": 3
   },
   "file_extension": ".py",
   "mimetype": "text/x-python",
   "name": "python",
   "nbconvert_exporter": "python",
   "pygments_lexer": "ipython3",
   "version": "3.7.9-final"
  },
  "orig_nbformat": 2,
  "kernelspec": {
   "name": "python3",
   "display_name": "Python 3",
   "language": "python"
  }
 },
 "nbformat": 4,
 "nbformat_minor": 2,
 "cells": [
  {
   "cell_type": "code",
   "execution_count": null,
   "metadata": {},
   "outputs": [],
   "source": [
    "from mpyc.runtime import mpc"
   ]
  },
  {
   "source": [
    "# Some MPyC stuff\n",
    "\n",
    "Some slides explaining background: https://www.win.tue.nl/~berry/mpyc/TPMPC2018.pdf\n",
    "\n",
    "The tutorial we're following here: https://github.com/lschoe/mpyc/blob/master/demos/SecretSantaExplained.ipynb\n",
    "\n",
    "Even more examples/demos: https://github.com/lschoe/mpyc/tree/master/demos\n",
    "\n",
    "SecureNets explained: https://github.com/lschoe/mpyc/blob/master/demos/SecureSortingNetsExplained.ipynb"
   ],
   "cell_type": "markdown",
   "metadata": {}
  },
  {
   "source": [
    "# Start MPC runtime"
   ],
   "cell_type": "markdown",
   "metadata": {}
  },
  {
   "cell_type": "code",
   "execution_count": null,
   "metadata": {},
   "outputs": [],
   "source": [
    "secint = mpc.SecInt() # 32-bit secure MPyC integers"
   ]
  },
  {
   "source": [
    "# Do the stuff"
   ],
   "cell_type": "markdown",
   "metadata": {}
  },
  {
   "cell_type": "code",
   "execution_count": null,
   "metadata": {},
   "outputs": [],
   "source": [
    "# Multiparty comp\n",
    "mpc.run(mpc.start())  # required only when run with multiple parties"
   ]
  },
  {
   "cell_type": "code",
   "execution_count": null,
   "metadata": {},
   "outputs": [],
   "source": []
  },
  {
   "source": [
    "# Shutdown"
   ],
   "cell_type": "markdown",
   "metadata": {}
  },
  {
   "cell_type": "code",
   "execution_count": null,
   "metadata": {},
   "outputs": [],
   "source": [
    "mport sys; sys.exit()    # stop execution here when this notebook is run as a Python script, see below"
   ]
  }
 ]
}