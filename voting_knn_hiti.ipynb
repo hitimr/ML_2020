{
 "metadata": {
  "language_info": {
   "codemirror_mode": {
    "name": "ipython",
    "version": 3
   },
   "file_extension": ".py",
   "mimetype": "text/x-python",
   "name": "python",
   "nbconvert_exporter": "python",
   "pygments_lexer": "ipython3",
   "version": "3.7.0-final"
  },
  "orig_nbformat": 2,
  "kernelspec": {
   "name": "python37064bit36355687efce4617ad2222da0100285c",
   "display_name": "Python 3.7.0 64-bit"
  }
 },
 "nbformat": 4,
 "nbformat_minor": 2,
 "cells": [
  {
   "cell_type": "code",
   "execution_count": 92,
   "metadata": {},
   "outputs": [],
   "source": [
    "import scipy, time, random, time\n",
    "import pandas as pd\n",
    "import numpy as np\n",
    "\n",
    "from sklearn.neighbors import KNeighborsClassifier\n",
    "from sklearn.model_selection import train_test_split\n",
    "\n",
    "# required for importin modules from other directories\n",
    "import os,sys,inspect\n",
    "currentdir = os.path.dirname(os.path.abspath(inspect.getfile(inspect.currentframe())))\n",
    "parentdir = os.path.dirname(currentdir)\n",
    "sys.path.insert(0,parentdir) \n",
    "from common.data_parser import *\n",
    "from common.misc import *"
   ]
  },
  {
   "cell_type": "code",
   "execution_count": 93,
   "metadata": {},
   "outputs": [],
   "source": [
    "def preprocess(df):\n",
    "    random.seed(time.time())\n",
    "\n",
    "    #df.reset_index()\n",
    "    #df.drop(\"ID\")\n",
    "\n",
    "\n",
    "    df = df.replace(\"n\", 0)\n",
    "    #df = df.replace(\"unknown\", random.randint(0, 1))   # random values for unknown/undecided voters\n",
    "    df = df.replace(\"unknown\", 0.5)\n",
    "    df = df.replace(\"y\", 1)\n",
    "    df = df.replace(\"republican\", 0)\n",
    "    df = df.replace(\"democrat\", 1)\n",
    "    return df"
   ]
  },
  {
   "cell_type": "code",
   "execution_count": 100,
   "metadata": {},
   "outputs": [
    {
     "output_type": "stream",
     "name": "stdout",
     "text": [
      "k = 1 Accuracy = 0.9090909090909091\nk = 2 Accuracy = 0.9090909090909091\nk = 3 Accuracy = 0.9090909090909091\nk = 4 Accuracy = 0.8863636363636364\nk = 5 Accuracy = 0.8863636363636364\nk = 6 Accuracy = 0.8863636363636364\nk = 7 Accuracy = 0.8863636363636364\nk = 8 Accuracy = 0.9318181818181818\nk = 9 Accuracy = 0.9318181818181818\nk = 10 Accuracy = 0.9318181818181818\nk = 11 Accuracy = 0.9318181818181818\nk = 12 Accuracy = 0.9090909090909091\nk = 13 Accuracy = 0.9318181818181818\nk = 14 Accuracy = 0.9545454545454546\nk = 15 Accuracy = 0.9318181818181818\nk = 16 Accuracy = 0.9318181818181818\nk = 17 Accuracy = 0.9318181818181818\nk = 18 Accuracy = 0.9318181818181818\nk = 19 Accuracy = 0.9318181818181818\n"
     ]
    }
   ],
   "source": [
    "df = parse_congressional_voting(\"train\")\n",
    "df = preprocess(df)\n",
    "\n",
    "df.reset_index()\n",
    "#data = df.iloc[:,[2,3,4,5]]\n",
    "data = df.iloc[:,2:]\n",
    "labels = df.iloc[:,[1]]\n",
    "random.seed(time.time())\n",
    "x_train, x_test, y_train, y_test = train_test_split(data,labels, test_size=0.2, random_state=1 )\n",
    "\n",
    "\n",
    "max_k = 20\n",
    "for k in range(1, max_k):\n",
    "    model = KNeighborsClassifier(n_neighbors=k).fit(x_train, y_train)\n",
    "    result = pd.DataFrame()\n",
    "    result[\"class\"] = model.predict(x_test)\n",
    "    print(\"k = %s Accuracy = %s\" % (k, compare_df(result, y_test, \"class\")[0]))"
   ]
  },
  {
   "cell_type": "code",
   "execution_count": null,
   "metadata": {},
   "outputs": [],
   "source": []
  }
 ]
}