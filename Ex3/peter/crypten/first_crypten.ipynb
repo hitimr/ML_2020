{
 "cells": [
  {
   "cell_type": "markdown",
   "metadata": {},
   "source": [
    "# Introduction to Encrypted Tensors\n",
    "\n",
    "Following along here: <https://www.youtube.com/watch?v=CLunSEdSDaA>"
   ]
  },
  {
   "cell_type": "markdown",
   "metadata": {},
   "source": [
    "## Docs\n",
    "\n",
    "Main: <https://crypten.readthedocs.io/en/latest/mpctensor.html>\n",
    "\n",
    "- CrypTensor: https://crypten.readthedocs.io/en/latest/cryptensor.html\n",
    "- MPCTensor: https://crypten.readthedocs.io/en/latest/mpctensor.html\n",
    "- Neural Nets: https://crypten.readthedocs.io/en/latest/nn.html"
   ]
  },
  {
   "cell_type": "code",
   "execution_count": null,
   "metadata": {},
   "outputs": [],
   "source": [
    "import sys\n",
    "\n",
    "import torch\n",
    "import torchvision\n",
    "import crypten\n",
    "\n",
    "assert sys.version_info[0] == 3 and sys.version_info[1] == 7, \"python 3.7 is required!\"\n",
    "\n",
    "print(f\"Okay, good! You have: {sys.version_info[:3]}\")\n",
    "# Now we can init crypten!\n",
    "crypten.init()"
   ]
  },
  {
   "cell_type": "code",
   "execution_count": null,
   "metadata": {},
   "outputs": [],
   "source": [
    "x = crypten.cryptensor([1, 2, 3])\n",
    "x"
   ]
  },
  {
   "cell_type": "code",
   "execution_count": null,
   "metadata": {},
   "outputs": [],
   "source": [
    "# Make it readable\n",
    "x.get_plain_text()"
   ]
  },
  {
   "cell_type": "markdown",
   "metadata": {},
   "source": [
    "## Let's test some operations\n",
    "\n",
    "More operations here: [docs](https://crypten.readthedocs.io/en/latest/cryptensor.html#tensor-operations)"
   ]
  },
  {
   "cell_type": "code",
   "execution_count": null,
   "metadata": {},
   "outputs": [],
   "source": [
    "a = (2+x)\n",
    "a.get_plain_text()"
   ]
  },
  {
   "cell_type": "code",
   "execution_count": null,
   "metadata": {},
   "outputs": [],
   "source": [
    "b = (a+x)\n",
    "b.get_plain_text()"
   ]
  },
  {
   "cell_type": "code",
   "execution_count": null,
   "metadata": {},
   "outputs": [],
   "source": [
    "c = x*a\n",
    "c.get_plain_text()"
   ]
  },
  {
   "cell_type": "code",
   "execution_count": null,
   "metadata": {},
   "outputs": [],
   "source": [
    "d = x.dot(a)\n",
    "d.get_plain_text()"
   ]
  },
  {
   "cell_type": "code",
   "execution_count": null,
   "metadata": {},
   "outputs": [],
   "source": [
    "# Lets compute Mean Squared Loss\n",
    "\n",
    "sql = (x - c)**2\n",
    "msql = sql.mean()\n",
    "\n",
    "msql.get_plain_text()"
   ]
  },
  {
   "cell_type": "code",
   "execution_count": null,
   "metadata": {},
   "outputs": [],
   "source": [
    "# The pytorch version\n",
    "x_pt = torch.tensor([1,2,3.])\n",
    "c_pt = x_pt*(2+x_pt)\n",
    "\n",
    "sql_pt = (x_pt - c_pt)**2\n",
    "msql_pt = sql_pt.mean().abs()\n",
    "print(msql_pt)"
   ]
  },
  {
   "cell_type": "markdown",
   "metadata": {},
   "source": [
    "## Neural Nets\n",
    "\n",
    "[Docs](https://crypten.readthedocs.io/en/latest/nn.html)\n",
    "\n",
    "`crypten.nn` provides modules for defining and training neural networks similar to `torch.nn`.\n",
    "\n",
    "### From PyTorch to CrypTen\n",
    "\n",
    "The simplest way to create a CrypTen network is to start with a PyTorch network, and use the `from_pytorch` function to convert it to a CrypTen network. This is particularly useful for pre-trained PyTorch networks that need to be encrypted before use."
   ]
  },
  {
   "cell_type": "code",
   "execution_count": null,
   "metadata": {},
   "outputs": [],
   "source": [
    "# Load parent folders into path\n",
    "import os,sys,inspect\n",
    "currentdir = os.path.dirname(os.path.abspath(inspect.getfile(inspect.currentframe())))\n",
    "parentdir = os.path.dirname(currentdir)\n",
    "sys.path.insert(0,parentdir) \n",
    "# Import some config variables\n",
    "from config import PETER_ROOT, DATA_DIR, MNIST_SIZE\n",
    "\n",
    "# Load a pytorch net\n",
    "from ZeNet.nets import *\n",
    "\n",
    "# Plotting\n",
    "from plot_mnist import plot_batch"
   ]
  },
  {
   "cell_type": "code",
   "execution_count": null,
   "metadata": {},
   "outputs": [],
   "source": [
    "torch.set_num_threads(1)\n",
    "\n",
    "subset = 1/60\n",
    "train_ratio = 0.75\n",
    "test_ratio = 1 - train_ratio\n",
    "batch_size_train = int((subset * MNIST_SIZE) * train_ratio)\n",
    "batch_size_test = int((subset * MNIST_SIZE) * test_ratio)\n",
    "\n",
    "print(f\"Using train_test ratios: {train_ratio} : {test_ratio}\")\n",
    "print(f\"Train batch size: {batch_size_train}\")\n",
    "print(f\"Test batch size: {batch_size_test}\")"
   ]
  },
  {
   "cell_type": "code",
   "execution_count": null,
   "metadata": {},
   "outputs": [],
   "source": [
    "net = Net1()\n",
    "net"
   ]
  },
  {
   "cell_type": "code",
   "execution_count": null,
   "metadata": {},
   "outputs": [],
   "source": [
    "# Load data if needed\n",
    "train_loader = torch.utils.data.DataLoader(\n",
    "  torchvision.datasets.MNIST(DATA_DIR, train=True, download=True,\n",
    "                             transform=torchvision.transforms.Compose([\n",
    "                               torchvision.transforms.ToTensor(),\n",
    "                               torchvision.transforms.Normalize(\n",
    "                                 (0.1307,), (0.3081,))\n",
    "                             ])),\n",
    "  batch_size=batch_size_train, shuffle=True)\n",
    "\n",
    "test_loader = torch.utils.data.DataLoader(\n",
    "  torchvision.datasets.MNIST(DATA_DIR, train=False, download=True,\n",
    "                             transform=torchvision.transforms.Compose([\n",
    "                               torchvision.transforms.ToTensor(),\n",
    "                               torchvision.transforms.Normalize(\n",
    "                                 (0.1307,), (0.3081,))\n",
    "                             ])),\n",
    "  batch_size=batch_size_test, shuffle=True)\n",
    "\n",
    "  # If he needs to download it, cause it's not already in the data folder, he/she/it would do so and say so below."
   ]
  },
  {
   "cell_type": "code",
   "execution_count": null,
   "metadata": {},
   "outputs": [],
   "source": [
    "examples = enumerate(test_loader)\n",
    "batch_idx, (data, targets) = next(examples)"
   ]
  },
  {
   "cell_type": "code",
   "execution_count": null,
   "metadata": {},
   "outputs": [],
   "source": [
    "batch_idx, data.shape, targets.shape"
   ]
  },
  {
   "cell_type": "code",
   "execution_count": null,
   "metadata": {},
   "outputs": [],
   "source": [
    "print(f\"type: {type(data)}\")\n",
    "print(data.shape)\n",
    "\n",
    "print(f\"Means that we have {data.shape[0]} images of size {data.shape[2]}x{data.shape[3]} in {data.shape[1]} color channels (1 channel = greyscale)\")"
   ]
  },
  {
   "cell_type": "code",
   "execution_count": null,
   "metadata": {},
   "outputs": [],
   "source": [
    "plot_batch(data, targets)"
   ]
  },
  {
   "cell_type": "markdown",
   "metadata": {},
   "source": [
    "## Private sharing of samples and labels\n",
    "\n",
    "We're going to stick to CrypTens ABC naming \"convention\", so\n",
    "\n",
    "- Alice = 0\n",
    "- Bob = 1\n",
    "- Carl = 2\n",
    "- Daniel = 3\n",
    "- ..."
   ]
  },
  {
   "cell_type": "markdown",
   "metadata": {},
   "source": [
    "## Setup 1: Alice has samples, Bob has lables\n",
    "\n",
    "Maybe this doesn't seem to applicable, but think of something like healthcare data instead:\n",
    "\n",
    "- Alice has general data about a person\n",
    "- Bob has diagnostic data about the patient\n",
    "\n",
    "We'd like to learn how to predict the likelyhood of someone falling ill to a specific illness, but don't want to get in trouble with the EU over Data Privacy laws!\n",
    "\n",
    "### Assign ranks to each participant"
   ]
  },
  {
   "cell_type": "code",
   "execution_count": null,
   "metadata": {},
   "outputs": [],
   "source": [
    "from pathlib import Path"
   ]
  },
  {
   "cell_type": "code",
   "execution_count": null,
   "metadata": {},
   "outputs": [],
   "source": [
    "\n",
    "ALICE = 0\n",
    "BOB = 1\n",
    "CARL = 2\n",
    "\n",
    "participants = [\"alice\", \"bob\"]\n",
    "TMP_DIR = Path(\"./TMP\")\n",
    "print(f\"Our temporary data will land here: {TMP_DIR}\")"
   ]
  },
  {
   "cell_type": "code",
   "execution_count": null,
   "metadata": {},
   "outputs": [],
   "source": [
    "from crypten import mpc\n",
    "\n",
    "# Specify file locations to save each piece of data\n",
    "filenames = {\n",
    "    \"features\": \"/tmp/features.pth\",\n",
    "    \"labels\": \"/tmp/labels.pth\",\n",
    "    \"b_true\": \"/tmp/b_true.pth\",\n",
    "    \"test_features\": \"/tmp/test_features.pth\",\n",
    "    \"test_labels\": \"/tmp/test_labels.pth\",\n",
    "    \"w_true\": \"/tmp/w_true.pth\",\n",
    "}\n",
    "\n",
    "for u in participants:\n",
    "    filenames[\"features_\"+u] = TMP_DIR / (\"feautures_\" + u)\n",
    "    filenames[\"samples_\"+u] = TMP_DIR / (\"samples_\" + u)\n",
    "\n"
   ]
  },
  {
   "cell_type": "code",
   "execution_count": null,
   "metadata": {},
   "outputs": [],
   "source": [
    "\n",
    "@mpc.run_multiprocess(world_size=2)\n",
    "def save_all_data():\n",
    "    # Save features, labels for Data Labeling example\n",
    "    crypten.save(features, filenames[\"features\"])\n",
    "    crypten.save(labels, filenames[\"labels\"])\n",
    "    \n",
    "    # Save split features for Feature Aggregation example\n",
    "    features_alice = features[:50]\n",
    "    features_bob = features[50:]\n",
    "    \n",
    "    crypten.save(features_alice, filenames[\"features_alice\"], src=ALICE)\n",
    "    crypten.save(features_bob, filenames[\"features_bob\"], src=BOB)\n",
    "    \n",
    "    # Save split dataset for Dataset Aggregation example\n",
    "    samples_alice = features[:, :500]\n",
    "    samples_bob = features[:, 500:]\n",
    "    crypten.save(samples_alice, filenames[\"samples_alice\"], src=ALICE)\n",
    "    crypten.save(samples_bob, filenames[\"samples_bob\"], src=BOB)\n",
    "    \n",
    "    # Save true model weights and biases for Model Hiding example\n",
    "    crypten.save(w_true, filenames[\"w_true\"], src=ALICE)\n",
    "    crypten.save(b_true, filenames[\"b_true\"], src=ALICE)\n",
    "    \n",
    "    crypten.save(test_features, filenames[\"test_features\"], src=BOB)\n",
    "    crypten.save(test_labels, filenames[\"test_labels\"], src=BOB)\n",
    "    \n",
    "save_all_data()"
   ]
  }
 ],
 "metadata": {
  "kernelspec": {
   "display_name": "Python 3",
   "language": "python",
   "name": "python3"
  },
  "language_info": {
   "codemirror_mode": {
    "name": "ipython",
    "version": 3
   },
   "file_extension": ".py",
   "mimetype": "text/x-python",
   "name": "python",
   "nbconvert_exporter": "python",
   "pygments_lexer": "ipython3",
   "version": "3.7.9"
  }
 },
 "nbformat": 4,
 "nbformat_minor": 4
}
