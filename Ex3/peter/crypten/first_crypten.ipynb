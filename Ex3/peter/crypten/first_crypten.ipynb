{
 "cells": [
  {
   "cell_type": "markdown",
   "metadata": {},
   "source": [
    "# Introduction to Encrypted Tensors\n",
    "\n",
    "Following along here: <https://www.youtube.com/watch?v=CLunSEdSDaA>\n",
    "\n",
    "*Note*: I gathered all relevant imports at the start of each chapter."
   ]
  },
  {
   "cell_type": "markdown",
   "metadata": {},
   "source": [
    "## Docs\n",
    "\n",
    "Main: <https://crypten.readthedocs.io/en/latest/mpctensor.html>\n",
    "\n",
    "- CrypTensor: https://crypten.readthedocs.io/en/latest/cryptensor.html\n",
    "- MPCTensor: https://crypten.readthedocs.io/en/latest/mpctensor.html\n",
    "- Neural Nets: https://crypten.readthedocs.io/en/latest/nn.html"
   ]
  },
  {
   "cell_type": "code",
   "execution_count": null,
   "metadata": {},
   "outputs": [],
   "source": [
    "import sys\n",
    "\n",
    "\n",
    "import torch\n",
    "import torchvision\n",
    "import crypten\n",
    "\n",
    "assert sys.version_info[0] == 3 and sys.version_info[1] == 7, \"python 3.7 is required!\"\n",
    "\n",
    "print(f\"Okay, good! You have: {sys.version_info[:3]}\")\n",
    "# Now we can init crypten!\n",
    "crypten.init()"
   ]
  },
  {
   "cell_type": "code",
   "execution_count": null,
   "metadata": {},
   "outputs": [],
   "source": [
    "x = crypten.cryptensor([1, 2, 3])\n",
    "x"
   ]
  },
  {
   "cell_type": "code",
   "execution_count": null,
   "metadata": {},
   "outputs": [],
   "source": [
    "# Make it readable\n",
    "x.get_plain_text()"
   ]
  },
  {
   "cell_type": "markdown",
   "metadata": {},
   "source": [
    "## Let's test some operations\n",
    "\n",
    "More operations here: [docs](https://crypten.readthedocs.io/en/latest/cryptensor.html#tensor-operations)"
   ]
  },
  {
   "cell_type": "code",
   "execution_count": null,
   "metadata": {},
   "outputs": [],
   "source": [
    "a = (2+x)\n",
    "a.get_plain_text()"
   ]
  },
  {
   "cell_type": "code",
   "execution_count": null,
   "metadata": {},
   "outputs": [],
   "source": [
    "b = (a+x)\n",
    "b.get_plain_text()"
   ]
  },
  {
   "cell_type": "code",
   "execution_count": null,
   "metadata": {},
   "outputs": [],
   "source": [
    "c = x*a\n",
    "c.get_plain_text()"
   ]
  },
  {
   "cell_type": "code",
   "execution_count": null,
   "metadata": {},
   "outputs": [],
   "source": [
    "d = x.dot(a)\n",
    "d.get_plain_text()"
   ]
  },
  {
   "cell_type": "code",
   "execution_count": null,
   "metadata": {},
   "outputs": [],
   "source": [
    "# Lets compute Mean Squared Loss\n",
    "\n",
    "sql = (x - c)**2\n",
    "msql = sql.mean()\n",
    "\n",
    "msql.get_plain_text()"
   ]
  },
  {
   "cell_type": "code",
   "execution_count": null,
   "metadata": {},
   "outputs": [],
   "source": [
    "# The pytorch version\n",
    "x_pt = torch.tensor([1,2,3.])\n",
    "c_pt = x_pt*(2+x_pt)\n",
    "\n",
    "sql_pt = (x_pt - c_pt)**2\n",
    "msql_pt = sql_pt.mean().abs()\n",
    "print(msql_pt)"
   ]
  },
  {
   "cell_type": "markdown",
   "metadata": {},
   "source": [
    "## Neural Nets\n",
    "\n",
    "[Docs](https://crypten.readthedocs.io/en/latest/nn.html)\n",
    "\n",
    "`crypten.nn` provides modules for defining and training neural networks similar to `torch.nn`.\n",
    "\n",
    "### From PyTorch to CrypTen\n",
    "\n",
    "The simplest way to create a CrypTen network is to start with a PyTorch network, and use the `from_pytorch` function to convert it to a CrypTen network. This is particularly useful for pre-trained PyTorch networks that need to be encrypted before use."
   ]
  },
  {
   "cell_type": "code",
   "execution_count": null,
   "metadata": {},
   "outputs": [],
   "source": [
    "# Load parent folders into path\n",
    "import os,sys,inspect\n",
    "currentdir = os.path.dirname(os.path.abspath(inspect.getfile(inspect.currentframe())))\n",
    "parentdir = os.path.dirname(currentdir)\n",
    "sys.path.insert(0,parentdir) \n",
    "# Import some config variables\n",
    "from config import PETER_ROOT, DATA_DIR, MNIST_SIZE\n",
    "\n",
    "# Load a pytorch net\n",
    "from ZeNet.nets import *\n",
    "\n",
    "# Plotting\n",
    "from plot_mnist import plot_batch"
   ]
  },
  {
   "cell_type": "markdown",
   "metadata": {},
   "source": [
    "# First: Load data normally to create setup"
   ]
  },
  {
   "cell_type": "code",
   "execution_count": null,
   "metadata": {},
   "outputs": [],
   "source": [
    "torch.set_num_threads(1)\n",
    "\n",
    "subset = 1/60\n",
    "train_ratio = 0.75\n",
    "test_ratio = 1 - train_ratio\n",
    "batch_size_train = int((subset * MNIST_SIZE) * train_ratio)\n",
    "batch_size_test = int((subset * MNIST_SIZE) * test_ratio)\n",
    "\n",
    "print(f\"Using train_test ratios: {train_ratio} : {test_ratio}\")\n",
    "print(f\"Train batch size: {batch_size_train}\")\n",
    "print(f\"Test batch size: {batch_size_test}\")"
   ]
  },
  {
   "cell_type": "code",
   "execution_count": null,
   "metadata": {},
   "outputs": [],
   "source": [
    "# Load data if needed\n",
    "train_loader = torch.utils.data.DataLoader(\n",
    "  torchvision.datasets.MNIST(DATA_DIR, train=True, download=True,\n",
    "                             transform=torchvision.transforms.Compose([\n",
    "                               torchvision.transforms.ToTensor(),\n",
    "                               torchvision.transforms.Normalize(\n",
    "                                 (0.1307,), (0.3081,))\n",
    "                             ])),\n",
    "  batch_size=batch_size_train, shuffle=True)\n",
    "\n",
    "test_loader = torch.utils.data.DataLoader(\n",
    "  torchvision.datasets.MNIST(DATA_DIR, train=False, download=True,\n",
    "                             transform=torchvision.transforms.Compose([\n",
    "                               torchvision.transforms.ToTensor(),\n",
    "                               torchvision.transforms.Normalize(\n",
    "                                 (0.1307,), (0.3081,))\n",
    "                             ])),\n",
    "  batch_size=batch_size_test, shuffle=True)\n",
    "\n",
    "  # If he needs to download it, cause it's not already in the data folder, he/she/it would do so and say so below."
   ]
  },
  {
   "cell_type": "code",
   "execution_count": null,
   "metadata": {},
   "outputs": [],
   "source": [
    "train_data = enumerate(train_loader)\n",
    "train_batch_idx, (train_batch, labels) = next(train_data)\n",
    "\n",
    "test_data = enumerate(test_loader)\n",
    "test_batch_idx, (test_batch, targets) = next(test_data)"
   ]
  },
  {
   "cell_type": "code",
   "execution_count": null,
   "metadata": {},
   "outputs": [],
   "source": [
    "train_batch_idx, train_batch.shape, labels.shape"
   ]
  },
  {
   "cell_type": "code",
   "execution_count": null,
   "metadata": {},
   "outputs": [],
   "source": [
    "test_batch_idx, test_batch.shape, targets.shape"
   ]
  },
  {
   "cell_type": "code",
   "execution_count": null,
   "metadata": {},
   "outputs": [],
   "source": [
    "def data_info(data, set_name=\"\"):\n",
    "    print(f\"type: {type(data)}\")\n",
    "    print(data.shape)\n",
    "    string = f\"Means that we have {data.shape[0]} images of size \" + f\"{data.shape[2]}x{data.shape[3]} in {data.shape[1]} color channels (1 channel = greyscale)\" \n",
    "    string += f\"in the set \\'{set_name}\\'\" if set_name != \"\" else \"\"\n",
    "    print(string)\n",
    "data_info(test_batch, \"\")"
   ]
  },
  {
   "cell_type": "code",
   "execution_count": null,
   "metadata": {},
   "outputs": [],
   "source": [
    "plot_batch(test_batch, targets)"
   ]
  },
  {
   "cell_type": "markdown",
   "metadata": {},
   "source": [
    "## Private sharing of samples and labels\n",
    "\n",
    "We're going to stick to CrypTens ABC naming \"convention\", so\n",
    "\n",
    "- Alice = 0\n",
    "- Bob = 1\n",
    "- Carl = 2\n",
    "- Daniel = 3\n",
    "- ..."
   ]
  },
  {
   "cell_type": "markdown",
   "metadata": {},
   "source": [
    "## Setup 1: Alice has samples, Bob has lables\n",
    "\n",
    "Maybe this doesn't seem to applicable, but think of something like healthcare data instead:\n",
    "\n",
    "- Alice has general data about a person\n",
    "- Bob has diagnostic data about the patient\n",
    "\n",
    "We'd like to learn how to predict the likelyhood of someone falling ill to a specific illness, but don't want to get in trouble with the EU over Data Privacy laws!\n",
    "\n",
    "### Assign ranks to each participant"
   ]
  },
  {
   "cell_type": "code",
   "execution_count": null,
   "metadata": {},
   "outputs": [],
   "source": [
    "import pathlib\n",
    "import shutil\n",
    "import crypten.communicator as mpc_comm # the communicator is similar to the MPI communicator for example"
   ]
  },
  {
   "cell_type": "code",
   "execution_count": null,
   "metadata": {},
   "outputs": [],
   "source": [
    "ALICE = 0\n",
    "BOB = 1\n",
    "\n",
    "participants = [\"alice\", \"bob\"]\n",
    "num_participants = len(participants)\n",
    "TMP_DIR = pathlib.Path(\"./TMP\")\n",
    "print(f\"Our temporary data will land here: {TMP_DIR}\")\n",
    "\n",
    "def check_and_mkdir(directory:pathlib.Path):\n",
    "    if not directory.exists():\n",
    "        print(\"TMP_DIR created\")\n",
    "        directory.mkdir()\n",
    "    \n",
    "def rm_dir(directory:pathlib.Path):\n",
    "    shutil.rmtree(directory)\n",
    "    \n",
    "check_and_mkdir(TMP_DIR)"
   ]
  },
  {
   "cell_type": "markdown",
   "metadata": {},
   "source": [
    "# Dealing with data"
   ]
  },
  {
   "cell_type": "code",
   "execution_count": null,
   "metadata": {},
   "outputs": [],
   "source": [
    "# Specify file locations to save each piece of data\n",
    "filenames = {\n",
    "    \"samples\": TMP_DIR / \"features.pth\",\n",
    "    \"labels\": TMP_DIR / \"labels.pth\",\n",
    "    \"b_true\": TMP_DIR / \"b_true.pth\",\n",
    "    \"test_samples\": TMP_DIR / \"test_samples.pth\",\n",
    "    \"targets\": TMP_DIR / \"targets.pth\",\n",
    "    \"w_true\": TMP_DIR / \"w_true.pth\",\n",
    "}\n",
    "\n",
    "for u in participants:\n",
    "    filenames[\"labels_\"+u] = TMP_DIR / (\"labels_\" + u)\n",
    "    filenames[\"samples_\"+u] = TMP_DIR / (\"samples_\" + u)\n"
   ]
  },
  {
   "cell_type": "code",
   "execution_count": null,
   "metadata": {},
   "outputs": [],
   "source": [
    "def split_data(data, frac):\n",
    "    length = data.shape[0]\n",
    "    split_idx = int(length*frac)\n",
    "    print(f\"Returning: 0 <-1-> {split_idx} <-2->{length}\")\n",
    "    return data[:split_idx], data[split_idx:]"
   ]
  },
  {
   "cell_type": "code",
   "execution_count": null,
   "metadata": {},
   "outputs": [],
   "source": [
    "frac_alice = 0.6\n",
    "frac_bob = 1 - frac_alice\n",
    "\n",
    "@mpc.run_multiprocess(world_size=num_participants)\n",
    "def save_all_data():\n",
    "    \n",
    "    print(f\"Hello from {mpc_comm.get().get_rank()}\")\n",
    "    # Save features, labels for Data Labeling example\n",
    "    crypten.save(train_data, filenames[\"samples\"])\n",
    "    crypten.save(labels, filenames[\"labels\"])\n",
    "    \n",
    "    # Save split features for Feature Aggregation example\n",
    "    data_alice, data_bob = split_data(data, frac_alice)\n",
    "    labels_alice, labels_bob = split_data(targets, frac_alice)\n",
    "    \n",
    "    crypten.save(data_alice, filenames[\"samples_alice\"], src=ALICE)\n",
    "    crypten.save(data_bob, filenames[\"samples_bob\"], src=BOB)\n",
    "    \n",
    "    # Save split dataset for Dataset Aggregation example\n",
    "    crypten.save(labels_alice, filenames[\"labels_alice\"], src=ALICE)\n",
    "    crypten.save(labels_bob, filenames[\"labels_bob\"], src=BOB)\n",
    "    \n",
    "    # Save true model weights and biases for Model Hiding example\n",
    "    crypten.save(w_true, filenames[\"w_true\"], src=ALICE)\n",
    "    crypten.save(b_true, filenames[\"b_true\"], src=ALICE)\n",
    "    \n",
    "    crypten.save(test_batch, filenames[\"test_samples\"], src=BOB)\n",
    "    crypten.save(targets, filenames[\"targets\"], src=BOB)\n",
    "    print(f\"{mpc_comm.get().get_rank()} is done! Signing off...\")\n",
    "    \n",
    "save_all_data()"
   ]
  },
  {
   "cell_type": "code",
   "execution_count": null,
   "metadata": {},
   "outputs": [],
   "source": []
  },
  {
   "cell_type": "markdown",
   "metadata": {},
   "source": [
    "# Load and encrypt a model\n",
    "\n",
    "*Note* that unlike loading a tensor, the result from crypten.load is not encrypted. Instead, **only** the *src* party's model is populated from the file. Why is explained below:\n",
    "\n",
    "Once the model is loaded, we call the function from_pytorch: this function sets up a CrypTen network from the PyTorch network. It takes the *plaintext* network as input as well as dummy input. The dummy input must be a torch tensor of the same shape as a potential input to the network, however the values inside the tensor do not matter."
   ]
  },
  {
   "cell_type": "code",
   "execution_count": null,
   "metadata": {},
   "outputs": [],
   "source": [
    "# Load model architecture\n",
    "dummy_model = Net2()\n",
    "\n",
    "# Load empty model\n",
    "plaintext_model = dummy_model\n",
    "\n",
    "# Load pre-trained model to Alice\n",
    "#plaintext_model = crypten.load('models/tutorial4_alice_model.pth', dummy_model=dummy_model, src=ALICE)"
   ]
  },
  {
   "cell_type": "code",
   "execution_count": null,
   "metadata": {},
   "outputs": [],
   "source": [
    "# Encrypt the model from Alice:    \n",
    "\n",
    "# 1. Create a dummy input with the same shape as the model input\n",
    "# For MNIST: greyscale images of size 28x28 --> tensor(1, 1,28,28)\n",
    "#                                                sample^  |-----| shape of image\n",
    "dummy_input = torch.empty((1,1, 28, 28)) # Only shape matters!\n",
    "\n",
    "# 2. Construct a CrypTen network with the trained model and dummy_input\n",
    "private_model = crypten.nn.from_pytorch(plaintext_model, dummy_input)\n",
    "\n",
    "# 3. Encrypt the CrypTen network with src=ALICE\n",
    "private_model.encrypt(src=ALICE)\n",
    "\n",
    "#Check that model is encrypted:\n",
    "print(\"Model successfully encrypted:\", private_model.encrypted)"
   ]
  },
  {
   "cell_type": "code",
   "execution_count": null,
   "metadata": {},
   "outputs": [],
   "source": []
  }
 ],
 "metadata": {
  "kernelspec": {
   "display_name": "Python (ML_2020)",
   "language": "python",
   "name": "ml_2020"
  },
  "language_info": {
   "codemirror_mode": {
    "name": "ipython",
    "version": 3
   },
   "file_extension": ".py",
   "mimetype": "text/x-python",
   "name": "python",
   "nbconvert_exporter": "python",
   "pygments_lexer": "ipython3",
   "version": "3.7.9"
  }
 },
 "nbformat": 4,
 "nbformat_minor": 4
}
