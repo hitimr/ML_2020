{
 "cells": [
  {
   "cell_type": "code",
   "execution_count": null,
   "id": "impossible-gibraltar",
   "metadata": {},
   "outputs": [],
   "source": [
    "import crypten\n",
    "import torch\n",
    "import psutil\n",
    "\n",
    "from mpc.mpc_profile import *\n",
    "\n",
    "crypten.init()"
   ]
  },
  {
   "cell_type": "markdown",
   "id": "dramatic-cabin",
   "metadata": {},
   "source": [
    "## Example usage"
   ]
  },
  {
   "cell_type": "code",
   "execution_count": null,
   "id": "taken-scratch",
   "metadata": {},
   "outputs": [],
   "source": [
    "# Standard values\n",
    "tensor_size = [60000, 1, 28, 28]\n",
    "tensor_dtype = torch.float\n",
    "iters = 10 # number of iterations for each benchmark\n",
    "\n",
    "@profile_tensor\n",
    "def torch_benchmark():\n",
    "    tensor = torch.ones(tensor_size, dtype=tensor_dtype)\n",
    "    #print(tensor[0])\n",
    "    #print(tensor.shape)\n",
    "    return tensor\n",
    "    \n",
    "@profile_tensor\n",
    "def crypten_benchmark(ptype=\"plain\"):\n",
    "    if ptype==crypten.mpc.ptype.binary:\n",
    "        tensor = crypten.cryptensor(torch.ones(tensor_size, dtype=tensor_dtype), ptype=ptype)\n",
    "    elif ptype==crypten.mpc.ptype.arithmetic:\n",
    "        tensor = crypten.cryptensor(torch.ones(tensor_size, dtype=tensor_dtype), ptype=ptype)\n",
    "    #print(tensor.shape)\n",
    "    return tensor"
   ]
  },
  {
   "cell_type": "code",
   "execution_count": null,
   "id": "entire-abortion",
   "metadata": {},
   "outputs": [],
   "source": [
    "tensor, torch_profile = torch_benchmark(iters=iters);\n",
    "print(tensor.shape)\n",
    "del tensor"
   ]
  },
  {
   "cell_type": "code",
   "execution_count": null,
   "id": "occupied-natural",
   "metadata": {},
   "outputs": [],
   "source": [
    "ptype = crypten.mpc.ptype.arithmetic\n",
    "tensor, crypten_profile = crypten_benchmark(ptype=ptype, iters=iters);\n",
    "print(tensor.shape)\n",
    "del tensor"
   ]
  },
  {
   "cell_type": "code",
   "execution_count": null,
   "id": "therapeutic-qatar",
   "metadata": {},
   "outputs": [],
   "source": [
    "ptype = crypten.mpc.ptype.binary\n",
    "tensor, crypten_bin_profile = crypten_benchmark(ptype=ptype, iters=iters);\n",
    "print(tensor.shape)\n",
    "del tensor"
   ]
  },
  {
   "cell_type": "code",
   "execution_count": null,
   "id": "regular-partnership",
   "metadata": {},
   "outputs": [],
   "source": [
    "torch_profile"
   ]
  },
  {
   "cell_type": "code",
   "execution_count": null,
   "id": "duplicate-federal",
   "metadata": {},
   "outputs": [],
   "source": [
    "crypten_profile"
   ]
  },
  {
   "cell_type": "markdown",
   "id": "reliable-preparation",
   "metadata": {},
   "source": [
    "## Plots"
   ]
  },
  {
   "cell_type": "code",
   "execution_count": null,
   "id": "american-corpus",
   "metadata": {},
   "outputs": [],
   "source": [
    "import seaborn as sns\n",
    "import matplotlib.pyplot as plt\n",
    "%matplotlib inline\n",
    "\n",
    "colors = sns.color_palette()\n",
    "\n",
    "def print_styling(figsize=(10,8)):\n",
    "    plt.rc('figure', figsize=figsize) \n",
    "    plt.style.use(\"seaborn\")\n",
    "    sns.set_palette(\"dark\")\n",
    "    SMALL_SIZE = 15\n",
    "    MEDIUM_SIZE = 18\n",
    "    BIGGER_SIZE = 26\n",
    "\n",
    "    plt.rc('font', size=SMALL_SIZE)          # controls default text sizes\n",
    "    plt.rc('lines', linewidth=2)\n",
    "\n",
    "    plt.rc('xtick', labelsize=SMALL_SIZE)    # fontsize of the tick labels\n",
    "    plt.rc('ytick', labelsize=SMALL_SIZE)    # fontsize of the tick labels\n",
    "    plt.rc('axes', titlesize=MEDIUM_SIZE)     # fontsize of the axes title\n",
    "    plt.rc('axes', labelsize=MEDIUM_SIZE)    # fontsize of the x and y labels\n",
    "    \n",
    "    plt.rc('legend', fontsize=SMALL_SIZE)    # legend fontsize\n",
    "    plt.rc('figure', titlesize=BIGGER_SIZE)  # fontsize of the figure title\n",
    "    \n",
    "def plot_mem_usage(pos_text=None, color_text=\"black\"):\n",
    "    print_styling()\n",
    "    torch_mem = torch_profile[\"consumed\"]\n",
    "    crypten_mem = crypten_profile[\"consumed\"]\n",
    "    \n",
    "    plt.bar(x=[\"torch\", \"crypten\"],height=[torch_mem, crypten_mem], color=colors)\n",
    "    plt.title(\"Memory usage of torch tensor vs cryptensor in memory\")\n",
    "    plt.ylabel(\"MB\");\n",
    "    if pos_text==None:\n",
    "        plt.text(0, crypten_mem, f\"tensor.Size([{tensor_size[0]}, 1, 28, 28])\\ni.e. size of MNIST training set\", \n",
    "             ha=\"center\", va=\"top\" )\n",
    "    else:\n",
    "        plt.text(*pos_text, f\"tensor.Size([{tensor_size[0]}, 1, 28, 28])\\ni.e. size of MNIST training set\", \n",
    "             ha=\"center\", va=\"top\", color=color_text, bbox={\"facecolor\": \"gray\"})\n",
    "\n",
    "    plt.text(0, int(torch_mem-10), f\"{torch_mem:.0f}MB\", color=\"white\", \n",
    "             ha=\"center\", va=\"top\" )\n",
    "    plt.text(1, int(crypten_mem-10), \n",
    "             f\"{crypten_mem:.0f}MB\\n~{crypten_mem / torch_mem:.1f}x torch\", \n",
    "             color=\"white\", \n",
    "             ha=\"center\", va=\"top\" )\n",
    "    plt.savefig(f\"docs/figs/mem_crypt_vs_torch_tensor_size{tensor_size[0]}_dtype-{str(tensor_dtype)}.pdf\", \n",
    "                bbox_inches=\"tight\", pad_inches=0.2)\n",
    "\n",
    "def plot_exec_time(pos_text=None, color_text=\"black\"):\n",
    "    print_styling()\n",
    "    torch_mem = torch_profile[\"time\"]\n",
    "    crypten_mem = crypten_profile[\"time\"]\n",
    "    \n",
    "    plt.bar(x=[\"torch\", \"crypten\"],height=[torch_mem, crypten_mem], color=colors)\n",
    "    plt.title(\"Execution time to load into memory\")\n",
    "    plt.ylabel(\"s\");\n",
    "    if pos_text==None:\n",
    "        plt.text(0, crypten_mem, f\"tensor.Size([{tensor_size[0]}, 1, 28, 28])\\ni.e. size of MNIST training set\", \n",
    "             ha=\"center\", va=\"top\" )\n",
    "    else:\n",
    "        plt.text(*pos_text, f\"tensor.Size([{tensor_size[0]}, 1, 28, 28])\\ni.e. size of MNIST training set\", \n",
    "             ha=\"center\", va=\"top\", color=color_text, bbox={\"facecolor\": \"gray\"})\n",
    "\n",
    "    plt.text(0, torch_mem, f\"{torch_mem:.3f}s\", color=\"black\", \n",
    "             ha=\"center\", va=\"bottom\" )\n",
    "    plt.text(1, crypten_mem, \n",
    "             f\"{crypten_mem:.2f}s\\n~{crypten_mem / torch_mem:.1f}x torch\", \n",
    "             color=\"white\", \n",
    "             ha=\"center\", va=\"top\" )\n",
    "    plt.savefig(f\"docs/figs/time_crypt_vs_torch_tensor_size{tensor_size[0]}_dtype-{str(tensor_dtype)}.pdf\", \n",
    "                bbox_inches=\"tight\", pad_inches=0.2)"
   ]
  },
  {
   "cell_type": "markdown",
   "id": "sporting-secondary",
   "metadata": {},
   "source": [
    "## Produce plots"
   ]
  },
  {
   "cell_type": "code",
   "execution_count": null,
   "id": "democratic-sugar",
   "metadata": {},
   "outputs": [],
   "source": [
    "tensor_size = [60000, 1, 28, 28]\n",
    "tensor_dtype =torch.float\n",
    "\n",
    "\n",
    "tensor, torch_profile = torch_benchmark(iters=iters);\n",
    "print(tensor.shape)\n",
    "del tensor\n",
    "ptype = crypten.mpc.ptype.arithmetic\n",
    "tensor, crypten_profile = crypten_benchmark(ptype=ptype, iters=iters);\n",
    "print(tensor.shape)\n",
    "del tensor\n",
    "\n",
    "plot_mem_usage()\n",
    "plt.show()\n",
    "plot_exec_time()"
   ]
  },
  {
   "cell_type": "code",
   "execution_count": null,
   "id": "saving-basics",
   "metadata": {},
   "outputs": [],
   "source": [
    "tensor_size = [60000, 1, 28, 28]\n",
    "tensor_dtype = torch.double\n",
    "\n",
    "tensor, torch_profile = torch_benchmark(iters=iters);\n",
    "print(tensor.shape)\n",
    "del tensor\n",
    "ptype = crypten.mpc.ptype.arithmetic\n",
    "tensor, crypten_profile = crypten_benchmark(ptype=ptype, iters=iters);\n",
    "print(tensor.shape)\n",
    "del tensor\n",
    "\n",
    "plot_mem_usage((0, 50), color_text=\"white\")\n",
    "plt.show()\n",
    "plot_exec_time()"
   ]
  },
  {
   "cell_type": "code",
   "execution_count": null,
   "id": "known-fields",
   "metadata": {},
   "outputs": [],
   "source": [
    "tensor_size = [15000, 1, 28, 28]\n",
    "tensor_dtype = torch.double\n",
    "\n",
    "tensor, torch_profile = torch_benchmark(iters=iters);\n",
    "print(tensor.shape)\n",
    "del tensor\n",
    "ptype = crypten.mpc.ptype.arithmetic\n",
    "tensor, crypten_profile = crypten_benchmark(ptype=ptype, iters=iters);\n",
    "print(tensor.shape)\n",
    "del tensor\n",
    "\n",
    "plot_mem_usage((0, 50), color_text=\"white\")\n",
    "plt.show()\n",
    "plot_exec_time()"
   ]
  },
  {
   "cell_type": "code",
   "execution_count": null,
   "id": "allied-anderson",
   "metadata": {},
   "outputs": [],
   "source": [
    "tensor_size = [30000, 1, 28, 28]\n",
    "tensor_dtype = torch.double\n",
    "\n",
    "tensor, torch_profile = torch_benchmark(iters=iters);\n",
    "print(tensor.shape)\n",
    "del tensor\n",
    "ptype = crypten.mpc.ptype.arithmetic\n",
    "tensor, crypten_profile = crypten_benchmark(ptype=ptype, iters=iters);\n",
    "print(tensor.shape)\n",
    "del tensor\n",
    "\n",
    "plot_mem_usage((0, 50), color_text=\"white\")\n",
    "plt.show()\n",
    "plot_exec_time()"
   ]
  },
  {
   "cell_type": "code",
   "execution_count": null,
   "id": "polyphonic-demand",
   "metadata": {},
   "outputs": [],
   "source": []
  },
  {
   "cell_type": "code",
   "execution_count": null,
   "id": "moving-borough",
   "metadata": {},
   "outputs": [],
   "source": []
  }
 ],
 "metadata": {
  "kernelspec": {
   "display_name": "Python (ML_2020)",
   "language": "python",
   "name": "ml_2020"
  },
  "language_info": {
   "codemirror_mode": {
    "name": "ipython",
    "version": 3
   },
   "file_extension": ".py",
   "mimetype": "text/x-python",
   "name": "python",
   "nbconvert_exporter": "python",
   "pygments_lexer": "ipython3",
   "version": "3.7.9"
  }
 },
 "nbformat": 4,
 "nbformat_minor": 5
}
