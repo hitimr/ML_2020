{
 "cells": [
  {
   "cell_type": "markdown",
   "metadata": {},
   "source": [
    "Original code taken from https://medium.com/@aungkyawmyint_26195/multi-layer-perceptron-mnist-pytorch-463f795b897a\n",
    "\n",
    "New things:\n",
    "* Used a binary transformer with thresholding\n",
    "* added functionality for switching between different artchitecutres\n",
    "\n",
    "Other\n",
    "* replaced some magic numbers with config variables\n",
    "* Added variable to switch between architectures"
   ]
  },
  {
   "cell_type": "code",
   "execution_count": 1,
   "metadata": {},
   "outputs": [],
   "source": [
    "#%%writefile -a mpc/setup_mnist.py\n",
    "import torch\n",
    "import numpy as np\n",
    "from torchvision import datasets\n",
    "from torch.utils.data.sampler import SubsetRandomSampler\n",
    "from config import *\n",
    "\n",
    "from common import plot_batch\n",
    "%matplotlib inline"
   ]
  },
  {
   "cell_type": "markdown",
   "metadata": {},
   "source": [
    "# Settings"
   ]
  },
  {
   "cell_type": "code",
   "execution_count": 2,
   "metadata": {},
   "outputs": [],
   "source": [
    "#%%writefile -a mpc/setup_mnist.py\n",
    "#from models.mnist_binary_conf import * # load configuration file for model\n",
    "use_dataset = \"fashion\" # \"fashion\" or \"mnist\"\n",
    "if use_dataset == \"fashion\":\n",
    "    from models.fashion_relu_conf import *\n",
    "    from models.fashion_relu_conf import ReLUMLP as Net\n",
    "    from mpc.setup_fashion import *\n",
    "    \n",
    "elif use_dataset == \"mnist\":\n",
    "    from models.mnist_relu_conf import *\n",
    "    from models.mnist_relu_conf import ReLUMLP as Net\n",
    "    from mpc.setup_mnist import *\n",
    "\n",
    "else:\n",
    "    print(\"Invalid dataset chosen!\")"
   ]
  },
  {
   "cell_type": "markdown",
   "metadata": {},
   "source": [
    "# Data Preparation"
   ]
  },
  {
   "cell_type": "code",
   "execution_count": 22,
   "metadata": {},
   "outputs": [
    {
     "name": "stdout",
     "output_type": "stream",
     "text": [
      "number of train batches: 3000.0 of size 20\n"
     ]
    },
    {
     "data": {
      "text/plain": [
       "Dataset FashionMNIST\n",
       "    Number of datapoints: 60000\n",
       "    Root location: data\n",
       "    Split: Train\n",
       "    StandardTransform\n",
       "Transform: Compose(\n",
       "               ToTensor()\n",
       "               Normalize(mean=(0.1307,), std=(0.3081,))\n",
       "           )"
      ]
     },
     "execution_count": 22,
     "metadata": {},
     "output_type": "execute_result"
    }
   ],
   "source": [
    "# see mpc.setup_mnist.py or mpc.setup_fashion.py\n",
    "print(f\"number of train batches: {train_loader.dataset.data.shape[0] / train_loader.batch_size } of size {train_loader.batch_size}\")\n",
    "train_loader.dataset"
   ]
  },
  {
   "cell_type": "code",
   "execution_count": 21,
   "metadata": {},
   "outputs": [
    {
     "name": "stdout",
     "output_type": "stream",
     "text": [
      "number of test batches: 500.0 of size 20\n"
     ]
    },
    {
     "data": {
      "text/plain": [
       "Dataset FashionMNIST\n",
       "    Number of datapoints: 10000\n",
       "    Root location: data\n",
       "    Split: Test\n",
       "    StandardTransform\n",
       "Transform: Compose(\n",
       "               ToTensor()\n",
       "               Normalize(mean=(0.1307,), std=(0.3081,))\n",
       "           )"
      ]
     },
     "execution_count": 21,
     "metadata": {},
     "output_type": "execute_result"
    }
   ],
   "source": [
    "print(f\"number of test batches: {test_loader.dataset.data.shape[0] / test_loader.batch_size } of size {test_loader.batch_size}\")\n",
    "test_loader.dataset"
   ]
  },
  {
   "cell_type": "raw",
   "metadata": {},
   "source": [
    "### The setup scripts look as follows:\n",
    "\n",
    "#%%writefile -a mpc/setup_mnist.py\n",
    "# choose the training and testing datasets\n",
    "train_data = datasets.MNIST(root = \"data\", train = True, download = True, transform = transform)\n",
    "test_data = datasets.MNIST(root = \"data\", train = False, download = True, transform = transform)\n",
    "\n",
    "assert sample_size >= 0  # Error: Invalid TRAIN_SIZE\n",
    "assert sample_size <= len(train_data) # Error: Invalid TRAIN_SIZE\n",
    "\n",
    "# set number of subsamples \n",
    "if sample_size == 0: num_train = len(train_data)\n",
    "else: num_train = sample_size\n",
    "\n",
    "# obtain training indices that will be used for validation \n",
    "indices = list(range(num_train))\n",
    "np.random.shuffle(indices)\n",
    "split = int(np.floor(valid_size * num_train))\n",
    "train_index, valid_index = indices[split:], indices[:split]\n",
    "\n",
    "# define samplers for obtaining training and validation batches\n",
    "train_sampler = SubsetRandomSampler(train_index)\n",
    "valid_sampler = SubsetRandomSampler(valid_index)\n",
    "\n",
    "# prepare data loaders\n",
    "train_loader = torch.utils.data.DataLoader(train_data, batch_size = batch_size, sampler = train_sampler, num_workers = num_workers)\n",
    "valid_loader = torch.utils.data.DataLoader(train_data, batch_size = batch_size, sampler = valid_sampler, num_workers = num_workers)\n",
    "test_loader =  torch.utils.data.DataLoader(test_data,  batch_size = batch_size, num_workers = num_workers)"
   ]
  },
  {
   "cell_type": "markdown",
   "metadata": {},
   "source": [
    "# Visualize a batch of training data"
   ]
  },
  {
   "cell_type": "code",
   "execution_count": 4,
   "metadata": {},
   "outputs": [
    {
     "data": {
      "image/png": "[encoded data removed]",
      "text/plain": [
       "<Figure size 1800x288 with 20 Axes>"
      ]
     },
     "metadata": {},
     "output_type": "display_data"
    }
   ],
   "source": [
    "# obtain one batch of training images\n",
    "dataiter = iter(train_loader)\n",
    "images, labels = dataiter.next()\n",
    "plot_batch(images, labels, label_color=\"white\")"
   ]
  },
  {
   "cell_type": "markdown",
   "metadata": {},
   "source": [
    "# Training"
   ]
  },
  {
   "cell_type": "markdown",
   "metadata": {},
   "source": [
    "### Define Network Architecture"
   ]
  },
  {
   "cell_type": "code",
   "execution_count": 5,
   "metadata": {},
   "outputs": [
    {
     "name": "stdout",
     "output_type": "stream",
     "text": [
      "ReLUMLP(\n",
      "  (fc1): Linear(in_features=784, out_features=784, bias=True)\n",
      "  (fc2): Linear(in_features=784, out_features=784, bias=True)\n",
      "  (fc3): Linear(in_features=784, out_features=784, bias=True)\n",
      "  (fc4): Linear(in_features=784, out_features=784, bias=True)\n",
      "  (fc5): Linear(in_features=784, out_features=10, bias=True)\n",
      ")\n"
     ]
    }
   ],
   "source": [
    "model = Net() # imported from conf\n",
    "print(model)"
   ]
  },
  {
   "cell_type": "markdown",
   "metadata": {},
   "source": [
    "### Specify Loss function and Optimizer"
   ]
  },
  {
   "cell_type": "code",
   "execution_count": 6,
   "metadata": {},
   "outputs": [],
   "source": [
    "# specify loss function (categorical cross-entropy)\n",
    "criterion = nn.CrossEntropyLoss()\n",
    "\n",
    "# specify optimizer (stochastic gradient descent) and learning rate = 0.01\n",
    "optimizer = torch.optim.SGD(model.parameters(),lr = 0.01)"
   ]
  },
  {
   "cell_type": "code",
   "execution_count": 7,
   "metadata": {},
   "outputs": [
    {
     "name": "stdout",
     "output_type": "stream",
     "text": [
      "Epoch: 1 \tTraining Loss: 0.841023 \tValidation Loss: 0.000490\n",
      "Validation loss decreased (inf --> 0.000490).  Saving model ...\n",
      "Epoch: 2 \tTraining Loss: 0.443550 \tValidation Loss: 0.000612\n",
      "Epoch: 3 \tTraining Loss: 0.380425 \tValidation Loss: 0.000517\n",
      "Epoch: 4 \tTraining Loss: 0.346383 \tValidation Loss: 0.000672\n",
      "Epoch: 5 \tTraining Loss: 0.321087 \tValidation Loss: 0.000297\n",
      "Validation loss decreased (0.000490 --> 0.000297).  Saving model ...\n",
      "### --------- TRAINING DONE --------- ###\n"
     ]
    }
   ],
   "source": [
    "ENABLE_TRAIN = True\n",
    "#ENABLE_TRAIN = False # So you can switch this off, if you want to rerun the entire notebook\n",
    "#model_file_name = MODEL_DIR + \"model_relu_peter.pth\"# if you want to override where the model params are saved to!\n",
    "\n",
    "if ENABLE_TRAIN:\n",
    "    # initialize tracker for minimum validation loss\n",
    "    valid_loss_min = np.Inf  # set initial \"min\" to infinity\n",
    "    for epoch in range(n_epochs):\n",
    "        # monitor losses\n",
    "        train_loss = 0\n",
    "        valid_loss = 0\n",
    "\n",
    "\n",
    "        ###################\n",
    "        # train the model #\n",
    "        ###################\n",
    "        model.train() # prep model for training\n",
    "        for data,label in train_loader:\n",
    "            # clear the gradients of all optimized variables\n",
    "            optimizer.zero_grad()\n",
    "            # forward pass: compute predicted outputs by passing inputs to the model\n",
    "            output = model(data)\n",
    "            # calculate the loss\n",
    "            loss = criterion(output,label)\n",
    "            # backward pass: compute gradient of the loss with respect to model parameters\n",
    "            loss.backward()\n",
    "            # perform a single optimization step (parameter update)\n",
    "            optimizer.step()\n",
    "            # update running training loss\n",
    "            train_loss += loss.item() * data.size(0)\n",
    "\n",
    "\n",
    "        ######################    \n",
    "        # validate the model #\n",
    "        ######################\n",
    "        model.eval()  # prep model for evaluation\n",
    "        for data,label in valid_loader:\n",
    "            # forward pass: compute predicted outputs by passing inputs to the model\n",
    "            output = model(data)\n",
    "            # calculate the loss\n",
    "            loss = criterion(output,label)\n",
    "            # update running validation loss \n",
    "            valid_loss = loss.item() * data.size(0)\n",
    "\n",
    "        # print training/validation statistics \n",
    "        # calculate average loss over an epoch\n",
    "        train_loss = train_loss / len(train_loader.sampler)\n",
    "        valid_loss = valid_loss / len(valid_loader.sampler)\n",
    "\n",
    "        print(\"Epoch: {} \\tTraining Loss: {:.6f} \\tValidation Loss: {:.6f}\".format(\n",
    "            epoch+1, \n",
    "            train_loss,\n",
    "            valid_loss\n",
    "            ))\n",
    "\n",
    "        # save model if validation loss has decreased\n",
    "        if valid_loss <= valid_loss_min:\n",
    "            print(\"Validation loss decreased ({:.6f} --> {:.6f}).  Saving model ...\".format(\n",
    "            valid_loss_min,\n",
    "            valid_loss))\n",
    "            torch.save(model.state_dict(), model_file_name)\n",
    "            valid_loss_min = valid_loss\n",
    "\n",
    "    print(\"### --------- TRAINING DONE --------- ###\")\n",
    "else:\n",
    "    print(\"### --------- DID NOT TRAIN --------- ###\")\n",
    "    print(\"Maybe you forgot to enable training for this notebook?\")\n",
    "    print(\"Check the top of this cell.\")"
   ]
  },
  {
   "cell_type": "code",
   "execution_count": 11,
   "metadata": {},
   "outputs": [
    {
     "name": "stdout",
     "output_type": "stream",
     "text": [
      "Model is saved at:\n",
      "/Users/peterholzner/Code/ML_2020/Ex3/models/model_fashion_relu.pt\n"
     ]
    }
   ],
   "source": [
    "print(\"Model is saved at:\")\n",
    "print(model_file_name)"
   ]
  },
  {
   "cell_type": "markdown",
   "metadata": {},
   "source": [
    "# Test the trained Network"
   ]
  },
  {
   "cell_type": "markdown",
   "metadata": {},
   "source": [
    "### Load the Model with Lowest Validation Loss"
   ]
  },
  {
   "cell_type": "code",
   "execution_count": 8,
   "metadata": {},
   "outputs": [
    {
     "data": {
      "text/plain": [
       "<All keys matched successfully>"
      ]
     },
     "execution_count": 8,
     "metadata": {},
     "output_type": "execute_result"
    }
   ],
   "source": [
    "model.load_state_dict(torch.load(model_file_name))"
   ]
  },
  {
   "cell_type": "markdown",
   "metadata": {},
   "source": [
    "## Single party/standard variant"
   ]
  },
  {
   "cell_type": "code",
   "execution_count": 13,
   "metadata": {},
   "outputs": [],
   "source": [
    "import time\n",
    "from mpc.mpc_profile import *"
   ]
  },
  {
   "cell_type": "code",
   "execution_count": 14,
   "metadata": {},
   "outputs": [],
   "source": [
    "# initialize lists to monitor test loss and accuracy\n",
    "# NUM_CLASSES = 10\n",
    "\n",
    "test_loss = 0.0\n",
    "class_correct = [0] * NUM_CLASSES\n",
    "class_total = [0] * NUM_CLASSES \n",
    "\n",
    "@profile\n",
    "def train_model():\n",
    "    model.eval() # prep model for evaluation\n",
    "    for data, target in test_loader:\n",
    "        # forward pass: compute predicted outputs by passing inputs to the model\n",
    "        output = model(data)\n",
    "        # calculate the loss\n",
    "        loss = criterion(output, target)\n",
    "        # update test loss \n",
    "        test_loss += loss.item()*data.size(0)\n",
    "        # convert output probabilities to predicted class\n",
    "        _, pred = torch.max(output, 1)\n",
    "        # compare predictions to true label\n",
    "        correct = np.squeeze(pred.eq(target.data.view_as(pred)))\n",
    "        # calculate test accuracy for each object class\n",
    "        for i in range(len(target)):\n",
    "            label = target.data[i]\n",
    "            class_correct[label] += correct[i].item()\n",
    "            class_total[label] += 1\n",
    "\n",
    "    # calculate and print avg test loss\n",
    "    test_loss = test_loss/len(test_loader.sampler)\n",
    "    print(f\"Test Loss: {test_loss:.6}\\n\")\n",
    "    # Print accuracy per class\n",
    "    for i in range(NUM_CLASSES):\n",
    "        if class_total[i] > 0:\n",
    "            print(f\"Test Accuracy of {i:5}: \" \n",
    "                  f\"{100 * class_correct[i] / class_total[i]:3.0f}% \"\n",
    "                  f\"({np.sum(class_correct[i]):4} / {np.sum(class_total[i]):4} )\")\n",
    "        else:\n",
    "            print(f\"Test Accuracy of {classes[i]}: N/A (no training examples)\")\n",
    "    # Print overall accuracy\n",
    "    print(f\"\\nTest Accuracy (Overall): {100. * np.sum(class_correct) / np.sum(class_total):3.0f}% \"\n",
    "          f\"( {np.sum(class_correct)} / {np.sum(class_total)} )\")"
   ]
  },
  {
   "cell_type": "markdown",
   "metadata": {},
   "source": [
    "# Visualize Sample Test Results"
   ]
  },
  {
   "cell_type": "code",
   "execution_count": 10,
   "metadata": {},
   "outputs": [
    {
     "data": {
      "image/png": "[encoded data removed]",
      "text/plain": [
       "<Figure size 1800x288 with 20 Axes>"
      ]
     },
     "metadata": {},
     "output_type": "display_data"
    }
   ],
   "source": [
    "# obtain one batch of test images\n",
    "dataiter = iter(test_loader)\n",
    "images, labels = dataiter.next()\n",
    "# get sample outputs\n",
    "output = model(images)\n",
    "# convert output probabilities to predicted class\n",
    "_, preds = torch.max(output, 1)\n",
    "\n",
    "plot_batch(images, labels, preds)"
   ]
  }
 ],
 "metadata": {
  "kernelspec": {
   "display_name": "Python (ML_2020)",
   "language": "python",
   "name": "ml_2020"
  },
  "language_info": {
   "codemirror_mode": {
    "name": "ipython",
    "version": 3
   },
   "file_extension": ".py",
   "mimetype": "text/x-python",
   "name": "python",
   "nbconvert_exporter": "python",
   "pygments_lexer": "ipython3",
   "version": "3.7.9"
  }
 },
 "nbformat": 4,
 "nbformat_minor": 4
}
