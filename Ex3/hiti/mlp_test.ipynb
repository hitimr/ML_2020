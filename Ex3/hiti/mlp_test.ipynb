{
 "metadata": {
  "language_info": {
   "codemirror_mode": {
    "name": "ipython",
    "version": 3
   },
   "file_extension": ".py",
   "mimetype": "text/x-python",
   "name": "python",
   "nbconvert_exporter": "python",
   "pygments_lexer": "ipython3",
   "version": "3.7.9-final"
  },
  "orig_nbformat": 2,
  "kernelspec": {
   "name": "python3",
   "display_name": "Python 3.7.9 64-bit",
   "metadata": {
    "interpreter": {
     "hash": "9a83436940b59065249e0ac591e9ccdbda7a53659a5b7e612c47492e8a127fdd"
    }
   }
  }
 },
 "nbformat": 4,
 "nbformat_minor": 2,
 "cells": [
  {
   "source": [
    "Original code taken from https://medium.com/@aungkyawmyint_26195/multi-layer-perceptron-mnist-pytorch-463f795b897a\n",
    "\n",
    "Changelog:\n",
    "* Used a binary transformer with thresholding\n",
    "* Added variable to switch between architectures\n",
    "\n",
    "Other\n",
    "* replaced some magic numbers with config variables"
   ],
   "cell_type": "markdown",
   "metadata": {}
  },
  {
   "cell_type": "code",
   "execution_count": 8,
   "metadata": {},
   "outputs": [],
   "source": [
    "import torch\n",
    "import numpy as np\n",
    "from torchvision import datasets\n",
    "import torchvision.transforms as transforms\n",
    "from torch.utils.data.sampler import SubsetRandomSampler\n",
    "\n",
    "import os,sys,inspect\n",
    "currentdir = os.path.dirname(os.path.abspath(inspect.getfile(inspect.currentframe())))\n",
    "parentdir = os.path.dirname(currentdir)\n",
    "sys.path.insert(0,parentdir) \n",
    "\n",
    "from config import *"
   ]
  },
  {
   "source": [
    "# Data Preparation"
   ],
   "cell_type": "markdown",
   "metadata": {}
  },
  {
   "cell_type": "code",
   "execution_count": 9,
   "metadata": {},
   "outputs": [],
   "source": [
    "# number of subprocesses to use for data loading\n",
    "num_workers = 0\n",
    "\n",
    "# how many samples per batch to load\n",
    "batch_size = 20\n",
    "\n",
    "# percentage of training set to use as validation\n",
    "valid_size = 0.2\n",
    "\n",
    "# we need to transform to a binary tensor. i.e. perform thresholding\n",
    "transform = transforms.Compose([\n",
    "        transforms.ToTensor(),\n",
    "        transforms.Normalize((0.1307,), (0.3081,)),\n",
    "        lambda x: x>0,\n",
    "        lambda x: x.float(),\n",
    "])\n",
    "\n",
    "# choose the training and testing datasets\n",
    "train_data = datasets.MNIST(root = 'data', train = True, download = True, transform = transform)\n",
    "test_data = datasets.MNIST(root = 'data', train = False, download = True, transform = transform)\n",
    "\n",
    "# obtain training indices that will be used for validation\n",
    "num_train = len(train_data)\n",
    "indices = list(range(num_train))\n",
    "np.random.shuffle(indices)\n",
    "split = int(np.floor(valid_size * num_train))\n",
    "train_index, valid_index = indices[split:], indices[:split]\n",
    "\n",
    "# define samplers for obtaining training and validation batches\n",
    "train_sampler = SubsetRandomSampler(train_index)\n",
    "valid_sampler = SubsetRandomSampler(valid_index)\n",
    "\n",
    "# prepare data loaders\n",
    "train_loader = torch.utils.data.DataLoader(train_data, batch_size = batch_size, sampler = train_sampler, num_workers = num_workers)\n",
    "valid_loader = torch.utils.data.DataLoader(train_data, batch_size = batch_size, sampler = valid_sampler, num_workers = num_workers)\n",
    "test_loader =  torch.utils.data.DataLoader(test_data, batch_size = batch_size, num_workers = num_workers)"
   ]
  },
  {
   "source": [
    "# Visualize a batch of training data"
   ],
   "cell_type": "markdown",
   "metadata": {}
  },
  {
   "cell_type": "code",
   "execution_count": 10,
   "metadata": {},
   "outputs": [
    {
     "output_type": "display_data",
     "data": {
      "text/plain": "<Figure size 1800x288 with 20 Axes>",
      "image/svg+xml": "<?xml version=\"1.0\" encoding=\"utf-8\" standalone=\"no\"?>\r\n<!DOCTYPE svg PUBLIC \"-//W3C//DTD SVG 1.1//EN\"\r\n  \"http://www.w3.org/Graphics/SVG/1.1/DTD/svg11.dtd\">\r\n<!-- Created with matplotlib (https://matplotlib.org/) -->\r\n<svg height=\"250.458125pt\" version=\"1.1\" viewBox=\"0 0 1393.516025 250.458125\" width=\"1393.516025pt\" xmlns=\"http://www.w3.org/2000/svg\" xmlns:xlink=\"http://www.w3.org/1999/xlink\">\r\n <metadata>\r\n  <rdf:RDF xmlns:cc=\"http://creativecommons.org/ns#\" xmlns:dc=\"http://purl.org/dc/elements/1.1/\" xmlns:rdf=\"http://www.w3.org/1999/02/22-rdf-syntax-ns#\">\r\n   <cc:Work>\r\n    <dc:type rdf:resource=\"http://purl.org/dc/dcmitype/StillImage\"/>\r\n    <dc:date>2021-02-14T14:02:59.827372</dc:date>\r\n    <dc:format>image/svg+xml</dc:format>\r\n    <dc:creator>\r\n     <cc:Agent>\r\n      <dc:title>Matplotlib v3.3.3, https://matplotlib.org/</dc:title>\r\n     </cc:Agent>\r\n    </dc:creator>\r\n   </cc:Work>\r\n  </rdf:RDF>\r\n </metadata>\r\n <defs>\r\n  <style type=\"text/css\">*{stroke-linecap:butt;stroke-linejoin:round;}</style>\r\n </defs>\r\n <g id=\"figure_1\">\r\n  <g id=\"patch_1\">\r\n   <path d=\"M 0 250.458125 \r\nL 1393.516025 250.458125 \r\nL 1393.516025 0 \r\nL 0 0 \r\nz\r\n\" style=\"fill:none;\"/>\r\n  </g>\r\n  <g id=\"axes_1\">\r\n   <g id=\"patch_2\">\r\n    <path d=\"M 10.7 121.154489 \r\nL 109.536364 121.154489 \r\nL 109.536364 22.318125 \r\nL 10.7 22.318125 \r\nz\r\n\" style=\"fill:#ffffff;\"/>\r\n   </g>\r\n   <g clip-path=\"url(#p533d3ecc6d)\">\r\n    <image height=\"99\" id=\"imageff9d819f56\" transform=\"scale(1 -1)translate(0 -99)\" width=\"99\" x=\"10.7\" xlink:href=\"data:image/png;base64,\r\niVBORw0KGgoAAAANSUhEUgAAAGMAAABjCAYAAACPO76VAAABkElEQVR4nO3cQW7CMBRAwaTi/lemyyIWEdDEnpA3F0jR07eNU7Euy3JfQviZ/QfkTzEgxYAUA1IMSDEgxYAUA1IMSDEgtxEPud/n3ris6zr1+a9qMiDFgKzLAbe2s5eld0hLWJMBKQakGJDdjrZn2idUTQakGJCPj7ZXWJZGH3ubDEgxIMWADLm13fLpujxiz3p8xoj9o8mAFAOy263tq8vGjFvSI5a0Iz5HkwEpBqQYkCFv+qS3aXvtH+0ZX64YkEOWqTP5dNlqmfpyxYAUAzL91na2x7V/9tvLJgNSDEgxIMWAFANSDAh1tJ19tJytyYAUA1IMCLVnyPontospBqQYkGJAigEpBqQYkGJAigGhvoE/f8u92i1ukwEpBqQYkOF7xtY+8Lxn7HVTepa9p8mAFANCHW3fWcK+UZMBKQakGBBqz9hyluPpfzQZkGJAigEpBqQYkGJATnO0naEfGb6wYkAu/6s6kiYDUgxIMSDFgBQDUgxIMSDFgBQDUgxIMSDFgBQDUgxIMSDFgBQD8gtTbD3MYvCSUQAAAABJRU5ErkJggg==\" y=\"-22.154489\"/>\r\n   </g>\r\n   <g id=\"matplotlib.axis_1\"/>\r\n   <g id=\"matplotlib.axis_2\"/>\r\n   <g id=\"patch_3\">\r\n    <path d=\"M 10.7 121.154489 \r\nL 10.7 22.318125 \r\n\" style=\"fill:none;stroke:#000000;stroke-linecap:square;stroke-linejoin:miter;stroke-width:0.8;\"/>\r\n   </g>\r\n   <g id=\"patch_4\">\r\n    <path d=\"M 109.536364 121.154489 \r\nL 109.536364 22.318125 \r\n\" style=\"fill:none;stroke:#000000;stroke-linecap:square;stroke-linejoin:miter;stroke-width:0.8;\"/>\r\n   </g>\r\n   <g id=\"patch_5\">\r\n    <path d=\"M 10.7 121.154489 \r\nL 109.536364 121.154489 \r\n\" style=\"fill:none;stroke:#000000;stroke-linecap:square;stroke-linejoin:miter;stroke-width:0.8;\"/>\r\n   </g>\r\n   <g id=\"patch_6\">\r\n    <path d=\"M 10.7 22.318125 \r\nL 109.536364 22.318125 \r\n\" style=\"fill:none;stroke:#000000;stroke-linecap:square;stroke-linejoin:miter;stroke-width:0.8;\"/>\r\n   </g>\r\n   <g id=\"text_1\">\r\n    <!-- 3 -->\r\n    <g transform=\"translate(56.300682 16.318125)scale(0.12 -0.12)\">\r\n     <defs>\r\n      <path d=\"M 40.578125 39.3125 \r\nQ 47.65625 37.796875 51.625 33 \r\nQ 55.609375 28.21875 55.609375 21.1875 \r\nQ 55.609375 10.40625 48.1875 4.484375 \r\nQ 40.765625 -1.421875 27.09375 -1.421875 \r\nQ 22.515625 -1.421875 17.65625 -0.515625 \r\nQ 12.796875 0.390625 7.625 2.203125 \r\nL 7.625 11.71875 \r\nQ 11.71875 9.328125 16.59375 8.109375 \r\nQ 21.484375 6.890625 26.8125 6.890625 \r\nQ 36.078125 6.890625 40.9375 10.546875 \r\nQ 45.796875 14.203125 45.796875 21.1875 \r\nQ 45.796875 27.640625 41.28125 31.265625 \r\nQ 36.765625 34.90625 28.71875 34.90625 \r\nL 20.21875 34.90625 \r\nL 20.21875 43.015625 \r\nL 29.109375 43.015625 \r\nQ 36.375 43.015625 40.234375 45.921875 \r\nQ 44.09375 48.828125 44.09375 54.296875 \r\nQ 44.09375 59.90625 40.109375 62.90625 \r\nQ 36.140625 65.921875 28.71875 65.921875 \r\nQ 24.65625 65.921875 20.015625 65.03125 \r\nQ 15.375 64.15625 9.8125 62.3125 \r\nL 9.8125 71.09375 \r\nQ 15.4375 72.65625 20.34375 73.4375 \r\nQ 25.25 74.21875 29.59375 74.21875 \r\nQ 40.828125 74.21875 47.359375 69.109375 \r\nQ 53.90625 64.015625 53.90625 55.328125 \r\nQ 53.90625 49.265625 50.4375 45.09375 \r\nQ 46.96875 40.921875 40.578125 39.3125 \r\nz\r\n\" id=\"DejaVuSans-51\"/>\r\n     </defs>\r\n     <use xlink:href=\"#DejaVuSans-51\"/>\r\n    </g>\r\n   </g>\r\n  </g>\r\n  <g id=\"axes_2\">\r\n   <g id=\"patch_7\">\r\n    <path d=\"M 152.564407 121.154489 \r\nL 251.40077 121.154489 \r\nL 251.40077 22.318125 \r\nL 152.564407 22.318125 \r\nz\r\n\" style=\"fill:#ffffff;\"/>\r\n   </g>\r\n   <g clip-path=\"url(#pd95549108e)\">\r\n    <image height=\"99\" id=\"image4d13f1cbfe\" transform=\"scale(1 -1)translate(0 -99)\" width=\"99\" x=\"152.564407\" xlink:href=\"data:image/png;base64,\r\niVBORw0KGgoAAAANSUhEUgAAAGMAAABjCAYAAACPO76VAAABVElEQVR4nO3bWwrCMBRAwUTc/5brp9IvH4iTeGYFhcNt0pDOMcYxQrj8+gFyVwxIMSDFgBQDUgxIMSDFgBQDUgxIMSDFgBQDcv31AzzrOJ4/XJ5zfvFJvqfJgBQDUgwIvWa8sk7soMmAFANCv6Yet6j/8MpqMiDFgBQDUgxIMSDFgBQDUgxIMSDFgBQDUgxIMSD0qe27zie8q1xQaDIgxYAUA1IMSDEgxYAss7U9b093vKDQZECKASkGZJk14xOP64t8NNJkQIoBKQakGJBiQIoBKQakGJBiQIoBKQakGJBiQJY9td3xt+QmA1IMSDEgy64Z75IvRTcZkGJAigEpBqQYkGJAttja7nIpusmAFANSDEgxIMWAFANSDEgxIMWAbPEFfrbqF3mTASkGpBiQOcZY44X6B5oMSDEgxYAUA1IMSDEgxYAUA1IMSDEgxYAUA1IMyA13mSDURIRVRAAAAABJRU5ErkJggg==\" y=\"-22.154489\"/>\r\n   </g>\r\n   <g id=\"matplotlib.axis_3\"/>\r\n   <g id=\"matplotlib.axis_4\"/>\r\n   <g id=\"patch_8\">\r\n    <path d=\"M 152.564407 121.154489 \r\nL 152.564407 22.318125 \r\n\" style=\"fill:none;stroke:#000000;stroke-linecap:square;stroke-linejoin:miter;stroke-width:0.8;\"/>\r\n   </g>\r\n   <g id=\"patch_9\">\r\n    <path d=\"M 251.40077 121.154489 \r\nL 251.40077 22.318125 \r\n\" style=\"fill:none;stroke:#000000;stroke-linecap:square;stroke-linejoin:miter;stroke-width:0.8;\"/>\r\n   </g>\r\n   <g id=\"patch_10\">\r\n    <path d=\"M 152.564407 121.154489 \r\nL 251.40077 121.154489 \r\n\" style=\"fill:none;stroke:#000000;stroke-linecap:square;stroke-linejoin:miter;stroke-width:0.8;\"/>\r\n   </g>\r\n   <g id=\"patch_11\">\r\n    <path d=\"M 152.564407 22.318125 \r\nL 251.40077 22.318125 \r\n\" style=\"fill:none;stroke:#000000;stroke-linecap:square;stroke-linejoin:miter;stroke-width:0.8;\"/>\r\n   </g>\r\n   <g id=\"text_2\">\r\n    <!-- 1 -->\r\n    <g transform=\"translate(198.165089 16.318125)scale(0.12 -0.12)\">\r\n     <defs>\r\n      <path d=\"M 12.40625 8.296875 \r\nL 28.515625 8.296875 \r\nL 28.515625 63.921875 \r\nL 10.984375 60.40625 \r\nL 10.984375 69.390625 \r\nL 28.421875 72.90625 \r\nL 38.28125 72.90625 \r\nL 38.28125 8.296875 \r\nL 54.390625 8.296875 \r\nL 54.390625 0 \r\nL 12.40625 0 \r\nz\r\n\" id=\"DejaVuSans-49\"/>\r\n     </defs>\r\n     <use xlink:href=\"#DejaVuSans-49\"/>\r\n    </g>\r\n   </g>\r\n  </g>\r\n  <g id=\"axes_3\">\r\n   <g id=\"patch_12\">\r\n    <path d=\"M 294.428814 121.154489 \r\nL 393.265177 121.154489 \r\nL 393.265177 22.318125 \r\nL 294.428814 22.318125 \r\nz\r\n\" style=\"fill:#ffffff;\"/>\r\n   </g>\r\n   <g clip-path=\"url(#pa71ff95b79)\">\r\n    <image height=\"99\" id=\"image763787f15d\" transform=\"scale(1 -1)translate(0 -99)\" width=\"99\" x=\"294.428814\" xlink:href=\"data:image/png;base64,\r\niVBORw0KGgoAAAANSUhEUgAAAGMAAABjCAYAAACPO76VAAABnElEQVR4nO3cwUrEMBRA0Vb8/18el5Yu6nQGm5POPWtB4fJeQgmuy7I8lhC+Rv8B+VUMSDEgxYAUA1IMSDEgxYAUA1IMSDEgxYAUA1IMSDEgxYAUA1IMSDEgxYB8j/4Dth6PsW8j1nUd+vubDEgxIMWArMvgR2yjz4kjV58hTQakGBDqanvGqyvkzFrc/uwVK6vJgBQDUgzItGfGq452/+hrdpMBKQZk2jV19bXzCk0GpBiQYkDoM2N7FhxdO/+6ks5ypjQZkGJA6DV1dH199eurrMmAFANSDAh9Zhy54utrDxI+WDEgxYAMf8S2dbTrZ/mk8Y4mA1IMyDRX2/0Ku+PaajIgxYAUA0KdGe98Jr+DJgNSDAi1ps7oEVv+VTEgxYBQX22PnLnmznqGNBmQYkCKASkGpBiQYkCmudru3fGq22RAigGZdk1t3WVlNRmQYkCKAbnFmbE36xnSZECKAbnlmtp7dm2NXllNBqQYkGJApn3Edsaz/51ntCYDUgxIMSDFgBQDUgzIR3wOmUWTASkGpBiQYkCKASkG5Ad6l0vI4/+sfAAAAABJRU5ErkJggg==\" y=\"-22.154489\"/>\r\n   </g>\r\n   <g id=\"matplotlib.axis_5\"/>\r\n   <g id=\"matplotlib.axis_6\"/>\r\n   <g id=\"patch_13\">\r\n    <path d=\"M 294.428814 121.154489 \r\nL 294.428814 22.318125 \r\n\" style=\"fill:none;stroke:#000000;stroke-linecap:square;stroke-linejoin:miter;stroke-width:0.8;\"/>\r\n   </g>\r\n   <g id=\"patch_14\">\r\n    <path d=\"M 393.265177 121.154489 \r\nL 393.265177 22.318125 \r\n\" style=\"fill:none;stroke:#000000;stroke-linecap:square;stroke-linejoin:miter;stroke-width:0.8;\"/>\r\n   </g>\r\n   <g id=\"patch_15\">\r\n    <path d=\"M 294.428814 121.154489 \r\nL 393.265177 121.154489 \r\n\" style=\"fill:none;stroke:#000000;stroke-linecap:square;stroke-linejoin:miter;stroke-width:0.8;\"/>\r\n   </g>\r\n   <g id=\"patch_16\">\r\n    <path d=\"M 294.428814 22.318125 \r\nL 393.265177 22.318125 \r\n\" style=\"fill:none;stroke:#000000;stroke-linecap:square;stroke-linejoin:miter;stroke-width:0.8;\"/>\r\n   </g>\r\n   <g id=\"text_3\">\r\n    <!-- 6 -->\r\n    <g transform=\"translate(340.029495 16.318125)scale(0.12 -0.12)\">\r\n     <defs>\r\n      <path d=\"M 33.015625 40.375 \r\nQ 26.375 40.375 22.484375 35.828125 \r\nQ 18.609375 31.296875 18.609375 23.390625 \r\nQ 18.609375 15.53125 22.484375 10.953125 \r\nQ 26.375 6.390625 33.015625 6.390625 \r\nQ 39.65625 6.390625 43.53125 10.953125 \r\nQ 47.40625 15.53125 47.40625 23.390625 \r\nQ 47.40625 31.296875 43.53125 35.828125 \r\nQ 39.65625 40.375 33.015625 40.375 \r\nz\r\nM 52.59375 71.296875 \r\nL 52.59375 62.3125 \r\nQ 48.875 64.0625 45.09375 64.984375 \r\nQ 41.3125 65.921875 37.59375 65.921875 \r\nQ 27.828125 65.921875 22.671875 59.328125 \r\nQ 17.53125 52.734375 16.796875 39.40625 \r\nQ 19.671875 43.65625 24.015625 45.921875 \r\nQ 28.375 48.1875 33.59375 48.1875 \r\nQ 44.578125 48.1875 50.953125 41.515625 \r\nQ 57.328125 34.859375 57.328125 23.390625 \r\nQ 57.328125 12.15625 50.6875 5.359375 \r\nQ 44.046875 -1.421875 33.015625 -1.421875 \r\nQ 20.359375 -1.421875 13.671875 8.265625 \r\nQ 6.984375 17.96875 6.984375 36.375 \r\nQ 6.984375 53.65625 15.1875 63.9375 \r\nQ 23.390625 74.21875 37.203125 74.21875 \r\nQ 40.921875 74.21875 44.703125 73.484375 \r\nQ 48.484375 72.75 52.59375 71.296875 \r\nz\r\n\" id=\"DejaVuSans-54\"/>\r\n     </defs>\r\n     <use xlink:href=\"#DejaVuSans-54\"/>\r\n    </g>\r\n   </g>\r\n  </g>\r\n  <g id=\"axes_4\">\r\n   <g id=\"patch_17\">\r\n    <path d=\"M 436.29322 121.154489 \r\nL 535.129584 121.154489 \r\nL 535.129584 22.318125 \r\nL 436.29322 22.318125 \r\nz\r\n\" style=\"fill:#ffffff;\"/>\r\n   </g>\r\n   <g clip-path=\"url(#pf0c09d16f0)\">\r\n    <image height=\"99\" id=\"image2a49863541\" transform=\"scale(1 -1)translate(0 -99)\" width=\"99\" x=\"436.29322\" xlink:href=\"data:image/png;base64,\r\niVBORw0KGgoAAAANSUhEUgAAAGMAAABjCAYAAACPO76VAAABp0lEQVR4nO3bQW5DIQwAUYhy/yv/7hLEIkr5YA9k3gHaSiMbgtJaSrmKEB7Zf4DejAFiDBBjgBgDxBggxgAxBogxQIwB8oz+hdc1//Wl1jr9Z2ZwMkCMAVJLwKvtitX0ya5ry8kAMQaIMUCmnRnR58Io8nniZIAYAyT8E/jomthlDd7hZIAYA8QYICHPIavdOU9IV10nA8QYIEesqd7o2speWU4GiDFAjAES/hwSod/9uzylOBkgxgA5ck2N6tdZ9FXXyQAxBogxQH7izGh3P/ma62SAGANkyZr6zyrIfiklcTJAjAFiDJD0q217vqw6P8jX2ZaTAWIMEGOApJ8ZrVmfT/x2iG4zBsiR/3o8yjWlF2OAGAMk/YvP2edJ9jnRcjJAjAGSvqZau35ynsXJADEGiDFAUK+2o7K/sDyLkwFiDJAj1lRv17XlZIAYA8QYIKjnkF72i+63Zp1JTgaIMUCMAWIMEGOAGAMEfbX9JPvau+KJxckAMQbItmvqRE4GiDFAjAFiDBBjgBgDxBggxgAxBogxQIwBYgwQY4AYA8QYIMYAMQbIH0RESsL9m12KAAAAAElFTkSuQmCC\" y=\"-22.154489\"/>\r\n   </g>\r\n   <g id=\"matplotlib.axis_7\"/>\r\n   <g id=\"matplotlib.axis_8\"/>\r\n   <g id=\"patch_18\">\r\n    <path d=\"M 436.29322 121.154489 \r\nL 436.29322 22.318125 \r\n\" style=\"fill:none;stroke:#000000;stroke-linecap:square;stroke-linejoin:miter;stroke-width:0.8;\"/>\r\n   </g>\r\n   <g id=\"patch_19\">\r\n    <path d=\"M 535.129584 121.154489 \r\nL 535.129584 22.318125 \r\n\" style=\"fill:none;stroke:#000000;stroke-linecap:square;stroke-linejoin:miter;stroke-width:0.8;\"/>\r\n   </g>\r\n   <g id=\"patch_20\">\r\n    <path d=\"M 436.29322 121.154489 \r\nL 535.129584 121.154489 \r\n\" style=\"fill:none;stroke:#000000;stroke-linecap:square;stroke-linejoin:miter;stroke-width:0.8;\"/>\r\n   </g>\r\n   <g id=\"patch_21\">\r\n    <path d=\"M 436.29322 22.318125 \r\nL 535.129584 22.318125 \r\n\" style=\"fill:none;stroke:#000000;stroke-linecap:square;stroke-linejoin:miter;stroke-width:0.8;\"/>\r\n   </g>\r\n   <g id=\"text_4\">\r\n    <!-- 5 -->\r\n    <g transform=\"translate(481.893902 16.318125)scale(0.12 -0.12)\">\r\n     <defs>\r\n      <path d=\"M 10.796875 72.90625 \r\nL 49.515625 72.90625 \r\nL 49.515625 64.59375 \r\nL 19.828125 64.59375 \r\nL 19.828125 46.734375 \r\nQ 21.96875 47.46875 24.109375 47.828125 \r\nQ 26.265625 48.1875 28.421875 48.1875 \r\nQ 40.625 48.1875 47.75 41.5 \r\nQ 54.890625 34.8125 54.890625 23.390625 \r\nQ 54.890625 11.625 47.5625 5.09375 \r\nQ 40.234375 -1.421875 26.90625 -1.421875 \r\nQ 22.3125 -1.421875 17.546875 -0.640625 \r\nQ 12.796875 0.140625 7.71875 1.703125 \r\nL 7.71875 11.625 \r\nQ 12.109375 9.234375 16.796875 8.0625 \r\nQ 21.484375 6.890625 26.703125 6.890625 \r\nQ 35.15625 6.890625 40.078125 11.328125 \r\nQ 45.015625 15.765625 45.015625 23.390625 \r\nQ 45.015625 31 40.078125 35.4375 \r\nQ 35.15625 39.890625 26.703125 39.890625 \r\nQ 22.75 39.890625 18.8125 39.015625 \r\nQ 14.890625 38.140625 10.796875 36.28125 \r\nz\r\n\" id=\"DejaVuSans-53\"/>\r\n     </defs>\r\n     <use xlink:href=\"#DejaVuSans-53\"/>\r\n    </g>\r\n   </g>\r\n  </g>\r\n  <g id=\"axes_5\">\r\n   <g id=\"patch_22\">\r\n    <path d=\"M 578.157627 121.154489 \r\nL 676.993991 121.154489 \r\nL 676.993991 22.318125 \r\nL 578.157627 22.318125 \r\nz\r\n\" style=\"fill:#ffffff;\"/>\r\n   </g>\r\n   <g clip-path=\"url(#p968b75a75d)\">\r\n    <image height=\"99\" id=\"imageefcbfa866c\" transform=\"scale(1 -1)translate(0 -99)\" width=\"99\" x=\"578.157627\" xlink:href=\"data:image/png;base64,\r\niVBORw0KGgoAAAANSUhEUgAAAGMAAABjCAYAAACPO76VAAABhUlEQVR4nO3cUWrDMBBAQbv0/ld2P2sMTWniWCP3zQkCj5U2ImRdlmVbQvgY/QHyrRiQYkA+R3+AZ23bz1fduq4XfpLzNBmQYkDWZZLV9tGx9JtZjq0mA1IMSDEg0662f7G/b+T7o8mAFAMyzWp79MqquycdW00GpBiQYkCKASkGpBiQf/ENfE9aZY+aDEgxIMWATHtn7M/+s55GRmsyIMWAFANSDEgxIMWATLvaPuu4BkvPI00GpBiQWxxTx6Nm1m/kTQakGJBiQG5xZ7xC+h1ukwEpBuSWx9Ssq26TASkGpBiQy+8M+dV0tCYDUgxIMSCX3BmP9nzpOWK0JgNSDMgtn0OeNXrtbjIgxYAUA0LdGbM8db9LkwEpBqQYkGJAigEpBoRabTVXvyg3GZBiQKY5ps46JuRv+U0GpBiQYkCoO6MfJIRRDMi0/4V+R00GpBiQYkCKASkGpBiQYkCKASkGpBiQYkCKASkGpBiQYkCKASkGpBiQYkCKASkGpBiQYkCKAfkCmuQ03fpeJAUAAAAASUVORK5CYII=\" y=\"-22.154489\"/>\r\n   </g>\r\n   <g id=\"matplotlib.axis_9\"/>\r\n   <g id=\"matplotlib.axis_10\"/>\r\n   <g id=\"patch_23\">\r\n    <path d=\"M 578.157627 121.154489 \r\nL 578.157627 22.318125 \r\n\" style=\"fill:none;stroke:#000000;stroke-linecap:square;stroke-linejoin:miter;stroke-width:0.8;\"/>\r\n   </g>\r\n   <g id=\"patch_24\">\r\n    <path d=\"M 676.993991 121.154489 \r\nL 676.993991 22.318125 \r\n\" style=\"fill:none;stroke:#000000;stroke-linecap:square;stroke-linejoin:miter;stroke-width:0.8;\"/>\r\n   </g>\r\n   <g id=\"patch_25\">\r\n    <path d=\"M 578.157627 121.154489 \r\nL 676.993991 121.154489 \r\n\" style=\"fill:none;stroke:#000000;stroke-linecap:square;stroke-linejoin:miter;stroke-width:0.8;\"/>\r\n   </g>\r\n   <g id=\"patch_26\">\r\n    <path d=\"M 578.157627 22.318125 \r\nL 676.993991 22.318125 \r\n\" style=\"fill:none;stroke:#000000;stroke-linecap:square;stroke-linejoin:miter;stroke-width:0.8;\"/>\r\n   </g>\r\n   <g id=\"text_5\">\r\n    <!-- 7 -->\r\n    <g transform=\"translate(623.758309 16.318125)scale(0.12 -0.12)\">\r\n     <defs>\r\n      <path d=\"M 8.203125 72.90625 \r\nL 55.078125 72.90625 \r\nL 55.078125 68.703125 \r\nL 28.609375 0 \r\nL 18.3125 0 \r\nL 43.21875 64.59375 \r\nL 8.203125 64.59375 \r\nz\r\n\" id=\"DejaVuSans-55\"/>\r\n     </defs>\r\n     <use xlink:href=\"#DejaVuSans-55\"/>\r\n    </g>\r\n   </g>\r\n  </g>\r\n  <g id=\"axes_6\">\r\n   <g id=\"patch_27\">\r\n    <path d=\"M 720.022034 121.154489 \r\nL 818.858398 121.154489 \r\nL 818.858398 22.318125 \r\nL 720.022034 22.318125 \r\nz\r\n\" style=\"fill:#ffffff;\"/>\r\n   </g>\r\n   <g clip-path=\"url(#p34e3cec67d)\">\r\n    <image height=\"99\" id=\"image3a212bb838\" transform=\"scale(1 -1)translate(0 -99)\" width=\"99\" x=\"720.022034\" xlink:href=\"data:image/png;base64,\r\niVBORw0KGgoAAAANSUhEUgAAAGMAAABjCAYAAACPO76VAAABkklEQVR4nO3cwWqDQBRAUS35/19OlxEXkrRm5oj37FsCl/dmMK3rsizPJYSf2R8gL8WAFANSDEgxIMWAFANSDEgxIMWAPGZ/gK3n85wnM+u6nvJ7RmsyIMWArMvkp7ZnraZ3ySusyYAUA1IMCHW1HWF/RklnSJMBKQbkMmvqaJ3853q8/dnZK6vJgBQDUgwI/TjkrB3+1zNl9BnSZECKARm+pj5ZGd9YE/LKajIgxYAUA3KZxyFn2e/+0d80HmkyIMWAFANSDEgxIMWA3O5qu7e96h5dc0f8IUOTASkGpBiQYkCKASkGpBiQYkCKASkGZPjjEPmbttmaDEgxIMWAFANSDEgxILf/pk+6WjcZkGJAbr+m3tX/Z9xMMSDFgAw/M0ZcJaXr6ieaDEgxIPTVdva66Q0JN1YMSDEgQ86M2bv/KpoMSDEg9Ft1Rpj9ksitJgNSDEgxINQLI7/1ImHpXDjSZECKAZm+pvLSZECKASkGpBiQYkCKASkGpBiQYkCKASkGpBiQYkCKASkGpBiQYkB+AbzqRsZGl/m3AAAAAElFTkSuQmCC\" y=\"-22.154489\"/>\r\n   </g>\r\n   <g id=\"matplotlib.axis_11\"/>\r\n   <g id=\"matplotlib.axis_12\"/>\r\n   <g id=\"patch_28\">\r\n    <path d=\"M 720.022034 121.154489 \r\nL 720.022034 22.318125 \r\n\" style=\"fill:none;stroke:#000000;stroke-linecap:square;stroke-linejoin:miter;stroke-width:0.8;\"/>\r\n   </g>\r\n   <g id=\"patch_29\">\r\n    <path d=\"M 818.858398 121.154489 \r\nL 818.858398 22.318125 \r\n\" style=\"fill:none;stroke:#000000;stroke-linecap:square;stroke-linejoin:miter;stroke-width:0.8;\"/>\r\n   </g>\r\n   <g id=\"patch_30\">\r\n    <path d=\"M 720.022034 121.154489 \r\nL 818.858398 121.154489 \r\n\" style=\"fill:none;stroke:#000000;stroke-linecap:square;stroke-linejoin:miter;stroke-width:0.8;\"/>\r\n   </g>\r\n   <g id=\"patch_31\">\r\n    <path d=\"M 720.022034 22.318125 \r\nL 818.858398 22.318125 \r\n\" style=\"fill:none;stroke:#000000;stroke-linecap:square;stroke-linejoin:miter;stroke-width:0.8;\"/>\r\n   </g>\r\n   <g id=\"text_6\">\r\n    <!-- 0 -->\r\n    <g transform=\"translate(765.622716 16.318125)scale(0.12 -0.12)\">\r\n     <defs>\r\n      <path d=\"M 31.78125 66.40625 \r\nQ 24.171875 66.40625 20.328125 58.90625 \r\nQ 16.5 51.421875 16.5 36.375 \r\nQ 16.5 21.390625 20.328125 13.890625 \r\nQ 24.171875 6.390625 31.78125 6.390625 \r\nQ 39.453125 6.390625 43.28125 13.890625 \r\nQ 47.125 21.390625 47.125 36.375 \r\nQ 47.125 51.421875 43.28125 58.90625 \r\nQ 39.453125 66.40625 31.78125 66.40625 \r\nz\r\nM 31.78125 74.21875 \r\nQ 44.046875 74.21875 50.515625 64.515625 \r\nQ 56.984375 54.828125 56.984375 36.375 \r\nQ 56.984375 17.96875 50.515625 8.265625 \r\nQ 44.046875 -1.421875 31.78125 -1.421875 \r\nQ 19.53125 -1.421875 13.0625 8.265625 \r\nQ 6.59375 17.96875 6.59375 36.375 \r\nQ 6.59375 54.828125 13.0625 64.515625 \r\nQ 19.53125 74.21875 31.78125 74.21875 \r\nz\r\n\" id=\"DejaVuSans-48\"/>\r\n     </defs>\r\n     <use xlink:href=\"#DejaVuSans-48\"/>\r\n    </g>\r\n   </g>\r\n  </g>\r\n  <g id=\"axes_7\">\r\n   <g id=\"patch_32\">\r\n    <path d=\"M 861.886441 121.154489 \r\nL 960.722804 121.154489 \r\nL 960.722804 22.318125 \r\nL 861.886441 22.318125 \r\nz\r\n\" style=\"fill:#ffffff;\"/>\r\n   </g>\r\n   <g clip-path=\"url(#pfe104d12df)\">\r\n    <image height=\"99\" id=\"image2af733adc4\" transform=\"scale(1 -1)translate(0 -99)\" width=\"99\" x=\"861.886441\" xlink:href=\"data:image/png;base64,\r\niVBORw0KGgoAAAANSUhEUgAAAGMAAABjCAYAAACPO76VAAABkklEQVR4nO3cQW6DQBAAQYjy/y87xyAOWCbxUou7HuBYas0sIJx1WZbHEsLX1V8gv4oBKQakGJBiQIoBKQakGJBiQIoBKQakGJBiQIoBKQakGJBiQIoBKQakGJDvq7/A1uNx7bsR67pe+vebDEgxIMWArMvgl9iuPhdeMfoMaTIgxYBQl7aa7UodsbKaDEgxIMWA3OLM2O/zd1w+7z/zHWdIkwEpBuQWa+rZWjpaKdITgSYDUgxIMSC3ODOekc6FI00GpBiQ4WtqxN3yrJoMSDEgxYB8xKXtWb2Q8MGKASkGZPhLbEf+657jlV0/+g2QI00GpBgQak3tnV1bV6+bs5oMSDEgxYAUA1IMSDEg9KXt1l/uzme51G0yIMWAFAMyzZmxd8dHJU0GpBiQYkCKASkGpBiQj3uJbcRPiM9qMiDFgEy7prbr5S6/8WgyIMWAFAMy7VPbI7M+0W0yIMWAFANSDEgxIMWAFANSDEgxINM+tT0y63/uaTIgxYAUA3LLp7azajIgxYAUA1IMSDEgxYD8ACghPshfo/mgAAAAAElFTkSuQmCC\" y=\"-22.154489\"/>\r\n   </g>\r\n   <g id=\"matplotlib.axis_13\"/>\r\n   <g id=\"matplotlib.axis_14\"/>\r\n   <g id=\"patch_33\">\r\n    <path d=\"M 861.886441 121.154489 \r\nL 861.886441 22.318125 \r\n\" style=\"fill:none;stroke:#000000;stroke-linecap:square;stroke-linejoin:miter;stroke-width:0.8;\"/>\r\n   </g>\r\n   <g id=\"patch_34\">\r\n    <path d=\"M 960.722804 121.154489 \r\nL 960.722804 22.318125 \r\n\" style=\"fill:none;stroke:#000000;stroke-linecap:square;stroke-linejoin:miter;stroke-width:0.8;\"/>\r\n   </g>\r\n   <g id=\"patch_35\">\r\n    <path d=\"M 861.886441 121.154489 \r\nL 960.722804 121.154489 \r\n\" style=\"fill:none;stroke:#000000;stroke-linecap:square;stroke-linejoin:miter;stroke-width:0.8;\"/>\r\n   </g>\r\n   <g id=\"patch_36\">\r\n    <path d=\"M 861.886441 22.318125 \r\nL 960.722804 22.318125 \r\n\" style=\"fill:none;stroke:#000000;stroke-linecap:square;stroke-linejoin:miter;stroke-width:0.8;\"/>\r\n   </g>\r\n   <g id=\"text_7\">\r\n    <!-- 6 -->\r\n    <g transform=\"translate(907.487122 16.318125)scale(0.12 -0.12)\">\r\n     <use xlink:href=\"#DejaVuSans-54\"/>\r\n    </g>\r\n   </g>\r\n  </g>\r\n  <g id=\"axes_8\">\r\n   <g id=\"patch_37\">\r\n    <path d=\"M 1003.750847 121.154489 \r\nL 1102.587211 121.154489 \r\nL 1102.587211 22.318125 \r\nL 1003.750847 22.318125 \r\nz\r\n\" style=\"fill:#ffffff;\"/>\r\n   </g>\r\n   <g clip-path=\"url(#p05fa990734)\">\r\n    <image height=\"99\" id=\"image7c974563f4\" transform=\"scale(1 -1)translate(0 -99)\" width=\"99\" x=\"1003.750847\" xlink:href=\"data:image/png;base64,\r\niVBORw0KGgoAAAANSUhEUgAAAGMAAABjCAYAAACPO76VAAABvElEQVR4nO3bQY6jMBRAQRjN/a+cXg6TBZ3QYMrpVweIkJ6+bQisy7I8lhD+3H0B+acYkGJAigEpBqQYkGJAigEpBqQYkGJAigEpBqQYkGJAigEpBuTvFT/6eLz+5+G6rldcwn/euZ6tEde21WRAigFZl5NeSDi6FGydtSyccS3PRixZTQakGJBiQC452h61t9aPPmbeocmAFANyeJm64vh41FXX0h34L1YMSDEg1NF2z1n7gnxEbjIgxYBQT23vIC1bTQakGJBiQE472u6tvbPuJ6M1GZBiQE472r7qjiVLOr7uaTIgxYAUAzJ8zzjLLO/PvqPJgBQDUgzItHvG1k/uXaQ9pMmAFAMyzQsJe56XmlmfEjcZkGJAigH5iKPtd17dQ+4+5jYZkGJA6KPt6M/K7v6MrcmAFANSDAi9Z+y5e32/QpMBKQaEWqZGfEIsP9FtMiDFgBQDQj+1HfG5sfQyXJMBKQaEXqa2tCNpy9SHKwakGJBp9oxno/eQ/un7ZYoBoZ7avmOWJ7HvaDIgxYAUAzLtnnGU/LJCkwEpBmTaO/BP1GRAigEpBqQYkGJAigEpBqQYkGJAigH5ApIbVsTXXPnOAAAAAElFTkSuQmCC\" y=\"-22.154489\"/>\r\n   </g>\r\n   <g id=\"matplotlib.axis_15\"/>\r\n   <g id=\"matplotlib.axis_16\"/>\r\n   <g id=\"patch_38\">\r\n    <path d=\"M 1003.750847 121.154489 \r\nL 1003.750847 22.318125 \r\n\" style=\"fill:none;stroke:#000000;stroke-linecap:square;stroke-linejoin:miter;stroke-width:0.8;\"/>\r\n   </g>\r\n   <g id=\"patch_39\">\r\n    <path d=\"M 1102.587211 121.154489 \r\nL 1102.587211 22.318125 \r\n\" style=\"fill:none;stroke:#000000;stroke-linecap:square;stroke-linejoin:miter;stroke-width:0.8;\"/>\r\n   </g>\r\n   <g id=\"patch_40\">\r\n    <path d=\"M 1003.750847 121.154489 \r\nL 1102.587211 121.154489 \r\n\" style=\"fill:none;stroke:#000000;stroke-linecap:square;stroke-linejoin:miter;stroke-width:0.8;\"/>\r\n   </g>\r\n   <g id=\"patch_41\">\r\n    <path d=\"M 1003.750847 22.318125 \r\nL 1102.587211 22.318125 \r\n\" style=\"fill:none;stroke:#000000;stroke-linecap:square;stroke-linejoin:miter;stroke-width:0.8;\"/>\r\n   </g>\r\n   <g id=\"text_8\">\r\n    <!-- 2 -->\r\n    <g transform=\"translate(1049.351529 16.318125)scale(0.12 -0.12)\">\r\n     <defs>\r\n      <path d=\"M 19.1875 8.296875 \r\nL 53.609375 8.296875 \r\nL 53.609375 0 \r\nL 7.328125 0 \r\nL 7.328125 8.296875 \r\nQ 12.9375 14.109375 22.625 23.890625 \r\nQ 32.328125 33.6875 34.8125 36.53125 \r\nQ 39.546875 41.84375 41.421875 45.53125 \r\nQ 43.3125 49.21875 43.3125 52.78125 \r\nQ 43.3125 58.59375 39.234375 62.25 \r\nQ 35.15625 65.921875 28.609375 65.921875 \r\nQ 23.96875 65.921875 18.8125 64.3125 \r\nQ 13.671875 62.703125 7.8125 59.421875 \r\nL 7.8125 69.390625 \r\nQ 13.765625 71.78125 18.9375 73 \r\nQ 24.125 74.21875 28.421875 74.21875 \r\nQ 39.75 74.21875 46.484375 68.546875 \r\nQ 53.21875 62.890625 53.21875 53.421875 \r\nQ 53.21875 48.921875 51.53125 44.890625 \r\nQ 49.859375 40.875 45.40625 35.40625 \r\nQ 44.1875 33.984375 37.640625 27.21875 \r\nQ 31.109375 20.453125 19.1875 8.296875 \r\nz\r\n\" id=\"DejaVuSans-50\"/>\r\n     </defs>\r\n     <use xlink:href=\"#DejaVuSans-50\"/>\r\n    </g>\r\n   </g>\r\n  </g>\r\n  <g id=\"axes_9\">\r\n   <g id=\"patch_42\">\r\n    <path d=\"M 1145.615254 121.154489 \r\nL 1244.451618 121.154489 \r\nL 1244.451618 22.318125 \r\nL 1145.615254 22.318125 \r\nz\r\n\" style=\"fill:#ffffff;\"/>\r\n   </g>\r\n   <g clip-path=\"url(#pdf9bef83a1)\">\r\n    <image height=\"99\" id=\"imaged4ab8d59c8\" transform=\"scale(1 -1)translate(0 -99)\" width=\"99\" x=\"1145.615254\" xlink:href=\"data:image/png;base64,\r\niVBORw0KGgoAAAANSUhEUgAAAGMAAABjCAYAAACPO76VAAABp0lEQVR4nO3dwWqDQBRAUS39/19OlxWhkjQ6Hs09+5LA5c2bBEPnaZoeUwhfZ7+B/CoGpBiQYkCKASkG5Hv0Cz4ef9+k53ke+E48TQakGJBiQIoBKQakGJDhV9st62vvp111mwxIMSDFgBQDUgxIMSDzdPIDCVvf4i59wjW3yYAUA1IMyOk7Y+nZ/TFN99whTQakGJBiQIoBKQakGJAhV9tXrqx7uOq1t8mAFANCPZCwl6s+2NBkQIoBKQaE2hlbZ/s71+Pl38r7o8mAFANCfwJ/9kjZ6xP+2UdYkwEpBqQYkNMfSDjiIbar7pAmA1IMSDEgl9kZa6N3yIj90WRAigE5/ZhausqR9eprPqvJgBQDUgwItTPWjtghI/bSfzUZkGJA6GNqy14/OZN++txkQIoBKQbkI3bG0l7X3r4OubliQC57TC29802sdO1tMiDFgBQDcoudsXbEFXXEtbfJgBQDcstjaste/2boiGtvkwEpBqQYkI/bGbImA1IMSDEgxYAUA1IMSDEgxYAUA1IMSDEgxYAUA1IMSDEgxYAUA1IMSDEgxYD8AMYEY7EKlgucAAAAAElFTkSuQmCC\" y=\"-22.154489\"/>\r\n   </g>\r\n   <g id=\"matplotlib.axis_17\"/>\r\n   <g id=\"matplotlib.axis_18\"/>\r\n   <g id=\"patch_43\">\r\n    <path d=\"M 1145.615254 121.154489 \r\nL 1145.615254 22.318125 \r\n\" style=\"fill:none;stroke:#000000;stroke-linecap:square;stroke-linejoin:miter;stroke-width:0.8;\"/>\r\n   </g>\r\n   <g id=\"patch_44\">\r\n    <path d=\"M 1244.451618 121.154489 \r\nL 1244.451618 22.318125 \r\n\" style=\"fill:none;stroke:#000000;stroke-linecap:square;stroke-linejoin:miter;stroke-width:0.8;\"/>\r\n   </g>\r\n   <g id=\"patch_45\">\r\n    <path d=\"M 1145.615254 121.154489 \r\nL 1244.451618 121.154489 \r\n\" style=\"fill:none;stroke:#000000;stroke-linecap:square;stroke-linejoin:miter;stroke-width:0.8;\"/>\r\n   </g>\r\n   <g id=\"patch_46\">\r\n    <path d=\"M 1145.615254 22.318125 \r\nL 1244.451618 22.318125 \r\n\" style=\"fill:none;stroke:#000000;stroke-linecap:square;stroke-linejoin:miter;stroke-width:0.8;\"/>\r\n   </g>\r\n   <g id=\"text_9\">\r\n    <!-- 4 -->\r\n    <g transform=\"translate(1191.215936 16.318125)scale(0.12 -0.12)\">\r\n     <defs>\r\n      <path d=\"M 37.796875 64.3125 \r\nL 12.890625 25.390625 \r\nL 37.796875 25.390625 \r\nz\r\nM 35.203125 72.90625 \r\nL 47.609375 72.90625 \r\nL 47.609375 25.390625 \r\nL 58.015625 25.390625 \r\nL 58.015625 17.1875 \r\nL 47.609375 17.1875 \r\nL 47.609375 0 \r\nL 37.796875 0 \r\nL 37.796875 17.1875 \r\nL 4.890625 17.1875 \r\nL 4.890625 26.703125 \r\nz\r\n\" id=\"DejaVuSans-52\"/>\r\n     </defs>\r\n     <use xlink:href=\"#DejaVuSans-52\"/>\r\n    </g>\r\n   </g>\r\n  </g>\r\n  <g id=\"axes_10\">\r\n   <g id=\"patch_47\">\r\n    <path d=\"M 1287.479661 121.154489 \r\nL 1386.316025 121.154489 \r\nL 1386.316025 22.318125 \r\nL 1287.479661 22.318125 \r\nz\r\n\" style=\"fill:#ffffff;\"/>\r\n   </g>\r\n   <g clip-path=\"url(#p5ede0de4e6)\">\r\n    <image height=\"99\" id=\"image59e79e7296\" transform=\"scale(1 -1)translate(0 -99)\" width=\"99\" x=\"1287.479661\" xlink:href=\"data:image/png;base64,\r\niVBORw0KGgoAAAANSUhEUgAAAGMAAABjCAYAAACPO76VAAABoklEQVR4nO3cUU7DMBQAwQRx/yuXT6IgqlI59pTuHABFWj3bOG33bdtuWwgfqx8g34oBKQakGJBiQIoBKQakGJBiQIoBKQakGJBiQD5XP8Bst9vvl9T7vk98kp+aDEgxIMWAvN2ecc95P5m9hzQZkGJA3mKZuneclTQZkGJAigEpBqQYkGJAigEpBqQYkGJAhl2HjLhyuOqW9Ph35auRJgNSDAh1a/vsErL6gwSjNBmQYkCKAdm3QV89lo+MV7hin2oyIMWALD/avsp/x2ePPutflrMmA1IMSDEgy/eM49r77HHxlfaae5oMSDEgxYAMuw45GrWGX3HlMGN/efa5mwxIMSCXLFNn0ocV5LeJTQakGJBiQJZfh8j66vEbKwZkyjI14m3e6l8vmKHJgBQDUgzI9KPtea0fsYf8l/2jyYAUAzLl1vZRK25UpeWuyYAUA1IMCLVnnMlv5a7QZECKAaGXqSP5N8xHaTIgxYAUA/Iye8Y7aDIgxYAUA1IMSDEgxYAUA1IMSDEgxYAUA1IMSDEgxYAUA1IMSDEgxYAUA1IMyBeii03IaYp/2gAAAABJRU5ErkJggg==\" y=\"-22.154489\"/>\r\n   </g>\r\n   <g id=\"matplotlib.axis_19\"/>\r\n   <g id=\"matplotlib.axis_20\"/>\r\n   <g id=\"patch_48\">\r\n    <path d=\"M 1287.479661 121.154489 \r\nL 1287.479661 22.318125 \r\n\" style=\"fill:none;stroke:#000000;stroke-linecap:square;stroke-linejoin:miter;stroke-width:0.8;\"/>\r\n   </g>\r\n   <g id=\"patch_49\">\r\n    <path d=\"M 1386.316025 121.154489 \r\nL 1386.316025 22.318125 \r\n\" style=\"fill:none;stroke:#000000;stroke-linecap:square;stroke-linejoin:miter;stroke-width:0.8;\"/>\r\n   </g>\r\n   <g id=\"patch_50\">\r\n    <path d=\"M 1287.479661 121.154489 \r\nL 1386.316025 121.154489 \r\n\" style=\"fill:none;stroke:#000000;stroke-linecap:square;stroke-linejoin:miter;stroke-width:0.8;\"/>\r\n   </g>\r\n   <g id=\"patch_51\">\r\n    <path d=\"M 1287.479661 22.318125 \r\nL 1386.316025 22.318125 \r\n\" style=\"fill:none;stroke:#000000;stroke-linecap:square;stroke-linejoin:miter;stroke-width:0.8;\"/>\r\n   </g>\r\n   <g id=\"text_10\">\r\n    <!-- 4 -->\r\n    <g transform=\"translate(1333.080343 16.318125)scale(0.12 -0.12)\">\r\n     <use xlink:href=\"#DejaVuSans-52\"/>\r\n    </g>\r\n   </g>\r\n  </g>\r\n  <g id=\"axes_11\">\r\n   <g id=\"patch_52\">\r\n    <path d=\"M 10.7 239.758125 \r\nL 109.536364 239.758125 \r\nL 109.536364 140.921761 \r\nL 10.7 140.921761 \r\nz\r\n\" style=\"fill:#ffffff;\"/>\r\n   </g>\r\n   <g clip-path=\"url(#pa1e0e085bf)\">\r\n    <image height=\"99\" id=\"imagec68ab14738\" transform=\"scale(1 -1)translate(0 -99)\" width=\"99\" x=\"10.7\" xlink:href=\"data:image/png;base64,\r\niVBORw0KGgoAAAANSUhEUgAAAGMAAABjCAYAAACPO76VAAABpklEQVR4nO3cS24DIRAAUbB8/yuPl0YjGdsS0NVQb504kUoNZD6ppZSrCOER/QvozRggxgAxBogxQIwBYgwQY4AYA8QYIM8ZH3pdY66w1FqHfE4WTgaIMUBqGXTVdtTSNBt56XMyQIwBYgyQKUdbsn/2ttX7i5MBYgyQYctUO9JZjrk0TgaIMUCMATLsckjPjD2kd+zs/bz797VfG32pxMkAMQZImmUqeglZwckAMQaIMUCW7BktH1b4zMkAMQbI8mXqbvVf52ROBogxQIwBsuUDCfd9KMse4mSAGAMk/Gjbc9qx18kAMQaIMUDQe0bPjld/nQwQY4AYAyTtntGa9aC172cczBggW161HWX1c7hOBogxQIwBssXR9pssl+KdDBBjgBxxtM3yWrSTAWIMEGOAhL+fEX2njfS+oZMBYgyQJUfb3lJA+u8J0ZwMEGOAGAMk/Gi7A4+2GzIGSPjNpazLljeXNmcMEGOAhO8Zv4reW3yI7TDGAEmzTJ3AyQAxBogxQIwBYgwQY4AYA8QYIMYAMQaIMUCMAWIMEGOAGAPEGCDGAHkB3jdasVqmnlgAAAAASUVORK5CYII=\" y=\"-140.758125\"/>\r\n   </g>\r\n   <g id=\"matplotlib.axis_21\"/>\r\n   <g id=\"matplotlib.axis_22\"/>\r\n   <g id=\"patch_53\">\r\n    <path d=\"M 10.7 239.758125 \r\nL 10.7 140.921761 \r\n\" style=\"fill:none;stroke:#000000;stroke-linecap:square;stroke-linejoin:miter;stroke-width:0.8;\"/>\r\n   </g>\r\n   <g id=\"patch_54\">\r\n    <path d=\"M 109.536364 239.758125 \r\nL 109.536364 140.921761 \r\n\" style=\"fill:none;stroke:#000000;stroke-linecap:square;stroke-linejoin:miter;stroke-width:0.8;\"/>\r\n   </g>\r\n   <g id=\"patch_55\">\r\n    <path d=\"M 10.7 239.758125 \r\nL 109.536364 239.758125 \r\n\" style=\"fill:none;stroke:#000000;stroke-linecap:square;stroke-linejoin:miter;stroke-width:0.8;\"/>\r\n   </g>\r\n   <g id=\"patch_56\">\r\n    <path d=\"M 10.7 140.921761 \r\nL 109.536364 140.921761 \r\n\" style=\"fill:none;stroke:#000000;stroke-linecap:square;stroke-linejoin:miter;stroke-width:0.8;\"/>\r\n   </g>\r\n   <g id=\"text_11\">\r\n    <!-- 2 -->\r\n    <g transform=\"translate(56.300682 134.921761)scale(0.12 -0.12)\">\r\n     <use xlink:href=\"#DejaVuSans-50\"/>\r\n    </g>\r\n   </g>\r\n  </g>\r\n  <g id=\"axes_12\">\r\n   <g id=\"patch_57\">\r\n    <path d=\"M 152.564407 239.758125 \r\nL 251.40077 239.758125 \r\nL 251.40077 140.921761 \r\nL 152.564407 140.921761 \r\nz\r\n\" style=\"fill:#ffffff;\"/>\r\n   </g>\r\n   <g clip-path=\"url(#p2170e69ab6)\">\r\n    <image height=\"99\" id=\"image2b5fa2b6dd\" transform=\"scale(1 -1)translate(0 -99)\" width=\"99\" x=\"152.564407\" xlink:href=\"data:image/png;base64,\r\niVBORw0KGgoAAAANSUhEUgAAAGMAAABjCAYAAACPO76VAAABpElEQVR4nO3cQW7CMBRAwaTq/a9Ml41YVEDteAJv1lVBevq2EwL7tm23LYSv1W8gv4oBKQakGJBiQIoBKQakGJBiQIoB+V79Bh51u425a7Pv+5D/M0OTASkGZN+gu7ajlqJnSMtWkwEpBqQYkOVH21f3iWfW+hV70SuaDEgxIMuXqUfNOoIel7DVx9wmA1IMSDEgl9kz/uO4F8jH3CYDUgwIvUytPmqercmAFANSDAi9Z4y6VSEfZ4+aDEgxIMWAFANSDEgxIG/xENv9sfeMhxxmaDIgxYBQy9S9M66cVy9NR00GpBiQYkDoPeOor5HlVMWAFANSDEgxIMWAUEfbvnocRjEgxYAs3zNmfCrXJ335t2JA6Gdtj85YQv5a3s54/SYDUgxIMSCX2TNGefWBt/u/m7GHNBmQYkAuewX+qhk/GjZqyWoyIMWAFAOyfM84mrV/zDiGzvgFtyYDUgzIx12Bj9IV+JsrBqQYEGrPGPUV4qtqMiDFgFBX4J+uyYAUA1IMSDEgxYAUA1IMSDEgxYAUA1IMSDEgxYAUA1IMSDEgxYD8AHH5T834JuzxAAAAAElFTkSuQmCC\" y=\"-140.758125\"/>\r\n   </g>\r\n   <g id=\"matplotlib.axis_23\"/>\r\n   <g id=\"matplotlib.axis_24\"/>\r\n   <g id=\"patch_58\">\r\n    <path d=\"M 152.564407 239.758125 \r\nL 152.564407 140.921761 \r\n\" style=\"fill:none;stroke:#000000;stroke-linecap:square;stroke-linejoin:miter;stroke-width:0.8;\"/>\r\n   </g>\r\n   <g id=\"patch_59\">\r\n    <path d=\"M 251.40077 239.758125 \r\nL 251.40077 140.921761 \r\n\" style=\"fill:none;stroke:#000000;stroke-linecap:square;stroke-linejoin:miter;stroke-width:0.8;\"/>\r\n   </g>\r\n   <g id=\"patch_60\">\r\n    <path d=\"M 152.564407 239.758125 \r\nL 251.40077 239.758125 \r\n\" style=\"fill:none;stroke:#000000;stroke-linecap:square;stroke-linejoin:miter;stroke-width:0.8;\"/>\r\n   </g>\r\n   <g id=\"patch_61\">\r\n    <path d=\"M 152.564407 140.921761 \r\nL 251.40077 140.921761 \r\n\" style=\"fill:none;stroke:#000000;stroke-linecap:square;stroke-linejoin:miter;stroke-width:0.8;\"/>\r\n   </g>\r\n   <g id=\"text_12\">\r\n    <!-- 8 -->\r\n    <g transform=\"translate(198.165089 134.921761)scale(0.12 -0.12)\">\r\n     <defs>\r\n      <path d=\"M 31.78125 34.625 \r\nQ 24.75 34.625 20.71875 30.859375 \r\nQ 16.703125 27.09375 16.703125 20.515625 \r\nQ 16.703125 13.921875 20.71875 10.15625 \r\nQ 24.75 6.390625 31.78125 6.390625 \r\nQ 38.8125 6.390625 42.859375 10.171875 \r\nQ 46.921875 13.96875 46.921875 20.515625 \r\nQ 46.921875 27.09375 42.890625 30.859375 \r\nQ 38.875 34.625 31.78125 34.625 \r\nz\r\nM 21.921875 38.8125 \r\nQ 15.578125 40.375 12.03125 44.71875 \r\nQ 8.5 49.078125 8.5 55.328125 \r\nQ 8.5 64.0625 14.71875 69.140625 \r\nQ 20.953125 74.21875 31.78125 74.21875 \r\nQ 42.671875 74.21875 48.875 69.140625 \r\nQ 55.078125 64.0625 55.078125 55.328125 \r\nQ 55.078125 49.078125 51.53125 44.71875 \r\nQ 48 40.375 41.703125 38.8125 \r\nQ 48.828125 37.15625 52.796875 32.3125 \r\nQ 56.78125 27.484375 56.78125 20.515625 \r\nQ 56.78125 9.90625 50.3125 4.234375 \r\nQ 43.84375 -1.421875 31.78125 -1.421875 \r\nQ 19.734375 -1.421875 13.25 4.234375 \r\nQ 6.78125 9.90625 6.78125 20.515625 \r\nQ 6.78125 27.484375 10.78125 32.3125 \r\nQ 14.796875 37.15625 21.921875 38.8125 \r\nz\r\nM 18.3125 54.390625 \r\nQ 18.3125 48.734375 21.84375 45.5625 \r\nQ 25.390625 42.390625 31.78125 42.390625 \r\nQ 38.140625 42.390625 41.71875 45.5625 \r\nQ 45.3125 48.734375 45.3125 54.390625 \r\nQ 45.3125 60.0625 41.71875 63.234375 \r\nQ 38.140625 66.40625 31.78125 66.40625 \r\nQ 25.390625 66.40625 21.84375 63.234375 \r\nQ 18.3125 60.0625 18.3125 54.390625 \r\nz\r\n\" id=\"DejaVuSans-56\"/>\r\n     </defs>\r\n     <use xlink:href=\"#DejaVuSans-56\"/>\r\n    </g>\r\n   </g>\r\n  </g>\r\n  <g id=\"axes_13\">\r\n   <g id=\"patch_62\">\r\n    <path d=\"M 294.428814 239.758125 \r\nL 393.265177 239.758125 \r\nL 393.265177 140.921761 \r\nL 294.428814 140.921761 \r\nz\r\n\" style=\"fill:#ffffff;\"/>\r\n   </g>\r\n   <g clip-path=\"url(#p8c7d3209e8)\">\r\n    <image height=\"99\" id=\"image9be762abc4\" transform=\"scale(1 -1)translate(0 -99)\" width=\"99\" x=\"294.428814\" xlink:href=\"data:image/png;base64,\r\niVBORw0KGgoAAAANSUhEUgAAAGMAAABjCAYAAACPO76VAAABlElEQVR4nO3cQW6DMBRAQah6/yunuxaxQFVE8DPMXKCRnr7tEJd1WZbXQsLX6A/AHzFCxAgRI0SMEDFCxAgRI0SMEDFCxAgRI0SMEDFCxAgRI0SMEDFCxAgRI+T7ij/yenXvPKzrOvoj/DIZIWKEiBFyyZ5Rtt3PRu8fJiNEjJDHL1Nb+yP41cuWyQgRI0SMEDFCxAgRI8TR9sDV385NRogYIWKE2DMOeBzyYGKEXLJMbcf93csJ+yWjfMnhXSYjRIwQMUKmOdoe/Qp31v7hQgK/xAgRI2SaPePI6LX+LCYjRIyQdRn8wsgzjqWWKU4nRogYIbc42o6+sHwWkxEiRsjwZeoTT19nZTJCxAgRI2T445Ajd/kF779MRogYIellausJS5bJCBEjRIyQafaMvTvuISYjRIyQaZeprU897fVvZA8mRogYIbfYM/Y+sYd4XcXDiBEy/ELCLK64m2UyQsQIESPklnvGrK+2MBkhYoTccpnaOzqGlpYwkxEiRogYIbd8ajsrkxEiRogYIWKEiBEiRsgPTPFB1wiJqd0AAAAASUVORK5CYII=\" y=\"-140.758125\"/>\r\n   </g>\r\n   <g id=\"matplotlib.axis_25\"/>\r\n   <g id=\"matplotlib.axis_26\"/>\r\n   <g id=\"patch_63\">\r\n    <path d=\"M 294.428814 239.758125 \r\nL 294.428814 140.921761 \r\n\" style=\"fill:none;stroke:#000000;stroke-linecap:square;stroke-linejoin:miter;stroke-width:0.8;\"/>\r\n   </g>\r\n   <g id=\"patch_64\">\r\n    <path d=\"M 393.265177 239.758125 \r\nL 393.265177 140.921761 \r\n\" style=\"fill:none;stroke:#000000;stroke-linecap:square;stroke-linejoin:miter;stroke-width:0.8;\"/>\r\n   </g>\r\n   <g id=\"patch_65\">\r\n    <path d=\"M 294.428814 239.758125 \r\nL 393.265177 239.758125 \r\n\" style=\"fill:none;stroke:#000000;stroke-linecap:square;stroke-linejoin:miter;stroke-width:0.8;\"/>\r\n   </g>\r\n   <g id=\"patch_66\">\r\n    <path d=\"M 294.428814 140.921761 \r\nL 393.265177 140.921761 \r\n\" style=\"fill:none;stroke:#000000;stroke-linecap:square;stroke-linejoin:miter;stroke-width:0.8;\"/>\r\n   </g>\r\n   <g id=\"text_13\">\r\n    <!-- 6 -->\r\n    <g transform=\"translate(340.029495 134.921761)scale(0.12 -0.12)\">\r\n     <use xlink:href=\"#DejaVuSans-54\"/>\r\n    </g>\r\n   </g>\r\n  </g>\r\n  <g id=\"axes_14\">\r\n   <g id=\"patch_67\">\r\n    <path d=\"M 436.29322 239.758125 \r\nL 535.129584 239.758125 \r\nL 535.129584 140.921761 \r\nL 436.29322 140.921761 \r\nz\r\n\" style=\"fill:#ffffff;\"/>\r\n   </g>\r\n   <g clip-path=\"url(#p86d35fef8e)\">\r\n    <image height=\"99\" id=\"image4b60cddb05\" transform=\"scale(1 -1)translate(0 -99)\" width=\"99\" x=\"436.29322\" xlink:href=\"data:image/png;base64,\r\niVBORw0KGgoAAAANSUhEUgAAAGMAAABjCAYAAACPO76VAAABb0lEQVR4nO3bSY6DQBAAQRjN/7+Mj2P54hFeOrrJeAFSqlgK2LdtO7YQfkYfQP4UA1IMSDEgxYAUA1IMSDEgxYAUA1IMSDEgxYD8jj6A4zi3NN73/c1HMl6TASkGpBiQYkCKASkGpBiQYkCKASkGZPg65Kz7Ncoqq5EmA1IMyPDT1P0p5uwGdxVNBqQYkGJA9g3+P+NqbwGbDEgxIMWAFANSDEgxIMPXIZ/weEs8y61ukwEpBoQ+TV1to9tkQIoBKQaEvma8yywfLzQZkGJAigGZ5prxeK5f8bmjyYAUA0J/kPBfr5yypFvdJgNSDEgxIMWAFANSDMg0T+CfIm10mwxIMSDFgCxxzVhlo9tkQIoBWWJr+8wsv6M1GZBiQIoBKQakGJBiQJZ4An9mlv88mgxIMSDFgFzimnHWt98CNhmQYkCKASkGpBiQYkAu8aZvFk0GpBiQYkCKASkGpBiQYkCKASkGpBiQYkCKASkG5AaoNC/TjrMFsgAAAABJRU5ErkJggg==\" y=\"-140.758125\"/>\r\n   </g>\r\n   <g id=\"matplotlib.axis_27\"/>\r\n   <g id=\"matplotlib.axis_28\"/>\r\n   <g id=\"patch_68\">\r\n    <path d=\"M 436.29322 239.758125 \r\nL 436.29322 140.921761 \r\n\" style=\"fill:none;stroke:#000000;stroke-linecap:square;stroke-linejoin:miter;stroke-width:0.8;\"/>\r\n   </g>\r\n   <g id=\"patch_69\">\r\n    <path d=\"M 535.129584 239.758125 \r\nL 535.129584 140.921761 \r\n\" style=\"fill:none;stroke:#000000;stroke-linecap:square;stroke-linejoin:miter;stroke-width:0.8;\"/>\r\n   </g>\r\n   <g id=\"patch_70\">\r\n    <path d=\"M 436.29322 239.758125 \r\nL 535.129584 239.758125 \r\n\" style=\"fill:none;stroke:#000000;stroke-linecap:square;stroke-linejoin:miter;stroke-width:0.8;\"/>\r\n   </g>\r\n   <g id=\"patch_71\">\r\n    <path d=\"M 436.29322 140.921761 \r\nL 535.129584 140.921761 \r\n\" style=\"fill:none;stroke:#000000;stroke-linecap:square;stroke-linejoin:miter;stroke-width:0.8;\"/>\r\n   </g>\r\n   <g id=\"text_14\">\r\n    <!-- 1 -->\r\n    <g transform=\"translate(481.893902 134.921761)scale(0.12 -0.12)\">\r\n     <use xlink:href=\"#DejaVuSans-49\"/>\r\n    </g>\r\n   </g>\r\n  </g>\r\n  <g id=\"axes_15\">\r\n   <g id=\"patch_72\">\r\n    <path d=\"M 578.157627 239.758125 \r\nL 676.993991 239.758125 \r\nL 676.993991 140.921761 \r\nL 578.157627 140.921761 \r\nz\r\n\" style=\"fill:#ffffff;\"/>\r\n   </g>\r\n   <g clip-path=\"url(#p9ca44d72da)\">\r\n    <image height=\"99\" id=\"imagef25085ada3\" transform=\"scale(1 -1)translate(0 -99)\" width=\"99\" x=\"578.157627\" xlink:href=\"data:image/png;base64,\r\niVBORw0KGgoAAAANSUhEUgAAAGMAAABjCAYAAACPO76VAAABlUlEQVR4nO3cUW6DMBQAQah6/yunn0FRRSGieAI7F2ik1bONGzJP0/SYQvga/QHyVAxIMSDFgBQDUgzI9+gPsPR4bD9lz/P8j59kjCYDUgxIMSDFgBQDUgwIdbR9Pa7uOepeQZMBKQakGBBqz9hjuZ9c5WqkyYAUA1IMSDEgxYAUA1IMSDEgxYDQT+DLJ+s73OA2GZBiQIoBofeMrV73k0+9xW0yIMWAzBP0Gtno4+vo5a3JgBQDUgzIJY62Rxl9RG4yIMWAUEfbV0cddbcuN2t/74wlq8mAFANSDAi9Z2z1195yxHp/xrG3yYAUA1IMyC32jKXR1+RrmgxIMSCXuLW9yivLTQakGJBiQC6xZ+wx+r95a5oMSDEgxYAUA1IMSDEgpx9ttaOl9Os8TQakGJCPeQL/1JvYPZoMSDEgxYCc/oWEEWv/uz970fsZN1YMyPDvTb27bB21hPQEnl8VA1IMyPA9I09NBqQYkGJAigEpBqQYkGJAigEpBqQYkGJAigEpBqQYkGJAigEpBqQYkGJAigH5AUCGR8iZ3l7OAAAAAElFTkSuQmCC\" y=\"-140.758125\"/>\r\n   </g>\r\n   <g id=\"matplotlib.axis_29\"/>\r\n   <g id=\"matplotlib.axis_30\"/>\r\n   <g id=\"patch_73\">\r\n    <path d=\"M 578.157627 239.758125 \r\nL 578.157627 140.921761 \r\n\" style=\"fill:none;stroke:#000000;stroke-linecap:square;stroke-linejoin:miter;stroke-width:0.8;\"/>\r\n   </g>\r\n   <g id=\"patch_74\">\r\n    <path d=\"M 676.993991 239.758125 \r\nL 676.993991 140.921761 \r\n\" style=\"fill:none;stroke:#000000;stroke-linecap:square;stroke-linejoin:miter;stroke-width:0.8;\"/>\r\n   </g>\r\n   <g id=\"patch_75\">\r\n    <path d=\"M 578.157627 239.758125 \r\nL 676.993991 239.758125 \r\n\" style=\"fill:none;stroke:#000000;stroke-linecap:square;stroke-linejoin:miter;stroke-width:0.8;\"/>\r\n   </g>\r\n   <g id=\"patch_76\">\r\n    <path d=\"M 578.157627 140.921761 \r\nL 676.993991 140.921761 \r\n\" style=\"fill:none;stroke:#000000;stroke-linecap:square;stroke-linejoin:miter;stroke-width:0.8;\"/>\r\n   </g>\r\n   <g id=\"text_15\">\r\n    <!-- 7 -->\r\n    <g transform=\"translate(623.758309 134.921761)scale(0.12 -0.12)\">\r\n     <use xlink:href=\"#DejaVuSans-55\"/>\r\n    </g>\r\n   </g>\r\n  </g>\r\n  <g id=\"axes_16\">\r\n   <g id=\"patch_77\">\r\n    <path d=\"M 720.022034 239.758125 \r\nL 818.858398 239.758125 \r\nL 818.858398 140.921761 \r\nL 720.022034 140.921761 \r\nz\r\n\" style=\"fill:#ffffff;\"/>\r\n   </g>\r\n   <g clip-path=\"url(#pee005c97aa)\">\r\n    <image height=\"99\" id=\"image91ac6a22df\" transform=\"scale(1 -1)translate(0 -99)\" width=\"99\" x=\"720.022034\" xlink:href=\"data:image/png;base64,\r\niVBORw0KGgoAAAANSUhEUgAAAGMAAABjCAYAAACPO76VAAABnElEQVR4nO3cQW6DMBRAQahy/yunyyIWNEKAB/LmAiV6+rZlmszTNL2nEH5GP0D+FANSDEgxIMWAFAPyGv0AW97vz07d8zyf/CTXaDIgxYAUAzJP0HXIp3vEf+66hzQZkGJAqGVq7duWrSYDUgxIMSD0dchRlnuPvH80GZBiQOij7dJRx9w1adlqMiDFgBQDsrlnrNdpaX09Yw8Z/fmaDEgxILc52m55yrG3yYAUA1IMyCNubddr+1l7yNmaDEgxII9Yptbuumw1GZBiQIoBueQ65Oo1e+saY++zXHE10mRAigE55Wg7+ig5+u/v1WRAigEpBqQYkGJAigEpBqQYkGJAigGh3vTtvRm96/XHWpMBKQakGJDbvOk76k1bb/rykWJALv9+hvZLOdKPUjYZkGJAigEZ/p0+6R/cRmsyIMWADF+mluTb1462X6YYkGJAbvumT95f9moyIMWAUEfbvfpVnRyuGJBiQB6xZzxFkwEpBqQYkGJAigEpBqQYkGJAigEpBqQYkGJAigEpBqQYkGJAigEpBqQYkGJAfgEoqlK1x65UBQAAAABJRU5ErkJggg==\" y=\"-140.758125\"/>\r\n   </g>\r\n   <g id=\"matplotlib.axis_31\"/>\r\n   <g id=\"matplotlib.axis_32\"/>\r\n   <g id=\"patch_78\">\r\n    <path d=\"M 720.022034 239.758125 \r\nL 720.022034 140.921761 \r\n\" style=\"fill:none;stroke:#000000;stroke-linecap:square;stroke-linejoin:miter;stroke-width:0.8;\"/>\r\n   </g>\r\n   <g id=\"patch_79\">\r\n    <path d=\"M 818.858398 239.758125 \r\nL 818.858398 140.921761 \r\n\" style=\"fill:none;stroke:#000000;stroke-linecap:square;stroke-linejoin:miter;stroke-width:0.8;\"/>\r\n   </g>\r\n   <g id=\"patch_80\">\r\n    <path d=\"M 720.022034 239.758125 \r\nL 818.858398 239.758125 \r\n\" style=\"fill:none;stroke:#000000;stroke-linecap:square;stroke-linejoin:miter;stroke-width:0.8;\"/>\r\n   </g>\r\n   <g id=\"patch_81\">\r\n    <path d=\"M 720.022034 140.921761 \r\nL 818.858398 140.921761 \r\n\" style=\"fill:none;stroke:#000000;stroke-linecap:square;stroke-linejoin:miter;stroke-width:0.8;\"/>\r\n   </g>\r\n   <g id=\"text_16\">\r\n    <!-- 9 -->\r\n    <g transform=\"translate(765.622716 134.921761)scale(0.12 -0.12)\">\r\n     <defs>\r\n      <path d=\"M 10.984375 1.515625 \r\nL 10.984375 10.5 \r\nQ 14.703125 8.734375 18.5 7.8125 \r\nQ 22.3125 6.890625 25.984375 6.890625 \r\nQ 35.75 6.890625 40.890625 13.453125 \r\nQ 46.046875 20.015625 46.78125 33.40625 \r\nQ 43.953125 29.203125 39.59375 26.953125 \r\nQ 35.25 24.703125 29.984375 24.703125 \r\nQ 19.046875 24.703125 12.671875 31.3125 \r\nQ 6.296875 37.9375 6.296875 49.421875 \r\nQ 6.296875 60.640625 12.9375 67.421875 \r\nQ 19.578125 74.21875 30.609375 74.21875 \r\nQ 43.265625 74.21875 49.921875 64.515625 \r\nQ 56.59375 54.828125 56.59375 36.375 \r\nQ 56.59375 19.140625 48.40625 8.859375 \r\nQ 40.234375 -1.421875 26.421875 -1.421875 \r\nQ 22.703125 -1.421875 18.890625 -0.6875 \r\nQ 15.09375 0.046875 10.984375 1.515625 \r\nz\r\nM 30.609375 32.421875 \r\nQ 37.25 32.421875 41.125 36.953125 \r\nQ 45.015625 41.5 45.015625 49.421875 \r\nQ 45.015625 57.28125 41.125 61.84375 \r\nQ 37.25 66.40625 30.609375 66.40625 \r\nQ 23.96875 66.40625 20.09375 61.84375 \r\nQ 16.21875 57.28125 16.21875 49.421875 \r\nQ 16.21875 41.5 20.09375 36.953125 \r\nQ 23.96875 32.421875 30.609375 32.421875 \r\nz\r\n\" id=\"DejaVuSans-57\"/>\r\n     </defs>\r\n     <use xlink:href=\"#DejaVuSans-57\"/>\r\n    </g>\r\n   </g>\r\n  </g>\r\n  <g id=\"axes_17\">\r\n   <g id=\"patch_82\">\r\n    <path d=\"M 861.886441 239.758125 \r\nL 960.722804 239.758125 \r\nL 960.722804 140.921761 \r\nL 861.886441 140.921761 \r\nz\r\n\" style=\"fill:#ffffff;\"/>\r\n   </g>\r\n   <g clip-path=\"url(#pc968f5b950)\">\r\n    <image height=\"99\" id=\"imagebed2e2ac7f\" transform=\"scale(1 -1)translate(0 -99)\" width=\"99\" x=\"861.886441\" xlink:href=\"data:image/png;base64,\r\niVBORw0KGgoAAAANSUhEUgAAAGMAAABjCAYAAACPO76VAAABZElEQVR4nO3dUYqDMBRA0WSY/W/Zfk4ZaKGg5pTcswLh8hKJinOMcYwQflZfQP4UA1IMSDEgxYAUA/K7+gJWO47Xd/ZzzhuvpMmgFANSDMh2e8a7PWK1JgNSDEgxIMWAFANSDEgxIMWAFANSDEgxIMWAFANSDEgxIMWAFANSDEgxIMWAFANSDEgxIMWAFANSDEgxIKe9ayu/w/otmgxIMSDbfRLwieel945PypoMSDEgxYAUA1IMSDEgxYAUA1IMSDEgpx2HPB8XnHWCe9YRxLecKDcZkGJAigG55Aj93Vq/Yv2+Yj+7QpMBKQaEftJ395O21ZoMSDEgxYDcvmf8X/vlW827NRmQYkDoW9sryMtkkwEpBqQYkO32jE/0/4yNFQMyB/QHS+mXOys0GZBiQIoBofaM3TUZkGJAigEpBqQYkGJAigEpBqQYkGJAigEpBqQYkGJAigEpBqQYkGJAigEpBuQBckEn0hCF9fkAAAAASUVORK5CYII=\" y=\"-140.758125\"/>\r\n   </g>\r\n   <g id=\"matplotlib.axis_33\"/>\r\n   <g id=\"matplotlib.axis_34\"/>\r\n   <g id=\"patch_83\">\r\n    <path d=\"M 861.886441 239.758125 \r\nL 861.886441 140.921761 \r\n\" style=\"fill:none;stroke:#000000;stroke-linecap:square;stroke-linejoin:miter;stroke-width:0.8;\"/>\r\n   </g>\r\n   <g id=\"patch_84\">\r\n    <path d=\"M 960.722804 239.758125 \r\nL 960.722804 140.921761 \r\n\" style=\"fill:none;stroke:#000000;stroke-linecap:square;stroke-linejoin:miter;stroke-width:0.8;\"/>\r\n   </g>\r\n   <g id=\"patch_85\">\r\n    <path d=\"M 861.886441 239.758125 \r\nL 960.722804 239.758125 \r\n\" style=\"fill:none;stroke:#000000;stroke-linecap:square;stroke-linejoin:miter;stroke-width:0.8;\"/>\r\n   </g>\r\n   <g id=\"patch_86\">\r\n    <path d=\"M 861.886441 140.921761 \r\nL 960.722804 140.921761 \r\n\" style=\"fill:none;stroke:#000000;stroke-linecap:square;stroke-linejoin:miter;stroke-width:0.8;\"/>\r\n   </g>\r\n   <g id=\"text_17\">\r\n    <!-- 4 -->\r\n    <g transform=\"translate(907.487122 134.921761)scale(0.12 -0.12)\">\r\n     <use xlink:href=\"#DejaVuSans-52\"/>\r\n    </g>\r\n   </g>\r\n  </g>\r\n  <g id=\"axes_18\">\r\n   <g id=\"patch_87\">\r\n    <path d=\"M 1003.750847 239.758125 \r\nL 1102.587211 239.758125 \r\nL 1102.587211 140.921761 \r\nL 1003.750847 140.921761 \r\nz\r\n\" style=\"fill:#ffffff;\"/>\r\n   </g>\r\n   <g clip-path=\"url(#p1518faa99f)\">\r\n    <image height=\"99\" id=\"image11747f337e\" transform=\"scale(1 -1)translate(0 -99)\" width=\"99\" x=\"1003.750847\" xlink:href=\"data:image/png;base64,\r\niVBORw0KGgoAAAANSUhEUgAAAGMAAABjCAYAAACPO76VAAABZ0lEQVR4nO3cQW6DQBAAQYjy/y+TYyIfcsBr6EFVL0BqzbJmwfu2bcdGwtfdF8AvMULECBEjRIwQMUK+776As47j3I583/fFV7KOyQgRI0SMEDFCxAgRI2TM1vbsVnYSkxEiRogYIWKEiBEiRogYIWKEiBEiRogYIWKEiBEiRogYIWKEiBEy5qTv9eWzJ578mYwQMULECBEjRIwQMULGbG1Xed0Sl77XMBkhYoSMXab+Li9P+TVuMkLECBEjRIwQMULECBEjRIwQMULECNm3B/5h5NR/3DEZIWKEiBGy7BH6px9j372eX8FkhIgRMuak7ymnef8xGSFihIgRMuaecYW7X3AzGSFihCxbpj490ra2XEqMEDFCxmxt37knTbnfmIwQMULGLFPvmPIth8kIESNEjJBHvsQ2lckIESNEjBAxQsQIESNEjBAxQsQIESNEjBAxQsQIESNEjBAxQsQIESNEjBAxQn4ASgkn0WlZLd4AAAAASUVORK5CYII=\" y=\"-140.758125\"/>\r\n   </g>\r\n   <g id=\"matplotlib.axis_35\"/>\r\n   <g id=\"matplotlib.axis_36\"/>\r\n   <g id=\"patch_88\">\r\n    <path d=\"M 1003.750847 239.758125 \r\nL 1003.750847 140.921761 \r\n\" style=\"fill:none;stroke:#000000;stroke-linecap:square;stroke-linejoin:miter;stroke-width:0.8;\"/>\r\n   </g>\r\n   <g id=\"patch_89\">\r\n    <path d=\"M 1102.587211 239.758125 \r\nL 1102.587211 140.921761 \r\n\" style=\"fill:none;stroke:#000000;stroke-linecap:square;stroke-linejoin:miter;stroke-width:0.8;\"/>\r\n   </g>\r\n   <g id=\"patch_90\">\r\n    <path d=\"M 1003.750847 239.758125 \r\nL 1102.587211 239.758125 \r\n\" style=\"fill:none;stroke:#000000;stroke-linecap:square;stroke-linejoin:miter;stroke-width:0.8;\"/>\r\n   </g>\r\n   <g id=\"patch_91\">\r\n    <path d=\"M 1003.750847 140.921761 \r\nL 1102.587211 140.921761 \r\n\" style=\"fill:none;stroke:#000000;stroke-linecap:square;stroke-linejoin:miter;stroke-width:0.8;\"/>\r\n   </g>\r\n   <g id=\"text_18\">\r\n    <!-- 7 -->\r\n    <g transform=\"translate(1049.351529 134.921761)scale(0.12 -0.12)\">\r\n     <use xlink:href=\"#DejaVuSans-55\"/>\r\n    </g>\r\n   </g>\r\n  </g>\r\n  <g id=\"axes_19\">\r\n   <g id=\"patch_92\">\r\n    <path d=\"M 1145.615254 239.758125 \r\nL 1244.451618 239.758125 \r\nL 1244.451618 140.921761 \r\nL 1145.615254 140.921761 \r\nz\r\n\" style=\"fill:#ffffff;\"/>\r\n   </g>\r\n   <g clip-path=\"url(#pdd81f1bba6)\">\r\n    <image height=\"99\" id=\"image217d4e42c6\" transform=\"scale(1 -1)translate(0 -99)\" width=\"99\" x=\"1145.615254\" xlink:href=\"data:image/png;base64,\r\niVBORw0KGgoAAAANSUhEUgAAAGMAAABjCAYAAACPO76VAAABq0lEQVR4nO3cQW6DMBRAQah6/yuny0ZZIEQAD/Bm3yrSk78dnGSepuk1hfAz+gXkXzEgxYAUA1IMSDEgxYAUA1IMSDEgxYAUA1IMyO/oF7DW63XMw+V5ng/5v1u0MiDFgBQDMk+Db/qO2gv2cPZ+0sqAFANy+piSx9KSM0ZWKwNSDEgxIJd5HPJp6wzfumd9/t0Re0grA1IMyPB34KPtcdTea2S1MiDFgBQDctmj7V7e5/3oRzWtDEgxII8/2i7ZOra2HnVbGZBiQIoBOeVou3b2Sh8oG6GVASkG5JAxJV/gyFoZkGJAigGhn9ou7T3SftJN3w0VA1IMCL1nLBl9K3eEVgakGJBTbvruOFL6rO3NFQNSDAh1tF2awyP2nb56/GDFgNBHW+nJ7BlaGZBiQIoBoY62S65y6/eNVgakGJBb/KpOYyq7KwakGJDh3+k7+2msvL+0MiDFgAwfU++0Dy50ufRgxYAUA0LtGUtG7yf9yPDDFANymculb8bE6BG3VisDUgxIMSCXOdo+QSsDUgxIMSDFgBQDUgxIMSDFgBQDUgxIMSDFgBQD8gchEE7DjAjg/QAAAABJRU5ErkJggg==\" y=\"-140.758125\"/>\r\n   </g>\r\n   <g id=\"matplotlib.axis_37\"/>\r\n   <g id=\"matplotlib.axis_38\"/>\r\n   <g id=\"patch_93\">\r\n    <path d=\"M 1145.615254 239.758125 \r\nL 1145.615254 140.921761 \r\n\" style=\"fill:none;stroke:#000000;stroke-linecap:square;stroke-linejoin:miter;stroke-width:0.8;\"/>\r\n   </g>\r\n   <g id=\"patch_94\">\r\n    <path d=\"M 1244.451618 239.758125 \r\nL 1244.451618 140.921761 \r\n\" style=\"fill:none;stroke:#000000;stroke-linecap:square;stroke-linejoin:miter;stroke-width:0.8;\"/>\r\n   </g>\r\n   <g id=\"patch_95\">\r\n    <path d=\"M 1145.615254 239.758125 \r\nL 1244.451618 239.758125 \r\n\" style=\"fill:none;stroke:#000000;stroke-linecap:square;stroke-linejoin:miter;stroke-width:0.8;\"/>\r\n   </g>\r\n   <g id=\"patch_96\">\r\n    <path d=\"M 1145.615254 140.921761 \r\nL 1244.451618 140.921761 \r\n\" style=\"fill:none;stroke:#000000;stroke-linecap:square;stroke-linejoin:miter;stroke-width:0.8;\"/>\r\n   </g>\r\n   <g id=\"text_19\">\r\n    <!-- 5 -->\r\n    <g transform=\"translate(1191.215936 134.921761)scale(0.12 -0.12)\">\r\n     <use xlink:href=\"#DejaVuSans-53\"/>\r\n    </g>\r\n   </g>\r\n  </g>\r\n  <g id=\"axes_20\">\r\n   <g id=\"patch_97\">\r\n    <path d=\"M 1287.479661 239.758125 \r\nL 1386.316025 239.758125 \r\nL 1386.316025 140.921761 \r\nL 1287.479661 140.921761 \r\nz\r\n\" style=\"fill:#ffffff;\"/>\r\n   </g>\r\n   <g clip-path=\"url(#pcd0e9ba7a0)\">\r\n    <image height=\"99\" id=\"image97af7639a9\" transform=\"scale(1 -1)translate(0 -99)\" width=\"99\" x=\"1287.479661\" xlink:href=\"data:image/png;base64,\r\niVBORw0KGgoAAAANSUhEUgAAAGMAAABjCAYAAACPO76VAAABkElEQVR4nO3cQW6DMBRAQah6/yunyyIWSLVIGLtvTkD19G3sJN23bXttIXw9/QD5VQxIMSDfTz/A6zW2Ze37fvOTPK/JgBQD8vgyNeq4vK2yZDUZkGJAigEpBqQYkGJA9g26tR09jZ/N+qrbZECKASkGhNozzv7bHtJkQIoBoW9tj8vLXUuWrMmAFANSDAi9Z9xllk8FmwxIMSD0CfzKiqfzJgNSDEgxINO+2q54VdJkQIoBmXaZuot0Om8yIMWAFANSDEgxIMWATHtre2XWG90mA1IMSDEgw9ch53X56auEo/OzzHKr22RAigEpBuRP54wV/gOO/Dc0GZBiQIoBKQakGJBiQIav0Ge9ppafu8mAFANy2yd98s3o1ZIincibDEgxIMWAvOXbIfL+8Q537R9NBqQYkI9/iW2VJaxX28UVA1IMyMd/0ze61q6y11xpMiDFgCz5+4xZNRmQYkCKASkGpBiQYkCKASkGpBiQYkCKASkGpBiQYkCKASkGpBiQYkCKASkGpBiQYkCKASkG5AeExkrBA0qnwQAAAABJRU5ErkJggg==\" y=\"-140.758125\"/>\r\n   </g>\r\n   <g id=\"matplotlib.axis_39\"/>\r\n   <g id=\"matplotlib.axis_40\"/>\r\n   <g id=\"patch_98\">\r\n    <path d=\"M 1287.479661 239.758125 \r\nL 1287.479661 140.921761 \r\n\" style=\"fill:none;stroke:#000000;stroke-linecap:square;stroke-linejoin:miter;stroke-width:0.8;\"/>\r\n   </g>\r\n   <g id=\"patch_99\">\r\n    <path d=\"M 1386.316025 239.758125 \r\nL 1386.316025 140.921761 \r\n\" style=\"fill:none;stroke:#000000;stroke-linecap:square;stroke-linejoin:miter;stroke-width:0.8;\"/>\r\n   </g>\r\n   <g id=\"patch_100\">\r\n    <path d=\"M 1287.479661 239.758125 \r\nL 1386.316025 239.758125 \r\n\" style=\"fill:none;stroke:#000000;stroke-linecap:square;stroke-linejoin:miter;stroke-width:0.8;\"/>\r\n   </g>\r\n   <g id=\"patch_101\">\r\n    <path d=\"M 1287.479661 140.921761 \r\nL 1386.316025 140.921761 \r\n\" style=\"fill:none;stroke:#000000;stroke-linecap:square;stroke-linejoin:miter;stroke-width:0.8;\"/>\r\n   </g>\r\n   <g id=\"text_20\">\r\n    <!-- 7 -->\r\n    <g transform=\"translate(1333.080343 134.921761)scale(0.12 -0.12)\">\r\n     <use xlink:href=\"#DejaVuSans-55\"/>\r\n    </g>\r\n   </g>\r\n  </g>\r\n </g>\r\n <defs>\r\n  <clipPath id=\"p533d3ecc6d\">\r\n   <rect height=\"98.836364\" width=\"98.836364\" x=\"10.7\" y=\"22.318125\"/>\r\n  </clipPath>\r\n  <clipPath id=\"pd95549108e\">\r\n   <rect height=\"98.836364\" width=\"98.836364\" x=\"152.564407\" y=\"22.318125\"/>\r\n  </clipPath>\r\n  <clipPath id=\"pa71ff95b79\">\r\n   <rect height=\"98.836364\" width=\"98.836364\" x=\"294.428814\" y=\"22.318125\"/>\r\n  </clipPath>\r\n  <clipPath id=\"pf0c09d16f0\">\r\n   <rect height=\"98.836364\" width=\"98.836364\" x=\"436.29322\" y=\"22.318125\"/>\r\n  </clipPath>\r\n  <clipPath id=\"p968b75a75d\">\r\n   <rect height=\"98.836364\" width=\"98.836364\" x=\"578.157627\" y=\"22.318125\"/>\r\n  </clipPath>\r\n  <clipPath id=\"p34e3cec67d\">\r\n   <rect height=\"98.836364\" width=\"98.836364\" x=\"720.022034\" y=\"22.318125\"/>\r\n  </clipPath>\r\n  <clipPath id=\"pfe104d12df\">\r\n   <rect height=\"98.836364\" width=\"98.836364\" x=\"861.886441\" y=\"22.318125\"/>\r\n  </clipPath>\r\n  <clipPath id=\"p05fa990734\">\r\n   <rect height=\"98.836364\" width=\"98.836364\" x=\"1003.750847\" y=\"22.318125\"/>\r\n  </clipPath>\r\n  <clipPath id=\"pdf9bef83a1\">\r\n   <rect height=\"98.836364\" width=\"98.836364\" x=\"1145.615254\" y=\"22.318125\"/>\r\n  </clipPath>\r\n  <clipPath id=\"p5ede0de4e6\">\r\n   <rect height=\"98.836364\" width=\"98.836364\" x=\"1287.479661\" y=\"22.318125\"/>\r\n  </clipPath>\r\n  <clipPath id=\"pa1e0e085bf\">\r\n   <rect height=\"98.836364\" width=\"98.836364\" x=\"10.7\" y=\"140.921761\"/>\r\n  </clipPath>\r\n  <clipPath id=\"p2170e69ab6\">\r\n   <rect height=\"98.836364\" width=\"98.836364\" x=\"152.564407\" y=\"140.921761\"/>\r\n  </clipPath>\r\n  <clipPath id=\"p8c7d3209e8\">\r\n   <rect height=\"98.836364\" width=\"98.836364\" x=\"294.428814\" y=\"140.921761\"/>\r\n  </clipPath>\r\n  <clipPath id=\"p86d35fef8e\">\r\n   <rect height=\"98.836364\" width=\"98.836364\" x=\"436.29322\" y=\"140.921761\"/>\r\n  </clipPath>\r\n  <clipPath id=\"p9ca44d72da\">\r\n   <rect height=\"98.836364\" width=\"98.836364\" x=\"578.157627\" y=\"140.921761\"/>\r\n  </clipPath>\r\n  <clipPath id=\"pee005c97aa\">\r\n   <rect height=\"98.836364\" width=\"98.836364\" x=\"720.022034\" y=\"140.921761\"/>\r\n  </clipPath>\r\n  <clipPath id=\"pc968f5b950\">\r\n   <rect height=\"98.836364\" width=\"98.836364\" x=\"861.886441\" y=\"140.921761\"/>\r\n  </clipPath>\r\n  <clipPath id=\"p1518faa99f\">\r\n   <rect height=\"98.836364\" width=\"98.836364\" x=\"1003.750847\" y=\"140.921761\"/>\r\n  </clipPath>\r\n  <clipPath id=\"pdd81f1bba6\">\r\n   <rect height=\"98.836364\" width=\"98.836364\" x=\"1145.615254\" y=\"140.921761\"/>\r\n  </clipPath>\r\n  <clipPath id=\"pcd0e9ba7a0\">\r\n   <rect height=\"98.836364\" width=\"98.836364\" x=\"1287.479661\" y=\"140.921761\"/>\r\n  </clipPath>\r\n </defs>\r\n</svg>\r\n",
      "image/png": "[encoded data removed]"
     },
     "metadata": {}
    }
   ],
   "source": [
    "import matplotlib.pyplot as plt\n",
    "%matplotlib inline\n",
    "    \n",
    "# obtain one batch of training images\n",
    "dataiter = iter(train_loader)\n",
    "images, labels = dataiter.next()\n",
    "images = images.numpy()\n",
    "# plot the images in the batch, along with the corresponding labels\n",
    "fig = plt.figure(figsize=(25, 4))\n",
    "for idx in np.arange(20):\n",
    "    ax = fig.add_subplot(2, 20/2, idx+1, xticks=[], yticks=[])\n",
    "    ax.imshow(np.squeeze(images[idx]), cmap='gray')\n",
    "    # print out the correct label for each image\n",
    "    # .item() gets the value contained in a Tensor\n",
    "    ax.set_title(str(labels[idx].item()))"
   ]
  },
  {
   "source": [
    "# Define Network Architecture"
   ],
   "cell_type": "markdown",
   "metadata": {}
  },
  {
   "cell_type": "code",
   "execution_count": 11,
   "metadata": {},
   "outputs": [],
   "source": [
    "#custom activation function. see https://towardsdatascience.com/extending-pytorch-with-custom-activation-functions-2d8b065ef2fa for more details\n",
    "\n",
    "def sgn(input):\n",
    "    output = torch.sign(input)\n",
    "    return output"
   ]
  },
  {
   "cell_type": "code",
   "execution_count": 12,
   "metadata": {},
   "outputs": [
    {
     "output_type": "stream",
     "name": "stdout",
     "text": [
      "Net(\n  (fc1): Linear(in_features=784, out_features=784, bias=True)\n  (fc2): Linear(in_features=784, out_features=784, bias=True)\n  (fc3): Linear(in_features=784, out_features=784, bias=True)\n  (fc4): Linear(in_features=784, out_features=784, bias=True)\n  (fc5): Linear(in_features=784, out_features=10, bias=True)\n)\n"
     ]
    }
   ],
   "source": [
    "import torch.nn as nn\n",
    "import torch.nn.functional as F\n",
    "\n",
    "# define NN architecture\n",
    "#ARCHITECTURE = \"relu\"\n",
    "ARCHITECTURE = \"binary\"\n",
    "\n",
    "\n",
    "class Net(nn.Module):\n",
    "    def __init__(self):\n",
    "        super(Net,self).__init__()\n",
    "\n",
    "        if ARCHITECTURE == \"relu\":\n",
    "            # linear layer (784 -> hidden_1)\n",
    "            self.fc1 = nn.Linear(MNIST_PIXEL_CNT, 512)\n",
    "            # linear layer (n_hidden -> hidden_2)\n",
    "            self.fc2 = nn.Linear(512,512)\n",
    "            # linear layer (n_hidden -> 10)\n",
    "            self.fc3 = nn.Linear(512,10)\n",
    "            # dropout layer (p=0.2)\n",
    "            # dropout prevents overfitting of data\n",
    "            self.droput = nn.Dropout(0.2)\n",
    "\n",
    "        elif ARCHITECTURE == \"binary\":\n",
    "             self.fc1 = nn.Linear(MNIST_PIXEL_CNT, MNIST_PIXEL_CNT)\n",
    "             self.fc2 = nn.Linear(MNIST_PIXEL_CNT, MNIST_PIXEL_CNT)\n",
    "             self.fc3 = nn.Linear(MNIST_PIXEL_CNT, MNIST_PIXEL_CNT)\n",
    "             self.fc4 = nn.Linear(MNIST_PIXEL_CNT, MNIST_PIXEL_CNT)\n",
    "             self.fc5 = nn.Linear(MNIST_PIXEL_CNT,10)\n",
    "\n",
    "        else:\n",
    "            raise(ValueError(\"Invalid architecture!\"))\n",
    "        \n",
    "\n",
    "    def forward(self, x):\n",
    "        if ARCHITECTURE == \"relu\":\n",
    "            # flatten image input\n",
    "            x = x.view(-1, MNIST_PIXEL_CNT)\n",
    "            # add hidden layer, with relu activation function\n",
    "            x = F.relu(self.fc1(x))\n",
    "            # add dropout layer\n",
    "            x = self.droput(x)\n",
    "            # add hidden layer, with relu activation function\n",
    "            x = F.relu(self.fc2(x))\n",
    "            # add dropout layer\n",
    "            x = self.droput(x)\n",
    "            # add output layer\n",
    "            x = self.fc3(x)\n",
    "            return x\n",
    "\n",
    "        elif ARCHITECTURE == \"binary\":            \n",
    "            # Pytorch does not support a (binary) sign activation fucntion\n",
    "            # flatten image input\n",
    "            x = x.view(-1, MNIST_PIXEL_CNT)\n",
    "\n",
    "            # add layers\n",
    "            x = sgn(self.fc1(x))\n",
    "            x = sgn(self.fc2(x))\n",
    "            x = sgn(self.fc3(x))\n",
    "            x = sgn(self.fc4(x))\n",
    "            x = self.fc5(x)\n",
    "            return x\n",
    "\n",
    "        else:\n",
    "            raise(ValueError(\"Invalid architecture!\"))\n",
    "\n",
    "# initialize the NN\n",
    "model = Net()\n",
    "print(model)"
   ]
  },
  {
   "source": [
    "# Specify Loss function and Optimizer"
   ],
   "cell_type": "markdown",
   "metadata": {}
  },
  {
   "cell_type": "code",
   "execution_count": 13,
   "metadata": {},
   "outputs": [],
   "source": [
    "# specify loss function (categorical cross-entropy)\n",
    "criterion = nn.CrossEntropyLoss()\n",
    "# specify optimizer (stochastic gradient descent) and learning rate = 0.01\n",
    "optimizer = torch.optim.SGD(model.parameters(),lr = 0.01)"
   ]
  },
  {
   "source": [
    "# Train the network"
   ],
   "cell_type": "markdown",
   "metadata": {}
  },
  {
   "cell_type": "code",
   "execution_count": 14,
   "metadata": {},
   "outputs": [
    {
     "output_type": "error",
     "ename": "AttributeError",
     "evalue": "'numpy.ndarray' object has no attribute 'dim'",
     "traceback": [
      "\u001b[1;31m---------------------------------------------------------------------------\u001b[0m",
      "\u001b[1;31mAttributeError\u001b[0m                            Traceback (most recent call last)",
      "\u001b[1;32m<ipython-input-14-d1ea8cee5669>\u001b[0m in \u001b[0;36m<module>\u001b[1;34m\u001b[0m\n\u001b[0;32m     19\u001b[0m         \u001b[0moptimizer\u001b[0m\u001b[1;33m.\u001b[0m\u001b[0mzero_grad\u001b[0m\u001b[1;33m(\u001b[0m\u001b[1;33m)\u001b[0m\u001b[1;33m\u001b[0m\u001b[1;33m\u001b[0m\u001b[0m\n\u001b[0;32m     20\u001b[0m         \u001b[1;31m# forward pass: compute predicted outputs by passing inputs to the model\u001b[0m\u001b[1;33m\u001b[0m\u001b[1;33m\u001b[0m\u001b[1;33m\u001b[0m\u001b[0m\n\u001b[1;32m---> 21\u001b[1;33m         \u001b[0moutput\u001b[0m \u001b[1;33m=\u001b[0m \u001b[0mmodel\u001b[0m\u001b[1;33m(\u001b[0m\u001b[0mdata\u001b[0m\u001b[1;33m)\u001b[0m\u001b[1;33m\u001b[0m\u001b[1;33m\u001b[0m\u001b[0m\n\u001b[0m\u001b[0;32m     22\u001b[0m         \u001b[1;31m# calculate the loss\u001b[0m\u001b[1;33m\u001b[0m\u001b[1;33m\u001b[0m\u001b[1;33m\u001b[0m\u001b[0m\n\u001b[0;32m     23\u001b[0m         \u001b[0mloss\u001b[0m \u001b[1;33m=\u001b[0m \u001b[0mcriterion\u001b[0m\u001b[1;33m(\u001b[0m\u001b[0moutput\u001b[0m\u001b[1;33m,\u001b[0m\u001b[0mlabel\u001b[0m\u001b[1;33m)\u001b[0m\u001b[1;33m\u001b[0m\u001b[1;33m\u001b[0m\u001b[0m\n",
      "\u001b[1;32m~\\AppData\\Local\\Programs\\Python\\Python37\\lib\\site-packages\\torch\\nn\\modules\\module.py\u001b[0m in \u001b[0;36m_call_impl\u001b[1;34m(self, *input, **kwargs)\u001b[0m\n\u001b[0;32m    725\u001b[0m             \u001b[0mresult\u001b[0m \u001b[1;33m=\u001b[0m \u001b[0mself\u001b[0m\u001b[1;33m.\u001b[0m\u001b[0m_slow_forward\u001b[0m\u001b[1;33m(\u001b[0m\u001b[1;33m*\u001b[0m\u001b[0minput\u001b[0m\u001b[1;33m,\u001b[0m \u001b[1;33m**\u001b[0m\u001b[0mkwargs\u001b[0m\u001b[1;33m)\u001b[0m\u001b[1;33m\u001b[0m\u001b[1;33m\u001b[0m\u001b[0m\n\u001b[0;32m    726\u001b[0m         \u001b[1;32melse\u001b[0m\u001b[1;33m:\u001b[0m\u001b[1;33m\u001b[0m\u001b[1;33m\u001b[0m\u001b[0m\n\u001b[1;32m--> 727\u001b[1;33m             \u001b[0mresult\u001b[0m \u001b[1;33m=\u001b[0m \u001b[0mself\u001b[0m\u001b[1;33m.\u001b[0m\u001b[0mforward\u001b[0m\u001b[1;33m(\u001b[0m\u001b[1;33m*\u001b[0m\u001b[0minput\u001b[0m\u001b[1;33m,\u001b[0m \u001b[1;33m**\u001b[0m\u001b[0mkwargs\u001b[0m\u001b[1;33m)\u001b[0m\u001b[1;33m\u001b[0m\u001b[1;33m\u001b[0m\u001b[0m\n\u001b[0m\u001b[0;32m    728\u001b[0m         for hook in itertools.chain(\n\u001b[0;32m    729\u001b[0m                 \u001b[0m_global_forward_hooks\u001b[0m\u001b[1;33m.\u001b[0m\u001b[0mvalues\u001b[0m\u001b[1;33m(\u001b[0m\u001b[1;33m)\u001b[0m\u001b[1;33m,\u001b[0m\u001b[1;33m\u001b[0m\u001b[1;33m\u001b[0m\u001b[0m\n",
      "\u001b[1;32m<ipython-input-12-52d211d0264a>\u001b[0m in \u001b[0;36mforward\u001b[1;34m(self, x)\u001b[0m\n\u001b[0;32m     56\u001b[0m             \u001b[1;31m# add layers\u001b[0m\u001b[1;33m\u001b[0m\u001b[1;33m\u001b[0m\u001b[1;33m\u001b[0m\u001b[0m\n\u001b[0;32m     57\u001b[0m             \u001b[0mx\u001b[0m \u001b[1;33m=\u001b[0m \u001b[0msgn\u001b[0m\u001b[1;33m(\u001b[0m\u001b[0mself\u001b[0m\u001b[1;33m.\u001b[0m\u001b[0mfc1\u001b[0m\u001b[1;33m(\u001b[0m\u001b[0mx\u001b[0m\u001b[1;33m)\u001b[0m\u001b[1;33m)\u001b[0m\u001b[1;33m\u001b[0m\u001b[1;33m\u001b[0m\u001b[0m\n\u001b[1;32m---> 58\u001b[1;33m             \u001b[0mx\u001b[0m \u001b[1;33m=\u001b[0m \u001b[0msgn\u001b[0m\u001b[1;33m(\u001b[0m\u001b[0mself\u001b[0m\u001b[1;33m.\u001b[0m\u001b[0mfc2\u001b[0m\u001b[1;33m(\u001b[0m\u001b[0mx\u001b[0m\u001b[1;33m)\u001b[0m\u001b[1;33m)\u001b[0m\u001b[1;33m\u001b[0m\u001b[1;33m\u001b[0m\u001b[0m\n\u001b[0m\u001b[0;32m     59\u001b[0m             \u001b[0mx\u001b[0m \u001b[1;33m=\u001b[0m \u001b[0msgn\u001b[0m\u001b[1;33m(\u001b[0m\u001b[0mself\u001b[0m\u001b[1;33m.\u001b[0m\u001b[0mfc3\u001b[0m\u001b[1;33m(\u001b[0m\u001b[0mx\u001b[0m\u001b[1;33m)\u001b[0m\u001b[1;33m)\u001b[0m\u001b[1;33m\u001b[0m\u001b[1;33m\u001b[0m\u001b[0m\n\u001b[0;32m     60\u001b[0m             \u001b[0mx\u001b[0m \u001b[1;33m=\u001b[0m \u001b[0msgn\u001b[0m\u001b[1;33m(\u001b[0m\u001b[0mself\u001b[0m\u001b[1;33m.\u001b[0m\u001b[0mfc4\u001b[0m\u001b[1;33m(\u001b[0m\u001b[0mx\u001b[0m\u001b[1;33m)\u001b[0m\u001b[1;33m)\u001b[0m\u001b[1;33m\u001b[0m\u001b[1;33m\u001b[0m\u001b[0m\n",
      "\u001b[1;32m~\\AppData\\Local\\Programs\\Python\\Python37\\lib\\site-packages\\torch\\nn\\modules\\module.py\u001b[0m in \u001b[0;36m_call_impl\u001b[1;34m(self, *input, **kwargs)\u001b[0m\n\u001b[0;32m    725\u001b[0m             \u001b[0mresult\u001b[0m \u001b[1;33m=\u001b[0m \u001b[0mself\u001b[0m\u001b[1;33m.\u001b[0m\u001b[0m_slow_forward\u001b[0m\u001b[1;33m(\u001b[0m\u001b[1;33m*\u001b[0m\u001b[0minput\u001b[0m\u001b[1;33m,\u001b[0m \u001b[1;33m**\u001b[0m\u001b[0mkwargs\u001b[0m\u001b[1;33m)\u001b[0m\u001b[1;33m\u001b[0m\u001b[1;33m\u001b[0m\u001b[0m\n\u001b[0;32m    726\u001b[0m         \u001b[1;32melse\u001b[0m\u001b[1;33m:\u001b[0m\u001b[1;33m\u001b[0m\u001b[1;33m\u001b[0m\u001b[0m\n\u001b[1;32m--> 727\u001b[1;33m             \u001b[0mresult\u001b[0m \u001b[1;33m=\u001b[0m \u001b[0mself\u001b[0m\u001b[1;33m.\u001b[0m\u001b[0mforward\u001b[0m\u001b[1;33m(\u001b[0m\u001b[1;33m*\u001b[0m\u001b[0minput\u001b[0m\u001b[1;33m,\u001b[0m \u001b[1;33m**\u001b[0m\u001b[0mkwargs\u001b[0m\u001b[1;33m)\u001b[0m\u001b[1;33m\u001b[0m\u001b[1;33m\u001b[0m\u001b[0m\n\u001b[0m\u001b[0;32m    728\u001b[0m         for hook in itertools.chain(\n\u001b[0;32m    729\u001b[0m                 \u001b[0m_global_forward_hooks\u001b[0m\u001b[1;33m.\u001b[0m\u001b[0mvalues\u001b[0m\u001b[1;33m(\u001b[0m\u001b[1;33m)\u001b[0m\u001b[1;33m,\u001b[0m\u001b[1;33m\u001b[0m\u001b[1;33m\u001b[0m\u001b[0m\n",
      "\u001b[1;32m~\\AppData\\Local\\Programs\\Python\\Python37\\lib\\site-packages\\torch\\nn\\modules\\linear.py\u001b[0m in \u001b[0;36mforward\u001b[1;34m(self, input)\u001b[0m\n\u001b[0;32m     91\u001b[0m \u001b[1;33m\u001b[0m\u001b[0m\n\u001b[0;32m     92\u001b[0m     \u001b[1;32mdef\u001b[0m \u001b[0mforward\u001b[0m\u001b[1;33m(\u001b[0m\u001b[0mself\u001b[0m\u001b[1;33m,\u001b[0m \u001b[0minput\u001b[0m\u001b[1;33m:\u001b[0m \u001b[0mTensor\u001b[0m\u001b[1;33m)\u001b[0m \u001b[1;33m->\u001b[0m \u001b[0mTensor\u001b[0m\u001b[1;33m:\u001b[0m\u001b[1;33m\u001b[0m\u001b[1;33m\u001b[0m\u001b[0m\n\u001b[1;32m---> 93\u001b[1;33m         \u001b[1;32mreturn\u001b[0m \u001b[0mF\u001b[0m\u001b[1;33m.\u001b[0m\u001b[0mlinear\u001b[0m\u001b[1;33m(\u001b[0m\u001b[0minput\u001b[0m\u001b[1;33m,\u001b[0m \u001b[0mself\u001b[0m\u001b[1;33m.\u001b[0m\u001b[0mweight\u001b[0m\u001b[1;33m,\u001b[0m \u001b[0mself\u001b[0m\u001b[1;33m.\u001b[0m\u001b[0mbias\u001b[0m\u001b[1;33m)\u001b[0m\u001b[1;33m\u001b[0m\u001b[1;33m\u001b[0m\u001b[0m\n\u001b[0m\u001b[0;32m     94\u001b[0m \u001b[1;33m\u001b[0m\u001b[0m\n\u001b[0;32m     95\u001b[0m     \u001b[1;32mdef\u001b[0m \u001b[0mextra_repr\u001b[0m\u001b[1;33m(\u001b[0m\u001b[0mself\u001b[0m\u001b[1;33m)\u001b[0m \u001b[1;33m->\u001b[0m \u001b[0mstr\u001b[0m\u001b[1;33m:\u001b[0m\u001b[1;33m\u001b[0m\u001b[1;33m\u001b[0m\u001b[0m\n",
      "\u001b[1;32m~\\AppData\\Local\\Programs\\Python\\Python37\\lib\\site-packages\\torch\\nn\\functional.py\u001b[0m in \u001b[0;36mlinear\u001b[1;34m(input, weight, bias)\u001b[0m\n\u001b[0;32m   1686\u001b[0m         \u001b[1;32mif\u001b[0m \u001b[0many\u001b[0m\u001b[1;33m(\u001b[0m\u001b[1;33m[\u001b[0m\u001b[0mtype\u001b[0m\u001b[1;33m(\u001b[0m\u001b[0mt\u001b[0m\u001b[1;33m)\u001b[0m \u001b[1;32mis\u001b[0m \u001b[1;32mnot\u001b[0m \u001b[0mTensor\u001b[0m \u001b[1;32mfor\u001b[0m \u001b[0mt\u001b[0m \u001b[1;32min\u001b[0m \u001b[0mtens_ops\u001b[0m\u001b[1;33m]\u001b[0m\u001b[1;33m)\u001b[0m \u001b[1;32mand\u001b[0m \u001b[0mhas_torch_function\u001b[0m\u001b[1;33m(\u001b[0m\u001b[0mtens_ops\u001b[0m\u001b[1;33m)\u001b[0m\u001b[1;33m:\u001b[0m\u001b[1;33m\u001b[0m\u001b[1;33m\u001b[0m\u001b[0m\n\u001b[0;32m   1687\u001b[0m             \u001b[1;32mreturn\u001b[0m \u001b[0mhandle_torch_function\u001b[0m\u001b[1;33m(\u001b[0m\u001b[0mlinear\u001b[0m\u001b[1;33m,\u001b[0m \u001b[0mtens_ops\u001b[0m\u001b[1;33m,\u001b[0m \u001b[0minput\u001b[0m\u001b[1;33m,\u001b[0m \u001b[0mweight\u001b[0m\u001b[1;33m,\u001b[0m \u001b[0mbias\u001b[0m\u001b[1;33m=\u001b[0m\u001b[0mbias\u001b[0m\u001b[1;33m)\u001b[0m\u001b[1;33m\u001b[0m\u001b[1;33m\u001b[0m\u001b[0m\n\u001b[1;32m-> 1688\u001b[1;33m     \u001b[1;32mif\u001b[0m \u001b[0minput\u001b[0m\u001b[1;33m.\u001b[0m\u001b[0mdim\u001b[0m\u001b[1;33m(\u001b[0m\u001b[1;33m)\u001b[0m \u001b[1;33m==\u001b[0m \u001b[1;36m2\u001b[0m \u001b[1;32mand\u001b[0m \u001b[0mbias\u001b[0m \u001b[1;32mis\u001b[0m \u001b[1;32mnot\u001b[0m \u001b[1;32mNone\u001b[0m\u001b[1;33m:\u001b[0m\u001b[1;33m\u001b[0m\u001b[1;33m\u001b[0m\u001b[0m\n\u001b[0m\u001b[0;32m   1689\u001b[0m         \u001b[1;31m# fused op is marginally faster\u001b[0m\u001b[1;33m\u001b[0m\u001b[1;33m\u001b[0m\u001b[1;33m\u001b[0m\u001b[0m\n\u001b[0;32m   1690\u001b[0m         \u001b[0mret\u001b[0m \u001b[1;33m=\u001b[0m \u001b[0mtorch\u001b[0m\u001b[1;33m.\u001b[0m\u001b[0maddmm\u001b[0m\u001b[1;33m(\u001b[0m\u001b[0mbias\u001b[0m\u001b[1;33m,\u001b[0m \u001b[0minput\u001b[0m\u001b[1;33m,\u001b[0m \u001b[0mweight\u001b[0m\u001b[1;33m.\u001b[0m\u001b[0mt\u001b[0m\u001b[1;33m(\u001b[0m\u001b[1;33m)\u001b[0m\u001b[1;33m)\u001b[0m\u001b[1;33m\u001b[0m\u001b[1;33m\u001b[0m\u001b[0m\n",
      "\u001b[1;31mAttributeError\u001b[0m: 'numpy.ndarray' object has no attribute 'dim'"
     ]
    }
   ],
   "source": [
    "# number of epochs to train the model\n",
    "n_epochs = 1\n",
    "\n",
    "\n",
    "# initialize tracker for minimum validation loss\n",
    "valid_loss_min = np.Inf  # set initial \"min\" to infinity\n",
    "for epoch in range(n_epochs):\n",
    "    # monitor losses\n",
    "    train_loss = 0\n",
    "    valid_loss = 0\n",
    "    \n",
    "     \n",
    "    ###################\n",
    "    # train the model #\n",
    "    ###################\n",
    "    model.train() # prep model for training\n",
    "    for data,label in train_loader:\n",
    "        # clear the gradients of all optimized variables\n",
    "        optimizer.zero_grad()\n",
    "        # forward pass: compute predicted outputs by passing inputs to the model\n",
    "        output = model(data)\n",
    "        # calculate the loss\n",
    "        loss = criterion(output,label)\n",
    "        # backward pass: compute gradient of the loss with respect to model parameters\n",
    "        loss.backward()\n",
    "        # perform a single optimization step (parameter update)\n",
    "        optimizer.step()\n",
    "        # update running training loss\n",
    "        train_loss += loss.item() * data.size(0)\n",
    "        \n",
    "        \n",
    "    ######################    \n",
    "    # validate the model #\n",
    "    ######################\n",
    "    model.eval()  # prep model for evaluation\n",
    "    for data,label in valid_loader:\n",
    "        # forward pass: compute predicted outputs by passing inputs to the model\n",
    "        output = model(data)\n",
    "        # calculate the loss\n",
    "        loss = criterion(output,label)\n",
    "        # update running validation loss \n",
    "        valid_loss = loss.item() * data.size(0)\n",
    "    \n",
    "    # print training/validation statistics \n",
    "    # calculate average loss over an epoch\n",
    "    train_loss = train_loss / len(train_loader.sampler)\n",
    "    valid_loss = valid_loss / len(valid_loader.sampler)\n",
    "    \n",
    "    print('Epoch: {} \\tTraining Loss: {:.6f} \\tValidation Loss: {:.6f}'.format(\n",
    "        epoch+1, \n",
    "        train_loss,\n",
    "        valid_loss\n",
    "        ))\n",
    "    \n",
    "    # save model if validation loss has decreased\n",
    "    if valid_loss <= valid_loss_min:\n",
    "        print('Validation loss decreased ({:.6f} --> {:.6f}).  Saving model ...'.format(\n",
    "        valid_loss_min,\n",
    "        valid_loss))\n",
    "        torch.save(model.state_dict(), 'model.pt')\n",
    "        valid_loss_min = valid_loss"
   ]
  },
  {
   "source": [
    "# Load the Model with Lowest Validation Loss"
   ],
   "cell_type": "markdown",
   "metadata": {}
  },
  {
   "cell_type": "code",
   "execution_count": null,
   "metadata": {},
   "outputs": [],
   "source": [
    "model.load_state_dict(torch.load('model.pt'))"
   ]
  },
  {
   "source": [
    "# Test the trained Network"
   ],
   "cell_type": "markdown",
   "metadata": {}
  },
  {
   "cell_type": "code",
   "execution_count": null,
   "metadata": {},
   "outputs": [],
   "source": [
    "# initialize lists to monitor test loss and accuracy\n",
    "test_loss = 0.0\n",
    "class_correct = list(0. for i in range(10))\n",
    "class_total = list(0. for i in range(10))\n",
    "model.eval() # prep model for evaluation\n",
    "for data, target in test_loader:\n",
    "    # forward pass: compute predicted outputs by passing inputs to the model\n",
    "    output = model(data)\n",
    "    # calculate the loss\n",
    "    loss = criterion(output, target)\n",
    "    # update test loss \n",
    "    test_loss += loss.item()*data.size(0)\n",
    "    # convert output probabilities to predicted class\n",
    "    _, pred = torch.max(output, 1)\n",
    "    # compare predictions to true label\n",
    "    correct = np.squeeze(pred.eq(target.data.view_as(pred)))\n",
    "    # calculate test accuracy for each object class\n",
    "    for i in range(len(target)):\n",
    "        label = target.data[i]\n",
    "        class_correct[label] += correct[i].item()\n",
    "        class_total[label] += 1\n",
    "# calculate and print avg test loss\n",
    "test_loss = test_loss/len(test_loader.sampler)\n",
    "print('Test Loss: {:.6f}\\n'.format(test_loss))\n",
    "for i in range(10):\n",
    "    if class_total[i] > 0:\n",
    "        print('Test Accuracy of %5s: %2d%% (%2d/%2d)' % (\n",
    "            str(i), 100 * class_correct[i] / class_total[i],\n",
    "            np.sum(class_correct[i]), np.sum(class_total[i])))\n",
    "    else:\n",
    "        print('Test Accuracy of %5s: N/A (no training examples)' % (classes[i]))\n",
    "print('\\nTest Accuracy (Overall): %2d%% (%2d/%2d)' % (\n",
    "    100. * np.sum(class_correct) / np.sum(class_total),\n",
    "    np.sum(class_correct), np.sum(class_total)))"
   ]
  },
  {
   "source": [
    "# Visualize Sample Test Results"
   ],
   "cell_type": "markdown",
   "metadata": {}
  },
  {
   "cell_type": "code",
   "execution_count": null,
   "metadata": {},
   "outputs": [],
   "source": [
    "# obtain one batch of test images\n",
    "dataiter = iter(test_loader)\n",
    "images, labels = dataiter.next()\n",
    "# get sample outputs\n",
    "output = model(images)\n",
    "# convert output probabilities to predicted class\n",
    "_, preds = torch.max(output, 1)\n",
    "# prep images for display\n",
    "images = images.numpy()\n",
    "# plot the images in the batch, along with predicted and true labels\n",
    "fig = plt.figure(figsize=(25, 4))\n",
    "for idx in np.arange(20):\n",
    "    ax = fig.add_subplot(2, 20/2, idx+1, xticks=[], yticks=[])\n",
    "    ax.imshow(np.squeeze(images[idx]), cmap='gray')\n",
    "    ax.set_title(\"{} ({})\".format(str(preds[idx].item()), str(labels[idx].item())),\n",
    "                 color=(\"green\" if preds[idx]==labels[idx] else \"red\"))"
   ]
  },
  {
   "cell_type": "code",
   "execution_count": null,
   "metadata": {},
   "outputs": [],
   "source": []
  }
 ]
}