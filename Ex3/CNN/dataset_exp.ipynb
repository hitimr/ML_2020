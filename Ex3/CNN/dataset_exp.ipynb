{
 "metadata": {
  "language_info": {
   "codemirror_mode": {
    "name": "ipython",
    "version": 3
   },
   "file_extension": ".py",
   "mimetype": "text/x-python",
   "name": "python",
   "nbconvert_exporter": "python",
   "pygments_lexer": "ipython3",
   "version": "3.8.5-final"
  },
  "orig_nbformat": 2,
  "kernelspec": {
   "name": "python38564bitd6bb2bba634e4681926eed20e33d6e0a",
   "display_name": "Python 3.8.5 64-bit",
   "language": "python"
  }
 },
 "nbformat": 4,
 "nbformat_minor": 2,
 "cells": [
  {
   "cell_type": "code",
   "execution_count": 1,
   "metadata": {},
   "outputs": [],
   "source": [
    "import torch\n",
    "import torchvision\n",
    "from torchvision import datasets, transforms\n",
    "import numpy as np"
   ]
  },
  {
   "cell_type": "code",
   "execution_count": 2,
   "metadata": {},
   "outputs": [],
   "source": [
    "n_epochs = 3\n",
    "batch_size_train = 64\n",
    "batch_size_test = 1000\n",
    "learning_rate = 0.01\n",
    "momentum = 0.5\n",
    "log_interval = 10\n",
    "\n",
    "random_seed = 1\n",
    "torch.backends.cudnn.enabled = False\n",
    "torch.manual_seed(random_seed)\n",
    "\n",
    "train_kwargs = {'batch_size': 64}\n",
    "test_kwargs = {'batch_size': 64}"
   ]
  },
  {
   "cell_type": "code",
   "execution_count": 3,
   "metadata": {},
   "outputs": [],
   "source": [
    "    transform=transforms.Compose([\n",
    "        transforms.ToTensor(),\n",
    "        transforms.Normalize((0.1307,), (0.3081,))\n",
    "        ])\n",
    "    dataset1 = datasets.MNIST('../data', train=True, download=True,\n",
    "                       transform=transform)\n",
    "    dataset2 = datasets.MNIST('../data', train=False,\n",
    "                       transform=transform)"
   ]
  },
  {
   "cell_type": "code",
   "execution_count": 4,
   "metadata": {},
   "outputs": [],
   "source": [
    "#dataset1 = datasets.FashionMNIST(root = \"data\", train = True, download = True, transform = transform)\n",
    "#dataset2 = datasets.FashionMNIST(root = \"data\", train = False, download = True, transform = transform)\n",
    "\n",
    "#dataset1 = datasets.MNIST(root = \"data\", train = True, download = True, transform = transform)\n",
    "#dataset2 = datasets.MNIST(root = \"data\", train = False, download = True, transform = transform)\n",
    "\n",
    "train_loader = torch.utils.data.DataLoader(dataset1,**train_kwargs)\n",
    "test_loader = torch.utils.data.DataLoader(dataset2, **test_kwargs)"
   ]
  },
  {
   "cell_type": "code",
   "execution_count": 5,
   "metadata": {},
   "outputs": [
    {
     "output_type": "error",
     "ename": "AttributeError",
     "evalue": "'DataLoader' object has no attribute 'shape'",
     "traceback": [
      "\u001b[0;31m---------------------------------------------------------------------------\u001b[0m",
      "\u001b[0;31mAttributeError\u001b[0m                            Traceback (most recent call last)",
      "\u001b[0;32m<ipython-input-5-845fa6b79289>\u001b[0m in \u001b[0;36m<module>\u001b[0;34m\u001b[0m\n\u001b[0;32m----> 1\u001b[0;31m \u001b[0mtrain_loader\u001b[0m\u001b[0;34m.\u001b[0m\u001b[0mshape\u001b[0m\u001b[0;34m\u001b[0m\u001b[0;34m\u001b[0m\u001b[0m\n\u001b[0m",
      "\u001b[0;31mAttributeError\u001b[0m: 'DataLoader' object has no attribute 'shape'"
     ]
    }
   ],
   "source": [
    "train_loader.shape"
   ]
  },
  {
   "cell_type": "code",
   "execution_count": 6,
   "metadata": {},
   "outputs": [],
   "source": [
    "examples = enumerate(test_loader)\n",
    "batch_idx, (example_data, example_targets) = next(examples)"
   ]
  },
  {
   "cell_type": "code",
   "execution_count": 7,
   "metadata": {},
   "outputs": [
    {
     "output_type": "execute_result",
     "data": {
      "text/plain": [
       "torch.Size([64, 1, 28, 28])"
      ]
     },
     "metadata": {},
     "execution_count": 7
    }
   ],
   "source": [
    "example_data.shape"
   ]
  },
  {
   "cell_type": "code",
   "execution_count": 8,
   "metadata": {},
   "outputs": [
    {
     "output_type": "display_data",
     "data": {
      "text/plain": "<Figure size 432x288 with 6 Axes>",
      "image/svg+xml": "<?xml version=\"1.0\" encoding=\"utf-8\" standalone=\"no\"?>\n<!DOCTYPE svg PUBLIC \"-//W3C//DTD SVG 1.1//EN\"\n  \"http://www.w3.org/Graphics/SVG/1.1/DTD/svg11.dtd\">\n<!-- Created with matplotlib (https://matplotlib.org/) -->\n<svg height=\"261.661003pt\" version=\"1.1\" viewBox=\"0 0 416.8625 261.661003\" width=\"416.8625pt\" xmlns=\"http://www.w3.org/2000/svg\" xmlns:xlink=\"http://www.w3.org/1999/xlink\">\n <metadata>\n  <rdf:RDF xmlns:cc=\"http://creativecommons.org/ns#\" xmlns:dc=\"http://purl.org/dc/elements/1.1/\" xmlns:rdf=\"http://www.w3.org/1999/02/22-rdf-syntax-ns#\">\n   <cc:Work>\n    <dc:type rdf:resource=\"http://purl.org/dc/dcmitype/StillImage\"/>\n    <dc:date>2021-02-20T23:05:54.940196</dc:date>\n    <dc:format>image/svg+xml</dc:format>\n    <dc:creator>\n     <cc:Agent>\n      <dc:title>Matplotlib v3.3.4, https://matplotlib.org/</dc:title>\n     </cc:Agent>\n    </dc:creator>\n   </cc:Work>\n  </rdf:RDF>\n </metadata>\n <defs>\n  <style type=\"text/css\">*{stroke-linecap:butt;stroke-linejoin:round;}</style>\n </defs>\n <g id=\"figure_1\">\n  <g id=\"patch_1\">\n   <path d=\"M 0 261.661003 \nL 416.8625 261.661003 \nL 416.8625 0 \nL 0 0 \nz\n\" style=\"fill:none;\"/>\n  </g>\n  <g id=\"axes_1\">\n   <g id=\"patch_2\">\n    <path d=\"M 10.7 117.7375 \nL 121.2375 117.7375 \nL 121.2375 7.2 \nL 10.7 7.2 \nz\n\" style=\"fill:#ffffff;\"/>\n   </g>\n   <g clip-path=\"url(#p4615e8b09f)\">\n    <image height=\"28\" id=\"image09b6f33e19\" style=\"image-rendering:crisp-edges;image-rendering:pixelated\" transform=\"matrix(3.964286 0 0 3.964286 10.7 6.7375)\" width=\"28\" xlink:href=\"data:image/png;base64,\niVBORw0KGgoAAAANSUhEUgAAABwAAAAcCAYAAAByDd+UAAAB3klEQVR4nO2VT6s5URzGHz8/i1s2iLIQpZSNJGryL2VHVuMtzGqW9nY23oBXwEuws7bAYhaa/E1IpBAWI5zv3albd9wxuKv71Nmc8zzn09PMOccAgPCL+vebsD/gH1CX/qst5PN5CIKAxWIBRVFQrVaxXC4xHA6fAhqgcg7H4zE8Hs+XucPhgG63e3fD+XyOcrmMdrv97bpqQ0EQEAgEIMsy/H4/QqEQUqkUOI7DbDaDy+W6eS+XC9brNZxOJwBgOp2qAlUbfieLxYJgMIhOp4NIJHKbVxQF/X4fsizDarVCFEVUKhXVfegVg+d5ul6vJEkSWa3We97nYQ6Hg1arFRER8Tx/1/uSYyGKIux2O7bbLXq93o/+p9rFYjE6nU7EGKNkMvmj/+mGmUwGJpMJjUYDzWZTU0Z3u4+PD+p0OqQoCkWjUa05/cBisUiMMarX64/k9MGy2Sydz2fa7XbEcdx7gTabjUajETHGqFarPZp/DGY0GqnVahFjjAaDAXm93vcCfT4fMcaIMUa5XE7P59BudrvdNJlMiDFGhUKBDAbDe4GlUunWLhwO6/rZNAPj8Tjt9/ungZpvmkQiAbPZDAAYjUY4Ho9ao1+k+gCrSZIkpNNpbDYbXcCHHuBX6BNGjQcaYVSQRgAAAABJRU5ErkJggg==\"/>\n   </g>\n   <g id=\"matplotlib.axis_1\"/>\n   <g id=\"matplotlib.axis_2\"/>\n   <g id=\"patch_3\">\n    <path d=\"M 10.7 117.7375 \nL 10.7 7.2 \n\" style=\"fill:none;stroke:#000000;stroke-linecap:square;stroke-linejoin:miter;stroke-width:0.8;\"/>\n   </g>\n   <g id=\"patch_4\">\n    <path d=\"M 121.2375 117.7375 \nL 121.2375 7.2 \n\" style=\"fill:none;stroke:#000000;stroke-linecap:square;stroke-linejoin:miter;stroke-width:0.8;\"/>\n   </g>\n   <g id=\"patch_5\">\n    <path d=\"M 10.7 117.7375 \nL 121.2375 117.7375 \n\" style=\"fill:none;stroke:#000000;stroke-linecap:square;stroke-linejoin:miter;stroke-width:0.8;\"/>\n   </g>\n   <g id=\"patch_6\">\n    <path d=\"M 10.7 7.2 \nL 121.2375 7.2 \n\" style=\"fill:none;stroke:#000000;stroke-linecap:square;stroke-linejoin:miter;stroke-width:0.8;\"/>\n   </g>\n  </g>\n  <g id=\"axes_2\">\n   <g id=\"patch_7\">\n    <path d=\"M 154.9125 117.7375 \nL 265.45 117.7375 \nL 265.45 7.2 \nL 154.9125 7.2 \nz\n\" style=\"fill:#ffffff;\"/>\n   </g>\n   <g clip-path=\"url(#pdd6478d976)\">\n    <image height=\"28\" id=\"image1f1ee0406a\" style=\"image-rendering:crisp-edges;image-rendering:pixelated\" transform=\"matrix(3.964286 0 0 3.964286 154.9125 6.7375)\" width=\"28\" xlink:href=\"data:image/png;base64,\niVBORw0KGgoAAAANSUhEUgAAABwAAAAcCAYAAAByDd+UAAACAElEQVR4nN2WPaviUBCG37tchSuCEguxUcFSsEov9n40gv9D/CA/QCu1tdPCSiQi9hYiqIUIBgSxsova2agYx9lmN6x4xcR178IdeIszmTPPmeF85A0A4wvtx1fC/gvw3WhgJpPBx8cHQqEQkskkAKBarWI0GqHRaJiC8iM1m00mok+1XC7Z6/U+zPGHzMHm8zlXKhXudDq6T5Kk1wBFUeTT6cRExIqisN/vZ7vdzgDYarXydDplIuJSqfQaYCwWY03TWFEU9ng8V98kSeLj8chExJFI5HUt9fl8LAjCjX82m+ktfSnwM2WzWT4cDkxEPBwO2Waz/TtgNBrVYaqqcjgcNjXf9MEXRRFWqxUA0Gw20e/3zaYwvrpOp8P7/Z6JiOv1ur5jTcpYoMfj4e12y0TEm82GA4HAMzDjwOFwqO/Kcrn8LMwYMB6P62eu1+s920pjQJfLxePx+FXVPQYWi0UdJsvy31b3GPi7lUR0c709I8PvIQAIggBN0658u90OmqbBYrHA4XAAAJxOJ9LptB5DRMjn89jv98YfYABQFOXG12q1oKoq3G43UqnU3bnr9RqFQgFv+NXXe9Zut5FIJAwv6nw+43K5AAC63S4mkwkAYDAYYDwePwYCQC6Xg8Vi0cfBYPCqmlqthtVqBQCQZRmLxeJuLkPAV9r3/038/sCftc2EO8hVIlcAAAAASUVORK5CYII=\"/>\n   </g>\n   <g id=\"matplotlib.axis_3\"/>\n   <g id=\"matplotlib.axis_4\"/>\n   <g id=\"patch_8\">\n    <path d=\"M 154.9125 117.7375 \nL 154.9125 7.2 \n\" style=\"fill:none;stroke:#000000;stroke-linecap:square;stroke-linejoin:miter;stroke-width:0.8;\"/>\n   </g>\n   <g id=\"patch_9\">\n    <path d=\"M 265.45 117.7375 \nL 265.45 7.2 \n\" style=\"fill:none;stroke:#000000;stroke-linecap:square;stroke-linejoin:miter;stroke-width:0.8;\"/>\n   </g>\n   <g id=\"patch_10\">\n    <path d=\"M 154.9125 117.7375 \nL 265.45 117.7375 \n\" style=\"fill:none;stroke:#000000;stroke-linecap:square;stroke-linejoin:miter;stroke-width:0.8;\"/>\n   </g>\n   <g id=\"patch_11\">\n    <path d=\"M 154.9125 7.2 \nL 265.45 7.2 \n\" style=\"fill:none;stroke:#000000;stroke-linecap:square;stroke-linejoin:miter;stroke-width:0.8;\"/>\n   </g>\n  </g>\n  <g id=\"axes_3\">\n   <g id=\"patch_12\">\n    <path d=\"M 299.125 117.7375 \nL 409.6625 117.7375 \nL 409.6625 7.2 \nL 299.125 7.2 \nz\n\" style=\"fill:#ffffff;\"/>\n   </g>\n   <g clip-path=\"url(#p509ec482e3)\">\n    <image height=\"28\" id=\"imagece9f215f9f\" style=\"image-rendering:crisp-edges;image-rendering:pixelated\" transform=\"matrix(3.964286 0 0 3.964286 299.125 6.7375)\" width=\"28\" xlink:href=\"data:image/png;base64,\niVBORw0KGgoAAAANSUhEUgAAABwAAAAcCAYAAAByDd+UAAABTklEQVR4nO2WMYrCQBiFnyuCJJ1FSBcrsTConUVAhFSewgt4EcHWOwiB5BRBhNSmszBFIAQLEdLkf9vs9plZEnZhHwSm+fjmPaZIDwDRYT66lP0LG2UymUBEsN/vuxEul0uICLIs60a4WCzwfr8RhmFjhrrfbDbj6/Xi6XRqzPyo4XQ6hWmaOJ/PSpx2w+v1yvv9TtM0VTg92Xg8pogwTVMlTnvS9XoNACiKQonTFrquCwA4HA7KrPKcq9WKZVkySRIOh8P2J/V9H6PRCGmaoqoqJVZLOJ/PQRJBEOjganPats08z3m73bRet3LD3W4Hy7JwuVy02ikLHccBADyfTy0hoDjJ4/GgiHCz2bQ/qed5sG1bu9l3Gt/ueDxSRJgkCfv9frsNDcPAdrsFAARBgLqu2204GAwYxzGjKKJhGFrtALD3degsf++v7dcLPwF0NUFgJI0EXQAAAABJRU5ErkJggg==\"/>\n   </g>\n   <g id=\"matplotlib.axis_5\"/>\n   <g id=\"matplotlib.axis_6\"/>\n   <g id=\"patch_13\">\n    <path d=\"M 299.125 117.7375 \nL 299.125 7.2 \n\" style=\"fill:none;stroke:#000000;stroke-linecap:square;stroke-linejoin:miter;stroke-width:0.8;\"/>\n   </g>\n   <g id=\"patch_14\">\n    <path d=\"M 409.6625 117.7375 \nL 409.6625 7.2 \n\" style=\"fill:none;stroke:#000000;stroke-linecap:square;stroke-linejoin:miter;stroke-width:0.8;\"/>\n   </g>\n   <g id=\"patch_15\">\n    <path d=\"M 299.125 117.7375 \nL 409.6625 117.7375 \n\" style=\"fill:none;stroke:#000000;stroke-linecap:square;stroke-linejoin:miter;stroke-width:0.8;\"/>\n   </g>\n   <g id=\"patch_16\">\n    <path d=\"M 299.125 7.2 \nL 409.6625 7.2 \n\" style=\"fill:none;stroke:#000000;stroke-linecap:square;stroke-linejoin:miter;stroke-width:0.8;\"/>\n   </g>\n  </g>\n  <g id=\"axes_4\">\n   <g id=\"patch_17\">\n    <path d=\"M 10.7 250.961003 \nL 121.2375 250.961003 \nL 121.2375 140.423503 \nL 10.7 140.423503 \nz\n\" style=\"fill:#ffffff;\"/>\n   </g>\n   <g clip-path=\"url(#p1f433748a8)\">\n    <image height=\"28\" id=\"image85a7df23c7\" style=\"image-rendering:crisp-edges;image-rendering:pixelated\" transform=\"matrix(3.964286 0 0 3.964286 10.7 139.961003)\" width=\"28\" xlink:href=\"data:image/png;base64,\niVBORw0KGgoAAAANSUhEUgAAABwAAAAcCAYAAAByDd+UAAAB5klEQVR4nO2WscriQBSFr8Pa+LemNUIEH0DQRpLSpBB8DRGFvEFaQUQI2PsAWqbSRizUzkZQjIVCBFvLYThbGcxuYszvIruwFy6Ey5n55h4yN0kREeiDwT4J+w8Mja+vLxoOhySEoPV6TbIsJ4YiSRYKBXDOwTmHEAKtVivR+kQdSpJEo9EocUeP8eNVYafToUajQeVyOVBXVZUYY7TZbGg+n7+010tWCCF8Kx8tvT8fDgeUSqVX9oqHOY4DABBCBPJ6veJ4PAZqbwM1TYPrur91aNs26vU6VFWFZVl+vdlsfh+Yz+dxuVwC9h0OB3S7XWQyGV8nyzI8zwPnHLfbDaZpIp1OJwf+egWm0ymy2Wyott1uBw6mKMp7wNVqhVwuF6mVZRnL5TIWGHsPGWPEGKNKpUKn0ylSl0qlfC1jjCzLitRGnrrX6/kdPtP9MUt3u10sUJIkaJoWeLk8z3tm/3vAwWAQuC6u66JarUbqXx5tYeE4DhWLxUBtu93SYrF4ui7yNPv93p8ghmHAMAycz2e/FjZ9nu1HcZaaphk6N6Nqtm2/B3ycIFFAz/Mwm82gKEpg+nwLSERQVRX9fj8SmPQDHAu8p67rmEwm4JxjPB6jVqtB1/Wn0ycsU3fqp+Lv/2v754A/AauuJB12rJWkAAAAAElFTkSuQmCC\"/>\n   </g>\n   <g id=\"matplotlib.axis_7\"/>\n   <g id=\"matplotlib.axis_8\"/>\n   <g id=\"patch_18\">\n    <path d=\"M 10.7 250.961003 \nL 10.7 140.423503 \n\" style=\"fill:none;stroke:#000000;stroke-linecap:square;stroke-linejoin:miter;stroke-width:0.8;\"/>\n   </g>\n   <g id=\"patch_19\">\n    <path d=\"M 121.2375 250.961003 \nL 121.2375 140.423503 \n\" style=\"fill:none;stroke:#000000;stroke-linecap:square;stroke-linejoin:miter;stroke-width:0.8;\"/>\n   </g>\n   <g id=\"patch_20\">\n    <path d=\"M 10.7 250.961003 \nL 121.2375 250.961003 \n\" style=\"fill:none;stroke:#000000;stroke-linecap:square;stroke-linejoin:miter;stroke-width:0.8;\"/>\n   </g>\n   <g id=\"patch_21\">\n    <path d=\"M 10.7 140.423503 \nL 121.2375 140.423503 \n\" style=\"fill:none;stroke:#000000;stroke-linecap:square;stroke-linejoin:miter;stroke-width:0.8;\"/>\n   </g>\n  </g>\n  <g id=\"axes_5\">\n   <g id=\"patch_22\">\n    <path d=\"M 154.9125 250.961003 \nL 265.45 250.961003 \nL 265.45 140.423503 \nL 154.9125 140.423503 \nz\n\" style=\"fill:#ffffff;\"/>\n   </g>\n   <g clip-path=\"url(#p0855a66782)\">\n    <image height=\"28\" id=\"imagead9dca26cd\" style=\"image-rendering:crisp-edges;image-rendering:pixelated\" transform=\"matrix(3.964286 0 0 3.964286 154.9125 139.961003)\" width=\"28\" xlink:href=\"data:image/png;base64,\niVBORw0KGgoAAAANSUhEUgAAABwAAAAcCAYAAAByDd+UAAAB90lEQVR4nO2WvcriQBiFTxYlX1QQA9qIENRCQgoRG0sbBcFKO69ALLwEOxvRWxArf7ATS8EL0EK0sRC0MkUqQQI68d3CRRDWJGvk2y32wECYOeGZk3kzMxwAwjfqx3fC/gP/LjCVSmG/35t6crkcIpHIZ4D5fB48z5t6isUiWq2Wc6DL5UKhULD0LZdLyLIMr9frDJjNZpHJZNDtdk19gUAAsizD4/GY+sisKYpCmqbRdrsln89n6p3P58QYo2AwaOYzBw4GA9J1ndLptKlPFEUiIjIM431guVym0+lE6/XaFAaA2u02GYZBs9mM3G73e8DhcEiMMapWq6YwSZJIVVW6XC6UzWatJvf7Ab/fT4fDgRhjlumazSYxxmx9iZdVyvM8wuEw+v3+K8tDsVgMALDZbCy9LxMKgkCLxYJWqxWJovhyxqFQiAzDIMMwqFarWSZ0vZqFruvY7XYolUqYTqfodDpP44qiIBqNQpIkEN2P1Nvt9n5CAJRIJGg0GtH5fCbG2FNTVZWOxyNdr9dHnyAIlgm5Xw+mSiaTiMfjT33j8RgA0Ov1UKlUANy3QEcJ7bRGo/FIqCjK+2toVxzHgeM4APaq1DGQiB5FY0eOT/yvry8A96q2K0drqKoqaZpG9Xrd7jvOgJPJxM7++We/xSf1797aPqWf/OfODVbUoggAAAAASUVORK5CYII=\"/>\n   </g>\n   <g id=\"matplotlib.axis_9\"/>\n   <g id=\"matplotlib.axis_10\"/>\n   <g id=\"patch_23\">\n    <path d=\"M 154.9125 250.961003 \nL 154.9125 140.423503 \n\" style=\"fill:none;stroke:#000000;stroke-linecap:square;stroke-linejoin:miter;stroke-width:0.8;\"/>\n   </g>\n   <g id=\"patch_24\">\n    <path d=\"M 265.45 250.961003 \nL 265.45 140.423503 \n\" style=\"fill:none;stroke:#000000;stroke-linecap:square;stroke-linejoin:miter;stroke-width:0.8;\"/>\n   </g>\n   <g id=\"patch_25\">\n    <path d=\"M 154.9125 250.961003 \nL 265.45 250.961003 \n\" style=\"fill:none;stroke:#000000;stroke-linecap:square;stroke-linejoin:miter;stroke-width:0.8;\"/>\n   </g>\n   <g id=\"patch_26\">\n    <path d=\"M 154.9125 140.423503 \nL 265.45 140.423503 \n\" style=\"fill:none;stroke:#000000;stroke-linecap:square;stroke-linejoin:miter;stroke-width:0.8;\"/>\n   </g>\n  </g>\n  <g id=\"axes_6\">\n   <g id=\"patch_27\">\n    <path d=\"M 299.125 250.961003 \nL 409.6625 250.961003 \nL 409.6625 140.423503 \nL 299.125 140.423503 \nz\n\" style=\"fill:#ffffff;\"/>\n   </g>\n   <g clip-path=\"url(#pc3c6456a7b)\">\n    <image height=\"28\" id=\"image190dc499bc\" style=\"image-rendering:crisp-edges;image-rendering:pixelated\" transform=\"matrix(3.964286 0 0 3.964286 299.125 139.961003)\" width=\"28\" xlink:href=\"data:image/png;base64,\niVBORw0KGgoAAAANSUhEUgAAABwAAAAcCAYAAAByDd+UAAABUUlEQVR4nO2WvYqDQBSFj/khpJ7WLi+QwjSSXixSBB/DR/ApUuUBAqlTJ3W6sUprEUwblHSK6Nlid4ctvQOGXdgDA1PMx+c9zIAOAOKNGb1T9i/8ncLNZgOSiOMY4/G4F0PbpZTi4/Hgd+bzeR/OXrjdbo3seDzScZzhhLPZjFprIwzDsC9rJ/Q8z8iapunNWV+aKIrM/nw+i1irCa/XK0myrmsul0sJK5f5vm/qLIpCxFpVulqtzH6/34t58YSHw4EkWZYlXdeV8jLZer1m27Ykyfv9Lv5YcaVKKYxGn9jlcpHiEE/4s07P82xueP/DruuaOm+3m9VzElXq+76p83Q6SVATkVApBQB4Pp/Y7XbDC4MgAADkeY7X6zWscDqdYrFYAACqqkLTNMMKu66D1hoAkGWZlQwAJn0Ptm2LJElAEmmaWgsdfL2Nd+Xv/bVJ8wG+76VajgrPwQAAAABJRU5ErkJggg==\"/>\n   </g>\n   <g id=\"matplotlib.axis_11\"/>\n   <g id=\"matplotlib.axis_12\"/>\n   <g id=\"patch_28\">\n    <path d=\"M 299.125 250.961003 \nL 299.125 140.423503 \n\" style=\"fill:none;stroke:#000000;stroke-linecap:square;stroke-linejoin:miter;stroke-width:0.8;\"/>\n   </g>\n   <g id=\"patch_29\">\n    <path d=\"M 409.6625 250.961003 \nL 409.6625 140.423503 \n\" style=\"fill:none;stroke:#000000;stroke-linecap:square;stroke-linejoin:miter;stroke-width:0.8;\"/>\n   </g>\n   <g id=\"patch_30\">\n    <path d=\"M 299.125 250.961003 \nL 409.6625 250.961003 \n\" style=\"fill:none;stroke:#000000;stroke-linecap:square;stroke-linejoin:miter;stroke-width:0.8;\"/>\n   </g>\n   <g id=\"patch_31\">\n    <path d=\"M 299.125 140.423503 \nL 409.6625 140.423503 \n\" style=\"fill:none;stroke:#000000;stroke-linecap:square;stroke-linejoin:miter;stroke-width:0.8;\"/>\n   </g>\n  </g>\n </g>\n <defs>\n  <clipPath id=\"p4615e8b09f\">\n   <rect height=\"110.5375\" width=\"110.5375\" x=\"10.7\" y=\"7.2\"/>\n  </clipPath>\n  <clipPath id=\"pdd6478d976\">\n   <rect height=\"110.5375\" width=\"110.5375\" x=\"154.9125\" y=\"7.2\"/>\n  </clipPath>\n  <clipPath id=\"p509ec482e3\">\n   <rect height=\"110.5375\" width=\"110.5375\" x=\"299.125\" y=\"7.2\"/>\n  </clipPath>\n  <clipPath id=\"p1f433748a8\">\n   <rect height=\"110.5375\" width=\"110.5375\" x=\"10.7\" y=\"140.423503\"/>\n  </clipPath>\n  <clipPath id=\"p0855a66782\">\n   <rect height=\"110.5375\" width=\"110.5375\" x=\"154.9125\" y=\"140.423503\"/>\n  </clipPath>\n  <clipPath id=\"pc3c6456a7b\">\n   <rect height=\"110.5375\" width=\"110.5375\" x=\"299.125\" y=\"140.423503\"/>\n  </clipPath>\n </defs>\n</svg>\n",
      "image/png": "[encoded data removed]"
     },
     "metadata": {}
    }
   ],
   "source": [
    "import matplotlib.pyplot as plt\n",
    "\n",
    "fig = plt.figure()\n",
    "for i in range(6):\n",
    "  plt.subplot(2,3,i+1)\n",
    "  plt.tight_layout()\n",
    "  plt.imshow(example_data[i][0], cmap='gray', interpolation='none')\n",
    "  #plt.title(\"Ground Truth: {}\".format(example_targets[i]))\n",
    "  plt.xticks([])\n",
    "  plt.yticks([])\n",
    "plt.savefig(\"out/MNIST_exp.png\")"
   ]
  },
  {
   "cell_type": "code",
   "execution_count": null,
   "metadata": {},
   "outputs": [],
   "source": []
  },
  {
   "cell_type": "code",
   "execution_count": null,
   "metadata": {},
   "outputs": [],
   "source": []
  }
 ]
}