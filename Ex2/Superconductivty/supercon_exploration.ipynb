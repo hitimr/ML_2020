{
 "metadata": {
  "language_info": {
   "codemirror_mode": {
    "name": "ipython",
    "version": 3
   },
   "file_extension": ".py",
   "mimetype": "text/x-python",
   "name": "python",
   "nbconvert_exporter": "python",
   "pygments_lexer": "ipython3",
   "version": "3.7.5-final"
  },
  "orig_nbformat": 2,
  "kernelspec": {
   "name": "python37564bitb5f188b5fd4549769c9ea1e1a366fa0d",
   "display_name": "Python 3.7.5 64-bit"
  }
 },
 "nbformat": 4,
 "nbformat_minor": 2,
 "cells": [
  {
   "cell_type": "code",
   "execution_count": 2,
   "metadata": {},
   "outputs": [],
   "source": [
    "import pandas as pd\n",
    "import seaborn as sns\n",
    "import matplotlib.pyplot as plt\n",
    "import numpy as np\n",
    "from math import sqrt\n",
    "from math import log2\n",
    "%matplotlib inline\n",
    "\n",
    "from sklearn.metrics import accuracy_score\n",
    "from sklearn.metrics import confusion_matrix\n",
    "import matplotlib.pyplot as plt\n",
    "from matplotlib.colors import ListedColormap\n",
    "from sklearn.pipeline import make_pipeline\n",
    "import time\n",
    "import matplotlib as mpl\n",
    "\n",
    "\n",
    "\n",
    "from sklearn.preprocessing import StandardScaler,PowerTransformer,MinMaxScaler,QuantileTransformer,normalize\n",
    "from sklearn.feature_selection import VarianceThreshold, SelectKBest\n",
    "from sklearn.decomposition import PCA\n",
    "from sklearn.feature_selection import SelectKBest\n",
    "from sklearn.feature_selection import chi2\n",
    "\n",
    "\n",
    "import pathlib\n",
    "import os\n",
    "import sys"
   ]
  },
  {
   "cell_type": "code",
   "execution_count": 3,
   "metadata": {},
   "outputs": [
    {
     "output_type": "stream",
     "name": "stdout",
     "text": [
      "['/home/alexander/Dokumente/WS2020/MaschinLearning/ML_2020/Ex2/Superconductivty', '', '/home/alexander/ngsuite/ngsolve-install/lib/python3/dist-packages', '/home/alexander/ngsuite/ngsolve-install/bin', '/home/alexander/.local/bin', '/usr/local/sbin', '/usr/local/bin', '/usr/sbin', '/usr/bin', '/sbin', '/bin', '/usr/games', '/usr/local/games', '/snap/bin', '/home/alexander/.vscode/extensions/ms-toolsai.jupyter-2020.11.358541065/pythonFiles', '/home/alexander/.vscode/extensions/ms-toolsai.jupyter-2020.11.358541065/pythonFiles/lib/python', '/usr/lib/python37.zip', '/usr/lib/python3.7', '/usr/lib/python3.7/lib-dynload', '/home/alexander/.local/lib/python3.7/site-packages', '/usr/local/lib/python3.7/dist-packages', '/usr/lib/python3/dist-packages', '/home/alexander/.local/lib/python3.7/site-packages/IPython/extensions', '/home/alexander/.ipython', '/home/alexander/Dokumente/WS2020/MaschinLearning/ML_2020/Ex2']\n"
     ]
    }
   ],
   "source": [
    "# Custom functions\n",
    "\n",
    "module_path = pathlib.Path(os.getcwd()).parent\n",
    "if str(module_path) not in sys.path:\n",
    "    sys.path.append(str(module_path))\n",
    "print(sys.path)\n",
    "\n",
    "from common.dataset_grabber import get_data_path"
   ]
  },
  {
   "cell_type": "code",
   "execution_count": 4,
   "metadata": {},
   "outputs": [
    {
     "output_type": "display_data",
     "data": {
      "text/plain": "PosixPath('/home/alexander/Dokumente/WS2020/MaschinLearning/ML_2020/Ex2/Datasets/Superconduct/train.csv')"
     },
     "metadata": {}
    }
   ],
   "source": [
    "datapath = get_data_path(\"Superconduct\", \"train.csv\")\n",
    "display(datapath)"
   ]
  },
  {
   "cell_type": "code",
   "execution_count": 5,
   "metadata": {},
   "outputs": [
    {
     "output_type": "execute_result",
     "data": {
      "text/plain": [
       "       number_of_elements  mean_atomic_mass  wtd_mean_atomic_mass  \\\n",
       "0                       4         88.944468             57.862692   \n",
       "1                       5         92.729214             58.518416   \n",
       "2                       4         88.944468             57.885242   \n",
       "3                       4         88.944468             57.873967   \n",
       "4                       4         88.944468             57.840143   \n",
       "...                   ...               ...                   ...   \n",
       "21258                   4        106.957877             53.095769   \n",
       "21259                   5         92.266740             49.021367   \n",
       "21260                   2         99.663190             95.609104   \n",
       "21261                   2         99.663190             97.095602   \n",
       "21262                   3         87.468333             86.858500   \n",
       "\n",
       "       gmean_atomic_mass  wtd_gmean_atomic_mass  entropy_atomic_mass  \\\n",
       "0              66.361592              36.116612             1.181795   \n",
       "1              73.132787              36.396602             1.449309   \n",
       "2              66.361592              36.122509             1.181795   \n",
       "3              66.361592              36.119560             1.181795   \n",
       "4              66.361592              36.110716             1.181795   \n",
       "...                  ...                    ...                  ...   \n",
       "21258          82.515384              43.135565             1.177145   \n",
       "21259          64.812662              32.867748             1.323287   \n",
       "21260          99.433882              95.464320             0.690847   \n",
       "21261          99.433882              96.901083             0.690847   \n",
       "21262          82.555758              80.458722             1.041270   \n",
       "\n",
       "       wtd_entropy_atomic_mass  range_atomic_mass  wtd_range_atomic_mass  \\\n",
       "0                     1.062396          122.90607              31.794921   \n",
       "1                     1.057755          122.90607              36.161939   \n",
       "2                     0.975980          122.90607              35.741099   \n",
       "3                     1.022291          122.90607              33.768010   \n",
       "4                     1.129224          122.90607              27.848743   \n",
       "...                        ...                ...                    ...   \n",
       "21258                 1.254119          146.88130              15.504479   \n",
       "21259                 1.571630          188.38390               7.353333   \n",
       "21260                 0.530198           13.51362              53.041104   \n",
       "21261                 0.640883           13.51362              31.115202   \n",
       "21262                 0.895229           71.75500              43.144000   \n",
       "\n",
       "       std_atomic_mass  ...  wtd_mean_Valence  gmean_Valence  \\\n",
       "0            51.968828  ...          2.257143       2.213364   \n",
       "1            47.094633  ...          2.257143       1.888175   \n",
       "2            51.968828  ...          2.271429       2.213364   \n",
       "3            51.968828  ...          2.264286       2.213364   \n",
       "4            51.968828  ...          2.242857       2.213364   \n",
       "...                ...  ...               ...            ...   \n",
       "21258        65.764081  ...          3.555556       3.223710   \n",
       "21259        69.232655  ...          2.047619       2.168944   \n",
       "21260         6.756810  ...          4.800000       4.472136   \n",
       "21261         6.756810  ...          4.690000       4.472136   \n",
       "21262        29.905282  ...          4.500000       4.762203   \n",
       "\n",
       "       wtd_gmean_Valence  entropy_Valence  wtd_entropy_Valence  range_Valence  \\\n",
       "0               2.219783         1.368922             1.066221              1   \n",
       "1               2.210679         1.557113             1.047221              2   \n",
       "2               2.232679         1.368922             1.029175              1   \n",
       "3               2.226222         1.368922             1.048834              1   \n",
       "4               2.206963         1.368922             1.096052              1   \n",
       "...                  ...              ...                  ...            ...   \n",
       "21258           3.519911         1.377820             0.913658              1   \n",
       "21259           2.038991         1.594167             1.337246              1   \n",
       "21260           4.781762         0.686962             0.450561              1   \n",
       "21261           4.665819         0.686962             0.577601              1   \n",
       "21262           4.242641         1.054920             0.970116              3   \n",
       "\n",
       "       wtd_range_Valence  std_Valence  wtd_std_Valence  critical_temp  \n",
       "0               1.085714     0.433013         0.437059          29.00  \n",
       "1               1.128571     0.632456         0.468606          26.00  \n",
       "2               1.114286     0.433013         0.444697          19.00  \n",
       "3               1.100000     0.433013         0.440952          22.00  \n",
       "4               1.057143     0.433013         0.428809          23.00  \n",
       "...                  ...          ...              ...            ...  \n",
       "21258           2.168889     0.433013         0.496904           2.44  \n",
       "21259           0.904762     0.400000         0.212959         122.10  \n",
       "21260           3.200000     0.500000         0.400000           1.98  \n",
       "21261           2.210000     0.500000         0.462493           1.84  \n",
       "21262           1.800000     1.414214         1.500000          12.80  \n",
       "\n",
       "[21263 rows x 82 columns]"
      ],
      "text/html": "<div>\n<style scoped>\n    .dataframe tbody tr th:only-of-type {\n        vertical-align: middle;\n    }\n\n    .dataframe tbody tr th {\n        vertical-align: top;\n    }\n\n    .dataframe thead th {\n        text-align: right;\n    }\n</style>\n<table border=\"1\" class=\"dataframe\">\n  <thead>\n    <tr style=\"text-align: right;\">\n      <th></th>\n      <th>number_of_elements</th>\n      <th>mean_atomic_mass</th>\n      <th>wtd_mean_atomic_mass</th>\n      <th>gmean_atomic_mass</th>\n      <th>wtd_gmean_atomic_mass</th>\n      <th>entropy_atomic_mass</th>\n      <th>wtd_entropy_atomic_mass</th>\n      <th>range_atomic_mass</th>\n      <th>wtd_range_atomic_mass</th>\n      <th>std_atomic_mass</th>\n      <th>...</th>\n      <th>wtd_mean_Valence</th>\n      <th>gmean_Valence</th>\n      <th>wtd_gmean_Valence</th>\n      <th>entropy_Valence</th>\n      <th>wtd_entropy_Valence</th>\n      <th>range_Valence</th>\n      <th>wtd_range_Valence</th>\n      <th>std_Valence</th>\n      <th>wtd_std_Valence</th>\n      <th>critical_temp</th>\n    </tr>\n  </thead>\n  <tbody>\n    <tr>\n      <th>0</th>\n      <td>4</td>\n      <td>88.944468</td>\n      <td>57.862692</td>\n      <td>66.361592</td>\n      <td>36.116612</td>\n      <td>1.181795</td>\n      <td>1.062396</td>\n      <td>122.90607</td>\n      <td>31.794921</td>\n      <td>51.968828</td>\n      <td>...</td>\n      <td>2.257143</td>\n      <td>2.213364</td>\n      <td>2.219783</td>\n      <td>1.368922</td>\n      <td>1.066221</td>\n      <td>1</td>\n      <td>1.085714</td>\n      <td>0.433013</td>\n      <td>0.437059</td>\n      <td>29.00</td>\n    </tr>\n    <tr>\n      <th>1</th>\n      <td>5</td>\n      <td>92.729214</td>\n      <td>58.518416</td>\n      <td>73.132787</td>\n      <td>36.396602</td>\n      <td>1.449309</td>\n      <td>1.057755</td>\n      <td>122.90607</td>\n      <td>36.161939</td>\n      <td>47.094633</td>\n      <td>...</td>\n      <td>2.257143</td>\n      <td>1.888175</td>\n      <td>2.210679</td>\n      <td>1.557113</td>\n      <td>1.047221</td>\n      <td>2</td>\n      <td>1.128571</td>\n      <td>0.632456</td>\n      <td>0.468606</td>\n      <td>26.00</td>\n    </tr>\n    <tr>\n      <th>2</th>\n      <td>4</td>\n      <td>88.944468</td>\n      <td>57.885242</td>\n      <td>66.361592</td>\n      <td>36.122509</td>\n      <td>1.181795</td>\n      <td>0.975980</td>\n      <td>122.90607</td>\n      <td>35.741099</td>\n      <td>51.968828</td>\n      <td>...</td>\n      <td>2.271429</td>\n      <td>2.213364</td>\n      <td>2.232679</td>\n      <td>1.368922</td>\n      <td>1.029175</td>\n      <td>1</td>\n      <td>1.114286</td>\n      <td>0.433013</td>\n      <td>0.444697</td>\n      <td>19.00</td>\n    </tr>\n    <tr>\n      <th>3</th>\n      <td>4</td>\n      <td>88.944468</td>\n      <td>57.873967</td>\n      <td>66.361592</td>\n      <td>36.119560</td>\n      <td>1.181795</td>\n      <td>1.022291</td>\n      <td>122.90607</td>\n      <td>33.768010</td>\n      <td>51.968828</td>\n      <td>...</td>\n      <td>2.264286</td>\n      <td>2.213364</td>\n      <td>2.226222</td>\n      <td>1.368922</td>\n      <td>1.048834</td>\n      <td>1</td>\n      <td>1.100000</td>\n      <td>0.433013</td>\n      <td>0.440952</td>\n      <td>22.00</td>\n    </tr>\n    <tr>\n      <th>4</th>\n      <td>4</td>\n      <td>88.944468</td>\n      <td>57.840143</td>\n      <td>66.361592</td>\n      <td>36.110716</td>\n      <td>1.181795</td>\n      <td>1.129224</td>\n      <td>122.90607</td>\n      <td>27.848743</td>\n      <td>51.968828</td>\n      <td>...</td>\n      <td>2.242857</td>\n      <td>2.213364</td>\n      <td>2.206963</td>\n      <td>1.368922</td>\n      <td>1.096052</td>\n      <td>1</td>\n      <td>1.057143</td>\n      <td>0.433013</td>\n      <td>0.428809</td>\n      <td>23.00</td>\n    </tr>\n    <tr>\n      <th>...</th>\n      <td>...</td>\n      <td>...</td>\n      <td>...</td>\n      <td>...</td>\n      <td>...</td>\n      <td>...</td>\n      <td>...</td>\n      <td>...</td>\n      <td>...</td>\n      <td>...</td>\n      <td>...</td>\n      <td>...</td>\n      <td>...</td>\n      <td>...</td>\n      <td>...</td>\n      <td>...</td>\n      <td>...</td>\n      <td>...</td>\n      <td>...</td>\n      <td>...</td>\n      <td>...</td>\n    </tr>\n    <tr>\n      <th>21258</th>\n      <td>4</td>\n      <td>106.957877</td>\n      <td>53.095769</td>\n      <td>82.515384</td>\n      <td>43.135565</td>\n      <td>1.177145</td>\n      <td>1.254119</td>\n      <td>146.88130</td>\n      <td>15.504479</td>\n      <td>65.764081</td>\n      <td>...</td>\n      <td>3.555556</td>\n      <td>3.223710</td>\n      <td>3.519911</td>\n      <td>1.377820</td>\n      <td>0.913658</td>\n      <td>1</td>\n      <td>2.168889</td>\n      <td>0.433013</td>\n      <td>0.496904</td>\n      <td>2.44</td>\n    </tr>\n    <tr>\n      <th>21259</th>\n      <td>5</td>\n      <td>92.266740</td>\n      <td>49.021367</td>\n      <td>64.812662</td>\n      <td>32.867748</td>\n      <td>1.323287</td>\n      <td>1.571630</td>\n      <td>188.38390</td>\n      <td>7.353333</td>\n      <td>69.232655</td>\n      <td>...</td>\n      <td>2.047619</td>\n      <td>2.168944</td>\n      <td>2.038991</td>\n      <td>1.594167</td>\n      <td>1.337246</td>\n      <td>1</td>\n      <td>0.904762</td>\n      <td>0.400000</td>\n      <td>0.212959</td>\n      <td>122.10</td>\n    </tr>\n    <tr>\n      <th>21260</th>\n      <td>2</td>\n      <td>99.663190</td>\n      <td>95.609104</td>\n      <td>99.433882</td>\n      <td>95.464320</td>\n      <td>0.690847</td>\n      <td>0.530198</td>\n      <td>13.51362</td>\n      <td>53.041104</td>\n      <td>6.756810</td>\n      <td>...</td>\n      <td>4.800000</td>\n      <td>4.472136</td>\n      <td>4.781762</td>\n      <td>0.686962</td>\n      <td>0.450561</td>\n      <td>1</td>\n      <td>3.200000</td>\n      <td>0.500000</td>\n      <td>0.400000</td>\n      <td>1.98</td>\n    </tr>\n    <tr>\n      <th>21261</th>\n      <td>2</td>\n      <td>99.663190</td>\n      <td>97.095602</td>\n      <td>99.433882</td>\n      <td>96.901083</td>\n      <td>0.690847</td>\n      <td>0.640883</td>\n      <td>13.51362</td>\n      <td>31.115202</td>\n      <td>6.756810</td>\n      <td>...</td>\n      <td>4.690000</td>\n      <td>4.472136</td>\n      <td>4.665819</td>\n      <td>0.686962</td>\n      <td>0.577601</td>\n      <td>1</td>\n      <td>2.210000</td>\n      <td>0.500000</td>\n      <td>0.462493</td>\n      <td>1.84</td>\n    </tr>\n    <tr>\n      <th>21262</th>\n      <td>3</td>\n      <td>87.468333</td>\n      <td>86.858500</td>\n      <td>82.555758</td>\n      <td>80.458722</td>\n      <td>1.041270</td>\n      <td>0.895229</td>\n      <td>71.75500</td>\n      <td>43.144000</td>\n      <td>29.905282</td>\n      <td>...</td>\n      <td>4.500000</td>\n      <td>4.762203</td>\n      <td>4.242641</td>\n      <td>1.054920</td>\n      <td>0.970116</td>\n      <td>3</td>\n      <td>1.800000</td>\n      <td>1.414214</td>\n      <td>1.500000</td>\n      <td>12.80</td>\n    </tr>\n  </tbody>\n</table>\n<p>21263 rows × 82 columns</p>\n</div>"
     },
     "metadata": {},
     "execution_count": 5
    }
   ],
   "source": [
    "df_raw = pd.read_csv(datapath)\n",
    "\n",
    "df_raw"
   ]
  },
  {
   "cell_type": "code",
   "execution_count": 6,
   "metadata": {},
   "outputs": [
    {
     "output_type": "stream",
     "name": "stdout",
     "text": [
      "<class 'pandas.core.frame.DataFrame'>\nRangeIndex: 21263 entries, 0 to 21262\nData columns (total 82 columns):\n #   Column                           Non-Null Count  Dtype  \n---  ------                           --------------  -----  \n 0   number_of_elements               21263 non-null  int64  \n 1   mean_atomic_mass                 21263 non-null  float64\n 2   wtd_mean_atomic_mass             21263 non-null  float64\n 3   gmean_atomic_mass                21263 non-null  float64\n 4   wtd_gmean_atomic_mass            21263 non-null  float64\n 5   entropy_atomic_mass              21263 non-null  float64\n 6   wtd_entropy_atomic_mass          21263 non-null  float64\n 7   range_atomic_mass                21263 non-null  float64\n 8   wtd_range_atomic_mass            21263 non-null  float64\n 9   std_atomic_mass                  21263 non-null  float64\n 10  wtd_std_atomic_mass              21263 non-null  float64\n 11  mean_fie                         21263 non-null  float64\n 12  wtd_mean_fie                     21263 non-null  float64\n 13  gmean_fie                        21263 non-null  float64\n 14  wtd_gmean_fie                    21263 non-null  float64\n 15  entropy_fie                      21263 non-null  float64\n 16  wtd_entropy_fie                  21263 non-null  float64\n 17  range_fie                        21263 non-null  float64\n 18  wtd_range_fie                    21263 non-null  float64\n 19  std_fie                          21263 non-null  float64\n 20  wtd_std_fie                      21263 non-null  float64\n 21  mean_atomic_radius               21263 non-null  float64\n 22  wtd_mean_atomic_radius           21263 non-null  float64\n 23  gmean_atomic_radius              21263 non-null  float64\n 24  wtd_gmean_atomic_radius          21263 non-null  float64\n 25  entropy_atomic_radius            21263 non-null  float64\n 26  wtd_entropy_atomic_radius        21263 non-null  float64\n 27  range_atomic_radius              21263 non-null  int64  \n 28  wtd_range_atomic_radius          21263 non-null  float64\n 29  std_atomic_radius                21263 non-null  float64\n 30  wtd_std_atomic_radius            21263 non-null  float64\n 31  mean_Density                     21263 non-null  float64\n 32  wtd_mean_Density                 21263 non-null  float64\n 33  gmean_Density                    21263 non-null  float64\n 34  wtd_gmean_Density                21263 non-null  float64\n 35  entropy_Density                  21263 non-null  float64\n 36  wtd_entropy_Density              21263 non-null  float64\n 37  range_Density                    21263 non-null  float64\n 38  wtd_range_Density                21263 non-null  float64\n 39  std_Density                      21263 non-null  float64\n 40  wtd_std_Density                  21263 non-null  float64\n 41  mean_ElectronAffinity            21263 non-null  float64\n 42  wtd_mean_ElectronAffinity        21263 non-null  float64\n 43  gmean_ElectronAffinity           21263 non-null  float64\n 44  wtd_gmean_ElectronAffinity       21263 non-null  float64\n 45  entropy_ElectronAffinity         21263 non-null  float64\n 46  wtd_entropy_ElectronAffinity     21263 non-null  float64\n 47  range_ElectronAffinity           21263 non-null  float64\n 48  wtd_range_ElectronAffinity       21263 non-null  float64\n 49  std_ElectronAffinity             21263 non-null  float64\n 50  wtd_std_ElectronAffinity         21263 non-null  float64\n 51  mean_FusionHeat                  21263 non-null  float64\n 52  wtd_mean_FusionHeat              21263 non-null  float64\n 53  gmean_FusionHeat                 21263 non-null  float64\n 54  wtd_gmean_FusionHeat             21263 non-null  float64\n 55  entropy_FusionHeat               21263 non-null  float64\n 56  wtd_entropy_FusionHeat           21263 non-null  float64\n 57  range_FusionHeat                 21263 non-null  float64\n 58  wtd_range_FusionHeat             21263 non-null  float64\n 59  std_FusionHeat                   21263 non-null  float64\n 60  wtd_std_FusionHeat               21263 non-null  float64\n 61  mean_ThermalConductivity         21263 non-null  float64\n 62  wtd_mean_ThermalConductivity     21263 non-null  float64\n 63  gmean_ThermalConductivity        21263 non-null  float64\n 64  wtd_gmean_ThermalConductivity    21263 non-null  float64\n 65  entropy_ThermalConductivity      21263 non-null  float64\n 66  wtd_entropy_ThermalConductivity  21263 non-null  float64\n 67  range_ThermalConductivity        21263 non-null  float64\n 68  wtd_range_ThermalConductivity    21263 non-null  float64\n 69  std_ThermalConductivity          21263 non-null  float64\n 70  wtd_std_ThermalConductivity      21263 non-null  float64\n 71  mean_Valence                     21263 non-null  float64\n 72  wtd_mean_Valence                 21263 non-null  float64\n 73  gmean_Valence                    21263 non-null  float64\n 74  wtd_gmean_Valence                21263 non-null  float64\n 75  entropy_Valence                  21263 non-null  float64\n 76  wtd_entropy_Valence              21263 non-null  float64\n 77  range_Valence                    21263 non-null  int64  \n 78  wtd_range_Valence                21263 non-null  float64\n 79  std_Valence                      21263 non-null  float64\n 80  wtd_std_Valence                  21263 non-null  float64\n 81  critical_temp                    21263 non-null  float64\ndtypes: float64(79), int64(3)\nmemory usage: 13.3 MB\n"
     ]
    }
   ],
   "source": [
    "df_raw.info()"
   ]
  },
  {
   "cell_type": "code",
   "execution_count": null,
   "metadata": {},
   "outputs": [],
   "source": []
  }
 ]
}