{
 "metadata": {
  "language_info": {
   "codemirror_mode": {
    "name": "ipython",
    "version": 3
   },
   "file_extension": ".py",
   "mimetype": "text/x-python",
   "name": "python",
   "nbconvert_exporter": "python",
   "pygments_lexer": "ipython3",
   "version": "3.7.9-final"
  },
  "orig_nbformat": 2,
  "kernelspec": {
   "name": "python3",
   "display_name": "Python 3.7.9 64-bit",
   "metadata": {
    "interpreter": {
     "hash": "0600588c3b5f4418cbe7b5ebc6825b479f3bc010269d8b60d75058cdd010adfe"
    }
   }
  }
 },
 "nbformat": 4,
 "nbformat_minor": 2,
 "cells": [
  {
   "cell_type": "code",
   "execution_count": 8,
   "metadata": {},
   "outputs": [],
   "source": [
    "# required for importin modules from other directories\n",
    "import os,sys,inspect\n",
    "currentdir = os.path.dirname(os.path.abspath(inspect.getfile(inspect.currentframe())))\n",
    "parentdir = os.path.dirname(currentdir)\n",
    "sys.path.insert(0,parentdir) \n",
    "\n",
    "import pandas as pd\n",
    "from time import time\n",
    "\n",
    "\n",
    "import numpy as np\n",
    "np.set_printoptions(suppress=True)\n",
    "from sklearn.linear_model import LinearRegression as SK_LinearRegression\n",
    "from sklearn.linear_model import SGDRegressor\n",
    "from sklearn.preprocessing import MinMaxScaler\n",
    "from sklearn.impute import SimpleImputer\n",
    "import matplotlib.pyplot as plt\n",
    "\n",
    "import config as cfg\n",
    "from common import DataParser\n",
    "\n",
    "from LinearRegression import LinearRegression\n",
    "\n",
    "from sklearn import linear_model\n",
    "from sklearn.model_selection import train_test_split\n",
    "from sklearn.metrics import r2_score"
   ]
  },
  {
   "cell_type": "code",
   "execution_count": 9,
   "metadata": {},
   "outputs": [],
   "source": [
    "data, labels = DataParser.parse_moneyball(splitData=True)"
   ]
  },
  {
   "cell_type": "code",
   "execution_count": 10,
   "metadata": {},
   "outputs": [],
   "source": [
    "cols_to_drop = ['Team', 'League', 'Year', 'RankSeason', 'RankPlayoffs', 'Playoffs']\n",
    "df_prep = data.drop(cols_to_drop, axis=1)\n",
    "\n",
    "# Fix missing values and type\n",
    "df_prep.replace(\"?\",0, inplace=True)\n",
    "#df_prep = df_prep[df_prep.OOBP != 0]\n",
    "df_prep[['OOBP','OSLG']] = df_prep[['OOBP','OSLG']].astype(float)"
   ]
  },
  {
   "cell_type": "code",
   "execution_count": 11,
   "metadata": {},
   "outputs": [
    {
     "output_type": "execute_result",
     "data": {
      "text/plain": [
       "      RS   RA   W    OBP    SLG     BA    G   OOBP   OSLG\n",
       "0    734  688  81  0.328  0.418  0.259  162  0.317  0.415\n",
       "1    700  600  94  0.320  0.389  0.247  162  0.306  0.378\n",
       "2    712  705  93  0.311  0.417  0.247  162  0.315  0.403\n",
       "3    734  806  69  0.315  0.415  0.260  162  0.331  0.428\n",
       "4    613  759  61  0.302  0.378  0.240  162  0.335  0.424\n",
       "..   ...  ...  ..    ...    ...    ...  ...    ...    ...\n",
       "415  872  831  86  0.356  0.434  0.271  162  0.345  0.423\n",
       "416  809  838  75  0.338  0.426  0.262  161  0.355  0.427\n",
       "417  772  913  69  0.343  0.411  0.274  162  0.371  0.448\n",
       "418  945  859  95  0.361  0.479  0.293  162  0.346  0.459\n",
       "419  883  862  84  0.352  0.457  0.280  162  0.353  0.456\n",
       "\n",
       "[420 rows x 9 columns]"
      ],
      "text/html": "<div>\n<style scoped>\n    .dataframe tbody tr th:only-of-type {\n        vertical-align: middle;\n    }\n\n    .dataframe tbody tr th {\n        vertical-align: top;\n    }\n\n    .dataframe thead th {\n        text-align: right;\n    }\n</style>\n<table border=\"1\" class=\"dataframe\">\n  <thead>\n    <tr style=\"text-align: right;\">\n      <th></th>\n      <th>RS</th>\n      <th>RA</th>\n      <th>W</th>\n      <th>OBP</th>\n      <th>SLG</th>\n      <th>BA</th>\n      <th>G</th>\n      <th>OOBP</th>\n      <th>OSLG</th>\n    </tr>\n  </thead>\n  <tbody>\n    <tr>\n      <th>0</th>\n      <td>734</td>\n      <td>688</td>\n      <td>81</td>\n      <td>0.328</td>\n      <td>0.418</td>\n      <td>0.259</td>\n      <td>162</td>\n      <td>0.317</td>\n      <td>0.415</td>\n    </tr>\n    <tr>\n      <th>1</th>\n      <td>700</td>\n      <td>600</td>\n      <td>94</td>\n      <td>0.320</td>\n      <td>0.389</td>\n      <td>0.247</td>\n      <td>162</td>\n      <td>0.306</td>\n      <td>0.378</td>\n    </tr>\n    <tr>\n      <th>2</th>\n      <td>712</td>\n      <td>705</td>\n      <td>93</td>\n      <td>0.311</td>\n      <td>0.417</td>\n      <td>0.247</td>\n      <td>162</td>\n      <td>0.315</td>\n      <td>0.403</td>\n    </tr>\n    <tr>\n      <th>3</th>\n      <td>734</td>\n      <td>806</td>\n      <td>69</td>\n      <td>0.315</td>\n      <td>0.415</td>\n      <td>0.260</td>\n      <td>162</td>\n      <td>0.331</td>\n      <td>0.428</td>\n    </tr>\n    <tr>\n      <th>4</th>\n      <td>613</td>\n      <td>759</td>\n      <td>61</td>\n      <td>0.302</td>\n      <td>0.378</td>\n      <td>0.240</td>\n      <td>162</td>\n      <td>0.335</td>\n      <td>0.424</td>\n    </tr>\n    <tr>\n      <th>...</th>\n      <td>...</td>\n      <td>...</td>\n      <td>...</td>\n      <td>...</td>\n      <td>...</td>\n      <td>...</td>\n      <td>...</td>\n      <td>...</td>\n      <td>...</td>\n    </tr>\n    <tr>\n      <th>415</th>\n      <td>872</td>\n      <td>831</td>\n      <td>86</td>\n      <td>0.356</td>\n      <td>0.434</td>\n      <td>0.271</td>\n      <td>162</td>\n      <td>0.345</td>\n      <td>0.423</td>\n    </tr>\n    <tr>\n      <th>416</th>\n      <td>809</td>\n      <td>838</td>\n      <td>75</td>\n      <td>0.338</td>\n      <td>0.426</td>\n      <td>0.262</td>\n      <td>161</td>\n      <td>0.355</td>\n      <td>0.427</td>\n    </tr>\n    <tr>\n      <th>417</th>\n      <td>772</td>\n      <td>913</td>\n      <td>69</td>\n      <td>0.343</td>\n      <td>0.411</td>\n      <td>0.274</td>\n      <td>162</td>\n      <td>0.371</td>\n      <td>0.448</td>\n    </tr>\n    <tr>\n      <th>418</th>\n      <td>945</td>\n      <td>859</td>\n      <td>95</td>\n      <td>0.361</td>\n      <td>0.479</td>\n      <td>0.293</td>\n      <td>162</td>\n      <td>0.346</td>\n      <td>0.459</td>\n    </tr>\n    <tr>\n      <th>419</th>\n      <td>883</td>\n      <td>862</td>\n      <td>84</td>\n      <td>0.352</td>\n      <td>0.457</td>\n      <td>0.280</td>\n      <td>162</td>\n      <td>0.353</td>\n      <td>0.456</td>\n    </tr>\n  </tbody>\n</table>\n<p>420 rows × 9 columns</p>\n</div>"
     },
     "metadata": {},
     "execution_count": 11
    }
   ],
   "source": [
    "df = df_prep.dropna()\n",
    "df"
   ]
  },
  {
   "cell_type": "code",
   "execution_count": 12,
   "metadata": {},
   "outputs": [
    {
     "output_type": "stream",
     "name": "stdout",
     "text": [
      "420\n"
     ]
    }
   ],
   "source": [
    "labels = pd.DataFrame(df[\"W\"]).to_numpy()\n",
    "data = pd.DataFrame(df.drop(\"W\", axis=1)).to_numpy()\n",
    "\n",
    "scaler = MinMaxScaler()\n",
    "scaler.fit(data)\n",
    "data = scaler.transform(data)\n",
    "\n",
    "X_train, X_test, y_train, y_test = train_test_split(data, labels, test_size=0.3, random_state=1 )\n",
    "\n",
    "y_train = y_train.T[0]\n",
    "y_test = y_test.T[0]\n",
    "print(len(data))"
   ]
  },
  {
   "cell_type": "code",
   "execution_count": 13,
   "metadata": {},
   "outputs": [
    {
     "output_type": "stream",
     "name": "stdout",
     "text": [
      "R2 for SK Learn: 0.8878481435515516, fit-time = 0.017002582550048828\nR2 for ML2020 uniform: 0.4139010956501339, fit-time = 0.013998746871948242\nR2 for ML2020 residual: 0.4379494164187778, fit-time = 0.013998270034790039\n"
     ]
    }
   ],
   "source": [
    "def benchmarkRegressor(reg, name):\n",
    "    start_time = time()\n",
    "    reg.fit(X_train,y_train)\n",
    "    end_time = time()\n",
    "    fit_time = end_time - start_time\n",
    "\n",
    "    y_pred = reg.predict(X_test)\n",
    "\n",
    "\n",
    "    print(f\"R2 for {name}: {r2_score(y_test, y_pred)}, fit-time = {fit_time}\")\n",
    "\n",
    "alpha=0.0001\n",
    "max_iter = 10000\n",
    "\n",
    "sk_reg = SGDRegressor(alpha=alpha, max_iter=max_iter)\n",
    "ML2020_uniform = LinearRegression(alpha=alpha, max_iter=max_iter, weigths=\"uniform\")\n",
    "ML2020_residual = LinearRegression(alpha=alpha, max_iter=max_iter, weigths=\"residual\")\n",
    "\n",
    "benchmarkRegressor(sk_reg, \"SK Learn\")\n",
    "benchmarkRegressor(ML2020_uniform, \"ML2020 uniform\")\n",
    "benchmarkRegressor(ML2020_residual, \"ML2020 residual\")\n",
    "\n"
   ]
  },
  {
   "cell_type": "code",
   "execution_count": null,
   "metadata": {},
   "outputs": [],
   "source": []
  }
 ]
}