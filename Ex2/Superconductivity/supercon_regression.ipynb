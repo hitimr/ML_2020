{
 "metadata": {
  "language_info": {
   "codemirror_mode": {
    "name": "ipython",
    "version": 3
   },
   "file_extension": ".py",
   "mimetype": "text/x-python",
   "name": "python",
   "nbconvert_exporter": "python",
   "pygments_lexer": "ipython3",
   "version": "3.7.5-final"
  },
  "orig_nbformat": 2,
  "kernelspec": {
   "name": "python37564bitb5f188b5fd4549769c9ea1e1a366fa0d",
   "display_name": "Python 3.7.5 64-bit"
  }
 },
 "nbformat": 4,
 "nbformat_minor": 2,
 "cells": [
  {
   "cell_type": "code",
   "execution_count": 1,
   "metadata": {},
   "outputs": [],
   "source": [
    "import pandas as pd\n",
    "import seaborn as sns\n",
    "import matplotlib.pyplot as plt\n",
    "import numpy as np\n",
    "from math import sqrt\n",
    "from math import log2\n",
    "%matplotlib inline\n",
    "\n",
    "from sklearn.metrics import accuracy_score\n",
    "from sklearn.metrics import r2_score\n",
    "from sklearn.metrics import mean_poisson_deviance\n",
    "from sklearn.metrics import mean_gamma_deviance\n",
    "from sklearn.metrics import median_absolute_error\n",
    "from sklearn.metrics import confusion_matrix\n",
    "import matplotlib.pyplot as plt\n",
    "from matplotlib.colors import ListedColormap\n",
    "from sklearn.pipeline import make_pipeline\n",
    "import time\n",
    "import matplotlib as mpl\n",
    "\n",
    "from sklearn.neighbors import KNeighborsRegressor\n",
    "from sklearn.linear_model import SGDRegressor\n",
    "from sklearn.ensemble import RandomForestRegressor\n",
    "from sklearn.tree import DecisionTreeRegressor\n",
    "\n",
    "\n",
    "\n",
    "from sklearn.preprocessing import StandardScaler,PowerTransformer,MinMaxScaler,QuantileTransformer,normalize\n",
    "from sklearn.model_selection import train_test_split, learning_curve, ShuffleSplit\n",
    "from sklearn.feature_selection import VarianceThreshold, SelectKBest\n",
    "from sklearn.model_selection import KFold\n",
    "from sklearn.decomposition import PCA\n",
    "from sklearn.feature_selection import SelectKBest\n",
    "from sklearn.feature_selection import chi2\n",
    "\n",
    "from sklearn.model_selection import train_test_split\n",
    "from sklearn.feature_selection import SelectKBest\n",
    "from sklearn.feature_selection import chi2\n",
    "\n",
    "import pathlib\n",
    "import os\n",
    "import sys\n",
    "\n",
    "# for selection the right path\n",
    "import os,sys,inspect,pathlib\n",
    "currentdir = os.path.dirname(os.path.abspath(inspect.getfile(inspect.currentframe())))\n",
    "parentdir = os.path.dirname(currentdir)\n",
    "sys.path.insert(0,parentdir)\n",
    "\n",
    "from common.model_trainer_reg import *\n",
    "from common.regression_plotfunctions import *\n",
    "\n",
    "from GD.LinearRegression import LinearRegression\n",
    "from KNN.KNNRegressor import KNNRegressor\n",
    "\n",
    "import supercon_preprocessing"
   ]
  },
  {
   "cell_type": "code",
   "execution_count": 2,
   "metadata": {},
   "outputs": [
    {
     "output_type": "stream",
     "name": "stdout",
     "text": [
      "['/home/alexander/Dokumente/WS2020/MaschinLearning/ML_2020/Ex2', '/home/alexander/Dokumente/WS2020/MaschinLearning/ML_2020/Ex2', '/home/alexander/Dokumente/WS2020/MaschinLearning/ML_2020/Ex2', '/home/alexander/Dokumente/WS2020/MaschinLearning/ML_2020/Ex2', '/home/alexander/Dokumente/WS2020/MaschinLearning/ML_2020/Ex2/Superconductivity', '', '/home/alexander/ngsuite/ngsolve-install/lib/python3/dist-packages', '/home/alexander/ngsuite/ngsolve-install/bin', '/home/alexander/.local/bin', '/usr/local/sbin', '/usr/local/bin', '/usr/sbin', '/usr/bin', '/sbin', '/bin', '/usr/games', '/usr/local/games', '/snap/bin', '/home/alexander/.vscode/extensions/ms-toolsai.jupyter-2020.11.399280825/pythonFiles', '/home/alexander/.vscode/extensions/ms-toolsai.jupyter-2020.11.399280825/pythonFiles/lib/python', '/usr/lib/python37.zip', '/usr/lib/python3.7', '/usr/lib/python3.7/lib-dynload', '/home/alexander/.local/lib/python3.7/site-packages', '/usr/local/lib/python3.7/dist-packages', '/usr/lib/python3/dist-packages', '/home/alexander/.local/lib/python3.7/site-packages/IPython/extensions', '/home/alexander/.ipython']\n"
     ]
    }
   ],
   "source": [
    "# Custom functions\n",
    "\n",
    "module_path = pathlib.Path(os.getcwd()).parent\n",
    "if str(module_path) not in sys.path:\n",
    "    sys.path.append(str(module_path))\n",
    "print(sys.path)\n",
    "\n",
    "from common.dataset_grabber import get_data_path\n",
    "\n",
    "#https://joeganser.github.io/2019-01-26-superconductivity-regression/"
   ]
  },
  {
   "cell_type": "code",
   "execution_count": 3,
   "metadata": {},
   "outputs": [
    {
     "output_type": "display_data",
     "data": {
      "text/plain": "PosixPath('/home/alexander/Dokumente/WS2020/MaschinLearning/ML_2020/Ex2/Datasets/Superconduct/train.csv')"
     },
     "metadata": {}
    }
   ],
   "source": [
    "datapath = get_data_path(\"Superconduct\", \"train.csv\")\n",
    "display(datapath)"
   ]
  },
  {
   "cell_type": "code",
   "execution_count": 4,
   "metadata": {},
   "outputs": [],
   "source": [
    "df_raw = pd.read_csv(datapath)\n",
    "\n",
    "df_raw = df_raw.sample(3000)"
   ]
  },
  {
   "source": [
    "# Train and Test"
   ],
   "cell_type": "markdown",
   "metadata": {}
  },
  {
   "cell_type": "code",
   "execution_count": 5,
   "metadata": {},
   "outputs": [],
   "source": [
    "Y, X = supercon_preprocessing.preprocessing(df_raw, transform=True)"
   ]
  },
  {
   "source": [
    "## SGD-Regression"
   ],
   "cell_type": "markdown",
   "metadata": {}
  },
  {
   "cell_type": "code",
   "execution_count": 6,
   "metadata": {},
   "outputs": [
    {
     "output_type": "display_data",
     "data": {
      "text/plain": "    alpha  train_time  inference_time  R2_score      RMSE   D     N  n_test  \\\n0  0.0001    0.014775        0.000383  0.658317  0.038196  24  3000     900   \n\n   n_train  \n0     2100  ",
      "text/html": "<div>\n<style scoped>\n    .dataframe tbody tr th:only-of-type {\n        vertical-align: middle;\n    }\n\n    .dataframe tbody tr th {\n        vertical-align: top;\n    }\n\n    .dataframe thead th {\n        text-align: right;\n    }\n</style>\n<table border=\"1\" class=\"dataframe\">\n  <thead>\n    <tr style=\"text-align: right;\">\n      <th></th>\n      <th>alpha</th>\n      <th>train_time</th>\n      <th>inference_time</th>\n      <th>R2_score</th>\n      <th>RMSE</th>\n      <th>D</th>\n      <th>N</th>\n      <th>n_test</th>\n      <th>n_train</th>\n    </tr>\n  </thead>\n  <tbody>\n    <tr>\n      <th>0</th>\n      <td>0.0001</td>\n      <td>0.014775</td>\n      <td>0.000383</td>\n      <td>0.658317</td>\n      <td>0.038196</td>\n      <td>24</td>\n      <td>3000</td>\n      <td>900</td>\n      <td>2100</td>\n    </tr>\n  </tbody>\n</table>\n</div>"
     },
     "metadata": {}
    },
    {
     "output_type": "display_data",
     "data": {
      "text/plain": "    alpha  train_time  inference_time  k  R2_score      RMSE   D     N  \\\n0  0.0001    0.026304        0.001213  1  0.608339  0.043782  24  3000   \n1  0.0001    0.024738        0.000463  2  0.661256  0.039820  24  3000   \n\n   n_test  n_train  \n0     900     2100  \n1     900     2100  ",
      "text/html": "<div>\n<style scoped>\n    .dataframe tbody tr th:only-of-type {\n        vertical-align: middle;\n    }\n\n    .dataframe tbody tr th {\n        vertical-align: top;\n    }\n\n    .dataframe thead th {\n        text-align: right;\n    }\n</style>\n<table border=\"1\" class=\"dataframe\">\n  <thead>\n    <tr style=\"text-align: right;\">\n      <th></th>\n      <th>alpha</th>\n      <th>train_time</th>\n      <th>inference_time</th>\n      <th>k</th>\n      <th>R2_score</th>\n      <th>RMSE</th>\n      <th>D</th>\n      <th>N</th>\n      <th>n_test</th>\n      <th>n_train</th>\n    </tr>\n  </thead>\n  <tbody>\n    <tr>\n      <th>0</th>\n      <td>0.0001</td>\n      <td>0.026304</td>\n      <td>0.001213</td>\n      <td>1</td>\n      <td>0.608339</td>\n      <td>0.043782</td>\n      <td>24</td>\n      <td>3000</td>\n      <td>900</td>\n      <td>2100</td>\n    </tr>\n    <tr>\n      <th>1</th>\n      <td>0.0001</td>\n      <td>0.024738</td>\n      <td>0.000463</td>\n      <td>2</td>\n      <td>0.661256</td>\n      <td>0.039820</td>\n      <td>24</td>\n      <td>3000</td>\n      <td>900</td>\n      <td>2100</td>\n    </tr>\n  </tbody>\n</table>\n</div>"
     },
     "metadata": {}
    }
   ],
   "source": [
    "MODEL = SGDRegressor\n",
    "NAME = \"SGD\"\n",
    "PATH = \"out/\"+NAME+\"/\"\n",
    "params = {\"alpha\" : [0.0001]}\n",
    "n_splits = 2\n",
    "test_size = 0.3\n",
    "\n",
    "modeltrainer = ModelTrainer(MODEL, params, X, Y, thread_cnt=1)\n",
    "########### train with TrainTestSplit  ###################\n",
    "modeltrainer.TTSplit(test_size = test_size)\n",
    "modeltrainer.train()\n",
    "results = modeltrainer.retResults(PATH + \"sklearn_TTS_SGD.csv\")\n",
    "display(results)\n",
    "############ shuffle_Cross validation  ###################\n",
    "modeltrainer.CV_shuffle_split(k = n_splits, test_size = test_size, random_state = 42)\n",
    "results = modeltrainer.retResults(PATH + \"sklearn_CV_SGD.csv\")\n",
    "display(results)"
   ]
  },
  {
   "source": [
    "## My SGD-Regression"
   ],
   "cell_type": "markdown",
   "metadata": {}
  },
  {
   "cell_type": "code",
   "execution_count": 7,
   "metadata": {},
   "outputs": [
    {
     "output_type": "display_data",
     "data": {
      "text/plain": "    alpha  max_iter  train_time  inference_time  R2_score      RMSE   D     N  \\\n0  0.0001      1000    0.560466        0.000176  0.671918  0.036675  24  3000   \n\n   n_test  n_train  \n0     900     2100  ",
      "text/html": "<div>\n<style scoped>\n    .dataframe tbody tr th:only-of-type {\n        vertical-align: middle;\n    }\n\n    .dataframe tbody tr th {\n        vertical-align: top;\n    }\n\n    .dataframe thead th {\n        text-align: right;\n    }\n</style>\n<table border=\"1\" class=\"dataframe\">\n  <thead>\n    <tr style=\"text-align: right;\">\n      <th></th>\n      <th>alpha</th>\n      <th>max_iter</th>\n      <th>train_time</th>\n      <th>inference_time</th>\n      <th>R2_score</th>\n      <th>RMSE</th>\n      <th>D</th>\n      <th>N</th>\n      <th>n_test</th>\n      <th>n_train</th>\n    </tr>\n  </thead>\n  <tbody>\n    <tr>\n      <th>0</th>\n      <td>0.0001</td>\n      <td>1000</td>\n      <td>0.560466</td>\n      <td>0.000176</td>\n      <td>0.671918</td>\n      <td>0.036675</td>\n      <td>24</td>\n      <td>3000</td>\n      <td>900</td>\n      <td>2100</td>\n    </tr>\n  </tbody>\n</table>\n</div>"
     },
     "metadata": {}
    },
    {
     "output_type": "display_data",
     "data": {
      "text/plain": "    alpha  max_iter  train_time  inference_time  k  R2_score      RMSE   D  \\\n0  0.0001      1000    0.810737        0.000447  1  0.671918  0.036675  24   \n1  0.0001      1000    0.507704        0.000220  2  0.692176  0.036185  24   \n\n      N  n_test  n_train  \n0  3000     900     2100  \n1  3000     900     2100  ",
      "text/html": "<div>\n<style scoped>\n    .dataframe tbody tr th:only-of-type {\n        vertical-align: middle;\n    }\n\n    .dataframe tbody tr th {\n        vertical-align: top;\n    }\n\n    .dataframe thead th {\n        text-align: right;\n    }\n</style>\n<table border=\"1\" class=\"dataframe\">\n  <thead>\n    <tr style=\"text-align: right;\">\n      <th></th>\n      <th>alpha</th>\n      <th>max_iter</th>\n      <th>train_time</th>\n      <th>inference_time</th>\n      <th>k</th>\n      <th>R2_score</th>\n      <th>RMSE</th>\n      <th>D</th>\n      <th>N</th>\n      <th>n_test</th>\n      <th>n_train</th>\n    </tr>\n  </thead>\n  <tbody>\n    <tr>\n      <th>0</th>\n      <td>0.0001</td>\n      <td>1000</td>\n      <td>0.810737</td>\n      <td>0.000447</td>\n      <td>1</td>\n      <td>0.671918</td>\n      <td>0.036675</td>\n      <td>24</td>\n      <td>3000</td>\n      <td>900</td>\n      <td>2100</td>\n    </tr>\n    <tr>\n      <th>1</th>\n      <td>0.0001</td>\n      <td>1000</td>\n      <td>0.507704</td>\n      <td>0.000220</td>\n      <td>2</td>\n      <td>0.692176</td>\n      <td>0.036185</td>\n      <td>24</td>\n      <td>3000</td>\n      <td>900</td>\n      <td>2100</td>\n    </tr>\n  </tbody>\n</table>\n</div>"
     },
     "metadata": {}
    }
   ],
   "source": [
    "MODEL = LinearRegression\n",
    "params = {\"alpha\" : [0.0001], \"max_iter\": [1000]}\n",
    "\n",
    "modeltrainer = ModelTrainer(MODEL, params, X, Y, thread_cnt=1)\n",
    "########### train with TrainTestSplit  ###################\n",
    "modeltrainer.TTSplit(test_size = test_size)\n",
    "modeltrainer.train()\n",
    "results = modeltrainer.retResults(PATH + \"my_TTS_SGD.csv\")\n",
    "display(results)\n",
    "############ shuffle_Cross validation  ###################\n",
    "modeltrainer.CV_shuffle_split(k = n_splits, test_size = test_size, random_state = 42)\n",
    "results = modeltrainer.retResults(PATH + \"my_CV_SGD.csv\")\n",
    "display(results)"
   ]
  },
  {
   "source": [
    "## KNN-Regression"
   ],
   "cell_type": "markdown",
   "metadata": {}
  },
  {
   "cell_type": "code",
   "execution_count": 8,
   "metadata": {},
   "outputs": [
    {
     "output_type": "display_data",
     "data": {
      "text/plain": "   weights  train_time  inference_time  R2_score     RMSE   D     N  n_test  \\\n0  uniform     0.02316        0.223479  0.797647  0.02262  24  3000     900   \n\n   n_train  \n0     2100  ",
      "text/html": "<div>\n<style scoped>\n    .dataframe tbody tr th:only-of-type {\n        vertical-align: middle;\n    }\n\n    .dataframe tbody tr th {\n        vertical-align: top;\n    }\n\n    .dataframe thead th {\n        text-align: right;\n    }\n</style>\n<table border=\"1\" class=\"dataframe\">\n  <thead>\n    <tr style=\"text-align: right;\">\n      <th></th>\n      <th>weights</th>\n      <th>train_time</th>\n      <th>inference_time</th>\n      <th>R2_score</th>\n      <th>RMSE</th>\n      <th>D</th>\n      <th>N</th>\n      <th>n_test</th>\n      <th>n_train</th>\n    </tr>\n  </thead>\n  <tbody>\n    <tr>\n      <th>0</th>\n      <td>uniform</td>\n      <td>0.02316</td>\n      <td>0.223479</td>\n      <td>0.797647</td>\n      <td>0.02262</td>\n      <td>24</td>\n      <td>3000</td>\n      <td>900</td>\n      <td>2100</td>\n    </tr>\n  </tbody>\n</table>\n</div>"
     },
     "metadata": {}
    },
    {
     "output_type": "display_data",
     "data": {
      "text/plain": "   weights  train_time  inference_time  k  R2_score      RMSE   D     N  \\\n0  uniform    0.019508        0.200181  1  0.797647  0.022620  24  3000   \n1  uniform    0.016992        0.218872  2  0.818515  0.021334  24  3000   \n\n   n_test  n_train  \n0     900     2100  \n1     900     2100  ",
      "text/html": "<div>\n<style scoped>\n    .dataframe tbody tr th:only-of-type {\n        vertical-align: middle;\n    }\n\n    .dataframe tbody tr th {\n        vertical-align: top;\n    }\n\n    .dataframe thead th {\n        text-align: right;\n    }\n</style>\n<table border=\"1\" class=\"dataframe\">\n  <thead>\n    <tr style=\"text-align: right;\">\n      <th></th>\n      <th>weights</th>\n      <th>train_time</th>\n      <th>inference_time</th>\n      <th>k</th>\n      <th>R2_score</th>\n      <th>RMSE</th>\n      <th>D</th>\n      <th>N</th>\n      <th>n_test</th>\n      <th>n_train</th>\n    </tr>\n  </thead>\n  <tbody>\n    <tr>\n      <th>0</th>\n      <td>uniform</td>\n      <td>0.019508</td>\n      <td>0.200181</td>\n      <td>1</td>\n      <td>0.797647</td>\n      <td>0.022620</td>\n      <td>24</td>\n      <td>3000</td>\n      <td>900</td>\n      <td>2100</td>\n    </tr>\n    <tr>\n      <th>1</th>\n      <td>uniform</td>\n      <td>0.016992</td>\n      <td>0.218872</td>\n      <td>2</td>\n      <td>0.818515</td>\n      <td>0.021334</td>\n      <td>24</td>\n      <td>3000</td>\n      <td>900</td>\n      <td>2100</td>\n    </tr>\n  </tbody>\n</table>\n</div>"
     },
     "metadata": {}
    }
   ],
   "source": [
    "MODEL = KNeighborsRegressor\n",
    "params = {\"weights\" : [\"uniform\"]}\n",
    "NAME = \"KNN\"\n",
    "PATH = \"out/\"+NAME+\"/\"\n",
    "\n",
    "modeltrainer = ModelTrainer(MODEL, params, X, Y, thread_cnt=1)\n",
    "########### train with TrainTestSplit  ###################\n",
    "modeltrainer.TTSplit(test_size = test_size)\n",
    "modeltrainer.train()\n",
    "results = modeltrainer.retResults(PATH + \"sklearn_TTS_KNN.csv\")\n",
    "display(results)\n",
    "############ shuffle_Cross validation  ###################\n",
    "modeltrainer.CV_shuffle_split(k = n_splits, test_size = test_size, random_state = 42)\n",
    "results = modeltrainer.retResults(PATH + \"sklearn_CV_KNN.csv\")\n",
    "display(results)"
   ]
  },
  {
   "cell_type": "code",
   "execution_count": 9,
   "metadata": {},
   "outputs": [
    {
     "output_type": "stream",
     "name": "stdout",
     "text": [
      "chunking...\n"
     ]
    },
    {
     "output_type": "display_data",
     "data": {
      "text/plain": "   n_neighbors  p  train_time  inference_time  R2_score      RMSE   D     N  \\\n0            5  2    0.000012        1.083348   0.79653  0.022745  24  3000   \n\n   n_test  n_train  \n0     900     2100  ",
      "text/html": "<div>\n<style scoped>\n    .dataframe tbody tr th:only-of-type {\n        vertical-align: middle;\n    }\n\n    .dataframe tbody tr th {\n        vertical-align: top;\n    }\n\n    .dataframe thead th {\n        text-align: right;\n    }\n</style>\n<table border=\"1\" class=\"dataframe\">\n  <thead>\n    <tr style=\"text-align: right;\">\n      <th></th>\n      <th>n_neighbors</th>\n      <th>p</th>\n      <th>train_time</th>\n      <th>inference_time</th>\n      <th>R2_score</th>\n      <th>RMSE</th>\n      <th>D</th>\n      <th>N</th>\n      <th>n_test</th>\n      <th>n_train</th>\n    </tr>\n  </thead>\n  <tbody>\n    <tr>\n      <th>0</th>\n      <td>5</td>\n      <td>2</td>\n      <td>0.000012</td>\n      <td>1.083348</td>\n      <td>0.79653</td>\n      <td>0.022745</td>\n      <td>24</td>\n      <td>3000</td>\n      <td>900</td>\n      <td>2100</td>\n    </tr>\n  </tbody>\n</table>\n</div>"
     },
     "metadata": {}
    },
    {
     "output_type": "stream",
     "name": "stdout",
     "text": [
      "chunking...\n",
      "chunking...\n"
     ]
    },
    {
     "output_type": "display_data",
     "data": {
      "text/plain": "   n_neighbors  p  train_time  inference_time  k  R2_score      RMSE   D  \\\n0            5  2    0.000007        1.077107  1  0.796530  0.022745  24   \n1            5  2    0.000006        1.083376  2  0.819079  0.021268  24   \n\n      N  n_test  n_train  \n0  3000     900     2100  \n1  3000     900     2100  ",
      "text/html": "<div>\n<style scoped>\n    .dataframe tbody tr th:only-of-type {\n        vertical-align: middle;\n    }\n\n    .dataframe tbody tr th {\n        vertical-align: top;\n    }\n\n    .dataframe thead th {\n        text-align: right;\n    }\n</style>\n<table border=\"1\" class=\"dataframe\">\n  <thead>\n    <tr style=\"text-align: right;\">\n      <th></th>\n      <th>n_neighbors</th>\n      <th>p</th>\n      <th>train_time</th>\n      <th>inference_time</th>\n      <th>k</th>\n      <th>R2_score</th>\n      <th>RMSE</th>\n      <th>D</th>\n      <th>N</th>\n      <th>n_test</th>\n      <th>n_train</th>\n    </tr>\n  </thead>\n  <tbody>\n    <tr>\n      <th>0</th>\n      <td>5</td>\n      <td>2</td>\n      <td>0.000007</td>\n      <td>1.077107</td>\n      <td>1</td>\n      <td>0.796530</td>\n      <td>0.022745</td>\n      <td>24</td>\n      <td>3000</td>\n      <td>900</td>\n      <td>2100</td>\n    </tr>\n    <tr>\n      <th>1</th>\n      <td>5</td>\n      <td>2</td>\n      <td>0.000006</td>\n      <td>1.083376</td>\n      <td>2</td>\n      <td>0.819079</td>\n      <td>0.021268</td>\n      <td>24</td>\n      <td>3000</td>\n      <td>900</td>\n      <td>2100</td>\n    </tr>\n  </tbody>\n</table>\n</div>"
     },
     "metadata": {}
    }
   ],
   "source": [
    "MODEL = KNNRegressor\n",
    "params = {\"n_neighbors\" : [5],\n",
    "           \"p\": [2]}\n",
    "NAME = \"KNN\"\n",
    "PATH = \"out/\"+NAME+\"/\"\n",
    "\n",
    "modeltrainer = ModelTrainer(MODEL, params, X, Y, thread_cnt=1)\n",
    "########### train with TrainTestSplit  ###################\n",
    "modeltrainer.TTSplit(test_size = test_size)\n",
    "modeltrainer.train()\n",
    "results = modeltrainer.retResults(PATH + \"my_TTS_KNN.csv\")\n",
    "display(results)\n",
    "############ shuffle_Cross validation  ###################\n",
    "modeltrainer.CV_shuffle_split(k = n_splits, test_size = test_size, random_state = 42)\n",
    "results = modeltrainer.retResults(PATH + \"my_CV_KNN.csv\")\n",
    "display(results)"
   ]
  },
  {
   "source": [
    "## RF-Regression"
   ],
   "cell_type": "markdown",
   "metadata": {}
  },
  {
   "cell_type": "code",
   "execution_count": 10,
   "metadata": {},
   "outputs": [
    {
     "output_type": "display_data",
     "data": {
      "text/plain": "   n_estimators  train_time  inference_time  R2_score      RMSE   D     N  \\\n0           100   10.210868        0.028167  0.856087  0.016088  24  3000   \n\n   n_test  n_train  \n0     900     2100  ",
      "text/html": "<div>\n<style scoped>\n    .dataframe tbody tr th:only-of-type {\n        vertical-align: middle;\n    }\n\n    .dataframe tbody tr th {\n        vertical-align: top;\n    }\n\n    .dataframe thead th {\n        text-align: right;\n    }\n</style>\n<table border=\"1\" class=\"dataframe\">\n  <thead>\n    <tr style=\"text-align: right;\">\n      <th></th>\n      <th>n_estimators</th>\n      <th>train_time</th>\n      <th>inference_time</th>\n      <th>R2_score</th>\n      <th>RMSE</th>\n      <th>D</th>\n      <th>N</th>\n      <th>n_test</th>\n      <th>n_train</th>\n    </tr>\n  </thead>\n  <tbody>\n    <tr>\n      <th>0</th>\n      <td>100</td>\n      <td>10.210868</td>\n      <td>0.028167</td>\n      <td>0.856087</td>\n      <td>0.016088</td>\n      <td>24</td>\n      <td>3000</td>\n      <td>900</td>\n      <td>2100</td>\n    </tr>\n  </tbody>\n</table>\n</div>"
     },
     "metadata": {}
    },
    {
     "output_type": "display_data",
     "data": {
      "text/plain": "   n_estimators  train_time  inference_time  k  R2_score      RMSE   D     N  \\\n0           100   10.254238        0.027609  1  0.858685  0.015797  24  3000   \n1           100   10.071617        0.027184  2  0.867895  0.015529  24  3000   \n\n   n_test  n_train  \n0     900     2100  \n1     900     2100  ",
      "text/html": "<div>\n<style scoped>\n    .dataframe tbody tr th:only-of-type {\n        vertical-align: middle;\n    }\n\n    .dataframe tbody tr th {\n        vertical-align: top;\n    }\n\n    .dataframe thead th {\n        text-align: right;\n    }\n</style>\n<table border=\"1\" class=\"dataframe\">\n  <thead>\n    <tr style=\"text-align: right;\">\n      <th></th>\n      <th>n_estimators</th>\n      <th>train_time</th>\n      <th>inference_time</th>\n      <th>k</th>\n      <th>R2_score</th>\n      <th>RMSE</th>\n      <th>D</th>\n      <th>N</th>\n      <th>n_test</th>\n      <th>n_train</th>\n    </tr>\n  </thead>\n  <tbody>\n    <tr>\n      <th>0</th>\n      <td>100</td>\n      <td>10.254238</td>\n      <td>0.027609</td>\n      <td>1</td>\n      <td>0.858685</td>\n      <td>0.015797</td>\n      <td>24</td>\n      <td>3000</td>\n      <td>900</td>\n      <td>2100</td>\n    </tr>\n    <tr>\n      <th>1</th>\n      <td>100</td>\n      <td>10.071617</td>\n      <td>0.027184</td>\n      <td>2</td>\n      <td>0.867895</td>\n      <td>0.015529</td>\n      <td>24</td>\n      <td>3000</td>\n      <td>900</td>\n      <td>2100</td>\n    </tr>\n  </tbody>\n</table>\n</div>"
     },
     "metadata": {}
    }
   ],
   "source": [
    "MODEL = RandomForestRegressor\n",
    "params = {\"n_estimators\" : [100]}\n",
    "NAME = \"RF\"\n",
    "PATH = \"out/\"+NAME+\"/\"\n",
    "\n",
    "modeltrainer = ModelTrainer(MODEL, params, X, Y, thread_cnt=1)\n",
    "########### train with TrainTestSplit  ###################\n",
    "modeltrainer.TTSplit(test_size = test_size)\n",
    "modeltrainer.train()\n",
    "results = modeltrainer.retResults(PATH + \"sklearn_TTS_DT.csv\")\n",
    "display(results)\n",
    "############ shuffle_Cross validation  ###################\n",
    "modeltrainer.CV_shuffle_split(k = n_splits, test_size = test_size, random_state = 42)\n",
    "results = modeltrainer.retResults(PATH + \"sklearn_CV_DT.csv\")\n",
    "display(results)"
   ]
  },
  {
   "source": [
    "## DT-Regression"
   ],
   "cell_type": "markdown",
   "metadata": {}
  },
  {
   "cell_type": "code",
   "execution_count": 11,
   "metadata": {},
   "outputs": [
    {
     "output_type": "display_data",
     "data": {
      "text/plain": "  criterion  train_time  inference_time  R2_score     RMSE   D     N  n_test  \\\n0       mse    0.178356        0.000559  0.694593  0.03414  24  3000     900   \n\n   n_train  \n0     2100  ",
      "text/html": "<div>\n<style scoped>\n    .dataframe tbody tr th:only-of-type {\n        vertical-align: middle;\n    }\n\n    .dataframe tbody tr th {\n        vertical-align: top;\n    }\n\n    .dataframe thead th {\n        text-align: right;\n    }\n</style>\n<table border=\"1\" class=\"dataframe\">\n  <thead>\n    <tr style=\"text-align: right;\">\n      <th></th>\n      <th>criterion</th>\n      <th>train_time</th>\n      <th>inference_time</th>\n      <th>R2_score</th>\n      <th>RMSE</th>\n      <th>D</th>\n      <th>N</th>\n      <th>n_test</th>\n      <th>n_train</th>\n    </tr>\n  </thead>\n  <tbody>\n    <tr>\n      <th>0</th>\n      <td>mse</td>\n      <td>0.178356</td>\n      <td>0.000559</td>\n      <td>0.694593</td>\n      <td>0.03414</td>\n      <td>24</td>\n      <td>3000</td>\n      <td>900</td>\n      <td>2100</td>\n    </tr>\n  </tbody>\n</table>\n</div>"
     },
     "metadata": {}
    },
    {
     "output_type": "display_data",
     "data": {
      "text/plain": "  criterion  train_time  inference_time  k  R2_score      RMSE   D     N  \\\n0       mse    0.171164        0.000551  1  0.718882  0.031425  24  3000   \n1       mse    0.171548        0.000679  2  0.758449  0.028395  24  3000   \n\n   n_test  n_train  \n0     900     2100  \n1     900     2100  ",
      "text/html": "<div>\n<style scoped>\n    .dataframe tbody tr th:only-of-type {\n        vertical-align: middle;\n    }\n\n    .dataframe tbody tr th {\n        vertical-align: top;\n    }\n\n    .dataframe thead th {\n        text-align: right;\n    }\n</style>\n<table border=\"1\" class=\"dataframe\">\n  <thead>\n    <tr style=\"text-align: right;\">\n      <th></th>\n      <th>criterion</th>\n      <th>train_time</th>\n      <th>inference_time</th>\n      <th>k</th>\n      <th>R2_score</th>\n      <th>RMSE</th>\n      <th>D</th>\n      <th>N</th>\n      <th>n_test</th>\n      <th>n_train</th>\n    </tr>\n  </thead>\n  <tbody>\n    <tr>\n      <th>0</th>\n      <td>mse</td>\n      <td>0.171164</td>\n      <td>0.000551</td>\n      <td>1</td>\n      <td>0.718882</td>\n      <td>0.031425</td>\n      <td>24</td>\n      <td>3000</td>\n      <td>900</td>\n      <td>2100</td>\n    </tr>\n    <tr>\n      <th>1</th>\n      <td>mse</td>\n      <td>0.171548</td>\n      <td>0.000679</td>\n      <td>2</td>\n      <td>0.758449</td>\n      <td>0.028395</td>\n      <td>24</td>\n      <td>3000</td>\n      <td>900</td>\n      <td>2100</td>\n    </tr>\n  </tbody>\n</table>\n</div>"
     },
     "metadata": {}
    }
   ],
   "source": [
    "MODEL = DecisionTreeRegressor\n",
    "params = {\"criterion\": [\"mse\"]}\n",
    "NAME = \"DT\"\n",
    "PATH = \"out/\"+NAME+\"/\"\n",
    "\n",
    "\n",
    "modeltrainer = ModelTrainer(MODEL, params, X, Y, thread_cnt=1)\n",
    "########### train with TrainTestSplit  ###################\n",
    "modeltrainer.TTSplit(test_size = test_size)\n",
    "modeltrainer.train()\n",
    "results = modeltrainer.retResults(PATH + \"sklearn_TTS_DT.csv\")\n",
    "display(results)\n",
    "############ shuffle_Cross validation  ###################\n",
    "modeltrainer.CV_shuffle_split(k = n_splits, test_size = test_size, random_state = 42)\n",
    "results = modeltrainer.retResults(PATH + \"sklearn_CV_DT.csv\")\n",
    "display(results)"
   ]
  },
  {
   "cell_type": "code",
   "execution_count": null,
   "metadata": {},
   "outputs": [],
   "source": []
  }
 ]
}