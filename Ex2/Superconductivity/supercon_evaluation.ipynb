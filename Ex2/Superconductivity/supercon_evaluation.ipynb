{
 "metadata": {
  "language_info": {
   "codemirror_mode": {
    "name": "ipython",
    "version": 3
   },
   "file_extension": ".py",
   "mimetype": "text/x-python",
   "name": "python",
   "nbconvert_exporter": "python",
   "pygments_lexer": "ipython3",
   "version": 3
  },
  "orig_nbformat": 2
 },
 "nbformat": 4,
 "nbformat_minor": 2,
 "cells": [
  {
   "cell_type": "code",
   "execution_count": null,
   "metadata": {},
   "outputs": [],
   "source": [
    "# std\n",
    "import os\n",
    "import sys\n",
    "import inspect\n",
    "import time\n",
    "import pathlib\n",
    "from math import sqrt\n",
    "from math import log2\n",
    "# packgaes\n",
    "import pandas as pd\n",
    "import seaborn as sns\n",
    "import matplotlib.pyplot as plt\n",
    "import matplotlib as mpl\n",
    "import numpy as np\n",
    "%matplotlib inline\n",
    "\n",
    "# packages\n",
    "from matplotlib.colors import ListedColormap\n",
    "\n",
    "# for selection the right path\n",
    "currentdir = os.path.dirname(os.path.abspath(inspect.getfile(inspect.currentframe())))\n",
    "parentdir = os.path.dirname(currentdir)\n",
    "sys.path.insert(0,parentdir)\n",
    "\n",
    "from common.DataParser import parse_superconductivity\n",
    "from common.model_trainer_reg import *\n",
    "from common.regression_plotfunctions import *\n"
   ]
  },
  {
   "cell_type": "code",
   "execution_count": null,
   "metadata": {},
   "outputs": [],
   "source": [
    "# Get the data\n",
    "cwd = pathlib.Path(os.getcwd())\n",
    "project_path = cwd.parent\n",
    "data_subdir = \"out/runtimes\"\n",
    "plot_dir = cwd / \"out\" / \"plots\"\n",
    "\n",
    "Superconductivity = project_path / \"Superconductivity\"\n",
    "\n",
    "project = {\n",
    "    \"Superconductivity\": {\"path\": Superconductivity}\n",
    "}\n",
    "\n",
    "for key, val in project.items():\n",
    "    val[\"data_path\"] = val[\"path\"] / data_subdir\n",
    "project\n",
    "\n",
    "for name in project:\n",
    "    if name not in [\"Superconductivity\", \"Metro\"]:\n",
    "        continue\n",
    "    data = pd.concat([pd.read_csv(file) for file in list(project[name][\"data_path\"].glob(\"*.csv\"))], keys=[\"sklearn\", \"myKNN\"], names=[\"implementation\", \"subindex\"])\n",
    "    data[\"total_time\"] = data[\"train_time\"] + data[\"inference_time\"]\n",
    "    project[name][\"data\"] = data\n",
    "    print(name)\n",
    "    display(data.head())"
   ]
  }
 ]
}