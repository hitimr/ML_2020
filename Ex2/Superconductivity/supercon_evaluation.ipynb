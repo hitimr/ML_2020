{
 "metadata": {
  "language_info": {
   "codemirror_mode": {
    "name": "ipython",
    "version": 3
   },
   "file_extension": ".py",
   "mimetype": "text/x-python",
   "name": "python",
   "nbconvert_exporter": "python",
   "pygments_lexer": "ipython3",
   "version": "3.8.6-final"
  },
  "orig_nbformat": 2,
  "kernelspec": {
   "name": "python3",
   "display_name": "Python 3"
  }
 },
 "nbformat": 4,
 "nbformat_minor": 2,
 "cells": [
  {
   "cell_type": "code",
   "execution_count": null,
   "metadata": {},
   "outputs": [],
   "source": [
    "# std\n",
    "import os\n",
    "import sys\n",
    "import inspect\n",
    "import time\n",
    "import pathlib\n",
    "from math import sqrt\n",
    "from math import log2\n",
    "# packgaes\n",
    "import pandas as pd\n",
    "import seaborn as sns\n",
    "import matplotlib.pyplot as plt\n",
    "import matplotlib as mpl\n",
    "import numpy as np\n",
    "%matplotlib inline\n",
    "\n",
    "# packages\n",
    "from matplotlib.colors import ListedColormap\n",
    "\n",
    "# for selection the right path\n",
    "currentdir = os.path.dirname(os.path.abspath(inspect.getfile(inspect.currentframe())))\n",
    "parentdir = os.path.dirname(currentdir)\n",
    "sys.path.insert(0,parentdir)\n",
    "\n",
    "from common.DataParser import parse_superconductivity\n",
    "from common.model_trainer_reg import *\n",
    "from common.regression_plotfunctions import *\n"
   ]
  },
  {
   "cell_type": "code",
   "execution_count": null,
   "metadata": {},
   "outputs": [],
   "source": [
    "def load_glob(glob, concat=True):\n",
    "    liste = [pd.read_csv(file) for file in glob]\n",
    "    name = [file for file in glob]\n",
    "    repr(name)\n",
    "    if concat:\n",
    "        return pd.concat(liste)\n",
    "    return liste, name"
   ]
  },
  {
   "cell_type": "code",
   "execution_count": null,
   "metadata": {},
   "outputs": [],
   "source": [
    "# Get the data\n",
    "cwd = pathlib.Path(os.getcwd())\n",
    "data_subdir = cwd / \"out\"\n",
    "plot_dir = cwd / \"out\" / \"plots\"\n",
    "\n",
    "project = {\n",
    "    \"sub_keys\": [\"path\", \"data\"], \n",
    "    \"KNN\": {\"path\": \"a/path\", \"data\": pd.DataFrame()}\n",
    "}\n",
    "\n",
    "for name in [\"KNN\", \"RF\", \"SGD\"]:\n",
    "    data = data_subdir / name\n",
    "    try:\n",
    "        try:\n",
    "            data_dict = {\n",
    "                    \"my\": load_glob(data.glob(\"my_CV_*.csv\"), concat=True),\n",
    "                    \"sklearn\": load_glob(data.glob(\"sklearn_CV_*.csv\"), concat=True)\n",
    "                }\n",
    "        except:\n",
    "            data_dict = {\n",
    "                    \"sklearn\": load_glob(data.glob(\"sklearn_CV_*.csv\"), concat=True)\n",
    "                }\n",
    "        project[name] = {\n",
    "            \"path\": data,\n",
    "            \"data\": data_dict\n",
    "            }\n",
    "    except Exception as e:\n",
    "        project[name] = {\n",
    "            \"path\": data,\n",
    "            \"data\": f\"couldn't load because of error:\\n{e}\"\n",
    "            }\n",
    "\n",
    "project"
   ]
  },
  {
   "cell_type": "code",
   "execution_count": null,
   "metadata": {},
   "outputs": [],
   "source": [
    "def print_styling(figsize=(14,8)):\n",
    "\n",
    "    plt.rc('figure', figsize=figsize) \n",
    "    SMALL_SIZE = 15\n",
    "    MEDIUM_SIZE = 18\n",
    "    BIGGER_SIZE = 26\n",
    "\n",
    "    plt.rc('font', size=SMALL_SIZE)          # controls default text sizes\n",
    "    plt.rc('lines', linewidth=2)\n",
    "\n",
    "    plt.rc('xtick', labelsize=SMALL_SIZE)    # fontsize of the tick labels\n",
    "    plt.rc('ytick', labelsize=SMALL_SIZE)    # fontsize of the tick labels\n",
    "    plt.rc('axes', titlesize=MEDIUM_SIZE)     # fontsize of the axes title\n",
    "    plt.rc('axes', labelsize=MEDIUM_SIZE)    # fontsize of the x and y labels\n",
    "    \n",
    "    plt.rc('legend', fontsize=SMALL_SIZE)    # legend fontsize\n",
    "    plt.rc('figure', titlesize=BIGGER_SIZE)  # fontsize of the figure title"
   ]
  },
  {
   "cell_type": "code",
   "execution_count": null,
   "metadata": {},
   "outputs": [],
   "source": [
    "\n",
    "def plot_CV_with_Std(df, y = \"R2_score\", regressor = \"sklearn\", titel = \"R2-Score\", SaveName = False):\n",
    "    kmax  = np.max(df[\"k\"])\n",
    "    list_k = np.linspace(1, kmax, num=kmax)\n",
    "    std_list = np.zeros(kmax)\n",
    "    mean_list = np.zeros(kmax)\n",
    "    for k in list_k:\n",
    "        df_tmp = df[df[\"k\"] == k]\n",
    "        std_list[int(k-1)] = np.std(df_tmp[y])\n",
    "        mean_list[int(k-1)] = np.mean(df_tmp[y])\n",
    "    plt.plot(list_k, mean_list, '-', label = regressor)\n",
    "    plt.fill_between(list_k, mean_list - std_list, mean_list + std_list, alpha=0.2)\n",
    "    plt.grid()\n",
    "    plt.legend()\n",
    "    plt.xlabel(\"k-splits\")\n",
    "    plt.title(titel)\n",
    "    plt.ylabel(y)\n",
    "    if SaveName:\n",
    "        plt.savefig(SaveName)"
   ]
  },
  {
   "cell_type": "code",
   "execution_count": null,
   "metadata": {},
   "outputs": [],
   "source": [
    "df = project[\"RF\"][\"data\"][\"sklearn\"]\n",
    "display(df)\n",
    "print_styling()\n",
    "plot_CV_with_Std(df)"
   ]
  },
  {
   "cell_type": "code",
   "execution_count": null,
   "metadata": {},
   "outputs": [],
   "source": []
  }
 ]
}