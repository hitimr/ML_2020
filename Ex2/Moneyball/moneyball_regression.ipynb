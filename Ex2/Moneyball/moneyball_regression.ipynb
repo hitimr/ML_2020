{
 "metadata": {
  "language_info": {
   "codemirror_mode": {
    "name": "ipython",
    "version": 3
   },
   "file_extension": ".py",
   "mimetype": "text/x-python",
   "name": "python",
   "nbconvert_exporter": "python",
   "pygments_lexer": "ipython3",
   "version": "3.7.9-final"
  },
  "orig_nbformat": 2,
  "kernelspec": {
   "name": "python3",
   "display_name": "Python 3.7.9 64-bit",
   "metadata": {
    "interpreter": {
     "hash": "0600588c3b5f4418cbe7b5ebc6825b479f3bc010269d8b60d75058cdd010adfe"
    }
   }
  }
 },
 "nbformat": 4,
 "nbformat_minor": 2,
 "cells": [
  {
   "cell_type": "code",
   "execution_count": 85,
   "metadata": {},
   "outputs": [],
   "source": [
    "# std\n",
    "import os\n",
    "import sys\n",
    "import inspect\n",
    "import time\n",
    "import pathlib\n",
    "from math import sqrt\n",
    "from math import log2\n",
    "# packgaes\n",
    "import pandas as pd\n",
    "import seaborn as sns\n",
    "import matplotlib.pyplot as plt\n",
    "import matplotlib as mpl\n",
    "import numpy as np\n",
    "%matplotlib inline\n",
    "\n",
    "# packages\n",
    "from matplotlib.colors import ListedColormap\n",
    "\n",
    "## sklearn\n",
    "from sklearn.preprocessing import StandardScaler,PowerTransformer,MinMaxScaler,QuantileTransformer,normalize\n",
    "from sklearn.model_selection import train_test_split, learning_curve, ShuffleSplit\n",
    "from sklearn.feature_selection import VarianceThreshold, SelectKBest\n",
    "from sklearn.model_selection import KFold\n",
    "from sklearn.decomposition import PCA\n",
    "from sklearn.feature_selection import chi2\n",
    "\n",
    "from sklearn.metrics import r2_score\n",
    "from sklearn.metrics import mean_poisson_deviance\n",
    "from sklearn.metrics import mean_gamma_deviance\n",
    "from sklearn.metrics import median_absolute_error\n",
    "\n",
    "from sklearn.neighbors import KNeighborsRegressor\n",
    "from sklearn.linear_model import SGDRegressor\n",
    "from sklearn.ensemble import RandomForestRegressor\n",
    "from sklearn.tree import DecisionTreeRegressor\n",
    "\n",
    "\n",
    "# for selection the right path\n",
    "currentdir = os.path.dirname(os.path.abspath(inspect.getfile(inspect.currentframe())))\n",
    "parentdir = os.path.dirname(currentdir)\n",
    "sys.path.insert(0,parentdir)\n",
    "\n",
    "from common.DataParser import parse_moneyball\n",
    "from common.model_trainer_reg import *\n",
    "from common.regression_plotfunctions import *\n",
    "\n",
    "from GD.LinearRegression import LinearRegression\n",
    "from KNN.KNNRegressor import KNNRegressor\n",
    "\n",
    "import moneyball_preprocession"
   ]
  },
  {
   "cell_type": "code",
   "execution_count": 86,
   "metadata": {},
   "outputs": [
    {
     "output_type": "execute_result",
     "data": {
      "text/plain": [
       "     Team League  Year   RS   RA    W    OBP    SLG     BA  Playoffs  \\\n",
       "0     ARI     NL  2012  734  688   81  0.328  0.418  0.259         0   \n",
       "1     ATL     NL  2012  700  600   94  0.320  0.389  0.247         1   \n",
       "2     BAL     AL  2012  712  705   93  0.311  0.417  0.247         1   \n",
       "3     BOS     AL  2012  734  806   69  0.315  0.415  0.260         0   \n",
       "4     CHC     NL  2012  613  759   61  0.302  0.378  0.240         0   \n",
       "...   ...    ...   ...  ...  ...  ...    ...    ...    ...       ...   \n",
       "1227  PHI     NL  1962  705  759   81  0.330  0.390  0.260         0   \n",
       "1228  PIT     NL  1962  706  626   93  0.321  0.394  0.268         0   \n",
       "1229  SFG     NL  1962  878  690  103  0.341  0.441  0.278         1   \n",
       "1230  STL     NL  1962  774  664   84  0.335  0.394  0.271         0   \n",
       "1231  WSA     AL  1962  599  716   60  0.308  0.373  0.250         0   \n",
       "\n",
       "      RankSeason  RankPlayoffs    G   OOBP   OSLG  \n",
       "0            NaN           NaN  162  0.317  0.415  \n",
       "1            4.0           5.0  162  0.306  0.378  \n",
       "2            5.0           4.0  162  0.315  0.403  \n",
       "3            NaN           NaN  162  0.331  0.428  \n",
       "4            NaN           NaN  162  0.335  0.424  \n",
       "...          ...           ...  ...    ...    ...  \n",
       "1227         NaN           NaN  161    NaN    NaN  \n",
       "1228         NaN           NaN  161    NaN    NaN  \n",
       "1229         1.0           2.0  165    NaN    NaN  \n",
       "1230         NaN           NaN  163    NaN    NaN  \n",
       "1231         NaN           NaN  162    NaN    NaN  \n",
       "\n",
       "[1232 rows x 15 columns]"
      ],
      "text/html": "<div>\n<style scoped>\n    .dataframe tbody tr th:only-of-type {\n        vertical-align: middle;\n    }\n\n    .dataframe tbody tr th {\n        vertical-align: top;\n    }\n\n    .dataframe thead th {\n        text-align: right;\n    }\n</style>\n<table border=\"1\" class=\"dataframe\">\n  <thead>\n    <tr style=\"text-align: right;\">\n      <th></th>\n      <th>Team</th>\n      <th>League</th>\n      <th>Year</th>\n      <th>RS</th>\n      <th>RA</th>\n      <th>W</th>\n      <th>OBP</th>\n      <th>SLG</th>\n      <th>BA</th>\n      <th>Playoffs</th>\n      <th>RankSeason</th>\n      <th>RankPlayoffs</th>\n      <th>G</th>\n      <th>OOBP</th>\n      <th>OSLG</th>\n    </tr>\n  </thead>\n  <tbody>\n    <tr>\n      <th>0</th>\n      <td>ARI</td>\n      <td>NL</td>\n      <td>2012</td>\n      <td>734</td>\n      <td>688</td>\n      <td>81</td>\n      <td>0.328</td>\n      <td>0.418</td>\n      <td>0.259</td>\n      <td>0</td>\n      <td>NaN</td>\n      <td>NaN</td>\n      <td>162</td>\n      <td>0.317</td>\n      <td>0.415</td>\n    </tr>\n    <tr>\n      <th>1</th>\n      <td>ATL</td>\n      <td>NL</td>\n      <td>2012</td>\n      <td>700</td>\n      <td>600</td>\n      <td>94</td>\n      <td>0.320</td>\n      <td>0.389</td>\n      <td>0.247</td>\n      <td>1</td>\n      <td>4.0</td>\n      <td>5.0</td>\n      <td>162</td>\n      <td>0.306</td>\n      <td>0.378</td>\n    </tr>\n    <tr>\n      <th>2</th>\n      <td>BAL</td>\n      <td>AL</td>\n      <td>2012</td>\n      <td>712</td>\n      <td>705</td>\n      <td>93</td>\n      <td>0.311</td>\n      <td>0.417</td>\n      <td>0.247</td>\n      <td>1</td>\n      <td>5.0</td>\n      <td>4.0</td>\n      <td>162</td>\n      <td>0.315</td>\n      <td>0.403</td>\n    </tr>\n    <tr>\n      <th>3</th>\n      <td>BOS</td>\n      <td>AL</td>\n      <td>2012</td>\n      <td>734</td>\n      <td>806</td>\n      <td>69</td>\n      <td>0.315</td>\n      <td>0.415</td>\n      <td>0.260</td>\n      <td>0</td>\n      <td>NaN</td>\n      <td>NaN</td>\n      <td>162</td>\n      <td>0.331</td>\n      <td>0.428</td>\n    </tr>\n    <tr>\n      <th>4</th>\n      <td>CHC</td>\n      <td>NL</td>\n      <td>2012</td>\n      <td>613</td>\n      <td>759</td>\n      <td>61</td>\n      <td>0.302</td>\n      <td>0.378</td>\n      <td>0.240</td>\n      <td>0</td>\n      <td>NaN</td>\n      <td>NaN</td>\n      <td>162</td>\n      <td>0.335</td>\n      <td>0.424</td>\n    </tr>\n    <tr>\n      <th>...</th>\n      <td>...</td>\n      <td>...</td>\n      <td>...</td>\n      <td>...</td>\n      <td>...</td>\n      <td>...</td>\n      <td>...</td>\n      <td>...</td>\n      <td>...</td>\n      <td>...</td>\n      <td>...</td>\n      <td>...</td>\n      <td>...</td>\n      <td>...</td>\n      <td>...</td>\n    </tr>\n    <tr>\n      <th>1227</th>\n      <td>PHI</td>\n      <td>NL</td>\n      <td>1962</td>\n      <td>705</td>\n      <td>759</td>\n      <td>81</td>\n      <td>0.330</td>\n      <td>0.390</td>\n      <td>0.260</td>\n      <td>0</td>\n      <td>NaN</td>\n      <td>NaN</td>\n      <td>161</td>\n      <td>NaN</td>\n      <td>NaN</td>\n    </tr>\n    <tr>\n      <th>1228</th>\n      <td>PIT</td>\n      <td>NL</td>\n      <td>1962</td>\n      <td>706</td>\n      <td>626</td>\n      <td>93</td>\n      <td>0.321</td>\n      <td>0.394</td>\n      <td>0.268</td>\n      <td>0</td>\n      <td>NaN</td>\n      <td>NaN</td>\n      <td>161</td>\n      <td>NaN</td>\n      <td>NaN</td>\n    </tr>\n    <tr>\n      <th>1229</th>\n      <td>SFG</td>\n      <td>NL</td>\n      <td>1962</td>\n      <td>878</td>\n      <td>690</td>\n      <td>103</td>\n      <td>0.341</td>\n      <td>0.441</td>\n      <td>0.278</td>\n      <td>1</td>\n      <td>1.0</td>\n      <td>2.0</td>\n      <td>165</td>\n      <td>NaN</td>\n      <td>NaN</td>\n    </tr>\n    <tr>\n      <th>1230</th>\n      <td>STL</td>\n      <td>NL</td>\n      <td>1962</td>\n      <td>774</td>\n      <td>664</td>\n      <td>84</td>\n      <td>0.335</td>\n      <td>0.394</td>\n      <td>0.271</td>\n      <td>0</td>\n      <td>NaN</td>\n      <td>NaN</td>\n      <td>163</td>\n      <td>NaN</td>\n      <td>NaN</td>\n    </tr>\n    <tr>\n      <th>1231</th>\n      <td>WSA</td>\n      <td>AL</td>\n      <td>1962</td>\n      <td>599</td>\n      <td>716</td>\n      <td>60</td>\n      <td>0.308</td>\n      <td>0.373</td>\n      <td>0.250</td>\n      <td>0</td>\n      <td>NaN</td>\n      <td>NaN</td>\n      <td>162</td>\n      <td>NaN</td>\n      <td>NaN</td>\n    </tr>\n  </tbody>\n</table>\n<p>1232 rows × 15 columns</p>\n</div>"
     },
     "metadata": {},
     "execution_count": 86
    }
   ],
   "source": [
    "df_raw = parse_moneyball()\n",
    "df_raw"
   ]
  },
  {
   "source": [
    "# Train and Test"
   ],
   "cell_type": "markdown",
   "metadata": {}
  },
  {
   "cell_type": "code",
   "execution_count": 87,
   "metadata": {},
   "outputs": [],
   "source": [
    "mode=\"mean\"\n",
    "X, Y = moneyball_preprocession.preprocessing(df_raw, drop_missing_values=False)\n",
    "#mode=\"dropped\"\n",
    "#X, Y = moneyball_preprocession.preprocessing(df_raw, drop_missing_values=True)\n",
    "\n",
    "n_splits = 10"
   ]
  },
  {
   "source": [
    "## SGD-Regression"
   ],
   "cell_type": "markdown",
   "metadata": {}
  },
  {
   "cell_type": "code",
   "execution_count": 88,
   "metadata": {},
   "outputs": [
    {
     "output_type": "stream",
     "name": "stdout",
     "text": [
      "Training all model variations took 0.0040s - holdout\n"
     ]
    },
    {
     "output_type": "display_data",
     "data": {
      "text/plain": "   alpha  max_iter  train_time  inference_time  k  R2_score       RMSE  D  \\\n0  0.001      1000    0.003002             0.0  0  0.876508  15.986514  8   \n\n      N  n_test  n_train      MGE  \n0  1232     616      616  0.00271  ",
      "text/html": "<div>\n<style scoped>\n    .dataframe tbody tr th:only-of-type {\n        vertical-align: middle;\n    }\n\n    .dataframe tbody tr th {\n        vertical-align: top;\n    }\n\n    .dataframe thead th {\n        text-align: right;\n    }\n</style>\n<table border=\"1\" class=\"dataframe\">\n  <thead>\n    <tr style=\"text-align: right;\">\n      <th></th>\n      <th>alpha</th>\n      <th>max_iter</th>\n      <th>train_time</th>\n      <th>inference_time</th>\n      <th>k</th>\n      <th>R2_score</th>\n      <th>RMSE</th>\n      <th>D</th>\n      <th>N</th>\n      <th>n_test</th>\n      <th>n_train</th>\n      <th>MGE</th>\n    </tr>\n  </thead>\n  <tbody>\n    <tr>\n      <th>0</th>\n      <td>0.001</td>\n      <td>1000</td>\n      <td>0.003002</td>\n      <td>0.0</td>\n      <td>0</td>\n      <td>0.876508</td>\n      <td>15.986514</td>\n      <td>8</td>\n      <td>1232</td>\n      <td>616</td>\n      <td>616</td>\n      <td>0.00271</td>\n    </tr>\n  </tbody>\n</table>\n</div>"
     },
     "metadata": {}
    },
    {
     "output_type": "stream",
     "name": "stdout",
     "text": [
      "Using CV with k=10 folds.\nTraining all model variations took 0.0030s - CV fold # =1\nTraining all model variations took 0.0030s - CV fold # =2\nTraining all model variations took 0.0030s - CV fold # =3\nTraining all model variations took 0.0020s - CV fold # =4\nTraining all model variations took 0.0040s - CV fold # =5\nTraining all model variations took 0.0030s - CV fold # =6\nTraining all model variations took 0.0030s - CV fold # =7\nTraining all model variations took 0.0040s - CV fold # =8\nTraining all model variations took 0.0040s - CV fold # =9\nTraining all model variations took 0.0020s - CV fold # =10\n"
     ]
    }
   ],
   "source": [
    "MODEL = SGDRegressor\n",
    "NAME = \"SGD\"\n",
    "PATH = \"out/\"+NAME+\"/\"\n",
    "params = {\"alpha\" : [0.001],\n",
    "          \"max_iter\" : [1000]}\n",
    "\n",
    "\n",
    "modeltrainer = ModelTrainer(MODEL, params, X, Y, Variationerror = mean_gamma_deviance, NameOfError = \"MGE\", thread_cnt=1)\n",
    "########### train with TrainTestSplit  ###################\n",
    "modeltrainer.TTSplit(test_size = 0.5)\n",
    "modeltrainer.train()\n",
    "results = modeltrainer.retResults(PATH + f\"sklearn_TTS_SGD_{mode}.csv\")\n",
    "display(results)\n",
    "############ shuffle_Cross validation  ###################\n",
    "modeltrainer.CV_shuffle_split(k = n_splits, test_size = 0.5, random_state = 42)\n",
    "results = modeltrainer.retResults(PATH + f\"sklearn_CV_SGD_{mode}.csv\")\n",
    "#display(results)\n",
    "\n",
    "\n"
   ]
  },
  {
   "source": [
    "## My SGD-Regression"
   ],
   "cell_type": "markdown",
   "metadata": {}
  },
  {
   "cell_type": "code",
   "execution_count": 89,
   "metadata": {},
   "outputs": [
    {
     "output_type": "stream",
     "name": "stdout",
     "text": [
      "Training all model variations took 0.0150s - holdout\n"
     ]
    },
    {
     "output_type": "display_data",
     "data": {
      "text/plain": "   alpha  max_iter  train_time  inference_time  k  R2_score       RMSE  D  \\\n0  0.001      1000    0.014997             0.0  0  0.875578  16.106947  8   \n\n      N  n_test  n_train       MGE  \n0  1232     616      616  0.002735  ",
      "text/html": "<div>\n<style scoped>\n    .dataframe tbody tr th:only-of-type {\n        vertical-align: middle;\n    }\n\n    .dataframe tbody tr th {\n        vertical-align: top;\n    }\n\n    .dataframe thead th {\n        text-align: right;\n    }\n</style>\n<table border=\"1\" class=\"dataframe\">\n  <thead>\n    <tr style=\"text-align: right;\">\n      <th></th>\n      <th>alpha</th>\n      <th>max_iter</th>\n      <th>train_time</th>\n      <th>inference_time</th>\n      <th>k</th>\n      <th>R2_score</th>\n      <th>RMSE</th>\n      <th>D</th>\n      <th>N</th>\n      <th>n_test</th>\n      <th>n_train</th>\n      <th>MGE</th>\n    </tr>\n  </thead>\n  <tbody>\n    <tr>\n      <th>0</th>\n      <td>0.001</td>\n      <td>1000</td>\n      <td>0.014997</td>\n      <td>0.0</td>\n      <td>0</td>\n      <td>0.875578</td>\n      <td>16.106947</td>\n      <td>8</td>\n      <td>1232</td>\n      <td>616</td>\n      <td>616</td>\n      <td>0.002735</td>\n    </tr>\n  </tbody>\n</table>\n</div>"
     },
     "metadata": {}
    },
    {
     "output_type": "stream",
     "name": "stdout",
     "text": [
      "Using CV with k=10 folds.\n",
      "Training all model variations took 0.0160s - CV fold # =1\n",
      "Training all model variations took 0.0150s - CV fold # =2\n",
      "Training all model variations took 0.0160s - CV fold # =3\n",
      "Training all model variations took 0.0150s - CV fold # =4\n",
      "Training all model variations took 0.0150s - CV fold # =5\n",
      "Training all model variations took 0.0150s - CV fold # =6\n",
      "Training all model variations took 0.0150s - CV fold # =7\n",
      "Training all model variations took 0.0150s - CV fold # =8\n",
      "Training all model variations took 0.0150s - CV fold # =9\n",
      "Training all model variations took 0.0150s - CV fold # =10\n"
     ]
    }
   ],
   "source": [
    "MODEL = LinearRegression\n",
    "#params = {\"alpha\" : [0.001,0.001],\n",
    "          #\"max_iter\" : [1000,10000,100000]}\n",
    "#n_splits = 2\n",
    "modeltrainer = ModelTrainer(MODEL, params, X, Y, Variationerror = mean_gamma_deviance, NameOfError = \"MGE\", thread_cnt=1)\n",
    "########### train with TrainTestSplit  ###################\n",
    "modeltrainer.TTSplit(test_size = 0.5)\n",
    "modeltrainer.train()\n",
    "results = modeltrainer.retResults(PATH + f\"my_TTS_SGD_{mode}.csv\")\n",
    "display(results)\n",
    "############ shuffle_Cross validation  ###################\n",
    "modeltrainer.CV_shuffle_split(k = n_splits, test_size = 0.5, random_state = 42)\n",
    "results = modeltrainer.retResults(PATH + f\"my_CV_SGD_{mode}.csv\")\n",
    "#display(results)"
   ]
  },
  {
   "source": [
    "## KNN-Regression"
   ],
   "cell_type": "markdown",
   "metadata": {}
  },
  {
   "cell_type": "code",
   "execution_count": 90,
   "metadata": {},
   "outputs": [
    {
     "output_type": "stream",
     "name": "stdout",
     "text": [
      "Training all model variations took 0.0060s - holdout\n"
     ]
    },
    {
     "output_type": "display_data",
     "data": {
      "text/plain": "   n_neighbors  weights  train_time  inference_time  k  R2_score       RMSE  \\\n0            5  uniform       0.001           0.004  0  0.785048  27.826299   \n\n   D     N  n_test  n_train       MGE  \n0  8  1232     616      616  0.004589  ",
      "text/html": "<div>\n<style scoped>\n    .dataframe tbody tr th:only-of-type {\n        vertical-align: middle;\n    }\n\n    .dataframe tbody tr th {\n        vertical-align: top;\n    }\n\n    .dataframe thead th {\n        text-align: right;\n    }\n</style>\n<table border=\"1\" class=\"dataframe\">\n  <thead>\n    <tr style=\"text-align: right;\">\n      <th></th>\n      <th>n_neighbors</th>\n      <th>weights</th>\n      <th>train_time</th>\n      <th>inference_time</th>\n      <th>k</th>\n      <th>R2_score</th>\n      <th>RMSE</th>\n      <th>D</th>\n      <th>N</th>\n      <th>n_test</th>\n      <th>n_train</th>\n      <th>MGE</th>\n    </tr>\n  </thead>\n  <tbody>\n    <tr>\n      <th>0</th>\n      <td>5</td>\n      <td>uniform</td>\n      <td>0.001</td>\n      <td>0.004</td>\n      <td>0</td>\n      <td>0.785048</td>\n      <td>27.826299</td>\n      <td>8</td>\n      <td>1232</td>\n      <td>616</td>\n      <td>616</td>\n      <td>0.004589</td>\n    </tr>\n  </tbody>\n</table>\n</div>"
     },
     "metadata": {}
    },
    {
     "output_type": "stream",
     "name": "stdout",
     "text": [
      "Using CV with k=10 folds.\nTraining all model variations took 0.0060s - CV fold # =1\nTraining all model variations took 0.0050s - CV fold # =2\nTraining all model variations took 0.0050s - CV fold # =3\nTraining all model variations took 0.0050s - CV fold # =4\nTraining all model variations took 0.0050s - CV fold # =5\nTraining all model variations took 0.0050s - CV fold # =6\nTraining all model variations took 0.0060s - CV fold # =7\nTraining all model variations took 0.0050s - CV fold # =8\nTraining all model variations took 0.0050s - CV fold # =9\nTraining all model variations took 0.0050s - CV fold # =10\n"
     ]
    },
    {
     "output_type": "display_data",
     "data": {
      "text/plain": "   n_neighbors  weights  train_time  inference_time   k  R2_score       RMSE  \\\n0            5  uniform    0.001000        0.004999   1  0.785048  27.826299   \n1            5  uniform    0.001001        0.003999   2  0.775452  26.522792   \n2            5  uniform    0.000000        0.003999   3  0.774916  28.791364   \n3            5  uniform    0.001000        0.002998   4  0.783267  29.830325   \n4            5  uniform    0.001000        0.003998   5  0.763784  31.424026   \n5            5  uniform    0.001001        0.003999   6  0.797125  26.737403   \n6            5  uniform    0.001000        0.003998   7  0.798300  27.387727   \n7            5  uniform    0.001000        0.003997   8  0.763411  31.249545   \n8            5  uniform    0.001001        0.002998   9  0.788514  28.904805   \n9            5  uniform    0.001000        0.003999  10  0.774185  29.712013   \n\n   D     N  n_test  n_train       MGE  \n0  8  1232     616      616  0.004589  \n1  8  1232     616      616  0.004234  \n2  8  1232     616      616  0.004601  \n3  8  1232     616      616  0.005040  \n4  8  1232     616      616  0.005034  \n5  8  1232     616      616  0.004425  \n6  8  1232     616      616  0.004559  \n7  8  1232     616      616  0.005175  \n8  8  1232     616      616  0.004918  \n9  8  1232     616      616  0.004895  ",
      "text/html": "<div>\n<style scoped>\n    .dataframe tbody tr th:only-of-type {\n        vertical-align: middle;\n    }\n\n    .dataframe tbody tr th {\n        vertical-align: top;\n    }\n\n    .dataframe thead th {\n        text-align: right;\n    }\n</style>\n<table border=\"1\" class=\"dataframe\">\n  <thead>\n    <tr style=\"text-align: right;\">\n      <th></th>\n      <th>n_neighbors</th>\n      <th>weights</th>\n      <th>train_time</th>\n      <th>inference_time</th>\n      <th>k</th>\n      <th>R2_score</th>\n      <th>RMSE</th>\n      <th>D</th>\n      <th>N</th>\n      <th>n_test</th>\n      <th>n_train</th>\n      <th>MGE</th>\n    </tr>\n  </thead>\n  <tbody>\n    <tr>\n      <th>0</th>\n      <td>5</td>\n      <td>uniform</td>\n      <td>0.001000</td>\n      <td>0.004999</td>\n      <td>1</td>\n      <td>0.785048</td>\n      <td>27.826299</td>\n      <td>8</td>\n      <td>1232</td>\n      <td>616</td>\n      <td>616</td>\n      <td>0.004589</td>\n    </tr>\n    <tr>\n      <th>1</th>\n      <td>5</td>\n      <td>uniform</td>\n      <td>0.001001</td>\n      <td>0.003999</td>\n      <td>2</td>\n      <td>0.775452</td>\n      <td>26.522792</td>\n      <td>8</td>\n      <td>1232</td>\n      <td>616</td>\n      <td>616</td>\n      <td>0.004234</td>\n    </tr>\n    <tr>\n      <th>2</th>\n      <td>5</td>\n      <td>uniform</td>\n      <td>0.000000</td>\n      <td>0.003999</td>\n      <td>3</td>\n      <td>0.774916</td>\n      <td>28.791364</td>\n      <td>8</td>\n      <td>1232</td>\n      <td>616</td>\n      <td>616</td>\n      <td>0.004601</td>\n    </tr>\n    <tr>\n      <th>3</th>\n      <td>5</td>\n      <td>uniform</td>\n      <td>0.001000</td>\n      <td>0.002998</td>\n      <td>4</td>\n      <td>0.783267</td>\n      <td>29.830325</td>\n      <td>8</td>\n      <td>1232</td>\n      <td>616</td>\n      <td>616</td>\n      <td>0.005040</td>\n    </tr>\n    <tr>\n      <th>4</th>\n      <td>5</td>\n      <td>uniform</td>\n      <td>0.001000</td>\n      <td>0.003998</td>\n      <td>5</td>\n      <td>0.763784</td>\n      <td>31.424026</td>\n      <td>8</td>\n      <td>1232</td>\n      <td>616</td>\n      <td>616</td>\n      <td>0.005034</td>\n    </tr>\n    <tr>\n      <th>5</th>\n      <td>5</td>\n      <td>uniform</td>\n      <td>0.001001</td>\n      <td>0.003999</td>\n      <td>6</td>\n      <td>0.797125</td>\n      <td>26.737403</td>\n      <td>8</td>\n      <td>1232</td>\n      <td>616</td>\n      <td>616</td>\n      <td>0.004425</td>\n    </tr>\n    <tr>\n      <th>6</th>\n      <td>5</td>\n      <td>uniform</td>\n      <td>0.001000</td>\n      <td>0.003998</td>\n      <td>7</td>\n      <td>0.798300</td>\n      <td>27.387727</td>\n      <td>8</td>\n      <td>1232</td>\n      <td>616</td>\n      <td>616</td>\n      <td>0.004559</td>\n    </tr>\n    <tr>\n      <th>7</th>\n      <td>5</td>\n      <td>uniform</td>\n      <td>0.001000</td>\n      <td>0.003997</td>\n      <td>8</td>\n      <td>0.763411</td>\n      <td>31.249545</td>\n      <td>8</td>\n      <td>1232</td>\n      <td>616</td>\n      <td>616</td>\n      <td>0.005175</td>\n    </tr>\n    <tr>\n      <th>8</th>\n      <td>5</td>\n      <td>uniform</td>\n      <td>0.001001</td>\n      <td>0.002998</td>\n      <td>9</td>\n      <td>0.788514</td>\n      <td>28.904805</td>\n      <td>8</td>\n      <td>1232</td>\n      <td>616</td>\n      <td>616</td>\n      <td>0.004918</td>\n    </tr>\n    <tr>\n      <th>9</th>\n      <td>5</td>\n      <td>uniform</td>\n      <td>0.001000</td>\n      <td>0.003999</td>\n      <td>10</td>\n      <td>0.774185</td>\n      <td>29.712013</td>\n      <td>8</td>\n      <td>1232</td>\n      <td>616</td>\n      <td>616</td>\n      <td>0.004895</td>\n    </tr>\n  </tbody>\n</table>\n</div>"
     },
     "metadata": {}
    }
   ],
   "source": [
    "MODEL = KNeighborsRegressor\n",
    "params = {\"n_neighbors\": [10],\n",
    "        \"weights\" : [\"uniform\"],\n",
    "        #\"algorithm\": [\"brute\",\"kd_tree\",\"ball_tree\"]\n",
    "        }\n",
    "NAME = \"KNN\"\n",
    "PATH = \"out/\"+NAME+\"/\"\n",
    "\n",
    "#n_splits = 2\n",
    "modeltrainer = ModelTrainer(MODEL, params, X, Y, Variationerror = mean_gamma_deviance, NameOfError = \"MGE\", thread_cnt=1)\n",
    "########### train with TrainTestSplit  ###################\n",
    "modeltrainer.TTSplit(test_size = 0.5)\n",
    "modeltrainer.train()\n",
    "results = modeltrainer.retResults(PATH + f\"sklearn_TTS_KNN_{mode}.csv\")\n",
    "display(results)\n",
    "############ shuffle_Cross validation  ###################\n",
    "modeltrainer.CV_shuffle_split(k = n_splits, test_size = 0.5, random_state = 42)\n",
    "results = modeltrainer.retResults(PATH + f\"sklearn_CV_KNN_{mode}.csv\")\n",
    "display(results)"
   ]
  },
  {
   "source": [
    "## my KNN-Regression"
   ],
   "cell_type": "markdown",
   "metadata": {}
  },
  {
   "cell_type": "code",
   "execution_count": 91,
   "metadata": {},
   "outputs": [
    {
     "output_type": "stream",
     "name": "stdout",
     "text": [
      "Training all model variations took 0.0250s - holdout\n"
     ]
    },
    {
     "output_type": "display_data",
     "data": {
      "text/plain": "   n_neighbors  p  chunk_size  train_time  inference_time  k  R2_score  \\\n0            5  2         600         0.0           0.024  0  0.785048   \n\n        RMSE  D     N  n_test  n_train       MGE  \n0  27.826299  8  1232     616      616  0.004589  ",
      "text/html": "<div>\n<style scoped>\n    .dataframe tbody tr th:only-of-type {\n        vertical-align: middle;\n    }\n\n    .dataframe tbody tr th {\n        vertical-align: top;\n    }\n\n    .dataframe thead th {\n        text-align: right;\n    }\n</style>\n<table border=\"1\" class=\"dataframe\">\n  <thead>\n    <tr style=\"text-align: right;\">\n      <th></th>\n      <th>n_neighbors</th>\n      <th>p</th>\n      <th>chunk_size</th>\n      <th>train_time</th>\n      <th>inference_time</th>\n      <th>k</th>\n      <th>R2_score</th>\n      <th>RMSE</th>\n      <th>D</th>\n      <th>N</th>\n      <th>n_test</th>\n      <th>n_train</th>\n      <th>MGE</th>\n    </tr>\n  </thead>\n  <tbody>\n    <tr>\n      <th>0</th>\n      <td>5</td>\n      <td>2</td>\n      <td>600</td>\n      <td>0.0</td>\n      <td>0.024</td>\n      <td>0</td>\n      <td>0.785048</td>\n      <td>27.826299</td>\n      <td>8</td>\n      <td>1232</td>\n      <td>616</td>\n      <td>616</td>\n      <td>0.004589</td>\n    </tr>\n  </tbody>\n</table>\n</div>"
     },
     "metadata": {}
    },
    {
     "output_type": "stream",
     "name": "stdout",
     "text": [
      "Using CV with k=10 folds.\n",
      "Training all model variations took 0.0240s - CV fold # =1\n",
      "Training all model variations took 0.0240s - CV fold # =2\n",
      "Training all model variations took 0.0240s - CV fold # =3\n",
      "Training all model variations took 0.0230s - CV fold # =4\n",
      "Training all model variations took 0.0230s - CV fold # =5\n",
      "Training all model variations took 0.0230s - CV fold # =6\n",
      "Training all model variations took 0.0230s - CV fold # =7\n",
      "Training all model variations took 0.0230s - CV fold # =8\n",
      "Training all model variations took 0.0230s - CV fold # =9\n",
      "Training all model variations took 0.0240s - CV fold # =10\n"
     ]
    },
    {
     "output_type": "display_data",
     "data": {
      "text/plain": "   n_neighbors  p  chunk_size  train_time  inference_time   k  R2_score  \\\n0            5  2         600         0.0        0.023998   1  0.785048   \n1            5  2         600         0.0        0.023006   2  0.775452   \n2            5  2         600         0.0        0.023998   3  0.774916   \n3            5  2         600         0.0        0.023001   4  0.783267   \n4            5  2         600         0.0        0.023002   5  0.763784   \n5            5  2         600         0.0        0.021997   6  0.797125   \n6            5  2         600         0.0        0.023000   7  0.798300   \n7            5  2         600         0.0        0.023001   8  0.763411   \n8            5  2         600         0.0        0.022000   9  0.788514   \n9            5  2         600         0.0        0.022998  10  0.774185   \n\n        RMSE  D     N  n_test  n_train       MGE  \n0  27.826299  8  1232     616      616  0.004589  \n1  26.522792  8  1232     616      616  0.004234  \n2  28.791364  8  1232     616      616  0.004601  \n3  29.830325  8  1232     616      616  0.005040  \n4  31.424026  8  1232     616      616  0.005034  \n5  26.737403  8  1232     616      616  0.004425  \n6  27.387727  8  1232     616      616  0.004559  \n7  31.249545  8  1232     616      616  0.005175  \n8  28.904805  8  1232     616      616  0.004918  \n9  29.712013  8  1232     616      616  0.004895  ",
      "text/html": "<div>\n<style scoped>\n    .dataframe tbody tr th:only-of-type {\n        vertical-align: middle;\n    }\n\n    .dataframe tbody tr th {\n        vertical-align: top;\n    }\n\n    .dataframe thead th {\n        text-align: right;\n    }\n</style>\n<table border=\"1\" class=\"dataframe\">\n  <thead>\n    <tr style=\"text-align: right;\">\n      <th></th>\n      <th>n_neighbors</th>\n      <th>p</th>\n      <th>chunk_size</th>\n      <th>train_time</th>\n      <th>inference_time</th>\n      <th>k</th>\n      <th>R2_score</th>\n      <th>RMSE</th>\n      <th>D</th>\n      <th>N</th>\n      <th>n_test</th>\n      <th>n_train</th>\n      <th>MGE</th>\n    </tr>\n  </thead>\n  <tbody>\n    <tr>\n      <th>0</th>\n      <td>5</td>\n      <td>2</td>\n      <td>600</td>\n      <td>0.0</td>\n      <td>0.023998</td>\n      <td>1</td>\n      <td>0.785048</td>\n      <td>27.826299</td>\n      <td>8</td>\n      <td>1232</td>\n      <td>616</td>\n      <td>616</td>\n      <td>0.004589</td>\n    </tr>\n    <tr>\n      <th>1</th>\n      <td>5</td>\n      <td>2</td>\n      <td>600</td>\n      <td>0.0</td>\n      <td>0.023006</td>\n      <td>2</td>\n      <td>0.775452</td>\n      <td>26.522792</td>\n      <td>8</td>\n      <td>1232</td>\n      <td>616</td>\n      <td>616</td>\n      <td>0.004234</td>\n    </tr>\n    <tr>\n      <th>2</th>\n      <td>5</td>\n      <td>2</td>\n      <td>600</td>\n      <td>0.0</td>\n      <td>0.023998</td>\n      <td>3</td>\n      <td>0.774916</td>\n      <td>28.791364</td>\n      <td>8</td>\n      <td>1232</td>\n      <td>616</td>\n      <td>616</td>\n      <td>0.004601</td>\n    </tr>\n    <tr>\n      <th>3</th>\n      <td>5</td>\n      <td>2</td>\n      <td>600</td>\n      <td>0.0</td>\n      <td>0.023001</td>\n      <td>4</td>\n      <td>0.783267</td>\n      <td>29.830325</td>\n      <td>8</td>\n      <td>1232</td>\n      <td>616</td>\n      <td>616</td>\n      <td>0.005040</td>\n    </tr>\n    <tr>\n      <th>4</th>\n      <td>5</td>\n      <td>2</td>\n      <td>600</td>\n      <td>0.0</td>\n      <td>0.023002</td>\n      <td>5</td>\n      <td>0.763784</td>\n      <td>31.424026</td>\n      <td>8</td>\n      <td>1232</td>\n      <td>616</td>\n      <td>616</td>\n      <td>0.005034</td>\n    </tr>\n    <tr>\n      <th>5</th>\n      <td>5</td>\n      <td>2</td>\n      <td>600</td>\n      <td>0.0</td>\n      <td>0.021997</td>\n      <td>6</td>\n      <td>0.797125</td>\n      <td>26.737403</td>\n      <td>8</td>\n      <td>1232</td>\n      <td>616</td>\n      <td>616</td>\n      <td>0.004425</td>\n    </tr>\n    <tr>\n      <th>6</th>\n      <td>5</td>\n      <td>2</td>\n      <td>600</td>\n      <td>0.0</td>\n      <td>0.023000</td>\n      <td>7</td>\n      <td>0.798300</td>\n      <td>27.387727</td>\n      <td>8</td>\n      <td>1232</td>\n      <td>616</td>\n      <td>616</td>\n      <td>0.004559</td>\n    </tr>\n    <tr>\n      <th>7</th>\n      <td>5</td>\n      <td>2</td>\n      <td>600</td>\n      <td>0.0</td>\n      <td>0.023001</td>\n      <td>8</td>\n      <td>0.763411</td>\n      <td>31.249545</td>\n      <td>8</td>\n      <td>1232</td>\n      <td>616</td>\n      <td>616</td>\n      <td>0.005175</td>\n    </tr>\n    <tr>\n      <th>8</th>\n      <td>5</td>\n      <td>2</td>\n      <td>600</td>\n      <td>0.0</td>\n      <td>0.022000</td>\n      <td>9</td>\n      <td>0.788514</td>\n      <td>28.904805</td>\n      <td>8</td>\n      <td>1232</td>\n      <td>616</td>\n      <td>616</td>\n      <td>0.004918</td>\n    </tr>\n    <tr>\n      <th>9</th>\n      <td>5</td>\n      <td>2</td>\n      <td>600</td>\n      <td>0.0</td>\n      <td>0.022998</td>\n      <td>10</td>\n      <td>0.774185</td>\n      <td>29.712013</td>\n      <td>8</td>\n      <td>1232</td>\n      <td>616</td>\n      <td>616</td>\n      <td>0.004895</td>\n    </tr>\n  </tbody>\n</table>\n</div>"
     },
     "metadata": {}
    }
   ],
   "source": [
    "MODEL = KNNRegressor\n",
    "params = {\"n_neighbors\" : [10],\n",
    "           \"p\": [2],\n",
    "           \"chunk_size\": [600]}\n",
    "NAME = \"KNN\"\n",
    "PATH = \"out/\"+NAME+\"/\"\n",
    "\n",
    "#n_splits = 2\n",
    "modeltrainer = ModelTrainer(MODEL, params, X, Y, Variationerror = mean_gamma_deviance, NameOfError = \"MGE\", thread_cnt=1)\n",
    "########### train with TrainTestSplit  ###################\n",
    "modeltrainer.TTSplit(test_size = 0.5)\n",
    "modeltrainer.train()\n",
    "results = modeltrainer.retResults(PATH + f\"my_TTS_KNN_{mode}.csv\")\n",
    "display(results)\n",
    "############ shuffle_Cross validation  ###################\n",
    "modeltrainer.CV_shuffle_split(k = n_splits, test_size = 0.5, random_state = 42)\n",
    "results = modeltrainer.retResults(PATH + f\"my_CV_KNN_{mode}.csv\")\n",
    "display(results)"
   ]
  },
  {
   "source": [
    "## RF-Regression"
   ],
   "cell_type": "markdown",
   "metadata": {}
  },
  {
   "cell_type": "code",
   "execution_count": 92,
   "metadata": {},
   "outputs": [
    {
     "output_type": "stream",
     "name": "stdout",
     "text": [
      "Training all model variations took 0.1950s - holdout\n"
     ]
    },
    {
     "output_type": "display_data",
     "data": {
      "text/plain": "   n_estimators  train_time  inference_time  k  R2_score       RMSE  D     N  \\\n0           100    0.184997           0.009  0  0.846807  19.831416  8  1232   \n\n   n_test  n_train       MGE  \n0     616      616  0.003267  ",
      "text/html": "<div>\n<style scoped>\n    .dataframe tbody tr th:only-of-type {\n        vertical-align: middle;\n    }\n\n    .dataframe tbody tr th {\n        vertical-align: top;\n    }\n\n    .dataframe thead th {\n        text-align: right;\n    }\n</style>\n<table border=\"1\" class=\"dataframe\">\n  <thead>\n    <tr style=\"text-align: right;\">\n      <th></th>\n      <th>n_estimators</th>\n      <th>train_time</th>\n      <th>inference_time</th>\n      <th>k</th>\n      <th>R2_score</th>\n      <th>RMSE</th>\n      <th>D</th>\n      <th>N</th>\n      <th>n_test</th>\n      <th>n_train</th>\n      <th>MGE</th>\n    </tr>\n  </thead>\n  <tbody>\n    <tr>\n      <th>0</th>\n      <td>100</td>\n      <td>0.184997</td>\n      <td>0.009</td>\n      <td>0</td>\n      <td>0.846807</td>\n      <td>19.831416</td>\n      <td>8</td>\n      <td>1232</td>\n      <td>616</td>\n      <td>616</td>\n      <td>0.003267</td>\n    </tr>\n  </tbody>\n</table>\n</div>"
     },
     "metadata": {}
    },
    {
     "output_type": "stream",
     "name": "stdout",
     "text": [
      "Using CV with k=10 folds.\n",
      "Training all model variations took 0.1920s - CV fold # =1\n",
      "Training all model variations took 0.1950s - CV fold # =2\n",
      "Training all model variations took 0.1920s - CV fold # =3\n",
      "Training all model variations took 0.1940s - CV fold # =4\n",
      "Training all model variations took 0.1920s - CV fold # =5\n",
      "Training all model variations took 0.1930s - CV fold # =6\n",
      "Training all model variations took 0.1940s - CV fold # =7\n",
      "Training all model variations took 0.1910s - CV fold # =8\n",
      "Training all model variations took 0.1920s - CV fold # =9\n",
      "Training all model variations took 0.1910s - CV fold # =10\n"
     ]
    },
    {
     "output_type": "display_data",
     "data": {
      "text/plain": "   n_estimators  train_time  inference_time   k  R2_score       RMSE  D     N  \\\n0           100    0.181999        0.009999   1  0.847386  19.756484  8  1232   \n1           100    0.184999        0.009001   2  0.841231  18.753167  8  1232   \n2           100    0.182003        0.009007   3  0.848150  19.423698  8  1232   \n3           100    0.183991        0.009000   4  0.851640  20.419629  8  1232   \n4           100    0.182000        0.009000   5  0.843465  20.824019  8  1232   \n5           100    0.182997        0.009001   6  0.861276  18.282771  8  1232   \n6           100    0.184000        0.009000   7  0.855455  19.627069  8  1232   \n7           100    0.180996        0.009003   8  0.822955  23.384748  8  1232   \n8           100    0.182001        0.008998   9  0.847105  20.896924  8  1232   \n9           100    0.180999        0.009001  10  0.836570  21.503672  8  1232   \n\n   n_test  n_train       MGE  \n0     616      616  0.003244  \n1     616      616  0.002954  \n2     616      616  0.002987  \n3     616      616  0.003490  \n4     616      616  0.003317  \n5     616      616  0.002996  \n6     616      616  0.003327  \n7     616      616  0.003920  \n8     616      616  0.003544  \n9     616      616  0.003523  ",
      "text/html": "<div>\n<style scoped>\n    .dataframe tbody tr th:only-of-type {\n        vertical-align: middle;\n    }\n\n    .dataframe tbody tr th {\n        vertical-align: top;\n    }\n\n    .dataframe thead th {\n        text-align: right;\n    }\n</style>\n<table border=\"1\" class=\"dataframe\">\n  <thead>\n    <tr style=\"text-align: right;\">\n      <th></th>\n      <th>n_estimators</th>\n      <th>train_time</th>\n      <th>inference_time</th>\n      <th>k</th>\n      <th>R2_score</th>\n      <th>RMSE</th>\n      <th>D</th>\n      <th>N</th>\n      <th>n_test</th>\n      <th>n_train</th>\n      <th>MGE</th>\n    </tr>\n  </thead>\n  <tbody>\n    <tr>\n      <th>0</th>\n      <td>100</td>\n      <td>0.181999</td>\n      <td>0.009999</td>\n      <td>1</td>\n      <td>0.847386</td>\n      <td>19.756484</td>\n      <td>8</td>\n      <td>1232</td>\n      <td>616</td>\n      <td>616</td>\n      <td>0.003244</td>\n    </tr>\n    <tr>\n      <th>1</th>\n      <td>100</td>\n      <td>0.184999</td>\n      <td>0.009001</td>\n      <td>2</td>\n      <td>0.841231</td>\n      <td>18.753167</td>\n      <td>8</td>\n      <td>1232</td>\n      <td>616</td>\n      <td>616</td>\n      <td>0.002954</td>\n    </tr>\n    <tr>\n      <th>2</th>\n      <td>100</td>\n      <td>0.182003</td>\n      <td>0.009007</td>\n      <td>3</td>\n      <td>0.848150</td>\n      <td>19.423698</td>\n      <td>8</td>\n      <td>1232</td>\n      <td>616</td>\n      <td>616</td>\n      <td>0.002987</td>\n    </tr>\n    <tr>\n      <th>3</th>\n      <td>100</td>\n      <td>0.183991</td>\n      <td>0.009000</td>\n      <td>4</td>\n      <td>0.851640</td>\n      <td>20.419629</td>\n      <td>8</td>\n      <td>1232</td>\n      <td>616</td>\n      <td>616</td>\n      <td>0.003490</td>\n    </tr>\n    <tr>\n      <th>4</th>\n      <td>100</td>\n      <td>0.182000</td>\n      <td>0.009000</td>\n      <td>5</td>\n      <td>0.843465</td>\n      <td>20.824019</td>\n      <td>8</td>\n      <td>1232</td>\n      <td>616</td>\n      <td>616</td>\n      <td>0.003317</td>\n    </tr>\n    <tr>\n      <th>5</th>\n      <td>100</td>\n      <td>0.182997</td>\n      <td>0.009001</td>\n      <td>6</td>\n      <td>0.861276</td>\n      <td>18.282771</td>\n      <td>8</td>\n      <td>1232</td>\n      <td>616</td>\n      <td>616</td>\n      <td>0.002996</td>\n    </tr>\n    <tr>\n      <th>6</th>\n      <td>100</td>\n      <td>0.184000</td>\n      <td>0.009000</td>\n      <td>7</td>\n      <td>0.855455</td>\n      <td>19.627069</td>\n      <td>8</td>\n      <td>1232</td>\n      <td>616</td>\n      <td>616</td>\n      <td>0.003327</td>\n    </tr>\n    <tr>\n      <th>7</th>\n      <td>100</td>\n      <td>0.180996</td>\n      <td>0.009003</td>\n      <td>8</td>\n      <td>0.822955</td>\n      <td>23.384748</td>\n      <td>8</td>\n      <td>1232</td>\n      <td>616</td>\n      <td>616</td>\n      <td>0.003920</td>\n    </tr>\n    <tr>\n      <th>8</th>\n      <td>100</td>\n      <td>0.182001</td>\n      <td>0.008998</td>\n      <td>9</td>\n      <td>0.847105</td>\n      <td>20.896924</td>\n      <td>8</td>\n      <td>1232</td>\n      <td>616</td>\n      <td>616</td>\n      <td>0.003544</td>\n    </tr>\n    <tr>\n      <th>9</th>\n      <td>100</td>\n      <td>0.180999</td>\n      <td>0.009001</td>\n      <td>10</td>\n      <td>0.836570</td>\n      <td>21.503672</td>\n      <td>8</td>\n      <td>1232</td>\n      <td>616</td>\n      <td>616</td>\n      <td>0.003523</td>\n    </tr>\n  </tbody>\n</table>\n</div>"
     },
     "metadata": {}
    }
   ],
   "source": [
    "MODEL = RandomForestRegressor\n",
    "params = {\"n_estimators\" : [100]}\n",
    "NAME = \"RF\"\n",
    "PATH = \"out/\"+NAME+\"/\"\n",
    "\n",
    "\n",
    "#n_splits = 2\n",
    "modeltrainer = ModelTrainer(MODEL, params, X, Y, Variationerror = mean_gamma_deviance, NameOfError = \"MGE\", thread_cnt=1)\n",
    "########### train with TrainTestSplit  ###################\n",
    "modeltrainer.TTSplit(test_size = 0.5)\n",
    "modeltrainer.train()\n",
    "results = modeltrainer.retResults(PATH + f\"sklearn_TTS_RF_{mode}.csv\")\n",
    "display(results)\n",
    "############ shuffle_Cross validation  ###################\n",
    "modeltrainer.CV_shuffle_split(k = n_splits, test_size = 0.5, random_state = 42)\n",
    "results = modeltrainer.retResults(PATH + f\"sklearn_CV_RF_{mode}.csv\")\n",
    "display(results)"
   ]
  },
  {
   "source": [
    "## DT-Regression"
   ],
   "cell_type": "markdown",
   "metadata": {}
  },
  {
   "cell_type": "code",
   "execution_count": 93,
   "metadata": {},
   "outputs": [
    {
     "output_type": "stream",
     "name": "stdout",
     "text": [
      "Training all model variations took 0.0030s - holdout\n"
     ]
    },
    {
     "output_type": "display_data",
     "data": {
      "text/plain": "  criterion  train_time  inference_time  k  R2_score       RMSE  D     N  \\\n0       mse    0.003002             0.0  0  0.709155  37.650974  8  1232   \n\n   n_test  n_train       MGE  \n0     616      616  0.006106  ",
      "text/html": "<div>\n<style scoped>\n    .dataframe tbody tr th:only-of-type {\n        vertical-align: middle;\n    }\n\n    .dataframe tbody tr th {\n        vertical-align: top;\n    }\n\n    .dataframe thead th {\n        text-align: right;\n    }\n</style>\n<table border=\"1\" class=\"dataframe\">\n  <thead>\n    <tr style=\"text-align: right;\">\n      <th></th>\n      <th>criterion</th>\n      <th>train_time</th>\n      <th>inference_time</th>\n      <th>k</th>\n      <th>R2_score</th>\n      <th>RMSE</th>\n      <th>D</th>\n      <th>N</th>\n      <th>n_test</th>\n      <th>n_train</th>\n      <th>MGE</th>\n    </tr>\n  </thead>\n  <tbody>\n    <tr>\n      <th>0</th>\n      <td>mse</td>\n      <td>0.003002</td>\n      <td>0.0</td>\n      <td>0</td>\n      <td>0.709155</td>\n      <td>37.650974</td>\n      <td>8</td>\n      <td>1232</td>\n      <td>616</td>\n      <td>616</td>\n      <td>0.006106</td>\n    </tr>\n  </tbody>\n</table>\n</div>"
     },
     "metadata": {}
    },
    {
     "output_type": "stream",
     "name": "stdout",
     "text": [
      "Using CV with k=10 folds.\nTraining all model variations took 0.0030s - CV fold # =1\nTraining all model variations took 0.0020s - CV fold # =2\nTraining all model variations took 0.0020s - CV fold # =3\nTraining all model variations took 0.0030s - CV fold # =4\nTraining all model variations took 0.0030s - CV fold # =5\nTraining all model variations took 0.0030s - CV fold # =6\nTraining all model variations took 0.0020s - CV fold # =7\nTraining all model variations took 0.0020s - CV fold # =8\nTraining all model variations took 0.0020s - CV fold # =9\nTraining all model variations took 0.0020s - CV fold # =10\n"
     ]
    },
    {
     "output_type": "display_data",
     "data": {
      "text/plain": "  criterion  train_time  inference_time   k  R2_score       RMSE  D     N  \\\n0       mse    0.001998           0.000   1  0.708678  37.712662  8  1232   \n1       mse    0.002000           0.000   2  0.666092  39.439935  8  1232   \n2       mse    0.001997           0.000   3  0.718777  35.972403  8  1232   \n3       mse    0.002003           0.001   4  0.719982  38.540584  8  1232   \n4       mse    0.001997           0.000   5  0.728471  36.121753  8  1232   \n5       mse    0.001998           0.000   6  0.743842  33.759740  8  1232   \n6       mse    0.001998           0.000   7  0.708823  39.537338  8  1232   \n7       mse    0.002001           0.000   8  0.695428  40.228896  8  1232   \n8       mse    0.002000           0.000   9  0.697346  41.365260  8  1232   \n9       mse    0.001999           0.000  10  0.719413  36.918831  8  1232   \n\n   n_test  n_train       MGE  \n0     616      616  0.006187  \n1     616      616  0.006250  \n2     616      616  0.005833  \n3     616      616  0.006452  \n4     616      616  0.005785  \n5     616      616  0.005581  \n6     616      616  0.006818  \n7     616      616  0.006768  \n8     616      616  0.006716  \n9     616      616  0.006025  ",
      "text/html": "<div>\n<style scoped>\n    .dataframe tbody tr th:only-of-type {\n        vertical-align: middle;\n    }\n\n    .dataframe tbody tr th {\n        vertical-align: top;\n    }\n\n    .dataframe thead th {\n        text-align: right;\n    }\n</style>\n<table border=\"1\" class=\"dataframe\">\n  <thead>\n    <tr style=\"text-align: right;\">\n      <th></th>\n      <th>criterion</th>\n      <th>train_time</th>\n      <th>inference_time</th>\n      <th>k</th>\n      <th>R2_score</th>\n      <th>RMSE</th>\n      <th>D</th>\n      <th>N</th>\n      <th>n_test</th>\n      <th>n_train</th>\n      <th>MGE</th>\n    </tr>\n  </thead>\n  <tbody>\n    <tr>\n      <th>0</th>\n      <td>mse</td>\n      <td>0.001998</td>\n      <td>0.000</td>\n      <td>1</td>\n      <td>0.708678</td>\n      <td>37.712662</td>\n      <td>8</td>\n      <td>1232</td>\n      <td>616</td>\n      <td>616</td>\n      <td>0.006187</td>\n    </tr>\n    <tr>\n      <th>1</th>\n      <td>mse</td>\n      <td>0.002000</td>\n      <td>0.000</td>\n      <td>2</td>\n      <td>0.666092</td>\n      <td>39.439935</td>\n      <td>8</td>\n      <td>1232</td>\n      <td>616</td>\n      <td>616</td>\n      <td>0.006250</td>\n    </tr>\n    <tr>\n      <th>2</th>\n      <td>mse</td>\n      <td>0.001997</td>\n      <td>0.000</td>\n      <td>3</td>\n      <td>0.718777</td>\n      <td>35.972403</td>\n      <td>8</td>\n      <td>1232</td>\n      <td>616</td>\n      <td>616</td>\n      <td>0.005833</td>\n    </tr>\n    <tr>\n      <th>3</th>\n      <td>mse</td>\n      <td>0.002003</td>\n      <td>0.001</td>\n      <td>4</td>\n      <td>0.719982</td>\n      <td>38.540584</td>\n      <td>8</td>\n      <td>1232</td>\n      <td>616</td>\n      <td>616</td>\n      <td>0.006452</td>\n    </tr>\n    <tr>\n      <th>4</th>\n      <td>mse</td>\n      <td>0.001997</td>\n      <td>0.000</td>\n      <td>5</td>\n      <td>0.728471</td>\n      <td>36.121753</td>\n      <td>8</td>\n      <td>1232</td>\n      <td>616</td>\n      <td>616</td>\n      <td>0.005785</td>\n    </tr>\n    <tr>\n      <th>5</th>\n      <td>mse</td>\n      <td>0.001998</td>\n      <td>0.000</td>\n      <td>6</td>\n      <td>0.743842</td>\n      <td>33.759740</td>\n      <td>8</td>\n      <td>1232</td>\n      <td>616</td>\n      <td>616</td>\n      <td>0.005581</td>\n    </tr>\n    <tr>\n      <th>6</th>\n      <td>mse</td>\n      <td>0.001998</td>\n      <td>0.000</td>\n      <td>7</td>\n      <td>0.708823</td>\n      <td>39.537338</td>\n      <td>8</td>\n      <td>1232</td>\n      <td>616</td>\n      <td>616</td>\n      <td>0.006818</td>\n    </tr>\n    <tr>\n      <th>7</th>\n      <td>mse</td>\n      <td>0.002001</td>\n      <td>0.000</td>\n      <td>8</td>\n      <td>0.695428</td>\n      <td>40.228896</td>\n      <td>8</td>\n      <td>1232</td>\n      <td>616</td>\n      <td>616</td>\n      <td>0.006768</td>\n    </tr>\n    <tr>\n      <th>8</th>\n      <td>mse</td>\n      <td>0.002000</td>\n      <td>0.000</td>\n      <td>9</td>\n      <td>0.697346</td>\n      <td>41.365260</td>\n      <td>8</td>\n      <td>1232</td>\n      <td>616</td>\n      <td>616</td>\n      <td>0.006716</td>\n    </tr>\n    <tr>\n      <th>9</th>\n      <td>mse</td>\n      <td>0.001999</td>\n      <td>0.000</td>\n      <td>10</td>\n      <td>0.719413</td>\n      <td>36.918831</td>\n      <td>8</td>\n      <td>1232</td>\n      <td>616</td>\n      <td>616</td>\n      <td>0.006025</td>\n    </tr>\n  </tbody>\n</table>\n</div>"
     },
     "metadata": {}
    }
   ],
   "source": [
    "MODEL = DecisionTreeRegressor\n",
    "params = {\"criterion\": [\"mse\"]}\n",
    "NAME = \"DT\"\n",
    "PATH = \"out/\"+NAME+\"/\"\n",
    "\n",
    "\n",
    "modeltrainer = ModelTrainer(MODEL, params, X, Y, Variationerror = mean_gamma_deviance, NameOfError = \"MGE\", thread_cnt=1)\n",
    "########### train with TrainTestSplit  ###################\n",
    "modeltrainer.TTSplit(test_size = 0.5)\n",
    "modeltrainer.train()\n",
    "results = modeltrainer.retResults(PATH + f\"sklearn_TTS_DT_{mode}.csv\")\n",
    "display(results)\n",
    "############ shuffle_Cross validation  ###################\n",
    "modeltrainer.CV_shuffle_split(k = n_splits, test_size = 0.5, random_state = 42)\n",
    "results = modeltrainer.retResults(PATH + f\"sklearn_CV_DT_{mode}.csv\")\n",
    "display(results)"
   ]
  },
  {
   "cell_type": "code",
   "execution_count": null,
   "metadata": {},
   "outputs": [],
   "source": []
  }
 ]
}