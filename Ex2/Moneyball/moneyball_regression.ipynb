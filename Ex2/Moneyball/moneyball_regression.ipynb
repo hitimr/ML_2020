{
 "metadata": {
  "language_info": {
   "codemirror_mode": {
    "name": "ipython",
    "version": 3
   },
   "file_extension": ".py",
   "mimetype": "text/x-python",
   "name": "python",
   "nbconvert_exporter": "python",
   "pygments_lexer": "ipython3",
   "version": "3.7.5-final"
  },
  "orig_nbformat": 2,
  "kernelspec": {
   "name": "python37564bitb5f188b5fd4549769c9ea1e1a366fa0d",
   "display_name": "Python 3.7.5 64-bit"
  }
 },
 "nbformat": 4,
 "nbformat_minor": 2,
 "cells": [
  {
   "cell_type": "code",
   "execution_count": 1,
   "metadata": {},
   "outputs": [],
   "source": [
    "import pandas as pd\n",
    "import seaborn as sns\n",
    "import matplotlib.pyplot as plt\n",
    "import numpy as np\n",
    "from math import sqrt\n",
    "from math import log2\n",
    "from IPython.display import display\n",
    "%matplotlib inline\n",
    "\n",
    "from sklearn.metrics import r2_score\n",
    "from sklearn.metrics import mean_poisson_deviance\n",
    "from sklearn.metrics import mean_gamma_deviance\n",
    "from sklearn.metrics import median_absolute_error\n",
    "from sklearn.metrics import confusion_matrix\n",
    "import matplotlib.pyplot as plt\n",
    "from matplotlib.colors import ListedColormap\n",
    "from sklearn.pipeline import make_pipeline\n",
    "import time\n",
    "import matplotlib as mpl\n",
    "\n",
    "from sklearn.neighbors import KNeighborsRegressor\n",
    "from sklearn.linear_model import SGDRegressor\n",
    "from sklearn.ensemble import RandomForestRegressor\n",
    "from sklearn.tree import DecisionTreeRegressor\n",
    "\n",
    "\n",
    "\n",
    "from sklearn.preprocessing import StandardScaler,PowerTransformer,MinMaxScaler,QuantileTransformer,normalize\n",
    "from sklearn.model_selection import train_test_split, learning_curve, ShuffleSplit\n",
    "from sklearn.feature_selection import VarianceThreshold, SelectKBest\n",
    "from sklearn.model_selection import KFold\n",
    "from sklearn.decomposition import PCA\n",
    "from sklearn.feature_selection import SelectKBest\n",
    "from sklearn.feature_selection import chi2\n",
    "\n",
    "from sklearn.model_selection import train_test_split\n",
    "\n",
    "import pathlib\n",
    "import os\n",
    "import sys\n",
    "\n",
    "# for selection the right path\n",
    "import os,sys,inspect,pathlib\n",
    "currentdir = os.path.dirname(os.path.abspath(inspect.getfile(inspect.currentframe())))\n",
    "parentdir = os.path.dirname(currentdir)\n",
    "sys.path.insert(0,parentdir)\n",
    "\n",
    "from common.model_trainer_reg import *\n",
    "from common.regression_plotfunctions import *\n",
    "\n",
    "from GD.LinearRegression import LinearRegression\n",
    "from KNN.KNNRegressor import KNNRegressor\n",
    "\n",
    "import moneyball_preprocession\n"
   ]
  },
  {
   "cell_type": "code",
   "execution_count": 2,
   "metadata": {},
   "outputs": [
    {
     "output_type": "stream",
     "name": "stdout",
     "text": [
      "['/home/alexander/Dokumente/WS2020/MaschinLearning/ML_2020/Ex2', '/home/alexander/Dokumente/WS2020/MaschinLearning/ML_2020/Ex2', '/home/alexander/Dokumente/WS2020/MaschinLearning/ML_2020/Ex2', '/home/alexander/Dokumente/WS2020/MaschinLearning/ML_2020/Ex2', '/home/alexander/Dokumente/WS2020/MaschinLearning/ML_2020/Ex2/Moneyball', '', '/home/alexander/ngsuite/ngsolve-install/lib/python3/dist-packages', '/home/alexander/ngsuite/ngsolve-install/bin', '/home/alexander/.local/bin', '/usr/local/sbin', '/usr/local/bin', '/usr/sbin', '/usr/bin', '/sbin', '/bin', '/usr/games', '/usr/local/games', '/snap/bin', '/home/alexander/.vscode/extensions/ms-toolsai.jupyter-2020.11.399280825/pythonFiles', '/home/alexander/.vscode/extensions/ms-toolsai.jupyter-2020.11.399280825/pythonFiles/lib/python', '/usr/lib/python37.zip', '/usr/lib/python3.7', '/usr/lib/python3.7/lib-dynload', '/home/alexander/.local/lib/python3.7/site-packages', '/usr/local/lib/python3.7/dist-packages', '/usr/lib/python3/dist-packages', '/home/alexander/.local/lib/python3.7/site-packages/IPython/extensions', '/home/alexander/.ipython']\n"
     ]
    }
   ],
   "source": [
    "# Custom functions\n",
    "\n",
    "module_path = pathlib.Path(os.getcwd()).parent\n",
    "if str(module_path) not in sys.path:\n",
    "    sys.path.append(str(module_path))\n",
    "print(sys.path)\n",
    "\n",
    "from common.dataset_grabber import get_data_path"
   ]
  },
  {
   "cell_type": "code",
   "execution_count": 3,
   "metadata": {},
   "outputs": [
    {
     "output_type": "display_data",
     "data": {
      "text/plain": "PosixPath('/home/alexander/Dokumente/WS2020/MaschinLearning/ML_2020/Ex2/Datasets/Moneyball/baseball.csv')"
     },
     "metadata": {}
    }
   ],
   "source": [
    "datapath = get_data_path(\"Moneyball\", \"baseball.csv\")\n",
    "display(datapath)"
   ]
  },
  {
   "cell_type": "code",
   "execution_count": 4,
   "metadata": {},
   "outputs": [],
   "source": [
    "df_raw = pd.read_csv(datapath)"
   ]
  },
  {
   "source": [
    "# Train and Test"
   ],
   "cell_type": "markdown",
   "metadata": {}
  },
  {
   "cell_type": "code",
   "execution_count": 5,
   "metadata": {},
   "outputs": [],
   "source": [
    "X, Y = moneyball_preprocession.preprocessing(df_raw, drop_missing_values=False)"
   ]
  },
  {
   "source": [
    "## SGD-Regression"
   ],
   "cell_type": "markdown",
   "metadata": {}
  },
  {
   "cell_type": "code",
   "execution_count": 9,
   "metadata": {},
   "outputs": [
    {
     "output_type": "display_data",
     "data": {
      "text/plain": "   alpha  max_iter  train_time  inference_time  R2_score       RMSE  D     N  \\\n0  0.001      1000    0.005934        0.000392  0.876040  16.047118  4  1232   \n1  0.001     10000    0.006367        0.000306  0.876574  15.977959  4  1232   \n2  0.001      1000    0.006782        0.000307  0.876400  16.000429  4  1232   \n3  0.001     10000    0.003631        0.000317  0.876315  16.011475  4  1232   \n\n   n_test  n_train       MGE  \n0     616      616  0.002726  \n1     616      616  0.002710  \n2     616      616  0.002715  \n3     616      616  0.002721  ",
      "text/html": "<div>\n<style scoped>\n    .dataframe tbody tr th:only-of-type {\n        vertical-align: middle;\n    }\n\n    .dataframe tbody tr th {\n        vertical-align: top;\n    }\n\n    .dataframe thead th {\n        text-align: right;\n    }\n</style>\n<table border=\"1\" class=\"dataframe\">\n  <thead>\n    <tr style=\"text-align: right;\">\n      <th></th>\n      <th>alpha</th>\n      <th>max_iter</th>\n      <th>train_time</th>\n      <th>inference_time</th>\n      <th>R2_score</th>\n      <th>RMSE</th>\n      <th>D</th>\n      <th>N</th>\n      <th>n_test</th>\n      <th>n_train</th>\n      <th>MGE</th>\n    </tr>\n  </thead>\n  <tbody>\n    <tr>\n      <th>0</th>\n      <td>0.001</td>\n      <td>1000</td>\n      <td>0.005934</td>\n      <td>0.000392</td>\n      <td>0.876040</td>\n      <td>16.047118</td>\n      <td>4</td>\n      <td>1232</td>\n      <td>616</td>\n      <td>616</td>\n      <td>0.002726</td>\n    </tr>\n    <tr>\n      <th>1</th>\n      <td>0.001</td>\n      <td>10000</td>\n      <td>0.006367</td>\n      <td>0.000306</td>\n      <td>0.876574</td>\n      <td>15.977959</td>\n      <td>4</td>\n      <td>1232</td>\n      <td>616</td>\n      <td>616</td>\n      <td>0.002710</td>\n    </tr>\n    <tr>\n      <th>2</th>\n      <td>0.001</td>\n      <td>1000</td>\n      <td>0.006782</td>\n      <td>0.000307</td>\n      <td>0.876400</td>\n      <td>16.000429</td>\n      <td>4</td>\n      <td>1232</td>\n      <td>616</td>\n      <td>616</td>\n      <td>0.002715</td>\n    </tr>\n    <tr>\n      <th>3</th>\n      <td>0.001</td>\n      <td>10000</td>\n      <td>0.003631</td>\n      <td>0.000317</td>\n      <td>0.876315</td>\n      <td>16.011475</td>\n      <td>4</td>\n      <td>1232</td>\n      <td>616</td>\n      <td>616</td>\n      <td>0.002721</td>\n    </tr>\n  </tbody>\n</table>\n</div>"
     },
     "metadata": {}
    },
    {
     "output_type": "display_data",
     "data": {
      "text/plain": "   alpha  max_iter  train_time  inference_time  k  R2_score       RMSE  D  \\\n0  0.001      1000    0.005127        0.000238  1  0.876460  15.992764  4   \n1  0.001     10000    0.005347        0.000259  1  0.876214  16.024614  4   \n2  0.001      1000    0.005672        0.000192  1  0.876315  16.011463  4   \n3  0.001     10000    0.002173        0.000133  1  0.876488  15.989029  4   \n4  0.001      1000    0.002581        0.000184  2  0.868856  15.490295  4   \n5  0.001     10000    0.002679        0.000180  2  0.869130  15.457825  4   \n6  0.001      1000    0.003615        0.000278  2  0.869148  15.455786  4   \n7  0.001     10000    0.003729        0.000232  2  0.869198  15.449810  4   \n\n      N  n_test  n_train       MGE  \n0  1232     616      616  0.002713  \n1  1232     616      616  0.002722  \n2  1232     616      616  0.002718  \n3  1232     616      616  0.002716  \n4  1232     616      616  0.002510  \n5  1232     616      616  0.002506  \n6  1232     616      616  0.002504  \n7  1232     616      616  0.002503  ",
      "text/html": "<div>\n<style scoped>\n    .dataframe tbody tr th:only-of-type {\n        vertical-align: middle;\n    }\n\n    .dataframe tbody tr th {\n        vertical-align: top;\n    }\n\n    .dataframe thead th {\n        text-align: right;\n    }\n</style>\n<table border=\"1\" class=\"dataframe\">\n  <thead>\n    <tr style=\"text-align: right;\">\n      <th></th>\n      <th>alpha</th>\n      <th>max_iter</th>\n      <th>train_time</th>\n      <th>inference_time</th>\n      <th>k</th>\n      <th>R2_score</th>\n      <th>RMSE</th>\n      <th>D</th>\n      <th>N</th>\n      <th>n_test</th>\n      <th>n_train</th>\n      <th>MGE</th>\n    </tr>\n  </thead>\n  <tbody>\n    <tr>\n      <th>0</th>\n      <td>0.001</td>\n      <td>1000</td>\n      <td>0.005127</td>\n      <td>0.000238</td>\n      <td>1</td>\n      <td>0.876460</td>\n      <td>15.992764</td>\n      <td>4</td>\n      <td>1232</td>\n      <td>616</td>\n      <td>616</td>\n      <td>0.002713</td>\n    </tr>\n    <tr>\n      <th>1</th>\n      <td>0.001</td>\n      <td>10000</td>\n      <td>0.005347</td>\n      <td>0.000259</td>\n      <td>1</td>\n      <td>0.876214</td>\n      <td>16.024614</td>\n      <td>4</td>\n      <td>1232</td>\n      <td>616</td>\n      <td>616</td>\n      <td>0.002722</td>\n    </tr>\n    <tr>\n      <th>2</th>\n      <td>0.001</td>\n      <td>1000</td>\n      <td>0.005672</td>\n      <td>0.000192</td>\n      <td>1</td>\n      <td>0.876315</td>\n      <td>16.011463</td>\n      <td>4</td>\n      <td>1232</td>\n      <td>616</td>\n      <td>616</td>\n      <td>0.002718</td>\n    </tr>\n    <tr>\n      <th>3</th>\n      <td>0.001</td>\n      <td>10000</td>\n      <td>0.002173</td>\n      <td>0.000133</td>\n      <td>1</td>\n      <td>0.876488</td>\n      <td>15.989029</td>\n      <td>4</td>\n      <td>1232</td>\n      <td>616</td>\n      <td>616</td>\n      <td>0.002716</td>\n    </tr>\n    <tr>\n      <th>4</th>\n      <td>0.001</td>\n      <td>1000</td>\n      <td>0.002581</td>\n      <td>0.000184</td>\n      <td>2</td>\n      <td>0.868856</td>\n      <td>15.490295</td>\n      <td>4</td>\n      <td>1232</td>\n      <td>616</td>\n      <td>616</td>\n      <td>0.002510</td>\n    </tr>\n    <tr>\n      <th>5</th>\n      <td>0.001</td>\n      <td>10000</td>\n      <td>0.002679</td>\n      <td>0.000180</td>\n      <td>2</td>\n      <td>0.869130</td>\n      <td>15.457825</td>\n      <td>4</td>\n      <td>1232</td>\n      <td>616</td>\n      <td>616</td>\n      <td>0.002506</td>\n    </tr>\n    <tr>\n      <th>6</th>\n      <td>0.001</td>\n      <td>1000</td>\n      <td>0.003615</td>\n      <td>0.000278</td>\n      <td>2</td>\n      <td>0.869148</td>\n      <td>15.455786</td>\n      <td>4</td>\n      <td>1232</td>\n      <td>616</td>\n      <td>616</td>\n      <td>0.002504</td>\n    </tr>\n    <tr>\n      <th>7</th>\n      <td>0.001</td>\n      <td>10000</td>\n      <td>0.003729</td>\n      <td>0.000232</td>\n      <td>2</td>\n      <td>0.869198</td>\n      <td>15.449810</td>\n      <td>4</td>\n      <td>1232</td>\n      <td>616</td>\n      <td>616</td>\n      <td>0.002503</td>\n    </tr>\n  </tbody>\n</table>\n</div>"
     },
     "metadata": {}
    }
   ],
   "source": [
    "MODEL = SGDRegressor\n",
    "NAME = \"SGD\"\n",
    "PATH = \"out/\"+NAME+\"/\"\n",
    "params = {\"alpha\" : [0.001,0.001],\n",
    "          \"max_iter\" : [1000,10000]}\n",
    "\n",
    "n_splits = 2\n",
    "modeltrainer = ModelTrainer(MODEL, params, X, Y, Variationerror = mean_gamma_deviance, NameOfError = \"MGE\", thread_cnt=1)\n",
    "########### train with TrainTestSplit  ###################\n",
    "modeltrainer.TTSplit(test_size = 0.5)\n",
    "modeltrainer.train()\n",
    "results = modeltrainer.retResults(PATH + \"sklearn_TTS_SGD.csv\")\n",
    "display(results)\n",
    "############ shuffle_Cross validation  ###################\n",
    "modeltrainer.CV_shuffle_split(k = n_splits, test_size = 0.5, random_state = 42)\n",
    "results = modeltrainer.retResults(PATH + \"sklearn_CV_SGD.csv\")\n",
    "display(results)\n",
    "\n",
    "\n"
   ]
  },
  {
   "source": [
    "## My SGD-Regression"
   ],
   "cell_type": "markdown",
   "metadata": {}
  },
  {
   "cell_type": "code",
   "execution_count": 10,
   "metadata": {},
   "outputs": [
    {
     "output_type": "display_data",
     "data": {
      "text/plain": "   alpha  max_iter  train_time  inference_time  R2_score       RMSE  D     N  \\\n0  0.001      1000    0.035682        0.000025  0.875578  16.106947  4  1232   \n1  0.001     10000    0.263907        0.000040  0.875562  16.108963  4  1232   \n2  0.001    100000    2.650922        0.000024  0.875562  16.108963  4  1232   \n3  0.001      1000    0.024448        0.000024  0.875578  16.106947  4  1232   \n4  0.001     10000    0.248890        0.000025  0.875562  16.108963  4  1232   \n5  0.001    100000    2.560990        0.000024  0.875562  16.108963  4  1232   \n\n   n_test  n_train       MGE  \n0     616      616  0.002735  \n1     616      616  0.002736  \n2     616      616  0.002736  \n3     616      616  0.002735  \n4     616      616  0.002736  \n5     616      616  0.002736  ",
      "text/html": "<div>\n<style scoped>\n    .dataframe tbody tr th:only-of-type {\n        vertical-align: middle;\n    }\n\n    .dataframe tbody tr th {\n        vertical-align: top;\n    }\n\n    .dataframe thead th {\n        text-align: right;\n    }\n</style>\n<table border=\"1\" class=\"dataframe\">\n  <thead>\n    <tr style=\"text-align: right;\">\n      <th></th>\n      <th>alpha</th>\n      <th>max_iter</th>\n      <th>train_time</th>\n      <th>inference_time</th>\n      <th>R2_score</th>\n      <th>RMSE</th>\n      <th>D</th>\n      <th>N</th>\n      <th>n_test</th>\n      <th>n_train</th>\n      <th>MGE</th>\n    </tr>\n  </thead>\n  <tbody>\n    <tr>\n      <th>0</th>\n      <td>0.001</td>\n      <td>1000</td>\n      <td>0.035682</td>\n      <td>0.000025</td>\n      <td>0.875578</td>\n      <td>16.106947</td>\n      <td>4</td>\n      <td>1232</td>\n      <td>616</td>\n      <td>616</td>\n      <td>0.002735</td>\n    </tr>\n    <tr>\n      <th>1</th>\n      <td>0.001</td>\n      <td>10000</td>\n      <td>0.263907</td>\n      <td>0.000040</td>\n      <td>0.875562</td>\n      <td>16.108963</td>\n      <td>4</td>\n      <td>1232</td>\n      <td>616</td>\n      <td>616</td>\n      <td>0.002736</td>\n    </tr>\n    <tr>\n      <th>2</th>\n      <td>0.001</td>\n      <td>100000</td>\n      <td>2.650922</td>\n      <td>0.000024</td>\n      <td>0.875562</td>\n      <td>16.108963</td>\n      <td>4</td>\n      <td>1232</td>\n      <td>616</td>\n      <td>616</td>\n      <td>0.002736</td>\n    </tr>\n    <tr>\n      <th>3</th>\n      <td>0.001</td>\n      <td>1000</td>\n      <td>0.024448</td>\n      <td>0.000024</td>\n      <td>0.875578</td>\n      <td>16.106947</td>\n      <td>4</td>\n      <td>1232</td>\n      <td>616</td>\n      <td>616</td>\n      <td>0.002735</td>\n    </tr>\n    <tr>\n      <th>4</th>\n      <td>0.001</td>\n      <td>10000</td>\n      <td>0.248890</td>\n      <td>0.000025</td>\n      <td>0.875562</td>\n      <td>16.108963</td>\n      <td>4</td>\n      <td>1232</td>\n      <td>616</td>\n      <td>616</td>\n      <td>0.002736</td>\n    </tr>\n    <tr>\n      <th>5</th>\n      <td>0.001</td>\n      <td>100000</td>\n      <td>2.560990</td>\n      <td>0.000024</td>\n      <td>0.875562</td>\n      <td>16.108963</td>\n      <td>4</td>\n      <td>1232</td>\n      <td>616</td>\n      <td>616</td>\n      <td>0.002736</td>\n    </tr>\n  </tbody>\n</table>\n</div>"
     },
     "metadata": {}
    },
    {
     "output_type": "display_data",
     "data": {
      "text/plain": "    alpha  max_iter  train_time  inference_time  k  R2_score       RMSE  D  \\\n0   0.001      1000    0.029226        0.000024  1  0.875578  16.106947  4   \n1   0.001     10000    0.262475        0.000024  1  0.875562  16.108963  4   \n2   0.001    100000    2.623100        0.000024  1  0.875562  16.108963  4   \n3   0.001      1000    0.029461        0.000033  1  0.875578  16.106947  4   \n4   0.001     10000    0.288127        0.000025  1  0.875562  16.108963  4   \n5   0.001    100000    2.476422        0.000024  1  0.875562  16.108963  4   \n6   0.001      1000    0.024036        0.000022  2  0.870292  15.320653  4   \n7   0.001     10000    0.245291        0.000023  2  0.870294  15.320330  4   \n8   0.001    100000    2.660519        0.000024  2  0.870294  15.320330  4   \n9   0.001      1000    0.027864        0.000024  2  0.870292  15.320653  4   \n10  0.001     10000    0.261610        0.000024  2  0.870294  15.320330  4   \n11  0.001    100000    2.637419        0.000024  2  0.870294  15.320330  4   \n\n       N  n_test  n_train       MGE  \n0   1232     616      616  0.002735  \n1   1232     616      616  0.002736  \n2   1232     616      616  0.002736  \n3   1232     616      616  0.002735  \n4   1232     616      616  0.002736  \n5   1232     616      616  0.002736  \n6   1232     616      616  0.002480  \n7   1232     616      616  0.002480  \n8   1232     616      616  0.002480  \n9   1232     616      616  0.002480  \n10  1232     616      616  0.002480  \n11  1232     616      616  0.002480  ",
      "text/html": "<div>\n<style scoped>\n    .dataframe tbody tr th:only-of-type {\n        vertical-align: middle;\n    }\n\n    .dataframe tbody tr th {\n        vertical-align: top;\n    }\n\n    .dataframe thead th {\n        text-align: right;\n    }\n</style>\n<table border=\"1\" class=\"dataframe\">\n  <thead>\n    <tr style=\"text-align: right;\">\n      <th></th>\n      <th>alpha</th>\n      <th>max_iter</th>\n      <th>train_time</th>\n      <th>inference_time</th>\n      <th>k</th>\n      <th>R2_score</th>\n      <th>RMSE</th>\n      <th>D</th>\n      <th>N</th>\n      <th>n_test</th>\n      <th>n_train</th>\n      <th>MGE</th>\n    </tr>\n  </thead>\n  <tbody>\n    <tr>\n      <th>0</th>\n      <td>0.001</td>\n      <td>1000</td>\n      <td>0.029226</td>\n      <td>0.000024</td>\n      <td>1</td>\n      <td>0.875578</td>\n      <td>16.106947</td>\n      <td>4</td>\n      <td>1232</td>\n      <td>616</td>\n      <td>616</td>\n      <td>0.002735</td>\n    </tr>\n    <tr>\n      <th>1</th>\n      <td>0.001</td>\n      <td>10000</td>\n      <td>0.262475</td>\n      <td>0.000024</td>\n      <td>1</td>\n      <td>0.875562</td>\n      <td>16.108963</td>\n      <td>4</td>\n      <td>1232</td>\n      <td>616</td>\n      <td>616</td>\n      <td>0.002736</td>\n    </tr>\n    <tr>\n      <th>2</th>\n      <td>0.001</td>\n      <td>100000</td>\n      <td>2.623100</td>\n      <td>0.000024</td>\n      <td>1</td>\n      <td>0.875562</td>\n      <td>16.108963</td>\n      <td>4</td>\n      <td>1232</td>\n      <td>616</td>\n      <td>616</td>\n      <td>0.002736</td>\n    </tr>\n    <tr>\n      <th>3</th>\n      <td>0.001</td>\n      <td>1000</td>\n      <td>0.029461</td>\n      <td>0.000033</td>\n      <td>1</td>\n      <td>0.875578</td>\n      <td>16.106947</td>\n      <td>4</td>\n      <td>1232</td>\n      <td>616</td>\n      <td>616</td>\n      <td>0.002735</td>\n    </tr>\n    <tr>\n      <th>4</th>\n      <td>0.001</td>\n      <td>10000</td>\n      <td>0.288127</td>\n      <td>0.000025</td>\n      <td>1</td>\n      <td>0.875562</td>\n      <td>16.108963</td>\n      <td>4</td>\n      <td>1232</td>\n      <td>616</td>\n      <td>616</td>\n      <td>0.002736</td>\n    </tr>\n    <tr>\n      <th>5</th>\n      <td>0.001</td>\n      <td>100000</td>\n      <td>2.476422</td>\n      <td>0.000024</td>\n      <td>1</td>\n      <td>0.875562</td>\n      <td>16.108963</td>\n      <td>4</td>\n      <td>1232</td>\n      <td>616</td>\n      <td>616</td>\n      <td>0.002736</td>\n    </tr>\n    <tr>\n      <th>6</th>\n      <td>0.001</td>\n      <td>1000</td>\n      <td>0.024036</td>\n      <td>0.000022</td>\n      <td>2</td>\n      <td>0.870292</td>\n      <td>15.320653</td>\n      <td>4</td>\n      <td>1232</td>\n      <td>616</td>\n      <td>616</td>\n      <td>0.002480</td>\n    </tr>\n    <tr>\n      <th>7</th>\n      <td>0.001</td>\n      <td>10000</td>\n      <td>0.245291</td>\n      <td>0.000023</td>\n      <td>2</td>\n      <td>0.870294</td>\n      <td>15.320330</td>\n      <td>4</td>\n      <td>1232</td>\n      <td>616</td>\n      <td>616</td>\n      <td>0.002480</td>\n    </tr>\n    <tr>\n      <th>8</th>\n      <td>0.001</td>\n      <td>100000</td>\n      <td>2.660519</td>\n      <td>0.000024</td>\n      <td>2</td>\n      <td>0.870294</td>\n      <td>15.320330</td>\n      <td>4</td>\n      <td>1232</td>\n      <td>616</td>\n      <td>616</td>\n      <td>0.002480</td>\n    </tr>\n    <tr>\n      <th>9</th>\n      <td>0.001</td>\n      <td>1000</td>\n      <td>0.027864</td>\n      <td>0.000024</td>\n      <td>2</td>\n      <td>0.870292</td>\n      <td>15.320653</td>\n      <td>4</td>\n      <td>1232</td>\n      <td>616</td>\n      <td>616</td>\n      <td>0.002480</td>\n    </tr>\n    <tr>\n      <th>10</th>\n      <td>0.001</td>\n      <td>10000</td>\n      <td>0.261610</td>\n      <td>0.000024</td>\n      <td>2</td>\n      <td>0.870294</td>\n      <td>15.320330</td>\n      <td>4</td>\n      <td>1232</td>\n      <td>616</td>\n      <td>616</td>\n      <td>0.002480</td>\n    </tr>\n    <tr>\n      <th>11</th>\n      <td>0.001</td>\n      <td>100000</td>\n      <td>2.637419</td>\n      <td>0.000024</td>\n      <td>2</td>\n      <td>0.870294</td>\n      <td>15.320330</td>\n      <td>4</td>\n      <td>1232</td>\n      <td>616</td>\n      <td>616</td>\n      <td>0.002480</td>\n    </tr>\n  </tbody>\n</table>\n</div>"
     },
     "metadata": {}
    }
   ],
   "source": [
    "MODEL = LinearRegression\n",
    "params = {\"alpha\" : [0.001,0.001],\n",
    "          \"max_iter\" : [1000,10000,100000]}\n",
    "n_splits = 2\n",
    "modeltrainer = ModelTrainer(MODEL, params, X, Y, Variationerror = mean_gamma_deviance, NameOfError = \"MGE\", thread_cnt=1)\n",
    "########### train with TrainTestSplit  ###################\n",
    "modeltrainer.TTSplit(test_size = 0.5)\n",
    "modeltrainer.train()\n",
    "results = modeltrainer.retResults(PATH + \"my_TTS_SGD.csv\")\n",
    "display(results)\n",
    "############ shuffle_Cross validation  ###################\n",
    "modeltrainer.CV_shuffle_split(k = n_splits, test_size = 0.5, random_state = 42)\n",
    "results = modeltrainer.retResults(PATH + \"my_CV_SGD.csv\")\n",
    "display(results)"
   ]
  },
  {
   "source": [
    "## KNN-Regression"
   ],
   "cell_type": "markdown",
   "metadata": {}
  },
  {
   "cell_type": "code",
   "execution_count": 11,
   "metadata": {},
   "outputs": [
    {
     "output_type": "display_data",
     "data": {
      "text/plain": "   n_neighbors  weights  algorithm  train_time  inference_time  R2_score  \\\n0            5  uniform      brute    0.000512        0.022315  0.785048   \n1            5  uniform    kd_tree    0.001545        0.025078  0.785048   \n2            5  uniform  ball_tree    0.005942        0.017949  0.785048   \n\n        RMSE  D     N  n_test  n_train       MGE  \n0  27.826299  4  1232     616      616  0.004589  \n1  27.826299  4  1232     616      616  0.004589  \n2  27.826299  4  1232     616      616  0.004589  ",
      "text/html": "<div>\n<style scoped>\n    .dataframe tbody tr th:only-of-type {\n        vertical-align: middle;\n    }\n\n    .dataframe tbody tr th {\n        vertical-align: top;\n    }\n\n    .dataframe thead th {\n        text-align: right;\n    }\n</style>\n<table border=\"1\" class=\"dataframe\">\n  <thead>\n    <tr style=\"text-align: right;\">\n      <th></th>\n      <th>n_neighbors</th>\n      <th>weights</th>\n      <th>algorithm</th>\n      <th>train_time</th>\n      <th>inference_time</th>\n      <th>R2_score</th>\n      <th>RMSE</th>\n      <th>D</th>\n      <th>N</th>\n      <th>n_test</th>\n      <th>n_train</th>\n      <th>MGE</th>\n    </tr>\n  </thead>\n  <tbody>\n    <tr>\n      <th>0</th>\n      <td>5</td>\n      <td>uniform</td>\n      <td>brute</td>\n      <td>0.000512</td>\n      <td>0.022315</td>\n      <td>0.785048</td>\n      <td>27.826299</td>\n      <td>4</td>\n      <td>1232</td>\n      <td>616</td>\n      <td>616</td>\n      <td>0.004589</td>\n    </tr>\n    <tr>\n      <th>1</th>\n      <td>5</td>\n      <td>uniform</td>\n      <td>kd_tree</td>\n      <td>0.001545</td>\n      <td>0.025078</td>\n      <td>0.785048</td>\n      <td>27.826299</td>\n      <td>4</td>\n      <td>1232</td>\n      <td>616</td>\n      <td>616</td>\n      <td>0.004589</td>\n    </tr>\n    <tr>\n      <th>2</th>\n      <td>5</td>\n      <td>uniform</td>\n      <td>ball_tree</td>\n      <td>0.005942</td>\n      <td>0.017949</td>\n      <td>0.785048</td>\n      <td>27.826299</td>\n      <td>4</td>\n      <td>1232</td>\n      <td>616</td>\n      <td>616</td>\n      <td>0.004589</td>\n    </tr>\n  </tbody>\n</table>\n</div>"
     },
     "metadata": {}
    },
    {
     "output_type": "display_data",
     "data": {
      "text/plain": "   n_neighbors  weights  algorithm  train_time  inference_time  k  R2_score  \\\n0            5  uniform      brute    0.000415        0.028895  1  0.785048   \n1            5  uniform    kd_tree    0.001218        0.013817  1  0.785048   \n2            5  uniform  ball_tree    0.001405        0.011285  1  0.785048   \n3            5  uniform      brute    0.000426        0.013025  2  0.775452   \n4            5  uniform    kd_tree    0.001511        0.011498  2  0.775452   \n5            5  uniform  ball_tree    0.004114        0.010960  2  0.775452   \n\n        RMSE  D     N  n_test  n_train       MGE  \n0  27.826299  4  1232     616      616  0.004589  \n1  27.826299  4  1232     616      616  0.004589  \n2  27.826299  4  1232     616      616  0.004589  \n3  26.522792  4  1232     616      616  0.004234  \n4  26.522792  4  1232     616      616  0.004234  \n5  26.522792  4  1232     616      616  0.004234  ",
      "text/html": "<div>\n<style scoped>\n    .dataframe tbody tr th:only-of-type {\n        vertical-align: middle;\n    }\n\n    .dataframe tbody tr th {\n        vertical-align: top;\n    }\n\n    .dataframe thead th {\n        text-align: right;\n    }\n</style>\n<table border=\"1\" class=\"dataframe\">\n  <thead>\n    <tr style=\"text-align: right;\">\n      <th></th>\n      <th>n_neighbors</th>\n      <th>weights</th>\n      <th>algorithm</th>\n      <th>train_time</th>\n      <th>inference_time</th>\n      <th>k</th>\n      <th>R2_score</th>\n      <th>RMSE</th>\n      <th>D</th>\n      <th>N</th>\n      <th>n_test</th>\n      <th>n_train</th>\n      <th>MGE</th>\n    </tr>\n  </thead>\n  <tbody>\n    <tr>\n      <th>0</th>\n      <td>5</td>\n      <td>uniform</td>\n      <td>brute</td>\n      <td>0.000415</td>\n      <td>0.028895</td>\n      <td>1</td>\n      <td>0.785048</td>\n      <td>27.826299</td>\n      <td>4</td>\n      <td>1232</td>\n      <td>616</td>\n      <td>616</td>\n      <td>0.004589</td>\n    </tr>\n    <tr>\n      <th>1</th>\n      <td>5</td>\n      <td>uniform</td>\n      <td>kd_tree</td>\n      <td>0.001218</td>\n      <td>0.013817</td>\n      <td>1</td>\n      <td>0.785048</td>\n      <td>27.826299</td>\n      <td>4</td>\n      <td>1232</td>\n      <td>616</td>\n      <td>616</td>\n      <td>0.004589</td>\n    </tr>\n    <tr>\n      <th>2</th>\n      <td>5</td>\n      <td>uniform</td>\n      <td>ball_tree</td>\n      <td>0.001405</td>\n      <td>0.011285</td>\n      <td>1</td>\n      <td>0.785048</td>\n      <td>27.826299</td>\n      <td>4</td>\n      <td>1232</td>\n      <td>616</td>\n      <td>616</td>\n      <td>0.004589</td>\n    </tr>\n    <tr>\n      <th>3</th>\n      <td>5</td>\n      <td>uniform</td>\n      <td>brute</td>\n      <td>0.000426</td>\n      <td>0.013025</td>\n      <td>2</td>\n      <td>0.775452</td>\n      <td>26.522792</td>\n      <td>4</td>\n      <td>1232</td>\n      <td>616</td>\n      <td>616</td>\n      <td>0.004234</td>\n    </tr>\n    <tr>\n      <th>4</th>\n      <td>5</td>\n      <td>uniform</td>\n      <td>kd_tree</td>\n      <td>0.001511</td>\n      <td>0.011498</td>\n      <td>2</td>\n      <td>0.775452</td>\n      <td>26.522792</td>\n      <td>4</td>\n      <td>1232</td>\n      <td>616</td>\n      <td>616</td>\n      <td>0.004234</td>\n    </tr>\n    <tr>\n      <th>5</th>\n      <td>5</td>\n      <td>uniform</td>\n      <td>ball_tree</td>\n      <td>0.004114</td>\n      <td>0.010960</td>\n      <td>2</td>\n      <td>0.775452</td>\n      <td>26.522792</td>\n      <td>4</td>\n      <td>1232</td>\n      <td>616</td>\n      <td>616</td>\n      <td>0.004234</td>\n    </tr>\n  </tbody>\n</table>\n</div>"
     },
     "metadata": {}
    }
   ],
   "source": [
    "MODEL = KNeighborsRegressor\n",
    "params = {\"n_neighbors\": [5],\n",
    "        \"weights\" : [\"uniform\"],\n",
    "        \"algorithm\": [\"brute\",\"kd_tree\",\"ball_tree\"]}\n",
    "NAME = \"KNN\"\n",
    "PATH = \"out/\"+NAME+\"/\"\n",
    "\n",
    "n_splits = 2\n",
    "modeltrainer = ModelTrainer(MODEL, params, X, Y, Variationerror = mean_gamma_deviance, NameOfError = \"MGE\", thread_cnt=1)\n",
    "########### train with TrainTestSplit  ###################\n",
    "modeltrainer.TTSplit(test_size = 0.5)\n",
    "modeltrainer.train()\n",
    "results = modeltrainer.retResults(PATH + \"sklearn_TTS_KNN.csv\")\n",
    "display(results)\n",
    "############ shuffle_Cross validation  ###################\n",
    "modeltrainer.CV_shuffle_split(k = n_splits, test_size = 0.5, random_state = 42)\n",
    "results = modeltrainer.retResults(PATH + \"sklearn_CV_KNN.csv\")\n",
    "display(results)"
   ]
  },
  {
   "source": [
    "## my KNN-Regression"
   ],
   "cell_type": "markdown",
   "metadata": {}
  },
  {
   "cell_type": "code",
   "execution_count": 16,
   "metadata": {},
   "outputs": [
    {
     "output_type": "stream",
     "name": "stdout",
     "text": [
      "chunking...\n"
     ]
    },
    {
     "output_type": "display_data",
     "data": {
      "text/plain": "   n_neighbors  p  chunk_size  train_time  inference_time  R2_score  \\\n0            5  2         600    0.000008        0.047845  0.785048   \n\n        RMSE  D     N  n_test  n_train       MGE  \n0  27.826299  4  1232     616      616  0.004589  ",
      "text/html": "<div>\n<style scoped>\n    .dataframe tbody tr th:only-of-type {\n        vertical-align: middle;\n    }\n\n    .dataframe tbody tr th {\n        vertical-align: top;\n    }\n\n    .dataframe thead th {\n        text-align: right;\n    }\n</style>\n<table border=\"1\" class=\"dataframe\">\n  <thead>\n    <tr style=\"text-align: right;\">\n      <th></th>\n      <th>n_neighbors</th>\n      <th>p</th>\n      <th>chunk_size</th>\n      <th>train_time</th>\n      <th>inference_time</th>\n      <th>R2_score</th>\n      <th>RMSE</th>\n      <th>D</th>\n      <th>N</th>\n      <th>n_test</th>\n      <th>n_train</th>\n      <th>MGE</th>\n    </tr>\n  </thead>\n  <tbody>\n    <tr>\n      <th>0</th>\n      <td>5</td>\n      <td>2</td>\n      <td>600</td>\n      <td>0.000008</td>\n      <td>0.047845</td>\n      <td>0.785048</td>\n      <td>27.826299</td>\n      <td>4</td>\n      <td>1232</td>\n      <td>616</td>\n      <td>616</td>\n      <td>0.004589</td>\n    </tr>\n  </tbody>\n</table>\n</div>"
     },
     "metadata": {}
    },
    {
     "output_type": "stream",
     "name": "stdout",
     "text": [
      "chunking...\nchunking...\n"
     ]
    },
    {
     "output_type": "display_data",
     "data": {
      "text/plain": "   n_neighbors  p  chunk_size  train_time  inference_time  k  R2_score  \\\n0            5  2         600    0.000008        0.041459  1  0.785048   \n1            5  2         600    0.000005        0.044052  2  0.775452   \n\n        RMSE  D     N  n_test  n_train       MGE  \n0  27.826299  4  1232     616      616  0.004589  \n1  26.522792  4  1232     616      616  0.004234  ",
      "text/html": "<div>\n<style scoped>\n    .dataframe tbody tr th:only-of-type {\n        vertical-align: middle;\n    }\n\n    .dataframe tbody tr th {\n        vertical-align: top;\n    }\n\n    .dataframe thead th {\n        text-align: right;\n    }\n</style>\n<table border=\"1\" class=\"dataframe\">\n  <thead>\n    <tr style=\"text-align: right;\">\n      <th></th>\n      <th>n_neighbors</th>\n      <th>p</th>\n      <th>chunk_size</th>\n      <th>train_time</th>\n      <th>inference_time</th>\n      <th>k</th>\n      <th>R2_score</th>\n      <th>RMSE</th>\n      <th>D</th>\n      <th>N</th>\n      <th>n_test</th>\n      <th>n_train</th>\n      <th>MGE</th>\n    </tr>\n  </thead>\n  <tbody>\n    <tr>\n      <th>0</th>\n      <td>5</td>\n      <td>2</td>\n      <td>600</td>\n      <td>0.000008</td>\n      <td>0.041459</td>\n      <td>1</td>\n      <td>0.785048</td>\n      <td>27.826299</td>\n      <td>4</td>\n      <td>1232</td>\n      <td>616</td>\n      <td>616</td>\n      <td>0.004589</td>\n    </tr>\n    <tr>\n      <th>1</th>\n      <td>5</td>\n      <td>2</td>\n      <td>600</td>\n      <td>0.000005</td>\n      <td>0.044052</td>\n      <td>2</td>\n      <td>0.775452</td>\n      <td>26.522792</td>\n      <td>4</td>\n      <td>1232</td>\n      <td>616</td>\n      <td>616</td>\n      <td>0.004234</td>\n    </tr>\n  </tbody>\n</table>\n</div>"
     },
     "metadata": {}
    }
   ],
   "source": [
    "MODEL = KNNRegressor\n",
    "params = {\"n_neighbors\" : [5],\n",
    "           \"p\": [2],\n",
    "           \"chunk_size\": [600]}\n",
    "NAME = \"KNN\"\n",
    "PATH = \"out/\"+NAME+\"/\"\n",
    "\n",
    "n_splits = 2\n",
    "modeltrainer = ModelTrainer(MODEL, params, X, Y, Variationerror = mean_gamma_deviance, NameOfError = \"MGE\", thread_cnt=1)\n",
    "########### train with TrainTestSplit  ###################\n",
    "modeltrainer.TTSplit(test_size = 0.5)\n",
    "modeltrainer.train()\n",
    "results = modeltrainer.retResults(PATH + \"my_TTS_KNN.csv\")\n",
    "display(results)\n",
    "############ shuffle_Cross validation  ###################\n",
    "modeltrainer.CV_shuffle_split(k = n_splits, test_size = 0.5, random_state = 42)\n",
    "results = modeltrainer.retResults(PATH + \"my_CV_KNN.csv\")\n",
    "display(results)"
   ]
  },
  {
   "source": [
    "## RF-Regression"
   ],
   "cell_type": "markdown",
   "metadata": {}
  },
  {
   "cell_type": "code",
   "execution_count": null,
   "metadata": {},
   "outputs": [],
   "source": [
    "MODEL = RandomForestRegressor\n",
    "params = {\"n_estimators\" : [100]}\n",
    "NAME = \"RF\"\n",
    "PATH = \"out/\"+NAME+\"/\"\n",
    "\n",
    "\n",
    "n_splits = 2\n",
    "modeltrainer = ModelTrainer(MODEL, params, X, Y, Variationerror = mean_gamma_deviance, NameOfError = \"MGE\", thread_cnt=1)\n",
    "########### train with TrainTestSplit  ###################\n",
    "modeltrainer.TTSplit(test_size = 0.5)\n",
    "modeltrainer.train()\n",
    "results = modeltrainer.retResults(PATH + \"sklearn_TTS_RF.csv\")\n",
    "display(results)\n",
    "############ shuffle_Cross validation  ###################\n",
    "modeltrainer.CV_shuffle_split(k = n_splits, test_size = 0.5, random_state = 42)\n",
    "results = modeltrainer.retResults(PATH + \"sklearn_CV_RF.csv\")\n",
    "display(results)"
   ]
  },
  {
   "source": [
    "## DT-Regression"
   ],
   "cell_type": "markdown",
   "metadata": {}
  },
  {
   "cell_type": "code",
   "execution_count": null,
   "metadata": {},
   "outputs": [],
   "source": [
    "MODEL = DecisionTreeRegressor\n",
    "params = {\"criterion\": [\"mse\"]}\n",
    "NAME = \"DT\"\n",
    "PATH = \"out/\"+NAME+\"/\"\n",
    "\n",
    "\n",
    "modeltrainer = ModelTrainer(MODEL, params, X, Y, Variationerror = mean_gamma_deviance, NameOfError = \"MGE\", thread_cnt=1)\n",
    "########### train with TrainTestSplit  ###################\n",
    "modeltrainer.TTSplit(test_size = 0.5)\n",
    "modeltrainer.train()\n",
    "results = modeltrainer.retResults(PATH + \"sklearn_TTS_DT.csv\")\n",
    "display(results)\n",
    "############ shuffle_Cross validation  ###################\n",
    "modeltrainer.CV_shuffle_split(k = n_splits, test_size = 0.5, random_state = 42)\n",
    "results = modeltrainer.retResults(PATH + \"sklearn_CV_DT.csv\")\n",
    "display(results)"
   ]
  },
  {
   "cell_type": "code",
   "execution_count": null,
   "metadata": {},
   "outputs": [],
   "source": []
  }
 ]
}