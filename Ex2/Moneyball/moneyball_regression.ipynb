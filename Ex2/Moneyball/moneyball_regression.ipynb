{
 "metadata": {
  "language_info": {
   "codemirror_mode": {
    "name": "ipython",
    "version": 3
   },
   "file_extension": ".py",
   "mimetype": "text/x-python",
   "name": "python",
   "nbconvert_exporter": "python",
   "pygments_lexer": "ipython3",
   "version": "3.7.5-final"
  },
  "orig_nbformat": 2,
  "kernelspec": {
   "name": "python37564bitb5f188b5fd4549769c9ea1e1a366fa0d",
   "display_name": "Python 3.7.5 64-bit"
  }
 },
 "nbformat": 4,
 "nbformat_minor": 2,
 "cells": [
  {
   "cell_type": "code",
   "execution_count": 1,
   "metadata": {},
   "outputs": [],
   "source": [
    "import pandas as pd\n",
    "import seaborn as sns\n",
    "import matplotlib.pyplot as plt\n",
    "import numpy as np\n",
    "from math import sqrt\n",
    "from math import log2\n",
    "from IPython.display import display\n",
    "%matplotlib inline\n",
    "\n",
    "from sklearn.metrics import r2_score\n",
    "from sklearn.metrics import mean_poisson_deviance\n",
    "from sklearn.metrics import mean_gamma_deviance\n",
    "from sklearn.metrics import median_absolute_error\n",
    "from sklearn.metrics import confusion_matrix\n",
    "import matplotlib.pyplot as plt\n",
    "from matplotlib.colors import ListedColormap\n",
    "from sklearn.pipeline import make_pipeline\n",
    "import time\n",
    "import matplotlib as mpl\n",
    "\n",
    "from sklearn.neighbors import KNeighborsRegressor\n",
    "from sklearn.linear_model import SGDRegressor\n",
    "from sklearn.ensemble import RandomForestRegressor\n",
    "from sklearn.tree import DecisionTreeRegressor\n",
    "\n",
    "\n",
    "\n",
    "from sklearn.preprocessing import StandardScaler,PowerTransformer,MinMaxScaler,QuantileTransformer,normalize\n",
    "from sklearn.model_selection import train_test_split, learning_curve, ShuffleSplit\n",
    "from sklearn.feature_selection import VarianceThreshold, SelectKBest\n",
    "from sklearn.model_selection import KFold\n",
    "from sklearn.decomposition import PCA\n",
    "from sklearn.feature_selection import SelectKBest\n",
    "from sklearn.feature_selection import chi2\n",
    "\n",
    "from sklearn.model_selection import train_test_split\n",
    "\n",
    "import pathlib\n",
    "import os\n",
    "import sys\n",
    "\n",
    "# for selection the right path\n",
    "import os,sys,inspect,pathlib\n",
    "currentdir = os.path.dirname(os.path.abspath(inspect.getfile(inspect.currentframe())))\n",
    "parentdir = os.path.dirname(currentdir)\n",
    "sys.path.insert(0,parentdir)\n",
    "\n",
    "from common.model_trainer_reg import *\n",
    "from common.regression_plotfunctions import *\n",
    "\n",
    "from GD.LinearRegression import LinearRegression\n",
    "from KNN.KNNRegressor import KNNRegressor\n",
    "\n",
    "import moneyball_preprocession\n"
   ]
  },
  {
   "cell_type": "code",
   "execution_count": 2,
   "metadata": {},
   "outputs": [
    {
     "output_type": "stream",
     "name": "stdout",
     "text": [
      "['/home/alexander/Dokumente/WS2020/MaschinLearning/ML_2020/Ex2', '/home/alexander/Dokumente/WS2020/MaschinLearning/ML_2020/Ex2', '/home/alexander/Dokumente/WS2020/MaschinLearning/ML_2020/Ex2', '/home/alexander/Dokumente/WS2020/MaschinLearning/ML_2020/Ex2', '/home/alexander/Dokumente/WS2020/MaschinLearning/ML_2020/Ex2/Moneyball', '', '/home/alexander/ngsuite/ngsolve-install/lib/python3/dist-packages', '/home/alexander/ngsuite/ngsolve-install/bin', '/home/alexander/.local/bin', '/usr/local/sbin', '/usr/local/bin', '/usr/sbin', '/usr/bin', '/sbin', '/bin', '/usr/games', '/usr/local/games', '/snap/bin', '/home/alexander/.vscode/extensions/ms-toolsai.jupyter-2020.11.399280825/pythonFiles', '/home/alexander/.vscode/extensions/ms-toolsai.jupyter-2020.11.399280825/pythonFiles/lib/python', '/usr/lib/python37.zip', '/usr/lib/python3.7', '/usr/lib/python3.7/lib-dynload', '/home/alexander/.local/lib/python3.7/site-packages', '/usr/local/lib/python3.7/dist-packages', '/usr/lib/python3/dist-packages', '/home/alexander/.local/lib/python3.7/site-packages/IPython/extensions', '/home/alexander/.ipython']\n"
     ]
    }
   ],
   "source": [
    "# Custom functions\n",
    "\n",
    "module_path = pathlib.Path(os.getcwd()).parent\n",
    "if str(module_path) not in sys.path:\n",
    "    sys.path.append(str(module_path))\n",
    "print(sys.path)\n",
    "\n",
    "from common.dataset_grabber import get_data_path"
   ]
  },
  {
   "cell_type": "code",
   "execution_count": 3,
   "metadata": {},
   "outputs": [
    {
     "output_type": "display_data",
     "data": {
      "text/plain": "PosixPath('/home/alexander/Dokumente/WS2020/MaschinLearning/ML_2020/Ex2/Datasets/Moneyball/baseball.csv')"
     },
     "metadata": {}
    }
   ],
   "source": [
    "datapath = get_data_path(\"Moneyball\", \"baseball.csv\")\n",
    "display(datapath)"
   ]
  },
  {
   "cell_type": "code",
   "execution_count": 4,
   "metadata": {},
   "outputs": [],
   "source": [
    "df_raw = pd.read_csv(datapath)"
   ]
  },
  {
   "source": [
    "# Train and Test"
   ],
   "cell_type": "markdown",
   "metadata": {}
  },
  {
   "cell_type": "code",
   "execution_count": 5,
   "metadata": {},
   "outputs": [],
   "source": [
    "X, Y = moneyball_preprocession.preprocessing(df_raw, drop_missing_values=False)"
   ]
  },
  {
   "source": [
    "## SGD-Regression"
   ],
   "cell_type": "markdown",
   "metadata": {}
  },
  {
   "cell_type": "code",
   "execution_count": 7,
   "metadata": {},
   "outputs": [
    {
     "output_type": "display_data",
     "data": {
      "text/plain": "   alpha  max_iter  train_time  inference_time  R2_score       RMSE  D     N  \\\n0  0.001      1000    0.011837        0.000388  0.876465  15.992029  4  1232   \n1  0.001     10000    0.006242        0.000304  0.876347  16.007396  4  1232   \n2  0.001      1000    0.005023        0.000297  0.876475  15.990819  4  1232   \n3  0.001     10000    0.005316        0.000252  0.876578  15.977408  4  1232   \n\n   n_test  n_train       MGE  \n0     616      616  0.002715  \n1     616      616  0.002717  \n2     616      616  0.002712  \n3     616      616  0.002707  ",
      "text/html": "<div>\n<style scoped>\n    .dataframe tbody tr th:only-of-type {\n        vertical-align: middle;\n    }\n\n    .dataframe tbody tr th {\n        vertical-align: top;\n    }\n\n    .dataframe thead th {\n        text-align: right;\n    }\n</style>\n<table border=\"1\" class=\"dataframe\">\n  <thead>\n    <tr style=\"text-align: right;\">\n      <th></th>\n      <th>alpha</th>\n      <th>max_iter</th>\n      <th>train_time</th>\n      <th>inference_time</th>\n      <th>R2_score</th>\n      <th>RMSE</th>\n      <th>D</th>\n      <th>N</th>\n      <th>n_test</th>\n      <th>n_train</th>\n      <th>MGE</th>\n    </tr>\n  </thead>\n  <tbody>\n    <tr>\n      <th>0</th>\n      <td>0.001</td>\n      <td>1000</td>\n      <td>0.011837</td>\n      <td>0.000388</td>\n      <td>0.876465</td>\n      <td>15.992029</td>\n      <td>4</td>\n      <td>1232</td>\n      <td>616</td>\n      <td>616</td>\n      <td>0.002715</td>\n    </tr>\n    <tr>\n      <th>1</th>\n      <td>0.001</td>\n      <td>10000</td>\n      <td>0.006242</td>\n      <td>0.000304</td>\n      <td>0.876347</td>\n      <td>16.007396</td>\n      <td>4</td>\n      <td>1232</td>\n      <td>616</td>\n      <td>616</td>\n      <td>0.002717</td>\n    </tr>\n    <tr>\n      <th>2</th>\n      <td>0.001</td>\n      <td>1000</td>\n      <td>0.005023</td>\n      <td>0.000297</td>\n      <td>0.876475</td>\n      <td>15.990819</td>\n      <td>4</td>\n      <td>1232</td>\n      <td>616</td>\n      <td>616</td>\n      <td>0.002712</td>\n    </tr>\n    <tr>\n      <th>3</th>\n      <td>0.001</td>\n      <td>10000</td>\n      <td>0.005316</td>\n      <td>0.000252</td>\n      <td>0.876578</td>\n      <td>15.977408</td>\n      <td>4</td>\n      <td>1232</td>\n      <td>616</td>\n      <td>616</td>\n      <td>0.002707</td>\n    </tr>\n  </tbody>\n</table>\n</div>"
     },
     "metadata": {}
    },
    {
     "output_type": "display_data",
     "data": {
      "text/plain": "   alpha  max_iter  train_time  inference_time  k  R2_score       RMSE  D  \\\n0  0.001      1000    0.007432        0.000301  1  0.876544  15.981898  4   \n1  0.001     10000    0.009508        0.000306  1  0.876468  15.991677  4   \n2  0.001      1000    0.005795        0.000306  1  0.876676  15.964716  4   \n3  0.001     10000    0.004878        0.000215  1  0.876424  15.997400  4   \n4  0.001      1000    0.005116        0.000249  2  0.869490  15.415401  4   \n5  0.001     10000    0.003241        0.000220  2  0.868845  15.491483  4   \n6  0.001      1000    0.003470        0.000195  2  0.868877  15.487772  4   \n7  0.001     10000    0.003068        0.000197  2  0.869096  15.461869  4   \n\n      N  n_test  n_train       MGE  \n0  1232     616      616  0.002707  \n1  1232     616      616  0.002709  \n2  1232     616      616  0.002709  \n3  1232     616      616  0.002713  \n4  1232     616      616  0.002498  \n5  1232     616      616  0.002510  \n6  1232     616      616  0.002511  \n7  1232     616      616  0.002500  ",
      "text/html": "<div>\n<style scoped>\n    .dataframe tbody tr th:only-of-type {\n        vertical-align: middle;\n    }\n\n    .dataframe tbody tr th {\n        vertical-align: top;\n    }\n\n    .dataframe thead th {\n        text-align: right;\n    }\n</style>\n<table border=\"1\" class=\"dataframe\">\n  <thead>\n    <tr style=\"text-align: right;\">\n      <th></th>\n      <th>alpha</th>\n      <th>max_iter</th>\n      <th>train_time</th>\n      <th>inference_time</th>\n      <th>k</th>\n      <th>R2_score</th>\n      <th>RMSE</th>\n      <th>D</th>\n      <th>N</th>\n      <th>n_test</th>\n      <th>n_train</th>\n      <th>MGE</th>\n    </tr>\n  </thead>\n  <tbody>\n    <tr>\n      <th>0</th>\n      <td>0.001</td>\n      <td>1000</td>\n      <td>0.007432</td>\n      <td>0.000301</td>\n      <td>1</td>\n      <td>0.876544</td>\n      <td>15.981898</td>\n      <td>4</td>\n      <td>1232</td>\n      <td>616</td>\n      <td>616</td>\n      <td>0.002707</td>\n    </tr>\n    <tr>\n      <th>1</th>\n      <td>0.001</td>\n      <td>10000</td>\n      <td>0.009508</td>\n      <td>0.000306</td>\n      <td>1</td>\n      <td>0.876468</td>\n      <td>15.991677</td>\n      <td>4</td>\n      <td>1232</td>\n      <td>616</td>\n      <td>616</td>\n      <td>0.002709</td>\n    </tr>\n    <tr>\n      <th>2</th>\n      <td>0.001</td>\n      <td>1000</td>\n      <td>0.005795</td>\n      <td>0.000306</td>\n      <td>1</td>\n      <td>0.876676</td>\n      <td>15.964716</td>\n      <td>4</td>\n      <td>1232</td>\n      <td>616</td>\n      <td>616</td>\n      <td>0.002709</td>\n    </tr>\n    <tr>\n      <th>3</th>\n      <td>0.001</td>\n      <td>10000</td>\n      <td>0.004878</td>\n      <td>0.000215</td>\n      <td>1</td>\n      <td>0.876424</td>\n      <td>15.997400</td>\n      <td>4</td>\n      <td>1232</td>\n      <td>616</td>\n      <td>616</td>\n      <td>0.002713</td>\n    </tr>\n    <tr>\n      <th>4</th>\n      <td>0.001</td>\n      <td>1000</td>\n      <td>0.005116</td>\n      <td>0.000249</td>\n      <td>2</td>\n      <td>0.869490</td>\n      <td>15.415401</td>\n      <td>4</td>\n      <td>1232</td>\n      <td>616</td>\n      <td>616</td>\n      <td>0.002498</td>\n    </tr>\n    <tr>\n      <th>5</th>\n      <td>0.001</td>\n      <td>10000</td>\n      <td>0.003241</td>\n      <td>0.000220</td>\n      <td>2</td>\n      <td>0.868845</td>\n      <td>15.491483</td>\n      <td>4</td>\n      <td>1232</td>\n      <td>616</td>\n      <td>616</td>\n      <td>0.002510</td>\n    </tr>\n    <tr>\n      <th>6</th>\n      <td>0.001</td>\n      <td>1000</td>\n      <td>0.003470</td>\n      <td>0.000195</td>\n      <td>2</td>\n      <td>0.868877</td>\n      <td>15.487772</td>\n      <td>4</td>\n      <td>1232</td>\n      <td>616</td>\n      <td>616</td>\n      <td>0.002511</td>\n    </tr>\n    <tr>\n      <th>7</th>\n      <td>0.001</td>\n      <td>10000</td>\n      <td>0.003068</td>\n      <td>0.000197</td>\n      <td>2</td>\n      <td>0.869096</td>\n      <td>15.461869</td>\n      <td>4</td>\n      <td>1232</td>\n      <td>616</td>\n      <td>616</td>\n      <td>0.002500</td>\n    </tr>\n  </tbody>\n</table>\n</div>"
     },
     "metadata": {}
    }
   ],
   "source": [
    "MODEL = SGDRegressor\n",
    "NAME = \"SGD\"\n",
    "PATH = \"out/\"+NAME+\"/\"\n",
    "params = {\"alpha\" : [0.001,0.001],\n",
    "          \"max_iter\" : [1000,10000]}\n",
    "\n",
    "n_splits = 2\n",
    "modeltrainer = ModelTrainer(MODEL, params, X, Y, Varerror=mean_gamma_deviance, Error=\"MGE\", thread_cnt=1)\n",
    "########### train with TrainTestSplit  ###################\n",
    "modeltrainer.TTSplit(test_size = 0.5)\n",
    "modeltrainer.train()\n",
    "results = modeltrainer.retResults(PATH + \"sklearn_TTS_SGD.csv\")\n",
    "display(results)\n",
    "############ shuffle_Cross validation  ###################\n",
    "modeltrainer.CV_shuffle_split(k = n_splits, test_size = 0.5, random_state = 42)\n",
    "results = modeltrainer.retResults(PATH + \"sklearn_CV_SGD.csv\")\n",
    "display(results)\n",
    "\n",
    "\n"
   ]
  },
  {
   "source": [
    "## My SGD-Regression"
   ],
   "cell_type": "markdown",
   "metadata": {}
  },
  {
   "cell_type": "code",
   "execution_count": 8,
   "metadata": {},
   "outputs": [
    {
     "output_type": "display_data",
     "data": {
      "text/plain": "   alpha  max_iter  train_time  inference_time  R2_score       RMSE  D     N  \\\n0  0.001      1000    0.044135        0.000031  0.875578  16.106947  4  1232   \n1  0.001     10000    0.380690        0.000044  0.875562  16.108963  4  1232   \n2  0.001    100000    3.516646        0.000030  0.875562  16.108963  4  1232   \n3  0.001      1000    0.036451        0.000028  0.875578  16.106947  4  1232   \n4  0.001     10000    0.328059        0.000028  0.875562  16.108963  4  1232   \n5  0.001    100000    3.269195        0.000029  0.875562  16.108963  4  1232   \n\n   n_test  n_train       MGE  \n0     616      616  0.002735  \n1     616      616  0.002736  \n2     616      616  0.002736  \n3     616      616  0.002735  \n4     616      616  0.002736  \n5     616      616  0.002736  ",
      "text/html": "<div>\n<style scoped>\n    .dataframe tbody tr th:only-of-type {\n        vertical-align: middle;\n    }\n\n    .dataframe tbody tr th {\n        vertical-align: top;\n    }\n\n    .dataframe thead th {\n        text-align: right;\n    }\n</style>\n<table border=\"1\" class=\"dataframe\">\n  <thead>\n    <tr style=\"text-align: right;\">\n      <th></th>\n      <th>alpha</th>\n      <th>max_iter</th>\n      <th>train_time</th>\n      <th>inference_time</th>\n      <th>R2_score</th>\n      <th>RMSE</th>\n      <th>D</th>\n      <th>N</th>\n      <th>n_test</th>\n      <th>n_train</th>\n      <th>MGE</th>\n    </tr>\n  </thead>\n  <tbody>\n    <tr>\n      <th>0</th>\n      <td>0.001</td>\n      <td>1000</td>\n      <td>0.044135</td>\n      <td>0.000031</td>\n      <td>0.875578</td>\n      <td>16.106947</td>\n      <td>4</td>\n      <td>1232</td>\n      <td>616</td>\n      <td>616</td>\n      <td>0.002735</td>\n    </tr>\n    <tr>\n      <th>1</th>\n      <td>0.001</td>\n      <td>10000</td>\n      <td>0.380690</td>\n      <td>0.000044</td>\n      <td>0.875562</td>\n      <td>16.108963</td>\n      <td>4</td>\n      <td>1232</td>\n      <td>616</td>\n      <td>616</td>\n      <td>0.002736</td>\n    </tr>\n    <tr>\n      <th>2</th>\n      <td>0.001</td>\n      <td>100000</td>\n      <td>3.516646</td>\n      <td>0.000030</td>\n      <td>0.875562</td>\n      <td>16.108963</td>\n      <td>4</td>\n      <td>1232</td>\n      <td>616</td>\n      <td>616</td>\n      <td>0.002736</td>\n    </tr>\n    <tr>\n      <th>3</th>\n      <td>0.001</td>\n      <td>1000</td>\n      <td>0.036451</td>\n      <td>0.000028</td>\n      <td>0.875578</td>\n      <td>16.106947</td>\n      <td>4</td>\n      <td>1232</td>\n      <td>616</td>\n      <td>616</td>\n      <td>0.002735</td>\n    </tr>\n    <tr>\n      <th>4</th>\n      <td>0.001</td>\n      <td>10000</td>\n      <td>0.328059</td>\n      <td>0.000028</td>\n      <td>0.875562</td>\n      <td>16.108963</td>\n      <td>4</td>\n      <td>1232</td>\n      <td>616</td>\n      <td>616</td>\n      <td>0.002736</td>\n    </tr>\n    <tr>\n      <th>5</th>\n      <td>0.001</td>\n      <td>100000</td>\n      <td>3.269195</td>\n      <td>0.000029</td>\n      <td>0.875562</td>\n      <td>16.108963</td>\n      <td>4</td>\n      <td>1232</td>\n      <td>616</td>\n      <td>616</td>\n      <td>0.002736</td>\n    </tr>\n  </tbody>\n</table>\n</div>"
     },
     "metadata": {}
    },
    {
     "output_type": "display_data",
     "data": {
      "text/plain": "    alpha  max_iter  train_time  inference_time  k  R2_score       RMSE  D  \\\n0   0.001      1000    0.041229        0.000041  1  0.875578  16.106947  4   \n1   0.001     10000    0.325387        0.000038  1  0.875562  16.108963  4   \n2   0.001    100000    3.300977        0.000029  1  0.875562  16.108963  4   \n3   0.001      1000    0.033530        0.000028  1  0.875578  16.106947  4   \n4   0.001     10000    0.328313        0.000031  1  0.875562  16.108963  4   \n5   0.001    100000    3.402775        0.000030  1  0.875562  16.108963  4   \n6   0.001      1000    0.037652        0.000028  2  0.870292  15.320653  4   \n7   0.001     10000    0.320341        0.000028  2  0.870294  15.320330  4   \n8   0.001    100000    3.448231        0.000029  2  0.870294  15.320330  4   \n9   0.001      1000    0.031500        0.000027  2  0.870292  15.320653  4   \n10  0.001     10000    0.325627        0.000031  2  0.870294  15.320330  4   \n11  0.001    100000    3.337670        0.000030  2  0.870294  15.320330  4   \n\n       N  n_test  n_train       MGE  \n0   1232     616      616  0.002735  \n1   1232     616      616  0.002736  \n2   1232     616      616  0.002736  \n3   1232     616      616  0.002735  \n4   1232     616      616  0.002736  \n5   1232     616      616  0.002736  \n6   1232     616      616  0.002480  \n7   1232     616      616  0.002480  \n8   1232     616      616  0.002480  \n9   1232     616      616  0.002480  \n10  1232     616      616  0.002480  \n11  1232     616      616  0.002480  ",
      "text/html": "<div>\n<style scoped>\n    .dataframe tbody tr th:only-of-type {\n        vertical-align: middle;\n    }\n\n    .dataframe tbody tr th {\n        vertical-align: top;\n    }\n\n    .dataframe thead th {\n        text-align: right;\n    }\n</style>\n<table border=\"1\" class=\"dataframe\">\n  <thead>\n    <tr style=\"text-align: right;\">\n      <th></th>\n      <th>alpha</th>\n      <th>max_iter</th>\n      <th>train_time</th>\n      <th>inference_time</th>\n      <th>k</th>\n      <th>R2_score</th>\n      <th>RMSE</th>\n      <th>D</th>\n      <th>N</th>\n      <th>n_test</th>\n      <th>n_train</th>\n      <th>MGE</th>\n    </tr>\n  </thead>\n  <tbody>\n    <tr>\n      <th>0</th>\n      <td>0.001</td>\n      <td>1000</td>\n      <td>0.041229</td>\n      <td>0.000041</td>\n      <td>1</td>\n      <td>0.875578</td>\n      <td>16.106947</td>\n      <td>4</td>\n      <td>1232</td>\n      <td>616</td>\n      <td>616</td>\n      <td>0.002735</td>\n    </tr>\n    <tr>\n      <th>1</th>\n      <td>0.001</td>\n      <td>10000</td>\n      <td>0.325387</td>\n      <td>0.000038</td>\n      <td>1</td>\n      <td>0.875562</td>\n      <td>16.108963</td>\n      <td>4</td>\n      <td>1232</td>\n      <td>616</td>\n      <td>616</td>\n      <td>0.002736</td>\n    </tr>\n    <tr>\n      <th>2</th>\n      <td>0.001</td>\n      <td>100000</td>\n      <td>3.300977</td>\n      <td>0.000029</td>\n      <td>1</td>\n      <td>0.875562</td>\n      <td>16.108963</td>\n      <td>4</td>\n      <td>1232</td>\n      <td>616</td>\n      <td>616</td>\n      <td>0.002736</td>\n    </tr>\n    <tr>\n      <th>3</th>\n      <td>0.001</td>\n      <td>1000</td>\n      <td>0.033530</td>\n      <td>0.000028</td>\n      <td>1</td>\n      <td>0.875578</td>\n      <td>16.106947</td>\n      <td>4</td>\n      <td>1232</td>\n      <td>616</td>\n      <td>616</td>\n      <td>0.002735</td>\n    </tr>\n    <tr>\n      <th>4</th>\n      <td>0.001</td>\n      <td>10000</td>\n      <td>0.328313</td>\n      <td>0.000031</td>\n      <td>1</td>\n      <td>0.875562</td>\n      <td>16.108963</td>\n      <td>4</td>\n      <td>1232</td>\n      <td>616</td>\n      <td>616</td>\n      <td>0.002736</td>\n    </tr>\n    <tr>\n      <th>5</th>\n      <td>0.001</td>\n      <td>100000</td>\n      <td>3.402775</td>\n      <td>0.000030</td>\n      <td>1</td>\n      <td>0.875562</td>\n      <td>16.108963</td>\n      <td>4</td>\n      <td>1232</td>\n      <td>616</td>\n      <td>616</td>\n      <td>0.002736</td>\n    </tr>\n    <tr>\n      <th>6</th>\n      <td>0.001</td>\n      <td>1000</td>\n      <td>0.037652</td>\n      <td>0.000028</td>\n      <td>2</td>\n      <td>0.870292</td>\n      <td>15.320653</td>\n      <td>4</td>\n      <td>1232</td>\n      <td>616</td>\n      <td>616</td>\n      <td>0.002480</td>\n    </tr>\n    <tr>\n      <th>7</th>\n      <td>0.001</td>\n      <td>10000</td>\n      <td>0.320341</td>\n      <td>0.000028</td>\n      <td>2</td>\n      <td>0.870294</td>\n      <td>15.320330</td>\n      <td>4</td>\n      <td>1232</td>\n      <td>616</td>\n      <td>616</td>\n      <td>0.002480</td>\n    </tr>\n    <tr>\n      <th>8</th>\n      <td>0.001</td>\n      <td>100000</td>\n      <td>3.448231</td>\n      <td>0.000029</td>\n      <td>2</td>\n      <td>0.870294</td>\n      <td>15.320330</td>\n      <td>4</td>\n      <td>1232</td>\n      <td>616</td>\n      <td>616</td>\n      <td>0.002480</td>\n    </tr>\n    <tr>\n      <th>9</th>\n      <td>0.001</td>\n      <td>1000</td>\n      <td>0.031500</td>\n      <td>0.000027</td>\n      <td>2</td>\n      <td>0.870292</td>\n      <td>15.320653</td>\n      <td>4</td>\n      <td>1232</td>\n      <td>616</td>\n      <td>616</td>\n      <td>0.002480</td>\n    </tr>\n    <tr>\n      <th>10</th>\n      <td>0.001</td>\n      <td>10000</td>\n      <td>0.325627</td>\n      <td>0.000031</td>\n      <td>2</td>\n      <td>0.870294</td>\n      <td>15.320330</td>\n      <td>4</td>\n      <td>1232</td>\n      <td>616</td>\n      <td>616</td>\n      <td>0.002480</td>\n    </tr>\n    <tr>\n      <th>11</th>\n      <td>0.001</td>\n      <td>100000</td>\n      <td>3.337670</td>\n      <td>0.000030</td>\n      <td>2</td>\n      <td>0.870294</td>\n      <td>15.320330</td>\n      <td>4</td>\n      <td>1232</td>\n      <td>616</td>\n      <td>616</td>\n      <td>0.002480</td>\n    </tr>\n  </tbody>\n</table>\n</div>"
     },
     "metadata": {}
    }
   ],
   "source": [
    "MODEL = LinearRegression\n",
    "params = {\"alpha\" : [0.001,0.001],\n",
    "          \"max_iter\" : [1000,10000,100000]}\n",
    "n_splits = 2\n",
    "modeltrainer = ModelTrainer(MODEL, params, X, Y, Varerror=mean_gamma_deviance, Error=\"MGE\", thread_cnt=1)\n",
    "########### train with TrainTestSplit  ###################\n",
    "modeltrainer.TTSplit(test_size = 0.5)\n",
    "modeltrainer.train()\n",
    "results = modeltrainer.retResults(PATH + \"my_TTS_SGD.csv\")\n",
    "display(results)\n",
    "############ shuffle_Cross validation  ###################\n",
    "modeltrainer.CV_shuffle_split(k = n_splits, test_size = 0.5, random_state = 42)\n",
    "results = modeltrainer.retResults(PATH + \"my_CV_SGD.csv\")\n",
    "display(results)"
   ]
  },
  {
   "source": [
    "## KNN-Regression"
   ],
   "cell_type": "markdown",
   "metadata": {}
  },
  {
   "cell_type": "code",
   "execution_count": 9,
   "metadata": {},
   "outputs": [
    {
     "output_type": "display_data",
     "data": {
      "text/plain": "   n_neighbors  weights  algorithm  train_time  inference_time  R2_score  \\\n0            5  uniform      brute    0.002914        0.031884  0.785048   \n1            5  uniform    kd_tree    0.001717        0.016688  0.785048   \n2            5  uniform  ball_tree    0.002003        0.014089  0.785048   \n\n        RMSE  D     N  n_test  n_train       MGE  \n0  27.826299  4  1232     616      616  0.004589  \n1  27.826299  4  1232     616      616  0.004589  \n2  27.826299  4  1232     616      616  0.004589  ",
      "text/html": "<div>\n<style scoped>\n    .dataframe tbody tr th:only-of-type {\n        vertical-align: middle;\n    }\n\n    .dataframe tbody tr th {\n        vertical-align: top;\n    }\n\n    .dataframe thead th {\n        text-align: right;\n    }\n</style>\n<table border=\"1\" class=\"dataframe\">\n  <thead>\n    <tr style=\"text-align: right;\">\n      <th></th>\n      <th>n_neighbors</th>\n      <th>weights</th>\n      <th>algorithm</th>\n      <th>train_time</th>\n      <th>inference_time</th>\n      <th>R2_score</th>\n      <th>RMSE</th>\n      <th>D</th>\n      <th>N</th>\n      <th>n_test</th>\n      <th>n_train</th>\n      <th>MGE</th>\n    </tr>\n  </thead>\n  <tbody>\n    <tr>\n      <th>0</th>\n      <td>5</td>\n      <td>uniform</td>\n      <td>brute</td>\n      <td>0.002914</td>\n      <td>0.031884</td>\n      <td>0.785048</td>\n      <td>27.826299</td>\n      <td>4</td>\n      <td>1232</td>\n      <td>616</td>\n      <td>616</td>\n      <td>0.004589</td>\n    </tr>\n    <tr>\n      <th>1</th>\n      <td>5</td>\n      <td>uniform</td>\n      <td>kd_tree</td>\n      <td>0.001717</td>\n      <td>0.016688</td>\n      <td>0.785048</td>\n      <td>27.826299</td>\n      <td>4</td>\n      <td>1232</td>\n      <td>616</td>\n      <td>616</td>\n      <td>0.004589</td>\n    </tr>\n    <tr>\n      <th>2</th>\n      <td>5</td>\n      <td>uniform</td>\n      <td>ball_tree</td>\n      <td>0.002003</td>\n      <td>0.014089</td>\n      <td>0.785048</td>\n      <td>27.826299</td>\n      <td>4</td>\n      <td>1232</td>\n      <td>616</td>\n      <td>616</td>\n      <td>0.004589</td>\n    </tr>\n  </tbody>\n</table>\n</div>"
     },
     "metadata": {}
    },
    {
     "output_type": "display_data",
     "data": {
      "text/plain": "   n_neighbors  weights  algorithm  train_time  inference_time  k  R2_score  \\\n0            5  uniform      brute    0.001447        0.020011  1  0.785048   \n1            5  uniform    kd_tree    0.002884        0.035835  1  0.785048   \n2            5  uniform  ball_tree    0.012427        0.016666  1  0.785048   \n3            5  uniform      brute    0.000473        0.016200  2  0.775452   \n4            5  uniform    kd_tree    0.001881        0.015910  2  0.775452   \n5            5  uniform  ball_tree    0.001755        0.014412  2  0.775452   \n\n        RMSE  D     N  n_test  n_train       MGE  \n0  27.826299  4  1232     616      616  0.004589  \n1  27.826299  4  1232     616      616  0.004589  \n2  27.826299  4  1232     616      616  0.004589  \n3  26.522792  4  1232     616      616  0.004234  \n4  26.522792  4  1232     616      616  0.004234  \n5  26.522792  4  1232     616      616  0.004234  ",
      "text/html": "<div>\n<style scoped>\n    .dataframe tbody tr th:only-of-type {\n        vertical-align: middle;\n    }\n\n    .dataframe tbody tr th {\n        vertical-align: top;\n    }\n\n    .dataframe thead th {\n        text-align: right;\n    }\n</style>\n<table border=\"1\" class=\"dataframe\">\n  <thead>\n    <tr style=\"text-align: right;\">\n      <th></th>\n      <th>n_neighbors</th>\n      <th>weights</th>\n      <th>algorithm</th>\n      <th>train_time</th>\n      <th>inference_time</th>\n      <th>k</th>\n      <th>R2_score</th>\n      <th>RMSE</th>\n      <th>D</th>\n      <th>N</th>\n      <th>n_test</th>\n      <th>n_train</th>\n      <th>MGE</th>\n    </tr>\n  </thead>\n  <tbody>\n    <tr>\n      <th>0</th>\n      <td>5</td>\n      <td>uniform</td>\n      <td>brute</td>\n      <td>0.001447</td>\n      <td>0.020011</td>\n      <td>1</td>\n      <td>0.785048</td>\n      <td>27.826299</td>\n      <td>4</td>\n      <td>1232</td>\n      <td>616</td>\n      <td>616</td>\n      <td>0.004589</td>\n    </tr>\n    <tr>\n      <th>1</th>\n      <td>5</td>\n      <td>uniform</td>\n      <td>kd_tree</td>\n      <td>0.002884</td>\n      <td>0.035835</td>\n      <td>1</td>\n      <td>0.785048</td>\n      <td>27.826299</td>\n      <td>4</td>\n      <td>1232</td>\n      <td>616</td>\n      <td>616</td>\n      <td>0.004589</td>\n    </tr>\n    <tr>\n      <th>2</th>\n      <td>5</td>\n      <td>uniform</td>\n      <td>ball_tree</td>\n      <td>0.012427</td>\n      <td>0.016666</td>\n      <td>1</td>\n      <td>0.785048</td>\n      <td>27.826299</td>\n      <td>4</td>\n      <td>1232</td>\n      <td>616</td>\n      <td>616</td>\n      <td>0.004589</td>\n    </tr>\n    <tr>\n      <th>3</th>\n      <td>5</td>\n      <td>uniform</td>\n      <td>brute</td>\n      <td>0.000473</td>\n      <td>0.016200</td>\n      <td>2</td>\n      <td>0.775452</td>\n      <td>26.522792</td>\n      <td>4</td>\n      <td>1232</td>\n      <td>616</td>\n      <td>616</td>\n      <td>0.004234</td>\n    </tr>\n    <tr>\n      <th>4</th>\n      <td>5</td>\n      <td>uniform</td>\n      <td>kd_tree</td>\n      <td>0.001881</td>\n      <td>0.015910</td>\n      <td>2</td>\n      <td>0.775452</td>\n      <td>26.522792</td>\n      <td>4</td>\n      <td>1232</td>\n      <td>616</td>\n      <td>616</td>\n      <td>0.004234</td>\n    </tr>\n    <tr>\n      <th>5</th>\n      <td>5</td>\n      <td>uniform</td>\n      <td>ball_tree</td>\n      <td>0.001755</td>\n      <td>0.014412</td>\n      <td>2</td>\n      <td>0.775452</td>\n      <td>26.522792</td>\n      <td>4</td>\n      <td>1232</td>\n      <td>616</td>\n      <td>616</td>\n      <td>0.004234</td>\n    </tr>\n  </tbody>\n</table>\n</div>"
     },
     "metadata": {}
    }
   ],
   "source": [
    "MODEL = KNeighborsRegressor\n",
    "params = {\"n_neighbors\": [5],\n",
    "        \"weights\" : [\"uniform\"],\n",
    "        \"algorithm\": [\"brute\",\"kd_tree\",\"ball_tree\"]}\n",
    "NAME = \"KNN\"\n",
    "PATH = \"out/\"+NAME+\"/\"\n",
    "\n",
    "n_splits = 2\n",
    "modeltrainer = ModelTrainer(MODEL, params, X, Y, Varerror=mean_gamma_deviance, Error=\"MGE\", thread_cnt=1)\n",
    "########### train with TrainTestSplit  ###################\n",
    "modeltrainer.TTSplit(test_size = 0.5)\n",
    "modeltrainer.train()\n",
    "results = modeltrainer.retResults(PATH + \"sklearn_TTS_KNN.csv\")\n",
    "display(results)\n",
    "############ shuffle_Cross validation  ###################\n",
    "modeltrainer.CV_shuffle_split(k = n_splits, test_size = 0.5, random_state = 42)\n",
    "results = modeltrainer.retResults(PATH + \"sklearn_CV_KNN.csv\")\n",
    "display(results)"
   ]
  },
  {
   "source": [
    "## my KNN-Regression"
   ],
   "cell_type": "markdown",
   "metadata": {}
  },
  {
   "cell_type": "code",
   "execution_count": 10,
   "metadata": {},
   "outputs": [
    {
     "output_type": "stream",
     "name": "stdout",
     "text": [
      "chunking...\n"
     ]
    },
    {
     "output_type": "display_data",
     "data": {
      "text/plain": "   n_neighbors  p  train_time  inference_time  R2_score       RMSE  D     N  \\\n0            5  2    0.000011        0.060127  0.785048  27.826299  4  1232   \n\n   n_test  n_train       MGE  \n0     616      616  0.004589  ",
      "text/html": "<div>\n<style scoped>\n    .dataframe tbody tr th:only-of-type {\n        vertical-align: middle;\n    }\n\n    .dataframe tbody tr th {\n        vertical-align: top;\n    }\n\n    .dataframe thead th {\n        text-align: right;\n    }\n</style>\n<table border=\"1\" class=\"dataframe\">\n  <thead>\n    <tr style=\"text-align: right;\">\n      <th></th>\n      <th>n_neighbors</th>\n      <th>p</th>\n      <th>train_time</th>\n      <th>inference_time</th>\n      <th>R2_score</th>\n      <th>RMSE</th>\n      <th>D</th>\n      <th>N</th>\n      <th>n_test</th>\n      <th>n_train</th>\n      <th>MGE</th>\n    </tr>\n  </thead>\n  <tbody>\n    <tr>\n      <th>0</th>\n      <td>5</td>\n      <td>2</td>\n      <td>0.000011</td>\n      <td>0.060127</td>\n      <td>0.785048</td>\n      <td>27.826299</td>\n      <td>4</td>\n      <td>1232</td>\n      <td>616</td>\n      <td>616</td>\n      <td>0.004589</td>\n    </tr>\n  </tbody>\n</table>\n</div>"
     },
     "metadata": {}
    },
    {
     "output_type": "stream",
     "name": "stdout",
     "text": [
      "chunking...\nchunking...\n"
     ]
    },
    {
     "output_type": "display_data",
     "data": {
      "text/plain": "   n_neighbors  p  train_time  inference_time  k  R2_score       RMSE  D  \\\n0            5  2    0.000011        0.061449  1  0.785048  27.826299  4   \n1            5  2    0.000010        0.055298  2  0.775452  26.522792  4   \n\n      N  n_test  n_train       MGE  \n0  1232     616      616  0.004589  \n1  1232     616      616  0.004234  ",
      "text/html": "<div>\n<style scoped>\n    .dataframe tbody tr th:only-of-type {\n        vertical-align: middle;\n    }\n\n    .dataframe tbody tr th {\n        vertical-align: top;\n    }\n\n    .dataframe thead th {\n        text-align: right;\n    }\n</style>\n<table border=\"1\" class=\"dataframe\">\n  <thead>\n    <tr style=\"text-align: right;\">\n      <th></th>\n      <th>n_neighbors</th>\n      <th>p</th>\n      <th>train_time</th>\n      <th>inference_time</th>\n      <th>k</th>\n      <th>R2_score</th>\n      <th>RMSE</th>\n      <th>D</th>\n      <th>N</th>\n      <th>n_test</th>\n      <th>n_train</th>\n      <th>MGE</th>\n    </tr>\n  </thead>\n  <tbody>\n    <tr>\n      <th>0</th>\n      <td>5</td>\n      <td>2</td>\n      <td>0.000011</td>\n      <td>0.061449</td>\n      <td>1</td>\n      <td>0.785048</td>\n      <td>27.826299</td>\n      <td>4</td>\n      <td>1232</td>\n      <td>616</td>\n      <td>616</td>\n      <td>0.004589</td>\n    </tr>\n    <tr>\n      <th>1</th>\n      <td>5</td>\n      <td>2</td>\n      <td>0.000010</td>\n      <td>0.055298</td>\n      <td>2</td>\n      <td>0.775452</td>\n      <td>26.522792</td>\n      <td>4</td>\n      <td>1232</td>\n      <td>616</td>\n      <td>616</td>\n      <td>0.004234</td>\n    </tr>\n  </tbody>\n</table>\n</div>"
     },
     "metadata": {}
    }
   ],
   "source": [
    "MODEL = KNNRegressor\n",
    "params = {\"n_neighbors\" : [5],\n",
    "           \"p\": [2]}\n",
    "           #\"weights\": [\"uniform\"]}\n",
    "NAME = \"KNN\"\n",
    "PATH = \"out/\"+NAME+\"/\"\n",
    "\n",
    "n_splits = 2\n",
    "modeltrainer = ModelTrainer(MODEL, params, X, Y, Varerror=mean_gamma_deviance, Error=\"MGE\", thread_cnt=1)\n",
    "########### train with TrainTestSplit  ###################\n",
    "modeltrainer.TTSplit(test_size = 0.5)\n",
    "modeltrainer.train()\n",
    "results = modeltrainer.retResults(PATH + \"my_TTS_KNN.csv\")\n",
    "display(results)\n",
    "############ shuffle_Cross validation  ###################\n",
    "modeltrainer.CV_shuffle_split(k = n_splits, test_size = 0.5, random_state = 42)\n",
    "results = modeltrainer.retResults(PATH + \"my_CV_KNN.csv\")\n",
    "display(results)"
   ]
  },
  {
   "source": [
    "## RF-Regression"
   ],
   "cell_type": "markdown",
   "metadata": {}
  },
  {
   "cell_type": "code",
   "execution_count": 11,
   "metadata": {},
   "outputs": [
    {
     "output_type": "display_data",
     "data": {
      "text/plain": "   n_estimators  train_time  inference_time  R2_score       RMSE  D     N  \\\n0           100    0.359728        0.020802  0.851053  19.281718  4  1232   \n\n   n_test  n_train      MGE  \n0     616      616  0.00318  ",
      "text/html": "<div>\n<style scoped>\n    .dataframe tbody tr th:only-of-type {\n        vertical-align: middle;\n    }\n\n    .dataframe tbody tr th {\n        vertical-align: top;\n    }\n\n    .dataframe thead th {\n        text-align: right;\n    }\n</style>\n<table border=\"1\" class=\"dataframe\">\n  <thead>\n    <tr style=\"text-align: right;\">\n      <th></th>\n      <th>n_estimators</th>\n      <th>train_time</th>\n      <th>inference_time</th>\n      <th>R2_score</th>\n      <th>RMSE</th>\n      <th>D</th>\n      <th>N</th>\n      <th>n_test</th>\n      <th>n_train</th>\n      <th>MGE</th>\n    </tr>\n  </thead>\n  <tbody>\n    <tr>\n      <th>0</th>\n      <td>100</td>\n      <td>0.359728</td>\n      <td>0.020802</td>\n      <td>0.851053</td>\n      <td>19.281718</td>\n      <td>4</td>\n      <td>1232</td>\n      <td>616</td>\n      <td>616</td>\n      <td>0.00318</td>\n    </tr>\n  </tbody>\n</table>\n</div>"
     },
     "metadata": {}
    },
    {
     "output_type": "display_data",
     "data": {
      "text/plain": "   n_estimators  train_time  inference_time  k  R2_score       RMSE  D     N  \\\n0           100    0.416769        0.017546  1  0.847606  19.728006  4  1232   \n1           100    0.338540        0.017324  2  0.838903  19.028135  4  1232   \n\n   n_test  n_train       MGE  \n0     616      616  0.003242  \n1     616      616  0.003004  ",
      "text/html": "<div>\n<style scoped>\n    .dataframe tbody tr th:only-of-type {\n        vertical-align: middle;\n    }\n\n    .dataframe tbody tr th {\n        vertical-align: top;\n    }\n\n    .dataframe thead th {\n        text-align: right;\n    }\n</style>\n<table border=\"1\" class=\"dataframe\">\n  <thead>\n    <tr style=\"text-align: right;\">\n      <th></th>\n      <th>n_estimators</th>\n      <th>train_time</th>\n      <th>inference_time</th>\n      <th>k</th>\n      <th>R2_score</th>\n      <th>RMSE</th>\n      <th>D</th>\n      <th>N</th>\n      <th>n_test</th>\n      <th>n_train</th>\n      <th>MGE</th>\n    </tr>\n  </thead>\n  <tbody>\n    <tr>\n      <th>0</th>\n      <td>100</td>\n      <td>0.416769</td>\n      <td>0.017546</td>\n      <td>1</td>\n      <td>0.847606</td>\n      <td>19.728006</td>\n      <td>4</td>\n      <td>1232</td>\n      <td>616</td>\n      <td>616</td>\n      <td>0.003242</td>\n    </tr>\n    <tr>\n      <th>1</th>\n      <td>100</td>\n      <td>0.338540</td>\n      <td>0.017324</td>\n      <td>2</td>\n      <td>0.838903</td>\n      <td>19.028135</td>\n      <td>4</td>\n      <td>1232</td>\n      <td>616</td>\n      <td>616</td>\n      <td>0.003004</td>\n    </tr>\n  </tbody>\n</table>\n</div>"
     },
     "metadata": {}
    }
   ],
   "source": [
    "MODEL = RandomForestRegressor\n",
    "params = {\"n_estimators\" : [100]}\n",
    "NAME = \"RF\"\n",
    "PATH = \"out/\"+NAME+\"/\"\n",
    "\n",
    "\n",
    "n_splits = 2\n",
    "modeltrainer = ModelTrainer(MODEL, params, X, Y, Varerror=mean_gamma_deviance, Error=\"MGE\", thread_cnt=1)\n",
    "########### train with TrainTestSplit  ###################\n",
    "modeltrainer.TTSplit(test_size = 0.5)\n",
    "modeltrainer.train()\n",
    "results = modeltrainer.retResults(PATH + \"sklearn_TTS_RF.csv\")\n",
    "display(results)\n",
    "############ shuffle_Cross validation  ###################\n",
    "modeltrainer.CV_shuffle_split(k = n_splits, test_size = 0.5, random_state = 42)\n",
    "results = modeltrainer.retResults(PATH + \"sklearn_CV_RF.csv\")\n",
    "display(results)"
   ]
  },
  {
   "source": [
    "## DT-Regression"
   ],
   "cell_type": "markdown",
   "metadata": {}
  },
  {
   "cell_type": "code",
   "execution_count": 12,
   "metadata": {},
   "outputs": [
    {
     "output_type": "display_data",
     "data": {
      "text/plain": "  criterion  train_time  inference_time  R2_score       RMSE  D     N  n_test  \\\n0       mse    0.005036        0.000461  0.687824  40.412338  4  1232     616   \n\n   n_train       MGE  \n0      616  0.006535  ",
      "text/html": "<div>\n<style scoped>\n    .dataframe tbody tr th:only-of-type {\n        vertical-align: middle;\n    }\n\n    .dataframe tbody tr th {\n        vertical-align: top;\n    }\n\n    .dataframe thead th {\n        text-align: right;\n    }\n</style>\n<table border=\"1\" class=\"dataframe\">\n  <thead>\n    <tr style=\"text-align: right;\">\n      <th></th>\n      <th>criterion</th>\n      <th>train_time</th>\n      <th>inference_time</th>\n      <th>R2_score</th>\n      <th>RMSE</th>\n      <th>D</th>\n      <th>N</th>\n      <th>n_test</th>\n      <th>n_train</th>\n      <th>MGE</th>\n    </tr>\n  </thead>\n  <tbody>\n    <tr>\n      <th>0</th>\n      <td>mse</td>\n      <td>0.005036</td>\n      <td>0.000461</td>\n      <td>0.687824</td>\n      <td>40.412338</td>\n      <td>4</td>\n      <td>1232</td>\n      <td>616</td>\n      <td>616</td>\n      <td>0.006535</td>\n    </tr>\n  </tbody>\n</table>\n</div>"
     },
     "metadata": {}
    },
    {
     "output_type": "display_data",
     "data": {
      "text/plain": "  criterion  train_time  inference_time  k  R2_score       RMSE  D     N  \\\n0       mse    0.004497        0.000527  1  0.690646  40.047078  4  1232   \n1       mse    0.005310        0.000471  2  0.675149  38.370130  4  1232   \n\n   n_test  n_train       MGE  \n0     616      616  0.006559  \n1     616      616  0.006032  ",
      "text/html": "<div>\n<style scoped>\n    .dataframe tbody tr th:only-of-type {\n        vertical-align: middle;\n    }\n\n    .dataframe tbody tr th {\n        vertical-align: top;\n    }\n\n    .dataframe thead th {\n        text-align: right;\n    }\n</style>\n<table border=\"1\" class=\"dataframe\">\n  <thead>\n    <tr style=\"text-align: right;\">\n      <th></th>\n      <th>criterion</th>\n      <th>train_time</th>\n      <th>inference_time</th>\n      <th>k</th>\n      <th>R2_score</th>\n      <th>RMSE</th>\n      <th>D</th>\n      <th>N</th>\n      <th>n_test</th>\n      <th>n_train</th>\n      <th>MGE</th>\n    </tr>\n  </thead>\n  <tbody>\n    <tr>\n      <th>0</th>\n      <td>mse</td>\n      <td>0.004497</td>\n      <td>0.000527</td>\n      <td>1</td>\n      <td>0.690646</td>\n      <td>40.047078</td>\n      <td>4</td>\n      <td>1232</td>\n      <td>616</td>\n      <td>616</td>\n      <td>0.006559</td>\n    </tr>\n    <tr>\n      <th>1</th>\n      <td>mse</td>\n      <td>0.005310</td>\n      <td>0.000471</td>\n      <td>2</td>\n      <td>0.675149</td>\n      <td>38.370130</td>\n      <td>4</td>\n      <td>1232</td>\n      <td>616</td>\n      <td>616</td>\n      <td>0.006032</td>\n    </tr>\n  </tbody>\n</table>\n</div>"
     },
     "metadata": {}
    }
   ],
   "source": [
    "MODEL = DecisionTreeRegressor\n",
    "params = {\"criterion\": [\"mse\"]}\n",
    "NAME = \"DT\"\n",
    "PATH = \"out/\"+NAME+\"/\"\n",
    "\n",
    "\n",
    "n_splits = 2\n",
    "modeltrainer = ModelTrainer(MODEL, params, X, Y, Varerror=mean_gamma_deviance, Error=\"MGE\", thread_cnt=1)\n",
    "########### train with TrainTestSplit  ###################\n",
    "modeltrainer.TTSplit(test_size = 0.5)\n",
    "modeltrainer.train()\n",
    "results = modeltrainer.retResults(PATH + \"sklearn_TTS_DT.csv\")\n",
    "display(results)\n",
    "############ shuffle_Cross validation  ###################\n",
    "modeltrainer.CV_shuffle_split(k = n_splits, test_size = 0.5, random_state = 42)\n",
    "results = modeltrainer.retResults(PATH + \"sklearn_CV_DT.csv\")\n",
    "display(results)"
   ]
  },
  {
   "cell_type": "code",
   "execution_count": null,
   "metadata": {},
   "outputs": [],
   "source": []
  }
 ]
}