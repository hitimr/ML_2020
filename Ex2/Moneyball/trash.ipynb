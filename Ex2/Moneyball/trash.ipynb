{
 "metadata": {
  "language_info": {
   "codemirror_mode": {
    "name": "ipython",
    "version": 3
   },
   "file_extension": ".py",
   "mimetype": "text/x-python",
   "name": "python",
   "nbconvert_exporter": "python",
   "pygments_lexer": "ipython3",
   "version": 3
  },
  "orig_nbformat": 2
 },
 "nbformat": 4,
 "nbformat_minor": 2,
 "cells": [
  {
   "cell_type": "code",
   "execution_count": null,
   "metadata": {},
   "outputs": [],
   "source": [
    "plt.figure()\n",
    "plt.grid()\n",
    "title = \"Learning_Curves_(SGD_Sklearn)\"\n",
    "# Cross validation with 100 iterations to get smoother mean test and train\n",
    "# score curves, each time with 20% data randomly selected as a validation set.\n",
    "cv = ShuffleSplit(n_splits=n_splits, test_size=0.2, random_state=0)\n",
    "\n",
    "estimator = SGDRegressor()\n",
    "plot_learning_curve(estimator, title, X, Y, ylim=(0.7, 1.01), cv=cv, n_jobs=4,train_sizes=np.linspace(.1, 1.0, n_splits))\n",
    "plt.savefig(PATH+title)\n",
    "plt.show()"
   ]
  },
  {
   "cell_type": "code",
   "execution_count": null,
   "metadata": {},
   "outputs": [],
   "source": [
    "plt.figure()\n",
    "plt.grid()\n",
    "\n",
    "title = \"Learning_Curves_(KNN_Sklearn)\"\n",
    "# Cross validation with 100 iterations to get smoother mean test and train\n",
    "# score curves, each time with 20% data randomly selected as a validation set.\n",
    "cv = ShuffleSplit(n_splits=10, test_size=0.2, random_state=0)\n",
    "#cv = train_test_split(test_size=0.4, random_state=42)\n",
    "\n",
    "estimator = KNeighborsRegressor()\n",
    "plot_learning_curve(estimator, title, X, Y, ylim=(0.7, 1.01), cv=cv, n_jobs=4,train_sizes=np.linspace(.1, 1.0, n_splits))\n",
    "plt.savefig(PATH+title)\n",
    "plt.show()"
   ]
  },
  {
   "cell_type": "code",
   "execution_count": null,
   "metadata": {},
   "outputs": [],
   "source": [
    "plt.figure()\n",
    "plt.grid()\n",
    "\n",
    "title = \"Learning_Curves_(RF_Sklearn)\"\n",
    "# Cross validation with 100 iterations to get smoother mean test and train\n",
    "# score curves, each time with 20% data randomly selected as a validation set.\n",
    "cv = ShuffleSplit(n_splits=10, test_size=0.2, random_state=0)\n",
    "#cv = train_test_split(test_size=0.4, random_state=42)\n",
    "\n",
    "estimator = RandomForestRegressor()\n",
    "plot_learning_curve(estimator, title, X, Y, ylim=(0.7, 1.01), cv=cv, n_jobs=4,train_sizes=np.linspace(.1, 1.0, n_splits))\n",
    "plt.savefig(PATH+title)\n",
    "plt.show()"
   ]
  },
  {
   "cell_type": "code",
   "execution_count": null,
   "metadata": {},
   "outputs": [],
   "source": [
    "plt.figure()\n",
    "plt.grid()\n",
    "\n",
    "title = \"Learning_Curves_(DT_Sklearn)\"\n",
    "# Cross validation with 100 iterations to get smoother mean test and train\n",
    "# score curves, each time with 20% data randomly selected as a validation set.\n",
    "cv = ShuffleSplit(n_splits=10, test_size=0.2, random_state=0)\n",
    "#cv = train_test_split(test_size=0.4, random_state=42)\n",
    "\n",
    "estimator = DecisionTreeRegressor()\n",
    "plot_learning_curve(estimator, title, X, Y, ylim=(0.5, 1.01), cv=cv, n_jobs=4,train_sizes=np.linspace(.1, 1.0, n_splits))\n",
    "plt.savefig(PATH+title)\n",
    "plt.show()"
   ]
  },
  {
   "cell_type": "code",
   "execution_count": null,
   "metadata": {},
   "outputs": [],
   "source": [
    "plot_learning_curve_own(score_list_SGD,\"SGD\", ylim=(0.5, 1.01))\n",
    "plot_learning_curve_own(score_list_KNN,\"KNN\")\n",
    "plot_learning_curve_own(score_list_RF,\"RF\")\n",
    "plot_learning_curve_own(score_list_DT,\"DT\")\n",
    "plt.savefig(\"out/shuffle_vs_score\")"
   ]
  },
  {
   "cell_type": "code",
   "execution_count": null,
   "metadata": {},
   "outputs": [],
   "source": [
    "#plot_learning_curve_own(score_list_SGD_own,\"SGD_own\", ylim=(0.2, 0.4))\n",
    "#plot_learning_curve_own(score_list_KNN_own,\"KNN_own\")\n",
    "#plt.savefig(\"out/shuffle_own_vs_score\")"
   ]
  },
  {
   "cell_type": "code",
   "execution_count": null,
   "metadata": {},
   "outputs": [],
   "source": [
    "results = pd.DataFrame()\n",
    "result = {\n",
    "    \"name\": \"hallo\",\n",
    "}\n",
    "results = results.append(result, ignore_index=True)\n",
    "display(results)"
   ]
  }
 ]
}