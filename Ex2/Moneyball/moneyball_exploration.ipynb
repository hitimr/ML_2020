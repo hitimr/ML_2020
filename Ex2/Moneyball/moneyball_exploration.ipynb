{
 "metadata": {
  "language_info": {
   "codemirror_mode": {
    "name": "ipython",
    "version": 3
   },
   "file_extension": ".py",
   "mimetype": "text/x-python",
   "name": "python",
   "nbconvert_exporter": "python",
   "pygments_lexer": "ipython3",
   "version": "3.7.5-final"
  },
  "orig_nbformat": 2,
  "kernelspec": {
   "name": "python37564bitb5f188b5fd4549769c9ea1e1a366fa0d",
   "display_name": "Python 3.7.5 64-bit"
  }
 },
 "nbformat": 4,
 "nbformat_minor": 2,
 "cells": [
  {
   "cell_type": "code",
   "execution_count": 1,
   "metadata": {},
   "outputs": [],
   "source": [
    "import pandas as pd\n",
    "import seaborn as sns\n",
    "import matplotlib.pyplot as plt\n",
    "import numpy as np\n",
    "from math import sqrt\n",
    "from math import log2\n",
    "%matplotlib inline\n",
    "\n",
    "from sklearn.metrics import accuracy_score\n",
    "from sklearn.metrics import confusion_matrix\n",
    "import matplotlib.pyplot as plt\n",
    "from matplotlib.colors import ListedColormap\n",
    "from sklearn.pipeline import make_pipeline\n",
    "import time\n",
    "import matplotlib as mpl\n",
    "\n",
    "\n",
    "\n",
    "from sklearn.preprocessing import StandardScaler,PowerTransformer,MinMaxScaler,QuantileTransformer,normalize\n",
    "from sklearn.feature_selection import VarianceThreshold, SelectKBest\n",
    "from sklearn.decomposition import PCA\n",
    "from sklearn.feature_selection import SelectKBest\n",
    "from sklearn.feature_selection import chi2\n",
    "\n",
    "\n",
    "import pathlib\n",
    "import os\n",
    "import sys"
   ]
  },
  {
   "cell_type": "code",
   "execution_count": 2,
   "metadata": {},
   "outputs": [
    {
     "output_type": "stream",
     "name": "stdout",
     "text": [
      "['/home/alexander/Dokumente/WS2020/MaschinLearning/ML_2020/Ex2/moneyball', '', '/home/alexander/ngsuite/ngsolve-install/lib/python3/dist-packages', '/home/alexander/ngsuite/ngsolve-install/bin', '/home/alexander/.local/bin', '/usr/local/sbin', '/usr/local/bin', '/usr/sbin', '/usr/bin', '/sbin', '/bin', '/usr/games', '/usr/local/games', '/snap/bin', '/home/alexander/.vscode/extensions/ms-toolsai.jupyter-2020.11.358541065/pythonFiles', '/home/alexander/.vscode/extensions/ms-toolsai.jupyter-2020.11.358541065/pythonFiles/lib/python', '/usr/lib/python37.zip', '/usr/lib/python3.7', '/usr/lib/python3.7/lib-dynload', '/home/alexander/.local/lib/python3.7/site-packages', '/usr/local/lib/python3.7/dist-packages', '/usr/lib/python3/dist-packages', '/home/alexander/.local/lib/python3.7/site-packages/IPython/extensions', '/home/alexander/.ipython', '/home/alexander/Dokumente/WS2020/MaschinLearning/ML_2020/Ex2']\n"
     ]
    }
   ],
   "source": [
    "# Custom functions\n",
    "\n",
    "module_path = pathlib.Path(os.getcwd()).parent\n",
    "if str(module_path) not in sys.path:\n",
    "    sys.path.append(str(module_path))\n",
    "print(sys.path)\n",
    "\n",
    "from common.dataset_grabber import get_data_path"
   ]
  },
  {
   "cell_type": "code",
   "execution_count": 42,
   "metadata": {},
   "outputs": [
    {
     "output_type": "display_data",
     "data": {
      "text/plain": "PosixPath('/home/alexander/Dokumente/WS2020/MaschinLearning/ML_2020/Ex2/Datasets/moneyball/baseball.csv')"
     },
     "metadata": {}
    }
   ],
   "source": [
    "datapath = get_data_path(\"moneyball\", \"baseball.csv\")\n",
    "display(datapath)"
   ]
  },
  {
   "cell_type": "code",
   "execution_count": 43,
   "metadata": {},
   "outputs": [
    {
     "output_type": "execute_result",
     "data": {
      "text/plain": [
       "     Team League  Year   RS   RA    W    OBP    SLG     BA  Playoffs  \\\n",
       "0     ARI     NL  2012  734  688   81  0.328  0.418  0.259         0   \n",
       "1     ATL     NL  2012  700  600   94  0.320  0.389  0.247         1   \n",
       "2     BAL     AL  2012  712  705   93  0.311  0.417  0.247         1   \n",
       "3     BOS     AL  2012  734  806   69  0.315  0.415  0.260         0   \n",
       "4     CHC     NL  2012  613  759   61  0.302  0.378  0.240         0   \n",
       "...   ...    ...   ...  ...  ...  ...    ...    ...    ...       ...   \n",
       "1227  PHI     NL  1962  705  759   81  0.330  0.390  0.260         0   \n",
       "1228  PIT     NL  1962  706  626   93  0.321  0.394  0.268         0   \n",
       "1229  SFG     NL  1962  878  690  103  0.341  0.441  0.278         1   \n",
       "1230  STL     NL  1962  774  664   84  0.335  0.394  0.271         0   \n",
       "1231  WSA     AL  1962  599  716   60  0.308  0.373  0.250         0   \n",
       "\n",
       "      RankSeason  RankPlayoffs    G   OOBP   OSLG  \n",
       "0            NaN           NaN  162  0.317  0.415  \n",
       "1            4.0           5.0  162  0.306  0.378  \n",
       "2            5.0           4.0  162  0.315  0.403  \n",
       "3            NaN           NaN  162  0.331  0.428  \n",
       "4            NaN           NaN  162  0.335  0.424  \n",
       "...          ...           ...  ...    ...    ...  \n",
       "1227         NaN           NaN  161    NaN    NaN  \n",
       "1228         NaN           NaN  161    NaN    NaN  \n",
       "1229         1.0           2.0  165    NaN    NaN  \n",
       "1230         NaN           NaN  163    NaN    NaN  \n",
       "1231         NaN           NaN  162    NaN    NaN  \n",
       "\n",
       "[1232 rows x 15 columns]"
      ],
      "text/html": "<div>\n<style scoped>\n    .dataframe tbody tr th:only-of-type {\n        vertical-align: middle;\n    }\n\n    .dataframe tbody tr th {\n        vertical-align: top;\n    }\n\n    .dataframe thead th {\n        text-align: right;\n    }\n</style>\n<table border=\"1\" class=\"dataframe\">\n  <thead>\n    <tr style=\"text-align: right;\">\n      <th></th>\n      <th>Team</th>\n      <th>League</th>\n      <th>Year</th>\n      <th>RS</th>\n      <th>RA</th>\n      <th>W</th>\n      <th>OBP</th>\n      <th>SLG</th>\n      <th>BA</th>\n      <th>Playoffs</th>\n      <th>RankSeason</th>\n      <th>RankPlayoffs</th>\n      <th>G</th>\n      <th>OOBP</th>\n      <th>OSLG</th>\n    </tr>\n  </thead>\n  <tbody>\n    <tr>\n      <th>0</th>\n      <td>ARI</td>\n      <td>NL</td>\n      <td>2012</td>\n      <td>734</td>\n      <td>688</td>\n      <td>81</td>\n      <td>0.328</td>\n      <td>0.418</td>\n      <td>0.259</td>\n      <td>0</td>\n      <td>NaN</td>\n      <td>NaN</td>\n      <td>162</td>\n      <td>0.317</td>\n      <td>0.415</td>\n    </tr>\n    <tr>\n      <th>1</th>\n      <td>ATL</td>\n      <td>NL</td>\n      <td>2012</td>\n      <td>700</td>\n      <td>600</td>\n      <td>94</td>\n      <td>0.320</td>\n      <td>0.389</td>\n      <td>0.247</td>\n      <td>1</td>\n      <td>4.0</td>\n      <td>5.0</td>\n      <td>162</td>\n      <td>0.306</td>\n      <td>0.378</td>\n    </tr>\n    <tr>\n      <th>2</th>\n      <td>BAL</td>\n      <td>AL</td>\n      <td>2012</td>\n      <td>712</td>\n      <td>705</td>\n      <td>93</td>\n      <td>0.311</td>\n      <td>0.417</td>\n      <td>0.247</td>\n      <td>1</td>\n      <td>5.0</td>\n      <td>4.0</td>\n      <td>162</td>\n      <td>0.315</td>\n      <td>0.403</td>\n    </tr>\n    <tr>\n      <th>3</th>\n      <td>BOS</td>\n      <td>AL</td>\n      <td>2012</td>\n      <td>734</td>\n      <td>806</td>\n      <td>69</td>\n      <td>0.315</td>\n      <td>0.415</td>\n      <td>0.260</td>\n      <td>0</td>\n      <td>NaN</td>\n      <td>NaN</td>\n      <td>162</td>\n      <td>0.331</td>\n      <td>0.428</td>\n    </tr>\n    <tr>\n      <th>4</th>\n      <td>CHC</td>\n      <td>NL</td>\n      <td>2012</td>\n      <td>613</td>\n      <td>759</td>\n      <td>61</td>\n      <td>0.302</td>\n      <td>0.378</td>\n      <td>0.240</td>\n      <td>0</td>\n      <td>NaN</td>\n      <td>NaN</td>\n      <td>162</td>\n      <td>0.335</td>\n      <td>0.424</td>\n    </tr>\n    <tr>\n      <th>...</th>\n      <td>...</td>\n      <td>...</td>\n      <td>...</td>\n      <td>...</td>\n      <td>...</td>\n      <td>...</td>\n      <td>...</td>\n      <td>...</td>\n      <td>...</td>\n      <td>...</td>\n      <td>...</td>\n      <td>...</td>\n      <td>...</td>\n      <td>...</td>\n      <td>...</td>\n    </tr>\n    <tr>\n      <th>1227</th>\n      <td>PHI</td>\n      <td>NL</td>\n      <td>1962</td>\n      <td>705</td>\n      <td>759</td>\n      <td>81</td>\n      <td>0.330</td>\n      <td>0.390</td>\n      <td>0.260</td>\n      <td>0</td>\n      <td>NaN</td>\n      <td>NaN</td>\n      <td>161</td>\n      <td>NaN</td>\n      <td>NaN</td>\n    </tr>\n    <tr>\n      <th>1228</th>\n      <td>PIT</td>\n      <td>NL</td>\n      <td>1962</td>\n      <td>706</td>\n      <td>626</td>\n      <td>93</td>\n      <td>0.321</td>\n      <td>0.394</td>\n      <td>0.268</td>\n      <td>0</td>\n      <td>NaN</td>\n      <td>NaN</td>\n      <td>161</td>\n      <td>NaN</td>\n      <td>NaN</td>\n    </tr>\n    <tr>\n      <th>1229</th>\n      <td>SFG</td>\n      <td>NL</td>\n      <td>1962</td>\n      <td>878</td>\n      <td>690</td>\n      <td>103</td>\n      <td>0.341</td>\n      <td>0.441</td>\n      <td>0.278</td>\n      <td>1</td>\n      <td>1.0</td>\n      <td>2.0</td>\n      <td>165</td>\n      <td>NaN</td>\n      <td>NaN</td>\n    </tr>\n    <tr>\n      <th>1230</th>\n      <td>STL</td>\n      <td>NL</td>\n      <td>1962</td>\n      <td>774</td>\n      <td>664</td>\n      <td>84</td>\n      <td>0.335</td>\n      <td>0.394</td>\n      <td>0.271</td>\n      <td>0</td>\n      <td>NaN</td>\n      <td>NaN</td>\n      <td>163</td>\n      <td>NaN</td>\n      <td>NaN</td>\n    </tr>\n    <tr>\n      <th>1231</th>\n      <td>WSA</td>\n      <td>AL</td>\n      <td>1962</td>\n      <td>599</td>\n      <td>716</td>\n      <td>60</td>\n      <td>0.308</td>\n      <td>0.373</td>\n      <td>0.250</td>\n      <td>0</td>\n      <td>NaN</td>\n      <td>NaN</td>\n      <td>162</td>\n      <td>NaN</td>\n      <td>NaN</td>\n    </tr>\n  </tbody>\n</table>\n<p>1232 rows × 15 columns</p>\n</div>"
     },
     "metadata": {},
     "execution_count": 43
    }
   ],
   "source": [
    "df_raw = pd.read_csv(datapath)\n",
    "\n",
    "df_raw"
   ]
  },
  {
   "source": [
    "# Data explenarision"
   ],
   "cell_type": "markdown",
   "metadata": {}
  },
  {
   "cell_type": "code",
   "execution_count": 44,
   "metadata": {},
   "outputs": [
    {
     "output_type": "stream",
     "name": "stdout",
     "text": [
      "<class 'pandas.core.frame.DataFrame'>\nRangeIndex: 1232 entries, 0 to 1231\nData columns (total 15 columns):\n #   Column        Non-Null Count  Dtype  \n---  ------        --------------  -----  \n 0   Team          1232 non-null   object \n 1   League        1232 non-null   object \n 2   Year          1232 non-null   int64  \n 3   RS            1232 non-null   int64  \n 4   RA            1232 non-null   int64  \n 5   W             1232 non-null   int64  \n 6   OBP           1232 non-null   float64\n 7   SLG           1232 non-null   float64\n 8   BA            1232 non-null   float64\n 9   Playoffs      1232 non-null   int64  \n 10  RankSeason    244 non-null    float64\n 11  RankPlayoffs  244 non-null    float64\n 12  G             1232 non-null   int64  \n 13  OOBP          420 non-null    float64\n 14  OSLG          420 non-null    float64\ndtypes: float64(7), int64(6), object(2)\nmemory usage: 144.5+ KB\n"
     ]
    }
   ],
   "source": [
    "df_raw.info()"
   ]
  },
  {
   "source": [
    "# Description of data columns\n",
    "\n",
    "RS ... Runs Scored, \n",
    "\n",
    "RA ... Runs Allowed\n",
    "\n",
    "***RD ... Run differential (actually difference)***\n",
    "\n",
    "W ... Wins\n",
    "\n",
    "OBP ... On-Base Percentage\n",
    "\n",
    "SLG ... Slugging Percentage\n",
    "\n",
    "BA ... Batting Average\n",
    "\n",
    "Playoffs (binary)\n",
    "\n",
    "RankSeason\n",
    "\n",
    "RankPlayoffs\n",
    "\n",
    "G ... Games Played\n",
    "\n",
    "OOBP ... Opponent On-Base Percentage\n",
    "\n",
    "OSLG ... Opponent Slugging Percentage"
   ],
   "cell_type": "markdown",
   "metadata": {}
  },
  {
   "cell_type": "code",
   "execution_count": 45,
   "metadata": {},
   "outputs": [],
   "source": [
    "cols_to_drop = ['Team', 'League', 'Year', 'RankSeason', 'RankPlayoffs', 'Playoffs']\n",
    "df_prep = df_raw.drop(cols_to_drop, axis=1)\n",
    "\n",
    "# Fix missing values and type\n",
    "df_prep.replace(\"?\",0, inplace=True)\n",
    "#df_prep = df_prep[df_prep.OOBP != 0]\n",
    "df_prep[['OOBP','OSLG']] = df_prep[['OOBP','OSLG']].astype(float)"
   ]
  },
  {
   "cell_type": "code",
   "execution_count": 46,
   "metadata": {},
   "outputs": [
    {
     "output_type": "execute_result",
     "data": {
      "text/plain": [
       "       RS   RA    W    OBP    SLG     BA    G   OOBP   OSLG\n",
       "0     734  688   81  0.328  0.418  0.259  162  0.317  0.415\n",
       "1     700  600   94  0.320  0.389  0.247  162  0.306  0.378\n",
       "2     712  705   93  0.311  0.417  0.247  162  0.315  0.403\n",
       "3     734  806   69  0.315  0.415  0.260  162  0.331  0.428\n",
       "4     613  759   61  0.302  0.378  0.240  162  0.335  0.424\n",
       "...   ...  ...  ...    ...    ...    ...  ...    ...    ...\n",
       "1227  705  759   81  0.330  0.390  0.260  161    NaN    NaN\n",
       "1228  706  626   93  0.321  0.394  0.268  161    NaN    NaN\n",
       "1229  878  690  103  0.341  0.441  0.278  165    NaN    NaN\n",
       "1230  774  664   84  0.335  0.394  0.271  163    NaN    NaN\n",
       "1231  599  716   60  0.308  0.373  0.250  162    NaN    NaN\n",
       "\n",
       "[1232 rows x 9 columns]"
      ],
      "text/html": "<div>\n<style scoped>\n    .dataframe tbody tr th:only-of-type {\n        vertical-align: middle;\n    }\n\n    .dataframe tbody tr th {\n        vertical-align: top;\n    }\n\n    .dataframe thead th {\n        text-align: right;\n    }\n</style>\n<table border=\"1\" class=\"dataframe\">\n  <thead>\n    <tr style=\"text-align: right;\">\n      <th></th>\n      <th>RS</th>\n      <th>RA</th>\n      <th>W</th>\n      <th>OBP</th>\n      <th>SLG</th>\n      <th>BA</th>\n      <th>G</th>\n      <th>OOBP</th>\n      <th>OSLG</th>\n    </tr>\n  </thead>\n  <tbody>\n    <tr>\n      <th>0</th>\n      <td>734</td>\n      <td>688</td>\n      <td>81</td>\n      <td>0.328</td>\n      <td>0.418</td>\n      <td>0.259</td>\n      <td>162</td>\n      <td>0.317</td>\n      <td>0.415</td>\n    </tr>\n    <tr>\n      <th>1</th>\n      <td>700</td>\n      <td>600</td>\n      <td>94</td>\n      <td>0.320</td>\n      <td>0.389</td>\n      <td>0.247</td>\n      <td>162</td>\n      <td>0.306</td>\n      <td>0.378</td>\n    </tr>\n    <tr>\n      <th>2</th>\n      <td>712</td>\n      <td>705</td>\n      <td>93</td>\n      <td>0.311</td>\n      <td>0.417</td>\n      <td>0.247</td>\n      <td>162</td>\n      <td>0.315</td>\n      <td>0.403</td>\n    </tr>\n    <tr>\n      <th>3</th>\n      <td>734</td>\n      <td>806</td>\n      <td>69</td>\n      <td>0.315</td>\n      <td>0.415</td>\n      <td>0.260</td>\n      <td>162</td>\n      <td>0.331</td>\n      <td>0.428</td>\n    </tr>\n    <tr>\n      <th>4</th>\n      <td>613</td>\n      <td>759</td>\n      <td>61</td>\n      <td>0.302</td>\n      <td>0.378</td>\n      <td>0.240</td>\n      <td>162</td>\n      <td>0.335</td>\n      <td>0.424</td>\n    </tr>\n    <tr>\n      <th>...</th>\n      <td>...</td>\n      <td>...</td>\n      <td>...</td>\n      <td>...</td>\n      <td>...</td>\n      <td>...</td>\n      <td>...</td>\n      <td>...</td>\n      <td>...</td>\n    </tr>\n    <tr>\n      <th>1227</th>\n      <td>705</td>\n      <td>759</td>\n      <td>81</td>\n      <td>0.330</td>\n      <td>0.390</td>\n      <td>0.260</td>\n      <td>161</td>\n      <td>NaN</td>\n      <td>NaN</td>\n    </tr>\n    <tr>\n      <th>1228</th>\n      <td>706</td>\n      <td>626</td>\n      <td>93</td>\n      <td>0.321</td>\n      <td>0.394</td>\n      <td>0.268</td>\n      <td>161</td>\n      <td>NaN</td>\n      <td>NaN</td>\n    </tr>\n    <tr>\n      <th>1229</th>\n      <td>878</td>\n      <td>690</td>\n      <td>103</td>\n      <td>0.341</td>\n      <td>0.441</td>\n      <td>0.278</td>\n      <td>165</td>\n      <td>NaN</td>\n      <td>NaN</td>\n    </tr>\n    <tr>\n      <th>1230</th>\n      <td>774</td>\n      <td>664</td>\n      <td>84</td>\n      <td>0.335</td>\n      <td>0.394</td>\n      <td>0.271</td>\n      <td>163</td>\n      <td>NaN</td>\n      <td>NaN</td>\n    </tr>\n    <tr>\n      <th>1231</th>\n      <td>599</td>\n      <td>716</td>\n      <td>60</td>\n      <td>0.308</td>\n      <td>0.373</td>\n      <td>0.250</td>\n      <td>162</td>\n      <td>NaN</td>\n      <td>NaN</td>\n    </tr>\n  </tbody>\n</table>\n<p>1232 rows × 9 columns</p>\n</div>"
     },
     "metadata": {},
     "execution_count": 46
    }
   ],
   "source": [
    "df_prep"
   ]
  },
  {
   "source": [
    "# Handling missingvalues\n",
    "\n",
    "420 Nan values are in the OOBP and OSLG column.\n",
    "\n",
    "1) Stategie is to drop these rows with the Nan values. The impact of this stategie is that the dataset shrinks.\n",
    "\n",
    "2) calculate the mean value from all other values in the column and replace it with it."
   ],
   "cell_type": "markdown",
   "metadata": {}
  },
  {
   "cell_type": "code",
   "execution_count": 48,
   "metadata": {},
   "outputs": [
    {
     "output_type": "stream",
     "name": "stdout",
     "text": [
      "0.3322642857142857\n0.41974285714285714\n"
     ]
    }
   ],
   "source": [
    "r_mean = np.mean(df_prep[\"OOBP\"])\n",
    "print(r_mean)\n",
    "df_prep_mean = df_prep.replace(float('NaN'),r_mean)\n",
    "r_mean = np.mean(df_prep[\"OSLG\"])\n",
    "print(r_mean)\n",
    "df_prep_mean  = df_prep_mean.replace(float('NaN'),r_mean)"
   ]
  },
  {
   "cell_type": "code",
   "execution_count": 49,
   "metadata": {},
   "outputs": [
    {
     "output_type": "execute_result",
     "data": {
      "text/plain": [
       "       RS   RA    W    OBP    SLG     BA    G      OOBP      OSLG\n",
       "0     734  688   81  0.328  0.418  0.259  162  0.317000  0.415000\n",
       "1     700  600   94  0.320  0.389  0.247  162  0.306000  0.378000\n",
       "2     712  705   93  0.311  0.417  0.247  162  0.315000  0.403000\n",
       "3     734  806   69  0.315  0.415  0.260  162  0.331000  0.428000\n",
       "4     613  759   61  0.302  0.378  0.240  162  0.335000  0.424000\n",
       "...   ...  ...  ...    ...    ...    ...  ...       ...       ...\n",
       "1227  705  759   81  0.330  0.390  0.260  161  0.332264  0.332264\n",
       "1228  706  626   93  0.321  0.394  0.268  161  0.332264  0.332264\n",
       "1229  878  690  103  0.341  0.441  0.278  165  0.332264  0.332264\n",
       "1230  774  664   84  0.335  0.394  0.271  163  0.332264  0.332264\n",
       "1231  599  716   60  0.308  0.373  0.250  162  0.332264  0.332264\n",
       "\n",
       "[1232 rows x 9 columns]"
      ],
      "text/html": "<div>\n<style scoped>\n    .dataframe tbody tr th:only-of-type {\n        vertical-align: middle;\n    }\n\n    .dataframe tbody tr th {\n        vertical-align: top;\n    }\n\n    .dataframe thead th {\n        text-align: right;\n    }\n</style>\n<table border=\"1\" class=\"dataframe\">\n  <thead>\n    <tr style=\"text-align: right;\">\n      <th></th>\n      <th>RS</th>\n      <th>RA</th>\n      <th>W</th>\n      <th>OBP</th>\n      <th>SLG</th>\n      <th>BA</th>\n      <th>G</th>\n      <th>OOBP</th>\n      <th>OSLG</th>\n    </tr>\n  </thead>\n  <tbody>\n    <tr>\n      <th>0</th>\n      <td>734</td>\n      <td>688</td>\n      <td>81</td>\n      <td>0.328</td>\n      <td>0.418</td>\n      <td>0.259</td>\n      <td>162</td>\n      <td>0.317000</td>\n      <td>0.415000</td>\n    </tr>\n    <tr>\n      <th>1</th>\n      <td>700</td>\n      <td>600</td>\n      <td>94</td>\n      <td>0.320</td>\n      <td>0.389</td>\n      <td>0.247</td>\n      <td>162</td>\n      <td>0.306000</td>\n      <td>0.378000</td>\n    </tr>\n    <tr>\n      <th>2</th>\n      <td>712</td>\n      <td>705</td>\n      <td>93</td>\n      <td>0.311</td>\n      <td>0.417</td>\n      <td>0.247</td>\n      <td>162</td>\n      <td>0.315000</td>\n      <td>0.403000</td>\n    </tr>\n    <tr>\n      <th>3</th>\n      <td>734</td>\n      <td>806</td>\n      <td>69</td>\n      <td>0.315</td>\n      <td>0.415</td>\n      <td>0.260</td>\n      <td>162</td>\n      <td>0.331000</td>\n      <td>0.428000</td>\n    </tr>\n    <tr>\n      <th>4</th>\n      <td>613</td>\n      <td>759</td>\n      <td>61</td>\n      <td>0.302</td>\n      <td>0.378</td>\n      <td>0.240</td>\n      <td>162</td>\n      <td>0.335000</td>\n      <td>0.424000</td>\n    </tr>\n    <tr>\n      <th>...</th>\n      <td>...</td>\n      <td>...</td>\n      <td>...</td>\n      <td>...</td>\n      <td>...</td>\n      <td>...</td>\n      <td>...</td>\n      <td>...</td>\n      <td>...</td>\n    </tr>\n    <tr>\n      <th>1227</th>\n      <td>705</td>\n      <td>759</td>\n      <td>81</td>\n      <td>0.330</td>\n      <td>0.390</td>\n      <td>0.260</td>\n      <td>161</td>\n      <td>0.332264</td>\n      <td>0.332264</td>\n    </tr>\n    <tr>\n      <th>1228</th>\n      <td>706</td>\n      <td>626</td>\n      <td>93</td>\n      <td>0.321</td>\n      <td>0.394</td>\n      <td>0.268</td>\n      <td>161</td>\n      <td>0.332264</td>\n      <td>0.332264</td>\n    </tr>\n    <tr>\n      <th>1229</th>\n      <td>878</td>\n      <td>690</td>\n      <td>103</td>\n      <td>0.341</td>\n      <td>0.441</td>\n      <td>0.278</td>\n      <td>165</td>\n      <td>0.332264</td>\n      <td>0.332264</td>\n    </tr>\n    <tr>\n      <th>1230</th>\n      <td>774</td>\n      <td>664</td>\n      <td>84</td>\n      <td>0.335</td>\n      <td>0.394</td>\n      <td>0.271</td>\n      <td>163</td>\n      <td>0.332264</td>\n      <td>0.332264</td>\n    </tr>\n    <tr>\n      <th>1231</th>\n      <td>599</td>\n      <td>716</td>\n      <td>60</td>\n      <td>0.308</td>\n      <td>0.373</td>\n      <td>0.250</td>\n      <td>162</td>\n      <td>0.332264</td>\n      <td>0.332264</td>\n    </tr>\n  </tbody>\n</table>\n<p>1232 rows × 9 columns</p>\n</div>"
     },
     "metadata": {},
     "execution_count": 49
    }
   ],
   "source": [
    "df_prep_mean"
   ]
  },
  {
   "cell_type": "code",
   "execution_count": 52,
   "metadata": {},
   "outputs": [
    {
     "output_type": "execute_result",
     "data": {
      "text/plain": [
       "      RS   RA   W    OBP    SLG     BA    G   OOBP   OSLG\n",
       "0    734  688  81  0.328  0.418  0.259  162  0.317  0.415\n",
       "1    700  600  94  0.320  0.389  0.247  162  0.306  0.378\n",
       "2    712  705  93  0.311  0.417  0.247  162  0.315  0.403\n",
       "3    734  806  69  0.315  0.415  0.260  162  0.331  0.428\n",
       "4    613  759  61  0.302  0.378  0.240  162  0.335  0.424\n",
       "..   ...  ...  ..    ...    ...    ...  ...    ...    ...\n",
       "415  872  831  86  0.356  0.434  0.271  162  0.345  0.423\n",
       "416  809  838  75  0.338  0.426  0.262  161  0.355  0.427\n",
       "417  772  913  69  0.343  0.411  0.274  162  0.371  0.448\n",
       "418  945  859  95  0.361  0.479  0.293  162  0.346  0.459\n",
       "419  883  862  84  0.352  0.457  0.280  162  0.353  0.456\n",
       "\n",
       "[420 rows x 9 columns]"
      ],
      "text/html": "<div>\n<style scoped>\n    .dataframe tbody tr th:only-of-type {\n        vertical-align: middle;\n    }\n\n    .dataframe tbody tr th {\n        vertical-align: top;\n    }\n\n    .dataframe thead th {\n        text-align: right;\n    }\n</style>\n<table border=\"1\" class=\"dataframe\">\n  <thead>\n    <tr style=\"text-align: right;\">\n      <th></th>\n      <th>RS</th>\n      <th>RA</th>\n      <th>W</th>\n      <th>OBP</th>\n      <th>SLG</th>\n      <th>BA</th>\n      <th>G</th>\n      <th>OOBP</th>\n      <th>OSLG</th>\n    </tr>\n  </thead>\n  <tbody>\n    <tr>\n      <th>0</th>\n      <td>734</td>\n      <td>688</td>\n      <td>81</td>\n      <td>0.328</td>\n      <td>0.418</td>\n      <td>0.259</td>\n      <td>162</td>\n      <td>0.317</td>\n      <td>0.415</td>\n    </tr>\n    <tr>\n      <th>1</th>\n      <td>700</td>\n      <td>600</td>\n      <td>94</td>\n      <td>0.320</td>\n      <td>0.389</td>\n      <td>0.247</td>\n      <td>162</td>\n      <td>0.306</td>\n      <td>0.378</td>\n    </tr>\n    <tr>\n      <th>2</th>\n      <td>712</td>\n      <td>705</td>\n      <td>93</td>\n      <td>0.311</td>\n      <td>0.417</td>\n      <td>0.247</td>\n      <td>162</td>\n      <td>0.315</td>\n      <td>0.403</td>\n    </tr>\n    <tr>\n      <th>3</th>\n      <td>734</td>\n      <td>806</td>\n      <td>69</td>\n      <td>0.315</td>\n      <td>0.415</td>\n      <td>0.260</td>\n      <td>162</td>\n      <td>0.331</td>\n      <td>0.428</td>\n    </tr>\n    <tr>\n      <th>4</th>\n      <td>613</td>\n      <td>759</td>\n      <td>61</td>\n      <td>0.302</td>\n      <td>0.378</td>\n      <td>0.240</td>\n      <td>162</td>\n      <td>0.335</td>\n      <td>0.424</td>\n    </tr>\n    <tr>\n      <th>...</th>\n      <td>...</td>\n      <td>...</td>\n      <td>...</td>\n      <td>...</td>\n      <td>...</td>\n      <td>...</td>\n      <td>...</td>\n      <td>...</td>\n      <td>...</td>\n    </tr>\n    <tr>\n      <th>415</th>\n      <td>872</td>\n      <td>831</td>\n      <td>86</td>\n      <td>0.356</td>\n      <td>0.434</td>\n      <td>0.271</td>\n      <td>162</td>\n      <td>0.345</td>\n      <td>0.423</td>\n    </tr>\n    <tr>\n      <th>416</th>\n      <td>809</td>\n      <td>838</td>\n      <td>75</td>\n      <td>0.338</td>\n      <td>0.426</td>\n      <td>0.262</td>\n      <td>161</td>\n      <td>0.355</td>\n      <td>0.427</td>\n    </tr>\n    <tr>\n      <th>417</th>\n      <td>772</td>\n      <td>913</td>\n      <td>69</td>\n      <td>0.343</td>\n      <td>0.411</td>\n      <td>0.274</td>\n      <td>162</td>\n      <td>0.371</td>\n      <td>0.448</td>\n    </tr>\n    <tr>\n      <th>418</th>\n      <td>945</td>\n      <td>859</td>\n      <td>95</td>\n      <td>0.361</td>\n      <td>0.479</td>\n      <td>0.293</td>\n      <td>162</td>\n      <td>0.346</td>\n      <td>0.459</td>\n    </tr>\n    <tr>\n      <th>419</th>\n      <td>883</td>\n      <td>862</td>\n      <td>84</td>\n      <td>0.352</td>\n      <td>0.457</td>\n      <td>0.280</td>\n      <td>162</td>\n      <td>0.353</td>\n      <td>0.456</td>\n    </tr>\n  </tbody>\n</table>\n<p>420 rows × 9 columns</p>\n</div>"
     },
     "metadata": {},
     "execution_count": 52
    }
   ],
   "source": [
    "df_prep_nomiss = df_prep.dropna()\n",
    "df_prep_nomiss"
   ]
  },
  {
   "source": [
    "# Distributions from the taget-clomum"
   ],
   "cell_type": "markdown",
   "metadata": {}
  },
  {
   "cell_type": "code",
   "execution_count": 65,
   "metadata": {},
   "outputs": [
    {
     "output_type": "execute_result",
     "data": {
      "text/plain": [
       "80.95714285714286"
      ]
     },
     "metadata": {},
     "execution_count": 65
    }
   ],
   "source": [
    "np.mean(df_prep_nomiss[\"W\"])"
   ]
  },
  {
   "cell_type": "code",
   "execution_count": null,
   "metadata": {},
   "outputs": [],
   "source": []
  }
 ]
}