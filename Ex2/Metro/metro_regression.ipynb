{
 "metadata": {
  "language_info": {
   "codemirror_mode": {
    "name": "ipython",
    "version": 3
   },
   "file_extension": ".py",
   "mimetype": "text/x-python",
   "name": "python",
   "nbconvert_exporter": "python",
   "pygments_lexer": "ipython3",
   "version": "3.7.5-final"
  },
  "orig_nbformat": 2,
  "kernelspec": {
   "name": "python37564bitb5f188b5fd4549769c9ea1e1a366fa0d",
   "display_name": "Python 3.7.5 64-bit"
  }
 },
 "nbformat": 4,
 "nbformat_minor": 2,
 "cells": [
  {
   "cell_type": "code",
   "execution_count": 1,
   "metadata": {},
   "outputs": [],
   "source": [
    "import pandas as pd\n",
    "import seaborn as sns\n",
    "import matplotlib.pyplot as plt\n",
    "import numpy as np\n",
    "from math import sqrt\n",
    "from math import log2\n",
    "%matplotlib inline\n",
    "\n",
    "from sklearn.metrics import accuracy_score\n",
    "from sklearn.metrics import r2_score\n",
    "from sklearn.metrics import mean_poisson_deviance\n",
    "from sklearn.metrics import mean_gamma_deviance\n",
    "from sklearn.metrics import median_absolute_error\n",
    "from sklearn.metrics import confusion_matrix\n",
    "import matplotlib.pyplot as plt\n",
    "from matplotlib.colors import ListedColormap\n",
    "from sklearn.pipeline import make_pipeline\n",
    "import time\n",
    "import matplotlib as mpl\n",
    "\n",
    "from sklearn.neighbors import KNeighborsRegressor\n",
    "from sklearn.linear_model import SGDRegressor\n",
    "from sklearn.ensemble import RandomForestRegressor\n",
    "from sklearn.tree import DecisionTreeRegressor\n",
    "\n",
    "\n",
    "\n",
    "from sklearn.preprocessing import StandardScaler,PowerTransformer,MinMaxScaler,QuantileTransformer,normalize\n",
    "from sklearn.model_selection import train_test_split, learning_curve, ShuffleSplit\n",
    "from sklearn.feature_selection import VarianceThreshold, SelectKBest\n",
    "from sklearn.model_selection import KFold\n",
    "from sklearn.decomposition import PCA\n",
    "from sklearn.feature_selection import SelectKBest\n",
    "from sklearn.feature_selection import chi2\n",
    "\n",
    "from sklearn.model_selection import train_test_split\n",
    "\n",
    "import pathlib\n",
    "import os\n",
    "import sys\n",
    "\n",
    "# for selection the right path\n",
    "import os,sys,inspect,pathlib\n",
    "currentdir = os.path.dirname(os.path.abspath(inspect.getfile(inspect.currentframe())))\n",
    "parentdir = os.path.dirname(currentdir)\n",
    "sys.path.insert(0,parentdir)\n",
    "\n",
    "from common.model_trainer_reg import *\n",
    "from common.regression_plotfunctions import *\n",
    "\n",
    "\n",
    "from GD.LinearRegression import LinearRegression\n",
    "from KNN.KNNRegressor import KNNRegressor\n",
    "\n",
    "import metro_preprocessing\n"
   ]
  },
  {
   "cell_type": "code",
   "execution_count": 2,
   "metadata": {},
   "outputs": [
    {
     "output_type": "stream",
     "name": "stdout",
     "text": [
      "['/home/alexander/Dokumente/WS2020/MaschinLearning/ML_2020/Ex2', '/home/alexander/Dokumente/WS2020/MaschinLearning/ML_2020/Ex2', '/home/alexander/Dokumente/WS2020/MaschinLearning/ML_2020/Ex2', '/home/alexander/Dokumente/WS2020/MaschinLearning/ML_2020/Ex2', '/home/alexander/Dokumente/WS2020/MaschinLearning/ML_2020/Ex2/Metro', '', '/home/alexander/ngsuite/ngsolve-install/lib/python3/dist-packages', '/home/alexander/ngsuite/ngsolve-install/bin', '/home/alexander/.local/bin', '/usr/local/sbin', '/usr/local/bin', '/usr/sbin', '/usr/bin', '/sbin', '/bin', '/usr/games', '/usr/local/games', '/snap/bin', '/home/alexander/.vscode/extensions/ms-toolsai.jupyter-2020.11.399280825/pythonFiles', '/home/alexander/.vscode/extensions/ms-toolsai.jupyter-2020.11.399280825/pythonFiles/lib/python', '/usr/lib/python37.zip', '/usr/lib/python3.7', '/usr/lib/python3.7/lib-dynload', '/home/alexander/.local/lib/python3.7/site-packages', '/usr/local/lib/python3.7/dist-packages', '/usr/lib/python3/dist-packages', '/home/alexander/.local/lib/python3.7/site-packages/IPython/extensions', '/home/alexander/.ipython']\n"
     ]
    }
   ],
   "source": [
    "# Custom functions\n",
    "\n",
    "module_path = pathlib.Path(os.getcwd()).parent\n",
    "if str(module_path) not in sys.path:\n",
    "    sys.path.append(str(module_path))\n",
    "print(sys.path)\n",
    "\n",
    "from common.dataset_grabber import get_data_path"
   ]
  },
  {
   "source": [
    "# Train and Test"
   ],
   "cell_type": "markdown",
   "metadata": {}
  },
  {
   "cell_type": "code",
   "execution_count": 3,
   "metadata": {},
   "outputs": [
    {
     "output_type": "display_data",
     "data": {
      "text/plain": "PosixPath('/home/alexander/Dokumente/WS2020/MaschinLearning/ML_2020/Ex2/Datasets/Metro/Metro_Interstate_Traffic_Volume.csv')"
     },
     "metadata": {}
    }
   ],
   "source": [
    "datapath = get_data_path(\"Metro\", \"Metro_Interstate_Traffic_Volume.csv\")\n",
    "display(datapath)"
   ]
  },
  {
   "cell_type": "code",
   "execution_count": 26,
   "metadata": {},
   "outputs": [],
   "source": [
    "df_raw = pd.read_csv(datapath)\n",
    "#df_raw = df_raw.sample(30000)\n",
    "X, Y = metro_preprocessing.preprocessing(df_raw, transform = True)"
   ]
  },
  {
   "source": [
    "## SGD-Regression"
   ],
   "cell_type": "markdown",
   "metadata": {}
  },
  {
   "cell_type": "code",
   "execution_count": 9,
   "metadata": {},
   "outputs": [
    {
     "output_type": "display_data",
     "data": {
      "text/plain": "     alpha  max_iter  train_time  inference_time  R2_score      RMSE  D     N  \\\n0   0.1000      1000    0.002791        0.000324  0.246213  0.812189  3  2999   \n1   0.1000     10000    0.002767        0.000303  0.246721  0.811642  3  2999   \n2   0.1000    100000    0.002747        0.000257  0.247933  0.810336  3  2999   \n3   0.0100      1000    0.006167        0.000440  0.247020  0.811319  3  2999   \n4   0.0100     10000    0.003174        0.000520  0.248393  0.809840  3  2999   \n5   0.0100    100000    0.003445        0.000497  0.246229  0.812171  3  2999   \n6   0.0010      1000    0.002660        0.000300  0.244029  0.814543  3  2999   \n7   0.0010     10000    0.002694        0.000275  0.246496  0.811884  3  2999   \n8   0.0010    100000    0.003231        0.000300  0.246051  0.812364  3  2999   \n9   0.0001      1000    0.002089        0.000226  0.249446  0.808706  3  2999   \n10  0.0001     10000    0.001725        0.000180  0.248183  0.810066  3  2999   \n11  0.0001    100000    0.001694        0.000125  0.248314  0.809926  3  2999   \n\n    n_test  n_train  \n0      900     2099  \n1      900     2099  \n2      900     2099  \n3      900     2099  \n4      900     2099  \n5      900     2099  \n6      900     2099  \n7      900     2099  \n8      900     2099  \n9      900     2099  \n10     900     2099  \n11     900     2099  ",
      "text/html": "<div>\n<style scoped>\n    .dataframe tbody tr th:only-of-type {\n        vertical-align: middle;\n    }\n\n    .dataframe tbody tr th {\n        vertical-align: top;\n    }\n\n    .dataframe thead th {\n        text-align: right;\n    }\n</style>\n<table border=\"1\" class=\"dataframe\">\n  <thead>\n    <tr style=\"text-align: right;\">\n      <th></th>\n      <th>alpha</th>\n      <th>max_iter</th>\n      <th>train_time</th>\n      <th>inference_time</th>\n      <th>R2_score</th>\n      <th>RMSE</th>\n      <th>D</th>\n      <th>N</th>\n      <th>n_test</th>\n      <th>n_train</th>\n    </tr>\n  </thead>\n  <tbody>\n    <tr>\n      <th>0</th>\n      <td>0.1000</td>\n      <td>1000</td>\n      <td>0.002791</td>\n      <td>0.000324</td>\n      <td>0.246213</td>\n      <td>0.812189</td>\n      <td>3</td>\n      <td>2999</td>\n      <td>900</td>\n      <td>2099</td>\n    </tr>\n    <tr>\n      <th>1</th>\n      <td>0.1000</td>\n      <td>10000</td>\n      <td>0.002767</td>\n      <td>0.000303</td>\n      <td>0.246721</td>\n      <td>0.811642</td>\n      <td>3</td>\n      <td>2999</td>\n      <td>900</td>\n      <td>2099</td>\n    </tr>\n    <tr>\n      <th>2</th>\n      <td>0.1000</td>\n      <td>100000</td>\n      <td>0.002747</td>\n      <td>0.000257</td>\n      <td>0.247933</td>\n      <td>0.810336</td>\n      <td>3</td>\n      <td>2999</td>\n      <td>900</td>\n      <td>2099</td>\n    </tr>\n    <tr>\n      <th>3</th>\n      <td>0.0100</td>\n      <td>1000</td>\n      <td>0.006167</td>\n      <td>0.000440</td>\n      <td>0.247020</td>\n      <td>0.811319</td>\n      <td>3</td>\n      <td>2999</td>\n      <td>900</td>\n      <td>2099</td>\n    </tr>\n    <tr>\n      <th>4</th>\n      <td>0.0100</td>\n      <td>10000</td>\n      <td>0.003174</td>\n      <td>0.000520</td>\n      <td>0.248393</td>\n      <td>0.809840</td>\n      <td>3</td>\n      <td>2999</td>\n      <td>900</td>\n      <td>2099</td>\n    </tr>\n    <tr>\n      <th>5</th>\n      <td>0.0100</td>\n      <td>100000</td>\n      <td>0.003445</td>\n      <td>0.000497</td>\n      <td>0.246229</td>\n      <td>0.812171</td>\n      <td>3</td>\n      <td>2999</td>\n      <td>900</td>\n      <td>2099</td>\n    </tr>\n    <tr>\n      <th>6</th>\n      <td>0.0010</td>\n      <td>1000</td>\n      <td>0.002660</td>\n      <td>0.000300</td>\n      <td>0.244029</td>\n      <td>0.814543</td>\n      <td>3</td>\n      <td>2999</td>\n      <td>900</td>\n      <td>2099</td>\n    </tr>\n    <tr>\n      <th>7</th>\n      <td>0.0010</td>\n      <td>10000</td>\n      <td>0.002694</td>\n      <td>0.000275</td>\n      <td>0.246496</td>\n      <td>0.811884</td>\n      <td>3</td>\n      <td>2999</td>\n      <td>900</td>\n      <td>2099</td>\n    </tr>\n    <tr>\n      <th>8</th>\n      <td>0.0010</td>\n      <td>100000</td>\n      <td>0.003231</td>\n      <td>0.000300</td>\n      <td>0.246051</td>\n      <td>0.812364</td>\n      <td>3</td>\n      <td>2999</td>\n      <td>900</td>\n      <td>2099</td>\n    </tr>\n    <tr>\n      <th>9</th>\n      <td>0.0001</td>\n      <td>1000</td>\n      <td>0.002089</td>\n      <td>0.000226</td>\n      <td>0.249446</td>\n      <td>0.808706</td>\n      <td>3</td>\n      <td>2999</td>\n      <td>900</td>\n      <td>2099</td>\n    </tr>\n    <tr>\n      <th>10</th>\n      <td>0.0001</td>\n      <td>10000</td>\n      <td>0.001725</td>\n      <td>0.000180</td>\n      <td>0.248183</td>\n      <td>0.810066</td>\n      <td>3</td>\n      <td>2999</td>\n      <td>900</td>\n      <td>2099</td>\n    </tr>\n    <tr>\n      <th>11</th>\n      <td>0.0001</td>\n      <td>100000</td>\n      <td>0.001694</td>\n      <td>0.000125</td>\n      <td>0.248314</td>\n      <td>0.809926</td>\n      <td>3</td>\n      <td>2999</td>\n      <td>900</td>\n      <td>2099</td>\n    </tr>\n  </tbody>\n</table>\n</div>"
     },
     "metadata": {}
    },
    {
     "output_type": "display_data",
     "data": {
      "text/plain": "     alpha  max_iter  train_time  inference_time  k  R2_score      RMSE  D  \\\n0   0.1000      1000    0.002401        0.000263  1  0.244735  0.813781  3   \n1   0.1000     10000    0.003181        0.000230  1  0.245713  0.812727  3   \n2   0.1000    100000    0.002203        0.000267  1  0.245068  0.813423  3   \n3   0.0100      1000    0.002075        0.000230  1  0.249107  0.809071  3   \n4   0.0100     10000    0.002087        0.000136  1  0.250058  0.808046  3   \n5   0.0100    100000    0.001578        0.000108  1  0.247892  0.810380  3   \n6   0.0010      1000    0.002365        0.000120  1  0.248593  0.809625  3   \n7   0.0010     10000    0.001594        0.000114  1  0.248969  0.809220  3   \n8   0.0010    100000    0.001888        0.000237  1  0.246805  0.811552  3   \n9   0.0001      1000    0.002209        0.000291  1  0.249025  0.809159  3   \n10  0.0001     10000    0.001775        0.000186  1  0.248770  0.809434  3   \n11  0.0001    100000    0.002048        0.000244  1  0.247927  0.810342  3   \n12  0.1000      1000    0.001873        0.000174  2  0.232285  0.836331  3   \n13  0.1000     10000    0.002883        0.000180  2  0.228973  0.839939  3   \n14  0.1000    100000    0.001746        0.000247  2  0.231595  0.837083  3   \n15  0.0100      1000    0.002669        0.000204  2  0.232440  0.836163  3   \n16  0.0100     10000    0.003512        0.000404  2  0.233921  0.834549  3   \n17  0.0100    100000    0.002313        0.000187  2  0.234087  0.834369  3   \n18  0.0010      1000    0.002841        0.000339  2  0.233602  0.834897  3   \n19  0.0010     10000    0.002280        0.000201  2  0.229539  0.839323  3   \n20  0.0010    100000    0.002252        0.000216  2  0.236208  0.832058  3   \n21  0.0001      1000    0.003200        0.000172  2  0.231491  0.837197  3   \n22  0.0001     10000    0.003182        0.000180  2  0.234090  0.834365  3   \n23  0.0001    100000    0.002108        0.000107  2  0.233174  0.835363  3   \n\n       N  n_test  n_train  \n0   2999     900     2099  \n1   2999     900     2099  \n2   2999     900     2099  \n3   2999     900     2099  \n4   2999     900     2099  \n5   2999     900     2099  \n6   2999     900     2099  \n7   2999     900     2099  \n8   2999     900     2099  \n9   2999     900     2099  \n10  2999     900     2099  \n11  2999     900     2099  \n12  2999     900     2099  \n13  2999     900     2099  \n14  2999     900     2099  \n15  2999     900     2099  \n16  2999     900     2099  \n17  2999     900     2099  \n18  2999     900     2099  \n19  2999     900     2099  \n20  2999     900     2099  \n21  2999     900     2099  \n22  2999     900     2099  \n23  2999     900     2099  ",
      "text/html": "<div>\n<style scoped>\n    .dataframe tbody tr th:only-of-type {\n        vertical-align: middle;\n    }\n\n    .dataframe tbody tr th {\n        vertical-align: top;\n    }\n\n    .dataframe thead th {\n        text-align: right;\n    }\n</style>\n<table border=\"1\" class=\"dataframe\">\n  <thead>\n    <tr style=\"text-align: right;\">\n      <th></th>\n      <th>alpha</th>\n      <th>max_iter</th>\n      <th>train_time</th>\n      <th>inference_time</th>\n      <th>k</th>\n      <th>R2_score</th>\n      <th>RMSE</th>\n      <th>D</th>\n      <th>N</th>\n      <th>n_test</th>\n      <th>n_train</th>\n    </tr>\n  </thead>\n  <tbody>\n    <tr>\n      <th>0</th>\n      <td>0.1000</td>\n      <td>1000</td>\n      <td>0.002401</td>\n      <td>0.000263</td>\n      <td>1</td>\n      <td>0.244735</td>\n      <td>0.813781</td>\n      <td>3</td>\n      <td>2999</td>\n      <td>900</td>\n      <td>2099</td>\n    </tr>\n    <tr>\n      <th>1</th>\n      <td>0.1000</td>\n      <td>10000</td>\n      <td>0.003181</td>\n      <td>0.000230</td>\n      <td>1</td>\n      <td>0.245713</td>\n      <td>0.812727</td>\n      <td>3</td>\n      <td>2999</td>\n      <td>900</td>\n      <td>2099</td>\n    </tr>\n    <tr>\n      <th>2</th>\n      <td>0.1000</td>\n      <td>100000</td>\n      <td>0.002203</td>\n      <td>0.000267</td>\n      <td>1</td>\n      <td>0.245068</td>\n      <td>0.813423</td>\n      <td>3</td>\n      <td>2999</td>\n      <td>900</td>\n      <td>2099</td>\n    </tr>\n    <tr>\n      <th>3</th>\n      <td>0.0100</td>\n      <td>1000</td>\n      <td>0.002075</td>\n      <td>0.000230</td>\n      <td>1</td>\n      <td>0.249107</td>\n      <td>0.809071</td>\n      <td>3</td>\n      <td>2999</td>\n      <td>900</td>\n      <td>2099</td>\n    </tr>\n    <tr>\n      <th>4</th>\n      <td>0.0100</td>\n      <td>10000</td>\n      <td>0.002087</td>\n      <td>0.000136</td>\n      <td>1</td>\n      <td>0.250058</td>\n      <td>0.808046</td>\n      <td>3</td>\n      <td>2999</td>\n      <td>900</td>\n      <td>2099</td>\n    </tr>\n    <tr>\n      <th>5</th>\n      <td>0.0100</td>\n      <td>100000</td>\n      <td>0.001578</td>\n      <td>0.000108</td>\n      <td>1</td>\n      <td>0.247892</td>\n      <td>0.810380</td>\n      <td>3</td>\n      <td>2999</td>\n      <td>900</td>\n      <td>2099</td>\n    </tr>\n    <tr>\n      <th>6</th>\n      <td>0.0010</td>\n      <td>1000</td>\n      <td>0.002365</td>\n      <td>0.000120</td>\n      <td>1</td>\n      <td>0.248593</td>\n      <td>0.809625</td>\n      <td>3</td>\n      <td>2999</td>\n      <td>900</td>\n      <td>2099</td>\n    </tr>\n    <tr>\n      <th>7</th>\n      <td>0.0010</td>\n      <td>10000</td>\n      <td>0.001594</td>\n      <td>0.000114</td>\n      <td>1</td>\n      <td>0.248969</td>\n      <td>0.809220</td>\n      <td>3</td>\n      <td>2999</td>\n      <td>900</td>\n      <td>2099</td>\n    </tr>\n    <tr>\n      <th>8</th>\n      <td>0.0010</td>\n      <td>100000</td>\n      <td>0.001888</td>\n      <td>0.000237</td>\n      <td>1</td>\n      <td>0.246805</td>\n      <td>0.811552</td>\n      <td>3</td>\n      <td>2999</td>\n      <td>900</td>\n      <td>2099</td>\n    </tr>\n    <tr>\n      <th>9</th>\n      <td>0.0001</td>\n      <td>1000</td>\n      <td>0.002209</td>\n      <td>0.000291</td>\n      <td>1</td>\n      <td>0.249025</td>\n      <td>0.809159</td>\n      <td>3</td>\n      <td>2999</td>\n      <td>900</td>\n      <td>2099</td>\n    </tr>\n    <tr>\n      <th>10</th>\n      <td>0.0001</td>\n      <td>10000</td>\n      <td>0.001775</td>\n      <td>0.000186</td>\n      <td>1</td>\n      <td>0.248770</td>\n      <td>0.809434</td>\n      <td>3</td>\n      <td>2999</td>\n      <td>900</td>\n      <td>2099</td>\n    </tr>\n    <tr>\n      <th>11</th>\n      <td>0.0001</td>\n      <td>100000</td>\n      <td>0.002048</td>\n      <td>0.000244</td>\n      <td>1</td>\n      <td>0.247927</td>\n      <td>0.810342</td>\n      <td>3</td>\n      <td>2999</td>\n      <td>900</td>\n      <td>2099</td>\n    </tr>\n    <tr>\n      <th>12</th>\n      <td>0.1000</td>\n      <td>1000</td>\n      <td>0.001873</td>\n      <td>0.000174</td>\n      <td>2</td>\n      <td>0.232285</td>\n      <td>0.836331</td>\n      <td>3</td>\n      <td>2999</td>\n      <td>900</td>\n      <td>2099</td>\n    </tr>\n    <tr>\n      <th>13</th>\n      <td>0.1000</td>\n      <td>10000</td>\n      <td>0.002883</td>\n      <td>0.000180</td>\n      <td>2</td>\n      <td>0.228973</td>\n      <td>0.839939</td>\n      <td>3</td>\n      <td>2999</td>\n      <td>900</td>\n      <td>2099</td>\n    </tr>\n    <tr>\n      <th>14</th>\n      <td>0.1000</td>\n      <td>100000</td>\n      <td>0.001746</td>\n      <td>0.000247</td>\n      <td>2</td>\n      <td>0.231595</td>\n      <td>0.837083</td>\n      <td>3</td>\n      <td>2999</td>\n      <td>900</td>\n      <td>2099</td>\n    </tr>\n    <tr>\n      <th>15</th>\n      <td>0.0100</td>\n      <td>1000</td>\n      <td>0.002669</td>\n      <td>0.000204</td>\n      <td>2</td>\n      <td>0.232440</td>\n      <td>0.836163</td>\n      <td>3</td>\n      <td>2999</td>\n      <td>900</td>\n      <td>2099</td>\n    </tr>\n    <tr>\n      <th>16</th>\n      <td>0.0100</td>\n      <td>10000</td>\n      <td>0.003512</td>\n      <td>0.000404</td>\n      <td>2</td>\n      <td>0.233921</td>\n      <td>0.834549</td>\n      <td>3</td>\n      <td>2999</td>\n      <td>900</td>\n      <td>2099</td>\n    </tr>\n    <tr>\n      <th>17</th>\n      <td>0.0100</td>\n      <td>100000</td>\n      <td>0.002313</td>\n      <td>0.000187</td>\n      <td>2</td>\n      <td>0.234087</td>\n      <td>0.834369</td>\n      <td>3</td>\n      <td>2999</td>\n      <td>900</td>\n      <td>2099</td>\n    </tr>\n    <tr>\n      <th>18</th>\n      <td>0.0010</td>\n      <td>1000</td>\n      <td>0.002841</td>\n      <td>0.000339</td>\n      <td>2</td>\n      <td>0.233602</td>\n      <td>0.834897</td>\n      <td>3</td>\n      <td>2999</td>\n      <td>900</td>\n      <td>2099</td>\n    </tr>\n    <tr>\n      <th>19</th>\n      <td>0.0010</td>\n      <td>10000</td>\n      <td>0.002280</td>\n      <td>0.000201</td>\n      <td>2</td>\n      <td>0.229539</td>\n      <td>0.839323</td>\n      <td>3</td>\n      <td>2999</td>\n      <td>900</td>\n      <td>2099</td>\n    </tr>\n    <tr>\n      <th>20</th>\n      <td>0.0010</td>\n      <td>100000</td>\n      <td>0.002252</td>\n      <td>0.000216</td>\n      <td>2</td>\n      <td>0.236208</td>\n      <td>0.832058</td>\n      <td>3</td>\n      <td>2999</td>\n      <td>900</td>\n      <td>2099</td>\n    </tr>\n    <tr>\n      <th>21</th>\n      <td>0.0001</td>\n      <td>1000</td>\n      <td>0.003200</td>\n      <td>0.000172</td>\n      <td>2</td>\n      <td>0.231491</td>\n      <td>0.837197</td>\n      <td>3</td>\n      <td>2999</td>\n      <td>900</td>\n      <td>2099</td>\n    </tr>\n    <tr>\n      <th>22</th>\n      <td>0.0001</td>\n      <td>10000</td>\n      <td>0.003182</td>\n      <td>0.000180</td>\n      <td>2</td>\n      <td>0.234090</td>\n      <td>0.834365</td>\n      <td>3</td>\n      <td>2999</td>\n      <td>900</td>\n      <td>2099</td>\n    </tr>\n    <tr>\n      <th>23</th>\n      <td>0.0001</td>\n      <td>100000</td>\n      <td>0.002108</td>\n      <td>0.000107</td>\n      <td>2</td>\n      <td>0.233174</td>\n      <td>0.835363</td>\n      <td>3</td>\n      <td>2999</td>\n      <td>900</td>\n      <td>2099</td>\n    </tr>\n  </tbody>\n</table>\n</div>"
     },
     "metadata": {}
    }
   ],
   "source": [
    "MODEL = SGDRegressor\n",
    "NAME = \"SGD\"\n",
    "PATH = \"out/\"+NAME+\"/\"\n",
    "params = {\"alpha\" : [0.1,0.01,0.001,0.0001],\n",
    "          \"max_iter\" : [1000, 10000, 100000]}\n",
    "n_splits = 2\n",
    "test_size = 0.3\n",
    "\n",
    "modeltrainer = ModelTrainer(MODEL, params, X, Y, thread_cnt=1)\n",
    "########### train with TrainTestSplit  ###################\n",
    "modeltrainer.TTSplit(test_size = test_size)\n",
    "modeltrainer.train()\n",
    "results = modeltrainer.retResults(PATH + \"sklearn_TTS_SGD.csv\")\n",
    "display(results)\n",
    "############ shuffle_Cross validation  ###################\n",
    "modeltrainer.CV_shuffle_split(k = n_splits, test_size = test_size, random_state = 42)\n",
    "results = modeltrainer.retResults(PATH + \"sklearn_CV_SGD.csv\")\n",
    "display(results)"
   ]
  },
  {
   "source": [
    "## My SGD-Regression"
   ],
   "cell_type": "markdown",
   "metadata": {}
  },
  {
   "cell_type": "code",
   "execution_count": null,
   "metadata": {},
   "outputs": [],
   "source": [
    "MODEL = LinearRegression\n",
    "params = {\"alpha\" : [0.0001], \"max_iter\": [1000]}\n",
    "\n",
    "\n",
    "modeltrainer = ModelTrainer(MODEL, params, X, Y, thread_cnt=1)\n",
    "########### train with TrainTestSplit  ###################\n",
    "modeltrainer.TTSplit(test_size = test_size)\n",
    "modeltrainer.train()\n",
    "results = modeltrainer.retResults(PATH + \"my_TTS_SGD.csv\")\n",
    "display(results)\n",
    "############ shuffle_Cross validation  ###################\n",
    "modeltrainer.CV_shuffle_split(k = n_splits, test_size = test_size, random_state = 42)\n",
    "results = modeltrainer.retResults(PATH + \"my_CV_SGD.csv\")\n",
    "display(results)"
   ]
  },
  {
   "source": [
    "## KNN-Regression"
   ],
   "cell_type": "markdown",
   "metadata": {}
  },
  {
   "cell_type": "code",
   "execution_count": null,
   "metadata": {},
   "outputs": [],
   "source": [
    "MODEL = KNeighborsRegressor\n",
    "params = {\"weights\" : [\"uniform\"]}\n",
    "NAME = \"KNN\"\n",
    "PATH = \"out/\"+NAME+\"/\"\n",
    "\n",
    "\n",
    "modeltrainer = ModelTrainer(MODEL, params, X, Y, thread_cnt=1)\n",
    "########### train with TrainTestSplit  ###################\n",
    "modeltrainer.TTSplit(test_size = test_size)\n",
    "modeltrainer.train()\n",
    "results = modeltrainer.retResults(PATH + \"sklearn_TTS_KNN.csv\")\n",
    "display(results)\n",
    "############ shuffle_Cross validation  ###################\n",
    "modeltrainer.CV_shuffle_split(k = n_splits, test_size = test_size, random_state = 42)\n",
    "results = modeltrainer.retResults(PATH + \"sklearn_CV_KNN.csv\")\n",
    "display(results)"
   ]
  },
  {
   "source": [
    "## my KNN-Regression"
   ],
   "cell_type": "markdown",
   "metadata": {}
  },
  {
   "cell_type": "code",
   "execution_count": 28,
   "metadata": {},
   "outputs": [
    {
     "output_type": "stream",
     "name": "stdout",
     "text": [
      "chunking...\n",
      "chunking...\n"
     ]
    },
    {
     "output_type": "display_data",
     "data": {
      "text/plain": "   n_neighbors  p  chunk_size  train_time  inference_time  R2_score      RMSE  \\\n0            5  2          20    0.000009       46.809888  0.755979  0.252885   \n1            5  2         100    0.000005       46.563448  0.755979  0.252885   \n\n   D      N  n_test  n_train  \n0  3  48193   14458    33735  \n1  3  48193   14458    33735  ",
      "text/html": "<div>\n<style scoped>\n    .dataframe tbody tr th:only-of-type {\n        vertical-align: middle;\n    }\n\n    .dataframe tbody tr th {\n        vertical-align: top;\n    }\n\n    .dataframe thead th {\n        text-align: right;\n    }\n</style>\n<table border=\"1\" class=\"dataframe\">\n  <thead>\n    <tr style=\"text-align: right;\">\n      <th></th>\n      <th>n_neighbors</th>\n      <th>p</th>\n      <th>chunk_size</th>\n      <th>train_time</th>\n      <th>inference_time</th>\n      <th>R2_score</th>\n      <th>RMSE</th>\n      <th>D</th>\n      <th>N</th>\n      <th>n_test</th>\n      <th>n_train</th>\n    </tr>\n  </thead>\n  <tbody>\n    <tr>\n      <th>0</th>\n      <td>5</td>\n      <td>2</td>\n      <td>20</td>\n      <td>0.000009</td>\n      <td>46.809888</td>\n      <td>0.755979</td>\n      <td>0.252885</td>\n      <td>3</td>\n      <td>48193</td>\n      <td>14458</td>\n      <td>33735</td>\n    </tr>\n    <tr>\n      <th>1</th>\n      <td>5</td>\n      <td>2</td>\n      <td>100</td>\n      <td>0.000005</td>\n      <td>46.563448</td>\n      <td>0.755979</td>\n      <td>0.252885</td>\n      <td>3</td>\n      <td>48193</td>\n      <td>14458</td>\n      <td>33735</td>\n    </tr>\n  </tbody>\n</table>\n</div>"
     },
     "metadata": {}
    },
    {
     "output_type": "stream",
     "name": "stdout",
     "text": [
      "chunking...\n",
      "chunking...\n",
      "chunking...\n",
      "chunking...\n"
     ]
    },
    {
     "output_type": "display_data",
     "data": {
      "text/plain": "   n_neighbors  p  chunk_size  train_time  inference_time  k  R2_score  \\\n0            5  2          20    0.000008       52.733455  1  0.755979   \n1            5  2         100    0.000006       54.507685  1  0.755979   \n2            5  2          20    0.000007       55.959496  2  0.760454   \n3            5  2         100    0.000006       47.813373  2  0.760454   \n\n       RMSE  D      N  n_test  n_train  \n0  0.252885  3  48193   14458    33735  \n1  0.252885  3  48193   14458    33735  \n2  0.245941  3  48193   14458    33735  \n3  0.245941  3  48193   14458    33735  ",
      "text/html": "<div>\n<style scoped>\n    .dataframe tbody tr th:only-of-type {\n        vertical-align: middle;\n    }\n\n    .dataframe tbody tr th {\n        vertical-align: top;\n    }\n\n    .dataframe thead th {\n        text-align: right;\n    }\n</style>\n<table border=\"1\" class=\"dataframe\">\n  <thead>\n    <tr style=\"text-align: right;\">\n      <th></th>\n      <th>n_neighbors</th>\n      <th>p</th>\n      <th>chunk_size</th>\n      <th>train_time</th>\n      <th>inference_time</th>\n      <th>k</th>\n      <th>R2_score</th>\n      <th>RMSE</th>\n      <th>D</th>\n      <th>N</th>\n      <th>n_test</th>\n      <th>n_train</th>\n    </tr>\n  </thead>\n  <tbody>\n    <tr>\n      <th>0</th>\n      <td>5</td>\n      <td>2</td>\n      <td>20</td>\n      <td>0.000008</td>\n      <td>52.733455</td>\n      <td>1</td>\n      <td>0.755979</td>\n      <td>0.252885</td>\n      <td>3</td>\n      <td>48193</td>\n      <td>14458</td>\n      <td>33735</td>\n    </tr>\n    <tr>\n      <th>1</th>\n      <td>5</td>\n      <td>2</td>\n      <td>100</td>\n      <td>0.000006</td>\n      <td>54.507685</td>\n      <td>1</td>\n      <td>0.755979</td>\n      <td>0.252885</td>\n      <td>3</td>\n      <td>48193</td>\n      <td>14458</td>\n      <td>33735</td>\n    </tr>\n    <tr>\n      <th>2</th>\n      <td>5</td>\n      <td>2</td>\n      <td>20</td>\n      <td>0.000007</td>\n      <td>55.959496</td>\n      <td>2</td>\n      <td>0.760454</td>\n      <td>0.245941</td>\n      <td>3</td>\n      <td>48193</td>\n      <td>14458</td>\n      <td>33735</td>\n    </tr>\n    <tr>\n      <th>3</th>\n      <td>5</td>\n      <td>2</td>\n      <td>100</td>\n      <td>0.000006</td>\n      <td>47.813373</td>\n      <td>2</td>\n      <td>0.760454</td>\n      <td>0.245941</td>\n      <td>3</td>\n      <td>48193</td>\n      <td>14458</td>\n      <td>33735</td>\n    </tr>\n  </tbody>\n</table>\n</div>"
     },
     "metadata": {}
    }
   ],
   "source": [
    "MODEL = KNNRegressor\n",
    "params = {\"n_neighbors\" : [5],\n",
    "           \"p\": [2],\n",
    "           \"chunk_size\": [20,100]}\n",
    "NAME = \"KNN\"\n",
    "PATH = \"out/\"+NAME+\"/\"\n",
    "\n",
    "\n",
    "modeltrainer = ModelTrainer(MODEL, params, X, Y, thread_cnt=1)\n",
    "########### train with TrainTestSplit  ###################\n",
    "modeltrainer.TTSplit(test_size = test_size)\n",
    "modeltrainer.train()\n",
    "results = modeltrainer.retResults(PATH + \"my_TTS_KNN.csv\")\n",
    "display(results)\n",
    "############ shuffle_Cross validation  ###################\n",
    "modeltrainer.CV_shuffle_split(k = n_splits, test_size = test_size, random_state = 42)\n",
    "results = modeltrainer.retResults(PATH + \"my_CV_KNN.csv\")\n",
    "display(results)"
   ]
  },
  {
   "source": [
    "## RF-Regression"
   ],
   "cell_type": "markdown",
   "metadata": {}
  },
  {
   "cell_type": "code",
   "execution_count": 29,
   "metadata": {},
   "outputs": [
    {
     "output_type": "display_data",
     "data": {
      "text/plain": "   n_estimators  train_time  inference_time  R2_score      RMSE  D      N  \\\n0           100   13.354178        0.395512  0.866017  0.138849  3  48193   \n\n   n_test  n_train  \n0   14458    33735  ",
      "text/html": "<div>\n<style scoped>\n    .dataframe tbody tr th:only-of-type {\n        vertical-align: middle;\n    }\n\n    .dataframe tbody tr th {\n        vertical-align: top;\n    }\n\n    .dataframe thead th {\n        text-align: right;\n    }\n</style>\n<table border=\"1\" class=\"dataframe\">\n  <thead>\n    <tr style=\"text-align: right;\">\n      <th></th>\n      <th>n_estimators</th>\n      <th>train_time</th>\n      <th>inference_time</th>\n      <th>R2_score</th>\n      <th>RMSE</th>\n      <th>D</th>\n      <th>N</th>\n      <th>n_test</th>\n      <th>n_train</th>\n    </tr>\n  </thead>\n  <tbody>\n    <tr>\n      <th>0</th>\n      <td>100</td>\n      <td>13.354178</td>\n      <td>0.395512</td>\n      <td>0.866017</td>\n      <td>0.138849</td>\n      <td>3</td>\n      <td>48193</td>\n      <td>14458</td>\n      <td>33735</td>\n    </tr>\n  </tbody>\n</table>\n</div>"
     },
     "metadata": {}
    },
    {
     "output_type": "display_data",
     "data": {
      "text/plain": "   n_estimators  train_time  inference_time  k  R2_score      RMSE  D      N  \\\n0           100   13.338825        0.389454  1  0.866662  0.138181  3  48193   \n1           100   13.325828        0.397604  2  0.866047  0.137529  3  48193   \n\n   n_test  n_train  \n0   14458    33735  \n1   14458    33735  ",
      "text/html": "<div>\n<style scoped>\n    .dataframe tbody tr th:only-of-type {\n        vertical-align: middle;\n    }\n\n    .dataframe tbody tr th {\n        vertical-align: top;\n    }\n\n    .dataframe thead th {\n        text-align: right;\n    }\n</style>\n<table border=\"1\" class=\"dataframe\">\n  <thead>\n    <tr style=\"text-align: right;\">\n      <th></th>\n      <th>n_estimators</th>\n      <th>train_time</th>\n      <th>inference_time</th>\n      <th>k</th>\n      <th>R2_score</th>\n      <th>RMSE</th>\n      <th>D</th>\n      <th>N</th>\n      <th>n_test</th>\n      <th>n_train</th>\n    </tr>\n  </thead>\n  <tbody>\n    <tr>\n      <th>0</th>\n      <td>100</td>\n      <td>13.338825</td>\n      <td>0.389454</td>\n      <td>1</td>\n      <td>0.866662</td>\n      <td>0.138181</td>\n      <td>3</td>\n      <td>48193</td>\n      <td>14458</td>\n      <td>33735</td>\n    </tr>\n    <tr>\n      <th>1</th>\n      <td>100</td>\n      <td>13.325828</td>\n      <td>0.397604</td>\n      <td>2</td>\n      <td>0.866047</td>\n      <td>0.137529</td>\n      <td>3</td>\n      <td>48193</td>\n      <td>14458</td>\n      <td>33735</td>\n    </tr>\n  </tbody>\n</table>\n</div>"
     },
     "metadata": {}
    }
   ],
   "source": [
    "MODEL = RandomForestRegressor\n",
    "params = {\"n_estimators\" : [100]}\n",
    "NAME = \"RF\"\n",
    "PATH = \"out/\"+NAME+\"/\"\n",
    "\n",
    "\n",
    "\n",
    "modeltrainer = ModelTrainer(MODEL, params, X, Y, thread_cnt=1)\n",
    "########### train with TrainTestSplit  ###################\n",
    "modeltrainer.TTSplit(test_size = test_size)\n",
    "modeltrainer.train()\n",
    "results = modeltrainer.retResults(PATH + \"sklearn_TTS_RF.csv\")\n",
    "display(results)\n",
    "############ shuffle_Cross validation  ###################\n",
    "modeltrainer.CV_shuffle_split(k = n_splits, test_size = test_size, random_state = 42)\n",
    "results = modeltrainer.retResults(PATH + \"sklearn_CV_RF.csv\")\n",
    "display(results)"
   ]
  },
  {
   "source": [
    "## DT-Regression"
   ],
   "cell_type": "markdown",
   "metadata": {}
  },
  {
   "cell_type": "code",
   "execution_count": 30,
   "metadata": {},
   "outputs": [
    {
     "output_type": "display_data",
     "data": {
      "text/plain": "  criterion  train_time  inference_time  R2_score     RMSE  D      N  n_test  \\\n0       mse    0.206732        0.004643  0.753204  0.25576  3  48193   14458   \n\n   n_train  \n0    33735  ",
      "text/html": "<div>\n<style scoped>\n    .dataframe tbody tr th:only-of-type {\n        vertical-align: middle;\n    }\n\n    .dataframe tbody tr th {\n        vertical-align: top;\n    }\n\n    .dataframe thead th {\n        text-align: right;\n    }\n</style>\n<table border=\"1\" class=\"dataframe\">\n  <thead>\n    <tr style=\"text-align: right;\">\n      <th></th>\n      <th>criterion</th>\n      <th>train_time</th>\n      <th>inference_time</th>\n      <th>R2_score</th>\n      <th>RMSE</th>\n      <th>D</th>\n      <th>N</th>\n      <th>n_test</th>\n      <th>n_train</th>\n    </tr>\n  </thead>\n  <tbody>\n    <tr>\n      <th>0</th>\n      <td>mse</td>\n      <td>0.206732</td>\n      <td>0.004643</td>\n      <td>0.753204</td>\n      <td>0.25576</td>\n      <td>3</td>\n      <td>48193</td>\n      <td>14458</td>\n      <td>33735</td>\n    </tr>\n  </tbody>\n</table>\n</div>"
     },
     "metadata": {}
    },
    {
     "output_type": "display_data",
     "data": {
      "text/plain": "  criterion  train_time  inference_time  k  R2_score      RMSE  D      N  \\\n0       mse    0.206992        0.004446  1  0.753397  0.255560  3  48193   \n1       mse    0.201764        0.005119  2  0.741963  0.264925  3  48193   \n\n   n_test  n_train  \n0   14458    33735  \n1   14458    33735  ",
      "text/html": "<div>\n<style scoped>\n    .dataframe tbody tr th:only-of-type {\n        vertical-align: middle;\n    }\n\n    .dataframe tbody tr th {\n        vertical-align: top;\n    }\n\n    .dataframe thead th {\n        text-align: right;\n    }\n</style>\n<table border=\"1\" class=\"dataframe\">\n  <thead>\n    <tr style=\"text-align: right;\">\n      <th></th>\n      <th>criterion</th>\n      <th>train_time</th>\n      <th>inference_time</th>\n      <th>k</th>\n      <th>R2_score</th>\n      <th>RMSE</th>\n      <th>D</th>\n      <th>N</th>\n      <th>n_test</th>\n      <th>n_train</th>\n    </tr>\n  </thead>\n  <tbody>\n    <tr>\n      <th>0</th>\n      <td>mse</td>\n      <td>0.206992</td>\n      <td>0.004446</td>\n      <td>1</td>\n      <td>0.753397</td>\n      <td>0.255560</td>\n      <td>3</td>\n      <td>48193</td>\n      <td>14458</td>\n      <td>33735</td>\n    </tr>\n    <tr>\n      <th>1</th>\n      <td>mse</td>\n      <td>0.201764</td>\n      <td>0.005119</td>\n      <td>2</td>\n      <td>0.741963</td>\n      <td>0.264925</td>\n      <td>3</td>\n      <td>48193</td>\n      <td>14458</td>\n      <td>33735</td>\n    </tr>\n  </tbody>\n</table>\n</div>"
     },
     "metadata": {}
    }
   ],
   "source": [
    "MODEL = DecisionTreeRegressor\n",
    "params = {\"criterion\": [\"mse\"]}\n",
    "NAME = \"DT\"\n",
    "PATH = \"out/\"+NAME+\"/\"\n",
    "\n",
    "\n",
    "\n",
    "modeltrainer = ModelTrainer(MODEL, params, X, Y, thread_cnt=1)\n",
    "########### train with TrainTestSplit  ###################\n",
    "modeltrainer.TTSplit(test_size = test_size)\n",
    "modeltrainer.train()\n",
    "results = modeltrainer.retResults(PATH + \"sklearn_TTS_DT.csv\")\n",
    "display(results)\n",
    "############ shuffle_Cross validation  ###################\n",
    "modeltrainer.CV_shuffle_split(k = n_splits, test_size = test_size, random_state = 42)\n",
    "results = modeltrainer.retResults(PATH + \"sklearn_CV_DT.csv\")\n",
    "display(results)"
   ]
  },
  {
   "cell_type": "code",
   "execution_count": null,
   "metadata": {},
   "outputs": [],
   "source": []
  },
  {
   "cell_type": "code",
   "execution_count": null,
   "metadata": {},
   "outputs": [],
   "source": []
  },
  {
   "cell_type": "code",
   "execution_count": null,
   "metadata": {},
   "outputs": [],
   "source": []
  }
 ]
}