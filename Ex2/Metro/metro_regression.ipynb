{
 "metadata": {
  "language_info": {
   "codemirror_mode": {
    "name": "ipython",
    "version": 3
   },
   "file_extension": ".py",
   "mimetype": "text/x-python",
   "name": "python",
   "nbconvert_exporter": "python",
   "pygments_lexer": "ipython3",
   "version": "3.7.5-final"
  },
  "orig_nbformat": 2,
  "kernelspec": {
   "name": "python37564bitb5f188b5fd4549769c9ea1e1a366fa0d",
   "display_name": "Python 3.7.5 64-bit"
  }
 },
 "nbformat": 4,
 "nbformat_minor": 2,
 "cells": [
  {
   "cell_type": "code",
   "execution_count": 1,
   "metadata": {},
   "outputs": [],
   "source": [
    "# std\n",
    "import os\n",
    "import sys\n",
    "import inspect\n",
    "import time\n",
    "import pathlib\n",
    "from math import sqrt\n",
    "from math import log2\n",
    "# packgaes\n",
    "import pandas as pd\n",
    "import seaborn as sns\n",
    "import matplotlib.pyplot as plt\n",
    "import matplotlib as mpl\n",
    "import numpy as np\n",
    "%matplotlib inline\n",
    "\n",
    "# packages\n",
    "from matplotlib.colors import ListedColormap\n",
    "\n",
    "## sklearn\n",
    "from sklearn.preprocessing import StandardScaler,PowerTransformer,MinMaxScaler,QuantileTransformer,normalize\n",
    "from sklearn.model_selection import train_test_split, learning_curve, ShuffleSplit\n",
    "from sklearn.feature_selection import VarianceThreshold, SelectKBest\n",
    "from sklearn.model_selection import KFold\n",
    "from sklearn.decomposition import PCA\n",
    "from sklearn.feature_selection import chi2\n",
    "\n",
    "from sklearn.metrics import r2_score\n",
    "from sklearn.metrics import mean_poisson_deviance\n",
    "from sklearn.metrics import mean_gamma_deviance\n",
    "from sklearn.metrics import median_absolute_error\n",
    "\n",
    "from sklearn.neighbors import KNeighborsRegressor\n",
    "from sklearn.linear_model import SGDRegressor\n",
    "from sklearn.ensemble import RandomForestRegressor\n",
    "from sklearn.tree import DecisionTreeRegressor\n",
    "\n",
    "\n",
    "# for selection the right path\n",
    "currentdir = os.path.dirname(os.path.abspath(inspect.getfile(inspect.currentframe())))\n",
    "parentdir = os.path.dirname(currentdir)\n",
    "sys.path.insert(0,parentdir)\n",
    "\n",
    "from common.DataParser import parse_metro\n",
    "from common.model_trainer_reg import *\n",
    "from common.regression_plotfunctions import *\n",
    "\n",
    "\n",
    "from GD.LinearRegression import LinearRegression\n",
    "from KNN.KNNRegressor import KNNRegressor\n",
    "\n",
    "import metro_preprocessing\n"
   ]
  },
  {
   "source": [
    "# Train and Test"
   ],
   "cell_type": "markdown",
   "metadata": {}
  },
  {
   "cell_type": "code",
   "execution_count": 2,
   "metadata": {},
   "outputs": [],
   "source": [
    "df_raw = parse_metro()\n",
    "df_raw = df_raw.sample(5000)\n",
    "X, Y = metro_preprocessing.preprocessing(df_raw, transform = False)"
   ]
  },
  {
   "cell_type": "code",
   "execution_count": 3,
   "metadata": {},
   "outputs": [
    {
     "output_type": "execute_result",
     "data": {
      "text/plain": [
       "      holiday    temp  rain_1h  snow_1h  clouds_all  weather_main  \\\n",
       "46407    None  293.95     0.00      0.0           1  Thunderstorm   \n",
       "1425     None  268.72     0.00      0.0          90          Snow   \n",
       "43904    None  293.01     0.00      0.0           1         Clear   \n",
       "17234    None  294.01     0.00      0.0          75          Mist   \n",
       "32044    None  275.62     0.00      0.0          90        Clouds   \n",
       "...       ...     ...      ...      ...         ...           ...   \n",
       "47041    None  291.48     1.78      0.0          90          Rain   \n",
       "5412     None  280.60     0.00      0.0          90        Clouds   \n",
       "45044    None  301.51     0.00      0.0          40        Clouds   \n",
       "30610    None  270.71     0.00      0.0          90          Mist   \n",
       "9021     None  291.15     0.00      0.0          90       Drizzle   \n",
       "\n",
       "           weather_description            date_time  traffic_volume  \n",
       "46407   proximity thunderstorm  2018-08-03 23:00:00            1833  \n",
       "1425                heavy snow  2012-11-23 23:00:00            1512  \n",
       "43904             sky is clear  2018-05-08 09:00:00            5428  \n",
       "17234                     mist  2015-08-09 08:00:00            1713  \n",
       "32044          overcast clouds  2017-03-25 06:00:00            1006  \n",
       "...                        ...                  ...             ...  \n",
       "47041            moderate rain  2018-08-25 09:00:00            4100  \n",
       "5412           overcast clouds  2013-04-22 21:00:00            1627  \n",
       "45044         scattered clouds  2018-06-17 11:00:00            3790  \n",
       "30610                     mist  2017-01-30 11:00:00            3983  \n",
       "9021   light intensity drizzle  2013-09-18 08:00:00            5653  \n",
       "\n",
       "[5000 rows x 9 columns]"
      ],
      "text/html": "<div>\n<style scoped>\n    .dataframe tbody tr th:only-of-type {\n        vertical-align: middle;\n    }\n\n    .dataframe tbody tr th {\n        vertical-align: top;\n    }\n\n    .dataframe thead th {\n        text-align: right;\n    }\n</style>\n<table border=\"1\" class=\"dataframe\">\n  <thead>\n    <tr style=\"text-align: right;\">\n      <th></th>\n      <th>holiday</th>\n      <th>temp</th>\n      <th>rain_1h</th>\n      <th>snow_1h</th>\n      <th>clouds_all</th>\n      <th>weather_main</th>\n      <th>weather_description</th>\n      <th>date_time</th>\n      <th>traffic_volume</th>\n    </tr>\n  </thead>\n  <tbody>\n    <tr>\n      <th>46407</th>\n      <td>None</td>\n      <td>293.95</td>\n      <td>0.00</td>\n      <td>0.0</td>\n      <td>1</td>\n      <td>Thunderstorm</td>\n      <td>proximity thunderstorm</td>\n      <td>2018-08-03 23:00:00</td>\n      <td>1833</td>\n    </tr>\n    <tr>\n      <th>1425</th>\n      <td>None</td>\n      <td>268.72</td>\n      <td>0.00</td>\n      <td>0.0</td>\n      <td>90</td>\n      <td>Snow</td>\n      <td>heavy snow</td>\n      <td>2012-11-23 23:00:00</td>\n      <td>1512</td>\n    </tr>\n    <tr>\n      <th>43904</th>\n      <td>None</td>\n      <td>293.01</td>\n      <td>0.00</td>\n      <td>0.0</td>\n      <td>1</td>\n      <td>Clear</td>\n      <td>sky is clear</td>\n      <td>2018-05-08 09:00:00</td>\n      <td>5428</td>\n    </tr>\n    <tr>\n      <th>17234</th>\n      <td>None</td>\n      <td>294.01</td>\n      <td>0.00</td>\n      <td>0.0</td>\n      <td>75</td>\n      <td>Mist</td>\n      <td>mist</td>\n      <td>2015-08-09 08:00:00</td>\n      <td>1713</td>\n    </tr>\n    <tr>\n      <th>32044</th>\n      <td>None</td>\n      <td>275.62</td>\n      <td>0.00</td>\n      <td>0.0</td>\n      <td>90</td>\n      <td>Clouds</td>\n      <td>overcast clouds</td>\n      <td>2017-03-25 06:00:00</td>\n      <td>1006</td>\n    </tr>\n    <tr>\n      <th>...</th>\n      <td>...</td>\n      <td>...</td>\n      <td>...</td>\n      <td>...</td>\n      <td>...</td>\n      <td>...</td>\n      <td>...</td>\n      <td>...</td>\n      <td>...</td>\n    </tr>\n    <tr>\n      <th>47041</th>\n      <td>None</td>\n      <td>291.48</td>\n      <td>1.78</td>\n      <td>0.0</td>\n      <td>90</td>\n      <td>Rain</td>\n      <td>moderate rain</td>\n      <td>2018-08-25 09:00:00</td>\n      <td>4100</td>\n    </tr>\n    <tr>\n      <th>5412</th>\n      <td>None</td>\n      <td>280.60</td>\n      <td>0.00</td>\n      <td>0.0</td>\n      <td>90</td>\n      <td>Clouds</td>\n      <td>overcast clouds</td>\n      <td>2013-04-22 21:00:00</td>\n      <td>1627</td>\n    </tr>\n    <tr>\n      <th>45044</th>\n      <td>None</td>\n      <td>301.51</td>\n      <td>0.00</td>\n      <td>0.0</td>\n      <td>40</td>\n      <td>Clouds</td>\n      <td>scattered clouds</td>\n      <td>2018-06-17 11:00:00</td>\n      <td>3790</td>\n    </tr>\n    <tr>\n      <th>30610</th>\n      <td>None</td>\n      <td>270.71</td>\n      <td>0.00</td>\n      <td>0.0</td>\n      <td>90</td>\n      <td>Mist</td>\n      <td>mist</td>\n      <td>2017-01-30 11:00:00</td>\n      <td>3983</td>\n    </tr>\n    <tr>\n      <th>9021</th>\n      <td>None</td>\n      <td>291.15</td>\n      <td>0.00</td>\n      <td>0.0</td>\n      <td>90</td>\n      <td>Drizzle</td>\n      <td>light intensity drizzle</td>\n      <td>2013-09-18 08:00:00</td>\n      <td>5653</td>\n    </tr>\n  </tbody>\n</table>\n<p>5000 rows × 9 columns</p>\n</div>"
     },
     "metadata": {},
     "execution_count": 3
    }
   ],
   "source": [
    "df_raw"
   ]
  },
  {
   "cell_type": "code",
   "execution_count": 4,
   "metadata": {},
   "outputs": [
    {
     "output_type": "stream",
     "name": "stdout",
     "text": [
      "name 'df_raw' is not defined\n"
     ]
    }
   ],
   "source": [
    "del df_raw\n",
    "# We don't need it anymore :)\n",
    "try:\n",
    "    df_raw\n",
    "except Exception as e:\n",
    "    print(e)"
   ]
  },
  {
   "cell_type": "code",
   "execution_count": 5,
   "metadata": {},
   "outputs": [],
   "source": [
    "n_splits = 10\n",
    "test_size = 0.3"
   ]
  },
  {
   "source": [
    "## SGD-Regression"
   ],
   "cell_type": "markdown",
   "metadata": {}
  },
  {
   "cell_type": "code",
   "execution_count": null,
   "metadata": {},
   "outputs": [],
   "source": [
    "MODEL = SGDRegressor\n",
    "NAME = \"SGD\"\n",
    "PATH = \"out/\"+NAME+\"/\"\n",
    "params = {\"alpha\" : [0.0001,0.00001],\n",
    "          \"max_iter\" : [1000,2000,3000,5000]}\n",
    "\n",
    "\n",
    "modeltrainer = ModelTrainer(MODEL, params, X, Y, thread_cnt=1)\n",
    "########### train with TrainTestSplit  ###################\n",
    "modeltrainer.TTSplit(test_size = test_size)\n",
    "modeltrainer.train()\n",
    "results = modeltrainer.retResults(PATH + \"sklearn_TTS_SGD_raw.csv\")\n",
    "print(PATH + \"sklearn_TTS_SGD.csv\")\n",
    "display(results)\n",
    "############ shuffle_Cross validation  ###################\n",
    "modeltrainer.CV_shuffle_split(k = n_splits, test_size = test_size, random_state = 42)\n",
    "results = modeltrainer.retResults(PATH + \"sklearn_CV_SGD_raw.csv\")\n",
    "display(results)"
   ]
  },
  {
   "source": [
    "## My SGD-Regression"
   ],
   "cell_type": "markdown",
   "metadata": {}
  },
  {
   "cell_type": "code",
   "execution_count": null,
   "metadata": {},
   "outputs": [],
   "source": [
    "MODEL = LinearRegression\n",
    "params = {\"alpha\" : [0.0001,0.00001],\n",
    "          \"max_iter\" : [1000,2000,3000,5000]}\n",
    "\n",
    "\n",
    "modeltrainer = ModelTrainer(MODEL, params, X, Y, thread_cnt=1)\n",
    "########### train with TrainTestSplit  ###################\n",
    "modeltrainer.TTSplit(test_size = test_size)\n",
    "modeltrainer.train()\n",
    "results = modeltrainer.retResults(PATH + \"my_TTS_SGD_transforamtion.csv\")\n",
    "display(results)\n",
    "############ shuffle_Cross validation  ###################\n",
    "modeltrainer.CV_shuffle_split(k = n_splits, test_size = test_size, random_state = 42)\n",
    "results = modeltrainer.retResults(PATH + \"my_CV_SGD_transforamtion.csv\")\n",
    "display(results)"
   ]
  },
  {
   "source": [
    "## KNN-Regression\n",
    "\n",
    "### Data for runtime analysis"
   ],
   "cell_type": "markdown",
   "metadata": {}
  },
  {
   "cell_type": "code",
   "execution_count": null,
   "metadata": {},
   "outputs": [],
   "source": [
    "NAME = \"KNN\"\n",
    "PATH = \"out/\"+NAME+\"/\"\n",
    "\n",
    "def dataset_size_experiment(\n",
    "        subset_size=np.arange(0.1, 1.1, 0.1),\n",
    "        path_csv=PATH+\"sklearn_TTS_KNN_app.csv\"\n",
    "        ):\n",
    "    results = []\n",
    "    k = 1\n",
    "    break_next = False\n",
    "    for subs in subset_size:\n",
    "        if subs < 1:\n",
    "            n_train = int(subs * len(Y))\n",
    "            print(f\"{100*subs:.2f}% --> n_train={n_train}\")\n",
    "        else:\n",
    "            n_train = subs\n",
    "            print(f\"{100*subs/len(Y):.2f}% --> n_train={n_train}\")\n",
    "        if break_next:\n",
    "            break\n",
    "        if n_train > len(Y):\n",
    "            n_train = len(Y)\n",
    "            break_next = True\n",
    "        modeltrainer = ModelTrainer(MODEL, params, X[:n_train,:], Y[:n_train], thread_cnt=thread_cnt)\n",
    "        modeltrainer.TTSplit(test_size = test_size)\n",
    "        modeltrainer.k = k \n",
    "        modeltrainer.train()\n",
    "        #print(modeltrainer.results)\n",
    "        results.append(modeltrainer.results)\n",
    "        k += 1\n",
    "        print(\"-\"*30)\n",
    "    results = pd.concat(results, ignore_index=True)\n",
    "    results.to_csv(path_csv, index=False)\n",
    "    display(results)\n",
    "    return results"
   ]
  },
  {
   "cell_type": "code",
   "execution_count": null,
   "metadata": {},
   "outputs": [],
   "source": [
    "subsets = [20, 200, 400, 800, 1600, 3200, 6400, 12800, 25600, 51200]"
   ]
  },
  {
   "cell_type": "code",
   "execution_count": null,
   "metadata": {},
   "outputs": [],
   "source": [
    "MODEL = KNeighborsRegressor\n",
    "params = {\n",
    "    \"weights\" : [\"uniform\"],\n",
    "    \"algorithm\": [\"brute\", \"kd_tree\", \"ball_tree\"]\n",
    "}\n",
    "NAME = \"KNN\"\n",
    "PATH = \"out/runtimes/\"\n",
    "########### train with TrainTestSplit  ###################\n",
    "thread_cnt = 4\n",
    "results = dataset_size_experiment(subsets ,path_csv=PATH+\"sklearn_TTS_KNN_app.csv\")"
   ]
  },
  {
   "cell_type": "code",
   "execution_count": null,
   "metadata": {},
   "outputs": [],
   "source": [
    "MODEL = KNNRegressor\n",
    "params = {\"n_neighbors\" : [5],\n",
    "           \"p\": [2],\n",
    "           \"chunk_size\": [1, 4]}\n",
    "NAME = \"KNN\"\n",
    "PATH = \"out/runtimes/\"\n",
    "########### train with TrainTestSplit  ###################\n",
    "thread_cnt = 4\n",
    "results = dataset_size_experiment(subsets ,path_csv=PATH+\"my_TTS_KNN_app.csv\")"
   ]
  },
  {
   "source": [
    "#### Rest\n"
   ],
   "cell_type": "markdown",
   "metadata": {}
  },
  {
   "cell_type": "code",
   "execution_count": 6,
   "metadata": {},
   "outputs": [
    {
     "output_type": "stream",
     "name": "stdout",
     "text": [
      "Training all model variations took 2.3822s - holdout\n"
     ]
    },
    {
     "output_type": "display_data",
     "data": {
      "text/plain": "   weights  n_neighbors  p  train_time  inference_time  k  R2_score  \\\n0  uniform            5  2    0.036229        0.110392  0  0.503103   \n1  uniform            5  3    0.024931        0.974430  0  0.497261   \n2  uniform           10  2    0.021083        0.111877  0  0.516419   \n3  uniform           10  3    0.021312        1.078696  0  0.497971   \n\n           RMSE   D     N  n_test  n_train  \n0  1.933278e+06  10  4998    1500     3498  \n1  1.956007e+06  10  4998    1500     3498  \n2  1.881471e+06  10  4998    1500     3498  \n3  1.953247e+06  10  4998    1500     3498  ",
      "text/html": "<div>\n<style scoped>\n    .dataframe tbody tr th:only-of-type {\n        vertical-align: middle;\n    }\n\n    .dataframe tbody tr th {\n        vertical-align: top;\n    }\n\n    .dataframe thead th {\n        text-align: right;\n    }\n</style>\n<table border=\"1\" class=\"dataframe\">\n  <thead>\n    <tr style=\"text-align: right;\">\n      <th></th>\n      <th>weights</th>\n      <th>n_neighbors</th>\n      <th>p</th>\n      <th>train_time</th>\n      <th>inference_time</th>\n      <th>k</th>\n      <th>R2_score</th>\n      <th>RMSE</th>\n      <th>D</th>\n      <th>N</th>\n      <th>n_test</th>\n      <th>n_train</th>\n    </tr>\n  </thead>\n  <tbody>\n    <tr>\n      <th>0</th>\n      <td>uniform</td>\n      <td>5</td>\n      <td>2</td>\n      <td>0.036229</td>\n      <td>0.110392</td>\n      <td>0</td>\n      <td>0.503103</td>\n      <td>1.933278e+06</td>\n      <td>10</td>\n      <td>4998</td>\n      <td>1500</td>\n      <td>3498</td>\n    </tr>\n    <tr>\n      <th>1</th>\n      <td>uniform</td>\n      <td>5</td>\n      <td>3</td>\n      <td>0.024931</td>\n      <td>0.974430</td>\n      <td>0</td>\n      <td>0.497261</td>\n      <td>1.956007e+06</td>\n      <td>10</td>\n      <td>4998</td>\n      <td>1500</td>\n      <td>3498</td>\n    </tr>\n    <tr>\n      <th>2</th>\n      <td>uniform</td>\n      <td>10</td>\n      <td>2</td>\n      <td>0.021083</td>\n      <td>0.111877</td>\n      <td>0</td>\n      <td>0.516419</td>\n      <td>1.881471e+06</td>\n      <td>10</td>\n      <td>4998</td>\n      <td>1500</td>\n      <td>3498</td>\n    </tr>\n    <tr>\n      <th>3</th>\n      <td>uniform</td>\n      <td>10</td>\n      <td>3</td>\n      <td>0.021312</td>\n      <td>1.078696</td>\n      <td>0</td>\n      <td>0.497971</td>\n      <td>1.953247e+06</td>\n      <td>10</td>\n      <td>4998</td>\n      <td>1500</td>\n      <td>3498</td>\n    </tr>\n  </tbody>\n</table>\n</div>"
     },
     "metadata": {}
    },
    {
     "output_type": "stream",
     "name": "stdout",
     "text": [
      "Using CV with k={k} folds.\n",
      "Training all model variations took 2.2810s - CV fold # =1\n",
      "Training all model variations took 2.0458s - CV fold # =2\n",
      "Training all model variations took 2.2041s - CV fold # =3\n",
      "Training all model variations took 2.2203s - CV fold # =4\n",
      "Training all model variations took 2.3379s - CV fold # =5\n",
      "Training all model variations took 2.2698s - CV fold # =6\n",
      "Training all model variations took 2.0794s - CV fold # =7\n",
      "Training all model variations took 2.2180s - CV fold # =8\n",
      "Training all model variations took 2.1963s - CV fold # =9\n",
      "Training all model variations took 2.2517s - CV fold # =10\n"
     ]
    },
    {
     "output_type": "display_data",
     "data": {
      "text/plain": "    weights  n_neighbors  p  train_time  inference_time   k  R2_score  \\\n0   uniform            5  2    0.025866        0.115524   1  0.503103   \n1   uniform            5  3    0.022403        0.916203   1  0.497261   \n2   uniform           10  2    0.021389        0.115939   1  0.516419   \n3   uniform           10  3    0.020899        1.039822   1  0.497971   \n4   uniform            5  2    0.020941        0.089650   2  0.489195   \n5   uniform            5  3    0.020492        0.830378   2  0.487893   \n6   uniform           10  2    0.020285        0.104607   2  0.493744   \n7   uniform           10  3    0.021042        0.935376   2  0.466912   \n8   uniform            5  2    0.020857        0.098463   3  0.465306   \n9   uniform            5  3    0.021009        0.896233   3  0.453582   \n10  uniform           10  2    0.021115        0.109930   3  0.473179   \n11  uniform           10  3    0.021606        1.011792   3  0.457664   \n12  uniform            5  2    0.020765        0.098974   4  0.476680   \n13  uniform            5  3    0.021788        0.909711   4  0.475656   \n14  uniform           10  2    0.022188        0.110952   4  0.489929   \n15  uniform           10  3    0.020576        1.012120   4  0.473054   \n16  uniform            5  2    0.020473        0.099290   5  0.481901   \n17  uniform            5  3    0.020569        0.958340   5  0.489609   \n18  uniform           10  2    0.020278        0.112472   5  0.488517   \n19  uniform           10  3    0.020987        1.082089   5  0.468778   \n20  uniform            5  2    0.022708        0.098849   6  0.485187   \n21  uniform            5  3    0.021815        0.933241   6  0.481507   \n22  uniform           10  2    0.020756        0.109288   6  0.484946   \n23  uniform           10  3    0.021446        1.038310   6  0.472585   \n24  uniform            5  2    0.020618        0.091714   7  0.452694   \n25  uniform            5  3    0.021070        0.846189   7  0.467836   \n26  uniform           10  2    0.020909        0.103191   7  0.474165   \n27  uniform           10  3    0.020634        0.951708   7  0.452510   \n28  uniform            5  2    0.021158        0.094210   8  0.495950   \n29  uniform            5  3    0.020453        0.905432   8  0.486007   \n30  uniform           10  2    0.021018        0.108589   8  0.497269   \n31  uniform           10  3    0.020240        1.023204   8  0.490034   \n32  uniform            5  2    0.020526        0.093927   9  0.487685   \n33  uniform            5  3    0.020704        0.894208   9  0.480187   \n34  uniform           10  2    0.021064        0.109539   9  0.492131   \n35  uniform           10  3    0.020847        1.011608   9  0.486249   \n36  uniform            5  2    0.021003        0.096858  10  0.530038   \n37  uniform            5  3    0.020247        0.924815  10  0.528020   \n38  uniform           10  2    0.020571        0.107580  10  0.514595   \n39  uniform           10  3    0.020399        1.036723  10  0.507526   \n\n            RMSE   D     N  n_test  n_train  \n0   1.933278e+06  10  4998    1500     3498  \n1   1.956007e+06  10  4998    1500     3498  \n2   1.881471e+06  10  4998    1500     3498  \n3   1.953247e+06  10  4998    1500     3498  \n4   1.969592e+06  10  4998    1500     3498  \n5   1.974610e+06  10  4998    1500     3498  \n6   1.952051e+06  10  4998    1500     3498  \n7   2.055512e+06  10  4998    1500     3498  \n8   2.063780e+06  10  4998    1500     3498  \n9   2.109030e+06  10  4998    1500     3498  \n10  2.033389e+06  10  4998    1500     3498  \n11  2.093276e+06  10  4998    1500     3498  \n12  2.064367e+06  10  4998    1500     3498  \n13  2.068407e+06  10  4998    1500     3498  \n14  2.012101e+06  10  4998    1500     3498  \n15  2.078669e+06  10  4998    1500     3498  \n16  1.990619e+06  10  4998    1500     3498  \n17  1.961002e+06  10  4998    1500     3498  \n18  1.965199e+06  10  4998    1500     3498  \n19  2.041038e+06  10  4998    1500     3498  \n20  1.933524e+06  10  4998    1500     3498  \n21  1.947346e+06  10  4998    1500     3498  \n22  1.934429e+06  10  4998    1500     3498  \n23  1.980855e+06  10  4998    1500     3498  \n24  2.037906e+06  10  4998    1500     3498  \n25  1.981523e+06  10  4998    1500     3498  \n26  1.957961e+06  10  4998    1500     3498  \n27  2.038593e+06  10  4998    1500     3498  \n28  1.936111e+06  10  4998    1500     3498  \n29  1.974303e+06  10  4998    1500     3498  \n30  1.931045e+06  10  4998    1500     3498  \n31  1.958837e+06  10  4998    1500     3498  \n32  2.004753e+06  10  4998    1500     3498  \n33  2.034096e+06  10  4998    1500     3498  \n34  1.987356e+06  10  4998    1500     3498  \n35  2.010375e+06  10  4998    1500     3498  \n36  1.846646e+06  10  4998    1500     3498  \n37  1.854576e+06  10  4998    1500     3498  \n38  1.907326e+06  10  4998    1500     3498  \n39  1.935101e+06  10  4998    1500     3498  ",
      "text/html": "<div>\n<style scoped>\n    .dataframe tbody tr th:only-of-type {\n        vertical-align: middle;\n    }\n\n    .dataframe tbody tr th {\n        vertical-align: top;\n    }\n\n    .dataframe thead th {\n        text-align: right;\n    }\n</style>\n<table border=\"1\" class=\"dataframe\">\n  <thead>\n    <tr style=\"text-align: right;\">\n      <th></th>\n      <th>weights</th>\n      <th>n_neighbors</th>\n      <th>p</th>\n      <th>train_time</th>\n      <th>inference_time</th>\n      <th>k</th>\n      <th>R2_score</th>\n      <th>RMSE</th>\n      <th>D</th>\n      <th>N</th>\n      <th>n_test</th>\n      <th>n_train</th>\n    </tr>\n  </thead>\n  <tbody>\n    <tr>\n      <th>0</th>\n      <td>uniform</td>\n      <td>5</td>\n      <td>2</td>\n      <td>0.025866</td>\n      <td>0.115524</td>\n      <td>1</td>\n      <td>0.503103</td>\n      <td>1.933278e+06</td>\n      <td>10</td>\n      <td>4998</td>\n      <td>1500</td>\n      <td>3498</td>\n    </tr>\n    <tr>\n      <th>1</th>\n      <td>uniform</td>\n      <td>5</td>\n      <td>3</td>\n      <td>0.022403</td>\n      <td>0.916203</td>\n      <td>1</td>\n      <td>0.497261</td>\n      <td>1.956007e+06</td>\n      <td>10</td>\n      <td>4998</td>\n      <td>1500</td>\n      <td>3498</td>\n    </tr>\n    <tr>\n      <th>2</th>\n      <td>uniform</td>\n      <td>10</td>\n      <td>2</td>\n      <td>0.021389</td>\n      <td>0.115939</td>\n      <td>1</td>\n      <td>0.516419</td>\n      <td>1.881471e+06</td>\n      <td>10</td>\n      <td>4998</td>\n      <td>1500</td>\n      <td>3498</td>\n    </tr>\n    <tr>\n      <th>3</th>\n      <td>uniform</td>\n      <td>10</td>\n      <td>3</td>\n      <td>0.020899</td>\n      <td>1.039822</td>\n      <td>1</td>\n      <td>0.497971</td>\n      <td>1.953247e+06</td>\n      <td>10</td>\n      <td>4998</td>\n      <td>1500</td>\n      <td>3498</td>\n    </tr>\n    <tr>\n      <th>4</th>\n      <td>uniform</td>\n      <td>5</td>\n      <td>2</td>\n      <td>0.020941</td>\n      <td>0.089650</td>\n      <td>2</td>\n      <td>0.489195</td>\n      <td>1.969592e+06</td>\n      <td>10</td>\n      <td>4998</td>\n      <td>1500</td>\n      <td>3498</td>\n    </tr>\n    <tr>\n      <th>5</th>\n      <td>uniform</td>\n      <td>5</td>\n      <td>3</td>\n      <td>0.020492</td>\n      <td>0.830378</td>\n      <td>2</td>\n      <td>0.487893</td>\n      <td>1.974610e+06</td>\n      <td>10</td>\n      <td>4998</td>\n      <td>1500</td>\n      <td>3498</td>\n    </tr>\n    <tr>\n      <th>6</th>\n      <td>uniform</td>\n      <td>10</td>\n      <td>2</td>\n      <td>0.020285</td>\n      <td>0.104607</td>\n      <td>2</td>\n      <td>0.493744</td>\n      <td>1.952051e+06</td>\n      <td>10</td>\n      <td>4998</td>\n      <td>1500</td>\n      <td>3498</td>\n    </tr>\n    <tr>\n      <th>7</th>\n      <td>uniform</td>\n      <td>10</td>\n      <td>3</td>\n      <td>0.021042</td>\n      <td>0.935376</td>\n      <td>2</td>\n      <td>0.466912</td>\n      <td>2.055512e+06</td>\n      <td>10</td>\n      <td>4998</td>\n      <td>1500</td>\n      <td>3498</td>\n    </tr>\n    <tr>\n      <th>8</th>\n      <td>uniform</td>\n      <td>5</td>\n      <td>2</td>\n      <td>0.020857</td>\n      <td>0.098463</td>\n      <td>3</td>\n      <td>0.465306</td>\n      <td>2.063780e+06</td>\n      <td>10</td>\n      <td>4998</td>\n      <td>1500</td>\n      <td>3498</td>\n    </tr>\n    <tr>\n      <th>9</th>\n      <td>uniform</td>\n      <td>5</td>\n      <td>3</td>\n      <td>0.021009</td>\n      <td>0.896233</td>\n      <td>3</td>\n      <td>0.453582</td>\n      <td>2.109030e+06</td>\n      <td>10</td>\n      <td>4998</td>\n      <td>1500</td>\n      <td>3498</td>\n    </tr>\n    <tr>\n      <th>10</th>\n      <td>uniform</td>\n      <td>10</td>\n      <td>2</td>\n      <td>0.021115</td>\n      <td>0.109930</td>\n      <td>3</td>\n      <td>0.473179</td>\n      <td>2.033389e+06</td>\n      <td>10</td>\n      <td>4998</td>\n      <td>1500</td>\n      <td>3498</td>\n    </tr>\n    <tr>\n      <th>11</th>\n      <td>uniform</td>\n      <td>10</td>\n      <td>3</td>\n      <td>0.021606</td>\n      <td>1.011792</td>\n      <td>3</td>\n      <td>0.457664</td>\n      <td>2.093276e+06</td>\n      <td>10</td>\n      <td>4998</td>\n      <td>1500</td>\n      <td>3498</td>\n    </tr>\n    <tr>\n      <th>12</th>\n      <td>uniform</td>\n      <td>5</td>\n      <td>2</td>\n      <td>0.020765</td>\n      <td>0.098974</td>\n      <td>4</td>\n      <td>0.476680</td>\n      <td>2.064367e+06</td>\n      <td>10</td>\n      <td>4998</td>\n      <td>1500</td>\n      <td>3498</td>\n    </tr>\n    <tr>\n      <th>13</th>\n      <td>uniform</td>\n      <td>5</td>\n      <td>3</td>\n      <td>0.021788</td>\n      <td>0.909711</td>\n      <td>4</td>\n      <td>0.475656</td>\n      <td>2.068407e+06</td>\n      <td>10</td>\n      <td>4998</td>\n      <td>1500</td>\n      <td>3498</td>\n    </tr>\n    <tr>\n      <th>14</th>\n      <td>uniform</td>\n      <td>10</td>\n      <td>2</td>\n      <td>0.022188</td>\n      <td>0.110952</td>\n      <td>4</td>\n      <td>0.489929</td>\n      <td>2.012101e+06</td>\n      <td>10</td>\n      <td>4998</td>\n      <td>1500</td>\n      <td>3498</td>\n    </tr>\n    <tr>\n      <th>15</th>\n      <td>uniform</td>\n      <td>10</td>\n      <td>3</td>\n      <td>0.020576</td>\n      <td>1.012120</td>\n      <td>4</td>\n      <td>0.473054</td>\n      <td>2.078669e+06</td>\n      <td>10</td>\n      <td>4998</td>\n      <td>1500</td>\n      <td>3498</td>\n    </tr>\n    <tr>\n      <th>16</th>\n      <td>uniform</td>\n      <td>5</td>\n      <td>2</td>\n      <td>0.020473</td>\n      <td>0.099290</td>\n      <td>5</td>\n      <td>0.481901</td>\n      <td>1.990619e+06</td>\n      <td>10</td>\n      <td>4998</td>\n      <td>1500</td>\n      <td>3498</td>\n    </tr>\n    <tr>\n      <th>17</th>\n      <td>uniform</td>\n      <td>5</td>\n      <td>3</td>\n      <td>0.020569</td>\n      <td>0.958340</td>\n      <td>5</td>\n      <td>0.489609</td>\n      <td>1.961002e+06</td>\n      <td>10</td>\n      <td>4998</td>\n      <td>1500</td>\n      <td>3498</td>\n    </tr>\n    <tr>\n      <th>18</th>\n      <td>uniform</td>\n      <td>10</td>\n      <td>2</td>\n      <td>0.020278</td>\n      <td>0.112472</td>\n      <td>5</td>\n      <td>0.488517</td>\n      <td>1.965199e+06</td>\n      <td>10</td>\n      <td>4998</td>\n      <td>1500</td>\n      <td>3498</td>\n    </tr>\n    <tr>\n      <th>19</th>\n      <td>uniform</td>\n      <td>10</td>\n      <td>3</td>\n      <td>0.020987</td>\n      <td>1.082089</td>\n      <td>5</td>\n      <td>0.468778</td>\n      <td>2.041038e+06</td>\n      <td>10</td>\n      <td>4998</td>\n      <td>1500</td>\n      <td>3498</td>\n    </tr>\n    <tr>\n      <th>20</th>\n      <td>uniform</td>\n      <td>5</td>\n      <td>2</td>\n      <td>0.022708</td>\n      <td>0.098849</td>\n      <td>6</td>\n      <td>0.485187</td>\n      <td>1.933524e+06</td>\n      <td>10</td>\n      <td>4998</td>\n      <td>1500</td>\n      <td>3498</td>\n    </tr>\n    <tr>\n      <th>21</th>\n      <td>uniform</td>\n      <td>5</td>\n      <td>3</td>\n      <td>0.021815</td>\n      <td>0.933241</td>\n      <td>6</td>\n      <td>0.481507</td>\n      <td>1.947346e+06</td>\n      <td>10</td>\n      <td>4998</td>\n      <td>1500</td>\n      <td>3498</td>\n    </tr>\n    <tr>\n      <th>22</th>\n      <td>uniform</td>\n      <td>10</td>\n      <td>2</td>\n      <td>0.020756</td>\n      <td>0.109288</td>\n      <td>6</td>\n      <td>0.484946</td>\n      <td>1.934429e+06</td>\n      <td>10</td>\n      <td>4998</td>\n      <td>1500</td>\n      <td>3498</td>\n    </tr>\n    <tr>\n      <th>23</th>\n      <td>uniform</td>\n      <td>10</td>\n      <td>3</td>\n      <td>0.021446</td>\n      <td>1.038310</td>\n      <td>6</td>\n      <td>0.472585</td>\n      <td>1.980855e+06</td>\n      <td>10</td>\n      <td>4998</td>\n      <td>1500</td>\n      <td>3498</td>\n    </tr>\n    <tr>\n      <th>24</th>\n      <td>uniform</td>\n      <td>5</td>\n      <td>2</td>\n      <td>0.020618</td>\n      <td>0.091714</td>\n      <td>7</td>\n      <td>0.452694</td>\n      <td>2.037906e+06</td>\n      <td>10</td>\n      <td>4998</td>\n      <td>1500</td>\n      <td>3498</td>\n    </tr>\n    <tr>\n      <th>25</th>\n      <td>uniform</td>\n      <td>5</td>\n      <td>3</td>\n      <td>0.021070</td>\n      <td>0.846189</td>\n      <td>7</td>\n      <td>0.467836</td>\n      <td>1.981523e+06</td>\n      <td>10</td>\n      <td>4998</td>\n      <td>1500</td>\n      <td>3498</td>\n    </tr>\n    <tr>\n      <th>26</th>\n      <td>uniform</td>\n      <td>10</td>\n      <td>2</td>\n      <td>0.020909</td>\n      <td>0.103191</td>\n      <td>7</td>\n      <td>0.474165</td>\n      <td>1.957961e+06</td>\n      <td>10</td>\n      <td>4998</td>\n      <td>1500</td>\n      <td>3498</td>\n    </tr>\n    <tr>\n      <th>27</th>\n      <td>uniform</td>\n      <td>10</td>\n      <td>3</td>\n      <td>0.020634</td>\n      <td>0.951708</td>\n      <td>7</td>\n      <td>0.452510</td>\n      <td>2.038593e+06</td>\n      <td>10</td>\n      <td>4998</td>\n      <td>1500</td>\n      <td>3498</td>\n    </tr>\n    <tr>\n      <th>28</th>\n      <td>uniform</td>\n      <td>5</td>\n      <td>2</td>\n      <td>0.021158</td>\n      <td>0.094210</td>\n      <td>8</td>\n      <td>0.495950</td>\n      <td>1.936111e+06</td>\n      <td>10</td>\n      <td>4998</td>\n      <td>1500</td>\n      <td>3498</td>\n    </tr>\n    <tr>\n      <th>29</th>\n      <td>uniform</td>\n      <td>5</td>\n      <td>3</td>\n      <td>0.020453</td>\n      <td>0.905432</td>\n      <td>8</td>\n      <td>0.486007</td>\n      <td>1.974303e+06</td>\n      <td>10</td>\n      <td>4998</td>\n      <td>1500</td>\n      <td>3498</td>\n    </tr>\n    <tr>\n      <th>30</th>\n      <td>uniform</td>\n      <td>10</td>\n      <td>2</td>\n      <td>0.021018</td>\n      <td>0.108589</td>\n      <td>8</td>\n      <td>0.497269</td>\n      <td>1.931045e+06</td>\n      <td>10</td>\n      <td>4998</td>\n      <td>1500</td>\n      <td>3498</td>\n    </tr>\n    <tr>\n      <th>31</th>\n      <td>uniform</td>\n      <td>10</td>\n      <td>3</td>\n      <td>0.020240</td>\n      <td>1.023204</td>\n      <td>8</td>\n      <td>0.490034</td>\n      <td>1.958837e+06</td>\n      <td>10</td>\n      <td>4998</td>\n      <td>1500</td>\n      <td>3498</td>\n    </tr>\n    <tr>\n      <th>32</th>\n      <td>uniform</td>\n      <td>5</td>\n      <td>2</td>\n      <td>0.020526</td>\n      <td>0.093927</td>\n      <td>9</td>\n      <td>0.487685</td>\n      <td>2.004753e+06</td>\n      <td>10</td>\n      <td>4998</td>\n      <td>1500</td>\n      <td>3498</td>\n    </tr>\n    <tr>\n      <th>33</th>\n      <td>uniform</td>\n      <td>5</td>\n      <td>3</td>\n      <td>0.020704</td>\n      <td>0.894208</td>\n      <td>9</td>\n      <td>0.480187</td>\n      <td>2.034096e+06</td>\n      <td>10</td>\n      <td>4998</td>\n      <td>1500</td>\n      <td>3498</td>\n    </tr>\n    <tr>\n      <th>34</th>\n      <td>uniform</td>\n      <td>10</td>\n      <td>2</td>\n      <td>0.021064</td>\n      <td>0.109539</td>\n      <td>9</td>\n      <td>0.492131</td>\n      <td>1.987356e+06</td>\n      <td>10</td>\n      <td>4998</td>\n      <td>1500</td>\n      <td>3498</td>\n    </tr>\n    <tr>\n      <th>35</th>\n      <td>uniform</td>\n      <td>10</td>\n      <td>3</td>\n      <td>0.020847</td>\n      <td>1.011608</td>\n      <td>9</td>\n      <td>0.486249</td>\n      <td>2.010375e+06</td>\n      <td>10</td>\n      <td>4998</td>\n      <td>1500</td>\n      <td>3498</td>\n    </tr>\n    <tr>\n      <th>36</th>\n      <td>uniform</td>\n      <td>5</td>\n      <td>2</td>\n      <td>0.021003</td>\n      <td>0.096858</td>\n      <td>10</td>\n      <td>0.530038</td>\n      <td>1.846646e+06</td>\n      <td>10</td>\n      <td>4998</td>\n      <td>1500</td>\n      <td>3498</td>\n    </tr>\n    <tr>\n      <th>37</th>\n      <td>uniform</td>\n      <td>5</td>\n      <td>3</td>\n      <td>0.020247</td>\n      <td>0.924815</td>\n      <td>10</td>\n      <td>0.528020</td>\n      <td>1.854576e+06</td>\n      <td>10</td>\n      <td>4998</td>\n      <td>1500</td>\n      <td>3498</td>\n    </tr>\n    <tr>\n      <th>38</th>\n      <td>uniform</td>\n      <td>10</td>\n      <td>2</td>\n      <td>0.020571</td>\n      <td>0.107580</td>\n      <td>10</td>\n      <td>0.514595</td>\n      <td>1.907326e+06</td>\n      <td>10</td>\n      <td>4998</td>\n      <td>1500</td>\n      <td>3498</td>\n    </tr>\n    <tr>\n      <th>39</th>\n      <td>uniform</td>\n      <td>10</td>\n      <td>3</td>\n      <td>0.020399</td>\n      <td>1.036723</td>\n      <td>10</td>\n      <td>0.507526</td>\n      <td>1.935101e+06</td>\n      <td>10</td>\n      <td>4998</td>\n      <td>1500</td>\n      <td>3498</td>\n    </tr>\n  </tbody>\n</table>\n</div>"
     },
     "metadata": {}
    }
   ],
   "source": [
    "MODEL = KNeighborsRegressor\n",
    "params = {\"weights\" : [\"uniform\"],\n",
    "            \"n_neighbors\" : [5,10],\n",
    "           \"p\": [2,3]}\n",
    "NAME = \"KNN\"\n",
    "PATH = \"out/\"+NAME+\"/\"\n",
    "\n",
    "\n",
    "modeltrainer = ModelTrainer(MODEL, params, X, Y, thread_cnt=1)\n",
    "########### train with TrainTestSplit  ###################\n",
    "modeltrainer.TTSplit(test_size = test_size)\n",
    "modeltrainer.train()\n",
    "results = modeltrainer.retResults(PATH + \"sklearn_TTS_KNN_raw.csv\")\n",
    "display(results)\n",
    "############ shuffle_Cross validation  ###################\n",
    "modeltrainer.CV_shuffle_split(k = n_splits, test_size = test_size, random_state = 42)\n",
    "results = modeltrainer.retResults(PATH + \"sklearn_CV_KNN_raw.csv\")\n",
    "display(results)"
   ]
  },
  {
   "source": [
    "## my KNN-Regression"
   ],
   "cell_type": "markdown",
   "metadata": {}
  },
  {
   "cell_type": "code",
   "execution_count": 7,
   "metadata": {},
   "outputs": [
    {
     "output_type": "stream",
     "name": "stdout",
     "text": [
      "chunking...\n",
      "chunking...\n",
      "chunking...\n",
      "chunking...\n",
      "Training all model variations took 5.3813s - holdout\n"
     ]
    },
    {
     "output_type": "display_data",
     "data": {
      "text/plain": "   weights  n_neighbors  p  chunk_size  train_time  inference_time  k  \\\n0  uniform            5  2           2    0.000010        0.552836  0   \n1  uniform            5  3           2    0.000006        2.137665  0   \n2  uniform           10  2           2    0.000007        0.536342  0   \n3  uniform           10  3           2    0.000007        2.151402  0   \n\n   R2_score          RMSE   D     N  n_test  n_train  \n0  0.503103  1.933278e+06  10  4998    1500     3498  \n1  0.497261  1.956007e+06  10  4998    1500     3498  \n2  0.516419  1.881471e+06  10  4998    1500     3498  \n3  0.497971  1.953247e+06  10  4998    1500     3498  ",
      "text/html": "<div>\n<style scoped>\n    .dataframe tbody tr th:only-of-type {\n        vertical-align: middle;\n    }\n\n    .dataframe tbody tr th {\n        vertical-align: top;\n    }\n\n    .dataframe thead th {\n        text-align: right;\n    }\n</style>\n<table border=\"1\" class=\"dataframe\">\n  <thead>\n    <tr style=\"text-align: right;\">\n      <th></th>\n      <th>weights</th>\n      <th>n_neighbors</th>\n      <th>p</th>\n      <th>chunk_size</th>\n      <th>train_time</th>\n      <th>inference_time</th>\n      <th>k</th>\n      <th>R2_score</th>\n      <th>RMSE</th>\n      <th>D</th>\n      <th>N</th>\n      <th>n_test</th>\n      <th>n_train</th>\n    </tr>\n  </thead>\n  <tbody>\n    <tr>\n      <th>0</th>\n      <td>uniform</td>\n      <td>5</td>\n      <td>2</td>\n      <td>2</td>\n      <td>0.000010</td>\n      <td>0.552836</td>\n      <td>0</td>\n      <td>0.503103</td>\n      <td>1.933278e+06</td>\n      <td>10</td>\n      <td>4998</td>\n      <td>1500</td>\n      <td>3498</td>\n    </tr>\n    <tr>\n      <th>1</th>\n      <td>uniform</td>\n      <td>5</td>\n      <td>3</td>\n      <td>2</td>\n      <td>0.000006</td>\n      <td>2.137665</td>\n      <td>0</td>\n      <td>0.497261</td>\n      <td>1.956007e+06</td>\n      <td>10</td>\n      <td>4998</td>\n      <td>1500</td>\n      <td>3498</td>\n    </tr>\n    <tr>\n      <th>2</th>\n      <td>uniform</td>\n      <td>10</td>\n      <td>2</td>\n      <td>2</td>\n      <td>0.000007</td>\n      <td>0.536342</td>\n      <td>0</td>\n      <td>0.516419</td>\n      <td>1.881471e+06</td>\n      <td>10</td>\n      <td>4998</td>\n      <td>1500</td>\n      <td>3498</td>\n    </tr>\n    <tr>\n      <th>3</th>\n      <td>uniform</td>\n      <td>10</td>\n      <td>3</td>\n      <td>2</td>\n      <td>0.000007</td>\n      <td>2.151402</td>\n      <td>0</td>\n      <td>0.497971</td>\n      <td>1.953247e+06</td>\n      <td>10</td>\n      <td>4998</td>\n      <td>1500</td>\n      <td>3498</td>\n    </tr>\n  </tbody>\n</table>\n</div>"
     },
     "metadata": {}
    },
    {
     "output_type": "stream",
     "name": "stdout",
     "text": [
      "Using CV with k={k} folds.\n",
      "chunking...\n",
      "chunking...\n",
      "chunking...\n",
      "chunking...\n",
      "Training all model variations took 5.5473s - CV fold # =1\n",
      "chunking...\n",
      "chunking...\n",
      "chunking...\n",
      "chunking...\n",
      "Training all model variations took 5.2024s - CV fold # =2\n",
      "chunking...\n",
      "chunking...\n",
      "chunking...\n",
      "chunking...\n",
      "Training all model variations took 5.1999s - CV fold # =3\n",
      "chunking...\n",
      "chunking...\n",
      "chunking...\n",
      "chunking...\n",
      "Training all model variations took 5.1990s - CV fold # =4\n",
      "chunking...\n",
      "chunking...\n",
      "chunking...\n",
      "chunking...\n",
      "Training all model variations took 5.9018s - CV fold # =5\n",
      "chunking...\n",
      "chunking...\n",
      "chunking...\n",
      "chunking...\n",
      "Training all model variations took 5.6222s - CV fold # =6\n",
      "chunking...\n",
      "chunking...\n",
      "chunking...\n",
      "chunking...\n",
      "Training all model variations took 5.4060s - CV fold # =7\n",
      "chunking...\n",
      "chunking...\n",
      "chunking...\n",
      "chunking...\n",
      "Training all model variations took 5.1516s - CV fold # =8\n",
      "chunking...\n",
      "chunking...\n",
      "chunking...\n",
      "chunking...\n",
      "Training all model variations took 5.0880s - CV fold # =9\n",
      "chunking...\n",
      "chunking...\n",
      "chunking...\n",
      "chunking...\n",
      "Training all model variations took 5.1198s - CV fold # =10\n"
     ]
    },
    {
     "output_type": "display_data",
     "data": {
      "text/plain": "    weights  n_neighbors  p  chunk_size  train_time  inference_time   k  \\\n0   uniform            5  2           2    0.000011        0.632534   1   \n1   uniform            5  3           2    0.000007        2.300569   1   \n2   uniform           10  2           2    0.000008        0.508259   1   \n3   uniform           10  3           2    0.000007        2.102785   1   \n4   uniform            5  2           2    0.000006        0.515087   2   \n5   uniform            5  3           2    0.000006        2.080321   2   \n6   uniform           10  2           2    0.000006        0.529763   2   \n7   uniform           10  3           2    0.000006        2.074296   2   \n8   uniform            5  2           2    0.000007        0.518300   3   \n9   uniform            5  3           2    0.000008        2.072098   3   \n10  uniform           10  2           2    0.000007        0.521390   3   \n11  uniform           10  3           2    0.000007        2.084319   3   \n12  uniform            5  2           2    0.000006        0.515226   4   \n13  uniform            5  3           2    0.000006        2.094668   4   \n14  uniform           10  2           2    0.000006        0.509680   4   \n15  uniform           10  3           2    0.000007        2.076389   4   \n16  uniform            5  2           2    0.000006        0.591663   5   \n17  uniform            5  3           2    0.000008        2.348223   5   \n18  uniform           10  2           2    0.000010        0.608111   5   \n19  uniform           10  3           2    0.000010        2.349817   5   \n20  uniform            5  2           2    0.000007        0.571864   6   \n21  uniform            5  3           2    0.000008        2.378398   6   \n22  uniform           10  2           2    0.000006        0.517431   6   \n23  uniform           10  3           2    0.000010        2.150869   6   \n24  uniform            5  2           2    0.000006        0.568397   7   \n25  uniform            5  3           2    0.000007        2.178357   7   \n26  uniform           10  2           2    0.000012        0.514546   7   \n27  uniform           10  3           2    0.000007        2.140909   7   \n28  uniform            5  2           2    0.000006        0.505065   8   \n29  uniform            5  3           2    0.000010        2.081546   8   \n30  uniform           10  2           2    0.000006        0.503622   8   \n31  uniform           10  3           2    0.000007        2.058141   8   \n32  uniform            5  2           2    0.000007        0.488437   9   \n33  uniform            5  3           2    0.000007        2.051778   9   \n34  uniform           10  2           2    0.000007        0.491222   9   \n35  uniform           10  3           2    0.000007        2.053450   9   \n36  uniform            5  2           2    0.000006        0.508166  10   \n37  uniform            5  3           2    0.000006        2.100474  10   \n38  uniform           10  2           2    0.000006        0.489637  10   \n39  uniform           10  3           2    0.000006        2.018471  10   \n\n    R2_score          RMSE   D     N  n_test  n_train  \n0   0.503103  1.933278e+06  10  4998    1500     3498  \n1   0.497261  1.956007e+06  10  4998    1500     3498  \n2   0.516419  1.881471e+06  10  4998    1500     3498  \n3   0.497971  1.953247e+06  10  4998    1500     3498  \n4   0.489195  1.969592e+06  10  4998    1500     3498  \n5   0.487893  1.974610e+06  10  4998    1500     3498  \n6   0.493744  1.952051e+06  10  4998    1500     3498  \n7   0.466912  2.055512e+06  10  4998    1500     3498  \n8   0.465306  2.063780e+06  10  4998    1500     3498  \n9   0.453582  2.109030e+06  10  4998    1500     3498  \n10  0.473179  2.033389e+06  10  4998    1500     3498  \n11  0.457664  2.093276e+06  10  4998    1500     3498  \n12  0.476671  2.064400e+06  10  4998    1500     3498  \n13  0.475656  2.068407e+06  10  4998    1500     3498  \n14  0.489929  2.012101e+06  10  4998    1500     3498  \n15  0.473054  2.078669e+06  10  4998    1500     3498  \n16  0.481901  1.990619e+06  10  4998    1500     3498  \n17  0.489609  1.961002e+06  10  4998    1500     3498  \n18  0.488517  1.965199e+06  10  4998    1500     3498  \n19  0.468778  2.041038e+06  10  4998    1500     3498  \n20  0.485187  1.933524e+06  10  4998    1500     3498  \n21  0.481507  1.947346e+06  10  4998    1500     3498  \n22  0.484946  1.934429e+06  10  4998    1500     3498  \n23  0.472585  1.980855e+06  10  4998    1500     3498  \n24  0.452694  2.037906e+06  10  4998    1500     3498  \n25  0.467836  1.981523e+06  10  4998    1500     3498  \n26  0.474165  1.957961e+06  10  4998    1500     3498  \n27  0.452510  2.038593e+06  10  4998    1500     3498  \n28  0.495950  1.936111e+06  10  4998    1500     3498  \n29  0.486007  1.974303e+06  10  4998    1500     3498  \n30  0.497269  1.931045e+06  10  4998    1500     3498  \n31  0.490034  1.958837e+06  10  4998    1500     3498  \n32  0.487685  2.004753e+06  10  4998    1500     3498  \n33  0.480187  2.034096e+06  10  4998    1500     3498  \n34  0.492131  1.987356e+06  10  4998    1500     3498  \n35  0.486249  2.010375e+06  10  4998    1500     3498  \n36  0.530038  1.846646e+06  10  4998    1500     3498  \n37  0.528020  1.854576e+06  10  4998    1500     3498  \n38  0.514595  1.907326e+06  10  4998    1500     3498  \n39  0.507526  1.935101e+06  10  4998    1500     3498  ",
      "text/html": "<div>\n<style scoped>\n    .dataframe tbody tr th:only-of-type {\n        vertical-align: middle;\n    }\n\n    .dataframe tbody tr th {\n        vertical-align: top;\n    }\n\n    .dataframe thead th {\n        text-align: right;\n    }\n</style>\n<table border=\"1\" class=\"dataframe\">\n  <thead>\n    <tr style=\"text-align: right;\">\n      <th></th>\n      <th>weights</th>\n      <th>n_neighbors</th>\n      <th>p</th>\n      <th>chunk_size</th>\n      <th>train_time</th>\n      <th>inference_time</th>\n      <th>k</th>\n      <th>R2_score</th>\n      <th>RMSE</th>\n      <th>D</th>\n      <th>N</th>\n      <th>n_test</th>\n      <th>n_train</th>\n    </tr>\n  </thead>\n  <tbody>\n    <tr>\n      <th>0</th>\n      <td>uniform</td>\n      <td>5</td>\n      <td>2</td>\n      <td>2</td>\n      <td>0.000011</td>\n      <td>0.632534</td>\n      <td>1</td>\n      <td>0.503103</td>\n      <td>1.933278e+06</td>\n      <td>10</td>\n      <td>4998</td>\n      <td>1500</td>\n      <td>3498</td>\n    </tr>\n    <tr>\n      <th>1</th>\n      <td>uniform</td>\n      <td>5</td>\n      <td>3</td>\n      <td>2</td>\n      <td>0.000007</td>\n      <td>2.300569</td>\n      <td>1</td>\n      <td>0.497261</td>\n      <td>1.956007e+06</td>\n      <td>10</td>\n      <td>4998</td>\n      <td>1500</td>\n      <td>3498</td>\n    </tr>\n    <tr>\n      <th>2</th>\n      <td>uniform</td>\n      <td>10</td>\n      <td>2</td>\n      <td>2</td>\n      <td>0.000008</td>\n      <td>0.508259</td>\n      <td>1</td>\n      <td>0.516419</td>\n      <td>1.881471e+06</td>\n      <td>10</td>\n      <td>4998</td>\n      <td>1500</td>\n      <td>3498</td>\n    </tr>\n    <tr>\n      <th>3</th>\n      <td>uniform</td>\n      <td>10</td>\n      <td>3</td>\n      <td>2</td>\n      <td>0.000007</td>\n      <td>2.102785</td>\n      <td>1</td>\n      <td>0.497971</td>\n      <td>1.953247e+06</td>\n      <td>10</td>\n      <td>4998</td>\n      <td>1500</td>\n      <td>3498</td>\n    </tr>\n    <tr>\n      <th>4</th>\n      <td>uniform</td>\n      <td>5</td>\n      <td>2</td>\n      <td>2</td>\n      <td>0.000006</td>\n      <td>0.515087</td>\n      <td>2</td>\n      <td>0.489195</td>\n      <td>1.969592e+06</td>\n      <td>10</td>\n      <td>4998</td>\n      <td>1500</td>\n      <td>3498</td>\n    </tr>\n    <tr>\n      <th>5</th>\n      <td>uniform</td>\n      <td>5</td>\n      <td>3</td>\n      <td>2</td>\n      <td>0.000006</td>\n      <td>2.080321</td>\n      <td>2</td>\n      <td>0.487893</td>\n      <td>1.974610e+06</td>\n      <td>10</td>\n      <td>4998</td>\n      <td>1500</td>\n      <td>3498</td>\n    </tr>\n    <tr>\n      <th>6</th>\n      <td>uniform</td>\n      <td>10</td>\n      <td>2</td>\n      <td>2</td>\n      <td>0.000006</td>\n      <td>0.529763</td>\n      <td>2</td>\n      <td>0.493744</td>\n      <td>1.952051e+06</td>\n      <td>10</td>\n      <td>4998</td>\n      <td>1500</td>\n      <td>3498</td>\n    </tr>\n    <tr>\n      <th>7</th>\n      <td>uniform</td>\n      <td>10</td>\n      <td>3</td>\n      <td>2</td>\n      <td>0.000006</td>\n      <td>2.074296</td>\n      <td>2</td>\n      <td>0.466912</td>\n      <td>2.055512e+06</td>\n      <td>10</td>\n      <td>4998</td>\n      <td>1500</td>\n      <td>3498</td>\n    </tr>\n    <tr>\n      <th>8</th>\n      <td>uniform</td>\n      <td>5</td>\n      <td>2</td>\n      <td>2</td>\n      <td>0.000007</td>\n      <td>0.518300</td>\n      <td>3</td>\n      <td>0.465306</td>\n      <td>2.063780e+06</td>\n      <td>10</td>\n      <td>4998</td>\n      <td>1500</td>\n      <td>3498</td>\n    </tr>\n    <tr>\n      <th>9</th>\n      <td>uniform</td>\n      <td>5</td>\n      <td>3</td>\n      <td>2</td>\n      <td>0.000008</td>\n      <td>2.072098</td>\n      <td>3</td>\n      <td>0.453582</td>\n      <td>2.109030e+06</td>\n      <td>10</td>\n      <td>4998</td>\n      <td>1500</td>\n      <td>3498</td>\n    </tr>\n    <tr>\n      <th>10</th>\n      <td>uniform</td>\n      <td>10</td>\n      <td>2</td>\n      <td>2</td>\n      <td>0.000007</td>\n      <td>0.521390</td>\n      <td>3</td>\n      <td>0.473179</td>\n      <td>2.033389e+06</td>\n      <td>10</td>\n      <td>4998</td>\n      <td>1500</td>\n      <td>3498</td>\n    </tr>\n    <tr>\n      <th>11</th>\n      <td>uniform</td>\n      <td>10</td>\n      <td>3</td>\n      <td>2</td>\n      <td>0.000007</td>\n      <td>2.084319</td>\n      <td>3</td>\n      <td>0.457664</td>\n      <td>2.093276e+06</td>\n      <td>10</td>\n      <td>4998</td>\n      <td>1500</td>\n      <td>3498</td>\n    </tr>\n    <tr>\n      <th>12</th>\n      <td>uniform</td>\n      <td>5</td>\n      <td>2</td>\n      <td>2</td>\n      <td>0.000006</td>\n      <td>0.515226</td>\n      <td>4</td>\n      <td>0.476671</td>\n      <td>2.064400e+06</td>\n      <td>10</td>\n      <td>4998</td>\n      <td>1500</td>\n      <td>3498</td>\n    </tr>\n    <tr>\n      <th>13</th>\n      <td>uniform</td>\n      <td>5</td>\n      <td>3</td>\n      <td>2</td>\n      <td>0.000006</td>\n      <td>2.094668</td>\n      <td>4</td>\n      <td>0.475656</td>\n      <td>2.068407e+06</td>\n      <td>10</td>\n      <td>4998</td>\n      <td>1500</td>\n      <td>3498</td>\n    </tr>\n    <tr>\n      <th>14</th>\n      <td>uniform</td>\n      <td>10</td>\n      <td>2</td>\n      <td>2</td>\n      <td>0.000006</td>\n      <td>0.509680</td>\n      <td>4</td>\n      <td>0.489929</td>\n      <td>2.012101e+06</td>\n      <td>10</td>\n      <td>4998</td>\n      <td>1500</td>\n      <td>3498</td>\n    </tr>\n    <tr>\n      <th>15</th>\n      <td>uniform</td>\n      <td>10</td>\n      <td>3</td>\n      <td>2</td>\n      <td>0.000007</td>\n      <td>2.076389</td>\n      <td>4</td>\n      <td>0.473054</td>\n      <td>2.078669e+06</td>\n      <td>10</td>\n      <td>4998</td>\n      <td>1500</td>\n      <td>3498</td>\n    </tr>\n    <tr>\n      <th>16</th>\n      <td>uniform</td>\n      <td>5</td>\n      <td>2</td>\n      <td>2</td>\n      <td>0.000006</td>\n      <td>0.591663</td>\n      <td>5</td>\n      <td>0.481901</td>\n      <td>1.990619e+06</td>\n      <td>10</td>\n      <td>4998</td>\n      <td>1500</td>\n      <td>3498</td>\n    </tr>\n    <tr>\n      <th>17</th>\n      <td>uniform</td>\n      <td>5</td>\n      <td>3</td>\n      <td>2</td>\n      <td>0.000008</td>\n      <td>2.348223</td>\n      <td>5</td>\n      <td>0.489609</td>\n      <td>1.961002e+06</td>\n      <td>10</td>\n      <td>4998</td>\n      <td>1500</td>\n      <td>3498</td>\n    </tr>\n    <tr>\n      <th>18</th>\n      <td>uniform</td>\n      <td>10</td>\n      <td>2</td>\n      <td>2</td>\n      <td>0.000010</td>\n      <td>0.608111</td>\n      <td>5</td>\n      <td>0.488517</td>\n      <td>1.965199e+06</td>\n      <td>10</td>\n      <td>4998</td>\n      <td>1500</td>\n      <td>3498</td>\n    </tr>\n    <tr>\n      <th>19</th>\n      <td>uniform</td>\n      <td>10</td>\n      <td>3</td>\n      <td>2</td>\n      <td>0.000010</td>\n      <td>2.349817</td>\n      <td>5</td>\n      <td>0.468778</td>\n      <td>2.041038e+06</td>\n      <td>10</td>\n      <td>4998</td>\n      <td>1500</td>\n      <td>3498</td>\n    </tr>\n    <tr>\n      <th>20</th>\n      <td>uniform</td>\n      <td>5</td>\n      <td>2</td>\n      <td>2</td>\n      <td>0.000007</td>\n      <td>0.571864</td>\n      <td>6</td>\n      <td>0.485187</td>\n      <td>1.933524e+06</td>\n      <td>10</td>\n      <td>4998</td>\n      <td>1500</td>\n      <td>3498</td>\n    </tr>\n    <tr>\n      <th>21</th>\n      <td>uniform</td>\n      <td>5</td>\n      <td>3</td>\n      <td>2</td>\n      <td>0.000008</td>\n      <td>2.378398</td>\n      <td>6</td>\n      <td>0.481507</td>\n      <td>1.947346e+06</td>\n      <td>10</td>\n      <td>4998</td>\n      <td>1500</td>\n      <td>3498</td>\n    </tr>\n    <tr>\n      <th>22</th>\n      <td>uniform</td>\n      <td>10</td>\n      <td>2</td>\n      <td>2</td>\n      <td>0.000006</td>\n      <td>0.517431</td>\n      <td>6</td>\n      <td>0.484946</td>\n      <td>1.934429e+06</td>\n      <td>10</td>\n      <td>4998</td>\n      <td>1500</td>\n      <td>3498</td>\n    </tr>\n    <tr>\n      <th>23</th>\n      <td>uniform</td>\n      <td>10</td>\n      <td>3</td>\n      <td>2</td>\n      <td>0.000010</td>\n      <td>2.150869</td>\n      <td>6</td>\n      <td>0.472585</td>\n      <td>1.980855e+06</td>\n      <td>10</td>\n      <td>4998</td>\n      <td>1500</td>\n      <td>3498</td>\n    </tr>\n    <tr>\n      <th>24</th>\n      <td>uniform</td>\n      <td>5</td>\n      <td>2</td>\n      <td>2</td>\n      <td>0.000006</td>\n      <td>0.568397</td>\n      <td>7</td>\n      <td>0.452694</td>\n      <td>2.037906e+06</td>\n      <td>10</td>\n      <td>4998</td>\n      <td>1500</td>\n      <td>3498</td>\n    </tr>\n    <tr>\n      <th>25</th>\n      <td>uniform</td>\n      <td>5</td>\n      <td>3</td>\n      <td>2</td>\n      <td>0.000007</td>\n      <td>2.178357</td>\n      <td>7</td>\n      <td>0.467836</td>\n      <td>1.981523e+06</td>\n      <td>10</td>\n      <td>4998</td>\n      <td>1500</td>\n      <td>3498</td>\n    </tr>\n    <tr>\n      <th>26</th>\n      <td>uniform</td>\n      <td>10</td>\n      <td>2</td>\n      <td>2</td>\n      <td>0.000012</td>\n      <td>0.514546</td>\n      <td>7</td>\n      <td>0.474165</td>\n      <td>1.957961e+06</td>\n      <td>10</td>\n      <td>4998</td>\n      <td>1500</td>\n      <td>3498</td>\n    </tr>\n    <tr>\n      <th>27</th>\n      <td>uniform</td>\n      <td>10</td>\n      <td>3</td>\n      <td>2</td>\n      <td>0.000007</td>\n      <td>2.140909</td>\n      <td>7</td>\n      <td>0.452510</td>\n      <td>2.038593e+06</td>\n      <td>10</td>\n      <td>4998</td>\n      <td>1500</td>\n      <td>3498</td>\n    </tr>\n    <tr>\n      <th>28</th>\n      <td>uniform</td>\n      <td>5</td>\n      <td>2</td>\n      <td>2</td>\n      <td>0.000006</td>\n      <td>0.505065</td>\n      <td>8</td>\n      <td>0.495950</td>\n      <td>1.936111e+06</td>\n      <td>10</td>\n      <td>4998</td>\n      <td>1500</td>\n      <td>3498</td>\n    </tr>\n    <tr>\n      <th>29</th>\n      <td>uniform</td>\n      <td>5</td>\n      <td>3</td>\n      <td>2</td>\n      <td>0.000010</td>\n      <td>2.081546</td>\n      <td>8</td>\n      <td>0.486007</td>\n      <td>1.974303e+06</td>\n      <td>10</td>\n      <td>4998</td>\n      <td>1500</td>\n      <td>3498</td>\n    </tr>\n    <tr>\n      <th>30</th>\n      <td>uniform</td>\n      <td>10</td>\n      <td>2</td>\n      <td>2</td>\n      <td>0.000006</td>\n      <td>0.503622</td>\n      <td>8</td>\n      <td>0.497269</td>\n      <td>1.931045e+06</td>\n      <td>10</td>\n      <td>4998</td>\n      <td>1500</td>\n      <td>3498</td>\n    </tr>\n    <tr>\n      <th>31</th>\n      <td>uniform</td>\n      <td>10</td>\n      <td>3</td>\n      <td>2</td>\n      <td>0.000007</td>\n      <td>2.058141</td>\n      <td>8</td>\n      <td>0.490034</td>\n      <td>1.958837e+06</td>\n      <td>10</td>\n      <td>4998</td>\n      <td>1500</td>\n      <td>3498</td>\n    </tr>\n    <tr>\n      <th>32</th>\n      <td>uniform</td>\n      <td>5</td>\n      <td>2</td>\n      <td>2</td>\n      <td>0.000007</td>\n      <td>0.488437</td>\n      <td>9</td>\n      <td>0.487685</td>\n      <td>2.004753e+06</td>\n      <td>10</td>\n      <td>4998</td>\n      <td>1500</td>\n      <td>3498</td>\n    </tr>\n    <tr>\n      <th>33</th>\n      <td>uniform</td>\n      <td>5</td>\n      <td>3</td>\n      <td>2</td>\n      <td>0.000007</td>\n      <td>2.051778</td>\n      <td>9</td>\n      <td>0.480187</td>\n      <td>2.034096e+06</td>\n      <td>10</td>\n      <td>4998</td>\n      <td>1500</td>\n      <td>3498</td>\n    </tr>\n    <tr>\n      <th>34</th>\n      <td>uniform</td>\n      <td>10</td>\n      <td>2</td>\n      <td>2</td>\n      <td>0.000007</td>\n      <td>0.491222</td>\n      <td>9</td>\n      <td>0.492131</td>\n      <td>1.987356e+06</td>\n      <td>10</td>\n      <td>4998</td>\n      <td>1500</td>\n      <td>3498</td>\n    </tr>\n    <tr>\n      <th>35</th>\n      <td>uniform</td>\n      <td>10</td>\n      <td>3</td>\n      <td>2</td>\n      <td>0.000007</td>\n      <td>2.053450</td>\n      <td>9</td>\n      <td>0.486249</td>\n      <td>2.010375e+06</td>\n      <td>10</td>\n      <td>4998</td>\n      <td>1500</td>\n      <td>3498</td>\n    </tr>\n    <tr>\n      <th>36</th>\n      <td>uniform</td>\n      <td>5</td>\n      <td>2</td>\n      <td>2</td>\n      <td>0.000006</td>\n      <td>0.508166</td>\n      <td>10</td>\n      <td>0.530038</td>\n      <td>1.846646e+06</td>\n      <td>10</td>\n      <td>4998</td>\n      <td>1500</td>\n      <td>3498</td>\n    </tr>\n    <tr>\n      <th>37</th>\n      <td>uniform</td>\n      <td>5</td>\n      <td>3</td>\n      <td>2</td>\n      <td>0.000006</td>\n      <td>2.100474</td>\n      <td>10</td>\n      <td>0.528020</td>\n      <td>1.854576e+06</td>\n      <td>10</td>\n      <td>4998</td>\n      <td>1500</td>\n      <td>3498</td>\n    </tr>\n    <tr>\n      <th>38</th>\n      <td>uniform</td>\n      <td>10</td>\n      <td>2</td>\n      <td>2</td>\n      <td>0.000006</td>\n      <td>0.489637</td>\n      <td>10</td>\n      <td>0.514595</td>\n      <td>1.907326e+06</td>\n      <td>10</td>\n      <td>4998</td>\n      <td>1500</td>\n      <td>3498</td>\n    </tr>\n    <tr>\n      <th>39</th>\n      <td>uniform</td>\n      <td>10</td>\n      <td>3</td>\n      <td>2</td>\n      <td>0.000006</td>\n      <td>2.018471</td>\n      <td>10</td>\n      <td>0.507526</td>\n      <td>1.935101e+06</td>\n      <td>10</td>\n      <td>4998</td>\n      <td>1500</td>\n      <td>3498</td>\n    </tr>\n  </tbody>\n</table>\n</div>"
     },
     "metadata": {}
    }
   ],
   "source": [
    "MODEL = KNNRegressor\n",
    "params = {\"weights\" : [\"uniform\"],\n",
    "            \"n_neighbors\" : [5,10],\n",
    "           \"p\": [2,3],\n",
    "           \"chunk_size\": [2]}\n",
    "NAME = \"KNN\"\n",
    "PATH = \"out/\"+NAME+\"/\"\n",
    "\n",
    "\n",
    "modeltrainer = ModelTrainer(MODEL, params, X, Y, thread_cnt=1)\n",
    "########### train with TrainTestSplit  ###################\n",
    "modeltrainer.TTSplit(test_size = test_size)\n",
    "modeltrainer.train()\n",
    "results = modeltrainer.retResults(PATH + \"my_TTS_KNN_raw.csv\")\n",
    "display(results)\n",
    "############ shuffle_Cross validation  ###################\n",
    "modeltrainer.CV_shuffle_split(k = n_splits, test_size = test_size, random_state = 42)\n",
    "results = modeltrainer.retResults(PATH + \"my_CV_KNN_raw.csv\")\n",
    "display(results)"
   ]
  },
  {
   "source": [
    "## RF-Regression"
   ],
   "cell_type": "markdown",
   "metadata": {}
  },
  {
   "cell_type": "code",
   "execution_count": null,
   "metadata": {},
   "outputs": [],
   "source": [
    "MODEL = RandomForestRegressor\n",
    "params = {\"n_estimators\" : [100,200],\n",
    "            \"max_features\": [\"auto\", \"sqrt\",\"log2\"]}\n",
    "NAME = \"RF\"\n",
    "PATH = \"out/\"+NAME+\"/\"\n",
    "\n",
    "\n",
    "\n",
    "modeltrainer = ModelTrainer(MODEL, params, X, Y, thread_cnt=1)\n",
    "########### train with TrainTestSplit  ###################\n",
    "modeltrainer.TTSplit(test_size = test_size)\n",
    "modeltrainer.train()\n",
    "results = modeltrainer.retResults(PATH + \"sklearn_TTS_RF_transforamtion.csv\")\n",
    "display(results)\n",
    "############ shuffle_Cross validation  ###################\n",
    "modeltrainer.CV_shuffle_split(k = n_splits, test_size = test_size, random_state = 42)\n",
    "results = modeltrainer.retResults(PATH + \"sklearn_CV_RF_transforamtion.csv\")\n",
    "display(results)"
   ]
  },
  {
   "cell_type": "code",
   "execution_count": null,
   "metadata": {},
   "outputs": [],
   "source": []
  },
  {
   "source": [
    "## DT-Regression"
   ],
   "cell_type": "markdown",
   "metadata": {}
  },
  {
   "cell_type": "code",
   "execution_count": null,
   "metadata": {},
   "outputs": [],
   "source": [
    "MODEL = DecisionTreeRegressor\n",
    "params = {\"criterion\": [\"mse\"],\n",
    "          \"max_features\": [\"auto\", \"sqrt\",\"log2\"]}\n",
    "NAME = \"DT\"\n",
    "PATH = \"out/\"+NAME+\"/\"\n",
    "n_splits = 10\n",
    "\n",
    "\n",
    "modeltrainer = ModelTrainer(MODEL, params, X, Y, thread_cnt=1)\n",
    "########### train with TrainTestSplit  ###################\n",
    "modeltrainer.TTSplit(test_size = test_size)\n",
    "modeltrainer.train()\n",
    "results = modeltrainer.retResults(PATH + \"sklearn_TTS_DT_raw.csv\")\n",
    "display(results)\n",
    "############ shuffle_Cross validation  ###################\n",
    "modeltrainer.CV_shuffle_split(k = n_splits, test_size = test_size, random_state = 42)\n",
    "results = modeltrainer.retResults(PATH + \"sklearn_CV_DT_raw.csv\")\n",
    "display(results)"
   ]
  },
  {
   "cell_type": "code",
   "execution_count": null,
   "metadata": {},
   "outputs": [],
   "source": []
  },
  {
   "cell_type": "code",
   "execution_count": null,
   "metadata": {},
   "outputs": [],
   "source": []
  },
  {
   "cell_type": "code",
   "execution_count": null,
   "metadata": {},
   "outputs": [],
   "source": []
  }
 ]
}