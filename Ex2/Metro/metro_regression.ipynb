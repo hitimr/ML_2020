{
 "metadata": {
  "language_info": {
   "codemirror_mode": {
    "name": "ipython",
    "version": 3
   },
   "file_extension": ".py",
   "mimetype": "text/x-python",
   "name": "python",
   "nbconvert_exporter": "python",
   "pygments_lexer": "ipython3",
   "version": "3.7.5-final"
  },
  "orig_nbformat": 2,
  "kernelspec": {
   "name": "python37564bitb5f188b5fd4549769c9ea1e1a366fa0d",
   "display_name": "Python 3.7.5 64-bit"
  }
 },
 "nbformat": 4,
 "nbformat_minor": 2,
 "cells": [
  {
   "cell_type": "code",
   "execution_count": 1,
   "metadata": {},
   "outputs": [],
   "source": [
    "import pandas as pd\n",
    "import seaborn as sns\n",
    "import matplotlib.pyplot as plt\n",
    "import numpy as np\n",
    "from math import sqrt\n",
    "from math import log2\n",
    "%matplotlib inline\n",
    "\n",
    "from sklearn.metrics import accuracy_score\n",
    "from sklearn.metrics import r2_score\n",
    "from sklearn.metrics import mean_poisson_deviance\n",
    "from sklearn.metrics import mean_gamma_deviance\n",
    "from sklearn.metrics import median_absolute_error\n",
    "from sklearn.metrics import confusion_matrix\n",
    "import matplotlib.pyplot as plt\n",
    "from matplotlib.colors import ListedColormap\n",
    "from sklearn.pipeline import make_pipeline\n",
    "import time\n",
    "import matplotlib as mpl\n",
    "\n",
    "from sklearn.neighbors import KNeighborsRegressor\n",
    "from sklearn.linear_model import SGDRegressor\n",
    "from sklearn.ensemble import RandomForestRegressor\n",
    "from sklearn.tree import DecisionTreeRegressor\n",
    "\n",
    "\n",
    "\n",
    "from sklearn.preprocessing import StandardScaler,PowerTransformer,MinMaxScaler,QuantileTransformer,normalize\n",
    "from sklearn.model_selection import train_test_split, learning_curve, ShuffleSplit\n",
    "from sklearn.feature_selection import VarianceThreshold, SelectKBest\n",
    "from sklearn.model_selection import KFold\n",
    "from sklearn.decomposition import PCA\n",
    "from sklearn.feature_selection import SelectKBest\n",
    "from sklearn.feature_selection import chi2\n",
    "\n",
    "from sklearn.model_selection import train_test_split\n",
    "\n",
    "import pathlib\n",
    "import os\n",
    "import sys\n",
    "\n",
    "# for selection the right path\n",
    "import os,sys,inspect,pathlib\n",
    "currentdir = os.path.dirname(os.path.abspath(inspect.getfile(inspect.currentframe())))\n",
    "parentdir = os.path.dirname(currentdir)\n",
    "sys.path.insert(0,parentdir)\n",
    "\n",
    "from common.model_trainer_reg import *\n",
    "from common.regression_plotfunctions import *\n",
    "\n",
    "\n",
    "from GD.LinearRegression import LinearRegression\n",
    "from KNN.KNNRegressor import KNNRegressor\n",
    "\n",
    "import metro_preprocessing\n"
   ]
  },
  {
   "cell_type": "code",
   "execution_count": 2,
   "metadata": {},
   "outputs": [
    {
     "output_type": "stream",
     "name": "stdout",
     "text": [
      "['/home/alexander/Dokumente/WS2020/MaschinLearning/ML_2020/Ex2', '/home/alexander/Dokumente/WS2020/MaschinLearning/ML_2020/Ex2', '/home/alexander/Dokumente/WS2020/MaschinLearning/ML_2020/Ex2', '/home/alexander/Dokumente/WS2020/MaschinLearning/ML_2020/Ex2', '/home/alexander/Dokumente/WS2020/MaschinLearning/ML_2020/Ex2/Metro', '', '/home/alexander/ngsuite/ngsolve-install/lib/python3/dist-packages', '/home/alexander/ngsuite/ngsolve-install/bin', '/home/alexander/.local/bin', '/usr/local/sbin', '/usr/local/bin', '/usr/sbin', '/usr/bin', '/sbin', '/bin', '/usr/games', '/usr/local/games', '/snap/bin', '/home/alexander/.vscode/extensions/ms-toolsai.jupyter-2020.11.399280825/pythonFiles', '/home/alexander/.vscode/extensions/ms-toolsai.jupyter-2020.11.399280825/pythonFiles/lib/python', '/usr/lib/python37.zip', '/usr/lib/python3.7', '/usr/lib/python3.7/lib-dynload', '/home/alexander/.local/lib/python3.7/site-packages', '/usr/local/lib/python3.7/dist-packages', '/usr/lib/python3/dist-packages', '/home/alexander/.local/lib/python3.7/site-packages/IPython/extensions', '/home/alexander/.ipython']\n"
     ]
    }
   ],
   "source": [
    "# Custom functions\n",
    "\n",
    "module_path = pathlib.Path(os.getcwd()).parent\n",
    "if str(module_path) not in sys.path:\n",
    "    sys.path.append(str(module_path))\n",
    "print(sys.path)\n",
    "\n",
    "from common.dataset_grabber import get_data_path"
   ]
  },
  {
   "source": [
    "# Train and Test"
   ],
   "cell_type": "markdown",
   "metadata": {}
  },
  {
   "cell_type": "code",
   "execution_count": 3,
   "metadata": {},
   "outputs": [
    {
     "output_type": "display_data",
     "data": {
      "text/plain": "PosixPath('/home/alexander/Dokumente/WS2020/MaschinLearning/ML_2020/Ex2/Datasets/Metro/Metro_Interstate_Traffic_Volume.csv')"
     },
     "metadata": {}
    }
   ],
   "source": [
    "datapath = get_data_path(\"Metro\", \"Metro_Interstate_Traffic_Volume.csv\")\n",
    "display(datapath)"
   ]
  },
  {
   "cell_type": "code",
   "execution_count": 4,
   "metadata": {},
   "outputs": [],
   "source": [
    "df_raw = pd.read_csv(datapath)\n",
    "df_raw = df_raw.sample(10000)"
   ]
  },
  {
   "cell_type": "code",
   "execution_count": null,
   "metadata": {},
   "outputs": [],
   "source": []
  },
  {
   "source": [
    "X, Y = metro_preprocessing.preprocessing(df_raw, transform = True)"
   ],
   "cell_type": "code",
   "metadata": {},
   "execution_count": 5,
   "outputs": []
  },
  {
   "source": [
    "## SGD-Regression"
   ],
   "cell_type": "markdown",
   "metadata": {}
  },
  {
   "cell_type": "code",
   "execution_count": 6,
   "metadata": {},
   "outputs": [
    {
     "output_type": "display_data",
     "data": {
      "text/plain": "    alpha  train_time  inference_time  R2_score      RMSE  D     N  n_test  \\\n0  0.0001    0.009896        0.000436   0.22421  0.795015  3  9998    3000   \n\n   n_train  \n0     6998  ",
      "text/html": "<div>\n<style scoped>\n    .dataframe tbody tr th:only-of-type {\n        vertical-align: middle;\n    }\n\n    .dataframe tbody tr th {\n        vertical-align: top;\n    }\n\n    .dataframe thead th {\n        text-align: right;\n    }\n</style>\n<table border=\"1\" class=\"dataframe\">\n  <thead>\n    <tr style=\"text-align: right;\">\n      <th></th>\n      <th>alpha</th>\n      <th>train_time</th>\n      <th>inference_time</th>\n      <th>R2_score</th>\n      <th>RMSE</th>\n      <th>D</th>\n      <th>N</th>\n      <th>n_test</th>\n      <th>n_train</th>\n    </tr>\n  </thead>\n  <tbody>\n    <tr>\n      <th>0</th>\n      <td>0.0001</td>\n      <td>0.009896</td>\n      <td>0.000436</td>\n      <td>0.22421</td>\n      <td>0.795015</td>\n      <td>3</td>\n      <td>9998</td>\n      <td>3000</td>\n      <td>6998</td>\n    </tr>\n  </tbody>\n</table>\n</div>"
     },
     "metadata": {}
    },
    {
     "output_type": "display_data",
     "data": {
      "text/plain": "    alpha  train_time  inference_time  k  R2_score      RMSE  D     N  n_test  \\\n0  0.0001    0.014345        0.000884  1  0.227217  0.791933  3  9998    3000   \n1  0.0001    0.016699        0.000498  2  0.222746  0.797807  3  9998    3000   \n2  0.0001    0.027081        0.001530  3  0.207370  0.810532  3  9998    3000   \n3  0.0001    0.018535        0.002119  4  0.230082  0.795330  3  9998    3000   \n4  0.0001    0.021560        0.001149  5  0.222082  0.784231  3  9998    3000   \n5  0.0001    0.026385        0.001406  6  0.215902  0.806432  3  9998    3000   \n6  0.0001    0.022080        0.000425  7  0.211171  0.818548  3  9998    3000   \n\n   n_train  \n0     6998  \n1     6998  \n2     6998  \n3     6998  \n4     6998  \n5     6998  \n6     6998  ",
      "text/html": "<div>\n<style scoped>\n    .dataframe tbody tr th:only-of-type {\n        vertical-align: middle;\n    }\n\n    .dataframe tbody tr th {\n        vertical-align: top;\n    }\n\n    .dataframe thead th {\n        text-align: right;\n    }\n</style>\n<table border=\"1\" class=\"dataframe\">\n  <thead>\n    <tr style=\"text-align: right;\">\n      <th></th>\n      <th>alpha</th>\n      <th>train_time</th>\n      <th>inference_time</th>\n      <th>k</th>\n      <th>R2_score</th>\n      <th>RMSE</th>\n      <th>D</th>\n      <th>N</th>\n      <th>n_test</th>\n      <th>n_train</th>\n    </tr>\n  </thead>\n  <tbody>\n    <tr>\n      <th>0</th>\n      <td>0.0001</td>\n      <td>0.014345</td>\n      <td>0.000884</td>\n      <td>1</td>\n      <td>0.227217</td>\n      <td>0.791933</td>\n      <td>3</td>\n      <td>9998</td>\n      <td>3000</td>\n      <td>6998</td>\n    </tr>\n    <tr>\n      <th>1</th>\n      <td>0.0001</td>\n      <td>0.016699</td>\n      <td>0.000498</td>\n      <td>2</td>\n      <td>0.222746</td>\n      <td>0.797807</td>\n      <td>3</td>\n      <td>9998</td>\n      <td>3000</td>\n      <td>6998</td>\n    </tr>\n    <tr>\n      <th>2</th>\n      <td>0.0001</td>\n      <td>0.027081</td>\n      <td>0.001530</td>\n      <td>3</td>\n      <td>0.207370</td>\n      <td>0.810532</td>\n      <td>3</td>\n      <td>9998</td>\n      <td>3000</td>\n      <td>6998</td>\n    </tr>\n    <tr>\n      <th>3</th>\n      <td>0.0001</td>\n      <td>0.018535</td>\n      <td>0.002119</td>\n      <td>4</td>\n      <td>0.230082</td>\n      <td>0.795330</td>\n      <td>3</td>\n      <td>9998</td>\n      <td>3000</td>\n      <td>6998</td>\n    </tr>\n    <tr>\n      <th>4</th>\n      <td>0.0001</td>\n      <td>0.021560</td>\n      <td>0.001149</td>\n      <td>5</td>\n      <td>0.222082</td>\n      <td>0.784231</td>\n      <td>3</td>\n      <td>9998</td>\n      <td>3000</td>\n      <td>6998</td>\n    </tr>\n    <tr>\n      <th>5</th>\n      <td>0.0001</td>\n      <td>0.026385</td>\n      <td>0.001406</td>\n      <td>6</td>\n      <td>0.215902</td>\n      <td>0.806432</td>\n      <td>3</td>\n      <td>9998</td>\n      <td>3000</td>\n      <td>6998</td>\n    </tr>\n    <tr>\n      <th>6</th>\n      <td>0.0001</td>\n      <td>0.022080</td>\n      <td>0.000425</td>\n      <td>7</td>\n      <td>0.211171</td>\n      <td>0.818548</td>\n      <td>3</td>\n      <td>9998</td>\n      <td>3000</td>\n      <td>6998</td>\n    </tr>\n  </tbody>\n</table>\n</div>"
     },
     "metadata": {}
    }
   ],
   "source": [
    "MODEL = SGDRegressor\n",
    "NAME = \"SGD\"\n",
    "PATH = \"out/\"+NAME+\"/\"\n",
    "params = {\"alpha\" : [0.0001]}\n",
    "n_splits = 7\n",
    "test_size = 0.3\n",
    "\n",
    "modeltrainer = ModelTrainer(MODEL, params, X, Y, thread_cnt=1)\n",
    "########### train with TrainTestSplit  ###################\n",
    "modeltrainer.TTSplit(test_size = test_size)\n",
    "modeltrainer.train()\n",
    "results = modeltrainer.retResults(PATH + \"sklearn_TTS_SGD.csv\")\n",
    "display(results)\n",
    "############ shuffle_Cross validation  ###################\n",
    "modeltrainer.CV_shuffle_split(k = n_splits, test_size = test_size, random_state = 42)\n",
    "results = modeltrainer.retResults(PATH + \"sklearn_CV_SGD.csv\")\n",
    "display(results)"
   ]
  },
  {
   "source": [
    "## My SGD-Regression"
   ],
   "cell_type": "markdown",
   "metadata": {}
  },
  {
   "cell_type": "code",
   "execution_count": 7,
   "metadata": {},
   "outputs": [
    {
     "output_type": "display_data",
     "data": {
      "text/plain": "    alpha  max_iter  train_time  inference_time  R2_score     RMSE  D     N  \\\n0  0.0001      1000    0.266454        0.000104  0.228596  0.79052  3  9998   \n\n   n_test  n_train  \n0    3000     6998  ",
      "text/html": "<div>\n<style scoped>\n    .dataframe tbody tr th:only-of-type {\n        vertical-align: middle;\n    }\n\n    .dataframe tbody tr th {\n        vertical-align: top;\n    }\n\n    .dataframe thead th {\n        text-align: right;\n    }\n</style>\n<table border=\"1\" class=\"dataframe\">\n  <thead>\n    <tr style=\"text-align: right;\">\n      <th></th>\n      <th>alpha</th>\n      <th>max_iter</th>\n      <th>train_time</th>\n      <th>inference_time</th>\n      <th>R2_score</th>\n      <th>RMSE</th>\n      <th>D</th>\n      <th>N</th>\n      <th>n_test</th>\n      <th>n_train</th>\n    </tr>\n  </thead>\n  <tbody>\n    <tr>\n      <th>0</th>\n      <td>0.0001</td>\n      <td>1000</td>\n      <td>0.266454</td>\n      <td>0.000104</td>\n      <td>0.228596</td>\n      <td>0.79052</td>\n      <td>3</td>\n      <td>9998</td>\n      <td>3000</td>\n      <td>6998</td>\n    </tr>\n  </tbody>\n</table>\n</div>"
     },
     "metadata": {}
    },
    {
     "output_type": "display_data",
     "data": {
      "text/plain": "    alpha  max_iter  train_time  inference_time  k  R2_score      RMSE  D  \\\n0  0.0001      1000    0.257006        0.000114  1  0.228596  0.790520  3   \n1  0.0001      1000    0.205121        0.000104  2  0.223216  0.797324  3   \n2  0.0001      1000    0.204670        0.000115  3  0.209049  0.808815  3   \n3  0.0001      1000    0.210325        0.000104  4  0.232336  0.793000  3   \n4  0.0001      1000    0.200077        0.000123  5  0.224240  0.782056  3   \n5  0.0001      1000    0.199375        0.000103  6  0.217912  0.804365  3   \n6  0.0001      1000    0.194887        0.000113  7  0.218378  0.811069  3   \n\n      N  n_test  n_train  \n0  9998    3000     6998  \n1  9998    3000     6998  \n2  9998    3000     6998  \n3  9998    3000     6998  \n4  9998    3000     6998  \n5  9998    3000     6998  \n6  9998    3000     6998  ",
      "text/html": "<div>\n<style scoped>\n    .dataframe tbody tr th:only-of-type {\n        vertical-align: middle;\n    }\n\n    .dataframe tbody tr th {\n        vertical-align: top;\n    }\n\n    .dataframe thead th {\n        text-align: right;\n    }\n</style>\n<table border=\"1\" class=\"dataframe\">\n  <thead>\n    <tr style=\"text-align: right;\">\n      <th></th>\n      <th>alpha</th>\n      <th>max_iter</th>\n      <th>train_time</th>\n      <th>inference_time</th>\n      <th>k</th>\n      <th>R2_score</th>\n      <th>RMSE</th>\n      <th>D</th>\n      <th>N</th>\n      <th>n_test</th>\n      <th>n_train</th>\n    </tr>\n  </thead>\n  <tbody>\n    <tr>\n      <th>0</th>\n      <td>0.0001</td>\n      <td>1000</td>\n      <td>0.257006</td>\n      <td>0.000114</td>\n      <td>1</td>\n      <td>0.228596</td>\n      <td>0.790520</td>\n      <td>3</td>\n      <td>9998</td>\n      <td>3000</td>\n      <td>6998</td>\n    </tr>\n    <tr>\n      <th>1</th>\n      <td>0.0001</td>\n      <td>1000</td>\n      <td>0.205121</td>\n      <td>0.000104</td>\n      <td>2</td>\n      <td>0.223216</td>\n      <td>0.797324</td>\n      <td>3</td>\n      <td>9998</td>\n      <td>3000</td>\n      <td>6998</td>\n    </tr>\n    <tr>\n      <th>2</th>\n      <td>0.0001</td>\n      <td>1000</td>\n      <td>0.204670</td>\n      <td>0.000115</td>\n      <td>3</td>\n      <td>0.209049</td>\n      <td>0.808815</td>\n      <td>3</td>\n      <td>9998</td>\n      <td>3000</td>\n      <td>6998</td>\n    </tr>\n    <tr>\n      <th>3</th>\n      <td>0.0001</td>\n      <td>1000</td>\n      <td>0.210325</td>\n      <td>0.000104</td>\n      <td>4</td>\n      <td>0.232336</td>\n      <td>0.793000</td>\n      <td>3</td>\n      <td>9998</td>\n      <td>3000</td>\n      <td>6998</td>\n    </tr>\n    <tr>\n      <th>4</th>\n      <td>0.0001</td>\n      <td>1000</td>\n      <td>0.200077</td>\n      <td>0.000123</td>\n      <td>5</td>\n      <td>0.224240</td>\n      <td>0.782056</td>\n      <td>3</td>\n      <td>9998</td>\n      <td>3000</td>\n      <td>6998</td>\n    </tr>\n    <tr>\n      <th>5</th>\n      <td>0.0001</td>\n      <td>1000</td>\n      <td>0.199375</td>\n      <td>0.000103</td>\n      <td>6</td>\n      <td>0.217912</td>\n      <td>0.804365</td>\n      <td>3</td>\n      <td>9998</td>\n      <td>3000</td>\n      <td>6998</td>\n    </tr>\n    <tr>\n      <th>6</th>\n      <td>0.0001</td>\n      <td>1000</td>\n      <td>0.194887</td>\n      <td>0.000113</td>\n      <td>7</td>\n      <td>0.218378</td>\n      <td>0.811069</td>\n      <td>3</td>\n      <td>9998</td>\n      <td>3000</td>\n      <td>6998</td>\n    </tr>\n  </tbody>\n</table>\n</div>"
     },
     "metadata": {}
    }
   ],
   "source": [
    "MODEL = LinearRegression\n",
    "params = {\"alpha\" : [0.0001], \"max_iter\": [1000]}\n",
    "\n",
    "\n",
    "modeltrainer = ModelTrainer(MODEL, params, X, Y, thread_cnt=1)\n",
    "########### train with TrainTestSplit  ###################\n",
    "modeltrainer.TTSplit(test_size = test_size)\n",
    "modeltrainer.train()\n",
    "results = modeltrainer.retResults(PATH + \"my_TTS_SGD.csv\")\n",
    "display(results)\n",
    "############ shuffle_Cross validation  ###################\n",
    "modeltrainer.CV_shuffle_split(k = n_splits, test_size = test_size, random_state = 42)\n",
    "results = modeltrainer.retResults(PATH + \"my_CV_SGD.csv\")\n",
    "display(results)"
   ]
  },
  {
   "source": [
    "## KNN-Regression"
   ],
   "cell_type": "markdown",
   "metadata": {}
  },
  {
   "cell_type": "code",
   "execution_count": 8,
   "metadata": {},
   "outputs": [
    {
     "output_type": "display_data",
     "data": {
      "text/plain": "   weights  train_time  inference_time  R2_score      RMSE  D     N  n_test  \\\n0  uniform    0.107617        0.298849  0.610908  0.398735  3  9998    3000   \n\n   n_train  \n0     6998  ",
      "text/html": "<div>\n<style scoped>\n    .dataframe tbody tr th:only-of-type {\n        vertical-align: middle;\n    }\n\n    .dataframe tbody tr th {\n        vertical-align: top;\n    }\n\n    .dataframe thead th {\n        text-align: right;\n    }\n</style>\n<table border=\"1\" class=\"dataframe\">\n  <thead>\n    <tr style=\"text-align: right;\">\n      <th></th>\n      <th>weights</th>\n      <th>train_time</th>\n      <th>inference_time</th>\n      <th>R2_score</th>\n      <th>RMSE</th>\n      <th>D</th>\n      <th>N</th>\n      <th>n_test</th>\n      <th>n_train</th>\n    </tr>\n  </thead>\n  <tbody>\n    <tr>\n      <th>0</th>\n      <td>uniform</td>\n      <td>0.107617</td>\n      <td>0.298849</td>\n      <td>0.610908</td>\n      <td>0.398735</td>\n      <td>3</td>\n      <td>9998</td>\n      <td>3000</td>\n      <td>6998</td>\n    </tr>\n  </tbody>\n</table>\n</div>"
     },
     "metadata": {}
    },
    {
     "output_type": "display_data",
     "data": {
      "text/plain": "   weights  train_time  inference_time  k  R2_score      RMSE  D     N  \\\n0  uniform    0.105067        0.293494  1  0.610908  0.398735  3  9998   \n1  uniform    0.091586        0.293724  2  0.608402  0.401953  3  9998   \n2  uniform    0.093280        0.298966  3  0.600789  0.408227  3  9998   \n3  uniform    0.098515        0.294636  4  0.622333  0.390132  3  9998   \n4  uniform    0.090529        0.296565  5  0.616649  0.386462  3  9998   \n5  uniform    0.089042        0.289341  6  0.585727  0.426073  3  9998   \n6  uniform    0.091970        0.297257  7  0.629310  0.384656  3  9998   \n\n   n_test  n_train  \n0    3000     6998  \n1    3000     6998  \n2    3000     6998  \n3    3000     6998  \n4    3000     6998  \n5    3000     6998  \n6    3000     6998  ",
      "text/html": "<div>\n<style scoped>\n    .dataframe tbody tr th:only-of-type {\n        vertical-align: middle;\n    }\n\n    .dataframe tbody tr th {\n        vertical-align: top;\n    }\n\n    .dataframe thead th {\n        text-align: right;\n    }\n</style>\n<table border=\"1\" class=\"dataframe\">\n  <thead>\n    <tr style=\"text-align: right;\">\n      <th></th>\n      <th>weights</th>\n      <th>train_time</th>\n      <th>inference_time</th>\n      <th>k</th>\n      <th>R2_score</th>\n      <th>RMSE</th>\n      <th>D</th>\n      <th>N</th>\n      <th>n_test</th>\n      <th>n_train</th>\n    </tr>\n  </thead>\n  <tbody>\n    <tr>\n      <th>0</th>\n      <td>uniform</td>\n      <td>0.105067</td>\n      <td>0.293494</td>\n      <td>1</td>\n      <td>0.610908</td>\n      <td>0.398735</td>\n      <td>3</td>\n      <td>9998</td>\n      <td>3000</td>\n      <td>6998</td>\n    </tr>\n    <tr>\n      <th>1</th>\n      <td>uniform</td>\n      <td>0.091586</td>\n      <td>0.293724</td>\n      <td>2</td>\n      <td>0.608402</td>\n      <td>0.401953</td>\n      <td>3</td>\n      <td>9998</td>\n      <td>3000</td>\n      <td>6998</td>\n    </tr>\n    <tr>\n      <th>2</th>\n      <td>uniform</td>\n      <td>0.093280</td>\n      <td>0.298966</td>\n      <td>3</td>\n      <td>0.600789</td>\n      <td>0.408227</td>\n      <td>3</td>\n      <td>9998</td>\n      <td>3000</td>\n      <td>6998</td>\n    </tr>\n    <tr>\n      <th>3</th>\n      <td>uniform</td>\n      <td>0.098515</td>\n      <td>0.294636</td>\n      <td>4</td>\n      <td>0.622333</td>\n      <td>0.390132</td>\n      <td>3</td>\n      <td>9998</td>\n      <td>3000</td>\n      <td>6998</td>\n    </tr>\n    <tr>\n      <th>4</th>\n      <td>uniform</td>\n      <td>0.090529</td>\n      <td>0.296565</td>\n      <td>5</td>\n      <td>0.616649</td>\n      <td>0.386462</td>\n      <td>3</td>\n      <td>9998</td>\n      <td>3000</td>\n      <td>6998</td>\n    </tr>\n    <tr>\n      <th>5</th>\n      <td>uniform</td>\n      <td>0.089042</td>\n      <td>0.289341</td>\n      <td>6</td>\n      <td>0.585727</td>\n      <td>0.426073</td>\n      <td>3</td>\n      <td>9998</td>\n      <td>3000</td>\n      <td>6998</td>\n    </tr>\n    <tr>\n      <th>6</th>\n      <td>uniform</td>\n      <td>0.091970</td>\n      <td>0.297257</td>\n      <td>7</td>\n      <td>0.629310</td>\n      <td>0.384656</td>\n      <td>3</td>\n      <td>9998</td>\n      <td>3000</td>\n      <td>6998</td>\n    </tr>\n  </tbody>\n</table>\n</div>"
     },
     "metadata": {}
    }
   ],
   "source": [
    "MODEL = KNeighborsRegressor\n",
    "params = {\"weights\" : [\"uniform\"]}\n",
    "NAME = \"KNN\"\n",
    "PATH = \"out/\"+NAME+\"/\"\n",
    "\n",
    "\n",
    "modeltrainer = ModelTrainer(MODEL, params, X, Y, thread_cnt=1)\n",
    "########### train with TrainTestSplit  ###################\n",
    "modeltrainer.TTSplit(test_size = test_size)\n",
    "modeltrainer.train()\n",
    "results = modeltrainer.retResults(PATH + \"sklearn_TTS_KNN.csv\")\n",
    "display(results)\n",
    "############ shuffle_Cross validation  ###################\n",
    "modeltrainer.CV_shuffle_split(k = n_splits, test_size = test_size, random_state = 42)\n",
    "results = modeltrainer.retResults(PATH + \"sklearn_CV_KNN.csv\")\n",
    "display(results)"
   ]
  },
  {
   "source": [
    "## my KNN-Regression"
   ],
   "cell_type": "markdown",
   "metadata": {}
  },
  {
   "cell_type": "code",
   "execution_count": 9,
   "metadata": {},
   "outputs": [
    {
     "output_type": "stream",
     "name": "stdout",
     "text": [
      "chunking...\n"
     ]
    },
    {
     "output_type": "display_data",
     "data": {
      "text/plain": "   n_neighbors  p  train_time  inference_time  R2_score      RMSE  D     N  \\\n0            5  2    0.000011        2.369871  0.610908  0.398735  3  9998   \n\n   n_test  n_train  \n0    3000     6998  ",
      "text/html": "<div>\n<style scoped>\n    .dataframe tbody tr th:only-of-type {\n        vertical-align: middle;\n    }\n\n    .dataframe tbody tr th {\n        vertical-align: top;\n    }\n\n    .dataframe thead th {\n        text-align: right;\n    }\n</style>\n<table border=\"1\" class=\"dataframe\">\n  <thead>\n    <tr style=\"text-align: right;\">\n      <th></th>\n      <th>n_neighbors</th>\n      <th>p</th>\n      <th>train_time</th>\n      <th>inference_time</th>\n      <th>R2_score</th>\n      <th>RMSE</th>\n      <th>D</th>\n      <th>N</th>\n      <th>n_test</th>\n      <th>n_train</th>\n    </tr>\n  </thead>\n  <tbody>\n    <tr>\n      <th>0</th>\n      <td>5</td>\n      <td>2</td>\n      <td>0.000011</td>\n      <td>2.369871</td>\n      <td>0.610908</td>\n      <td>0.398735</td>\n      <td>3</td>\n      <td>9998</td>\n      <td>3000</td>\n      <td>6998</td>\n    </tr>\n  </tbody>\n</table>\n</div>"
     },
     "metadata": {}
    },
    {
     "output_type": "stream",
     "name": "stdout",
     "text": [
      "chunking...\n",
      "chunking...\n",
      "chunking...\n",
      "chunking...\n",
      "chunking...\n",
      "chunking...\n",
      "chunking...\n"
     ]
    },
    {
     "output_type": "display_data",
     "data": {
      "text/plain": "   n_neighbors  p  train_time  inference_time  k  R2_score      RMSE  D     N  \\\n0            5  2    0.000007        2.385087  1  0.610908  0.398735  3  9998   \n1            5  2    0.000007        2.380238  2  0.608402  0.401953  3  9998   \n2            5  2    0.000007        2.369374  3  0.600789  0.408227  3  9998   \n3            5  2    0.000006        2.376965  4  0.622333  0.390132  3  9998   \n4            5  2    0.000007        2.410426  5  0.616678  0.386433  3  9998   \n5            5  2    0.000010        2.369179  6  0.585727  0.426073  3  9998   \n6            5  2    0.000006        2.364995  7  0.629310  0.384656  3  9998   \n\n   n_test  n_train  \n0    3000     6998  \n1    3000     6998  \n2    3000     6998  \n3    3000     6998  \n4    3000     6998  \n5    3000     6998  \n6    3000     6998  ",
      "text/html": "<div>\n<style scoped>\n    .dataframe tbody tr th:only-of-type {\n        vertical-align: middle;\n    }\n\n    .dataframe tbody tr th {\n        vertical-align: top;\n    }\n\n    .dataframe thead th {\n        text-align: right;\n    }\n</style>\n<table border=\"1\" class=\"dataframe\">\n  <thead>\n    <tr style=\"text-align: right;\">\n      <th></th>\n      <th>n_neighbors</th>\n      <th>p</th>\n      <th>train_time</th>\n      <th>inference_time</th>\n      <th>k</th>\n      <th>R2_score</th>\n      <th>RMSE</th>\n      <th>D</th>\n      <th>N</th>\n      <th>n_test</th>\n      <th>n_train</th>\n    </tr>\n  </thead>\n  <tbody>\n    <tr>\n      <th>0</th>\n      <td>5</td>\n      <td>2</td>\n      <td>0.000007</td>\n      <td>2.385087</td>\n      <td>1</td>\n      <td>0.610908</td>\n      <td>0.398735</td>\n      <td>3</td>\n      <td>9998</td>\n      <td>3000</td>\n      <td>6998</td>\n    </tr>\n    <tr>\n      <th>1</th>\n      <td>5</td>\n      <td>2</td>\n      <td>0.000007</td>\n      <td>2.380238</td>\n      <td>2</td>\n      <td>0.608402</td>\n      <td>0.401953</td>\n      <td>3</td>\n      <td>9998</td>\n      <td>3000</td>\n      <td>6998</td>\n    </tr>\n    <tr>\n      <th>2</th>\n      <td>5</td>\n      <td>2</td>\n      <td>0.000007</td>\n      <td>2.369374</td>\n      <td>3</td>\n      <td>0.600789</td>\n      <td>0.408227</td>\n      <td>3</td>\n      <td>9998</td>\n      <td>3000</td>\n      <td>6998</td>\n    </tr>\n    <tr>\n      <th>3</th>\n      <td>5</td>\n      <td>2</td>\n      <td>0.000006</td>\n      <td>2.376965</td>\n      <td>4</td>\n      <td>0.622333</td>\n      <td>0.390132</td>\n      <td>3</td>\n      <td>9998</td>\n      <td>3000</td>\n      <td>6998</td>\n    </tr>\n    <tr>\n      <th>4</th>\n      <td>5</td>\n      <td>2</td>\n      <td>0.000007</td>\n      <td>2.410426</td>\n      <td>5</td>\n      <td>0.616678</td>\n      <td>0.386433</td>\n      <td>3</td>\n      <td>9998</td>\n      <td>3000</td>\n      <td>6998</td>\n    </tr>\n    <tr>\n      <th>5</th>\n      <td>5</td>\n      <td>2</td>\n      <td>0.000010</td>\n      <td>2.369179</td>\n      <td>6</td>\n      <td>0.585727</td>\n      <td>0.426073</td>\n      <td>3</td>\n      <td>9998</td>\n      <td>3000</td>\n      <td>6998</td>\n    </tr>\n    <tr>\n      <th>6</th>\n      <td>5</td>\n      <td>2</td>\n      <td>0.000006</td>\n      <td>2.364995</td>\n      <td>7</td>\n      <td>0.629310</td>\n      <td>0.384656</td>\n      <td>3</td>\n      <td>9998</td>\n      <td>3000</td>\n      <td>6998</td>\n    </tr>\n  </tbody>\n</table>\n</div>"
     },
     "metadata": {}
    }
   ],
   "source": [
    "MODEL = KNNRegressor\n",
    "params = {\"n_neighbors\" : [5],\n",
    "           \"p\": [2]}#,\n",
    "           #'weights': ['uniform']}\n",
    "NAME = \"KNN\"\n",
    "PATH = \"out/\"+NAME+\"/\"\n",
    "\n",
    "\n",
    "modeltrainer = ModelTrainer(MODEL, params, X, Y, thread_cnt=1)\n",
    "########### train with TrainTestSplit  ###################\n",
    "modeltrainer.TTSplit(test_size = test_size)\n",
    "modeltrainer.train()\n",
    "results = modeltrainer.retResults(PATH + \"my_TTS_KNN.csv\")\n",
    "display(results)\n",
    "############ shuffle_Cross validation  ###################\n",
    "modeltrainer.CV_shuffle_split(k = n_splits, test_size = test_size, random_state = 42)\n",
    "results = modeltrainer.retResults(PATH + \"my_CV_KNN.csv\")\n",
    "display(results)"
   ]
  },
  {
   "source": [
    "## RF-Regression"
   ],
   "cell_type": "markdown",
   "metadata": {}
  },
  {
   "cell_type": "code",
   "execution_count": 10,
   "metadata": {},
   "outputs": [
    {
     "output_type": "display_data",
     "data": {
      "text/plain": "   n_estimators  train_time  inference_time  R2_score      RMSE  D     N  \\\n0           100     3.22781        0.079263  0.811926  0.192735  3  9998   \n\n   n_test  n_train  \n0    3000     6998  ",
      "text/html": "<div>\n<style scoped>\n    .dataframe tbody tr th:only-of-type {\n        vertical-align: middle;\n    }\n\n    .dataframe tbody tr th {\n        vertical-align: top;\n    }\n\n    .dataframe thead th {\n        text-align: right;\n    }\n</style>\n<table border=\"1\" class=\"dataframe\">\n  <thead>\n    <tr style=\"text-align: right;\">\n      <th></th>\n      <th>n_estimators</th>\n      <th>train_time</th>\n      <th>inference_time</th>\n      <th>R2_score</th>\n      <th>RMSE</th>\n      <th>D</th>\n      <th>N</th>\n      <th>n_test</th>\n      <th>n_train</th>\n    </tr>\n  </thead>\n  <tbody>\n    <tr>\n      <th>0</th>\n      <td>100</td>\n      <td>3.22781</td>\n      <td>0.079263</td>\n      <td>0.811926</td>\n      <td>0.192735</td>\n      <td>3</td>\n      <td>9998</td>\n      <td>3000</td>\n      <td>6998</td>\n    </tr>\n  </tbody>\n</table>\n</div>"
     },
     "metadata": {}
    },
    {
     "output_type": "display_data",
     "data": {
      "text/plain": "   n_estimators  train_time  inference_time  k  R2_score      RMSE  D     N  \\\n0           100    3.226903        0.080765  1  0.810332  0.194368  3  9998   \n1           100    3.160897        0.080057  2  0.811498  0.193487  3  9998   \n2           100    3.265276        0.102579  3  0.785349  0.219500  3  9998   \n3           100    3.505711        0.090657  4  0.825893  0.179853  3  9998   \n4           100    3.316311        0.096711  5  0.813946  0.187564  3  9998   \n5           100    3.256614        0.082972  6  0.806605  0.198903  3  9998   \n6           100    3.371263        0.090773  7  0.833145  0.173141  3  9998   \n\n   n_test  n_train  \n0    3000     6998  \n1    3000     6998  \n2    3000     6998  \n3    3000     6998  \n4    3000     6998  \n5    3000     6998  \n6    3000     6998  ",
      "text/html": "<div>\n<style scoped>\n    .dataframe tbody tr th:only-of-type {\n        vertical-align: middle;\n    }\n\n    .dataframe tbody tr th {\n        vertical-align: top;\n    }\n\n    .dataframe thead th {\n        text-align: right;\n    }\n</style>\n<table border=\"1\" class=\"dataframe\">\n  <thead>\n    <tr style=\"text-align: right;\">\n      <th></th>\n      <th>n_estimators</th>\n      <th>train_time</th>\n      <th>inference_time</th>\n      <th>k</th>\n      <th>R2_score</th>\n      <th>RMSE</th>\n      <th>D</th>\n      <th>N</th>\n      <th>n_test</th>\n      <th>n_train</th>\n    </tr>\n  </thead>\n  <tbody>\n    <tr>\n      <th>0</th>\n      <td>100</td>\n      <td>3.226903</td>\n      <td>0.080765</td>\n      <td>1</td>\n      <td>0.810332</td>\n      <td>0.194368</td>\n      <td>3</td>\n      <td>9998</td>\n      <td>3000</td>\n      <td>6998</td>\n    </tr>\n    <tr>\n      <th>1</th>\n      <td>100</td>\n      <td>3.160897</td>\n      <td>0.080057</td>\n      <td>2</td>\n      <td>0.811498</td>\n      <td>0.193487</td>\n      <td>3</td>\n      <td>9998</td>\n      <td>3000</td>\n      <td>6998</td>\n    </tr>\n    <tr>\n      <th>2</th>\n      <td>100</td>\n      <td>3.265276</td>\n      <td>0.102579</td>\n      <td>3</td>\n      <td>0.785349</td>\n      <td>0.219500</td>\n      <td>3</td>\n      <td>9998</td>\n      <td>3000</td>\n      <td>6998</td>\n    </tr>\n    <tr>\n      <th>3</th>\n      <td>100</td>\n      <td>3.505711</td>\n      <td>0.090657</td>\n      <td>4</td>\n      <td>0.825893</td>\n      <td>0.179853</td>\n      <td>3</td>\n      <td>9998</td>\n      <td>3000</td>\n      <td>6998</td>\n    </tr>\n    <tr>\n      <th>4</th>\n      <td>100</td>\n      <td>3.316311</td>\n      <td>0.096711</td>\n      <td>5</td>\n      <td>0.813946</td>\n      <td>0.187564</td>\n      <td>3</td>\n      <td>9998</td>\n      <td>3000</td>\n      <td>6998</td>\n    </tr>\n    <tr>\n      <th>5</th>\n      <td>100</td>\n      <td>3.256614</td>\n      <td>0.082972</td>\n      <td>6</td>\n      <td>0.806605</td>\n      <td>0.198903</td>\n      <td>3</td>\n      <td>9998</td>\n      <td>3000</td>\n      <td>6998</td>\n    </tr>\n    <tr>\n      <th>6</th>\n      <td>100</td>\n      <td>3.371263</td>\n      <td>0.090773</td>\n      <td>7</td>\n      <td>0.833145</td>\n      <td>0.173141</td>\n      <td>3</td>\n      <td>9998</td>\n      <td>3000</td>\n      <td>6998</td>\n    </tr>\n  </tbody>\n</table>\n</div>"
     },
     "metadata": {}
    }
   ],
   "source": [
    "MODEL = RandomForestRegressor\n",
    "params = {\"n_estimators\" : [100]}\n",
    "NAME = \"RF\"\n",
    "PATH = \"out/\"+NAME+\"/\"\n",
    "\n",
    "\n",
    "\n",
    "modeltrainer = ModelTrainer(MODEL, params, X, Y, thread_cnt=1)\n",
    "########### train with TrainTestSplit  ###################\n",
    "modeltrainer.TTSplit(test_size = test_size)\n",
    "modeltrainer.train()\n",
    "results = modeltrainer.retResults(PATH + \"sklearn_TTS_RF.csv\")\n",
    "display(results)\n",
    "############ shuffle_Cross validation  ###################\n",
    "modeltrainer.CV_shuffle_split(k = n_splits, test_size = test_size, random_state = 42)\n",
    "results = modeltrainer.retResults(PATH + \"sklearn_CV_RF.csv\")\n",
    "display(results)"
   ]
  },
  {
   "source": [
    "## DT-Regression"
   ],
   "cell_type": "markdown",
   "metadata": {}
  },
  {
   "cell_type": "code",
   "execution_count": 11,
   "metadata": {},
   "outputs": [
    {
     "output_type": "display_data",
     "data": {
      "text/plain": "  criterion  train_time  inference_time  R2_score     RMSE  D     N  n_test  \\\n0       mse    0.067321        0.001415  0.665031  0.34327  3  9998    3000   \n\n   n_train  \n0     6998  ",
      "text/html": "<div>\n<style scoped>\n    .dataframe tbody tr th:only-of-type {\n        vertical-align: middle;\n    }\n\n    .dataframe tbody tr th {\n        vertical-align: top;\n    }\n\n    .dataframe thead th {\n        text-align: right;\n    }\n</style>\n<table border=\"1\" class=\"dataframe\">\n  <thead>\n    <tr style=\"text-align: right;\">\n      <th></th>\n      <th>criterion</th>\n      <th>train_time</th>\n      <th>inference_time</th>\n      <th>R2_score</th>\n      <th>RMSE</th>\n      <th>D</th>\n      <th>N</th>\n      <th>n_test</th>\n      <th>n_train</th>\n    </tr>\n  </thead>\n  <tbody>\n    <tr>\n      <th>0</th>\n      <td>mse</td>\n      <td>0.067321</td>\n      <td>0.001415</td>\n      <td>0.665031</td>\n      <td>0.34327</td>\n      <td>3</td>\n      <td>9998</td>\n      <td>3000</td>\n      <td>6998</td>\n    </tr>\n  </tbody>\n</table>\n</div>"
     },
     "metadata": {}
    },
    {
     "output_type": "display_data",
     "data": {
      "text/plain": "  criterion  train_time  inference_time  k  R2_score      RMSE  D     N  \\\n0       mse    0.061836        0.001225  1  0.672858  0.335249  3  9998   \n1       mse    0.057998        0.001457  2  0.665373  0.343475  3  9998   \n2       mse    0.058254        0.001375  3  0.640348  0.367775  3  9998   \n3       mse    0.051903        0.001043  4  0.684668  0.325740  3  9998   \n4       mse    0.050547        0.001130  5  0.647728  0.355131  3  9998   \n5       mse    0.049521        0.001175  6  0.676761  0.332446  3  9998   \n6       mse    0.049736        0.001262  7  0.682996  0.328947  3  9998   \n\n   n_test  n_train  \n0    3000     6998  \n1    3000     6998  \n2    3000     6998  \n3    3000     6998  \n4    3000     6998  \n5    3000     6998  \n6    3000     6998  ",
      "text/html": "<div>\n<style scoped>\n    .dataframe tbody tr th:only-of-type {\n        vertical-align: middle;\n    }\n\n    .dataframe tbody tr th {\n        vertical-align: top;\n    }\n\n    .dataframe thead th {\n        text-align: right;\n    }\n</style>\n<table border=\"1\" class=\"dataframe\">\n  <thead>\n    <tr style=\"text-align: right;\">\n      <th></th>\n      <th>criterion</th>\n      <th>train_time</th>\n      <th>inference_time</th>\n      <th>k</th>\n      <th>R2_score</th>\n      <th>RMSE</th>\n      <th>D</th>\n      <th>N</th>\n      <th>n_test</th>\n      <th>n_train</th>\n    </tr>\n  </thead>\n  <tbody>\n    <tr>\n      <th>0</th>\n      <td>mse</td>\n      <td>0.061836</td>\n      <td>0.001225</td>\n      <td>1</td>\n      <td>0.672858</td>\n      <td>0.335249</td>\n      <td>3</td>\n      <td>9998</td>\n      <td>3000</td>\n      <td>6998</td>\n    </tr>\n    <tr>\n      <th>1</th>\n      <td>mse</td>\n      <td>0.057998</td>\n      <td>0.001457</td>\n      <td>2</td>\n      <td>0.665373</td>\n      <td>0.343475</td>\n      <td>3</td>\n      <td>9998</td>\n      <td>3000</td>\n      <td>6998</td>\n    </tr>\n    <tr>\n      <th>2</th>\n      <td>mse</td>\n      <td>0.058254</td>\n      <td>0.001375</td>\n      <td>3</td>\n      <td>0.640348</td>\n      <td>0.367775</td>\n      <td>3</td>\n      <td>9998</td>\n      <td>3000</td>\n      <td>6998</td>\n    </tr>\n    <tr>\n      <th>3</th>\n      <td>mse</td>\n      <td>0.051903</td>\n      <td>0.001043</td>\n      <td>4</td>\n      <td>0.684668</td>\n      <td>0.325740</td>\n      <td>3</td>\n      <td>9998</td>\n      <td>3000</td>\n      <td>6998</td>\n    </tr>\n    <tr>\n      <th>4</th>\n      <td>mse</td>\n      <td>0.050547</td>\n      <td>0.001130</td>\n      <td>5</td>\n      <td>0.647728</td>\n      <td>0.355131</td>\n      <td>3</td>\n      <td>9998</td>\n      <td>3000</td>\n      <td>6998</td>\n    </tr>\n    <tr>\n      <th>5</th>\n      <td>mse</td>\n      <td>0.049521</td>\n      <td>0.001175</td>\n      <td>6</td>\n      <td>0.676761</td>\n      <td>0.332446</td>\n      <td>3</td>\n      <td>9998</td>\n      <td>3000</td>\n      <td>6998</td>\n    </tr>\n    <tr>\n      <th>6</th>\n      <td>mse</td>\n      <td>0.049736</td>\n      <td>0.001262</td>\n      <td>7</td>\n      <td>0.682996</td>\n      <td>0.328947</td>\n      <td>3</td>\n      <td>9998</td>\n      <td>3000</td>\n      <td>6998</td>\n    </tr>\n  </tbody>\n</table>\n</div>"
     },
     "metadata": {}
    }
   ],
   "source": [
    "MODEL = DecisionTreeRegressor\n",
    "params = {\"criterion\": [\"mse\"]}\n",
    "NAME = \"DT\"\n",
    "PATH = \"out/\"+NAME+\"/\"\n",
    "\n",
    "\n",
    "\n",
    "modeltrainer = ModelTrainer(MODEL, params, X, Y, thread_cnt=1)\n",
    "########### train with TrainTestSplit  ###################\n",
    "modeltrainer.TTSplit(test_size = test_size)\n",
    "modeltrainer.train()\n",
    "results = modeltrainer.retResults(PATH + \"sklearn_TTS_DT.csv\")\n",
    "display(results)\n",
    "############ shuffle_Cross validation  ###################\n",
    "modeltrainer.CV_shuffle_split(k = n_splits, test_size = test_size, random_state = 42)\n",
    "results = modeltrainer.retResults(PATH + \"sklearn_CV_DT.csv\")\n",
    "display(results)"
   ]
  },
  {
   "cell_type": "code",
   "execution_count": null,
   "metadata": {},
   "outputs": [],
   "source": []
  },
  {
   "cell_type": "code",
   "execution_count": null,
   "metadata": {},
   "outputs": [],
   "source": []
  },
  {
   "cell_type": "code",
   "execution_count": null,
   "metadata": {},
   "outputs": [],
   "source": []
  }
 ]
}