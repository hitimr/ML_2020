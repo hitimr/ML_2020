{
 "metadata": {
  "language_info": {
   "codemirror_mode": {
    "name": "ipython",
    "version": 3
   },
   "file_extension": ".py",
   "mimetype": "text/x-python",
   "name": "python",
   "nbconvert_exporter": "python",
   "pygments_lexer": "ipython3",
   "version": "3.8.6-final"
  },
  "orig_nbformat": 2,
  "kernelspec": {
   "name": "python3",
   "display_name": "Python 3.8.6 64-bit ('ML_2020-8PJoZtYC': venv)",
   "metadata": {
    "interpreter": {
     "hash": "d6f8d2b41179c5e5fc034bbc40427a4395636c4d26988e51920bd3cc303b8725"
    }
   }
  }
 },
 "nbformat": 4,
 "nbformat_minor": 2,
 "cells": [
  {
   "cell_type": "code",
   "execution_count": null,
   "metadata": {},
   "outputs": [],
   "source": [
    "# std\n",
    "import os\n",
    "import sys\n",
    "import inspect\n",
    "import time\n",
    "import pathlib\n",
    "from math import sqrt\n",
    "from math import log2\n",
    "# packgaes\n",
    "import pandas as pd\n",
    "import seaborn as sns\n",
    "import matplotlib.pyplot as plt\n",
    "import matplotlib as mpl\n",
    "import numpy as np\n",
    "%matplotlib inline\n",
    "\n",
    "# packages\n",
    "from matplotlib.colors import ListedColormap\n",
    "\n",
    "## sklearn\n",
    "from sklearn.preprocessing import StandardScaler,PowerTransformer,MinMaxScaler,QuantileTransformer,normalize\n",
    "from sklearn.model_selection import train_test_split, learning_curve, ShuffleSplit\n",
    "from sklearn.feature_selection import VarianceThreshold, SelectKBest\n",
    "from sklearn.model_selection import KFold\n",
    "from sklearn.decomposition import PCA\n",
    "from sklearn.feature_selection import chi2\n",
    "\n",
    "from sklearn.metrics import r2_score\n",
    "from sklearn.metrics import mean_poisson_deviance\n",
    "from sklearn.metrics import mean_gamma_deviance\n",
    "from sklearn.metrics import median_absolute_error\n",
    "\n",
    "from sklearn.neighbors import KNeighborsRegressor\n",
    "from sklearn.linear_model import SGDRegressor\n",
    "from sklearn.ensemble import RandomForestRegressor\n",
    "from sklearn.tree import DecisionTreeRegressor\n",
    "\n",
    "\n",
    "# for selection the right path\n",
    "currentdir = os.path.dirname(os.path.abspath(inspect.getfile(inspect.currentframe())))\n",
    "parentdir = os.path.dirname(currentdir)\n",
    "sys.path.insert(0,parentdir)\n",
    "\n",
    "from common.DataParser import parse_metro\n",
    "from common.model_trainer_reg import *\n",
    "from common.regression_plotfunctions import *\n",
    "\n",
    "\n",
    "from GD.LinearRegression import LinearRegression\n",
    "from KNN.KNNRegressor import KNNRegressor\n",
    "\n",
    "import metro_preprocessing\n"
   ]
  },
  {
   "source": [
    "# Train and Test"
   ],
   "cell_type": "markdown",
   "metadata": {}
  },
  {
   "cell_type": "code",
   "execution_count": null,
   "metadata": {},
   "outputs": [],
   "source": [
    "df_raw = parse_metro()\n",
    "#df_raw = df_raw.sample(30000)\n",
    "X, Y = metro_preprocessing.preprocessing(df_raw, transform = True)"
   ]
  },
  {
   "cell_type": "code",
   "execution_count": null,
   "metadata": {},
   "outputs": [],
   "source": [
    "df_raw"
   ]
  },
  {
   "cell_type": "code",
   "execution_count": null,
   "metadata": {},
   "outputs": [],
   "source": [
    "del df_raw\n",
    "# We don't need it anymore :)\n",
    "try:\n",
    "    df_raw\n",
    "except Exception as e:\n",
    "    print(e)"
   ]
  },
  {
   "source": [
    "## SGD-Regression"
   ],
   "cell_type": "markdown",
   "metadata": {}
  },
  {
   "cell_type": "code",
   "execution_count": null,
   "metadata": {},
   "outputs": [],
   "source": [
    "MODEL = SGDRegressor\n",
    "NAME = \"SGD\"\n",
    "PATH = \"out/\"+NAME+\"/\"\n",
    "params = {\"alpha\" : [0.1,0.01,0.001,0.0001],\n",
    "          \"max_iter\" : [1000, 10000, 100000]}\n",
    "n_splits = 2\n",
    "test_size = 0.3\n",
    "\n",
    "modeltrainer = ModelTrainer(MODEL, params, X, Y, thread_cnt=1)\n",
    "########### train with TrainTestSplit  ###################\n",
    "modeltrainer.TTSplit(test_size = test_size)\n",
    "modeltrainer.train()\n",
    "results = modeltrainer.retResults(PATH + \"sklearn_TTS_SGD.csv\")\n",
    "display(results)\n",
    "############ shuffle_Cross validation  ###################\n",
    "modeltrainer.CV_shuffle_split(k = n_splits, test_size = test_size, random_state = 42)\n",
    "results = modeltrainer.retResults(PATH + \"sklearn_CV_SGD.csv\")\n",
    "display(results)"
   ]
  },
  {
   "source": [
    "## My SGD-Regression"
   ],
   "cell_type": "markdown",
   "metadata": {}
  },
  {
   "cell_type": "code",
   "execution_count": null,
   "metadata": {},
   "outputs": [],
   "source": [
    "MODEL = LinearRegression\n",
    "params = {\"alpha\" : [0.0001], \"max_iter\": [1000]}\n",
    "\n",
    "\n",
    "modeltrainer = ModelTrainer(MODEL, params, X, Y, thread_cnt=1)\n",
    "########### train with TrainTestSplit  ###################\n",
    "modeltrainer.TTSplit(test_size = test_size)\n",
    "modeltrainer.train()\n",
    "results = modeltrainer.retResults(PATH + \"my_TTS_SGD.csv\")\n",
    "display(results)\n",
    "############ shuffle_Cross validation  ###################\n",
    "modeltrainer.CV_shuffle_split(k = n_splits, test_size = test_size, random_state = 42)\n",
    "results = modeltrainer.retResults(PATH + \"my_CV_SGD.csv\")\n",
    "display(results)"
   ]
  },
  {
   "source": [
    "## KNN-Regression"
   ],
   "cell_type": "markdown",
   "metadata": {}
  },
  {
   "cell_type": "code",
   "execution_count": null,
   "metadata": {},
   "outputs": [],
   "source": [
    "MODEL = KNeighborsRegressor\n",
    "params = {\"weights\" : [\"uniform\"]}\n",
    "NAME = \"KNN\"\n",
    "PATH = \"out/\"+NAME+\"/\"\n",
    "\n",
    "\n",
    "modeltrainer = ModelTrainer(MODEL, params, X, Y, thread_cnt=1)\n",
    "########### train with TrainTestSplit  ###################\n",
    "modeltrainer.TTSplit(test_size = test_size)\n",
    "modeltrainer.train()\n",
    "results = modeltrainer.retResults(PATH + \"sklearn_TTS_KNN.csv\")\n",
    "display(results)\n",
    "############ shuffle_Cross validation  ###################\n",
    "modeltrainer.CV_shuffle_split(k = n_splits, test_size = test_size, random_state = 42)\n",
    "results = modeltrainer.retResults(PATH + \"sklearn_CV_KNN.csv\")\n",
    "display(results)"
   ]
  },
  {
   "source": [
    "## my KNN-Regression"
   ],
   "cell_type": "markdown",
   "metadata": {}
  },
  {
   "cell_type": "code",
   "execution_count": null,
   "metadata": {},
   "outputs": [],
   "source": [
    "MODEL = KNNRegressor\n",
    "params = {\"n_neighbors\" : [5],\n",
    "           \"p\": [2],\n",
    "           \"chunk_size\": [20,100]}\n",
    "NAME = \"KNN\"\n",
    "PATH = \"out/\"+NAME+\"/\"\n",
    "\n",
    "\n",
    "modeltrainer = ModelTrainer(MODEL, params, X, Y, thread_cnt=1)\n",
    "########### train with TrainTestSplit  ###################\n",
    "modeltrainer.TTSplit(test_size = test_size)\n",
    "modeltrainer.train()\n",
    "results = modeltrainer.retResults(PATH + \"my_TTS_KNN.csv\")\n",
    "display(results)\n",
    "############ shuffle_Cross validation  ###################\n",
    "modeltrainer.CV_shuffle_split(k = n_splits, test_size = test_size, random_state = 42)\n",
    "results = modeltrainer.retResults(PATH + \"my_CV_KNN.csv\")\n",
    "display(results)"
   ]
  },
  {
   "source": [
    "## RF-Regression"
   ],
   "cell_type": "markdown",
   "metadata": {}
  },
  {
   "cell_type": "code",
   "execution_count": null,
   "metadata": {},
   "outputs": [],
   "source": [
    "MODEL = RandomForestRegressor\n",
    "params = {\"n_estimators\" : [100]}\n",
    "NAME = \"RF\"\n",
    "PATH = \"out/\"+NAME+\"/\"\n",
    "\n",
    "\n",
    "\n",
    "modeltrainer = ModelTrainer(MODEL, params, X, Y, thread_cnt=1)\n",
    "########### train with TrainTestSplit  ###################\n",
    "modeltrainer.TTSplit(test_size = test_size)\n",
    "modeltrainer.train()\n",
    "results = modeltrainer.retResults(PATH + \"sklearn_TTS_RF.csv\")\n",
    "display(results)\n",
    "############ shuffle_Cross validation  ###################\n",
    "modeltrainer.CV_shuffle_split(k = n_splits, test_size = test_size, random_state = 42)\n",
    "results = modeltrainer.retResults(PATH + \"sklearn_CV_RF.csv\")\n",
    "display(results)"
   ]
  },
  {
   "source": [
    "## DT-Regression"
   ],
   "cell_type": "markdown",
   "metadata": {}
  },
  {
   "cell_type": "code",
   "execution_count": null,
   "metadata": {},
   "outputs": [],
   "source": [
    "MODEL = DecisionTreeRegressor\n",
    "params = {\"criterion\": [\"mse\"]}\n",
    "NAME = \"DT\"\n",
    "PATH = \"out/\"+NAME+\"/\"\n",
    "\n",
    "\n",
    "\n",
    "modeltrainer = ModelTrainer(MODEL, params, X, Y, thread_cnt=1)\n",
    "########### train with TrainTestSplit  ###################\n",
    "modeltrainer.TTSplit(test_size = test_size)\n",
    "modeltrainer.train()\n",
    "results = modeltrainer.retResults(PATH + \"sklearn_TTS_DT.csv\")\n",
    "display(results)\n",
    "############ shuffle_Cross validation  ###################\n",
    "modeltrainer.CV_shuffle_split(k = n_splits, test_size = test_size, random_state = 42)\n",
    "results = modeltrainer.retResults(PATH + \"sklearn_CV_DT.csv\")\n",
    "display(results)"
   ]
  },
  {
   "cell_type": "code",
   "execution_count": null,
   "metadata": {},
   "outputs": [],
   "source": []
  },
  {
   "cell_type": "code",
   "execution_count": null,
   "metadata": {},
   "outputs": [],
   "source": []
  },
  {
   "cell_type": "code",
   "execution_count": null,
   "metadata": {},
   "outputs": [],
   "source": []
  }
 ]
}