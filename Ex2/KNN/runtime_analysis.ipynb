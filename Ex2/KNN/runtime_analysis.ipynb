{
 "metadata": {
  "language_info": {
   "codemirror_mode": {
    "name": "ipython",
    "version": 3
   },
   "file_extension": ".py",
   "mimetype": "text/x-python",
   "name": "python",
   "nbconvert_exporter": "python",
   "pygments_lexer": "ipython3",
   "version": "3.8.6-final"
  },
  "orig_nbformat": 2,
  "kernelspec": {
   "name": "python3",
   "display_name": "Python 3"
  }
 },
 "nbformat": 4,
 "nbformat_minor": 2,
 "cells": [
  {
   "source": [
    "# Performance analysis of KNN algorithm"
   ],
   "cell_type": "markdown",
   "metadata": {}
  },
  {
   "cell_type": "code",
   "execution_count": null,
   "metadata": {},
   "outputs": [],
   "source": [
    "# std\n",
    "import os\n",
    "import sys\n",
    "import inspect\n",
    "import time\n",
    "import pathlib\n",
    "import glob\n",
    "from math import sqrt\n",
    "from math import log2\n",
    "# packages\n",
    "import pandas as pd\n",
    "import seaborn as sns\n",
    "import matplotlib.pyplot as plt\n",
    "import matplotlib as mpl\n",
    "import numpy as np\n",
    "%matplotlib inline\n",
    "\n",
    "# packages\n",
    "from matplotlib.colors import ListedColormap\n",
    "\n",
    "# for selection the right path\n",
    "currentdir = os.path.dirname(os.path.abspath(inspect.getfile(inspect.currentframe())))\n",
    "parentdir = os.path.dirname(currentdir)\n",
    "sys.path.insert(0,parentdir)\n",
    "\n",
    "from common.regression_plotfunctions import *\n",
    "\n",
    "from KNNRegressor import KNNRegressor"
   ]
  },
  {
   "cell_type": "code",
   "execution_count": null,
   "metadata": {},
   "outputs": [],
   "source": [
    "dataset_dir_names = [\"Moneyball\", \"Metro\", \"Superconductivity\"]"
   ]
  },
  {
   "cell_type": "code",
   "execution_count": null,
   "metadata": {},
   "outputs": [],
   "source": [
    "cwd = pathlib.Path(os.getcwd())\n",
    "project_path = cwd.parent\n",
    "data_subdir = \"out/runtimes\"\n",
    "plot_dir = cwd / \"out\"\n",
    "\n",
    "\n",
    "Moneyball = project_path / \"Moneyball\"\n",
    "Metro = project_path / \"Metro\"\n",
    "Superconductivity = project_path / \"Superconductivity\"\n",
    "\n",
    "project = {\n",
    "    \"Moneyball\": {\"path\": Moneyball},\n",
    "    \"Metro\": {\"path\": Metro},\n",
    "    \"Superconductivity\": {\"path\": Superconductivity}\n",
    "}\n",
    "\n",
    "for key, val in project.items():\n",
    "    val[\"data_path\"] = val[\"path\"] / data_subdir\n",
    "project"
   ]
  },
  {
   "cell_type": "code",
   "execution_count": null,
   "metadata": {},
   "outputs": [],
   "source": [
    "for name in project:\n",
    "    if name not in [\"Superconductivity\", \"Metro\"]:\n",
    "        continue\n",
    "    data = pd.concat([pd.read_csv(file) for file in list(project[name][\"data_path\"].glob(\"*.csv\"))], keys=[\"sklearn\", \"myKNN\"], names=[\"implementation\", \"subindex\"])\n",
    "    data[\"total_time\"] = data[\"train_time\"] + data[\"inference_time\"]\n",
    "    project[name][\"data\"] = data\n",
    "    print(name)\n",
    "    display(data)"
   ]
  },
  {
   "cell_type": "code",
   "execution_count": null,
   "metadata": {},
   "outputs": [],
   "source": [
    "y = \"inference_time\"\n",
    "\n",
    "def plot_myknn(y=\"inference_time\"):\n",
    "    fig, ax = plt.subplots(figsize=(10,8))\n",
    "    N = results[\"N\"].to_numpy()\n",
    "    D = results[\"D\"].unique()\n",
    "\n",
    "    plt.plot(N, N*1e-4, ls=\"--\", color=\"red\",label=\"O(N)\");\n",
    "    plt.plot(N, 1e-6*np.power(N, 2), ls=\"--\", color=\"blue\",label=\"O(N^2)\");\n",
    "    plt.plot(N, np.log10(N)*1e-1, ls=\"--\", color=\"green\",label=\"O(log(N))\");\n",
    "    sns.lineplot(x=\"N\", y=y, hue=\"chunk_size\", data=results, ax=ax);\n",
    "\n",
    "    plt.grid()\n",
    "    ax.set_xscale(\"log\")\n",
    "    ax.set_yscale(\"log\")\n",
    "\n",
    "\n",
    "    title = y.replace(\"_\", \" \").capitalize()\n",
    "    plt.suptitle(f\"{title} [{implementation}]\", fontsize=36)\n",
    "    ax.set_title(f\"D={D}\")\n",
    "\n",
    "    plt.savefig(plot_dir / f\"{dataset_name}_{implementation}_{y}.png\")\n",
    "\n",
    "def plot_sklearnknn(y=\"inference_time\"):\n",
    "    fig, ax = plt.subplots(figsize=(10,8))\n",
    "    N = results[\"N\"].to_numpy()\n",
    "    D = results[\"D\"].unique()\n",
    "\n",
    "    plt.plot(N, N*1e-5, ls=\"--\", color=\"red\",label=\"O(N)\");\n",
    "    if y != \"train_time\":\n",
    "        plt.plot(N, 1e-8*np.power(N, 2), ls=\"--\", color=\"blue\",label=\"O(N^2)\");\n",
    "    plt.plot(N, np.log10(N)*1e-2, ls=\"--\", color=\"green\",label=\"O(log(N))\");\n",
    "    sns.lineplot(x=\"N\", y=y, hue=\"algorithm\", data=results, ax=ax);\n",
    "\n",
    "    plt.grid()\n",
    "    ax.set_xscale(\"log\")\n",
    "    ax.set_yscale(\"log\")\n",
    "\n",
    "    title = y.replace(\"_\", \" \").capitalize()\n",
    "    plt.suptitle(f\"{title} [{implementation}]\", fontsize=36)\n",
    "    ax.set_title(f\"D={D}\")\n",
    "\n",
    "    plt.savefig(plot_dir / f\"{dataset_name}_{implementation}_{y}.png\")"
   ]
  },
  {
   "source": [
    "# Metro"
   ],
   "cell_type": "markdown",
   "metadata": {}
  },
  {
   "cell_type": "code",
   "execution_count": null,
   "metadata": {},
   "outputs": [],
   "source": [
    "data = project[\"Metro\"][\"data\"]\n",
    "dataset_name = \"Metro\"\n",
    "data"
   ]
  },
  {
   "source": [
    "## sklearn"
   ],
   "cell_type": "markdown",
   "metadata": {}
  },
  {
   "cell_type": "code",
   "execution_count": null,
   "metadata": {},
   "outputs": [],
   "source": [
    "implementation = \"sklearn\"\n",
    "results = data.xs(implementation)\n",
    "results.head()"
   ]
  },
  {
   "source": [
    "plot_sklearnknn(\"train_time\")\n",
    "plt.show()\n",
    "plt.clf()\n",
    "plot_sklearnknn(\"inference_time\")\n",
    "plt.show()\n",
    "plt.clf()\n",
    "plot_sklearnknn(\"total_time\")"
   ],
   "cell_type": "code",
   "metadata": {},
   "execution_count": null,
   "outputs": []
  },
  {
   "source": [
    "## MyKNN"
   ],
   "cell_type": "markdown",
   "metadata": {}
  },
  {
   "cell_type": "code",
   "execution_count": null,
   "metadata": {},
   "outputs": [],
   "source": [
    "implementation = \"myKNN\"\n",
    "\n",
    "results = data.xs(implementation)\n",
    "results"
   ]
  },
  {
   "cell_type": "code",
   "execution_count": null,
   "metadata": {},
   "outputs": [],
   "source": [
    "plot_myknn(\"train_time\")\n",
    "plt.show()\n",
    "plt.clf()\n",
    "plot_myknn(\"inference_time\")\n",
    "plt.show()\n",
    "plt.clf()\n",
    "plot_myknn(\"total_time\")"
   ]
  },
  {
   "source": [
    "# Superconductivity"
   ],
   "cell_type": "markdown",
   "metadata": {}
  },
  {
   "cell_type": "code",
   "execution_count": null,
   "metadata": {},
   "outputs": [],
   "source": [
    "data = project[\"Superconductivity\"][\"data\"]\n",
    "dataset_name = \"Superconductivity\"\n",
    "data"
   ]
  },
  {
   "source": [
    "## sklearn"
   ],
   "cell_type": "markdown",
   "metadata": {}
  },
  {
   "cell_type": "code",
   "execution_count": null,
   "metadata": {},
   "outputs": [],
   "source": [
    "implementation = \"sklearn\"\n",
    "results = data.xs(implementation)\n",
    "results.head()"
   ]
  },
  {
   "cell_type": "code",
   "execution_count": null,
   "metadata": {},
   "outputs": [],
   "source": [
    "plot_sklearnknn(\"train_time\")\n",
    "plt.show()\n",
    "plt.clf()\n",
    "plot_sklearnknn(\"inference_time\")\n",
    "plt.show()\n",
    "plt.clf()\n",
    "plot_sklearnknn(\"total_time\")"
   ]
  },
  {
   "source": [
    "# myKNN"
   ],
   "cell_type": "markdown",
   "metadata": {}
  },
  {
   "cell_type": "code",
   "execution_count": null,
   "metadata": {},
   "outputs": [],
   "source": [
    "implementation = \"myKNN\"\n",
    "\n",
    "results = data.xs(implementation)\n",
    "results"
   ]
  },
  {
   "cell_type": "code",
   "execution_count": null,
   "metadata": {},
   "outputs": [],
   "source": [
    "plot_myknn(\"train_time\")\n",
    "plt.show()\n",
    "plt.clf()\n",
    "plot_myknn(\"inference_time\")\n",
    "plt.show()\n",
    "plt.clf()\n",
    "plot_myknn(\"total_time\")"
   ]
  },
  {
   "cell_type": "code",
   "execution_count": null,
   "metadata": {},
   "outputs": [],
   "source": []
  }
 ]
}