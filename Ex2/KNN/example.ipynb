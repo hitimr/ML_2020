{
 "metadata": {
  "language_info": {
   "codemirror_mode": {
    "name": "ipython",
    "version": 3
   },
   "file_extension": ".py",
   "mimetype": "text/x-python",
   "name": "python",
   "nbconvert_exporter": "python",
   "pygments_lexer": "ipython3",
   "version": "3.8.6-final"
  },
  "orig_nbformat": 2,
  "kernelspec": {
   "name": "python3",
   "display_name": "Python 3.8.6 64-bit ('ML_2020': pipenv)",
   "metadata": {
    "interpreter": {
     "hash": "d6f8d2b41179c5e5fc034bbc40427a4395636c4d26988e51920bd3cc303b8725"
    }
   }
  }
 },
 "nbformat": 4,
 "nbformat_minor": 2,
 "cells": [
  {
   "cell_type": "code",
   "execution_count": null,
   "metadata": {},
   "outputs": [],
   "source": [
    "# required for importin modules from other directories\n",
    "import os,sys,inspect\n",
    "currentdir = os.path.dirname(os.path.abspath(inspect.getfile(inspect.currentframe())))\n",
    "parentdir = os.path.dirname(currentdir)\n",
    "sys.path.insert(0,parentdir) \n",
    "\n",
    "\n",
    "import numpy as np\n",
    "#from KNNRegressor import KNNRegressor\n",
    "import matplotlib.pyplot as plt\n",
    "import pandas as pd\n",
    "from sklearn.preprocessing import StandardScaler\n",
    "\n",
    "import config\n",
    "from common import DataParser\n",
    "from KNN.KNNRegressor import KNNRegressor"
   ]
  },
  {
   "cell_type": "code",
   "execution_count": null,
   "metadata": {},
   "outputs": [],
   "source": [
    "samples, values = [[0., 0., 0.], [0., .5, 0.], [1., 1., .5]], [0, 0.5, 2.5]\n",
    "neigh = KNNRegressor(n_neighbors=2, p=1,debug=True)\n",
    "neigh.fit(samples, values)\n",
    "result = neigh.predict(np.array([[0, 0., .1]]))\n",
    "print()\n",
    "should_be = 2.5\n",
    "print(f\"Result: (should be {should_be})\")\n",
    "print(f\"{result} -> {result==should_be}\")"
   ]
  },
  {
   "source": [
    "# House Prices Test"
   ],
   "cell_type": "markdown",
   "metadata": {}
  },
  {
   "cell_type": "code",
   "execution_count": null,
   "metadata": {},
   "outputs": [],
   "source": [
    "x_train, y_train = DataParser.parse_test_housePrices(splitData=True)\n",
    "\n",
    "k = 3\n",
    "p = 1\n",
    "weights = \"uniform\" #\"distance\"\n",
    "reg = KNNRegressor(n_neighbors=k, p=p, debug=True)\n",
    "reg.fit(x_train, y_train)\n",
    "\n",
    "display(reg)\n",
    "\n",
    "y_pred, distances = reg.predict(x_train.iloc[0:3,:], ret_distances=2)\n",
    "y_pred"
   ]
  },
  {
   "source": [
    "# Moneyball"
   ],
   "cell_type": "markdown",
   "metadata": {}
  },
  {
   "cell_type": "code",
   "execution_count": null,
   "metadata": {},
   "outputs": [],
   "source": [
    "df = DataParser.parse_moneyball(splitData=False)"
   ]
  },
  {
   "cell_type": "code",
   "execution_count": null,
   "metadata": {},
   "outputs": [],
   "source": [
    "numeric_features = [\"RS\", \"RA\", \"OBP\", \"SLG\", \"BA\", \"Playoffs\", \"G\", \"OOBP\", \"OSLG\"]"
   ]
  },
  {
   "cell_type": "code",
   "execution_count": null,
   "metadata": {},
   "outputs": [],
   "source": [
    "df = df[numeric_features + [\"W\"]]\n",
    "df.dropna(inplace=True)\n",
    "x = df[numeric_features]\n",
    "y = df[\"W\"]\n",
    "x, y"
   ]
  },
  {
   "cell_type": "code",
   "execution_count": null,
   "metadata": {},
   "outputs": [],
   "source": [
    "def split_XY(x, y):\n",
    "    x_train, x_split, y_train, y_split = train_test_split(x, y, test_size=0.4)\n",
    "    x_valid, x_test, y_valid, y_test = train_test_split(x_split, y_split, test_size=0.5)\n",
    "    return x_train, x_valid, x_test, y_train, y_valid, y_test\n",
    "\n",
    "def split_df(df):\n",
    "    train, split = train_test_split(df, test_size=0.4)\n",
    "    valid, test = train_test_split(split, test_size=0.5)\n",
    "    return y_train, y_valid, y_test\n",
    "\n",
    "def preprocess(df, scaler=None, ret_df=True):\n",
    "    numeric_features = [\"RS\", \"RA\", \"OBP\", \"SLG\", \"BA\", \"Playoffs\", \"G\", \"OOBP\", \"OSLG\"]\n",
    "    df = df[numeric_features + [\"W\"]]\n",
    "    df.dropna(inplace=True)\n",
    "    x = df[numeric_features]\n",
    "    if scaler:\n",
    "        x = scaler.fit_transform(x)\n",
    "    y = df[\"W\"]\n",
    "    return x, y, df\n",
    "\n",
    "def get_time(start, scale=1e-9):\n",
    "    return (timer() - start ) * scale"
   ]
  },
  {
   "cell_type": "code",
   "execution_count": null,
   "metadata": {},
   "outputs": [],
   "source": [
    "from time import time_ns as timer\n",
    "from sklearn.metrics import r2_score, mean_squared_error\n",
    "from sklearn.neighbors import KNeighborsRegressor as skKNN\n",
    "from sklearn.model_selection import train_test_split\n",
    "import pandas as pd\n",
    "\n",
    "\n",
    "COLS = [\"name\", \"param\", \"r2\", \"mse\", \"train_time\", \"inference_time\"]\n",
    "\n",
    "def experiment(df, models, scaler=None):\n",
    "    x, y, df = preprocess(df, scaler, ret_df=True)\n",
    "    x_train, x_valid, x_test, y_train, y_valid, y_test = split_XY(x, y)\n",
    "    \n",
    "    plt.figure(figsize=(10,8))\n",
    "\n",
    "\n",
    "    results = pd.DataFrame(columns=COLS)\n",
    "\n",
    "\n",
    "    for name, model in models.items():\n",
    "        params = model.get_params()\n",
    "        print(name)\n",
    "        display(model)\n",
    "        \n",
    "        train_time = timer()\n",
    "        model.fit(x_train, y_train)\n",
    "        train_time = get_time(train_time)\n",
    "\n",
    "        inference_time = timer()\n",
    "        predictions = model.predict(x_valid)\n",
    "        inference_time = get_time(inference_time)\n",
    "\n",
    "        r2 = r2_score(y_valid, predictions)\n",
    "        mse = mean_squared_error(y_valid, predictions)\n",
    "\n",
    "        result = {\n",
    "            \"name\": name,\n",
    "            \"param\": params[\"n_neighbors\"],\n",
    "            \"r2\": r2,\n",
    "            \"mse\": mse,\n",
    "            \"train_time\": train_time,\n",
    "            \"inference_time\": inference_time\n",
    "        }\n",
    "        results = results.append(result, ignore_index=True)\n",
    "        display(result)\n",
    "\n",
    "        marker = \"x\" if name==\"my_knn\" else \"p\"\n",
    "        ls = \"--\" if name==\"my_knn\" else \"-.\"\n",
    "        plt.plot(range(len(predictions)), predictions, linestyle=ls, marker=marker, markersize=5, label=name);\n",
    "\n",
    "    plt.plot(range(len(y_valid)), y_valid, linestyle=\"\", marker=\"o\", markersize=8, label=\"y_valid\");\n",
    "    plt.legend()\n",
    "    return results"
   ]
  },
  {
   "cell_type": "code",
   "execution_count": null,
   "metadata": {},
   "outputs": [],
   "source": [
    "models = []\n",
    "\n",
    "k = 5\n",
    "p = 2\n",
    "reg = KNNRegressor() #(k=k, p=p)\n",
    "\n",
    "knn = skKNN(algorithm=\"brute\")\n",
    "knn.get_params()\n",
    "\n",
    "knn2 = skKNN(algorithm=\"kd_tree\")\n",
    "knn3 = skKNN(algorithm=\"ball_tree\")\n",
    "\n",
    "models = [reg, knn]\n",
    "for x in models:\n",
    "    display(str(x)+\": \")\n",
    "    display(x.get_params())\n",
    "    print(\"_\"*30)\n",
    "\n",
    "models = {\"my_knn\": reg, \"sk_knn_brute\": knn, \"sk_knn_kd\": knn2, \"sk_knn_ball\": knn3}"
   ]
  },
  {
   "cell_type": "code",
   "execution_count": null,
   "metadata": {},
   "outputs": [],
   "source": [
    "\n",
    "scaler = None #StandardScaler()\n",
    "results = experiment(df, models, scaler=scaler)"
   ]
  },
  {
   "cell_type": "code",
   "execution_count": null,
   "metadata": {},
   "outputs": [],
   "source": [
    "results"
   ]
  },
  {
   "cell_type": "code",
   "execution_count": null,
   "metadata": {},
   "outputs": [],
   "source": []
  }
 ]
}