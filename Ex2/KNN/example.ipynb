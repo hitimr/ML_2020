{
 "metadata": {
  "language_info": {
   "codemirror_mode": {
    "name": "ipython",
    "version": 3
   },
   "file_extension": ".py",
   "mimetype": "text/x-python",
   "name": "python",
   "nbconvert_exporter": "python",
   "pygments_lexer": "ipython3",
   "version": "3.8.6-final"
  },
  "orig_nbformat": 2,
  "kernelspec": {
   "name": "python3",
   "display_name": "Python 3.8.6 64-bit ('ML_2020': pipenv)",
   "metadata": {
    "interpreter": {
     "hash": "d6f8d2b41179c5e5fc034bbc40427a4395636c4d26988e51920bd3cc303b8725"
    }
   }
  }
 },
 "nbformat": 4,
 "nbformat_minor": 2,
 "cells": [
  {
   "cell_type": "code",
   "execution_count": null,
   "metadata": {},
   "outputs": [],
   "source": [
    "# required for importin modules from other directories\n",
    "import os,sys,inspect\n",
    "currentdir = os.path.dirname(os.path.abspath(inspect.getfile(inspect.currentframe())))\n",
    "parentdir = os.path.dirname(currentdir)\n",
    "sys.path.insert(0,parentdir) \n",
    "\n",
    "\n",
    "import numpy as np\n",
    "#from KNNRegressor import KNNRegressor\n",
    "import matplotlib.pyplot as plt\n",
    "import pandas as pd\n",
    "from sklearn.preprocessing import StandardScaler\n",
    "\n",
    "import config\n",
    "from common import DataParser\n",
    "from KNN.KNNRegressor import KNNRegressor"
   ]
  },
  {
   "source": [
    "# ChunkViewer\n",
    "\n",
    "How to"
   ],
   "cell_type": "markdown",
   "metadata": {}
  },
  {
   "source": [
    "from math import floor\n",
    "import numpy as np\n",
    "from KNNRegressor import ChunkViewer\n",
    "\n",
    "## Deprecated\n",
    "def get_chunks(arr:np.ndarray, chunk_size:int):\n",
    "    chunk_size = chunk_size\n",
    "    samples = arr.shape[0]\n",
    "\n",
    "    if chunk_size > samples:\n",
    "        print(\"Can do it all in one chunk!\")\n",
    "        chunk_size = samples\n",
    "\n",
    "    print(f\"chunks in samples: floor({samples}/{chunk_size})={floor(samples/chunk_size)}\")\n",
    "\n",
    "    chunks = [(x*chunk_size, x*chunk_size+chunk_size) for x in range(floor(samples/chunk_size))]\n",
    "    remainder = samples%chunk_size\n",
    "    if remainder:\n",
    "        chunks += [(chunks[-1][1], chunks[-1][1] + remainder)]\n",
    "    return chunks"
   ],
   "cell_type": "code",
   "metadata": {},
   "execution_count": null,
   "outputs": []
  },
  {
   "cell_type": "code",
   "execution_count": null,
   "metadata": {},
   "outputs": [],
   "source": [
    "arr = np.zeros(10)\n",
    "chunks = get_chunks(arr, 2)\n",
    "chunks\n",
    "for chunk in chunks:\n",
    "    print(chunk)"
   ]
  },
  {
   "cell_type": "code",
   "execution_count": null,
   "metadata": {},
   "outputs": [],
   "source": [
    "arr = np.zeros(50).reshape(10,5)\n",
    "arr[2:4,:] = 1\n",
    "arr[4:6,:] = 2\n",
    "arr[6:8,:] = 3\n",
    "arr[8:,:] = 4\n",
    "\n",
    "arr"
   ]
  },
  {
   "cell_type": "code",
   "execution_count": null,
   "metadata": {},
   "outputs": [],
   "source": [
    "np.array_split(arr, 3)"
   ]
  },
  {
   "cell_type": "code",
   "execution_count": null,
   "metadata": {},
   "outputs": [],
   "source": [
    "viewer = ChunkViewer(4, 10)\n",
    "[x for x in viewer]\n",
    "\n",
    "#[x for x in viewer]"
   ]
  },
  {
   "cell_type": "code",
   "execution_count": null,
   "metadata": {},
   "outputs": [],
   "source": [
    "viewer = ChunkViewer(4, 10)\n",
    "[x for x in viewer.generator()]"
   ]
  },
  {
   "cell_type": "code",
   "execution_count": null,
   "metadata": {},
   "outputs": [],
   "source": [
    "viewer = ChunkViewer(4, 10)\n",
    "for x in viewer.generator(arr):\n",
    "    print(x)"
   ]
  },
  {
   "source": [
    "# KNNRegressor"
   ],
   "cell_type": "markdown",
   "metadata": {}
  },
  {
   "cell_type": "code",
   "execution_count": null,
   "metadata": {},
   "outputs": [],
   "source": [
    "samples, values = [[0., 0., 0.], [0., .5, 0.], [1., 1., .5]], [0, 0.5, 2.5]\n",
    "neigh = KNNRegressor(n_neighbors=2, p=1,debug=True)\n",
    "neigh.fit(samples, values)\n",
    "result = neigh.predict(np.array([[0, 0., .1]]))\n",
    "print()\n",
    "should_be = 0.25\n",
    "print(f\"Result: (should be {should_be})\")\n",
    "print(f\"{result} -> {result==should_be}\")"
   ]
  },
  {
   "source": [
    "# House Prices Test"
   ],
   "cell_type": "markdown",
   "metadata": {}
  },
  {
   "cell_type": "code",
   "execution_count": null,
   "metadata": {},
   "outputs": [],
   "source": [
    "class Test:\n",
    "    def __init__(self, val=1):\n",
    "        self._att = val\n",
    "    \n",
    "    @property\n",
    "    def att(self):\n",
    "        return self._att\n",
    "\n",
    "    @att.setter\n",
    "    def att(self, val):\n",
    "        self._att = val\n",
    "\n",
    "a = Test()\n",
    "print(a.att)\n",
    "a.att = 2\n",
    "a.att"
   ]
  },
  {
   "cell_type": "code",
   "execution_count": null,
   "metadata": {},
   "outputs": [],
   "source": [
    "x_train, y_train = DataParser.parse_test_housePrices(splitData=True)\n",
    "\n",
    "k = 3\n",
    "p = 1\n",
    "weights = \"uniform\" #\"distance\"\n",
    "reg = KNNRegressor(n_neighbors=k, p=p, debug=False)\n",
    "reg.fit(x_train, y_train)\n",
    "display(reg)\n",
    "\n",
    "print(\"Predict\")\n",
    "y_pred, n = reg.predict(x_train.iloc[0:3,:].to_numpy(), ret_distances=2)\n",
    "display(y_pred, n)\n",
    "\n",
    "print(\"Make this look like the above^\")\n",
    "reg.chunk_size = 2\n",
    "y_pred = reg.predict(x_train.iloc[0:3,:].to_numpy())\n",
    "display(y_pred)\n",
    "\n",
    "print(\"Nice\")\n"
   ]
  },
  {
   "source": [
    "# Moneyball"
   ],
   "cell_type": "markdown",
   "metadata": {}
  },
  {
   "cell_type": "code",
   "execution_count": null,
   "metadata": {},
   "outputs": [],
   "source": [
    "df = DataParser.parse_moneyball(splitData=False)"
   ]
  },
  {
   "cell_type": "code",
   "execution_count": null,
   "metadata": {},
   "outputs": [],
   "source": [
    "numeric_features = [\"RS\", \"RA\", \"OBP\", \"SLG\", \"BA\", \"Playoffs\", \"G\", \"OOBP\", \"OSLG\"]"
   ]
  },
  {
   "cell_type": "code",
   "execution_count": null,
   "metadata": {},
   "outputs": [],
   "source": [
    "df = df[numeric_features + [\"W\"]]\n",
    "df.dropna(inplace=True)\n",
    "x = df[numeric_features]\n",
    "y = df[\"W\"]\n",
    "x, y"
   ]
  },
  {
   "cell_type": "code",
   "execution_count": null,
   "metadata": {},
   "outputs": [],
   "source": [
    "def split_XY(x, y):\n",
    "    x_train, x_split, y_train, y_split = train_test_split(x, y, test_size=0.4)\n",
    "    x_valid, x_test, y_valid, y_test = train_test_split(x_split, y_split, test_size=0.5)\n",
    "    return x_train, x_valid, x_test, y_train, y_valid, y_test\n",
    "\n",
    "def split_df(df):\n",
    "    train, split = train_test_split(df, test_size=0.4)\n",
    "    valid, test = train_test_split(split, test_size=0.5)\n",
    "    return y_train, y_valid, y_test\n",
    "\n",
    "def preprocess(df, scaler=None, ret_df=True):\n",
    "    numeric_features = [\"RS\", \"RA\", \"OBP\", \"SLG\", \"BA\", \"Playoffs\", \"G\", \"OOBP\", \"OSLG\"]\n",
    "    df = df[numeric_features + [\"W\"]]\n",
    "    df.dropna(inplace=True)\n",
    "    x = df[numeric_features]\n",
    "    if scaler:\n",
    "        x = scaler.fit_transform(x)\n",
    "    y = df[\"W\"]\n",
    "    return x, y, df\n",
    "\n",
    "def get_time(start, scale=1e-9):\n",
    "    return (timer() - start ) * scale"
   ]
  },
  {
   "cell_type": "code",
   "execution_count": null,
   "metadata": {},
   "outputs": [],
   "source": [
    "from time import time_ns as timer\n",
    "from sklearn.metrics import r2_score, mean_squared_error\n",
    "from sklearn.neighbors import KNeighborsRegressor as skKNN\n",
    "from sklearn.model_selection import train_test_split\n",
    "import pandas as pd\n",
    "\n",
    "\n",
    "COLS = [\"name\", \"param\", \"r2\", \"mse\", \"train_time\", \"inference_time\"]\n",
    "\n",
    "def experiment(df, models, N=[1], scaler=None):\n",
    "    x, y, df = preprocess(df, scaler, ret_df=True)\n",
    "    x_train, x_test, y_train, y_test = train_test_split(x, y, test_size=0.2)\n",
    "    results = pd.DataFrame(columns=COLS)\n",
    "    plt.figure(figsize=(10,8))\n",
    "\n",
    "    for n in N:\n",
    "        n_train = int(n*len(y_train))\n",
    "        n_test = int(n*len(y_test))\n",
    "        x_train_sub, y_train_sub = x_train.iloc[:n_train,:], y_train.iloc[:n_train]\n",
    "        x_test_sub, y_test_sub = x_test.iloc[:n_test,:], y_test.iloc[:n_test]\n",
    "        for name, model in models.items():\n",
    "            params = model.get_params()\n",
    "            print(name)\n",
    "            #display(model)\n",
    "            \n",
    "            train_time = timer()\n",
    "            model.fit(x_train_sub, y_train_sub)\n",
    "            train_time = get_time(train_time)\n",
    "\n",
    "            inference_time = timer()\n",
    "            predictions = model.predict(x_test_sub)\n",
    "            inference_time = get_time(inference_time)\n",
    "\n",
    "            r2 = r2_score(y_test_sub, predictions)\n",
    "            mse = mean_squared_error(y_test_sub, predictions)\n",
    "\n",
    "            result = {\n",
    "                \"name\": name,\n",
    "                \"N\": n_train+n_test,\n",
    "                \"n_train\": n_train,\n",
    "                \"n_test\": n_test,\n",
    "                \"param\": params[\"n_neighbors\"],\n",
    "                \"r2\": r2,\n",
    "                \"mse\": mse,\n",
    "                \"train_time\": train_time,\n",
    "                \"inference_time\": inference_time\n",
    "            }\n",
    "            results = results.append(result, ignore_index=True)\n",
    "            #display(result)\n",
    "\n",
    "            marker = \"x\" if name==\"my_knn\" else \"p\"\n",
    "            ls = \"--\" if name==\"my_knn\" else \"-.\"\n",
    "            if n == N[-1]:\n",
    "                plt.plot(range(len(predictions)), predictions, linestyle=ls, marker=marker, markersize=5, label=name);\n",
    "        if n == N[-1]:\n",
    "            plt.plot(range(len(y_test)), y_test, linestyle=\"\", marker=\"o\", markersize=8, label=\"y_valid\");\n",
    "            plt.legend()\n",
    "    return results"
   ]
  },
  {
   "cell_type": "code",
   "execution_count": null,
   "metadata": {},
   "outputs": [],
   "source": [
    "models = []\n",
    "\n",
    "reg = KNNRegressor()\n",
    "reg2 = KNNRegressor()\n",
    "reg2.chunk_size = 20\n",
    "reg3 = KNNRegressor()\n",
    "reg3.chunk_size = 200\n",
    "reg4 = KNNRegressor()\n",
    "reg4.chunk_size = 400\n",
    "\n",
    "knn = skKNN(algorithm=\"brute\")\n",
    "knn2 = skKNN(algorithm=\"kd_tree\")\n",
    "knn3 = skKNN(algorithm=\"ball_tree\")\n",
    "\n",
    "models = {\"my_knn\": reg, f\"my_knn_chunked_{reg2.chunk_size}\": reg2, f\"my_knn_chunked_{reg3.chunk_size}\": reg3, f\"my_knn_chunked_{reg4.chunk_size}\": reg4, \"sk_knn_brute\": knn, \"sk_knn_kd\": knn2, \"sk_knn_ball\": knn3}\n",
    "for x in models:\n",
    "    display(str(x)+\": \")\n",
    "    display(models[x].get_params())\n",
    "    if not x == \"sk_knn_ball\":\n",
    "        print(\"_\"*30)\n"
   ]
  },
  {
   "cell_type": "code",
   "execution_count": null,
   "metadata": {},
   "outputs": [],
   "source": [
    "scaler = None #StandardScaler()\n",
    "N = [x for x in np.arange(0.2, 1.1, 0.2)]\n",
    "print(N)\n",
    "results = experiment(df, models, N, scaler=scaler)"
   ]
  },
  {
   "cell_type": "code",
   "execution_count": null,
   "metadata": {},
   "outputs": [],
   "source": [
    "results"
   ]
  },
  {
   "cell_type": "code",
   "execution_count": null,
   "metadata": {},
   "outputs": [],
   "source": [
    "MODEL = KNeighborsRegressor\n",
    "params = {\n",
    "    \"weights\" : [\"uniform\"],\n",
    "    \"algorithm\" : [\"brute\", \"kd_tree\", \"ball_tree\"]\n",
    "    }\n",
    "NAME = \"KNN\"\n",
    "PATH = \"out/\"+NAME+\"/\"\n",
    "\n",
    "modeltrainer = ModelTrainer(MODEL, params, X, Y, f_eval=r2_score)\n",
    "########### train with TrainTestSplit  ###################\n",
    "#modeltrainer.TTSplit(perc = 0.3)\n",
    "#modeltrainer.train()\n",
    "#res = modeltrainer.result\n",
    "#display(res)\n",
    "\n",
    "\n",
    "########### k-Fold Cross validation  ###################\n",
    "\n",
    "results_sklknn = modeltrainer.CV_shuffle_split(k = 6, test_size=0.3, random_state=42)\n",
    "#modeltrainer.CV_fold(k = 6)\n",
    "#modeltrainer.train()\n",
    "#res = modeltrainer.result\n",
    "display(results_sklknn)"
   ]
  },
  {
   "cell_type": "code",
   "execution_count": null,
   "metadata": {},
   "outputs": [],
   "source": [
    "MODEL = KNNRegressor\n",
    "params = {\n",
    "    \"weights\": [\"uniform\"], \n",
    "    \"chunk_size\": [200, 500, 1000]\n",
    "    }\n",
    "MODEL()\n",
    "subset_size = 1000#X.shape[0]\n",
    "modeltrainer = ModelTrainer(MODEL, params, X[:subset_size, ...], Y.iloc[:subset_size], thread_cnt=4)\n",
    "\n",
    "########### k-Fold Cross validation  ###################\n",
    "results_myknn = modeltrainer.CV_shuffle_split(k=6, test_size=0.3, random_state=42)\n",
    "#modeltrainer.train()"
   ]
  }
 ]
}