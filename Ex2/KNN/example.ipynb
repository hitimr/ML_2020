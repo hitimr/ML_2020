{
 "metadata": {
  "language_info": {
   "codemirror_mode": {
    "name": "ipython",
    "version": 3
   },
   "file_extension": ".py",
   "mimetype": "text/x-python",
   "name": "python",
   "nbconvert_exporter": "python",
   "pygments_lexer": "ipython3",
   "version": "3.8.6-final"
  },
  "orig_nbformat": 2,
  "kernelspec": {
   "name": "python3",
   "display_name": "Python 3.8.6 64-bit ('ML_2020': pipenv)",
   "metadata": {
    "interpreter": {
     "hash": "d6f8d2b41179c5e5fc034bbc40427a4395636c4d26988e51920bd3cc303b8725"
    }
   }
  }
 },
 "nbformat": 4,
 "nbformat_minor": 2,
 "cells": [
  {
   "cell_type": "code",
   "execution_count": 7,
   "metadata": {},
   "outputs": [],
   "source": [
    "# required for importin modules from other directories\n",
    "import os,sys,inspect\n",
    "currentdir = os.path.dirname(os.path.abspath(inspect.getfile(inspect.currentframe())))\n",
    "parentdir = os.path.dirname(currentdir)\n",
    "sys.path.insert(0,parentdir) \n",
    "\n",
    "\n",
    "import numpy as np\n",
    "#from KNNRegressor import KNNRegressor\n",
    "import matplotlib.pyplot as plt\n",
    "\n",
    "import config\n",
    "from common import DataParser"
   ]
  },
  {
   "cell_type": "code",
   "execution_count": 63,
   "metadata": {},
   "outputs": [],
   "source": [
    "import numpy as np\n",
    "import pandas as pd\n",
    "import matplotlib.pyplot as plt\n",
    "from time import time\n",
    "\n",
    "from sklearn import linear_model\n",
    "from sklearn.model_selection import train_test_split\n",
    "from sklearn.metrics import r2_score\n",
    "\n",
    "# required for importin modules from other directories\n",
    "import os, sys, inspect\n",
    "currentdir = os.path.dirname(\n",
    "    os.path.abspath(inspect.getfile(inspect.currentframe())))\n",
    "parentdir = os.path.dirname(currentdir)\n",
    "sys.path.insert(0, parentdir)\n",
    "\n",
    "import config\n",
    "from common import DataParser\n",
    "from common.runtime import runtime\n",
    "\n",
    "# def std_dist_func(a, b, p):\n",
    "#     diff = b - a\n",
    "#     print(diff)\n",
    "#     if p==1:\n",
    "#         dist = np.sum(np.abs(diff))\n",
    "#     elif p>1:\n",
    "#         dist = np.sqrt(np.sum(np.power(diff)))\n",
    "#     return dist, diff\n",
    "\n",
    "\n",
    "\n",
    "class KNNRegressor():\n",
    "    \"\"\"\n",
    "    Custom KNN Regressor implementation.\n",
    "\n",
    "    Reference:\n",
    "    (1): https://www.analyticsvidhya.com/blog/2018/03/introduction-k-neighbours-algorithm-clustering/\n",
    "    (2): https://towardsdatascience.com/k-nearest-neighbors-classification-from-scratch-with-numpy-cb222ecfeac1\n",
    "    (3): https://github.com/scikit-learn/scikit-learn/blob/0fb307bf3/sklearn/neighbors/_regression.py#L160\n",
    "\n",
    "    Basic flow:\n",
    "    1. Load the data\n",
    "    2. Initialise the value of k\n",
    "    3. For getting the predicted class, iterate from 1 to total number of training data points\n",
    "        3.1. Calculate the distance between test data and each row of training data. Here we will use Euclidean distance as our distance metric since it’s the most popular method. The other metrics that can be used are Chebyshev, cosine, etc.\n",
    "        3.2. Sort the calculated distances in ascending order based on distance values\n",
    "        3.3. Get top k rows from the sorted array\n",
    "        3.4. Get the most frequent class of these rows\n",
    "        3.5. Return the predicted class\n",
    "\n",
    "    \"\"\"\n",
    "\n",
    "    @runtime\n",
    "    def __init__(self,\n",
    "                 k: int = 4,\n",
    "                 p: int = 1,\n",
    "                 weights: str = \"uniform\",\n",
    "                 params_dict: dict = None,\n",
    "                 dist_func=np.linalg.norm):\n",
    "        self._training_x = []\n",
    "        self._training_y = []\n",
    "        self._num_samples = 0\n",
    "        self._params = {\"k\": k}\n",
    "        if params_dict:\n",
    "            self._params = params_dict\n",
    "        else:\n",
    "            self._params[\"k\"] = k\n",
    "            self._params[\"p\"] = p\n",
    "            self._params[\"weights\"] = weights\n",
    "\n",
    "        self._dist_func =  dist_func\n",
    "\n",
    "    @property\n",
    "    def training_data(self):\n",
    "        return self._training_x, self._training_y\n",
    "\n",
    "    @training_data.setter\n",
    "    def training_data(self, data):\n",
    "        if isinstance(data, tuple):\n",
    "            self._training_x = data[0], self._training_y = data[1]\n",
    "            self._num_samples = self._training_x.shape[0]\n",
    "        elif isinstance(data, dict):\n",
    "            data = {}\n",
    "            assert \"X\" in data.keys() and \"y\" in data.keys()\n",
    "            self._training_x = data[\"X\"], self._training_y = data[\"y\"]\n",
    "            self._num_samples = self._training_x.shape[0]\n",
    "\n",
    "    @training_data.setter\n",
    "    def training_data(self, X, y):\n",
    "        self._training_x = X, self._training_y = y\n",
    "        self._num_samples = self._training_x.shape[0]\n",
    "\n",
    "    @runtime\n",
    "    def fit(self, X, y):\n",
    "        \"\"\"Fit the model\n",
    "\n",
    "        Args: \n",
    "\n",
    "        Really just stores the data...\n",
    "        \"\"\"\n",
    "        self.sanitizeInputXy(X, y) # need to actually rebind X, y here :D --> use return values\n",
    "        self._training_x = X\n",
    "        self._training_y = y\n",
    "\n",
    "        if self._num_samples < self._params[\"k\"]:\n",
    "            print(\"k was too large - k > num_samples ==> resized k = num_samples\")\n",
    "            self._params[\"k\"] = self._num_samples\n",
    "        return self\n",
    "\n",
    "    def sanitizeInputXy(self, X, y):\n",
    "        # check if input is works. If so just return it\n",
    "        try:\n",
    "            self.check_Xy(X, y)\n",
    "            return X, y\n",
    "\n",
    "        except:\n",
    "\n",
    "            # Something is not algrigh with the input. Lets try to fix it\n",
    "            if isinstance(X, pd.DataFrame):\n",
    "                X = X.to_numpy().transpose()\n",
    "\n",
    "            else:\n",
    "                X = np.array(X)\n",
    "            if isinstance(y, pd.DataFrame):\n",
    "                y = y.to_numpy().flatten()\n",
    "            else:\n",
    "                y = np.array(y)\n",
    "\n",
    "            self.check_Xy(X, y)\n",
    "            return X, y\n",
    "\n",
    "    def check_Xy(self, X, y):\n",
    "        \"\"\" Convenience function.\n",
    "        Check if X and y are suitable arguments for further calculations\n",
    "        X must be a Matrix of size n x m\n",
    "        y must be a vector of size n\n",
    "\n",
    "        Args:\n",
    "            X (): [description]\n",
    "            y (): [description]    \n",
    "\n",
    "        Raises:\n",
    "            AssertionError: If any check fails\n",
    "        \"\"\"\n",
    "        assert isinstance(X, np.ndarray)  # wrong instance\n",
    "        assert isinstance(y, np.ndarray)  # wrong instance\n",
    "\n",
    "        assert len(y.shape) == 1  # y must be 1D\n",
    "        assert len(X.shape) == 2  # X must be 2D\n",
    "        assert len(X[0]) == len(y)  # dimensions must match\n",
    "\n",
    "    def __repr__(self):\n",
    "        return repr(\"KNNRegressor: \" + str(self._params))\n",
    "\n",
    "    def __str__(self):\n",
    "        k = self._params[\"k\"]\n",
    "        return f\"KNNRegressor with k={k}\"\n",
    "\n",
    "    def _get_weights(self, weight_type, arg):\n",
    "        if weight_type == \"uniform\":\n",
    "            return np.array([1/k for k in range(1, arg+1)])\n",
    "        if weight_type == \"distance\":\n",
    "        with np.errstate(divide='ignore'):\n",
    "                weights = 1. / arg\n",
    "            inf_mask = np.isinf(weights)\n",
    "            inf_row = np.any(inf_mask, axis=1)\n",
    "            weights[inf_row] = inf_mask[inf_row]\n",
    "            return weights\n",
    "        else:\n",
    "            raise(ValueError(\"Weights can be either uniform, distance\")\n",
    "\n",
    "    @runtime\n",
    "    def predict(self, X, ret_distances=0):\n",
    "        # TODO add functionality for single sample\n",
    "        if len(self._training_x) == 0 or len(self._training_y) == 0:\n",
    "            raise(SystemError(\"Model is not fitted\"))\n",
    "        if len(self._training_x) != len(self._training_y):\n",
    "            raise(SystemError(\"X,y - training data not equally long!\"))\n",
    "\n",
    "        if len(X.shape) != 1:\n",
    "            if X.shape[1] > 1:\n",
    "                # single instance\n",
    "                pass\n",
    "        else:\n",
    "            # single instance\n",
    "            pass\n",
    "        print(\"args\")\n",
    "        print(X)\n",
    "        print(ret_distances)\n",
    "        print(\"params\")\n",
    "        print(self._params)\n",
    "\n",
    "        # should be at least 2D np.arrays --> so matrices\n",
    "        if isinstance(self._training_x, pd.DataFrame):\n",
    "            diff = self._training_x.to_numpy()\n",
    "        else:\n",
    "            diff = self._training_x\n",
    "        if isinstance(X, pd.DataFrame):\n",
    "            diff = diff - X.to_numpy()[:,np.newaxis,:]\n",
    "        else:\n",
    "            diff = diff - X[:,np.newaxis,:]\n",
    "        print(\"diff:\")\n",
    "        print(diff)\n",
    "        distances = self._dist_func(diff, ord=self._params[\"p\"], axis=2)\n",
    "        print(\"distances\")\n",
    "        print(distances)\n",
    "\n",
    "        sorted = np.sort(distances)\n",
    "        print(\"sorted distances\")\n",
    "        print(sorted)\n",
    "        y = []\n",
    "        if self._params[\"weights\"] is None or self._params[\"weights\"] is \"uniform\":\n",
    "            print(self._params[\"weights\"])\n",
    "            y = np.mean(sorted[:,:self._params[\"k\"]], axis=0)\n",
    "\n",
    "        if ret_distances == 1:\n",
    "            return y, distances\n",
    "        if ret_distances == 2:\n",
    "            return y, sorted\n",
    "        return y\n"
   ]
  },
  {
   "cell_type": "code",
   "execution_count": 64,
   "metadata": {},
   "outputs": [
    {
     "output_type": "stream",
     "name": "stdout",
     "text": [
      "Timing __init__... Measured runtime: 9.05991e-06s\nTiming fit... k was too large - k > num_samples ==> resized k = num_samples\nMeasured runtime: 1.04904e-04s\n"
     ]
    },
    {
     "output_type": "display_data",
     "data": {
      "text/plain": "\"KNNRegressor: {'k': 0, 'p': 1, 'weights': 'uniform'}\""
     },
     "metadata": {}
    },
    {
     "output_type": "stream",
     "name": "stdout",
     "text": [
      "Timing predict... args\n   rooms  size  age\n0      1    35    1\n1      4   120   20\n2      3    85   10\n2\nparams\n{'k': 0, 'p': 1, 'weights': 'uniform'}\ndiff:\n[[[  0   0   0]\n  [  3  85  19]\n  [  2  50   9]\n  [  2  43   1]\n  [  1  19   4]]\n\n [[ -3 -85 -19]\n  [  0   0   0]\n  [ -1 -35 -10]\n  [ -1 -42 -18]\n  [ -2 -66 -15]]\n\n [[ -2 -50  -9]\n  [  1  35  10]\n  [  0   0   0]\n  [  0  -7  -8]\n  [ -1 -31  -5]]]\ndistances\n[[  0. 107.  61.  46.  24.]\n [107.   0.  46.  61.  83.]\n [ 61.  46.   0.  15.  37.]]\nsorted distances\n[[  0.  24.  46.  61. 107.]\n [  0.  46.  61.  83. 107.]\n [  0.  15.  37.  46.  61.]]\nuniform\nMeasured runtime: 5.42116e-03s\n"
     ]
    },
    {
     "output_type": "execute_result",
     "data": {
      "text/plain": [
       "array([], dtype=float64)"
      ]
     },
     "metadata": {},
     "execution_count": 64
    }
   ],
   "source": [
    "x_train, y_train = DataParser.parse_test_housePrices(splitData=True)\n",
    "\n",
    "\n",
    "k = 2\n",
    "p = 1\n",
    "reg = KNNRegressor(k=k, p=p)\n",
    "reg.fit(x_train, y_train)\n",
    "\n",
    "display(reg)\n",
    "\n",
    "y_pred, distances = reg.predict(x_train.iloc[0:3,:], ret_distances=2)\n",
    "y_pred"
   ]
  },
  {
   "cell_type": "code",
   "execution_count": 50,
   "metadata": {},
   "outputs": [
    {
     "output_type": "execute_result",
     "data": {
      "text/plain": [
       "array([[ 0.        , 19.4422221 , 43.05810028, 50.84289528, 87.14929719]])"
      ]
     },
     "metadata": {},
     "execution_count": 50
    }
   ],
   "source": [
    "distances"
   ]
  },
  {
   "cell_type": "code",
   "execution_count": 51,
   "metadata": {},
   "outputs": [
    {
     "output_type": "execute_result",
     "data": {
      "text/plain": [
       "28.33580441349755"
      ]
     },
     "metadata": {},
     "execution_count": 51
    }
   ],
   "source": [
    "np.mean(distances[0,0:4])"
   ]
  },
  {
   "cell_type": "code",
   "execution_count": 15,
   "metadata": {},
   "outputs": [
    {
     "output_type": "execute_result",
     "data": {
      "text/plain": [
       "50.84289527554464"
      ]
     },
     "metadata": {},
     "execution_count": 15
    }
   ],
   "source": [
    "math.sqrt( 2*2 +  50* 50   + 9*9)"
   ]
  },
  {
   "cell_type": "code",
   "execution_count": null,
   "metadata": {},
   "outputs": [],
   "source": []
  }
 ]
}