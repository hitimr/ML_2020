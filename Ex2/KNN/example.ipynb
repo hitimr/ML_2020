{
 "metadata": {
  "language_info": {
   "codemirror_mode": {
    "name": "ipython",
    "version": 3
   },
   "file_extension": ".py",
   "mimetype": "text/x-python",
   "name": "python",
   "nbconvert_exporter": "python",
   "pygments_lexer": "ipython3",
   "version": "3.8.6-final"
  },
  "orig_nbformat": 2,
  "kernelspec": {
   "name": "python3",
   "display_name": "Python 3.8.6 64-bit ('ML_2020': pipenv)",
   "metadata": {
    "interpreter": {
     "hash": "d6f8d2b41179c5e5fc034bbc40427a4395636c4d26988e51920bd3cc303b8725"
    }
   }
  }
 },
 "nbformat": 4,
 "nbformat_minor": 2,
 "cells": [
  {
   "cell_type": "code",
   "execution_count": 1,
   "metadata": {},
   "outputs": [],
   "source": [
    "# required for importin modules from other directories\n",
    "import os,sys,inspect\n",
    "currentdir = os.path.dirname(os.path.abspath(inspect.getfile(inspect.currentframe())))\n",
    "parentdir = os.path.dirname(currentdir)\n",
    "sys.path.insert(0,parentdir) \n",
    "\n",
    "\n",
    "import numpy as np\n",
    "#from KNNRegressor import KNNRegressor\n",
    "import matplotlib.pyplot as plt\n",
    "import pandas as pd\n",
    "from sklearn.preprocessing import StandardScaler\n",
    "\n",
    "import config\n",
    "from common import DataParser\n",
    "from KNN.KNNRegressor import KNNRegressor"
   ]
  },
  {
   "cell_type": "code",
   "execution_count": 2,
   "metadata": {},
   "outputs": [
    {
     "output_type": "stream",
     "name": "stdout",
     "text": [
      "Trying to fix...\nargs\n[[1. 1. 1.]]\n0\nparams\n{'n_neighbors': 1, 'p': 2, 'weights': 'uniform'}\ndiff:\n[[[-1.  -1.  -1. ]\n  [-1.  -0.5 -1. ]\n  [ 0.   0.  -0.5]]]\ndistances\n[1.73205081 1.5        0.5       ]\nneighbors\nint64\n[2]\nuniform\nneighbors\nint64\n[2]\nsubset (taken from axis=1):\n"
     ]
    },
    {
     "output_type": "error",
     "ename": "AttributeError",
     "evalue": "'list' object has no attribute 'ndim'",
     "traceback": [
      "\u001b[0;31m---------------------------------------------------------------------------\u001b[0m",
      "\u001b[0;31mAttributeError\u001b[0m                            Traceback (most recent call last)",
      "\u001b[0;32m<ipython-input-2-16cd1871744a>\u001b[0m in \u001b[0;36m<module>\u001b[0;34m\u001b[0m\n\u001b[1;32m      5\u001b[0m \u001b[0mneigh\u001b[0m\u001b[0;34m.\u001b[0m\u001b[0mfit\u001b[0m\u001b[0;34m(\u001b[0m\u001b[0msamples\u001b[0m\u001b[0;34m,\u001b[0m \u001b[0;34m[\u001b[0m\u001b[0;36m0\u001b[0m\u001b[0;34m,\u001b[0m \u001b[0;36m0.5\u001b[0m\u001b[0;34m,\u001b[0m \u001b[0;36m2.5\u001b[0m\u001b[0;34m]\u001b[0m\u001b[0;34m)\u001b[0m\u001b[0;34m\u001b[0m\u001b[0;34m\u001b[0m\u001b[0m\n\u001b[1;32m      6\u001b[0m \u001b[0;34m\u001b[0m\u001b[0m\n\u001b[0;32m----> 7\u001b[0;31m \u001b[0mprint\u001b[0m\u001b[0;34m(\u001b[0m\u001b[0mneigh\u001b[0m\u001b[0;34m.\u001b[0m\u001b[0mpredict\u001b[0m\u001b[0;34m(\u001b[0m\u001b[0mnp\u001b[0m\u001b[0;34m.\u001b[0m\u001b[0marray\u001b[0m\u001b[0;34m(\u001b[0m\u001b[0;34m[\u001b[0m\u001b[0;34m[\u001b[0m\u001b[0;36m1.\u001b[0m\u001b[0;34m,\u001b[0m \u001b[0;36m1.\u001b[0m\u001b[0;34m,\u001b[0m \u001b[0;36m1.\u001b[0m\u001b[0;34m]\u001b[0m\u001b[0;34m]\u001b[0m\u001b[0;34m)\u001b[0m\u001b[0;34m)\u001b[0m\u001b[0;34m)\u001b[0m\u001b[0;34m\u001b[0m\u001b[0;34m\u001b[0m\u001b[0m\n\u001b[0m",
      "\u001b[0;32m~/Code/ML_2020/Ex2/KNN/KNNRegressor.py\u001b[0m in \u001b[0;36mpredict\u001b[0;34m(self, X, ret_distances)\u001b[0m\n\u001b[1;32m    175\u001b[0m \u001b[0;34m\u001b[0m\u001b[0m\n\u001b[1;32m    176\u001b[0m             \u001b[0;31m# multiple instances\u001b[0m\u001b[0;34m\u001b[0m\u001b[0;34m\u001b[0m\u001b[0;34m\u001b[0m\u001b[0m\n\u001b[0;32m--> 177\u001b[0;31m             \u001b[0;32mreturn\u001b[0m \u001b[0mself\u001b[0m\u001b[0;34m.\u001b[0m\u001b[0m_predict_multi\u001b[0m\u001b[0;34m(\u001b[0m\u001b[0mX\u001b[0m\u001b[0;34m,\u001b[0m \u001b[0mret_distances\u001b[0m\u001b[0;34m)\u001b[0m\u001b[0;34m\u001b[0m\u001b[0;34m\u001b[0m\u001b[0m\n\u001b[0m\u001b[1;32m    178\u001b[0m \u001b[0;34m\u001b[0m\u001b[0m\n\u001b[1;32m    179\u001b[0m         \u001b[0;31m# single instances\u001b[0m\u001b[0;34m\u001b[0m\u001b[0;34m\u001b[0m\u001b[0;34m\u001b[0m\u001b[0m\n",
      "\u001b[0;32m~/Code/ML_2020/Ex2/KNN/KNNRegressor.py\u001b[0m in \u001b[0;36m_predict_multi\u001b[0;34m(self, X, ret_distances)\u001b[0m\n\u001b[1;32m    236\u001b[0m             \u001b[0maxis\u001b[0m \u001b[0;34m=\u001b[0m \u001b[0;36m1\u001b[0m\u001b[0;34m\u001b[0m\u001b[0;34m\u001b[0m\u001b[0m\n\u001b[1;32m    237\u001b[0m             \u001b[0mprint\u001b[0m\u001b[0;34m(\u001b[0m\u001b[0;34mf\"subset (taken from axis={axis}):\"\u001b[0m\u001b[0;34m)\u001b[0m\u001b[0;34m\u001b[0m\u001b[0;34m\u001b[0m\u001b[0m\n\u001b[0;32m--> 238\u001b[0;31m             \u001b[0msubset\u001b[0m \u001b[0;34m=\u001b[0m \u001b[0mnp\u001b[0m\u001b[0;34m.\u001b[0m\u001b[0mtake_along_axis\u001b[0m\u001b[0;34m(\u001b[0m\u001b[0mself\u001b[0m\u001b[0;34m.\u001b[0m\u001b[0m_training_x\u001b[0m\u001b[0;34m,\u001b[0m \u001b[0mneighbors\u001b[0m\u001b[0;34m,\u001b[0m \u001b[0maxis\u001b[0m\u001b[0;34m=\u001b[0m\u001b[0maxis\u001b[0m\u001b[0;34m)\u001b[0m\u001b[0;34m\u001b[0m\u001b[0;34m\u001b[0m\u001b[0m\n\u001b[0m\u001b[1;32m    239\u001b[0m             \u001b[0mprint\u001b[0m\u001b[0;34m(\u001b[0m\u001b[0msubset\u001b[0m\u001b[0;34m)\u001b[0m\u001b[0;34m\u001b[0m\u001b[0;34m\u001b[0m\u001b[0m\n\u001b[1;32m    240\u001b[0m             \u001b[0my\u001b[0m \u001b[0;34m=\u001b[0m \u001b[0mnp\u001b[0m\u001b[0;34m.\u001b[0m\u001b[0mmean\u001b[0m\u001b[0;34m(\u001b[0m\u001b[0msubset\u001b[0m\u001b[0;34m,\u001b[0m \u001b[0maxis\u001b[0m\u001b[0;34m=\u001b[0m\u001b[0;36m1\u001b[0m\u001b[0;34m)\u001b[0m\u001b[0;34m\u001b[0m\u001b[0;34m\u001b[0m\u001b[0m\n",
      "\u001b[0;32m<__array_function__ internals>\u001b[0m in \u001b[0;36mtake_along_axis\u001b[0;34m(*args, **kwargs)\u001b[0m\n",
      "\u001b[0;32m~/.local/share/virtualenvs/ML_2020-8PJoZtYC/lib/python3.8/site-packages/numpy/lib/shape_base.py\u001b[0m in \u001b[0;36mtake_along_axis\u001b[0;34m(arr, indices, axis)\u001b[0m\n\u001b[1;32m    164\u001b[0m         \u001b[0maxis\u001b[0m \u001b[0;34m=\u001b[0m \u001b[0;36m0\u001b[0m\u001b[0;34m\u001b[0m\u001b[0;34m\u001b[0m\u001b[0m\n\u001b[1;32m    165\u001b[0m     \u001b[0;32melse\u001b[0m\u001b[0;34m:\u001b[0m\u001b[0;34m\u001b[0m\u001b[0;34m\u001b[0m\u001b[0m\n\u001b[0;32m--> 166\u001b[0;31m         \u001b[0maxis\u001b[0m \u001b[0;34m=\u001b[0m \u001b[0mnormalize_axis_index\u001b[0m\u001b[0;34m(\u001b[0m\u001b[0maxis\u001b[0m\u001b[0;34m,\u001b[0m \u001b[0marr\u001b[0m\u001b[0;34m.\u001b[0m\u001b[0mndim\u001b[0m\u001b[0;34m)\u001b[0m\u001b[0;34m\u001b[0m\u001b[0;34m\u001b[0m\u001b[0m\n\u001b[0m\u001b[1;32m    167\u001b[0m         \u001b[0marr_shape\u001b[0m \u001b[0;34m=\u001b[0m \u001b[0marr\u001b[0m\u001b[0;34m.\u001b[0m\u001b[0mshape\u001b[0m\u001b[0;34m\u001b[0m\u001b[0;34m\u001b[0m\u001b[0m\n\u001b[1;32m    168\u001b[0m \u001b[0;34m\u001b[0m\u001b[0m\n",
      "\u001b[0;31mAttributeError\u001b[0m: 'list' object has no attribute 'ndim'"
     ]
    }
   ],
   "source": [
    "samples = [[0., 0., 0.], [0., .5, 0.], [1., 1., .5]]\n",
    "neigh = KNNRegressor(n_neighbors=1, debug=True)\n",
    "neigh.fit(samples, [0, 0.5, 2.5])\n",
    "\n",
    "print(neigh.predict(np.array([[1., 1., 1.]])))"
   ]
  },
  {
   "cell_type": "code",
   "execution_count": null,
   "metadata": {},
   "outputs": [],
   "source": [
    "x = np.array([5, 4, 2, 1])\n",
    "indices = np.argpartition(x, 3)\n",
    "indices, x[indices]\n",
    "\n",
    "#x[np.argpartition(x, (1, 3))]"
   ]
  },
  {
   "source": [
    "# House Prices Test"
   ],
   "cell_type": "markdown",
   "metadata": {}
  },
  {
   "cell_type": "code",
   "execution_count": null,
   "metadata": {},
   "outputs": [],
   "source": [
    "x_train, y_train = DataParser.parse_test_housePrices(splitData=True)\n",
    "\n",
    "k = 3\n",
    "p = 1\n",
    "weights = \"uniform\" #\"distance\"\n",
    "reg = KNNRegressor(n_neighbors=k, p=p)\n",
    "reg.fit(x_train, y_train)\n",
    "\n",
    "display(reg)\n",
    "\n",
    "y_pred, distances = reg.predict(x_train.iloc[0:3,:], ret_distances=2)\n",
    "y_pred"
   ]
  },
  {
   "source": [
    "# Moneyball"
   ],
   "cell_type": "markdown",
   "metadata": {}
  },
  {
   "cell_type": "code",
   "execution_count": null,
   "metadata": {},
   "outputs": [],
   "source": [
    "df = DataParser.parse_moneyball(splitData=False)"
   ]
  },
  {
   "cell_type": "code",
   "execution_count": null,
   "metadata": {},
   "outputs": [],
   "source": [
    "numeric_features = [\"RS\", \"RA\", \"OBP\", \"SLG\", \"BA\", \"Playoffs\", \"G\", \"OOBP\", \"OSLG\"]"
   ]
  },
  {
   "cell_type": "code",
   "execution_count": null,
   "metadata": {},
   "outputs": [],
   "source": [
    "df = df[numeric_features + [\"W\"]]\n",
    "df.dropna(inplace=True)\n",
    "x = df[numeric_features]\n",
    "y = df[\"W\"]\n",
    "x, y"
   ]
  },
  {
   "cell_type": "code",
   "execution_count": null,
   "metadata": {},
   "outputs": [],
   "source": [
    "def split_XY(x, y):\n",
    "    x_train, x_split, y_train, y_split = train_test_split(x, y, test_size=0.4)\n",
    "    x_valid, x_test, y_valid, y_test = train_test_split(x_split, y_split, test_size=0.5)\n",
    "    return x_train, x_valid, x_test, y_train, y_valid, y_test\n",
    "\n",
    "def split_df(df):\n",
    "    train, split = train_test_split(df, test_size=0.4)\n",
    "    valid, test = train_test_split(split, test_size=0.5)\n",
    "    return y_train, y_valid, y_test\n",
    "\n",
    "def preprocess(df, scaler=None, ret_df=True):\n",
    "    numeric_features = [\"RS\", \"RA\", \"OBP\", \"SLG\", \"BA\", \"Playoffs\", \"G\", \"OOBP\", \"OSLG\"]\n",
    "    df = df[numeric_features + [\"W\"]]\n",
    "    df.dropna(inplace=True)\n",
    "    x = df[numeric_features]\n",
    "    if scaler:\n",
    "        x = scaler.fit_transform(x)\n",
    "    y = df[\"W\"]\n",
    "    return x, y, df\n",
    "\n",
    "def get_time(start, scale=1e-9):\n",
    "    return (timer() - start ) * scale"
   ]
  },
  {
   "cell_type": "code",
   "execution_count": null,
   "metadata": {},
   "outputs": [],
   "source": [
    "from time import time_ns as timer\n",
    "from sklearn.metrics import r2_score, mean_squared_error\n",
    "from sklearn.neighbors import KNeighborsRegressor as skKNN\n",
    "from sklearn.model_selection import train_test_split\n",
    "import pandas as pd\n",
    "\n",
    "\n",
    "COLS = [\"name\", \"param\", \"r2\", \"mse\", \"train_time\", \"inference_time\"]\n",
    "\n",
    "def experiment(df, models, scaler=None):\n",
    "    x, y, df = preprocess(df, scaler, ret_df=True)\n",
    "    x_train, x_valid, x_test, y_train, y_valid, y_test = split_XY(x, y)\n",
    "    \n",
    "    plt.figure(figsize=(10,8))\n",
    "\n",
    "    plt.plot(range(len(y_valid)), y_valid, linestyle=\"\", marker=\"o\", markersize=2, label=\"y_valid\");\n",
    "\n",
    "    results = pd.DataFrame(columns=COLS)\n",
    "\n",
    "\n",
    "    for name, model in models.items():\n",
    "        params = model.get_params()\n",
    "        print(name)\n",
    "        display(model)\n",
    "        \n",
    "        train_time = timer()\n",
    "        model.fit(x_train, y_train)\n",
    "        train_time = get_time(train_time)\n",
    "\n",
    "        inference_time = timer()\n",
    "        predictions = model.predict(x_valid)\n",
    "        inference_time = get_time(inference_time)\n",
    "\n",
    "        r2 = r2_score(y_valid, predictions)\n",
    "        mse = mean_squared_error(y_valid, predictions)\n",
    "\n",
    "        result = {\n",
    "            \"name\": name,\n",
    "            \"param\": params[\"n_neighbors\"],\n",
    "            \"r2\": r2,\n",
    "            \"mse\": mse,\n",
    "            \"train_time\": train_time,\n",
    "            \"inference_time\": inference_time\n",
    "        }\n",
    "        results = results.append(result, ignore_index=True)\n",
    "        display(result)\n",
    "\n",
    "        plt.plot(range(len(predictions)), predictions, linestyle=\"-\", marker=\"x\", markersize=2, label=name);\n",
    "\n",
    "\n",
    "    return results"
   ]
  },
  {
   "cell_type": "code",
   "execution_count": null,
   "metadata": {},
   "outputs": [],
   "source": [
    "models = []\n",
    "\n",
    "k = 5\n",
    "p = 2\n",
    "reg = KNNRegressor() #(k=k, p=p)\n",
    "\n",
    "knn = skKNN()\n",
    "knn.get_params()\n",
    "\n",
    "models = [reg, knn]\n",
    "for x in models:\n",
    "    display(str(x)+\": \")\n",
    "    display(x.get_params())\n",
    "    print(\"_\"*30)\n",
    "\n",
    "models = {\"my_knn\": reg, \"sk_knn\": knn}"
   ]
  },
  {
   "cell_type": "code",
   "execution_count": null,
   "metadata": {},
   "outputs": [],
   "source": [
    "\n",
    "scaler = None #StandardScaler()\n",
    "results = experiment(df, models, scaler=scaler)"
   ]
  },
  {
   "cell_type": "code",
   "execution_count": null,
   "metadata": {},
   "outputs": [],
   "source": [
    "results"
   ]
  },
  {
   "cell_type": "code",
   "execution_count": null,
   "metadata": {},
   "outputs": [],
   "source": []
  }
 ]
}